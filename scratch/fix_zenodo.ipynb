{
 "cells": [
  {
   "cell_type": "code",
   "execution_count": 1,
   "id": "a7f14abe-fbdc-4ceb-af15-6976ea7bee13",
   "metadata": {},
   "outputs": [],
   "source": [
    "from h5rdmtoolbox.repository import zenodo"
   ]
  },
  {
   "cell_type": "code",
   "execution_count": 2,
   "id": "d10fed9e-4d64-4576-9a0c-1b8099e7e390",
   "metadata": {},
   "outputs": [],
   "source": [
    "repo = zenodo.ZenodoRecord(12526361)"
   ]
  },
  {
   "cell_type": "code",
   "execution_count": 4,
   "id": "eedbd3c6-0512-4076-801c-a6dd0890c6c2",
   "metadata": {},
   "outputs": [],
   "source": [
    "m = repo.get_metadata()"
   ]
  },
  {
   "cell_type": "code",
   "execution_count": 5,
   "id": "869af388-e603-48a2-9dee-e6391816eeee",
   "metadata": {},
   "outputs": [
    {
     "data": {
      "text/plain": [
       "{'title': 'Tutorial Standard Attribute Definition',\n",
       " 'doi': '10.5281/zenodo.10428822',\n",
       " 'publication_date': '2023-12-24',\n",
       " 'description': '<p>A YAML file containing definitions of standard attributes used as part of the documentation of the <a href=\"http://h5rdmtoolbox.readthedocs.io/\">h5RDMtoolbox</a>. It serves as a <a href=\"https://h5rdmtoolbox.readthedocs.io/en/latest/userguide/convention/index.html\">convention</a> on how attributes are used in HDF5 files.</p>\\n    <p>Works with h5RDMtoolbox&gt;v1.0.0.</p>\\n    <p>`</p>',\n",
       " 'access_right': 'open',\n",
       " 'creators': [{'name': 'Probst, Matthias',\n",
       "   'affiliation': 'Karlsruhe Institute of Technology',\n",
       "   'orcid': '0000-0001-8729-0482'}],\n",
       " 'keywords': ['HDF5', 'Convention', 'h5rdmtoolbox', 'data management'],\n",
       " 'version': '3.1.0',\n",
       " 'language': 'eng',\n",
       " 'license': 'cc-by-4.0',\n",
       " 'imprint_publisher': 'Zenodo',\n",
       " 'upload_type': 'other',\n",
       " 'prereserve_doi': {'doi': '10.5281/zenodo.12526361', 'recid': 12526361}}"
      ]
     },
     "execution_count": 5,
     "metadata": {},
     "output_type": "execute_result"
    }
   ],
   "source": [
    "m"
   ]
  },
  {
   "cell_type": "code",
   "execution_count": 6,
   "id": "62152417-01b2-4323-aef5-9bbe9814d02e",
   "metadata": {},
   "outputs": [
    {
     "data": {
      "text/plain": [
       "{'doi': '10.5281/zenodo.12526361', 'recid': 12526361}"
      ]
     },
     "execution_count": 6,
     "metadata": {},
     "output_type": "execute_result"
    }
   ],
   "source": [
    "m.pop('prereserve_doi')"
   ]
  },
  {
   "cell_type": "code",
   "execution_count": 10,
   "id": "d33d33d2-f9de-4524-936d-5e06ac581702",
   "metadata": {},
   "outputs": [
    {
     "data": {
      "text/plain": [
       "'10.5281/zenodo.10428822'"
      ]
     },
     "execution_count": 10,
     "metadata": {},
     "output_type": "execute_result"
    }
   ],
   "source": [
    "m.pop('doi')"
   ]
  },
  {
   "cell_type": "code",
   "execution_count": 11,
   "id": "09f1c949-bd84-4b89-a7df-b0db2bda578c",
   "metadata": {},
   "outputs": [],
   "source": [
    "repo.set_metadata(m)"
   ]
  },
  {
   "cell_type": "code",
   "execution_count": 12,
   "id": "aa5c4b8e-cc83-4d6e-879c-a37158ef059c",
   "metadata": {},
   "outputs": [
    {
     "data": {
      "text/plain": [
       "<Response [400]>"
      ]
     },
     "execution_count": 12,
     "metadata": {},
     "output_type": "execute_result"
    }
   ],
   "source": [
    "repo.delete()"
   ]
  },
  {
   "cell_type": "code",
   "execution_count": 13,
   "id": "fb1a0edb-787f-4827-b3a6-3a39aa980033",
   "metadata": {},
   "outputs": [],
   "source": [
    "repo.unlock()"
   ]
  },
  {
   "cell_type": "code",
   "execution_count": 16,
   "id": "20e9e2b6-4505-4ea4-a662-3eb73bb2db04",
   "metadata": {},
   "outputs": [
    {
     "data": {
      "text/plain": [
       "{'title': 'Tutorial Standard Attribute Definition',\n",
       " 'doi': '10.5281/zenodo.10428822',\n",
       " 'publication_date': '2023-12-24',\n",
       " 'description': '<p>A YAML file containing definitions of standard attributes used as part of the documentation of the <a href=\"http://h5rdmtoolbox.readthedocs.io/\">h5RDMtoolbox</a>. It serves as a <a href=\"https://h5rdmtoolbox.readthedocs.io/en/latest/userguide/convention/index.html\">convention</a> on how attributes are used in HDF5 files.</p>\\n    <p>Works with h5RDMtoolbox&gt;v1.0.0.</p>\\n    <p>`</p>',\n",
       " 'access_right': 'open',\n",
       " 'creators': [{'name': 'Probst, Matthias',\n",
       "   'affiliation': 'Karlsruhe Institute of Technology',\n",
       "   'orcid': '0000-0001-8729-0482'}],\n",
       " 'keywords': ['HDF5', 'Convention', 'h5rdmtoolbox', 'data management'],\n",
       " 'version': '3.1.0',\n",
       " 'language': 'eng',\n",
       " 'license': 'cc-by-4.0',\n",
       " 'imprint_publisher': 'Zenodo',\n",
       " 'upload_type': 'other',\n",
       " 'prereserve_doi': {'doi': '10.5281/zenodo.12526361', 'recid': 12526361}}"
      ]
     },
     "execution_count": 16,
     "metadata": {},
     "output_type": "execute_result"
    }
   ],
   "source": [
    "repo.get_metadata()"
   ]
  },
  {
   "cell_type": "code",
   "execution_count": null,
   "id": "2da2f3cb-bf26-43b8-9af9-c3f6ce17aaed",
   "metadata": {},
   "outputs": [],
   "source": []
  }
 ],
 "metadata": {
  "kernelspec": {
   "display_name": "Python 3 (ipykernel)",
   "language": "python",
   "name": "python3"
  },
  "language_info": {
   "codemirror_mode": {
    "name": "ipython",
    "version": 3
   },
   "file_extension": ".py",
   "mimetype": "text/x-python",
   "name": "python",
   "nbconvert_exporter": "python",
   "pygments_lexer": "ipython3",
   "version": "3.8.18"
  }
 },
 "nbformat": 4,
 "nbformat_minor": 5
}
