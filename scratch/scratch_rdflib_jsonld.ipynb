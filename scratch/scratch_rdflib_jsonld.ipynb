{
 "cells": [
  {
   "cell_type": "code",
   "execution_count": 6,
   "id": "18257728-61a1-4fc2-9ffa-57db69ac346d",
   "metadata": {},
   "outputs": [
    {
     "name": "stdout",
     "output_type": "stream",
     "text": [
      "{\n",
      "  \"@context\": {\n",
      "    \"foaf\": \"http://xmlns.com/foaf/0.1/\"\n",
      "  },\n",
      "  \"@graph\": [\n",
      "    {\n",
      "      \"@id\": \"http://example.org/people/Bob\",\n",
      "      \"@type\": \"foaf:Person\",\n",
      "      \"foaf:age\": 24,\n",
      "      \"foaf:knows\": {\n",
      "        \"@id\": \"_:N2073926acea8488c839b33ac8f820e2e\"\n",
      "      },\n",
      "      \"foaf:name\": \"Bob\"\n",
      "    },\n",
      "    {\n",
      "      \"@id\": \"_:N2073926acea8488c839b33ac8f820e2e\",\n",
      "      \"@type\": \"foaf:Person\",\n",
      "      \"foaf:name\": \"Linda\"\n",
      "    }\n",
      "  ]\n",
      "}\n"
     ]
    }
   ],
   "source": [
    "from rdflib import Graph, URIRef, Literal, BNode\n",
    "from rdflib.namespace import FOAF, RDF\n",
    "\n",
    "g = Graph()\n",
    "g.bind(\"foaf\", FOAF)\n",
    "\n",
    "bob = URIRef(\"http://example.org/people/Bob\")\n",
    "linda = BNode()  # a GUID is generated\n",
    "\n",
    "name = Literal(\"Bob\")\n",
    "age = Literal(24)\n",
    "\n",
    "g.add((bob, RDF.type, FOAF.Person))\n",
    "g.add((bob, FOAF.name, name))\n",
    "g.add((bob, FOAF.age, age))\n",
    "g.add((bob, FOAF.knows, linda))\n",
    "g.add((linda, RDF.type, FOAF.Person))\n",
    "g.add((linda, FOAF.name, Literal(\"Linda\")))\n",
    "\n",
    "print(g.serialize(format='json-ld', context={'foaf': FOAF._NS},\n",
    "                 compact=True))\n",
    "# print(g.serialize())"
   ]
  },
  {
   "cell_type": "code",
   "execution_count": null,
   "id": "e2f1cbdc-f11e-4cb7-8a23-248aefea00e9",
   "metadata": {},
   "outputs": [],
   "source": []
  }
 ],
 "metadata": {
  "kernelspec": {
   "display_name": "Python 3 (ipykernel)",
   "language": "python",
   "name": "python3"
  },
  "language_info": {
   "codemirror_mode": {
    "name": "ipython",
    "version": 3
   },
   "file_extension": ".py",
   "mimetype": "text/x-python",
   "name": "python",
   "nbconvert_exporter": "python",
   "pygments_lexer": "ipython3",
   "version": "3.8.18"
  }
 },
 "nbformat": 4,
 "nbformat_minor": 5
}
