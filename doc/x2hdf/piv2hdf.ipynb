{
 "cells": [
  {
   "cell_type": "markdown",
   "id": "50e2fb6c-b272-4c83-848f-380172b181e1",
   "metadata": {},
   "source": [
    "# Introduction\n",
    "The coordinate system of a PIV recording has axis names `x`, `y` and `z`. The illuminated plane is the `xy`-plane. Thus, ich plane has a constant `z`-coordinate. As a PIV recording consists of multiple images over time, this information is stored in the time vector `t`.<br>\n",
    "\n",
    "Definition of a `snapshot`, a `plane` and a `case` is exactly:\n",
    "- A `snapshot` represents an instantaneous PIV result, thus results from a single double-image recording.\n",
    "- A `plane` represents a series of recordings (snaphsots) which are in one physical (xy)-plane.\n",
    "- Multiple planes together are called a `case` or simply multi-plane.\n",
    "\n",
    "<img src=\"introduction_piv_setup.png\" alt=\"Drawing\" style=\"height: 5cm;\"/>"
   ]
  },
  {
   "cell_type": "code",
   "execution_count": null,
   "id": "e355dc00-3a84-4bd2-b589-f5c86be6d281",
   "metadata": {},
   "outputs": [],
   "source": [
    "import h5rdmtoolbox as h5tbx\n",
    "from h5rdmtoolbox import x2hdf"
   ]
  },
  {
   "cell_type": "markdown",
   "id": "c997dffc-3e55-408d-a11b-50144d695f60",
   "metadata": {},
   "source": [
    "## Configuration\n",
    "The conversion of PIV data into a single HDF file is controlled via a configuration dicitonary. It defines how data is treated during the conversion process (e.g. how to handle masked data) but also if post-processing steps should be run, like computing the time averages or running means, for instance."
   ]
  },
  {
   "cell_type": "code",
   "execution_count": null,
   "id": "a0ffc090-a4b4-4e06-b412-cce16c8bd233",
   "metadata": {},
   "outputs": [],
   "source": [
    "x2hdf.piv.config"
   ]
  },
  {
   "cell_type": "markdown",
   "id": "d7683aeb-0379-4705-bed2-623bc05d7118",
   "metadata": {},
   "source": [
    "## Snapshot to HDF\n",
    "This simplest case is to convert a single PIV result into a single HDF file. Currently supported are \n",
    " - netCDF4 files from PIVview (https://www.pivtec.com/pivview.html) and \n",
    " - text files from OpenPIV (http://www.openpiv.net/)\n",
    " \n",
    "The tutorial module provides a sample result file. We go thorugh converting the snapshot fo the openpiv example first:"
   ]
  },
  {
   "cell_type": "markdown",
   "id": "87c2015e-8436-4ade-8b6c-f226adf76ccc",
   "metadata": {},
   "source": [
    "### OpenPIV"
   ]
  },
  {
   "cell_type": "code",
   "execution_count": null,
   "id": "2066bdf7-547e-4ebf-8a78-3b6e3cc82463",
   "metadata": {},
   "outputs": [],
   "source": [
    "# get the test file:\n",
    "openpiv_txt_file = h5tbx.tutorial.OpenPIV.get_snapshot_txt_file()\n",
    "openpiv_par_file = h5tbx.tutorial.OpenPIV.get_parameter_file()\n",
    "\n",
    "# init a openpiv-file instance:\n",
    "openpiv_file = h5tbx.x2hdf.piv.openpiv.OpenPIVFile(openpiv_txt_file)\n",
    "openpiv_file\n",
    "\n",
    "openpiv_snapshot = h5tbx.x2hdf.PIVSnapshot(openpiv_file, recording_time=0.)"
   ]
  },
  {
   "cell_type": "markdown",
   "id": "608be737-ee8b-4aa7-80dc-8a37a9d8d98e",
   "metadata": {},
   "source": [
    "Now we can write the data to an HDF file:"
   ]
  },
  {
   "cell_type": "code",
   "execution_count": null,
   "id": "19e3ffcc-0c72-4ac7-a421-c21979025939",
   "metadata": {},
   "outputs": [],
   "source": [
    "mylayout = h5tbx.conventions.layout.Layout(h5tbx.generate_temporary_filename())\n",
    "print(mylayout.filename)\n",
    "\n",
    "with mylayout.File(mode='w') as h5:\n",
    "    print(h5.mode)\n",
    "    h5.attrs['title'] = '__any'\n",
    "    # dsx = h5.create_dataset('x', shape=(1,))  # shape does not matter here, but has to be passed\n",
    "    # dsx.attrs['standard_name.alt:long_name'] = '__any'\n",
    "    # dsy = h5.create_dataset('y', shape=(1,))  # shape does not matter here, but has to be passed\n",
    "    # dsy.attrs['standard_name.alt:long_name'] = '__any'\n",
    "    # h5.create_group('meta')\n",
    "    # h5.create_group('meta/other')\n",
    "mylayout.dump()"
   ]
  },
  {
   "cell_type": "code",
   "execution_count": null,
   "id": "af3609a4-a051-4e4c-a699-d19b1ff15d7c",
   "metadata": {},
   "outputs": [],
   "source": [
    "h5tbx.H5PIV.Layout.filename"
   ]
  },
  {
   "cell_type": "code",
   "execution_count": null,
   "id": "fb889047-23fd-41a0-9136-e3948f48bfd3",
   "metadata": {},
   "outputs": [],
   "source": [
    "hdf_filename = openpiv_snapshot.to_hdf()\n",
    "with h5tbx.H5PIV(hdf_filename) as h5:\n",
    "    h5.dump(check=True)\n",
    "    h5.u[:].plot()"
   ]
  },
  {
   "cell_type": "code",
   "execution_count": null,
   "id": "079c3bf5-6604-42ac-a873-413d503705aa",
   "metadata": {},
   "outputs": [],
   "source": [
    "pivview_nc_file = h5tbx.tutorial.PIVview.get_snapshot_nc_files()[0]\n"
   ]
  },
  {
   "cell_type": "markdown",
   "id": "6aac1837-e796-4e21-933f-a57fdb0a8dd9",
   "metadata": {},
   "source": [
    "`PIVSnapshot` is the interface class to PIV data. It takes a `PIVFile` object. For PIVview such a object is already implemented (`PIVviewFile`). It can either be passed or the method `from_pivview()` can be called."
   ]
  },
  {
   "cell_type": "code",
   "execution_count": null,
   "id": "ba1d66c2-b5a3-47f9-93ee-e0fed47f20c4",
   "metadata": {},
   "outputs": [],
   "source": [
    "pivview_file = h5tbx.x2hdf.piv.pivview.PIVViewNcFile(pivview_nc_file, None)\n",
    "pivview_file"
   ]
  },
  {
   "cell_type": "code",
   "execution_count": null,
   "id": "b6dd45f6-f50e-4429-b563-ed3ac5d501c9",
   "metadata": {},
   "outputs": [],
   "source": []
  },
  {
   "cell_type": "code",
   "execution_count": null,
   "id": "71690884-95e7-4563-b0ce-f84361f16e03",
   "metadata": {},
   "outputs": [],
   "source": [
    "snapshot_pivview = h5tbx.x2hdf.PIVSnapshot(pivview_file, recording_time=0.)\n",
    "# snapshot = h5tbx.x2hdf.PIVSnapshot.from_pivview(nc_file, 0.)"
   ]
  },
  {
   "cell_type": "markdown",
   "id": "7aef3d93-fd64-41f4-886a-533da1587ebf",
   "metadata": {},
   "source": [
    "To actually convert the data the methd `to_hdf()` must be called:"
   ]
  },
  {
   "cell_type": "code",
   "execution_count": null,
   "id": "907821fe-79d9-4c90-8096-787313bd7eae",
   "metadata": {},
   "outputs": [],
   "source": [
    "hdf_filename = snapshot_pivview.to_hdf()"
   ]
  },
  {
   "cell_type": "markdown",
   "id": "d92beb84-6432-4dc6-b432-eaea2111edc9",
   "metadata": {},
   "source": [
    "Let's have a look, which datasets have been written and what their shapes are. This is easily done with `H5PIV`"
   ]
  },
  {
   "cell_type": "code",
   "execution_count": null,
   "id": "f1fb6c78-c4e6-4d31-88ce-327fd9249a68",
   "metadata": {},
   "outputs": [],
   "source": [
    "with h5tbx.H5PIV(hdf_filename, 'r') as h5piv:\n",
    "    h5piv.u[:].plot()"
   ]
  },
  {
   "cell_type": "markdown",
   "id": "111059bd-27b2-489a-bb0e-1296d9211787",
   "metadata": {},
   "source": [
    "## Plane to HDF"
   ]
  },
  {
   "cell_type": "code",
   "execution_count": null,
   "id": "44abe5bd-f508-4de8-a69c-1ec852d49a87",
   "metadata": {},
   "outputs": [],
   "source": [
    "piv_folder = h5tbx.tutorial.PIVview.get_plane_directory()"
   ]
  },
  {
   "cell_type": "code",
   "execution_count": null,
   "id": "e1b7fa0f-937b-4e89-b6cc-5835f0105608",
   "metadata": {},
   "outputs": [],
   "source": [
    "plane = h5tbx.x2hdf.PIVPlane.from_plane_folder(piv_folder, 5, h5tbx.x2hdf.piv.pivview.PIVViewNcFile)"
   ]
  },
  {
   "cell_type": "code",
   "execution_count": null,
   "id": "0c24edc5-b51c-4328-a54a-2e7094c0d0df",
   "metadata": {},
   "outputs": [],
   "source": [
    "hdf_filename = plane.to_hdf()"
   ]
  },
  {
   "cell_type": "code",
   "execution_count": null,
   "id": "1481ef03-9a30-46a4-8049-c6bfb387610f",
   "metadata": {},
   "outputs": [],
   "source": [
    "with h5tbx.H5PIV(hdf_filename, 'r') as h5piv:\n",
    "    h5piv.u[0, :, :].plot()"
   ]
  },
  {
   "cell_type": "markdown",
   "id": "f636875d-6bc0-4783-91f6-803095d9329c",
   "metadata": {},
   "source": [
    "## Multiple planes to HDF"
   ]
  },
  {
   "cell_type": "code",
   "execution_count": null,
   "id": "fbb6abb7-d782-4e79-8aaa-a7da7ae8284d",
   "metadata": {},
   "outputs": [],
   "source": [
    "plane_dirs = h5tbx.tutorial.PIVview.get_multiplane_directories()"
   ]
  },
  {
   "cell_type": "code",
   "execution_count": null,
   "id": "a53589c2-5774-4757-83fb-8256f1d5ed2e",
   "metadata": {},
   "outputs": [],
   "source": [
    "plane_objs = [h5tbx.x2hdf.PIVPlane.from_plane_folder(d, 5, h5tbx.x2hdf.pivview.PIVViewNcFile) for d in plane_dirs]"
   ]
  },
  {
   "cell_type": "code",
   "execution_count": null,
   "id": "d82a5fde-7c7c-4e61-990d-7cab4b00613b",
   "metadata": {},
   "outputs": [],
   "source": [
    "mplane = h5tbx.x2hdf.PIVMultiPlane(plane_objs)"
   ]
  },
  {
   "cell_type": "code",
   "execution_count": null,
   "id": "35b4b7d9-199e-423b-9926-cbff5f92e06d",
   "metadata": {},
   "outputs": [],
   "source": [
    "hdf_filename = mplane.to_hdf()\n",
    "hdf_filename"
   ]
  },
  {
   "cell_type": "code",
   "execution_count": null,
   "id": "5a5eb1ab-f336-4557-9e74-a7443f5c9785",
   "metadata": {},
   "outputs": [],
   "source": [
    "with h5tbx.H5PIV(hdf_filename, 'r') as h5piv:\n",
    "    h5piv.dump()"
   ]
  },
  {
   "cell_type": "code",
   "execution_count": null,
   "id": "7777c793-1c79-449f-8052-375b530c9a23",
   "metadata": {},
   "outputs": [],
   "source": [
    "h5tbx.x2hdf.piv.pivview.PIVviewParameterFile(h5tbx.tutorial.PIVview.get_parameter_file())"
   ]
  },
  {
   "cell_type": "code",
   "execution_count": null,
   "id": "ff0deb2f-4833-4387-95e4-f1fd7249c422",
   "metadata": {},
   "outputs": [],
   "source": [
    "import configparser"
   ]
  },
  {
   "cell_type": "code",
   "execution_count": null,
   "id": "216ffe6f-fb47-4fdf-adff-bb5757621a43",
   "metadata": {},
   "outputs": [],
   "source": [
    "cfg = configparser.ConfigParser()"
   ]
  },
  {
   "cell_type": "code",
   "execution_count": null,
   "id": "ce6f35bf-9a4c-468b-8f5d-74d6724c368e",
   "metadata": {},
   "outputs": [],
   "source": [
    "cfg.read(h5tbx.tutorial.PIVview.get_parameter_file())"
   ]
  },
  {
   "cell_type": "code",
   "execution_count": null,
   "id": "ee348bbb-e6b9-41a3-9095-abc635570650",
   "metadata": {
    "tags": []
   },
   "outputs": [],
   "source": [
    "piv_dict = {}\n",
    "for s in cfg.sections():\n",
    "    print(s.strip('-').strip(' '))\n",
    "    piv_dict[s.strip('-').strip(' ')] =  dict(cfg[s])\n",
    "    # for k, v in dict(cfg[s]).items():\n",
    "    #     print(f'{k}: {v}')"
   ]
  },
  {
   "cell_type": "code",
   "execution_count": null,
   "id": "04e28a67-a7ed-46c6-8de2-15f68d957029",
   "metadata": {},
   "outputs": [],
   "source": [
    "o = OpenPIVParameterFile.from_class(windef.Settings())"
   ]
  },
  {
   "cell_type": "code",
   "execution_count": null,
   "id": "41724a2e-acee-4e01-ac27-0f207d971402",
   "metadata": {},
   "outputs": [],
   "source": [
    "with h5tbx.H5File('test.hdf', 'w') as h5:\n",
    "    g = h5.create_group('piv_parameters')\n",
    "    o.to_hdf(g)\n",
    "    h5.dump()"
   ]
  },
  {
   "cell_type": "code",
   "execution_count": null,
   "id": "ce5d6fa3-fb92-42e3-8cdc-7491cd4cd949",
   "metadata": {},
   "outputs": [],
   "source": []
  },
  {
   "cell_type": "code",
   "execution_count": null,
   "id": "8dc722dc-f1da-4353-9f3a-de96466cd645",
   "metadata": {},
   "outputs": [],
   "source": []
  },
  {
   "cell_type": "code",
   "execution_count": null,
   "id": "1d619057-4dcb-4051-872e-f8dd7667b646",
   "metadata": {},
   "outputs": [],
   "source": []
  }
 ],
 "metadata": {
  "kernelspec": {
   "display_name": "Python 3 (ipykernel)",
   "language": "python",
   "name": "python3"
  },
  "language_info": {
   "codemirror_mode": {
    "name": "ipython",
    "version": 3
   },
   "file_extension": ".py",
   "mimetype": "text/x-python",
   "name": "python",
   "nbconvert_exporter": "python",
   "pygments_lexer": "ipython3",
   "version": "3.8.13"
  }
 },
 "nbformat": 4,
 "nbformat_minor": 5
}
