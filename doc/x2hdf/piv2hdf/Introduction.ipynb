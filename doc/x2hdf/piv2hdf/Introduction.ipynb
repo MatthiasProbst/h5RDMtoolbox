{
 "cells": [
  {
   "cell_type": "markdown",
   "id": "b3bfb0e6-2bb1-4f60-8a88-0cc2d70b99df",
   "metadata": {},
   "source": [
    "# Introduction\n",
    "The coordinate system of a PIV recording has axis names `x`, `y` and `z`. The illuminated plane is the `xy`-plane. Thus, ich plane has a constant `z`-coordinate. As a PIV recording consists of multiple images over time, this information is stored in the time vector `t`.<br>\n",
    "\n",
    "Definition of a `snapshot`, a `plane` and a `case` is exactly:\n",
    "- A `snapshot` represents an instantaneous PIV result, thus results from a single double-image recording.\n",
    "- A `plane` represents a series of recordings (snaphsots) which are in one physical (xy)-plane.\n",
    "- Multiple planes together are called a `case` or simply multi-plane.\n",
    "\n",
    "<img src=\"../introduction_piv_setup.png\" alt=\"Drawing\" style=\"height: 5cm;\"/>"
   ]
  },
  {
   "cell_type": "markdown",
   "id": "6d82c961-417e-45a9-939f-388136883ce8",
   "metadata": {},
   "source": [
    "## Conversion control: From PIVview .nc or .dat files to HDF\n",
    "\n",
    "The conversion process is controlled via a `yaml file` which is located in `.config` folder in your `HOME`-directory. When loaded, data is available as dictionary, which serves as **input conversion process**.<br>The next line will tell you where to find the file. Adjust it to your needs. For more information, read the documentation of this package."
   ]
  },
  {
   "cell_type": "code",
   "execution_count": 1,
   "id": "62005259-2585-405e-b454-7ca1f0d1267b",
   "metadata": {},
   "outputs": [
    {
     "name": "stdout",
     "output_type": "stream",
     "text": [
      "0.1.0\n"
     ]
    },
    {
     "name": "stderr",
     "output_type": "stream",
     "text": [
      "c:\\users\\da4323\\documents\\programming\\github\\h5rdmtoolbox\\h5rdmtoolbox\\h5wrapper\\h5piv.py:671: SpecialDatasetRegistrationWarning: registration of accessor <class 'h5rdmtoolbox.h5wrapper.h5piv.PIVDisplacementDataset'> under name 'DisplacementVector' for type <class 'h5rdmtoolbox.h5wrapper.h5piv.H5PIVGroup'> is overriding a preexisting attribute with the same name.\n",
      "  class PIVDisplacementDataset(DisplacementDataset):\n"
     ]
    }
   ],
   "source": [
    "from h5rdmtoolbox import x2hdf, __version__\n",
    "\n",
    "print(__version__)"
   ]
  },
  {
   "cell_type": "code",
   "execution_count": 2,
   "id": "6274a797-8eec-4822-b7a5-eba0590ee1d0",
   "metadata": {},
   "outputs": [
    {
     "data": {
      "text/plain": [
       "{'interpolation': False,\n",
       " 'apply_mask': True,\n",
       " 'masking': 'slack',\n",
       " 'time_unit': 's',\n",
       " 'z_source': 'coord_min',\n",
       " 'datetime_str': '%Y-%m-%dT%H:%M:%SZ%z',\n",
       " 'attrs_unit_name': 'units',\n",
       " 'compression': 'gzip',\n",
       " 'compression_opts': 5,\n",
       " 'take_min_nt': True,\n",
       " 'standardized_name_table': PIV_Standard_Name (version number: None),\n",
       " 'timeAverages': {'compute': True, 'use_nc': False},\n",
       " 'post': {'compute': True,\n",
       "  'grpname': 'post',\n",
       "  'grpdesc': 'Post processing data',\n",
       "  'running_mean': {'compute': True,\n",
       "   'grpname': 'running_mean',\n",
       "   'grpdesc': 'Running mean',\n",
       "   'dataset_names': ['u', 'v']},\n",
       "  'running_std': {'compute': True,\n",
       "   'grpname': 'running_std',\n",
       "   'grpdesc': 'Running standard deviation',\n",
       "   'dataset_names': ['u', 'v']},\n",
       "  'velocity_abs_ds_name': 'c',\n",
       "  'compute_dwdz': False}}"
      ]
     },
     "execution_count": 2,
     "metadata": {},
     "output_type": "execute_result"
    }
   ],
   "source": [
    "x2hdf.piv2hdf.config"
   ]
  },
  {
   "cell_type": "code",
   "execution_count": null,
   "id": "076061ab-16f9-4141-9f92-1ea5b19a40bb",
   "metadata": {},
   "outputs": [],
   "source": []
  }
 ],
 "metadata": {
  "kernelspec": {
   "display_name": "Python 3 (ipykernel)",
   "language": "python",
   "name": "python3"
  },
  "language_info": {
   "codemirror_mode": {
    "name": "ipython",
    "version": 3
   },
   "file_extension": ".py",
   "mimetype": "text/x-python",
   "name": "python",
   "nbconvert_exporter": "python",
   "pygments_lexer": "ipython3",
   "version": "3.8.13"
  }
 },
 "nbformat": 4,
 "nbformat_minor": 5
}
