{
 "cells": [
  {
   "cell_type": "markdown",
   "id": "b3bfb0e6-2bb1-4f60-8a88-0cc2d70b99df",
   "metadata": {},
   "source": [
    "# Introduction\n",
    "The coordinate system of a PIV recording has axis names `x`, `y` and `z`, where the laser sheet illuminates a `xy`-plane (respectively a `z`-plane). Additionally and generally, there are multiple recordings (snapshots) for a plane, thus a time vector `t` is needed.<br>\n",
    "\n",
    "First we need to clarify what a `case`, a `plane` and a `snapshot` is exactly:\n",
    "- A snapshot is a single recording (single nc-file)\n",
    "- A planes represents a series of recordings (naphsots) which are in one physical (xy)-plane. Thus a plane is at a constant z-position. The next plane has a different z-position\n",
    "- A case hosts multiple measurement planes.\n",
    "\n",
    "<img src=\"../introduction_piv_setup.png\" alt=\"Drawing\" style=\"height: 5cm;\"/>"
   ]
  },
  {
   "cell_type": "markdown",
   "id": "6d82c961-417e-45a9-939f-388136883ce8",
   "metadata": {},
   "source": [
    "## Conversion control: From PIVview .nc or .dat files to HDF\n",
    "\n",
    "The conversion process is controlled via a `yaml file` which is located in `.config` folder in your `HOME`-directory. When loaded, data is available as dictionary, which serves as **input conversion process**.<br>The next line will tell you where to find the file. Adjust it to your needs. For more information, read the documentation of this package."
   ]
  },
  {
   "cell_type": "code",
   "execution_count": null,
   "id": "62005259-2585-405e-b454-7ca1f0d1267b",
   "metadata": {},
   "outputs": [],
   "source": [
    "from h5rdmtoolbox import x2hdf, __version__\n",
    "\n",
    "print(__version__)"
   ]
  },
  {
   "cell_type": "code",
   "execution_count": null,
   "id": "6274a797-8eec-4822-b7a5-eba0590ee1d0",
   "metadata": {},
   "outputs": [],
   "source": [
    "x2hdf.piv2hdf.config"
   ]
  },
  {
   "cell_type": "code",
   "execution_count": null,
   "id": "076061ab-16f9-4141-9f92-1ea5b19a40bb",
   "metadata": {},
   "outputs": [],
   "source": []
  }
 ],
 "metadata": {
  "kernelspec": {
   "display_name": "Python 3 (ipykernel)",
   "language": "python",
   "name": "python3"
  },
  "language_info": {
   "codemirror_mode": {
    "name": "ipython",
    "version": 3
   },
   "file_extension": ".py",
   "mimetype": "text/x-python",
   "name": "python",
   "nbconvert_exporter": "python",
   "pygments_lexer": "ipython3",
   "version": "3.8.13"
  }
 },
 "nbformat": 4,
 "nbformat_minor": 5
}
