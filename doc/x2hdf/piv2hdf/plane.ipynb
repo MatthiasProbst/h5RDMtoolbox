{
 "cells": [
  {
   "cell_type": "markdown",
   "id": "c2284869-4ce8-4730-a792-5ab3dbd4bf0b",
   "metadata": {},
   "source": [
    "# Plane to HDF:\n",
    "This is a standard routine you will use a lot (or you convert only multiple planes together, then you are interested in the next section about how to convert cases to HDF files)."
   ]
  },
  {
   "cell_type": "code",
   "execution_count": null,
   "id": "968862a9-0b65-449d-8ddf-0a198f3174ca",
   "metadata": {},
   "outputs": [],
   "source": [
    "from h5rdmtoolbox.x2hdf.piv2hdf.pivview.plane import PIVPlane\n",
    "from h5rdmtoolbox import x2hdf\n",
    "from h5rdmtoolbox import tutorial\n",
    "from h5rdmtoolbox.h5wrapper import H5PIV"
   ]
  },
  {
   "cell_type": "markdown",
   "id": "5e64501f-6007-4754-9bdb-bdf082bdc91a",
   "metadata": {},
   "source": [
    "**Note** Everything the same as with `PIVSnapshot`, but now you need to pass a time vector, otherwise `time_information` is interpreted as a frequency [Hz]"
   ]
  },
  {
   "cell_type": "code",
   "execution_count": null,
   "id": "6a12ca99-8933-4dfc-ae97-b121fc19897f",
   "metadata": {},
   "outputs": [],
   "source": [
    "plane_dir = tutorial.PIVview.get_plane_directory()\n",
    "piv_plane = PIVPlane(plane_dir, time_information=5)  #  let's assume data was recorded with 5 Hz.\n",
    "piv_plane.convert()\n",
    "print(f'conversion time: {piv_plane.conversion_time}, generated file: {piv_plane.hdf_filename}')"
   ]
  },
  {
   "cell_type": "code",
   "execution_count": null,
   "id": "d4dee512-67bd-4eb3-827d-4cfe5f66695f",
   "metadata": {},
   "outputs": [],
   "source": [
    "with H5PIV(piv_plane.hdf_filename, 'r') as h5piv:\n",
    "    h5piv.dump()"
   ]
  },
  {
   "cell_type": "code",
   "execution_count": null,
   "id": "4aa33662-2b23-4592-8531-1f708aad2667",
   "metadata": {},
   "outputs": [],
   "source": []
  }
 ],
 "metadata": {
  "kernelspec": {
   "display_name": "Python 3 (ipykernel)",
   "language": "python",
   "name": "python3"
  },
  "language_info": {
   "codemirror_mode": {
    "name": "ipython",
    "version": 3
   },
   "file_extension": ".py",
   "mimetype": "text/x-python",
   "name": "python",
   "nbconvert_exporter": "python",
   "pygments_lexer": "ipython3",
   "version": "3.8.13"
  }
 },
 "nbformat": 4,
 "nbformat_minor": 5
}
