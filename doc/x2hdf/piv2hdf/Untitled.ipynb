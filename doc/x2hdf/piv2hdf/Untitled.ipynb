{
 "cells": [
  {
   "cell_type": "code",
   "execution_count": 74,
   "id": "1a0d9009-f67e-400b-966b-379b84a48f79",
   "metadata": {},
   "outputs": [],
   "source": [
    "import h5py\n",
    "from typing import Protocol, Any, Union, Dict, List\n",
    "import pathlib\n",
    "from h5rdmtoolbox.x2hdf.piv import DEFAULT_CONFIGURATION"
   ]
  },
  {
   "cell_type": "code",
   "execution_count": 75,
   "id": "a4c0c181-8193-4a16-aeed-7f290ec8c001",
   "metadata": {},
   "outputs": [],
   "source": [
    "class PIVFile:\n",
    "    \"\"\"Adapter class for any conversion of PIV data\"\"\""
   ]
  },
  {
   "cell_type": "code",
   "execution_count": 52,
   "id": "9027ea93-aa80-4af6-9fae-044f133138a0",
   "metadata": {},
   "outputs": [],
   "source": [
    "class PIVSnapshot:\n",
    "    \"\"\"Interface class\"\"\"\n",
    "    \n",
    "    def __init__(self, piv_file: PIVFile, recording_time: float):\n",
    "        if not isinstance(piv_file, PIVFile):\n",
    "            raise TypeError(f'Expecting type {PIVFile.__class__}, not type {type(piv_file)}')\n",
    "        self.piv_file = piv_file\n",
    "        self.recording_time = recording_time\n",
    "        \n",
    "    def to_hdf(self, hdf_filename):\n",
    "        \"\"\"converts the snapshot into an HDF file\"\"\"\n",
    "        self.piv_file.to_hdf(hdf_filename)\n",
    "        \n",
    "class PIVPlane:\n",
    "    \"\"\"Interface class\"\"\"\n",
    "    \n",
    "    def __init__(self, list_of_piv_file: List[PIVFile]):\n",
    "        if not isinstance(list_of_piv_file, (tuple, list)):\n",
    "            raise TypeError(f'Expecting a list of {PIVFile.__class__} objects but got {type(list_of_piv_file)}')\n",
    "        if not all([isinstance(piv_file, PIVFile) for piv_file in list_of_piv_file]):\n",
    "            for piv_file in list_of_piv_file:\n",
    "                if not isinstance(piv_file, PIVFile):\n",
    "                    raise TypeError(f'Expecting type {PIVFile.__class__} for each entry, but one entry is of type {type(piv_file)}')\n",
    "        self.list_of_piv_file = list_of_piv_file\n",
    "        \n",
    "    def to_hdf(self, hdf_filename):\n",
    "        \"\"\"converts the snapshot into an HDF file\"\"\"\n",
    "        for piv_file in self.list_of_piv_file:\n",
    "            piv_file.to_hdf(hdf_filename)"
   ]
  },
  {
   "cell_type": "code",
   "execution_count": 67,
   "id": "455e8310-352f-4271-8650-3418bb891441",
   "metadata": {},
   "outputs": [],
   "source": [
    "class PivViewNcFile(PIVFile):\n",
    "    \n",
    "    def __init__(self, filename: pathlib.Path):\n",
    "        _filename = pathlib.Path(filename)\n",
    "        if not filename.is_file:\n",
    "            raise TypeError(f'Snapshot file path is not a file: {_filename}.')\n",
    "        if filename.suffix != '.nc':\n",
    "            raise NameError(f'Expecting a netCDF4 file, thus suffix .nc, not {_filename.suffix}')\n",
    "        self.filename = _filename\n",
    "        \n",
    "    def _get_nc_data(self, build_coord_datasets=True):\n",
    "        masking = self.configuration['masking']\n",
    "        interpolation = self.configuration['interpolation']\n",
    "        apply_mask = self.configuration['apply_mask']\n",
    "        z_source = core.PIV_Z_Source(self.configuration['z_source']).value\n",
    "        return process_pivview_nc_data(self.name, z_source=z_source,\n",
    "                                       timestep=self.recording_time,\n",
    "                                       masking=masking,\n",
    "                                       interpolate=interpolation,\n",
    "                                       apply_mask=apply_mask,\n",
    "                                       build_coord_datasets=build_coord_datasets,\n",
    "                                       standardized_name_table=self.configuration['standardized_name_table'])\n",
    "        \n",
    "    def to_hdf(self, hdf_filename):\n",
    "        \"\"\"converts the snapshot into an HDF file\"\"\"\n",
    "        print(f'converting {self.filename.name}...')"
   ]
  },
  {
   "cell_type": "code",
   "execution_count": 68,
   "id": "8fef4ab7-d702-4099-a99a-be54ecb32438",
   "metadata": {},
   "outputs": [],
   "source": [
    "import h5rdmtoolbox as h5tbx"
   ]
  },
  {
   "cell_type": "code",
   "execution_count": 69,
   "id": "a05956f8-fd38-4705-a267-7c73e74e8dd8",
   "metadata": {},
   "outputs": [],
   "source": [
    "nc_file = h5tbx.tutorial.PIVview.get_snapshot_nc_files()[0]"
   ]
  },
  {
   "cell_type": "code",
   "execution_count": 70,
   "id": "d3d3346e-a24b-4560-a66e-df7d594975a3",
   "metadata": {},
   "outputs": [
    {
     "data": {
      "text/plain": [
       "<__main__.PivViewNcFile at 0x202935d31f0>"
      ]
     },
     "execution_count": 70,
     "metadata": {},
     "output_type": "execute_result"
    }
   ],
   "source": [
    "PivViewNcFile(nc_file)"
   ]
  },
  {
   "cell_type": "code",
   "execution_count": 71,
   "id": "d291ea51-86fe-4e1a-a485-3d45013a469f",
   "metadata": {},
   "outputs": [],
   "source": [
    "snapshot = PIVSnapshot(PivViewNcFile(nc_file))\n",
    "snapshot.to_hdf('test.hdf')"
   ]
  },
  {
   "cell_type": "code",
   "execution_count": 72,
   "id": "ed953e67-96bd-4adc-9cba-e6654162ebbd",
   "metadata": {},
   "outputs": [
    {
     "name": "stdout",
     "output_type": "stream",
     "text": [
      "converting E00A1.nc...\n"
     ]
    }
   ],
   "source": [
    "snapshot.to_hdf('test.hdf')"
   ]
  },
  {
   "cell_type": "code",
   "execution_count": 73,
   "id": "a2065a32-677d-4006-9c6b-d5046fe0c741",
   "metadata": {},
   "outputs": [
    {
     "name": "stdout",
     "output_type": "stream",
     "text": [
      "converting E00A1.nc...\n",
      "converting E00A1.nc...\n"
     ]
    }
   ],
   "source": [
    "plane = PIVPlane([PivViewNcFile(nc_file), PivViewNcFile(nc_file)])\n",
    "plane.to_hdf('test.hdf')"
   ]
  },
  {
   "cell_type": "code",
   "execution_count": 76,
   "id": "7d6ed82f-98c0-44af-a880-ba8673c9e5ac",
   "metadata": {},
   "outputs": [
    {
     "data": {
      "text/plain": [
       "{'interpolation': False,\n",
       " 'apply_mask': True,\n",
       " 'masking': 'slack',\n",
       " 'time_unit': 's',\n",
       " 'z_source': 'coord_min',\n",
       " 'datetime_str': '%Y-%m-%dT%H:%M:%SZ%z',\n",
       " 'attrs_unit_name': 'units',\n",
       " 'compression': 'gzip',\n",
       " 'compression_opts': 5,\n",
       " 'take_min_nt': True,\n",
       " 'standardized_name_table': piv (version number: None),\n",
       " 'timeAverages': {'compute': True, 'use_nc': False},\n",
       " 'post': {'compute': True,\n",
       "  'grpname': 'post',\n",
       "  'grpdesc': 'Post processing data',\n",
       "  'running_mean': {'compute': True,\n",
       "   'grpname': 'running_mean',\n",
       "   'grpdesc': 'Running mean',\n",
       "   'dataset_names': ['u', 'v']},\n",
       "  'running_std': {'compute': True,\n",
       "   'grpname': 'running_std',\n",
       "   'grpdesc': 'Running standard deviation',\n",
       "   'dataset_names': ['u', 'v']},\n",
       "  'velocity_abs_ds_name': 'c',\n",
       "  'compute_dwdz': False}}"
      ]
     },
     "execution_count": 76,
     "metadata": {},
     "output_type": "execute_result"
    }
   ],
   "source": []
  },
  {
   "cell_type": "code",
   "execution_count": 98,
   "id": "61fc1391-d726-4a74-89b7-e8c4f50f365b",
   "metadata": {},
   "outputs": [],
   "source": [
    "from h5rdmtoolbox.x2hdf.piv.utils import PIVviewFlag"
   ]
  },
  {
   "cell_type": "code",
   "execution_count": 84,
   "id": "a02e118d-5ca1-47a3-8b4b-5a645b49d53b",
   "metadata": {},
   "outputs": [
    {
     "name": "stdout",
     "output_type": "stream",
     "text": [
      "inactive\n"
     ]
    }
   ],
   "source": [
    "print(PIVviewFlag(0))"
   ]
  },
  {
   "cell_type": "code",
   "execution_count": 125,
   "id": "486b349c-805b-426d-9465-3a6a2a332681",
   "metadata": {},
   "outputs": [],
   "source": [
    "from enum import IntEnum"
   ]
  },
  {
   "cell_type": "code",
   "execution_count": 126,
   "id": "c809f02d-0fc4-4733-ac29-9cb5018d1688",
   "metadata": {},
   "outputs": [],
   "source": [
    "_hex_dict = {\"inactive\": \"0x0\", \"active\": \"0x1\", \"masked\": \"0x2\",\n",
    "                 \"noresult\": \"0x4\", \"disabled\": \"0x8\", \"filtered\": \"0x10\",\n",
    "                 \"interpolated\": \"0x20\", \"replaced\": \"0x40\", \"manualedit\": \"0x80\"}"
   ]
  },
  {
   "cell_type": "code",
   "execution_count": 127,
   "id": "f1c04ae8-46b4-48d5-be7b-1387ed19ea2c",
   "metadata": {},
   "outputs": [
    {
     "data": {
      "text/plain": [
       "0"
      ]
     },
     "execution_count": 127,
     "metadata": {},
     "output_type": "execute_result"
    }
   ],
   "source": [
    "int('0x0',16)"
   ]
  },
  {
   "cell_type": "code",
   "execution_count": 128,
   "id": "c791bdc5-74e2-4a24-976d-165cfdbbe81f",
   "metadata": {},
   "outputs": [
    {
     "ename": "TypeError",
     "evalue": "int() can't convert non-string with explicit base",
     "output_type": "error",
     "traceback": [
      "\u001b[1;31m---------------------------------------------------------------------------\u001b[0m",
      "\u001b[1;31mTypeError\u001b[0m                                 Traceback (most recent call last)",
      "Input \u001b[1;32mIn [130]\u001b[0m, in \u001b[0;36m<cell line: 1>\u001b[1;34m()\u001b[0m\n\u001b[1;32m----> 1\u001b[0m \u001b[38;5;28;01mclass\u001b[39;00m \u001b[38;5;21;01mMyPIVviewFlag\u001b[39;00m(IntEnum):\n\u001b[0;32m      2\u001b[0m     inactive \u001b[38;5;241m=\u001b[39m \u001b[38;5;241m0\u001b[39m, \u001b[38;5;241m16\u001b[39m\n\u001b[0;32m      3\u001b[0m     active \u001b[38;5;241m=\u001b[39m \u001b[38;5;28mint\u001b[39m(\u001b[38;5;124m'\u001b[39m\u001b[38;5;124m0x1\u001b[39m\u001b[38;5;124m'\u001b[39m,\u001b[38;5;241m16\u001b[39m), \u001b[38;5;241m16\u001b[39m\n",
      "File \u001b[1;32m~\\Miniconda3\\envs\\py38\\lib\\enum.py:243\u001b[0m, in \u001b[0;36mEnumMeta.__new__\u001b[1;34m(metacls, cls, bases, classdict)\u001b[0m\n\u001b[0;32m    241\u001b[0m         enum_member\u001b[38;5;241m.\u001b[39m_value_ \u001b[38;5;241m=\u001b[39m value\n\u001b[0;32m    242\u001b[0m \u001b[38;5;28;01melse\u001b[39;00m:\n\u001b[1;32m--> 243\u001b[0m     enum_member \u001b[38;5;241m=\u001b[39m \u001b[38;5;21;43m__new__\u001b[39;49m\u001b[43m(\u001b[49m\u001b[43menum_class\u001b[49m\u001b[43m,\u001b[49m\u001b[43m \u001b[49m\u001b[38;5;241;43m*\u001b[39;49m\u001b[43margs\u001b[49m\u001b[43m)\u001b[49m\n\u001b[0;32m    244\u001b[0m     \u001b[38;5;28;01mif\u001b[39;00m \u001b[38;5;129;01mnot\u001b[39;00m \u001b[38;5;28mhasattr\u001b[39m(enum_member, \u001b[38;5;124m'\u001b[39m\u001b[38;5;124m_value_\u001b[39m\u001b[38;5;124m'\u001b[39m):\n\u001b[0;32m    245\u001b[0m         \u001b[38;5;28;01mif\u001b[39;00m member_type \u001b[38;5;129;01mis\u001b[39;00m \u001b[38;5;28mobject\u001b[39m:\n",
      "\u001b[1;31mTypeError\u001b[0m: int() can't convert non-string with explicit base"
     ]
    }
   ],
   "source": [
    "class MyPIVviewFlag(IntEnum):\n",
    "    inactive = int('0x0',16), 16\n",
    "    active = int('0x1',16), 16\n",
    "    masked = int('0x2',16), 16\n",
    "    noresult = int('0x4',16), 16\n",
    "    disabled = int('0x8',16), 16\n",
    "    filtered = int('0x10',16), 16\n",
    "    interpolated = int('0x20',16), 16\n",
    "    replaced = int('0x40',16), 16\n",
    "    manualedit = int('0x80',16), 16"
   ]
  },
  {
   "cell_type": "code",
   "execution_count": 129,
   "id": "83392169-f888-41e4-8f5d-b61e2e87e412",
   "metadata": {},
   "outputs": [
    {
     "data": {
      "text/plain": [
       "<MyPIVviewFlag.inactive: '0x0'>"
      ]
     },
     "execution_count": 129,
     "metadata": {},
     "output_type": "execute_result"
    }
   ],
   "source": [
    "MyPIVviewFlag.inactive"
   ]
  },
  {
   "cell_type": "code",
   "execution_count": 101,
   "id": "e4011fb8-fc96-477f-b982-6a150a8dde11",
   "metadata": {},
   "outputs": [
    {
     "name": "stdout",
     "output_type": "stream",
     "text": [
      "masked+disabled\n"
     ]
    }
   ],
   "source": [
    "print(PIVviewFlag(10))"
   ]
  },
  {
   "cell_type": "code",
   "execution_count": 111,
   "id": "bfb3d257-00d1-4a85-a3e9-3324434192e2",
   "metadata": {},
   "outputs": [
    {
     "data": {
      "text/plain": [
       "'0x8'"
      ]
     },
     "execution_count": 111,
     "metadata": {},
     "output_type": "execute_result"
    }
   ],
   "source": [
    "hex(8)"
   ]
  },
  {
   "cell_type": "code",
   "execution_count": 114,
   "id": "42d0d32f-d082-4e10-a82b-71522464ef4f",
   "metadata": {},
   "outputs": [
    {
     "name": "stdout",
     "output_type": "stream",
     "text": [
      "MyPIVviewFlag.inactive\n",
      "MyPIVviewFlag.active\n",
      "MyPIVviewFlag.masked\n",
      "MyPIVviewFlag.noresult\n",
      "MyPIVviewFlag.disabled\n",
      "MyPIVviewFlag.filtered\n",
      "MyPIVviewFlag.interpolated\n",
      "MyPIVviewFlag.replaced\n"
     ]
    }
   ],
   "source": [
    "for i in range(100):\n",
    "    try:\n",
    "        print(MyPIVviewFlag(hex(i)))\n",
    "    except:\n",
    "        pass"
   ]
  },
  {
   "cell_type": "code",
   "execution_count": 116,
   "id": "1db4096a-23a6-4ea5-b77d-221ac50aedf3",
   "metadata": {},
   "outputs": [
    {
     "ename": "TypeError",
     "evalue": "unsupported operand type(s) for |: 'str' and 'str'",
     "output_type": "error",
     "traceback": [
      "\u001b[1;31m---------------------------------------------------------------------------\u001b[0m",
      "\u001b[1;31mTypeError\u001b[0m                                 Traceback (most recent call last)",
      "Input \u001b[1;32mIn [116]\u001b[0m, in \u001b[0;36m<cell line: 1>\u001b[1;34m()\u001b[0m\n\u001b[1;32m----> 1\u001b[0m \u001b[43mMyPIVviewFlag\u001b[49m\u001b[38;5;241;43m.\u001b[39;49m\u001b[43mactive\u001b[49m\u001b[43m \u001b[49m\u001b[38;5;241;43m|\u001b[39;49m\u001b[43m \u001b[49m\u001b[43mMyPIVviewFlag\u001b[49m\u001b[38;5;241;43m.\u001b[39;49m\u001b[43mmasked\u001b[49m\n",
      "File \u001b[1;32m~\\Miniconda3\\envs\\py38\\lib\\enum.py:863\u001b[0m, in \u001b[0;36mFlag.__or__\u001b[1;34m(self, other)\u001b[0m\n\u001b[0;32m    861\u001b[0m \u001b[38;5;28;01mif\u001b[39;00m \u001b[38;5;129;01mnot\u001b[39;00m \u001b[38;5;28misinstance\u001b[39m(other, \u001b[38;5;28mself\u001b[39m\u001b[38;5;241m.\u001b[39m\u001b[38;5;18m__class__\u001b[39m):\n\u001b[0;32m    862\u001b[0m     \u001b[38;5;28;01mreturn\u001b[39;00m \u001b[38;5;28mNotImplemented\u001b[39m\n\u001b[1;32m--> 863\u001b[0m \u001b[38;5;28;01mreturn\u001b[39;00m \u001b[38;5;28mself\u001b[39m\u001b[38;5;241m.\u001b[39m\u001b[38;5;18m__class__\u001b[39m(\u001b[38;5;28;43mself\u001b[39;49m\u001b[38;5;241;43m.\u001b[39;49m\u001b[43m_value_\u001b[49m\u001b[43m \u001b[49m\u001b[38;5;241;43m|\u001b[39;49m\u001b[43m \u001b[49m\u001b[43mother\u001b[49m\u001b[38;5;241;43m.\u001b[39;49m\u001b[43m_value_\u001b[49m)\n",
      "\u001b[1;31mTypeError\u001b[0m: unsupported operand type(s) for |: 'str' and 'str'"
     ]
    }
   ],
   "source": [
    "MyPIVviewFlag.active | MyPIVviewFlag.masked"
   ]
  },
  {
   "cell_type": "code",
   "execution_count": null,
   "id": "48921c33-ad54-4539-9bb5-8c1c31476e87",
   "metadata": {},
   "outputs": [],
   "source": []
  }
 ],
 "metadata": {
  "kernelspec": {
   "display_name": "Python 3 (ipykernel)",
   "language": "python",
   "name": "python3"
  },
  "language_info": {
   "codemirror_mode": {
    "name": "ipython",
    "version": 3
   },
   "file_extension": ".py",
   "mimetype": "text/x-python",
   "name": "python",
   "nbconvert_exporter": "python",
   "pygments_lexer": "ipython3",
   "version": "3.8.13"
  }
 },
 "nbformat": 4,
 "nbformat_minor": 5
}
