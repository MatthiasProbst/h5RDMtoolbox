{
 "cells": [
  {
   "cell_type": "markdown",
   "id": "80b933a8-cdf8-461c-b58a-1b2968388ab9",
   "metadata": {},
   "source": [
    "# Snapshot to HDF\n",
    "Converting single sanpshots is something, that you will rarely need, but is used by the algorithm when coverting planes or cases (multi-planes) which is the standard usecase."
   ]
  },
  {
   "cell_type": "code",
   "execution_count": null,
   "id": "1149dc1d-5f1e-4867-b331-552a971c5ec3",
   "metadata": {},
   "outputs": [],
   "source": [
    "import h5rdmtoolbox as h5tbx"
   ]
  },
  {
   "cell_type": "markdown",
   "id": "df1c233f-c1a3-4eaf-94dd-2f8d555120fa",
   "metadata": {},
   "source": [
    "Let's take a single netCDF4 file from the test data folder.\n",
    "\n",
    "1. Initialize a instance of `PIVSnapshot` and pass the netCDF4 file. We also need to specify the recording time in seconds for that snapshot, e.g. `recording_time=0`\n",
    "2. Call its method `.convert()`\n",
    "\n",
    "**Note**: Make sure, that you have your PIVview-parameter file located in the same directory as the netCDF4 file!"
   ]
  },
  {
   "cell_type": "code",
   "execution_count": null,
   "id": "8bce8366-3a0a-4dca-b3a7-6fd54c40e4b3",
   "metadata": {},
   "outputs": [],
   "source": [
    "nc_file = h5tbx.tutorial.PIVview.get_snapshot_nc_files()[0]"
   ]
  },
  {
   "cell_type": "code",
   "execution_count": null,
   "id": "0e5fae5b-f102-4fb2-b2c9-68c2088c36c6",
   "metadata": {},
   "outputs": [],
   "source": [
    "nc_file"
   ]
  },
  {
   "cell_type": "code",
   "execution_count": null,
   "id": "254ef816-bb49-4e18-8716-9e17e066ea00",
   "metadata": {},
   "outputs": [],
   "source": [
    "piv_snapshot = h5tbx.x2hdf.PIVSnapshot(nc_file, recording_time=0)\n",
    "_ = piv_snapshot.convert()\n",
    "print(f'conversion time: {piv_snapshot.conversion_time}, generated file: {piv_snapshot.hdf_filename.name}')"
   ]
  },
  {
   "cell_type": "markdown",
   "id": "c44a0a2d-262d-4465-8215-78318e165fe3",
   "metadata": {},
   "source": [
    "### Discover the data\n",
    "Let's have a look, which datasets have been written and what their shapes are. This is easily done with `H5PIV`"
   ]
  },
  {
   "cell_type": "code",
   "execution_count": null,
   "id": "fd373528-2834-4ef6-b7bc-bd15efa9aa78",
   "metadata": {},
   "outputs": [],
   "source": [
    "from h5rdmtoolbox.h5wrapper import H5PIV"
   ]
  },
  {
   "cell_type": "code",
   "execution_count": null,
   "id": "369579cb-b516-438e-9283-3267af26d791",
   "metadata": {},
   "outputs": [],
   "source": [
    "with H5PIV(piv_snapshot.hdf_filename, 'r+') as h5piv:\n",
    "    u = h5piv.u[:]"
   ]
  },
  {
   "cell_type": "markdown",
   "id": "0a12243c-23a4-4836-85bb-cd04d3e6d773",
   "metadata": {},
   "source": [
    "The above line returns the full dataset as a `xarray.DataArray`. Plotting can be done in one line:"
   ]
  },
  {
   "cell_type": "code",
   "execution_count": null,
   "id": "8504637b-b4d5-46b1-8ee6-44e8a042690a",
   "metadata": {},
   "outputs": [],
   "source": [
    "u.plot()"
   ]
  },
  {
   "cell_type": "markdown",
   "id": "b001e122-728d-4c6f-b1e8-2311ce59ce48",
   "metadata": {},
   "source": [
    "The PIV dataset is assigned with both physical coordinates (default, `x`, `y`) and pixel coordinates (`ix`, `iy`). Plotting over the \"alternative\" coordinates can be done using the following line:"
   ]
  },
  {
   "cell_type": "code",
   "execution_count": null,
   "id": "45d03fec-14e9-4c5d-a16b-9dea3dfd2057",
   "metadata": {},
   "outputs": [],
   "source": [
    "u.plot(y='iy', x='ix')"
   ]
  },
  {
   "cell_type": "markdown",
   "id": "a6ad8a84-c2eb-42ad-99fb-fd9de7726ade",
   "metadata": {},
   "source": [
    "The **PIVview parameters** use for the example are stored as `dict` at root level:"
   ]
  },
  {
   "cell_type": "code",
   "execution_count": null,
   "id": "3f9437b4-1722-4549-b1ff-c5848f9b3fde",
   "metadata": {},
   "outputs": [],
   "source": [
    "with H5PIV(piv_snapshot.hdf_filename, 'r+') as h5piv:\n",
    "    piv_parameters = h5piv.attrs.piv_parameters\n",
    "piv_parameters"
   ]
  },
  {
   "cell_type": "code",
   "execution_count": null,
   "id": "07191a04-acca-4124-bf79-275517f000b0",
   "metadata": {},
   "outputs": [],
   "source": []
  }
 ],
 "metadata": {
  "kernelspec": {
   "display_name": "Python 3 (ipykernel)",
   "language": "python",
   "name": "python3"
  },
  "language_info": {
   "codemirror_mode": {
    "name": "ipython",
    "version": 3
   },
   "file_extension": ".py",
   "mimetype": "text/x-python",
   "name": "python",
   "nbconvert_exporter": "python",
   "pygments_lexer": "ipython3",
   "version": "3.8.13"
  }
 },
 "nbformat": 4,
 "nbformat_minor": 5
}
