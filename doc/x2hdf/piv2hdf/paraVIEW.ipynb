{
 "cells": [
  {
   "cell_type": "markdown",
   "id": "1dd7a523-baad-4066-b79e-bd8899d83e65",
   "metadata": {},
   "source": [
    "## View data with ParaVIEW\n",
    "\n",
    "ParaFoam can read netCDF files. Let's take a PIV Case and generate `N` netCDF files containing all variables for each `N` time steps. Each file only contains (`x`, `y`, `z`) coordinates as ParaFOAM cannot handle more than three dimensions."
   ]
  },
  {
   "cell_type": "code",
   "execution_count": null,
   "id": "698fea80-4759-4e87-8f7a-e1d281334bb2",
   "metadata": {},
   "outputs": [],
   "source": [
    "import xarray as xr\n",
    "from h5rdmtoolbox import x2hdf\n",
    "from h5rdmtoolbox import tutorial\n",
    "from h5rdmtoolbox.x2hdf.piv2hdf.pivview import PIVMultiPlane\n",
    "from h5rdmtoolbox.h5wrapper import H5PIV, H5File"
   ]
  },
  {
   "cell_type": "code",
   "execution_count": null,
   "id": "9bf146c0-7eab-4b8f-af81-5684fdf0ec0d",
   "metadata": {},
   "outputs": [],
   "source": [
    "plane0_dir, plane1_dir, _ = tutorial.PIVview.get_multiplane_directories()\n",
    "piv_case = PIVMultiPlane([plane0_dir, plane1_dir], time_information=[5, 5])\n",
    "piv_case.convert()"
   ]
  },
  {
   "cell_type": "markdown",
   "id": "413b9602-e774-4e7b-8716-4c522b3f365d",
   "metadata": {},
   "source": [
    "We collect all datasets in a list:"
   ]
  },
  {
   "cell_type": "code",
   "execution_count": null,
   "id": "d0cf55e9-aaa8-40a9-8bb8-ed9384d68afb",
   "metadata": {},
   "outputs": [],
   "source": [
    "with H5File(piv_case.hdf_filename, 'r') as h5piv:\n",
    "    # h5piv.dump()\n",
    "    datasets = []\n",
    "    nt = h5piv['time'].size\n",
    "    for ds in h5piv.datasets:\n",
    "        datasets.append(ds[:])"
   ]
  },
  {
   "cell_type": "markdown",
   "id": "ee06928c-0113-4d63-9f18-a25081d0d4a8",
   "metadata": {},
   "source": [
    "We iterate over all timesteps, create a `xr.Dataset` for it and save each time-dataset as a netCDF4 file. Loading those files into ParaFOAM let's you explore the dataset as expected."
   ]
  },
  {
   "cell_type": "code",
   "execution_count": null,
   "id": "0e1b985d-aae3-4057-8ea0-330b0b0eaf23",
   "metadata": {},
   "outputs": [],
   "source": [
    "for it in range(nt):\n",
    "    ds = xr.merge([ds[:,it,...].drop('time') for ds in datasets if ds.name not in ('x', 'y', 'z', 'time', 'ix', 'iy')])\n",
    "    ds['piv_flags'].attrs.pop('flag_translation')\n",
    "    ds.to_netcdf(f'timestep{it:02d}.nc')"
   ]
  },
  {
   "cell_type": "markdown",
   "id": "b3c1fd3c-87e2-4a97-86a2-8d05084be8fa",
   "metadata": {},
   "source": [
    "Delete the created files:"
   ]
  },
  {
   "cell_type": "code",
   "execution_count": null,
   "id": "b67d3d05-01cf-427d-ac4a-4be9ca15acf5",
   "metadata": {},
   "outputs": [],
   "source": [
    "import pathlib\n",
    "for f in pathlib.Path.cwd().glob('timestep*[0-9].nc'):\n",
    "    f.unlink()"
   ]
  },
  {
   "cell_type": "code",
   "execution_count": null,
   "id": "a44445f9-08b8-42b7-be17-e32244def92a",
   "metadata": {},
   "outputs": [],
   "source": []
  }
 ],
 "metadata": {
  "kernelspec": {
   "display_name": "Python 3 (ipykernel)",
   "language": "python",
   "name": "python3"
  },
  "language_info": {
   "codemirror_mode": {
    "name": "ipython",
    "version": 3
   },
   "file_extension": ".py",
   "mimetype": "text/x-python",
   "name": "python",
   "nbconvert_exporter": "python",
   "pygments_lexer": "ipython3",
   "version": "3.8.13"
  }
 },
 "nbformat": 4,
 "nbformat_minor": 5
}
