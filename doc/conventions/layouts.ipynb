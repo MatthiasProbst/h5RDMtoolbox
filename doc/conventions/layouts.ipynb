{
 "cells": [
  {
   "cell_type": "markdown",
   "id": "e02471df-4155-46ff-ad48-be967a15908b",
   "metadata": {},
   "source": [
    "# Layouts\n",
    "\n",
    "With layouts, meta data of an HDF5 file can be defined."
   ]
  },
  {
   "cell_type": "code",
   "execution_count": null,
   "id": "5beed51a-093a-4b79-b241-6f0e47e32a11",
   "metadata": {},
   "outputs": [],
   "source": [
    "import h5rdmtoolbox as h5tbx"
   ]
  },
  {
   "cell_type": "markdown",
   "id": "8c771d39-1ebc-4689-bbe4-17a5d139d87a",
   "metadata": {},
   "source": [
    "Initialize a `H5FileLayout`:"
   ]
  },
  {
   "cell_type": "code",
   "execution_count": null,
   "id": "7b34bff5-8d7a-4f9a-b42d-81fc34b8b3cf",
   "metadata": {},
   "outputs": [],
   "source": [
    "h5tbx.generate_temporary_filename(suffix='.hdf')"
   ]
  },
  {
   "cell_type": "code",
   "execution_count": null,
   "id": "e2ab957a-6584-4135-a602-7f48a67cc712",
   "metadata": {},
   "outputs": [],
   "source": [
    "mylayout = h5tbx.conventions.layout.Layout(h5tbx.generate_temporary_filename(suffix='.hdf'))"
   ]
  },
  {
   "cell_type": "markdown",
   "id": "f591ba4c-4f02-41f1-861b-21011ea9bdcd",
   "metadata": {},
   "source": [
    "Say we expect HDF files to have the following data and structure:\n",
    " - a root attribtue \"title\", which an have any value\n",
    " - the datasets \"x\" and \"y\" which are 1d-arrays, which must have the attributes \"standard_name\" or \"long_name\"\n",
    " - a group \"meta\"\n",
    "\n",
    "Fill the file with content. Note, the layout file is an HDF file:"
   ]
  },
  {
   "cell_type": "code",
   "execution_count": null,
   "id": "1f0fd70f-1a8f-4074-9f1b-bb2b33c6ecf1",
   "metadata": {},
   "outputs": [],
   "source": [
    "with mylayout.File(mode='w') as h5:\n",
    "    h5.attrs['title'] = '__any'\n",
    "    dsx = h5.create_dataset('x', shape=(1,))  # shape does not matter here, but has to be passed\n",
    "    dsx.attrs['standard_name.alt:long_name'] = '__any'\n",
    "    dsy = h5.create_dataset('y', shape=(1,))  # shape does not matter here, but has to be passed\n",
    "    dsy.attrs['standard_name.alt:long_name'] = '__any'\n",
    "    h5.create_group('meta')\n",
    "    h5.create_group('meta/other')\n",
    "mylayout.dump()"
   ]
  },
  {
   "cell_type": "markdown",
   "id": "48e36584-e875-4838-9251-e1e33a0cd9e5",
   "metadata": {},
   "source": [
    "Now let's create an example HDF5 file and check if the layout is ok or if there are issues:"
   ]
  },
  {
   "cell_type": "code",
   "execution_count": null,
   "id": "fa3051b8-885b-4b7a-b4ac-58bb9dcb5594",
   "metadata": {},
   "outputs": [],
   "source": [
    "import h5py\n",
    "test_filename = h5tbx.generate_temporary_filename()\n",
    "with h5py.File(test_filename, mode='w') as h5:\n",
    "    h5.attrs['title'] = 'my test file'\n",
    "    dsx = h5.create_dataset('x', data=[1,2,3])\n",
    "    dsx.attrs['long_name'] = 'x coordinate'\n",
    "    dsx.attrs['standard_name'] = 'x_coordinate'\n",
    "    dsy = h5.create_dataset('y', data=[[1,2],[3,4]])"
   ]
  },
  {
   "cell_type": "markdown",
   "id": "1e99b971-02f1-49fe-9607-7a09c99e9ce2",
   "metadata": {},
   "source": [
    "We use `check()` and pass the opened hdf5 group to check for any issues. We already know, taht the group \"meta\" and \"meta/other\" are missing, as well the attribute \"standard_name\" or \"long_name\" for dataset \"y\". Note, that missing group \"other\" will not raise an issue because \"meta\" raised one before."
   ]
  },
  {
   "cell_type": "code",
   "execution_count": null,
   "id": "a93adb01-db25-40b4-8eac-649743a4758e",
   "metadata": {},
   "outputs": [],
   "source": [
    "with h5py.File(test_filename, mode='r') as h5:\n",
    "    mylayout.check(h5, silent=True)\n",
    "print(mylayout)"
   ]
  },
  {
   "cell_type": "markdown",
   "id": "d5258f69-6049-47c8-9b44-543fdc0cdf0b",
   "metadata": {},
   "source": [
    "Note, that we can enter the check-process at any level. However, no check is performed above that group, in this case the group \"meta\" which we add before we run a check again beginning from that group level:"
   ]
  },
  {
   "cell_type": "code",
   "execution_count": null,
   "id": "cb69b929-772d-4bfd-bced-c03ff2c296bb",
   "metadata": {},
   "outputs": [],
   "source": [
    "with h5py.File(test_filename, mode='r+') as h5:\n",
    "    h5.create_group('meta')\n",
    "    mylayout.check(h5['meta'], silent=True)\n",
    "print(mylayout)"
   ]
  },
  {
   "cell_type": "markdown",
   "id": "cc935bae-e31c-43f7-9d18-ee29b44ba2df",
   "metadata": {},
   "source": [
    "Only checking the specified group requires to pass `recursive=False`:"
   ]
  },
  {
   "cell_type": "code",
   "execution_count": null,
   "id": "b3555548-8e48-4dd1-a31b-21add7a6172c",
   "metadata": {},
   "outputs": [],
   "source": [
    "with h5py.File(test_filename, mode='r+') as h5:\n",
    "    mylayout.check(h5['/'], silent=True, recursive=False)\n",
    "print(mylayout)"
   ]
  },
  {
   "cell_type": "code",
   "execution_count": null,
   "id": "9d6d9c53-7d81-42f6-9538-f15681879f03",
   "metadata": {},
   "outputs": [],
   "source": []
  }
 ],
 "metadata": {
  "kernelspec": {
   "display_name": "Python 3 (ipykernel)",
   "language": "python",
   "name": "python3"
  },
  "language_info": {
   "codemirror_mode": {
    "name": "ipython",
    "version": 3
   },
   "file_extension": ".py",
   "mimetype": "text/x-python",
   "name": "python",
   "nbconvert_exporter": "python",
   "pygments_lexer": "ipython3",
   "version": "3.8.13"
  }
 },
 "nbformat": 4,
 "nbformat_minor": 5
}
