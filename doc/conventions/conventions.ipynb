{
 "cells": [
  {
   "cell_type": "markdown",
   "id": "4fb39971-92fa-4c19-a391-642236fc5afc",
   "metadata": {},
   "source": [
    "# Standard Name Convention\n",
    "\n",
    "This idea behind standard names is that data becomes interoperable by assigning it with the meta data (attribute) \"standard_name\". Consequently, any software that is aware of the naming convention can explore and process the data."
   ]
  },
  {
   "cell_type": "code",
   "execution_count": null,
   "id": "3026a8e2-ebf6-48aa-9bd6-9d915b9672d9",
   "metadata": {},
   "outputs": [],
   "source": [
    "from h5rdmtoolbox.conventions import StandardizedNameTable"
   ]
  },
  {
   "cell_type": "markdown",
   "id": "74c72248-2b69-48f6-b556-4d1b25349752",
   "metadata": {},
   "source": [
    "Whenever a dataset is written and the parameter \"standard_name\" is set, it is verified against the standard name convention/table associated with the wrapper class. If the constant `STRICT` is set to True (default), the name is looked-up in the table and, if not found, the dataset cannot be written. To allow standard names, that fullfil the spelling requirements but are not yet listed in the table, set `STRICT` to False:"
   ]
  },
  {
   "cell_type": "code",
   "execution_count": null,
   "id": "52a96fd3-318c-4e0a-8c57-82cfcb170480",
   "metadata": {},
   "outputs": [],
   "source": [
    "from h5rdmtoolbox import conventions\n",
    "conventions.identifier.STRICT = False"
   ]
  },
  {
   "cell_type": "markdown",
   "id": "df618578-e7a9-4d42-8ebf-4b00ed1b53be",
   "metadata": {},
   "source": [
    "## Initialize a Standard Name Convention\n",
    "The class initially contains no standard names:"
   ]
  },
  {
   "cell_type": "code",
   "execution_count": null,
   "id": "569b7ff4-5e17-4eda-9e8b-d449277f203e",
   "metadata": {},
   "outputs": [],
   "source": [
    "sc = StandardizedNameTable(name='Test_SNC', table_dict={}, version_number=1, contact='contact@python.com', institution='my_institution')\n",
    "sc"
   ]
  },
  {
   "cell_type": "code",
   "execution_count": null,
   "id": "9e4ce9fe-de0e-4e3c-9410-e5dc891294af",
   "metadata": {},
   "outputs": [],
   "source": [
    "sc.set('time', canonical_units='s', description='physical time')\n",
    "sc.set('x_velocity', canonical_units='m/s', description='velocity is a vector quantity. x indicates the component in x-axis direction')\n",
    "sc.set('y_velocity', canonical_units='m/s', description='velocity is a vector quantity. y indicates the component in y-axis direction')\n",
    "sc.set('z_velocity', canonical_units='m/s', description='velocity is a vector quantity. z indicates the component in z-axis direction')\n",
    "sc"
   ]
  },
  {
   "cell_type": "markdown",
   "id": "f56735ed-1a7e-4772-aafe-8b8fe05a75b5",
   "metadata": {},
   "source": [
    "For notebooks, calling `dump()` prints the table in pretty html style:"
   ]
  },
  {
   "cell_type": "code",
   "execution_count": null,
   "id": "2febe8ed-2b4c-449b-af63-471cfa1002bb",
   "metadata": {},
   "outputs": [],
   "source": [
    "sc.dump(sort_by='name')"
   ]
  },
  {
   "cell_type": "markdown",
   "id": "a2855d67-4e91-4d32-a173-c581f77b6b93",
   "metadata": {},
   "source": [
    "## Store Standard Name Convention to a XML file"
   ]
  },
  {
   "cell_type": "code",
   "execution_count": null,
   "id": "7d29f972-b6c2-4a25-85cc-8d8c39f28154",
   "metadata": {},
   "outputs": [],
   "source": [
    "from h5rdmtoolbox.utils import generate_temporary_filename\n",
    "xml_filename = generate_temporary_filename(suffix='.xml')\n",
    "sc.to_xml(xml_filename)"
   ]
  },
  {
   "cell_type": "markdown",
   "id": "9fa87fb5-04c1-4cb1-bae8-6a5f57339ad1",
   "metadata": {},
   "source": [
    "## Load Standard Name Convention from XML"
   ]
  },
  {
   "cell_type": "code",
   "execution_count": null,
   "id": "be7625e3-349d-49bd-a14c-e9b2f220da91",
   "metadata": {},
   "outputs": [],
   "source": [
    "sc_test = StandardizedNameTable.from_xml(xml_filename)\n",
    "sc_test"
   ]
  },
  {
   "cell_type": "markdown",
   "id": "1f23f296-6757-4ad8-9c43-1a3a383c185f",
   "metadata": {},
   "source": [
    "## Special Standard Name Convention\n",
    "There is already a specil convention provided by the repository for fluid problems. Note, that it is far from complete!"
   ]
  },
  {
   "cell_type": "code",
   "execution_count": null,
   "id": "6f4d0736-d79c-40cd-a14b-d879f493dc07",
   "metadata": {},
   "outputs": [],
   "source": [
    "from h5rdmtoolbox.conventions.custom import FluidStandardNameTable"
   ]
  },
  {
   "cell_type": "code",
   "execution_count": null,
   "id": "77408a34-933a-4dd7-aea5-460d2af5efa0",
   "metadata": {},
   "outputs": [],
   "source": [
    "FluidStandardNameTable.dump(sort_by='name')"
   ]
  },
  {
   "cell_type": "code",
   "execution_count": null,
   "id": "3792e95f-c5f6-491b-b1dd-d8e60877739b",
   "metadata": {},
   "outputs": [],
   "source": [
    "from h5rdmtoolbox.conventions.custom import PIVStandardNameTable"
   ]
  },
  {
   "cell_type": "code",
   "execution_count": null,
   "id": "16f246ae-f900-4c39-afaa-a0c8f63a2944",
   "metadata": {},
   "outputs": [],
   "source": [
    "PIVStandardNameTable.dump(sort_by='name')"
   ]
  },
  {
   "cell_type": "code",
   "execution_count": null,
   "id": "ae55dbd6-af9a-4346-b232-b9f4fed3e436",
   "metadata": {},
   "outputs": [],
   "source": []
  }
 ],
 "metadata": {
  "kernelspec": {
   "display_name": "Python 3 (ipykernel)",
   "language": "python",
   "name": "python3"
  },
  "language_info": {
   "codemirror_mode": {
    "name": "ipython",
    "version": 3
   },
   "file_extension": ".py",
   "mimetype": "text/x-python",
   "name": "python",
   "nbconvert_exporter": "python",
   "pygments_lexer": "ipython3",
   "version": "3.8.13"
  }
 },
 "nbformat": 4,
 "nbformat_minor": 5
}
