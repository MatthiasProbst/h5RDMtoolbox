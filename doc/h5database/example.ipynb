{
 "cells": [
  {
   "cell_type": "markdown",
   "id": "0787f251-01ff-47ac-996c-39707d43fc14",
   "metadata": {},
   "source": [
    "# H5Database"
   ]
  },
  {
   "cell_type": "code",
   "execution_count": null,
   "id": "fa5ea74f-3b34-4a23-80ad-a4876d99abba",
   "metadata": {},
   "outputs": [],
   "source": [
    "from h5rdmtoolbox import h5database\n",
    "from h5rdmtoolbox.h5database import tutorial"
   ]
  },
  {
   "cell_type": "code",
   "execution_count": null,
   "id": "3bfed2a5-b2de-4877-a940-5853be401037",
   "metadata": {},
   "outputs": [],
   "source": [
    "tutorial.build_test_repo('test_repo')"
   ]
  },
  {
   "cell_type": "code",
   "execution_count": null,
   "id": "0de1df87-c7cd-4dd9-b333-32d22033e58d",
   "metadata": {},
   "outputs": [],
   "source": [
    "repo = h5database.H5repo('test_repo')"
   ]
  },
  {
   "cell_type": "code",
   "execution_count": null,
   "id": "b8d0188d-d4d2-49ec-9cd6-fd2444ce215a",
   "metadata": {},
   "outputs": [],
   "source": [
    "repo[0]"
   ]
  },
  {
   "cell_type": "code",
   "execution_count": null,
   "id": "2fd32870-8770-4e96-90a7-6697fb59361a",
   "metadata": {},
   "outputs": [],
   "source": [
    "from h5rdmtoolbox.h5database.filter_classes import *"
   ]
  },
  {
   "cell_type": "code",
   "execution_count": null,
   "id": "33aae822-a2ea-452f-9cb1-43610419ce6d",
   "metadata": {},
   "outputs": [],
   "source": [
    "repo.list_attribute_values('operator', '/')"
   ]
  },
  {
   "cell_type": "code",
   "execution_count": null,
   "id": "608ac0de-9e78-4630-8adc-08c70136fcfb",
   "metadata": {},
   "outputs": [],
   "source": [
    "sub_repo = repo.filter(Entry['/operation_point'].attrs['long_name'] == 'Operation point data group')"
   ]
  },
  {
   "cell_type": "code",
   "execution_count": null,
   "id": "fc1ecec7-cda1-4bb6-a0df-79fac709b51e",
   "metadata": {},
   "outputs": [],
   "source": [
    "sub_repo"
   ]
  },
  {
   "cell_type": "code",
   "execution_count": null,
   "id": "6fa01aab-cd07-43d8-8662-6229e6786004",
   "metadata": {},
   "outputs": [],
   "source": [
    "sub_repo.elapsed_time  # [s]"
   ]
  },
  {
   "cell_type": "code",
   "execution_count": null,
   "id": "1608865a-db0d-4c31-8723-c361cdfed8a0",
   "metadata": {},
   "outputs": [],
   "source": [
    "import matplotlib.pyplot as plt"
   ]
  },
  {
   "cell_type": "code",
   "execution_count": null,
   "id": "6b920587-463a-4ab8-a117-84d33db85062",
   "metadata": {},
   "outputs": [],
   "source": [
    "sub_repo[0]"
   ]
  },
  {
   "cell_type": "code",
   "execution_count": null,
   "id": "c232554f-53bd-4737-9e9b-2e4f9b1b6979",
   "metadata": {},
   "outputs": [],
   "source": [
    "plt.figure()\n",
    "for r in sub_repo:\n",
    "    with r as h5:\n",
    "        if 'operation_point' in h5:\n",
    "            plt.scatter(h5['operation_point']['vfr'].attrs['mean'], h5['operation_point']['ptot'].attrs['mean'])\n",
    "plt.xlabel('vfr')\n",
    "plt.ylabel('ptot')"
   ]
  },
  {
   "cell_type": "code",
   "execution_count": null,
   "id": "25e24d91-3041-4a56-9108-7a5b947e3f67",
   "metadata": {},
   "outputs": [],
   "source": []
  }
 ],
 "metadata": {
  "kernelspec": {
   "display_name": "Python 3 (ipykernel)",
   "language": "python",
   "name": "python3"
  },
  "language_info": {
   "codemirror_mode": {
    "name": "ipython",
    "version": 3
   },
   "file_extension": ".py",
   "mimetype": "text/x-python",
   "name": "python",
   "nbconvert_exporter": "python",
   "pygments_lexer": "ipython3",
   "version": "3.8.13"
  }
 },
 "nbformat": 4,
 "nbformat_minor": 5
}
