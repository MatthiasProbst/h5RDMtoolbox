{
 "cells": [
  {
   "cell_type": "code",
   "execution_count": null,
   "id": "03639616-97ad-4a3f-846f-423fd395d9db",
   "metadata": {},
   "outputs": [],
   "source": [
    "from h5rdmtoolbox.h5wrapper import H5Flow"
   ]
  },
  {
   "cell_type": "markdown",
   "id": "6e0c92dc-7de4-43fd-b431-e853b2200145",
   "metadata": {},
   "source": [
    "# H5Flow\n",
    "\n",
    "The wrapper class `H5Flow` is a specialized group inherite from `H5File`. It adds domain-specific functionality for working with fluid data. It is still implemented as a general purpose HDF5 interface but specifically to fluid data.\n",
    "\n",
    "As we deal with fluid data, we expect to have velocities in the file. Let's generate an HDF5 file with random data. Note, that `create_coordinates()` and `create_velocity_datasets()` are new methods as compared to `H5File`:"
   ]
  },
  {
   "cell_type": "code",
   "execution_count": null,
   "id": "3d9d39b4-e31b-4450-82e1-2ac58580339c",
   "metadata": {},
   "outputs": [],
   "source": [
    "import numpy as np\n",
    "with H5Flow() as h5:\n",
    "    h5.create_coordinates(x=np.linspace(0, 1, 20),\n",
    "                          y=np.linspace(0, 0.5, 10),\n",
    "                          z=np.linspace(-1, 1, 3),\n",
    "                          coords_unit='mm')\n",
    "    h5.create_velocity_datasets(u=np.random.rand(3, 10, 20),\n",
    "                                v=np.random.rand(3, 10, 20),\n",
    "                                w=np.random.rand(3, 10, 20),\n",
    "                                dim_scales=('z', 'y', 'x'),\n",
    "                                units='mm/s')\n",
    "    h5.dump()\n",
    "    filename = h5.hdf_filename"
   ]
  },
  {
   "cell_type": "markdown",
   "id": "a38d0bbe-7ea3-479c-a0b1-f4ed0d04b094",
   "metadata": {},
   "source": [
    "## Vector data access\n",
    "\n",
    "The `H5Flow` class has \"special dataset\" accessors like `Vector` and `VelocityVector`. The latter one without a call will try to find the dataset based on the `standard_name` attribute (TODO: make it dependend on the convention as it is different f cf and CGNS)."
   ]
  },
  {
   "cell_type": "code",
   "execution_count": null,
   "id": "46ace215-d100-40a4-b02d-3d5187fa6345",
   "metadata": {},
   "outputs": [],
   "source": [
    "with H5Flow(filename) as h5:\n",
    "    vel = h5.Vector(names=('u', 'v', 'w'))[0:1, :, :]"
   ]
  },
  {
   "cell_type": "code",
   "execution_count": null,
   "id": "cc5a8616-da7c-439b-858e-7709eecf2b37",
   "metadata": {},
   "outputs": [],
   "source": [
    "vel"
   ]
  },
  {
   "cell_type": "code",
   "execution_count": null,
   "id": "cc400f98-3174-4ded-b6f0-4bf9f3dd9da8",
   "metadata": {},
   "outputs": [],
   "source": [
    "with H5Flow(filename) as h5:\n",
    "    vel = h5.VelocityVector[0:1, :, :]\n",
    "vel"
   ]
  },
  {
   "cell_type": "markdown",
   "id": "2d7c0130-265e-471a-9809-b85ea6fce234",
   "metadata": {},
   "source": [
    "## Devices\n",
    "Assume we have experiment data, e.g. we measured the pressure. We can reference the measurement device in the dataset like so:"
   ]
  },
  {
   "cell_type": "code",
   "execution_count": null,
   "id": "fc0177e5-241b-4944-8bad-817933c7ef3c",
   "metadata": {},
   "outputs": [],
   "source": [
    "with H5Flow() as h5:\n",
    "    h5.create_group('devices')\n",
    "    device_grp = h5.create_group('devices/PressureSensor')\n",
    "    device_grp.attrs['manufacturer'] = 'unknown'\n",
    "    device_grp.create_dataset('x', data=0, units='m', standard_name='x_coordinate')\n",
    "    device_grp.create_dataset('y', data=0, units='m', standard_name='y_coordinate')\n",
    "    device_grp.create_dataset('z', data=0, units='m', standard_name='z_coordinate')\n",
    "    ds = h5.create_dataset('pressure', data=np.random.random(100), units='Pa', standard_name='pressure',\n",
    "                          device=device_grp)\n",
    "    print(ds.device)\n",
    "    print(type(ds.device))"
   ]
  },
  {
   "cell_type": "markdown",
   "id": "6fca1618-6963-4826-8ac9-252b62d4de7c",
   "metadata": {},
   "source": [
    "**Alternative 1:** We can first use the `Device` class to create an object, which we write to the hdf group and then create the reference:"
   ]
  },
  {
   "cell_type": "code",
   "execution_count": null,
   "id": "97db1151-baed-482d-8970-f3a61c40e573",
   "metadata": {},
   "outputs": [],
   "source": [
    "from h5rdmtoolbox.h5wrapper.h5flow import Device\n",
    "p_sensor = Device('PressureSensor', manufacturer='unknown',\n",
    "                  x=(0, dict(units='m',standard_name='x_coordinate')),\n",
    "                  y=(0, dict(units='m',standard_name='y_coordinate')),\n",
    "                  z=(0, dict(units='m',standard_name='z_coordinate')))\n",
    "p_sensor"
   ]
  },
  {
   "cell_type": "code",
   "execution_count": null,
   "id": "c03a4ce4-49e9-4656-b53d-f6633cc2daec",
   "metadata": {},
   "outputs": [],
   "source": [
    "with H5Flow() as h5:\n",
    "    devices_grp = h5.create_group('devices')\n",
    "    sensor_grp = p_sensor.to_hdf_group(devices_grp)\n",
    "    \n",
    "    ds = h5.create_dataset('pressure', data=np.random.random(100), units='Pa', standard_name='pressure',\n",
    "                          device=sensor_grp)\n",
    "    ds.device = sensor_grp\n",
    "    print(ds.device)\n",
    "    print(type(ds.device))"
   ]
  },
  {
   "cell_type": "code",
   "execution_count": null,
   "id": "d30895bb-8e00-4747-ac87-b5b9f876ae6a",
   "metadata": {},
   "outputs": [],
   "source": [
    "with H5Flow() as h5:    \n",
    "    ds = h5.create_dataset('pressure', data=np.random.random(100), units='Pa', standard_name='pressure')\n",
    "    ds.device = p_sensor"
   ]
  },
  {
   "cell_type": "markdown",
   "id": "1cf61dba-eb25-48d8-a496-f650e4321ce8",
   "metadata": {
    "tags": []
   },
   "source": [
    "# Create two flow types (Poiseuille and rankine vortex)"
   ]
  },
  {
   "cell_type": "code",
   "execution_count": null,
   "id": "fcd6a6ed-6b7e-49a2-9202-5d8ab643523e",
   "metadata": {},
   "outputs": [],
   "source": [
    "from h5rdmtoolbox import tutorial"
   ]
  },
  {
   "cell_type": "code",
   "execution_count": null,
   "id": "108eeb31-8b48-460f-8a64-e82b8a256240",
   "metadata": {},
   "outputs": [],
   "source": [
    "vel_couette = tutorial.get_xr_dataset('couette2d')"
   ]
  },
  {
   "cell_type": "markdown",
   "id": "774051d7-587b-41c3-8db1-f00dc647b1b0",
   "metadata": {},
   "source": [
    "The above variables are of type `xarray.Dataset`:"
   ]
  },
  {
   "cell_type": "code",
   "execution_count": null,
   "id": "5c37c1df-eb80-4f27-a893-fc7fd1bff6f5",
   "metadata": {},
   "outputs": [],
   "source": [
    "vel_couette"
   ]
  },
  {
   "cell_type": "markdown",
   "id": "13dd7b3f-a4b1-42cd-9c86-069062da1dd3",
   "metadata": {},
   "source": [
    "The velocity component can directly be plotted with coorect units at the labels:"
   ]
  },
  {
   "cell_type": "code",
   "execution_count": null,
   "id": "6e1f6aad-2358-47b3-ab17-30bfb084de2c",
   "metadata": {},
   "outputs": [],
   "source": [
    "vel_couette.u.plot()"
   ]
  },
  {
   "cell_type": "markdown",
   "id": "989792eb-b898-497b-8d8b-c99717d591a2",
   "metadata": {
    "tags": []
   },
   "source": [
    "# Add both flow types to individual groups\n",
    "\n",
    "A `xarray.Dataset` can be stored in an HDF file as done in the following:"
   ]
  },
  {
   "cell_type": "code",
   "execution_count": null,
   "id": "fc42ec59-e89b-4ed2-9c20-f3e51b2809ed",
   "metadata": {},
   "outputs": [],
   "source": [
    "vel_poiseuille = tutorial.get_xr_dataset('poiseuille2D')\n",
    "vel_poiseuille"
   ]
  },
  {
   "cell_type": "code",
   "execution_count": null,
   "id": "00dae05f-5625-41ac-bdc3-1a3450310463",
   "metadata": {},
   "outputs": [],
   "source": [
    "with H5Flow(mode='w') as h5:\n",
    "    h5.create_dataset('vel', data=[1,2,3], standard_name='x_velocity', units='m/s')\n",
    "    print(type(h5.vel.standard_name))"
   ]
  },
  {
   "cell_type": "code",
   "execution_count": null,
   "id": "caa1b140-91a6-46e4-984b-350c84d5f964",
   "metadata": {},
   "outputs": [],
   "source": [
    "with H5Flow(mode='w') as h5:\n",
    "    grp1 = h5.create_group('couette', long_name='couette group')\n",
    "    grp1.create_dataset_from_xarray_dataset(vel_couette)    \n",
    "    \n",
    "    grp2 = h5.create_group('poiseuille', long_name='poiseuille group')\n",
    "    grp2.create_dataset_from_xarray_dataset(vel_poiseuille)\n",
    "    hdf_filename = h5.hdf_filename\n",
    "    \n",
    "    u = h5.couette.u[:]\n",
    "    h5.couette.mag[:].plot()\n",
    "    print(h5.couette.u.__repr__())\n",
    "    \n",
    "    h5.dump()"
   ]
  },
  {
   "cell_type": "markdown",
   "id": "ca959830-fede-47d4-9997-e67cd84b54a5",
   "metadata": {},
   "source": [
    "A `xarray.Dataset` can be created from the hdf file to get the velocity components within one dataset:"
   ]
  },
  {
   "cell_type": "code",
   "execution_count": null,
   "id": "27b592d0-fa92-4764-b182-f6f647556f99",
   "metadata": {},
   "outputs": [],
   "source": [
    "with H5Flow(hdf_filename, mode='r') as h5:\n",
    "    h5.dump()\n",
    "    vel = h5.couette.VelocityVector(standard_names=('x_velocity', 'y_velocity'))[:, :]"
   ]
  },
  {
   "cell_type": "code",
   "execution_count": null,
   "id": "fcf41013-cb84-4e2d-b9d8-6c741f0d86da",
   "metadata": {},
   "outputs": [],
   "source": [
    "vel"
   ]
  },
  {
   "cell_type": "code",
   "execution_count": null,
   "id": "2a044b20-f24a-43e5-8472-57003dc7b950",
   "metadata": {},
   "outputs": [],
   "source": [
    "vel.u.plot()"
   ]
  },
  {
   "cell_type": "code",
   "execution_count": null,
   "id": "b82a0694-12a8-4246-a0ea-b3ae70233fcd",
   "metadata": {},
   "outputs": [],
   "source": [
    "u = vel.u[0,:]"
   ]
  },
  {
   "cell_type": "code",
   "execution_count": null,
   "id": "729430df-870e-4b54-a128-c9fcca08ea56",
   "metadata": {},
   "outputs": [],
   "source": [
    "u.coords['y'].attrs.get('standard_name')"
   ]
  },
  {
   "cell_type": "code",
   "execution_count": null,
   "id": "2ef36053-5f73-4997-840b-f1faccd4e569",
   "metadata": {},
   "outputs": [],
   "source": []
  }
 ],
 "metadata": {
  "kernelspec": {
   "display_name": "Python 3 (ipykernel)",
   "language": "python",
   "name": "python3"
  },
  "language_info": {
   "codemirror_mode": {
    "name": "ipython",
    "version": 3
   },
   "file_extension": ".py",
   "mimetype": "text/x-python",
   "name": "python",
   "nbconvert_exporter": "python",
   "pygments_lexer": "ipython3",
   "version": "3.8.13"
  }
 },
 "nbformat": 4,
 "nbformat_minor": 5
}
