{
 "cells": [
  {
   "cell_type": "markdown",
   "id": "ada942c8-3aee-41cf-977c-362e431bf2a2",
   "metadata": {},
   "source": [
    "# Special Attributes"
   ]
  },
  {
   "cell_type": "code",
   "execution_count": null,
   "id": "955d42a5-ec0e-466e-a77e-f1fe23412372",
   "metadata": {},
   "outputs": [],
   "source": [
    "import h5rdmtoolbox as h5tbx"
   ]
  },
  {
   "cell_type": "markdown",
   "id": "b3cde458-207f-4799-84f6-3b530d224a3c",
   "metadata": {},
   "source": [
    "Groups:"
   ]
  },
  {
   "cell_type": "code",
   "execution_count": null,
   "id": "05b05e0c-1fe0-4152-95f5-720ccbf89429",
   "metadata": {},
   "outputs": [],
   "source": [
    "with h5tbx.H5File(mode='w') as h5:\n",
    "    sensor_grp = h5.create_group('pressure_sensor', attrs=dict(name='my sensor', manufacturer='best_company_ever'))\n",
    "    ds = h5.create_dataset('test', shape=(3,), units='Pa', long_name='pressure')\n",
    "    ds.attrs['sensor'] = sensor_grp"
   ]
  },
  {
   "cell_type": "code",
   "execution_count": null,
   "id": "dcf943bb-4142-4f9a-90f0-7702d08c0a0f",
   "metadata": {},
   "outputs": [],
   "source": []
  }
 ],
 "metadata": {
  "kernelspec": {
   "display_name": "Python 3 (ipykernel)",
   "language": "python",
   "name": "python3"
  },
  "language_info": {
   "codemirror_mode": {
    "name": "ipython",
    "version": 3
   },
   "file_extension": ".py",
   "mimetype": "text/x-python",
   "name": "python",
   "nbconvert_exporter": "python",
   "pygments_lexer": "ipython3",
   "version": "3.8.13"
  }
 },
 "nbformat": 4,
 "nbformat_minor": 5
}
