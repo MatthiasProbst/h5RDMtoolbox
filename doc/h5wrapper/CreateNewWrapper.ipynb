{
 "cells": [
  {
   "cell_type": "markdown",
   "id": "15c7b0e2-0f1c-44f9-8ad4-661ea0f63c02",
   "metadata": {},
   "source": [
    "# New Wrapper Class\n",
    "\n",
    "The main wrapper class around a HDF5 file in this package is `H5File` which uses the wrapper class `H5Group` for `h5py.Group` and `H5Dataset` for wrapping `h5py.Dataset`"
   ]
  },
  {
   "cell_type": "code",
   "execution_count": 1,
   "id": "56805966-cb74-445f-9bf4-a93806899160",
   "metadata": {},
   "outputs": [],
   "source": [
    "from h5rdmtoolbox.h5wrapper.h5file import H5File, H5Group, H5Dataset\n",
    "from h5rdmtoolbox.h5wrapper.h5base import H5BaseDataset, H5Base, H5BaseGroup\n",
    "import h5py"
   ]
  },
  {
   "cell_type": "code",
   "execution_count": 2,
   "id": "9141f325-37f5-4857-a831-d28694401785",
   "metadata": {},
   "outputs": [],
   "source": [
    "class MyDataset(H5BaseDataset):\n",
    "    def __repr__(self):\n",
    "        return f'{self.name}\\n{self.attrs}'\n",
    "    \n",
    "    @property\n",
    "    def is_2d(self):\n",
    "        \"\"\"returns whether dataset is two-dimensional or not\"\"\"\n",
    "        return self.ndim == 2"
   ]
  },
  {
   "cell_type": "markdown",
   "id": "3af13489-c4e3-46c4-a8df-dcc6bac31d90",
   "metadata": {},
   "source": [
    "Next we create a group class with a special method, hat returns all datasets of that group. Also the `create_dataset` method is overwritten. Take care to return `MyDataset` at the end of the method, otherwise dataset class of the parent class is taken."
   ]
  },
  {
   "cell_type": "code",
   "execution_count": 3,
   "id": "b8f2255a-2d41-47bc-9231-f5e8746e22a3",
   "metadata": {},
   "outputs": [],
   "source": [
    "class MyGroup(H5BaseGroup):\n",
    "    \n",
    "    def get_all_datasets(self):\n",
    "        \"\"\"returns all datasets of this group\"\"\"\n",
    "        return [k for k in self if isinstance(self[k], h5py.Dataset)]\n",
    "    \n",
    "    def create_group(self, *args, **kwargs):\n",
    "        return __class__(super().create_group(*args, **kwargs).id)\n",
    "    \n",
    "    # def create_dataset(self, *args, **kwargs):\n",
    "    #     return __class__(super().create_dataset(*args, **kwargs).id)\n",
    "    \n",
    "    def create_dataset(self, name, user, *args, **kwargs):\n",
    "        ds = super().create_dataset(name, *args, **kwargs)\n",
    "        ds.attrs.modify('user', user)\n",
    "        return self._h5ds(ds.id)"
   ]
  },
  {
   "cell_type": "markdown",
   "id": "30add8fc-608a-4d00-8972-97a7d411d1c6",
   "metadata": {},
   "source": [
    "The main file wrapper inherites from `H5File` (\"root\" parent was `h5py.File`) and the new group class. Next, we have set the group and dataset class again, since some methods in the file wrapper class will need that information when returning instances of those classes (e.g. dataset or group creation). Finally we define a new method which sets the user name to the root attributes:"
   ]
  },
  {
   "cell_type": "code",
   "execution_count": 4,
   "id": "25d3aa40-f303-46de-bd10-aef335b78427",
   "metadata": {},
   "outputs": [],
   "source": [
    "class MyWrapper(H5Base, MyGroup):\n",
    "    \n",
    "    def set_user(self, user_name):\n",
    "        self.attrs.modify('user', user_name)"
   ]
  },
  {
   "cell_type": "markdown",
   "id": "1323ffa4-e8af-4dac-9d8a-f4248eeb3fac",
   "metadata": {},
   "source": [
    "register the dataset and group class in all classes. This is needed, so all return objects are of the newly defined types"
   ]
  },
  {
   "cell_type": "code",
   "execution_count": 5,
   "id": "e76a3499-b6d2-42f4-b56e-1f04537ef840",
   "metadata": {},
   "outputs": [],
   "source": [
    "MyGroup._h5ds = MyDataset\n",
    "MyGroup._h5grp = MyGroup\n",
    "\n",
    "MyDataset._h5ds = MyDataset\n",
    "MyDataset._h5grp = MyGroup"
   ]
  },
  {
   "cell_type": "code",
   "execution_count": 6,
   "id": "69af921f-03e8-4c8d-a08f-122472551ce6",
   "metadata": {},
   "outputs": [
    {
     "name": "stdout",
     "output_type": "stream",
     "text": [
      "C:\\Users\\da4323\\AppData\\Local\\h5rdmtoolbox\\h5rdmtoolbox\\tmp\\tmp1\\tmp0.hdf\n"
     ]
    }
   ],
   "source": [
    "h5 = MyWrapper()"
   ]
  },
  {
   "cell_type": "code",
   "execution_count": 7,
   "id": "b91e4b80-65f2-4f21-994e-c0edfed59608",
   "metadata": {},
   "outputs": [
    {
     "data": {
      "text/plain": [
       "__main__.MyWrapper"
      ]
     },
     "execution_count": 7,
     "metadata": {},
     "output_type": "execute_result"
    }
   ],
   "source": [
    "type(h5)"
   ]
  },
  {
   "cell_type": "code",
   "execution_count": 8,
   "id": "95bf3100-bb07-441a-a868-309b0ac9aef2",
   "metadata": {},
   "outputs": [],
   "source": [
    "g = h5.create_group('grp', overwrite=True)"
   ]
  },
  {
   "cell_type": "code",
   "execution_count": 9,
   "id": "3ba35edf-01dd-4515-a391-60a7f74f745b",
   "metadata": {},
   "outputs": [
    {
     "data": {
      "text/plain": [
       "__main__.MyGroup"
      ]
     },
     "execution_count": 9,
     "metadata": {},
     "output_type": "execute_result"
    }
   ],
   "source": [
    "type(g)"
   ]
  },
  {
   "cell_type": "code",
   "execution_count": 10,
   "id": "352c04bd-febe-438f-aca3-07ced3e2eff7",
   "metadata": {},
   "outputs": [],
   "source": [
    "gg = g.create_group('grp', overwrite=True)"
   ]
  },
  {
   "cell_type": "code",
   "execution_count": 11,
   "id": "84f79b60-7a7d-41cc-804d-b3aee800d55e",
   "metadata": {},
   "outputs": [
    {
     "data": {
      "text/plain": [
       "__main__.MyGroup"
      ]
     },
     "execution_count": 11,
     "metadata": {},
     "output_type": "execute_result"
    }
   ],
   "source": [
    "type(gg)"
   ]
  },
  {
   "cell_type": "code",
   "execution_count": 12,
   "id": "27815724-5671-4229-868e-5e5a82213012",
   "metadata": {},
   "outputs": [],
   "source": [
    "ds = gg.create_dataset('hello', user='test user', shape=(2,3), overwrite=True)"
   ]
  },
  {
   "cell_type": "code",
   "execution_count": 13,
   "id": "2e6f82e1-008d-41fe-b6a3-92d3ee29f6ee",
   "metadata": {},
   "outputs": [
    {
     "data": {
      "text/plain": [
       "/grp/grp/hello\n",
       "user  test user"
      ]
     },
     "execution_count": 13,
     "metadata": {},
     "output_type": "execute_result"
    }
   ],
   "source": [
    "ds"
   ]
  },
  {
   "cell_type": "code",
   "execution_count": 14,
   "id": "3bb4bdff-08a4-49d8-811b-a7b59f87960b",
   "metadata": {},
   "outputs": [
    {
     "data": {
      "text/plain": [
       "__main__.MyDataset"
      ]
     },
     "execution_count": 14,
     "metadata": {},
     "output_type": "execute_result"
    }
   ],
   "source": [
    "type(ds)"
   ]
  },
  {
   "cell_type": "code",
   "execution_count": 15,
   "id": "d81d0a38-b005-4703-aa62-f0b78f6665d8",
   "metadata": {},
   "outputs": [
    {
     "data": {
      "text/plain": [
       "[]"
      ]
     },
     "execution_count": 15,
     "metadata": {},
     "output_type": "execute_result"
    }
   ],
   "source": [
    "h5.datasets"
   ]
  }
 ],
 "metadata": {
  "kernelspec": {
   "display_name": "Python 3 (ipykernel)",
   "language": "python",
   "name": "python3"
  },
  "language_info": {
   "codemirror_mode": {
    "name": "ipython",
    "version": 3
   },
   "file_extension": ".py",
   "mimetype": "text/x-python",
   "name": "python",
   "nbconvert_exporter": "python",
   "pygments_lexer": "ipython3",
   "version": "3.8.13"
  }
 },
 "nbformat": 4,
 "nbformat_minor": 5
}
