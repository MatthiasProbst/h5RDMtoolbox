{
 "cells": [
  {
   "cell_type": "markdown",
   "id": "bc8aa0cd-d64b-4ec2-bc5e-d723c20a156e",
   "metadata": {
    "tags": []
   },
   "source": [
    "# Natural Naming"
   ]
  },
  {
   "cell_type": "code",
   "execution_count": null,
   "id": "97f1f3a5-5f93-4e1b-b7a4-e3d9b296dd00",
   "metadata": {},
   "outputs": [],
   "source": [
    "import h5rdmtoolbox as h5tbx"
   ]
  },
  {
   "cell_type": "code",
   "execution_count": null,
   "id": "c5b94c36-c5c2-4c09-b5a8-a4a45ccd401e",
   "metadata": {},
   "outputs": [],
   "source": [
    "with h5tbx.H5File() as h5:\n",
    "    ds = h5.create_dataset('test', shape=(3,), units='Pa', long_name='pressure')\n",
    "    print(h5.test)"
   ]
  }
 ],
 "metadata": {
  "kernelspec": {
   "display_name": "Python 3 (ipykernel)",
   "language": "python",
   "name": "python3"
  },
  "language_info": {
   "codemirror_mode": {
    "name": "ipython",
    "version": 3
   },
   "file_extension": ".py",
   "mimetype": "text/x-python",
   "name": "python",
   "nbconvert_exporter": "python",
   "pygments_lexer": "ipython3",
   "version": "3.8.13"
  }
 },
 "nbformat": 4,
 "nbformat_minor": 5
}
