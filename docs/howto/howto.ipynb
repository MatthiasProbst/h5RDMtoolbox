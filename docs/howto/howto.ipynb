{
 "cells": [
  {
   "cell_type": "markdown",
   "metadata": {
    "jupyter": {
     "outputs_hidden": true
    }
   },
   "source": [
    "# How to .... ?\n",
    "A FAQ-like section to quickly find answers to common questions."
   ]
  },
  {
   "cell_type": "markdown",
   "metadata": {},
   "source": [
    "### ... get a `np.array` returned instead of a `xr.DataArray`?\n",
    "\n",
    "There are two ways: First, use the global config to control the general behaviour by calling `h5tbx.config.return_xarray=False`. Second option is to call `.values[:]` on the dataset:"
   ]
  },
  {
   "cell_type": "code",
   "execution_count": 1,
   "metadata": {},
   "outputs": [
    {
     "name": "stdout",
     "output_type": "stream",
     "text": [
      "<class 'xarray.core.dataarray.DataArray'>\n",
      "<class 'xarray.core.dataarray.DataArray'>\n",
      "<class 'numpy.ndarray'>\n"
     ]
    }
   ],
   "source": [
    "import h5rdmtoolbox as h5tbx\n",
    "\n",
    "h5tbx.config.return_xarray = False\n",
    "with h5tbx.H5File() as h5:\n",
    "    h5.create_dataset('test', shape=(3, 4), attrs=dict(long_name='a long name'))\n",
    "    print(type(h5['test'][:]))\n",
    "    h5tbx.config.return_xarray = True\n",
    "    print(type(h5['test'][:]))\n",
    "    h5tbx.config.return_xarray = True\n",
    "    print(type(h5['test'].values[:]))"
   ]
  },
  {
   "cell_type": "markdown",
   "metadata": {},
   "source": [
    "## ... avoid having to provide `units` and `long_name` or `standard_name` during dataset creation\n",
    "This cannot be avoided as we believe these are minimal auxiliary information (meta data) required with every dataset. If unitless, pass `units=' '` and if you are not using any naming standard provide `long_name` which is just a description of your dataset and should be easy to think of."
   ]
  },
  {
   "cell_type": "markdown",
   "metadata": {},
   "source": [
    "## ... change my personal config\n",
    "When the package is installed for the first time, a configuration `yaml`-file is copied to your local user directory. To find out where this is exactly, call:"
   ]
  },
  {
   "cell_type": "code",
   "execution_count": 2,
   "metadata": {},
   "outputs": [],
   "source": [
    "import h5rdmtoolbox as h5tbx\n",
    "my_config = h5tbx.user_config_filename"
   ]
  },
  {
   "cell_type": "markdown",
   "metadata": {},
   "source": [
    "Best is to check if your configuration file is complete by calling `check_config`. The returned configuration is the corrected one:"
   ]
  },
  {
   "cell_type": "code",
   "execution_count": 3,
   "metadata": {},
   "outputs": [
    {
     "data": {
      "text/plain": [
       "{'RETURN_XARRAY': True, 'ADVANCED_SHAPE_REPR': True, 'NATURAL_NAMING': True, 'HDF_COMPRESSION': 'gzip', 'HDF_COMPRESSION_OPTS': 5, 'HTML_MAX_STRING_LENGTH': 40, 'MPL_STYLE': 'h5rdmtoolbox', 'XARRAY_UNIT_REPR_IN_PLOTS': '/', 'REQUIRE_UNITS': True, 'UREG_FORMAT': 'C~', 'STANDARD_NAME_TABLE_ATTRIBUTE_NAME': '__standard_name_table__', 'CONVENTION': 'default', 'INIT_LOGGER_LEVEL': 'DEBUG'}"
      ]
     },
     "execution_count": 3,
     "metadata": {},
     "output_type": "execute_result"
    }
   ],
   "source": [
    "from h5rdmtoolbox.config import check_config, read_user_config\n",
    "check_config(remove_wrong=True)"
   ]
  },
  {
   "cell_type": "code",
   "execution_count": null,
   "metadata": {},
   "outputs": [],
   "source": []
  }
 ],
 "metadata": {
  "kernelspec": {
   "display_name": "Python 3 (ipykernel)",
   "language": "python",
   "name": "python3"
  },
  "language_info": {
   "codemirror_mode": {
    "name": "ipython",
    "version": 3
   },
   "file_extension": ".py",
   "mimetype": "text/x-python",
   "name": "python",
   "nbconvert_exporter": "python",
   "pygments_lexer": "ipython3",
   "version": "3.8.15"
  }
 },
 "nbformat": 4,
 "nbformat_minor": 4
}
