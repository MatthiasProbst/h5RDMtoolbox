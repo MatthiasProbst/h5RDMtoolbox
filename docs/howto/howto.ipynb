{
 "cells": [
  {
   "cell_type": "markdown",
   "metadata": {
    "jupyter": {
     "outputs_hidden": true
    }
   },
   "source": [
    "# How to .... ?\n",
    "A FAQ-like section to quickly find answers to common questions."
   ]
  },
  {
   "cell_type": "markdown",
   "metadata": {},
   "source": [
    "### ... change the configuration of the package `h5rdmtoolbox`?"
   ]
  },
  {
   "cell_type": "code",
   "execution_count": 1,
   "metadata": {},
   "outputs": [
    {
     "name": "stderr",
     "output_type": "stream",
     "text": [
      "2023-02-24_20:49:29,420 DEBUG    [__init__.py:33] changed logger level for h5rdmtoolbox from 20 to DEBUG\n"
     ]
    },
    {
     "name": "stdout",
     "output_type": "stream",
     "text": [
      "{'RETURN_XARRAY': True, 'ADVANCED_SHAPE_REPR': True, 'NATURAL_NAMING': True, 'HDF_COMPRESSION': 'gzip', 'HDF_COMPRESSION_OPTS': 5, 'HTML_MAX_STRING_LENGTH': 40, 'XARRAY_UNIT_REPR_IN_PLOTS': '/', 'REQUIRE_UNITS': True, 'UREG_FORMAT': 'C~', 'STANDARD_NAME_TABLE_ATTRIBUTE_NAME': '__standard_name_table__', 'CONVENTION': 'default', 'INIT_LOGGER_LEVEL': 'DEBUG'}\n"
     ]
    }
   ],
   "source": [
    "import h5rdmtoolbox as h5tbx\n",
    "\n",
    "# write the default config to file and make it available\n",
    "h5tbx.config.write_default_config()\n",
    "print(h5tbx.config.CONFIG)"
   ]
  },
  {
   "cell_type": "code",
   "execution_count": 2,
   "metadata": {
    "tags": []
   },
   "outputs": [
    {
     "name": "stdout",
     "output_type": "stream",
     "text": [
      "{'RETURN_XARRAY': True, 'ADVANCED_SHAPE_REPR': True, 'NATURAL_NAMING': True, 'HDF_COMPRESSION': 'gzip', 'HDF_COMPRESSION_OPTS': 5, 'HTML_MAX_STRING_LENGTH': 40, 'XARRAY_UNIT_REPR_IN_PLOTS': '/', 'REQUIRE_UNITS': True, 'UREG_FORMAT': 'C~', 'STANDARD_NAME_TABLE_ATTRIBUTE_NAME': '__standard_name_table__', 'CONVENTION': 'default', 'INIT_LOGGER_LEVEL': 'DEBUG'}\n"
     ]
    }
   ],
   "source": [
    "# change one entry and save it to file (optional)\n",
    "h5tbx.config.CONFIG.INIT_LOGGER_LEVEL = 'DEBUG'\n",
    "h5tbx.config.write_user_config(h5tbx.config.CONFIG)\n",
    "print(h5tbx.config.CONFIG)"
   ]
  },
  {
   "cell_type": "markdown",
   "metadata": {},
   "source": [
    "Best is to check if your configuration file is complete by calling `check_config`. The returned configuration is the corrected one:"
   ]
  },
  {
   "cell_type": "code",
   "execution_count": 3,
   "metadata": {},
   "outputs": [
    {
     "data": {
      "text/plain": [
       "{'RETURN_XARRAY': True, 'ADVANCED_SHAPE_REPR': True, 'NATURAL_NAMING': True, 'HDF_COMPRESSION': 'gzip', 'HDF_COMPRESSION_OPTS': 5, 'HTML_MAX_STRING_LENGTH': 40, 'XARRAY_UNIT_REPR_IN_PLOTS': '/', 'REQUIRE_UNITS': True, 'UREG_FORMAT': 'C~', 'STANDARD_NAME_TABLE_ATTRIBUTE_NAME': '__standard_name_table__', 'CONVENTION': 'default', 'INIT_LOGGER_LEVEL': 'DEBUG'}"
      ]
     },
     "execution_count": 3,
     "metadata": {},
     "output_type": "execute_result"
    }
   ],
   "source": [
    "from h5rdmtoolbox.config import check_config\n",
    "check_config(remove_wrong=True)"
   ]
  },
  {
   "cell_type": "markdown",
   "metadata": {},
   "source": [
    "from h5rdmtoolbox.config import check_config, read_user_config\n",
    "check_config(remove_wrong=True)### ... get a `np.array` returned instead of a `xr.DataArray`?\n",
    "\n",
    "There are two ways: First, use the global config to control the general behaviour by calling `h5tbx.config.return_xarray=False`. Second option is to call `.values[:]` on the dataset:"
   ]
  },
  {
   "cell_type": "code",
   "execution_count": 3,
   "metadata": {},
   "outputs": [
    {
     "name": "stdout",
     "output_type": "stream",
     "text": [
      "<class 'xarray.core.dataarray.DataArray'>\n",
      "<class 'xarray.core.dataarray.DataArray'>\n",
      "<class 'numpy.ndarray'>\n"
     ]
    }
   ],
   "source": [
    "import h5rdmtoolbox as h5tbx\n",
    "\n",
    "h5tbx.config.return_xarray = False\n",
    "with h5tbx.H5File() as h5:\n",
    "    h5.create_dataset('test', shape=(3, 4), attrs=dict(long_name='a long name'))\n",
    "    print(type(h5['test'][:]))\n",
    "    h5tbx.config.return_xarray = True\n",
    "    print(type(h5['test'][:]))\n",
    "    h5tbx.config.return_xarray = True\n",
    "    print(type(h5['test'].values[:]))"
   ]
  },
  {
   "cell_type": "markdown",
   "metadata": {},
   "source": [
    "## ... avoid having to provide `units` and `long_name` or `standard_name` during dataset creation\n",
    "This cannot be avoided as we believe these are minimal auxiliary information (meta data) required with every dataset. If unitless, pass `units=' '` and if you are not using any naming standard provide `long_name` which is just a description of your dataset and should be easy to think of."
   ]
  },
  {
   "cell_type": "markdown",
   "metadata": {},
   "source": [
    "## ... acces datasests inependent on its upper or lower case?\n",
    "If you only now the string but not whether it is writen upper lower case or anything inbetween use this line:"
   ]
  },
  {
   "cell_type": "code",
   "execution_count": 6,
   "metadata": {},
   "outputs": [
    {
     "name": "stdout",
     "output_type": "stream",
     "text": [
      "<HDF5 dataset \"TEST\": shape (), type \"<i4\", convention \"default\">\n"
     ]
    }
   ],
   "source": [
    "with h5tbx.H5File() as h5:\n",
    "    h5.create_dataset('TEST', data=1)\n",
    "    print(h5[h5tbx.lower('test')])"
   ]
  },
  {
   "cell_type": "markdown",
   "metadata": {},
   "source": [
    "## ... slice a dataset based on a condition?\n",
    "Good practice is to have dimension attached to the datasets. The dimension scales can be used to decide what to slice exactly. The following example first generates a dataset and the slices it depending on the value in the first dimension, in this case the time:"
   ]
  },
  {
   "cell_type": "code",
   "execution_count": 4,
   "metadata": {},
   "outputs": [
    {
     "data": {
      "text/html": [
       "<head><style>/*\r\n",
       "CSS inspired by xarray: https://github.com/pydata/xarray\r\n",
       "*/\r\n",
       ".h5tb-header > div,\r\n",
       ".h5tb-header > ul {\r\n",
       "    display: inline;\r\n",
       "    margin-top: 0;\r\n",
       "    margin-bottom: 0;\r\n",
       "}\r\n",
       "\r\n",
       ".h5tb-dataarray-cls,\r\n",
       ".h5tb-dataarray-name {\r\n",
       "    margin-left: 2px;\r\n",
       "    margin-right: 10px;\r\n",
       "}\r\n",
       "\r\n",
       ".h5tb-dataarray-name {\r\n",
       "    color: #000;\r\n",
       "}\r\n",
       "\r\n",
       ".h5grp-sections {\r\n",
       "    list-style: none;\r\n",
       "    padding: 3px;\r\n",
       "    margin: 0;\r\n",
       "}\r\n",
       "\r\n",
       ".h5grp-sections input {\r\n",
       "    display: none;\r\n",
       "}\r\n",
       "\r\n",
       ".h5grp-sections label {\r\n",
       "    display: inline;\r\n",
       "}\r\n",
       "\r\n",
       ".h5grp-sections > li > input + label > span {\r\n",
       "    display: inline;\r\n",
       "    margin-left: 4px;\r\n",
       "}\r\n",
       "\r\n",
       ".h5grp-sections > li > input:checked + label > span {\r\n",
       "    display: none;\r\n",
       "}\r\n",
       "\r\n",
       ".h5grp-sections input:enabled + label {\r\n",
       "    cursor: pointer;\r\n",
       "}\r\n",
       "\r\n",
       ".h5grp-sections input:not(.h5tb-values-in) ~ ul {\r\n",
       "    display: none;\r\n",
       "}\r\n",
       "\r\n",
       ".h5grp-sections input:not(.h5tb-values-in):checked ~ ul {\r\n",
       "    display: block;\r\n",
       "}\r\n",
       "\r\n",
       ".h5grp-sections > li > input + label {\r\n",
       "    width: 140px;\r\n",
       "    color: #555;\r\n",
       "    font-weight: 500;\r\n",
       "    padding: 4px 0 2px 0;\r\n",
       "}\r\n",
       "\r\n",
       "\r\n",
       ".h5grp-sections > li > input + label:before {\r\n",
       "    display: inline-block;\r\n",
       "    content: '+';\r\n",
       "    font-size: 11px;\r\n",
       "    width: 15px;\r\n",
       "    text-align: center;\r\n",
       "}\r\n",
       "\r\n",
       ".h5grp-sections > li > input:disabled + label:before {\r\n",
       "    color: #777;\r\n",
       "}\r\n",
       "\r\n",
       ".h5grp-sections > li > input:checked + label:before {\r\n",
       "    content: '-';\r\n",
       "}\r\n",
       "\r\n",
       ".h5tb-dim-list {\r\n",
       "    display: inline-block !important;\r\n",
       "    list-style: none;\r\n",
       "    padding: 0;\r\n",
       "}\r\n",
       "\r\n",
       ".h5tb-dim-list li {\r\n",
       "    display: inline-block;\r\n",
       "    padding: 0;\r\n",
       "    margin: 0;\r\n",
       "}\r\n",
       "\r\n",
       ".h5tb-dim-list:before {\r\n",
       "    content: '(';\r\n",
       "}\r\n",
       "\r\n",
       ".h5tb-dim-list:after {\r\n",
       "    content: ')';\r\n",
       "}\r\n",
       "\r\n",
       ".h5tb-dim-list li:not(:last-child):after {\r\n",
       "    content: ',';\r\n",
       "}\r\n",
       "\r\n",
       ".h5tb-has-index {\r\n",
       "    text-decoration: underline;\r\n",
       "}\r\n",
       "\r\n",
       ".h5tb-var-list {\r\n",
       "    list-style: none;\r\n",
       "    padding: 0;\r\n",
       "    margin: 0;\r\n",
       "}\r\n",
       "\r\n",
       ".h5tb-var-list > li {\r\n",
       "    background-color: #fcfcfc;\r\n",
       "    overflow: hidden;\r\n",
       "}\r\n",
       "\r\n",
       ".h5tb-var-list > li:nth-child(odd) {\r\n",
       "    background-color: #efefef;\r\n",
       "}\r\n",
       "\r\n",
       ".h5tb-var-list li:hover {\r\n",
       "    background-color: rgba(3, 169, 244, .2);\r\n",
       "}\r\n",
       "\r\n",
       ".h5tb-var-list li > span {\r\n",
       "    display: inline-block;\r\n",
       "}\r\n",
       "\r\n",
       "input.h5tb-varname-in + label {\r\n",
       "    width: 140px;\r\n",
       "    padding-left: 0;\r\n",
       "    font-weight: bold;\r\n",
       "}\r\n",
       "\r\n",
       ".h5tb-dataset {\r\n",
       "    width: 100px;\r\n",
       "}\r\n",
       "\r\n",
       ".h5tb-attributevalue {\r\n",
       "    width: 100px;\r\n",
       "    text-align: left;\r\n",
       "    color: #888;\r\n",
       "    white-space: nowrap;\r\n",
       "    font-size: 12px;\r\n",
       "}\r\n",
       "\r\n",
       "input.h5tb-varname-in + label:before {\r\n",
       "    content: ' ';\r\n",
       "    display: inline-block;\r\n",
       "    font-size: 11px;\r\n",
       "    width: 15px;\r\n",
       "    padding-left: 2px;\r\n",
       "    padding-right: 2px;\r\n",
       "    text-align: center;\r\n",
       "    color: #aaa;\r\n",
       "    text-decoration: none !important;\r\n",
       "}\r\n",
       "\r\n",
       "input.h5tb-varname-in:enabled + label:hover:before {\r\n",
       "    color: #000;\r\n",
       "}\r\n",
       "\r\n",
       "input.h5tb-varname-in:checked + label:before {\r\n",
       "    color: #ccc;\r\n",
       "}\r\n",
       "\r\n",
       ".h5tb-dims {\r\n",
       "    width: 280px;\r\n",
       "    white-space: nowrap;\r\n",
       "}\r\n",
       "\r\n",
       "\r\n",
       ".h5tb-unit {\r\n",
       "    width: 96px;\r\n",
       "    white-space: nowrap;\r\n",
       "    padding-right: 2px;\r\n",
       "    text-align: right;\r\n",
       "    color: #555;\r\n",
       "    font-style: italic;\r\n",
       "}\r\n",
       "\r\n",
       ".h5tb-attr-list {\r\n",
       "    list-style: none;\r\n",
       "    background-color: #fff;\r\n",
       "    padding-bottom: 6px;\r\n",
       "    color: #555;\r\n",
       "}\r\n",
       "\r\n",
       ".h5tb-attr-list li,\r\n",
       ".h5tb-attr-list li:hover {\r\n",
       "    background-color: #fff;\r\n",
       "}\r\n",
       "\r\n",
       ".h5tb-dim-highlight {\r\n",
       "    background-color: rgba(3, 169, 244, .2);\r\n",
       "    cursor: pointer;\r\n",
       "}</style></head>\n",
       "<div class='h5tb-warp'>\n",
       "\n",
       "              <ul style=\"list-style-type: none;\" class=\"h5grp-sections\">\n",
       "                    <li>\n",
       "                        <input id=\"group-ds--72344414258800\" type=\"checkbox\" checked>\n",
       "                        <label style=\"font-weight: bold\" for=\"group-ds--72344414258800\">\n",
       "                        /<span>(4)</span></label>\n",
       "                  \n",
       "\n",
       "                    <ul class=\"h5tb-attr-list\"><li style=\"list-style-type: none; font-style: italic\">__h5rdmtoolbox_version__ : 0.3.0a3</li>\n",
       "                    </ul>\n",
       "\n",
       "                <ul id=\"ds-1-/data-72344419551100\" class=\"h5tb-var-list\">\n",
       "                <input id=\"ds-2-/data-72344419561900\" class=\"h5tb-varname-in\" type=\"checkbox\">\n",
       "                <label class='h5tb-varname' \n",
       "                    for=\"ds-2-/data-72344419561900\">data</label>\n",
       "                <span class=\"h5tb-dims\">(time: 100, y: 200, x: 100) [float64]</span>\n",
       "<ul class=\"h5tb-attr-list\">\n",
       "\n",
       "                    </ul>\n",
       "\n",
       "                 </ul>\n",
       "                 \n",
       "\n",
       "                <ul id=\"ds-1-/time-72344420470900\" class=\"h5tb-var-list\">\n",
       "                <input id=\"ds-2-/time-72344420481700\" class=\"h5tb-varname-in\" type=\"checkbox\">\n",
       "                <label class='h5tb-varname' \n",
       "                    for=\"ds-2-/time-72344420481700\">time</label>\n",
       "                <span class=\"h5tb-dims\">(100,) [int32]</span>\n",
       "<ul class=\"h5tb-attr-list\">\n",
       "\n",
       "                    </ul>\n",
       "\n",
       "                 </ul>\n",
       "                 \n",
       "\n",
       "                <ul id=\"ds-1-/x-72344421704400\" class=\"h5tb-var-list\">\n",
       "                <input id=\"ds-2-/x-72344421715000\" class=\"h5tb-varname-in\" type=\"checkbox\">\n",
       "                <label class='h5tb-varname' \n",
       "                    for=\"ds-2-/x-72344421715000\">x</label>\n",
       "                <span class=\"h5tb-dims\">(100,) [int32]</span>\n",
       "<ul class=\"h5tb-attr-list\">\n",
       "\n",
       "                    </ul>\n",
       "\n",
       "                 </ul>\n",
       "                 \n",
       "\n",
       "                <ul id=\"ds-1-/y-72344422853800\" class=\"h5tb-var-list\">\n",
       "                <input id=\"ds-2-/y-72344422864300\" class=\"h5tb-varname-in\" type=\"checkbox\">\n",
       "                <label class='h5tb-varname' \n",
       "                    for=\"ds-2-/y-72344422864300\">y</label>\n",
       "                <span class=\"h5tb-dims\">(200,) [int32]</span>\n",
       "<ul class=\"h5tb-attr-list\">\n",
       "\n",
       "                    </ul>\n",
       "\n",
       "                 </ul>\n",
       "                 \n",
       "</li>\n",
       "</ul>\n",
       "</div>"
      ],
      "text/plain": [
       "<IPython.core.display.HTML object>"
      ]
     },
     "metadata": {},
     "output_type": "display_data"
    }
   ],
   "source": [
    "import numpy as np\n",
    "with h5tbx.H5File() as h5:\n",
    "    h5.create_dataset('time', data=range(0, 100), make_scale=True)\n",
    "    h5.create_dataset('x', data=range(0, 100), make_scale=True)\n",
    "    h5.create_dataset('y', data=range(0, 200), make_scale=True)\n",
    "    h5.create_dataset('data', np.random.rand(100, 200, 100), attach_scale=('time', 'y', 'x'))\n",
    "    data = h5.data[:]\n",
    "    h5.dump()"
   ]
  },
  {
   "cell_type": "code",
   "execution_count": 6,
   "metadata": {},
   "outputs": [
    {
     "data": {
      "image/png": "[encoded data removed]",
      "text/plain": [
       "<Figure size 640x480 with 1 Axes>"
      ]
     },
     "metadata": {},
     "output_type": "display_data"
    }
   ],
   "source": [
    "with h5tbx.H5File(h5.hdf_filename) as h5:\n",
    "    h5.data[h5.data.time > 5.4, :, :].plot()"
   ]
  },
  {
   "cell_type": "code",
   "execution_count": null,
   "metadata": {},
   "outputs": [],
   "source": []
  }
 ],
 "metadata": {
  "kernelspec": {
   "display_name": "Python 3 (ipykernel)",
   "language": "python",
   "name": "python3"
  },
  "language_info": {
   "codemirror_mode": {
    "name": "ipython",
    "version": 3
   },
   "file_extension": ".py",
   "mimetype": "text/x-python",
   "name": "python",
   "nbconvert_exporter": "python",
   "pygments_lexer": "ipython3",
   "version": "3.8.15"
  }
 },
 "nbformat": 4,
 "nbformat_minor": 4
}
