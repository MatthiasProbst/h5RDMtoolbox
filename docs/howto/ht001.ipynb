{
 "cells": [
  {
   "cell_type": "markdown",
   "id": "73496983-6bd2-413e-ae07-d8e090db51ae",
   "metadata": {},
   "source": [
    "# ... change the configuration of the package `h5rdmtoolbox`?"
   ]
  },
  {
   "cell_type": "code",
   "execution_count": 1,
   "id": "18c84d99-1c68-44fb-aeb7-013e65fd45ba",
   "metadata": {
    "tags": []
   },
   "outputs": [
    {
     "name": "stderr",
     "output_type": "stream",
     "text": [
      "2023-04-05_12:06:12,84 DEBUG    [__init__.py:35] changed logger level for h5rdmtoolbox from 20 to DEBUG\n"
     ]
    },
    {
     "name": "stdout",
     "output_type": "stream",
     "text": [
      "{'return_xarray': True, 'advanced_shape_repr': True, 'natural_naming': True, 'hdf_compression': 'gzip', 'hdf_compression_opts': 5, 'xarray_unit_repr_in_plots': '/', 'require_unit': True, 'ureg_format': 'C~', 'default_convention': 'h5py', 'init_logger_level': 'DEBUG', 'dtime_fmt': '%Y%m%d%H%M%S%f', 'expose_user_prop_to_attrs': True}\n"
     ]
    }
   ],
   "source": [
    "import h5rdmtoolbox as h5tbx\n",
    "\n",
    "# write the default config to file and make it available\n",
    "h5tbx.write_default_config()\n",
    "print(h5tbx.config)"
   ]
  },
  {
   "cell_type": "code",
   "execution_count": 2,
   "id": "9dc024ef-88f8-40fe-8294-4218f22c9d88",
   "metadata": {
    "tags": []
   },
   "outputs": [
    {
     "name": "stdout",
     "output_type": "stream",
     "text": [
      "{'return_xarray': True, 'advanced_shape_repr': True, 'natural_naming': True, 'hdf_compression': 'gzip', 'hdf_compression_opts': 5, 'xarray_unit_repr_in_plots': '/', 'require_unit': True, 'ureg_format': 'C~', 'default_convention': 'h5py', 'init_logger_level': 'DEBUG', 'dtime_fmt': '%Y%m%d%H%M%S%f', 'expose_user_prop_to_attrs': True}\n"
     ]
    }
   ],
   "source": [
    "# change one entry and save it to file (optional)\n",
    "h5tbx.config.init_logger_level = 'DEBUG'\n",
    "h5tbx.write_user_config(h5tbx.config)\n",
    "print(h5tbx.config)"
   ]
  },
  {
   "cell_type": "code",
   "execution_count": null,
   "id": "c0721dbf-c03d-4a78-bc9d-32bb6ac482f5",
   "metadata": {},
   "outputs": [],
   "source": []
  }
 ],
 "metadata": {
  "kernelspec": {
   "display_name": "Python 3 (ipykernel)",
   "language": "python",
   "name": "python3"
  },
  "language_info": {
   "codemirror_mode": {
    "name": "ipython",
    "version": 3
   },
   "file_extension": ".py",
   "mimetype": "text/x-python",
   "name": "python",
   "nbconvert_exporter": "python",
   "pygments_lexer": "ipython3",
   "version": "3.8.16"
  }
 },
 "nbformat": 4,
 "nbformat_minor": 5
}
