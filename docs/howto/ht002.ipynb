{
 "cells": [
  {
   "cell_type": "markdown",
   "id": "6a43d91a-fd42-4715-86e0-eda52c06ae1b",
   "metadata": {},
   "source": [
    "# ... access datasests inependent on its upper or lower case?\n",
    "If you only now the string but not whether it is writen upper lower case or anything inbetween use this line:"
   ]
  },
  {
   "cell_type": "code",
   "execution_count": 2,
   "id": "30ee3279-90a2-4859-83e9-7236ba03caf0",
   "metadata": {
    "tags": []
   },
   "outputs": [
    {
     "name": "stderr",
     "output_type": "stream",
     "text": [
      "2023-04-05_12:07:17,353 DEBUG    [__init__.py:35] changed logger level for h5rdmtoolbox from 20 to DEBUG\n"
     ]
    },
    {
     "name": "stdout",
     "output_type": "stream",
     "text": [
      "<HDF5 dataset \"TEST\": shape (), type \"<i4\", convention \"h5py\">\n"
     ]
    }
   ],
   "source": [
    "import h5rdmtoolbox as h5tbx\n",
    "with h5tbx.File() as h5:\n",
    "    h5.create_dataset('TEST', data=1)\n",
    "    print(h5[h5tbx.lower('test')])"
   ]
  },
  {
   "cell_type": "code",
   "execution_count": null,
   "id": "65276702-b323-4669-a73a-3e08f270ab51",
   "metadata": {},
   "outputs": [],
   "source": []
  }
 ],
 "metadata": {
  "kernelspec": {
   "display_name": "Python 3 (ipykernel)",
   "language": "python",
   "name": "python3"
  },
  "language_info": {
   "codemirror_mode": {
    "name": "ipython",
    "version": 3
   },
   "file_extension": ".py",
   "mimetype": "text/x-python",
   "name": "python",
   "nbconvert_exporter": "python",
   "pygments_lexer": "ipython3",
   "version": "3.8.16"
  }
 },
 "nbformat": 4,
 "nbformat_minor": 5
}
