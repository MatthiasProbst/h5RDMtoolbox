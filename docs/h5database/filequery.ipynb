{
 "cells": [
  {
   "cell_type": "markdown",
   "id": "8c851066-f76d-4ef4-bf91-29cff0334ad0",
   "metadata": {},
   "source": [
    "# HDF File as a Database\n",
    "\n",
    "As many information can be stored in an HDF5 files. By using goups, the structure can be quite nested and sometime it could be helpful to just search for an attribute, a dataset name or a specific property of it, or instance. Thus, an HDF5 file itself is a kind of database in itself.\n",
    "\n",
    "The `h5rdmtoolbox` provides methods for `H5File` (and its subclasses) to find datasets and groups. The query syntax is tried to be as close as possible to the one `pymongo` uses."
   ]
  },
  {
   "cell_type": "code",
   "execution_count": null,
   "id": "ff22a40d-e700-4a1a-9402-f48f509dcf1d",
   "metadata": {
    "tags": []
   },
   "outputs": [],
   "source": [
    "from h5rdmtoolbox import h5database as h5db\n",
    "from h5rdmtoolbox import generate_temporary_directory\n",
    "from h5rdmtoolbox import tutorial\n",
    "import h5rdmtoolbox as h5tbx"
   ]
  },
  {
   "cell_type": "markdown",
   "id": "048228c1-1486-46e0-9ee5-8645d65034c9",
   "metadata": {},
   "source": [
    "Let's build an example file:"
   ]
  },
  {
   "cell_type": "code",
   "execution_count": null,
   "id": "b2a3fbff-7cbc-48fb-ab61-2cf002f59cb2",
   "metadata": {
    "tags": []
   },
   "outputs": [],
   "source": [
    "test_filename = h5tbx.generate_temporary_filename()\n",
    "\n",
    "with h5tbx.H5File(test_filename, 'r+') as h5:\n",
    "    h5.attrs['attrvalue'] = 3\n",
    "    h5.attrs['a float'] = 4.1\n",
    "    h5.attrs['root_attr3'] = 'a string'\n",
    "    h5.create_group('a group', attrs=dict(attrvalue=14.3))\n",
    "    h5.create_dataset('x', shape=(2,), units='', standard_name='x_coordinate', attrs=dict(attrvalue=3))\n",
    "    h5.create_dataset('y', shape=(2,), units='', standard_name='y_coordinate')\n",
    "    "
   ]
  },
  {
   "cell_type": "markdown",
   "id": "d004887e-18c6-4cac-aeb0-43248d12a3f8",
   "metadata": {},
   "source": [
    "## Query syntax\n",
    "\n",
    "The method to be called to find something in an HDF5 file is `find()` (or `find_one()`). What can be foud are datasets or groups. It can also be limited to one of the both objects.\n",
    "\n",
    "The syntax is very similar to that of pymongo. There's a basic search and a advanced search.\n",
    "\n",
    "### Basic search\n",
    "The basic search queries attributes, only. To find an object, a dictionary is passed containing the name of an `attribute` and the `value`, e.g.:"
   ]
  },
  {
   "cell_type": "code",
   "execution_count": null,
   "id": "014ff095-7a92-42a8-8ec7-e7779d8571de",
   "metadata": {},
   "outputs": [],
   "source": [
    "with h5tbx.H5File(test_filename) as h5:\n",
    "    print(h5.find({'attrvalue': 3}))\n",
    "    r = h5.find_one({'attrvalue': 3})\n",
    "    print(r)"
   ]
  },
  {
   "cell_type": "markdown",
   "id": "3a32b671-87dc-4e87-ae69-502078923546",
   "metadata": {},
   "source": [
    "The above query finds to objects (root group and dataset 'x') based on the attribute \"attrvalue\", which matches 3."
   ]
  },
  {
   "cell_type": "markdown",
   "id": "c4a03b9d-f6dd-48a5-b19f-b81af0184c39",
   "metadata": {},
   "source": [
    "### Advanced search\n",
    "\n",
    "The advanced search involveds special keywords starting with a dollar sign. For the key of the dictionary this is intepreted as a class property: `$<class-property>`. A typical property-keyword would be `$basename`, which matches all base-names (name without parent-path). The dictionary value can also be adjusted. This allows other comparisons than \"is equal to\" as it is the case with the basic search. Let's perform some advanced searches:"
   ]
  },
  {
   "cell_type": "code",
   "execution_count": null,
   "id": "a5b0326a-61bd-48e9-8ee0-95b8244f0312",
   "metadata": {},
   "outputs": [],
   "source": [
    "with h5tbx.H5File(test_filename) as h5:\n",
    "    print(\"{'attrvalue': {'$gt': 0}:\\n\\t\", h5.find({'attrvalue': {'$gt': 0}}))\n",
    "    print(\"{'standard_name':  {'$regex': '_coordinate$'}}:\\n\\t\", h5.find({'standard_name': {'$regex': '_coordinate$'}}))\n",
    "    print(\"{'$basename': 'x'}:\\n\\t\", h5.find({'$basename': 'x'}))\n",
    "    print(\"{'$ndim': 1)}:\\n\\t\", h5.find({'$ndim': 1}))\n",
    "    print(\"{'$shape': (2, )}:\\n\\t\", h5.find({'$shape': (2, )}))"
   ]
  },
  {
   "cell_type": "markdown",
   "id": "e9bde294-7907-4c36-b28e-da2e6fc091a4",
   "metadata": {},
   "source": [
    "All query operators (that's what it is called in pymongo) implemented are:\n",
    "- \\\\$gt : greater than\n",
    "- \\\\$gte : geater than equal\n",
    "- \\\\$lt : less than\n",
    "- \\\\$lte : less than equal\n",
    "- \\\\$eq : equal to\n",
    "- \\\\$regex : Filter with regular expression"
   ]
  }
 ],
 "metadata": {
  "kernelspec": {
   "display_name": "Python 3 (ipykernel)",
   "language": "python",
   "name": "python3"
  },
  "language_info": {
   "codemirror_mode": {
    "name": "ipython",
    "version": 3
   },
   "file_extension": ".py",
   "mimetype": "text/x-python",
   "name": "python",
   "nbconvert_exporter": "python",
   "pygments_lexer": "ipython3",
   "version": "3.8.13"
  }
 },
 "nbformat": 4,
 "nbformat_minor": 5
}
