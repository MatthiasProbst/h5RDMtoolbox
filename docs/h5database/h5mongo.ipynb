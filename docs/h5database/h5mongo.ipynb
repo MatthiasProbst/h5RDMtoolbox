{
 "cells": [
  {
   "cell_type": "markdown",
   "id": "26a6643f-3d3c-4cf4-99c7-32ddd5a4ec0a",
   "metadata": {},
   "source": [
    "# H5mongo\n",
    "\n",
    "This databases uses `pymongo` as the backend database. Only meta data (or part of it) is stored in the database, not the raw data"
   ]
  },
  {
   "cell_type": "code",
   "execution_count": null,
   "id": "1e3c96fc-62ac-4462-8e87-d131aeb52c53",
   "metadata": {},
   "outputs": [],
   "source": [
    "import pymongo\n",
    "from pymongo import MongoClient\n",
    "\n",
    "from h5rdmtoolbox import tutorial\n",
    "import h5rdmtoolbox as h5tbx"
   ]
  },
  {
   "cell_type": "code",
   "execution_count": null,
   "id": "b40e8640-b166-4792-913b-6ce39765eef4",
   "metadata": {},
   "outputs": [],
   "source": [
    "client = MongoClient()\n",
    "client"
   ]
  },
  {
   "cell_type": "code",
   "execution_count": null,
   "id": "a8f3cb21-e1e3-4969-9103-a48ac49547b9",
   "metadata": {},
   "outputs": [],
   "source": [
    "db = client['h5database_notebook_tutorial']\n",
    "collection = db['test']\n",
    "collection.drop() # delete all entries if already exist"
   ]
  },
  {
   "cell_type": "markdown",
   "id": "52d15e57-0fac-4c5c-8570-9aaba55f7fbe",
   "metadata": {},
   "source": [
    "Let's generate some test data"
   ]
  },
  {
   "cell_type": "code",
   "execution_count": null,
   "id": "6eaaf961-e59f-47a4-9b37-7384b755cedf",
   "metadata": {},
   "outputs": [],
   "source": [
    "usernames = ('Allen', 'Mike', 'Ellen', 'Alliot')\n",
    "company = ('bikeCompany', 'shoeCompany', 'bikeCompany', 'shoeCompany')\n",
    "filenames = []\n",
    "for i, (username, company) in enumerate(zip(usernames, company)):\n",
    "    with h5tbx.H5File(h5tbx.generate_temporary_filename(), 'w') as h5:\n",
    "        filenames.append(h5.hdf_filename)\n",
    "        h5.attrs['username'] = username\n",
    "        h5.attrs['company'] = company\n",
    "        h5.attrs['meta'] = {'day': 'monday', 'iday': 0}\n",
    "        g = h5.create_group('idgroup')\n",
    "        g.attrs['id'] = i"
   ]
  },
  {
   "cell_type": "markdown",
   "id": "a9f603e9-a72c-4d92-a645-3e5ae4584641",
   "metadata": {},
   "source": [
    "Import the mongo module (will add the accessor `mongo` to datasets and groups)"
   ]
  },
  {
   "cell_type": "code",
   "execution_count": null,
   "id": "8741cd44-0b1b-4931-a26b-19530917f6bb",
   "metadata": {},
   "outputs": [],
   "source": [
    "from h5rdmtoolbox.h5database import mongo"
   ]
  },
  {
   "cell_type": "code",
   "execution_count": null,
   "id": "921d047f-6b02-4153-90e6-941165600dae",
   "metadata": {
    "tags": []
   },
   "outputs": [],
   "source": [
    "for fname in filenames:\n",
    "    with h5tbx.H5File(fname) as h5:\n",
    "        h5.mongo.insert(collection=collection, recursive=True)"
   ]
  },
  {
   "cell_type": "markdown",
   "id": "75ab4c31-b9bb-4c2a-84f2-8a3beb6bc1c2",
   "metadata": {},
   "source": [
    "Let's inspect the found database entries:"
   ]
  },
  {
   "cell_type": "code",
   "execution_count": null,
   "id": "8b3f259a-a4e2-4ef1-9710-8938d1b4c67b",
   "metadata": {},
   "outputs": [],
   "source": [
    "from pprint import pprint"
   ]
  },
  {
   "cell_type": "markdown",
   "id": "4c4e6c58-6f5f-4423-850b-92a6f32298b6",
   "metadata": {},
   "source": [
    "Let's do the equivalent filter request as before (`sub_repo = repo.filter(Entry['/operation_point'].attrs['long_name'] == 'Operation point data group')`)"
   ]
  },
  {
   "cell_type": "code",
   "execution_count": null,
   "id": "b405c1ad-7ee8-4087-afaf-5ffdcbea3503",
   "metadata": {},
   "outputs": [],
   "source": [
    "%%time\n",
    "res = collection.find({})\n",
    "for r in res.rewind():\n",
    "    pprint(r)"
   ]
  },
  {
   "cell_type": "code",
   "execution_count": null,
   "id": "dadf40c0-882d-406c-87fc-70b822d6fd21",
   "metadata": {
    "tags": []
   },
   "outputs": [],
   "source": [
    "%%time\n",
    "res = collection.find({'id': {\"$eq\": 1}})\n",
    "for r in res.rewind():\n",
    "    pprint(r)"
   ]
  },
  {
   "cell_type": "code",
   "execution_count": null,
   "id": "11953685-71bf-44b1-ad9a-96fd6a72e195",
   "metadata": {},
   "outputs": [],
   "source": [
    "%%time\n",
    "res = collection.find({'company': \"shoeCompany\"})\n",
    "for r in res.rewind():\n",
    "    pprint(r)"
   ]
  },
  {
   "cell_type": "markdown",
   "id": "1438141f-3720-47d6-9ea6-c66172a2804c",
   "metadata": {},
   "source": [
    "Number of found documents:"
   ]
  },
  {
   "cell_type": "code",
   "execution_count": null,
   "id": "e0aa17f2-db1a-43a3-9c2f-67046b45d456",
   "metadata": {},
   "outputs": [],
   "source": [
    "collection.count_documents({'company': \"shoeCompany\"})"
   ]
  },
  {
   "cell_type": "markdown",
   "id": "8d293238-183a-4ff3-b7ca-b012bf7c0d1a",
   "metadata": {},
   "source": [
    "Total number of documents:"
   ]
  },
  {
   "cell_type": "code",
   "execution_count": null,
   "id": "b69da5b4-414b-4601-ad16-fb7b55cb0ccd",
   "metadata": {},
   "outputs": [],
   "source": [
    "collection.count_documents({})"
   ]
  },
  {
   "cell_type": "markdown",
   "id": "a688e249-70ec-4670-a2eb-1fdb2b081c83",
   "metadata": {},
   "source": [
    "You can also search for an entry within the meta-dictionary"
   ]
  },
  {
   "cell_type": "code",
   "execution_count": null,
   "id": "aaa1affc-b481-47eb-9774-db536c609e1a",
   "metadata": {},
   "outputs": [],
   "source": [
    "%%time\n",
    "res = collection.find({'meta.day': \"monday\"})\n",
    "for r in res.rewind():\n",
    "    pprint(r)\n",
    "collection.count_documents({'meta.day': \"monday\"})"
   ]
  },
  {
   "cell_type": "code",
   "execution_count": null,
   "id": "1016a14e-a76b-4ca4-80f8-29a34ff317e5",
   "metadata": {},
   "outputs": [],
   "source": []
  }
 ],
 "metadata": {
  "kernelspec": {
   "display_name": "Python 3 (ipykernel)",
   "language": "python",
   "name": "python3"
  },
  "language_info": {
   "codemirror_mode": {
    "name": "ipython",
    "version": 3
   },
   "file_extension": ".py",
   "mimetype": "text/x-python",
   "name": "python",
   "nbconvert_exporter": "python",
   "pygments_lexer": "ipython3",
   "version": "3.8.13"
  }
 },
 "nbformat": 4,
 "nbformat_minor": 5
}
