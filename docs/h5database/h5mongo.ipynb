{
 "cells": [
  {
   "cell_type": "markdown",
   "id": "26a6643f-3d3c-4cf4-99c7-32ddd5a4ec0a",
   "metadata": {},
   "source": [
    "# HDF5 + mongoDB\n",
    "\n",
    "This databases uses `pymongo` as the backend database. Only meta data (or part of it) is stored in the database, not the raw data. To understand how dataset raw data is linked to the database see the respective chapter in this document."
   ]
  },
  {
   "cell_type": "code",
   "execution_count": 1,
   "id": "1e3c96fc-62ac-4462-8e87-d131aeb52c53",
   "metadata": {},
   "outputs": [
    {
     "name": "stdout",
     "output_type": "stream",
     "text": [
      "tmp: C:\\Users\\da4323\\AppData\\Local\\h5rdmtoolbox\\h5rdmtoolbox\\tmp\\tmp1\n"
     ]
    },
    {
     "data": {
      "text/plain": [
       "'0.1.12'"
      ]
     },
     "execution_count": 1,
     "metadata": {},
     "output_type": "execute_result"
    }
   ],
   "source": [
    "import pymongo\n",
    "from pymongo import MongoClient\n",
    "\n",
    "from h5rdmtoolbox import tutorial\n",
    "import h5rdmtoolbox as h5tbx\n",
    "\n",
    "import numpy as np\n",
    "\n",
    "from pprint import pprint\n",
    "\n",
    "h5tbx.__version__"
   ]
  },
  {
   "cell_type": "markdown",
   "id": "d13b2108-f659-495c-84f0-db7a206acfdb",
   "metadata": {},
   "source": [
    "## First things first: Connection to the DB:\n",
    "Connect to the mongod client:"
   ]
  },
  {
   "cell_type": "code",
   "execution_count": 2,
   "id": "b40e8640-b166-4792-913b-6ce39765eef4",
   "metadata": {},
   "outputs": [
    {
     "data": {
      "text/plain": [
       "MongoClient(host=['localhost:27017'], document_class=dict, tz_aware=False, connect=True)"
      ]
     },
     "execution_count": 2,
     "metadata": {},
     "output_type": "execute_result"
    }
   ],
   "source": [
    "client = MongoClient()\n",
    "client"
   ]
  },
  {
   "cell_type": "markdown",
   "id": "1b4f6cf9-bcfb-4f24-9052-303bdfcd0515",
   "metadata": {},
   "source": [
    "Create a database and a (test) collection named \"digits\":"
   ]
  },
  {
   "cell_type": "code",
   "execution_count": 12,
   "id": "a8f3cb21-e1e3-4969-9103-a48ac49547b9",
   "metadata": {},
   "outputs": [],
   "source": [
    "db = client['h5database_notebook_tutorial']\n",
    "collection = db['digits']\n",
    "\n",
    "# drop all content in order to start from scratch:\n",
    "collection.drop()"
   ]
  },
  {
   "cell_type": "markdown",
   "id": "9417ee13-271e-43aa-9a23-7dee3c296ff7",
   "metadata": {},
   "source": [
    "## Testdata\n",
    "We will take test data from scikit-learn, namely the hand-written digits ((https://scikit-learn.org/stable/auto_examples/classification/plot_digits_classification.html):"
   ]
  },
  {
   "cell_type": "code",
   "execution_count": 13,
   "id": "39a40ef7-e186-4bdb-ac3e-427e61f9bbc8",
   "metadata": {},
   "outputs": [],
   "source": [
    "# !pip install scikit-learn\n",
    "# !pip install scikit-image"
   ]
  },
  {
   "cell_type": "code",
   "execution_count": 14,
   "id": "111e3c0d-6d5d-4931-9aac-e4f9e6575088",
   "metadata": {},
   "outputs": [],
   "source": [
    "from sklearn.datasets import load_digits\n",
    "digits = load_digits()"
   ]
  },
  {
   "cell_type": "markdown",
   "id": "52d15e57-0fac-4c5c-8570-9aaba55f7fbe",
   "metadata": {},
   "source": [
    "Fill a HDF5 file with the loaded data. We additionally compute the mean count and two gray occurance properties (dissimilarity and correlation). Those three datasets together with the true digit of the image are linked to the image via HDF dimension scales:"
   ]
  },
  {
   "cell_type": "code",
   "execution_count": 15,
   "id": "3c7f5e27-c173-4a14-941c-2614466219a5",
   "metadata": {},
   "outputs": [
    {
     "data": {
      "text/html": [
       "<head><style>/*\r\n",
       "CSS inspired by xarray: https://github.com/pydata/xarray\r\n",
       "*/\r\n",
       ".h5tb-header > div,\r\n",
       ".h5tb-header > ul {\r\n",
       "    display: inline;\r\n",
       "    margin-top: 0;\r\n",
       "    margin-bottom: 0;\r\n",
       "}\r\n",
       "\r\n",
       ".h5tb-dataarray-cls,\r\n",
       ".h5tb-dataarray-name {\r\n",
       "    margin-left: 2px;\r\n",
       "    margin-right: 10px;\r\n",
       "}\r\n",
       "\r\n",
       ".h5tb-dataarray-name {\r\n",
       "    color: #000;\r\n",
       "}\r\n",
       "\r\n",
       ".h5grp-sections {\r\n",
       "    list-style: none;\r\n",
       "    padding: 3px;\r\n",
       "    margin: 0;\r\n",
       "}\r\n",
       "\r\n",
       ".h5grp-sections input {\r\n",
       "    display: none;\r\n",
       "}\r\n",
       "\r\n",
       ".h5grp-sections label {\r\n",
       "    display: inline;\r\n",
       "}\r\n",
       "\r\n",
       ".h5grp-sections > li > input + label > span {\r\n",
       "    display: inline;\r\n",
       "    margin-left: 4px;\r\n",
       "}\r\n",
       "\r\n",
       ".h5grp-sections > li > input:checked + label > span {\r\n",
       "    display: none;\r\n",
       "}\r\n",
       "\r\n",
       ".h5grp-sections input:enabled + label {\r\n",
       "    cursor: pointer;\r\n",
       "}\r\n",
       "\r\n",
       ".h5grp-sections input:not(.h5tb-values-in) ~ ul {\r\n",
       "    display: none;\r\n",
       "}\r\n",
       "\r\n",
       ".h5grp-sections input:not(.h5tb-values-in):checked ~ ul {\r\n",
       "    display: block;\r\n",
       "}\r\n",
       "\r\n",
       ".h5grp-sections > li > input + label {\r\n",
       "    width: 140px;\r\n",
       "    color: #555;\r\n",
       "    font-weight: 500;\r\n",
       "    padding: 4px 0 2px 0;\r\n",
       "}\r\n",
       "\r\n",
       "\r\n",
       ".h5grp-sections > li > input + label:before {\r\n",
       "    display: inline-block;\r\n",
       "    content: '+';\r\n",
       "    font-size: 11px;\r\n",
       "    width: 15px;\r\n",
       "    text-align: center;\r\n",
       "}\r\n",
       "\r\n",
       ".h5grp-sections > li > input:disabled + label:before {\r\n",
       "    color: #777;\r\n",
       "}\r\n",
       "\r\n",
       ".h5grp-sections > li > input:checked + label:before {\r\n",
       "    content: '-';\r\n",
       "}\r\n",
       "\r\n",
       ".h5tb-dim-list {\r\n",
       "    display: inline-block !important;\r\n",
       "    list-style: none;\r\n",
       "    padding: 0;\r\n",
       "}\r\n",
       "\r\n",
       ".h5tb-dim-list li {\r\n",
       "    display: inline-block;\r\n",
       "    padding: 0;\r\n",
       "    margin: 0;\r\n",
       "}\r\n",
       "\r\n",
       ".h5tb-dim-list:before {\r\n",
       "    content: '(';\r\n",
       "}\r\n",
       "\r\n",
       ".h5tb-dim-list:after {\r\n",
       "    content: ')';\r\n",
       "}\r\n",
       "\r\n",
       ".h5tb-dim-list li:not(:last-child):after {\r\n",
       "    content: ',';\r\n",
       "}\r\n",
       "\r\n",
       ".h5tb-has-index {\r\n",
       "    text-decoration: underline;\r\n",
       "}\r\n",
       "\r\n",
       ".h5tb-var-list {\r\n",
       "    list-style: none;\r\n",
       "    padding: 0;\r\n",
       "    margin: 0;\r\n",
       "}\r\n",
       "\r\n",
       ".h5tb-var-list > li {\r\n",
       "    background-color: #fcfcfc;\r\n",
       "    overflow: hidden;\r\n",
       "}\r\n",
       "\r\n",
       ".h5tb-var-list > li:nth-child(odd) {\r\n",
       "    background-color: #efefef;\r\n",
       "}\r\n",
       "\r\n",
       ".h5tb-var-list li:hover {\r\n",
       "    background-color: rgba(3, 169, 244, .2);\r\n",
       "}\r\n",
       "\r\n",
       ".h5tb-var-list li > span {\r\n",
       "    display: inline-block;\r\n",
       "}\r\n",
       "\r\n",
       "input.h5tb-varname-in + label {\r\n",
       "    width: 140px;\r\n",
       "    padding-left: 0;\r\n",
       "    font-weight: bold;\r\n",
       "}\r\n",
       "\r\n",
       ".h5tb-dataset {\r\n",
       "    width: 100px;\r\n",
       "}\r\n",
       "\r\n",
       ".h5tb-attributevalue {\r\n",
       "    width: 100px;\r\n",
       "    text-align: left;\r\n",
       "    color: #888;\r\n",
       "    white-space: nowrap;\r\n",
       "    font-size: 12px;\r\n",
       "}\r\n",
       "\r\n",
       "input.h5tb-varname-in + label:before {\r\n",
       "    content: ' ';\r\n",
       "    display: inline-block;\r\n",
       "    font-size: 11px;\r\n",
       "    width: 15px;\r\n",
       "    padding-left: 2px;\r\n",
       "    padding-right: 2px;\r\n",
       "    text-align: center;\r\n",
       "    color: #aaa;\r\n",
       "    text-decoration: none !important;\r\n",
       "}\r\n",
       "\r\n",
       "input.h5tb-varname-in:enabled + label:hover:before {\r\n",
       "    color: #000;\r\n",
       "}\r\n",
       "\r\n",
       "input.h5tb-varname-in:checked + label:before {\r\n",
       "    color: #ccc;\r\n",
       "}\r\n",
       "\r\n",
       ".h5tb-dims {\r\n",
       "    width: 280px;\r\n",
       "    white-space: nowrap;\r\n",
       "}\r\n",
       "\r\n",
       "\r\n",
       ".h5tb-unit {\r\n",
       "    width: 96px;\r\n",
       "    white-space: nowrap;\r\n",
       "    padding-right: 2px;\r\n",
       "    text-align: right;\r\n",
       "    color: #555;\r\n",
       "    font-style: italic;\r\n",
       "}\r\n",
       "\r\n",
       ".h5tb-attr-list {\r\n",
       "    list-style: none;\r\n",
       "    background-color: #fff;\r\n",
       "    padding-bottom: 6px;\r\n",
       "    color: #555;\r\n",
       "}\r\n",
       "\r\n",
       ".h5tb-attr-list li,\r\n",
       ".h5tb-attr-list li:hover {\r\n",
       "    background-color: #fff;\r\n",
       "}\r\n",
       "\r\n",
       ".h5tb-dim-highlight {\r\n",
       "    background-color: rgba(3, 169, 244, .2);\r\n",
       "    cursor: pointer;\r\n",
       "}</style></head>\n",
       "<p>tmp3</p>\n",
       "<p>Check resuted in 1 issues.</p>\n",
       "\n",
       "<div class='h5tb-warp'>\n",
       "\n",
       "          <ul style=\"list-style-type: none;\" class=\"h5grp-sections\">\n",
       "                <li>\n",
       "                    <input id=\"group-ds-/-117974359700\" type=\"checkbox\" checked>\n",
       "                    <label style=\"font-weight: bold\" for=\"group-ds-/-117974359700\">\n",
       "                    /<span>(5)</span></label>\n",
       "              \n",
       "\n",
       "                <ul class=\"h5tb-attr-list\"><li style=\"list-style-type: none; font-style: italic\">__h5rdmtoolbox_version__ : 0.1.12</li><li style=\"list-style-type: none; font-style: italic\">__wrcls__ : H5File</li>\n",
       "                </ul>\n",
       "\n",
       "                    <ul id=\"ds-1-/correlation-117975558100\" class=\"h5tb-var-list\">\n",
       "                    <input id=\"ds-2-/correlation-117975560700\" class=\"h5tb-varname-in\" type=\"checkbox\">\n",
       "                    <label class='h5tb-varname' \n",
       "                        for=\"ds-2-/correlation-117975560700\">correlation</label>\n",
       "                    <span class=\"h5tb-dims\">(1797,)</span>  [\n",
       "                    <span class=\"h5tb-unit\">count</span>]\n",
       "<ul class=\"h5tb-attr-list\"><li style=\"list-style-type: none; font-style: italic\">long_name : correlation</li>\n",
       "\n",
       "                </ul>\n",
       "\n",
       "             </ul>\n",
       "             \n",
       "\n",
       "                    <ul id=\"ds-1-/digit-117976077400\" class=\"h5tb-var-list\">\n",
       "                    <input id=\"ds-2-/digit-117976079800\" class=\"h5tb-varname-in\" type=\"checkbox\">\n",
       "                    <label class='h5tb-varname' \n",
       "                        for=\"ds-2-/digit-117976079800\">digit</label>\n",
       "                    <span class=\"h5tb-dims\">(1797,)</span>  [\n",
       "                    <span class=\"h5tb-unit\">-</span>]\n",
       "<ul class=\"h5tb-attr-list\"><li style=\"list-style-type: none; font-style: italic\">long_name : true digit</li>\n",
       "\n",
       "                </ul>\n",
       "\n",
       "             </ul>\n",
       "             \n",
       "\n",
       "                    <ul id=\"ds-1-/dissimilarity-117976497600\" class=\"h5tb-var-list\">\n",
       "                    <input id=\"ds-2-/dissimilarity-117976501000\" class=\"h5tb-varname-in\" type=\"checkbox\">\n",
       "                    <label class='h5tb-varname' \n",
       "                        for=\"ds-2-/dissimilarity-117976501000\">dissimilarity</label>\n",
       "                    <span class=\"h5tb-dims\">(1797,)</span>  [\n",
       "                    <span class=\"h5tb-unit\">count</span>]\n",
       "<ul class=\"h5tb-attr-list\"><li style=\"list-style-type: none; font-style: italic\">long_name : dissimilarity</li>\n",
       "\n",
       "                </ul>\n",
       "\n",
       "             </ul>\n",
       "             \n",
       "\n",
       "                    <ul id=\"ds-1-/images-117977011000\" class=\"h5tb-var-list\">\n",
       "                    <input id=\"ds-2-/images-117977014500\" class=\"h5tb-varname-in\" type=\"checkbox\">\n",
       "                    <label class='h5tb-varname' \n",
       "                        for=\"ds-2-/images-117977014500\">images</label>\n",
       "                    <span class=\"h5tb-dims\">(digit: 1797)</span>  [\n",
       "                    <span class=\"h5tb-unit\">pixel</span>]\n",
       "<ul class=\"h5tb-attr-list\"><li style=\"list-style-type: none; font-style: italic\">long_name : image of hand-written digit</li>\n",
       "\n",
       "                </ul>\n",
       "\n",
       "             </ul>\n",
       "             \n",
       "\n",
       "                    <ul id=\"ds-1-/mean-117977276100\" class=\"h5tb-var-list\">\n",
       "                    <input id=\"ds-2-/mean-117977278200\" class=\"h5tb-varname-in\" type=\"checkbox\">\n",
       "                    <label class='h5tb-varname' \n",
       "                        for=\"ds-2-/mean-117977278200\">mean</label>\n",
       "                    <span class=\"h5tb-dims\">(1797,)</span>  [\n",
       "                    <span class=\"h5tb-unit\">count</span>]\n",
       "<ul class=\"h5tb-attr-list\"><li style=\"list-style-type: none; font-style: italic\">long_name : mean counts of the image</li>\n",
       "\n",
       "                </ul>\n",
       "\n",
       "             </ul>\n",
       "             \n",
       "</li>\n",
       "</ul>\n",
       "</div>"
      ],
      "text/plain": [
       "<IPython.core.display.HTML object>"
      ]
     },
     "metadata": {},
     "output_type": "display_data"
    }
   ],
   "source": [
    "from skimage.feature import graycomatrix, graycoprops\n",
    "\n",
    "filename = h5tbx.generate_temporary_filename()\n",
    "\n",
    "with h5tbx.H5File(filename, 'w') as h5:\n",
    "    ds_trg = h5.create_dataset('digit', data=digits.target, units='', long_name='true digit', make_scale=True)\n",
    "    ds_img = h5.create_dataset('images', shape=(len(digits.images), 8, 8), units='pixel', long_name='image of hand-written digit')\n",
    "    \n",
    "    ds_mean = h5.create_dataset('mean', shape=(len(digits.images), ), units='counts', long_name='mean counts of the image', make_scale=True)\n",
    "    ds_diss = h5.create_dataset('dissimilarity', shape=(len(digits.images), ), units='counts', long_name='dissimilarity', make_scale=True)\n",
    "    ds_corr = h5.create_dataset('correlation', shape=(len(digits.images), ), units='counts', long_name='correlation', make_scale=True)\n",
    "    \n",
    "    \n",
    "    for i, img in enumerate(digits.images):\n",
    "        ds_img[i, :, :] = img\n",
    "        ds_mean[i] = np.mean(img)\n",
    "        \n",
    "        glcm = graycomatrix(img.astype(int), distances=[5], angles=[0], levels=256,\n",
    "                            symmetric=True, normed=True)\n",
    "        ds_diss[i] = graycoprops(glcm, 'dissimilarity')[0, 0]\n",
    "        ds_corr[i] = graycoprops(glcm, 'correlation')[0, 0]\n",
    "        \n",
    "    ds_img.dims[0].attach_scale(ds_trg)\n",
    "    ds_img.dims[0].attach_scale(ds_mean)\n",
    "    ds_img.dims[0].attach_scale(ds_diss)\n",
    "    ds_img.dims[0].attach_scale(ds_corr)\n",
    "    h5.dump()"
   ]
  },
  {
   "cell_type": "markdown",
   "id": "3410054e-7640-4c2e-ada3-fa7ea8b99e60",
   "metadata": {},
   "source": [
    "## Filling the database\n",
    "\n",
    "To insert data from the HDF5 file into the DB, we need the accessor \"mongo\":"
   ]
  },
  {
   "cell_type": "code",
   "execution_count": 16,
   "id": "16c8fddc-d3f2-4987-925f-db07a1337b8b",
   "metadata": {},
   "outputs": [],
   "source": [
    "from h5rdmtoolbox.h5database import mongo"
   ]
  },
  {
   "cell_type": "code",
   "execution_count": 20,
   "id": "40d84010-8add-4b34-b090-64340880bcf9",
   "metadata": {},
   "outputs": [],
   "source": [
    "with h5tbx.H5File(filename) as h5:\n",
    "    h5['images'].mongo.insert(0, collection, update=True)"
   ]
  },
  {
   "cell_type": "markdown",
   "id": "cd81f6a0-7628-4785-9d76-c5d05422a8dd",
   "metadata": {},
   "source": [
    "Count the number of collections inserted:"
   ]
  },
  {
   "cell_type": "code",
   "execution_count": 21,
   "id": "951f2bec-1e21-4f17-8932-6cb6a2d1edc1",
   "metadata": {},
   "outputs": [
    {
     "data": {
      "text/plain": [
       "3594"
      ]
     },
     "execution_count": 21,
     "metadata": {},
     "output_type": "execute_result"
    }
   ],
   "source": [
    "collection.count_documents({})"
   ]
  },
  {
   "cell_type": "markdown",
   "id": "20dbda05-96e7-4013-897d-ce8158e967b6",
   "metadata": {},
   "source": [
    "### Find one:"
   ]
  },
  {
   "cell_type": "code",
   "execution_count": 19,
   "id": "3764848c-5c4f-419c-83ed-fde5bf108d0c",
   "metadata": {},
   "outputs": [
    {
     "data": {
      "text/plain": [
       "{'_id': ObjectId('631efe87037a49b2d4a8673f'),\n",
       " 'filename': 'C:\\\\Users\\\\da4323\\\\AppData\\\\Local\\\\h5rdmtoolbox\\\\h5rdmtoolbox\\\\tmp\\\\tmp1\\\\tmp3',\n",
       " 'name': '/images',\n",
       " 'basename': 'images',\n",
       " 'file_creation_time': datetime.datetime(2022, 9, 12, 9, 40, 19, 703000),\n",
       " 'shape': [1797, 8, 8],\n",
       " 'ndim': 3,\n",
       " 'hdfobj': 'dataset',\n",
       " 'slice': [[3, 4, 1], [0, None, 1], [0, None, 1]],\n",
       " 'digit': 3,\n",
       " 'mean': 4.171875,\n",
       " 'dissimilarity': 4.875,\n",
       " 'correlation': -0.3547935485839844,\n",
       " 'long_name': 'image of hand-written digit',\n",
       " 'units': 'pixel'}"
      ]
     },
     "execution_count": 19,
     "metadata": {},
     "output_type": "execute_result"
    }
   ],
   "source": [
    "one_res = collection.find_one({'digit': {'$eq': 3}})\n",
    "one_res"
   ]
  },
  {
   "cell_type": "markdown",
   "id": "85f75a65-43ee-410a-a739-39f225494d7f",
   "metadata": {},
   "source": [
    "We found one entry only because we asked for one only. Note, that the sult dictionary provides a \"slice\" entry. This is the slice within the 3D array in the HDF file. We can use this to slice the array. There is even a method in the accessor to simplify this:"
   ]
  },
  {
   "cell_type": "code",
   "execution_count": null,
   "id": "f4ea45f8-d056-472b-a003-4e8530fcc45d",
   "metadata": {},
   "outputs": [],
   "source": [
    "with h5tbx.H5File(filename) as h5:\n",
    "    h5.images.mongo.slice(one_res['slice']).plot(cmap='gray')"
   ]
  },
  {
   "cell_type": "markdown",
   "id": "d429f56e-1dc8-475a-aaa3-dc34c757167e",
   "metadata": {},
   "source": [
    "## Find many:\n",
    "\n",
    "Let' query a rang of data. Mean count shall be above 5 counts and the digit is >3 and <=8:"
   ]
  },
  {
   "cell_type": "code",
   "execution_count": null,
   "id": "6a6c0e55-69b3-408e-8767-2c7c41673c95",
   "metadata": {},
   "outputs": [],
   "source": [
    "collection.count_documents({'mean': {'$gt': 5}, 'digit': {'$gt': 3}, 'digit': {'$lte': 8}})\n",
    "many_res = collection.find({'mean': {'$gt': 5}, 'digit': {'$gt': 3}, 'digit': {'$lte': 8}})"
   ]
  },
  {
   "cell_type": "markdown",
   "id": "69e6344e-fa55-4b9d-93c7-3e65dae22369",
   "metadata": {},
   "source": [
    "Inspect the result by the help of pandas:"
   ]
  },
  {
   "cell_type": "code",
   "execution_count": null,
   "id": "d7e92213-1e16-4d4e-9b35-903c891387e6",
   "metadata": {},
   "outputs": [],
   "source": [
    "import pandas as pd"
   ]
  },
  {
   "cell_type": "code",
   "execution_count": null,
   "id": "7a2e4068-59d8-4997-b0e9-bd67dd240bfb",
   "metadata": {},
   "outputs": [],
   "source": [
    "df = pd.DataFrame(data=[r for r in many_res.rewind()])\n",
    "df.drop('_id', inplace=True, axis=1)\n",
    "df.drop('filename', inplace=True, axis=1)\n",
    "df.drop('slice', inplace=True, axis=1)\n",
    "df.drop('long_name', inplace=True, axis=1)\n",
    "\n",
    "pd.plotting.scatter_matrix(df[['mean', 'dissimilarity', 'correlation', 'digit']], hist_kwds={'bins': 20})\n",
    "df.head()"
   ]
  },
  {
   "cell_type": "markdown",
   "id": "a5c0b82e-ce88-4ab1-809f-45deb1105e75",
   "metadata": {},
   "source": [
    "## Query for other meta data.\n",
    "\n",
    "First of all we could have insert the full file. We might have decided to insert only a group content or really all data in the file, thus a recursive run that insert all data. Ok, let's do that:"
   ]
  },
  {
   "cell_type": "code",
   "execution_count": null,
   "id": "ade30b7e-615f-4156-b384-f74a0485886d",
   "metadata": {},
   "outputs": [],
   "source": [
    "db = client['h5database_notebook_tutorial']\n",
    "collection_full_digits = db['full_digits']\n",
    "\n",
    "# drop all content in order to start from scratch:\n",
    "collection_full_digits.drop()"
   ]
  },
  {
   "cell_type": "code",
   "execution_count": null,
   "id": "6feebeed-ebdd-42d0-9fff-1be69dff35ca",
   "metadata": {},
   "outputs": [],
   "source": [
    "with h5tbx.H5File(filename) as h5:\n",
    "    h5.mongo.insert(collection_full_digits, recursive=True)"
   ]
  },
  {
   "cell_type": "markdown",
   "id": "31d27c2d-4a29-4894-bc15-688971057129",
   "metadata": {},
   "source": [
    "The first entry looks like this:"
   ]
  },
  {
   "cell_type": "code",
   "execution_count": null,
   "id": "90701db6-4155-44b5-a064-12a644e215ee",
   "metadata": {},
   "outputs": [],
   "source": [
    "collection_full_digits.find_one({})"
   ]
  },
  {
   "cell_type": "markdown",
   "id": "163d185f-e68e-4f3d-9402-8735dce1751d",
   "metadata": {},
   "source": [
    "It is the data of the root group. It shows all attribute of the group."
   ]
  },
  {
   "cell_type": "code",
   "execution_count": null,
   "id": "7d537b1b-0652-4267-97a4-702cf2bec06b",
   "metadata": {},
   "outputs": [],
   "source": []
  }
 ],
 "metadata": {
  "kernelspec": {
   "display_name": "Python 3 (ipykernel)",
   "language": "python",
   "name": "python3"
  },
  "language_info": {
   "codemirror_mode": {
    "name": "ipython",
    "version": 3
   },
   "file_extension": ".py",
   "mimetype": "text/x-python",
   "name": "python",
   "nbconvert_exporter": "python",
   "pygments_lexer": "ipython3",
   "version": "3.8.13"
  }
 },
 "nbformat": 4,
 "nbformat_minor": 5
}
