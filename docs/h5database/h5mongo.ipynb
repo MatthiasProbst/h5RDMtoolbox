{
 "cells": [
  {
   "cell_type": "markdown",
   "id": "26a6643f-3d3c-4cf4-99c7-32ddd5a4ec0a",
   "metadata": {},
   "source": [
    "# H5mongo\n",
    "\n",
    "This databases uses `pymongo` as the backend database. Only meta data (or part of it) is stored in the database, not the raw data"
   ]
  },
  {
   "cell_type": "code",
   "execution_count": 1,
   "id": "1e3c96fc-62ac-4462-8e87-d131aeb52c53",
   "metadata": {},
   "outputs": [
    {
     "data": {
      "text/plain": [
       "'0.1.9'"
      ]
     },
     "execution_count": 1,
     "metadata": {},
     "output_type": "execute_result"
    }
   ],
   "source": [
    "import pymongo\n",
    "from pymongo import MongoClient\n",
    "\n",
    "from h5rdmtoolbox import tutorial\n",
    "import h5rdmtoolbox as h5tbx\n",
    "\n",
    "from pprint import pprint\n",
    "\n",
    "h5tbx.__version__"
   ]
  },
  {
   "cell_type": "code",
   "execution_count": 2,
   "id": "b40e8640-b166-4792-913b-6ce39765eef4",
   "metadata": {},
   "outputs": [
    {
     "data": {
      "text/plain": [
       "MongoClient(host=['localhost:27017'], document_class=dict, tz_aware=False, connect=True)"
      ]
     },
     "execution_count": 2,
     "metadata": {},
     "output_type": "execute_result"
    }
   ],
   "source": [
    "client = MongoClient()\n",
    "client"
   ]
  },
  {
   "cell_type": "code",
   "execution_count": 3,
   "id": "a8f3cb21-e1e3-4969-9103-a48ac49547b9",
   "metadata": {},
   "outputs": [],
   "source": [
    "db = client['h5database_notebook_tutorial']\n",
    "collection = db['test']"
   ]
  },
  {
   "cell_type": "markdown",
   "id": "52d15e57-0fac-4c5c-8570-9aaba55f7fbe",
   "metadata": {},
   "source": [
    "Let's generate some test data"
   ]
  },
  {
   "cell_type": "code",
   "execution_count": 4,
   "id": "6eaaf961-e59f-47a4-9b37-7384b755cedf",
   "metadata": {},
   "outputs": [],
   "source": [
    "usernames = ('Allen', 'Mike', 'Ellen', 'Alliot')\n",
    "company = ('bikeCompany', 'shoeCompany', 'bikeCompany', 'shoeCompany')\n",
    "filenames = []\n",
    "for i, (username, company) in enumerate(zip(usernames, company)):\n",
    "    with h5tbx.H5File(h5tbx.generate_temporary_filename(), 'w') as h5:\n",
    "        filenames.append(h5.hdf_filename)\n",
    "        h5.attrs['username'] = username\n",
    "        h5.attrs['company'] = company\n",
    "        h5.attrs['meta'] = {'day': 'monday', 'iday': 0}\n",
    "        g = h5.create_group('idgroup')\n",
    "        g.attrs['id'] = i"
   ]
  },
  {
   "cell_type": "markdown",
   "id": "a9f603e9-a72c-4d92-a645-3e5ae4584641",
   "metadata": {},
   "source": [
    "Import the mongo module (will add the accessor `mongo` to datasets and groups)"
   ]
  },
  {
   "cell_type": "code",
   "execution_count": 5,
   "id": "8741cd44-0b1b-4931-a26b-19530917f6bb",
   "metadata": {},
   "outputs": [],
   "source": [
    "from h5rdmtoolbox.h5database import mongo"
   ]
  },
  {
   "cell_type": "markdown",
   "id": "c921c068-8649-4147-addd-2a1a10f7c2fc",
   "metadata": {},
   "source": [
    "## Filling the database\n",
    "\n",
    "The accessor object `mongo` can be applied both on groups and datasets. If applied on groups, then two parameter values should be considered specifically:\n",
    "- `recursive`: Whether to write all data of the group and below or not\n",
    "- `flatten_tree`: The tree-structure can be flatten. Then there will be a DB entry per group and dataset. If False, then only one entry as a dictionary is written:\n",
    "\n",
    "We devide for `recursive=True` and check how the DB entries look different for `flatten_tree=True` and `flatten_tree=False`."
   ]
  },
  {
   "cell_type": "code",
   "execution_count": 6,
   "id": "a2d48a6d-1d80-4dd9-b145-18004d61014f",
   "metadata": {},
   "outputs": [],
   "source": [
    "collection.drop() # delete all entries if already exist\n",
    "for fname in filenames:\n",
    "    with h5tbx.H5File(fname) as h5:\n",
    "        h5.mongo.insert(collection=collection, recursive=True, flatten_tree=False)"
   ]
  },
  {
   "cell_type": "markdown",
   "id": "50a66fdc-adaf-4f61-93e7-3c72e38fd696",
   "metadata": {},
   "source": [
    "Let's inspect the first result:"
   ]
  },
  {
   "cell_type": "markdown",
   "id": "1f71aed4-eccb-444b-9a34-6bcebc489f32",
   "metadata": {},
   "source": [
    "### Find all:"
   ]
  },
  {
   "cell_type": "code",
   "execution_count": 7,
   "id": "07927616-fcbf-4a65-adda-c608f4c3f8fc",
   "metadata": {},
   "outputs": [
    {
     "name": "stdout",
     "output_type": "stream",
     "text": [
      "{'__h5rdmtoolbox_version__': '0.1.9',\n",
      " '__standard_name_table__': 'EmptyStandardizedNameTable-v0',\n",
      " '__wrcls__': 'H5File',\n",
      " '_id': ObjectId('630c890316499a3a4e50d71e'),\n",
      " 'company': 'bikeCompany',\n",
      " 'file_creation_time': datetime.datetime(2022, 8, 29, 9, 38, 11, 490000),\n",
      " 'filename': 'C:\\\\Users\\\\da4323\\\\AppData\\\\Local\\\\h5rdmtoolbox\\\\h5rdmtoolbox\\\\tmp\\\\tmp40\\\\tmp0',\n",
      " 'idgroup': {'id': 0},\n",
      " 'meta': {'day': 'monday', 'iday': 0},\n",
      " 'username': 'Allen'}\n"
     ]
    }
   ],
   "source": [
    "res = collection.find({})\n",
    "pprint(res.rewind()[0])"
   ]
  },
  {
   "cell_type": "markdown",
   "id": "3ca90f35-8ab7-426d-86d9-58504338f5da",
   "metadata": {},
   "source": [
    "### Find inside a dictionary:"
   ]
  },
  {
   "cell_type": "markdown",
   "id": "b94939f6-77bb-4ed5-8eaf-b4c784f1cd47",
   "metadata": {},
   "source": [
    "The dictionary entry can be used for filter keyword, too:"
   ]
  },
  {
   "cell_type": "code",
   "execution_count": 8,
   "id": "99426a16-99ad-4f2f-ae9a-ea8f2a782700",
   "metadata": {},
   "outputs": [
    {
     "name": "stdout",
     "output_type": "stream",
     "text": [
      "{'__h5rdmtoolbox_version__': '0.1.9',\n",
      " '__standard_name_table__': 'EmptyStandardizedNameTable-v0',\n",
      " '__wrcls__': 'H5File',\n",
      " '_id': ObjectId('630c890316499a3a4e50d71e'),\n",
      " 'company': 'bikeCompany',\n",
      " 'file_creation_time': datetime.datetime(2022, 8, 29, 9, 38, 11, 490000),\n",
      " 'filename': 'C:\\\\Users\\\\da4323\\\\AppData\\\\Local\\\\h5rdmtoolbox\\\\h5rdmtoolbox\\\\tmp\\\\tmp40\\\\tmp0',\n",
      " 'idgroup': {'id': 0},\n",
      " 'meta': {'day': 'monday', 'iday': 0},\n",
      " 'username': 'Allen'}\n",
      "{'__h5rdmtoolbox_version__': '0.1.9',\n",
      " '__standard_name_table__': 'EmptyStandardizedNameTable-v0',\n",
      " '__wrcls__': 'H5File',\n",
      " '_id': ObjectId('630c890316499a3a4e50d71f'),\n",
      " 'company': 'shoeCompany',\n",
      " 'file_creation_time': datetime.datetime(2022, 8, 29, 9, 38, 11, 496000),\n",
      " 'filename': 'C:\\\\Users\\\\da4323\\\\AppData\\\\Local\\\\h5rdmtoolbox\\\\h5rdmtoolbox\\\\tmp\\\\tmp40\\\\tmp1',\n",
      " 'idgroup': {'id': 1},\n",
      " 'meta': {'day': 'monday', 'iday': 0},\n",
      " 'username': 'Mike'}\n",
      "{'__h5rdmtoolbox_version__': '0.1.9',\n",
      " '__standard_name_table__': 'EmptyStandardizedNameTable-v0',\n",
      " '__wrcls__': 'H5File',\n",
      " '_id': ObjectId('630c890316499a3a4e50d720'),\n",
      " 'company': 'bikeCompany',\n",
      " 'file_creation_time': datetime.datetime(2022, 8, 29, 9, 38, 11, 502000),\n",
      " 'filename': 'C:\\\\Users\\\\da4323\\\\AppData\\\\Local\\\\h5rdmtoolbox\\\\h5rdmtoolbox\\\\tmp\\\\tmp40\\\\tmp2',\n",
      " 'idgroup': {'id': 2},\n",
      " 'meta': {'day': 'monday', 'iday': 0},\n",
      " 'username': 'Ellen'}\n",
      "{'__h5rdmtoolbox_version__': '0.1.9',\n",
      " '__standard_name_table__': 'EmptyStandardizedNameTable-v0',\n",
      " '__wrcls__': 'H5File',\n",
      " '_id': ObjectId('630c890316499a3a4e50d721'),\n",
      " 'company': 'shoeCompany',\n",
      " 'file_creation_time': datetime.datetime(2022, 8, 29, 9, 38, 11, 508000),\n",
      " 'filename': 'C:\\\\Users\\\\da4323\\\\AppData\\\\Local\\\\h5rdmtoolbox\\\\h5rdmtoolbox\\\\tmp\\\\tmp40\\\\tmp3',\n",
      " 'idgroup': {'id': 3},\n",
      " 'meta': {'day': 'monday', 'iday': 0},\n",
      " 'username': 'Alliot'}\n"
     ]
    }
   ],
   "source": [
    "for r in collection.find({'meta.day': 'monday'}):\n",
    "    pprint(r)"
   ]
  },
  {
   "cell_type": "markdown",
   "id": "f16bce3d-bb8d-4b1c-9f08-62b2b576bd0a",
   "metadata": {},
   "source": [
    "### Filter for datetime:\n",
    "Each entry has a `document_last_modified` (time when the document entry was last modified) and a `file_creation_time` (time when HDF file was created):"
   ]
  },
  {
   "cell_type": "code",
   "execution_count": 9,
   "id": "21435d7e-495b-45cb-922b-fdcd9876442f",
   "metadata": {
    "tags": []
   },
   "outputs": [
    {
     "name": "stdout",
     "output_type": "stream",
     "text": [
      "2022-08-29 08:48:11.679449\n"
     ]
    }
   ],
   "source": [
    "import datetime\n",
    "d = datetime.datetime.utcnow()- datetime.timedelta(hours=0, minutes=50)\n",
    "print(d)\n",
    "for r in collection.find({\"document_last_modified\": {\"$gt\": d}}).sort(\"username\"):\n",
    "    pprint(r)"
   ]
  },
  {
   "cell_type": "markdown",
   "id": "1438141f-3720-47d6-9ea6-c66172a2804c",
   "metadata": {},
   "source": [
    "### Get the number of found documents:"
   ]
  },
  {
   "cell_type": "code",
   "execution_count": 10,
   "id": "e0aa17f2-db1a-43a3-9c2f-67046b45d456",
   "metadata": {},
   "outputs": [
    {
     "data": {
      "text/plain": [
       "2"
      ]
     },
     "execution_count": 10,
     "metadata": {},
     "output_type": "execute_result"
    }
   ],
   "source": [
    "collection.count_documents({'company': \"shoeCompany\"})"
   ]
  },
  {
   "cell_type": "markdown",
   "id": "8d293238-183a-4ff3-b7ca-b012bf7c0d1a",
   "metadata": {},
   "source": [
    "Total number of documents:"
   ]
  },
  {
   "cell_type": "code",
   "execution_count": 11,
   "id": "b69da5b4-414b-4601-ad16-fb7b55cb0ccd",
   "metadata": {},
   "outputs": [
    {
     "data": {
      "text/plain": [
       "4"
      ]
     },
     "execution_count": 11,
     "metadata": {},
     "output_type": "execute_result"
    }
   ],
   "source": [
    "collection.count_documents({})"
   ]
  },
  {
   "cell_type": "markdown",
   "id": "8df11932-c47f-4dc7-96f7-e5797ce3dbe1",
   "metadata": {},
   "source": [
    "### Get generation_time of document"
   ]
  },
  {
   "cell_type": "code",
   "execution_count": 12,
   "id": "f9776c75-6e1c-4a56-8dcb-dcda1434750c",
   "metadata": {},
   "outputs": [
    {
     "data": {
      "text/plain": [
       "datetime.datetime(2022, 8, 29, 9, 38, 11, tzinfo=<bson.tz_util.FixedOffset object at 0x0000022D79EB2BB0>)"
      ]
     },
     "execution_count": 12,
     "metadata": {},
     "output_type": "execute_result"
    }
   ],
   "source": [
    "res.rewind()[0]['_id'].generation_time"
   ]
  },
  {
   "cell_type": "markdown",
   "id": "c390de7e-2103-4e79-8c0e-e1ef9cd3494f",
   "metadata": {},
   "source": [
    "### Update a document:"
   ]
  },
  {
   "cell_type": "code",
   "execution_count": 13,
   "id": "d105c1c3-53c5-4c9e-beaa-31efc3f0b76f",
   "metadata": {},
   "outputs": [
    {
     "data": {
      "text/plain": [
       "<pymongo.results.UpdateResult at 0x22d1962cf70>"
      ]
     },
     "execution_count": 13,
     "metadata": {},
     "output_type": "execute_result"
    }
   ],
   "source": [
    "filter = { 'username': 'Allen' }\n",
    "newvalues = { \"$set\": { 'username': 'me' } }\n",
    "\n",
    "collection.update_one(filter, newvalues)"
   ]
  },
  {
   "cell_type": "code",
   "execution_count": null,
   "id": "a2dce1b1-1f80-486a-9021-d731251875ef",
   "metadata": {},
   "outputs": [],
   "source": []
  }
 ],
 "metadata": {
  "kernelspec": {
   "display_name": "Python 3 (ipykernel)",
   "language": "python",
   "name": "python3"
  },
  "language_info": {
   "codemirror_mode": {
    "name": "ipython",
    "version": 3
   },
   "file_extension": ".py",
   "mimetype": "text/x-python",
   "name": "python",
   "nbconvert_exporter": "python",
   "pygments_lexer": "ipython3",
   "version": "3.8.13"
  }
 },
 "nbformat": 4,
 "nbformat_minor": 5
}
