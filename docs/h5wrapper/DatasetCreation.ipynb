{
 "cells": [
  {
   "cell_type": "markdown",
   "id": "0052861b-12a3-4960-9279-7b8d03752a9d",
   "metadata": {},
   "source": [
    "# Dataset creation\n",
    "\n",
    "As motivated, the package enforces us to use certain meta information to meet the FAIR principles. A dataset creation as known from the `h5py` package is therefore not possible, because we have to pass `units` and `standard_name` or `long_name`:"
   ]
  },
  {
   "cell_type": "code",
   "execution_count": null,
   "id": "7e7ee488-fc61-4edd-a944-d5613969c769",
   "metadata": {},
   "outputs": [],
   "source": [
    "import h5rdmtoolbox as h5tbx"
   ]
  },
  {
   "cell_type": "code",
   "execution_count": null,
   "id": "0bf9a1d3-5af4-46f1-8954-38dc7d1d0542",
   "metadata": {},
   "outputs": [],
   "source": [
    "with h5tbx.H5File(standard_name_table=None) as h5:\n",
    "    try:\n",
    "        h5.create_dataset('x', shape=(4,))\n",
    "    except h5tbx.conventions.UnitsError as e:\n",
    "        print(e)\n",
    "    h5.create_dataset('x', shape=(4,), units='m', long_name='a coordinate')"
   ]
  },
  {
   "cell_type": "markdown",
   "id": "14815caa-c443-4423-98d7-393378da8756",
   "metadata": {},
   "source": [
    "For now we only used a long name. What about standard name?"
   ]
  },
  {
   "cell_type": "code",
   "execution_count": null,
   "id": "326f200b-6188-4327-b3e9-2290f7969c8f",
   "metadata": {},
   "outputs": [],
   "source": [
    "with h5tbx.H5File(standard_name_table=None) as h5:\n",
    "    h5.create_dataset('x', shape=(4,), units='m', standard_name='a coordinate')"
   ]
  },
  {
   "cell_type": "markdown",
   "id": "cde25ce2-8cbf-4e2e-becb-b8dfc39324ab",
   "metadata": {},
   "source": [
    "No problem so far because standard names are not regulated yet since we did not specify a `convention` with the `H5File`-object. In fact we even passed `standard_name_table=None`.\n",
    "\n",
    "Let's pass the already implemented fluid convention to the wrapper class (The convention is motivated once again from the cf-conventions). We run through various errors first:"
   ]
  },
  {
   "cell_type": "code",
   "execution_count": null,
   "id": "9d1d7a3b-87bd-4d5f-8731-a9c7ed58a066",
   "metadata": {},
   "outputs": [],
   "source": [
    "with h5tbx.H5File(standard_name_table=h5tbx.conventions.FluidStandardNameTable) as h5:\n",
    "    try:\n",
    "        h5.create_dataset('x', shape=(4,), units='m', standard_name='a coordinate')\n",
    "    except h5tbx.conventions.StandardizedNameError as e:\n",
    "        print(e)\n",
    "    \n",
    "    try:\n",
    "        h5.create_dataset('x', shape=(4,), units='m', standard_name='a_coordinate')\n",
    "    except h5tbx.conventions.StandardizedNameError as e:\n",
    "        print(e)\n",
    "    \n",
    "    try:\n",
    "        h5.create_dataset('x', shape=(4,), units='kg', standard_name='x_coordinate')  # note the wrong units!\n",
    "    except h5tbx.conventions.StandardizedNameError as e:\n",
    "        print(e)\n",
    "        \n",
    "    h5.create_dataset('x', shape=(4,), units='m', standard_name='x_coordinate')  # not finally correct\n",
    "    h5.create_dataset('y', shape=(4,), units='km', standard_name='y_coordinate')  # only base units is checked"
   ]
  },
  {
   "cell_type": "markdown",
   "id": "5283b85d-bcf8-420e-91c1-fc7dadab6bf6",
   "metadata": {},
   "source": [
    "### String datasets\n",
    "String datasets can be created very quickly. No standard_name, long_name or units *must* be given. As units generally anyhow makes no sense, there is still the option to pass long and standard name via the method parameters.<br>\n",
    "The dump method will display single strings but not lists of strings.<br>\n",
    "The return value when sliced will still be a `xarray.DataArray` as attributes should still be attached to the object. Use `.values` to get the raw string:"
   ]
  },
  {
   "cell_type": "code",
   "execution_count": null,
   "id": "a854cf32-74d8-47a9-a34c-1921b36913c8",
   "metadata": {},
   "outputs": [],
   "source": [
    "with h5tbx.H5File() as h5:\n",
    "    h5.create_string_dataset('astr', 'hello_world')\n",
    "    h5.create_string_dataset('string_list', ['hello', 'world'])\n",
    "    h5.dump()\n",
    "    \n",
    "    print('---\\n', h5['astr'][()])\n",
    "    print('---\\n',h5['astr'].values[()])\n",
    "    \n",
    "    print('---\\n', h5['string_list'][:])\n",
    "    print('---\\n',h5['string_list'].values[:])"
   ]
  },
  {
   "cell_type": "markdown",
   "id": "9d0d95f9-8dbe-4755-ad03-2258a51beae4",
   "metadata": {},
   "source": [
    "### Advanced dataset creation\n",
    "\n",
    "There is more to dataset creation. You can:\n",
    "- add attributes"
   ]
  },
  {
   "cell_type": "code",
   "execution_count": null,
   "id": "4b9899ee-8b74-4521-a8a5-6d132e3ef744",
   "metadata": {},
   "outputs": [],
   "source": [
    "with h5tbx.H5File() as h5:\n",
    "    h5.create_dataset('ds', shape=(10, ), units='', attrs=dict(long_name='a long name', anothera='another attr'))  # unitless dataset. long_name is passed via parameter attrs"
   ]
  },
  {
   "cell_type": "markdown",
   "id": "0ca2a909-b2f7-44eb-8339-169c5fd62b3a",
   "metadata": {},
   "source": [
    "- make and attach scales (Note the output using `dump()`: the scale \"link\" is shown)"
   ]
  },
  {
   "cell_type": "code",
   "execution_count": null,
   "id": "4d2e9458-d5c9-414c-9def-44277d11aa47",
   "metadata": {},
   "outputs": [],
   "source": [
    "with h5tbx.H5File() as h5:\n",
    "    h5.create_dataset('x', data=[1,2,3], units='m', standard_name='x_coordinate', make_scale=True)\n",
    "    h5.create_dataset('t', data=[20.1, 18.5, 24.7], units='degC', standard_name='temperature', attach_scale=h5['x'])\n",
    "    print(h5.t.x)  # note, that you can access the dimension scale using attribute-style-syntax\n",
    "    h5.dump()"
   ]
  },
  {
   "cell_type": "markdown",
   "id": "4e810d95-ae9f-43c8-8560-1f054ddd50eb",
   "metadata": {},
   "source": [
    "- add `xarry.DataArrays`"
   ]
  },
  {
   "cell_type": "code",
   "execution_count": null,
   "id": "9e8f826f-0579-405d-9c1d-bf47733c66fb",
   "metadata": {
    "tags": []
   },
   "outputs": [],
   "source": [
    "import xarray as xr\n",
    "import numpy as np\n",
    "arr =  xr.DataArray(dims=('y', 'x'), data=np.random.rand(3, 2),\n",
    "                                 coords={'y': xr.DataArray(dims='y', data=[1, 2, 3],\n",
    "                                                               attrs={'units': 'm',\n",
    "                                                                      'standard_name': 'y_coordinate'}),\n",
    "                                         'x': xr.DataArray(dims='x',\n",
    "                                                               data=[0, 1],\n",
    "                                                               attrs={'standard_name': 'x_coordinate'})\n",
    "                                        },\n",
    "                                 attrs={'long_name': 'a long name',\n",
    "                                        'units': 'm/s'})\n",
    "\n",
    "with h5tbx.H5File() as h5:\n",
    "    h5.create_dataset('temperature', data=arr)\n",
    "    h5.dump()"
   ]
  },
  {
   "cell_type": "markdown",
   "id": "3c4808bb-63cb-4886-b2ea-4fd863238e48",
   "metadata": {},
   "source": [
    "We may also create a dataset by using the `__setitem__`:"
   ]
  },
  {
   "cell_type": "code",
   "execution_count": null,
   "id": "a52f72b8-5cdc-4ce0-adfe-67ab83d650ef",
   "metadata": {},
   "outputs": [],
   "source": [
    "with h5tbx.H5File() as h5:\n",
    "    h5['x'] = [1,2,3], 'm/s', {'long_name':'hallo'}\n",
    "with h5tbx.H5File() as h5:\n",
    "    h5['x'] = ([1,2,3], 'm/s', 'long_name', 'standard_name')\n",
    "with h5tbx.H5File() as h5:\n",
    "    h5['x'] = ([1,2,3], dict(units='m/s', long_name='long_name',\n",
    "                             attrs={'hello': 'world'}, compression='gzip'))"
   ]
  },
  {
   "cell_type": "code",
   "execution_count": null,
   "id": "99ee90e4-435a-4b82-8a2b-a8e8429cb28a",
   "metadata": {},
   "outputs": [],
   "source": []
  }
 ],
 "metadata": {
  "kernelspec": {
   "display_name": "Python 3 (ipykernel)",
   "language": "python",
   "name": "python3"
  },
  "language_info": {
   "codemirror_mode": {
    "name": "ipython",
    "version": 3
   },
   "file_extension": ".py",
   "mimetype": "text/x-python",
   "name": "python",
   "nbconvert_exporter": "python",
   "pygments_lexer": "ipython3",
   "version": "3.8.13"
  }
 },
 "nbformat": 4,
 "nbformat_minor": 5
}
