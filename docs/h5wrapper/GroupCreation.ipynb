{
 "cells": [
  {
   "cell_type": "markdown",
   "id": "db1f241d-601e-4422-883a-7905830a1a9c",
   "metadata": {},
   "source": [
    "## Group creation\n",
    "Is not much different except that you can pass a `long_name` and additional attributes."
   ]
  },
  {
   "cell_type": "code",
   "execution_count": 1,
   "id": "859f96b2-c712-418a-9104-b94bc3a7799d",
   "metadata": {
    "execution": {
     "iopub.execute_input": "2022-08-12T14:11:18.925878Z",
     "iopub.status.busy": "2022-08-12T14:11:18.925878Z",
     "iopub.status.idle": "2022-08-12T14:11:20.616004Z",
     "shell.execute_reply": "2022-08-12T14:11:20.616004Z"
    }
   },
   "outputs": [],
   "source": [
    "import h5rdmtoolbox as h5tbx"
   ]
  },
  {
   "cell_type": "code",
   "execution_count": 2,
   "id": "e05731c2-b266-4139-9bf7-4fe5d3354035",
   "metadata": {
    "execution": {
     "iopub.execute_input": "2022-08-12T14:11:20.616004Z",
     "iopub.status.busy": "2022-08-12T14:11:20.616004Z",
     "iopub.status.idle": "2022-08-12T14:11:20.635750Z",
     "shell.execute_reply": "2022-08-12T14:11:20.635750Z"
    }
   },
   "outputs": [],
   "source": [
    "with h5tbx.H5File() as h5:\n",
    "    h5.create_group('mygrp')\n",
    "    h5.create_group('othergrp', long_name='my other group', attrs=dict(one=2, two='a second attr'))"
   ]
  },
  {
   "cell_type": "markdown",
   "id": "2c083948-8661-46ea-9b51-c44ad4a9a9e2",
   "metadata": {},
   "source": [
    "## Meta convention: Static layouts:\n",
    "\n",
    "Each HDF wrapper class must fulfill certain requirements, e.g.\n",
    " - to have specific attributes\n",
    " - to have specific attributes with a certain value\n",
    " - to have specific groups\n",
    " - to have specific datasets\n",
    " - to have a specific dataset with a specific shape\n",
    "\n",
    "The basic wrapper-class reflects the \"minimum standard\". It must have certain atributes, such as \"creation_time \" or \"title\". To check which one exactly, let's print the content of the file to the screen using `dump()` (outside of jupyter notebooks print the instance or call `sdump()`)"
   ]
  },
  {
   "cell_type": "code",
   "execution_count": 3,
   "id": "48caad4c-a49c-4907-a433-260ba4472fb5",
   "metadata": {
    "execution": {
     "iopub.execute_input": "2022-08-12T14:11:20.635750Z",
     "iopub.status.busy": "2022-08-12T14:11:20.635750Z",
     "iopub.status.idle": "2022-08-12T14:11:20.656248Z",
     "shell.execute_reply": "2022-08-12T14:11:20.656047Z"
    }
   },
   "outputs": [
    {
     "name": "stdout",
     "output_type": "stream",
     "text": [
      "Attribute creation_time missing in group /\n"
     ]
    }
   ],
   "source": [
    "import h5py\n",
    "with h5py.File(h5tbx.generate_temporary_filename(suffix='.hdf'), 'w') as h5:\n",
    "    h5.attrs['title'] = 'Tutorial data'\n",
    "    h5.attrs['__version__'] = '0.1.12'\n",
    "    test_filename = h5.filename  # or h5.hdf_filename\n",
    "\n",
    "with h5tbx.H5File(test_filename) as h5:\n",
    "    h5.check(silent=False)"
   ]
  }
 ],
 "metadata": {
  "kernelspec": {
   "display_name": "Python 3 (ipykernel)",
   "language": "python",
   "name": "python3"
  },
  "language_info": {
   "codemirror_mode": {
    "name": "ipython",
    "version": 3
   },
   "file_extension": ".py",
   "mimetype": "text/x-python",
   "name": "python",
   "nbconvert_exporter": "python",
   "pygments_lexer": "ipython3",
   "version": "3.8.13"
  }
 },
 "nbformat": 4,
 "nbformat_minor": 5
}
