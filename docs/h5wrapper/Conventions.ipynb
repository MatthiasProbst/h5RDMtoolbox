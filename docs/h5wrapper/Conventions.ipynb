{
 "cells": [
  {
   "cell_type": "markdown",
   "id": "29478d33-dadc-47ba-8848-d23b488642bd",
   "metadata": {},
   "source": [
    "# (Naming) Conventions\n",
    "\n",
    "To meet the sustainable (FAIR) principles of data management, the package introduces conventions, that define not only which properties must be attached to a data set but also what naming is allowed. Specifically, the following attributes are obligatory with HDF5 dataset:\n",
    " - `units`\n",
    " - `standard_name`\n",
    " - `long_name` (not needed if `standard_name` exists and vise versa)\n",
    "\n",
    "**units**<br>\n",
    "We expect that each data set written to the HDF5 file has a physical unit or no unit at all. It is registered in the attribute `units`.\n",
    "\n",
    "**standard_name and long_name**<br>\n",
    "For the sake of improved readability and interpretability we suggest to use `long_name` or `standard_name` as additional attributes. While `long_name` is human-readable and interpretable attribute, `standard_name` is intended to be read by a machine (other software). This allows to automate exploration and processing work.\n",
    "\n",
    "The `standard_name` generally should not be chosen freely but must follow a certain convention. Such a naming convention may be defined by a project or a community, e.g. the climate and forecast community [cfconventions.org], from which the concept of standard names is adoped. A convention is described in an **XML** file and associated with the wrapper file `H5File`. Again this is adoped from [cfconventions.org]. The XML file contains the standard name, a description for each one and the respective unit. Thus, if a convention is associated with a wrapper class, the standard name and unit cannot be freely be chsen but is verified.\n",
    "\n",
    "[cfconventions.org]: http://cfconventions.org/"
   ]
  },
  {
   "cell_type": "code",
   "execution_count": 1,
   "id": "07f28bd5-1be7-454a-92fa-10233fb0e8e1",
   "metadata": {},
   "outputs": [],
   "source": [
    "import h5rdmtoolbox as h5tbx"
   ]
  },
  {
   "cell_type": "code",
   "execution_count": 2,
   "id": "bc29df0c-b117-4ac0-953b-a46fefccb945",
   "metadata": {},
   "outputs": [
    {
     "ename": "AttributeError",
     "evalue": "module 'h5rdmtoolbox.conventions' has no attribute 'FluidStandardNameTable'",
     "output_type": "error",
     "traceback": [
      "\u001b[1;31m---------------------------------------------------------------------------\u001b[0m",
      "\u001b[1;31mAttributeError\u001b[0m                            Traceback (most recent call last)",
      "Input \u001b[1;32mIn [2]\u001b[0m, in \u001b[0;36m<cell line: 1>\u001b[1;34m()\u001b[0m\n\u001b[1;32m----> 1\u001b[0m \u001b[43mh5tbx\u001b[49m\u001b[38;5;241;43m.\u001b[39;49m\u001b[43mconventions\u001b[49m\u001b[38;5;241;43m.\u001b[39;49m\u001b[43mFluidStandardNameTable\u001b[49m\u001b[38;5;241m.\u001b[39mdump()\n",
      "\u001b[1;31mAttributeError\u001b[0m: module 'h5rdmtoolbox.conventions' has no attribute 'FluidStandardNameTable'"
     ]
    }
   ],
   "source": [
    "h5tbx.conventions.FluidStandardNameTable.dump()"
   ]
  },
  {
   "cell_type": "markdown",
   "id": "2213e452-72dd-4bc8-9860-16ba0c457889",
   "metadata": {},
   "source": [
    "## Checks\n",
    "We can use the standard name table to check some name. We can check for name compliance in a strict or non-strict way. That means, that we check whether the name actally exists in the table or if only the naming conventn in a formal way is approved (e.g. does not start with a letter):"
   ]
  },
  {
   "cell_type": "code",
   "execution_count": null,
   "id": "ac079705-9278-4809-9f4a-73dce277a637",
   "metadata": {},
   "outputs": [],
   "source": [
    "try:\n",
    "    h5tbx.conventions.FluidStandardNameTable.check_name('test', strict=True)\n",
    "except h5tbx.conventions.StandardizedNameError as e:\n",
    "    print(e)\n",
    "    \n",
    "try:\n",
    "    h5tbx.conventions.FluidStandardNameTable.check_name('1234test', strict=False)\n",
    "except h5tbx.conventions.StandardizedNameError as e:\n",
    "    print(e)\n",
    "    \n",
    "print(h5tbx.conventions.FluidStandardNameTable.check_name('test', strict=False))"
   ]
  },
  {
   "cell_type": "code",
   "execution_count": null,
   "id": "09ea220f-026b-4697-834d-4b3ce8267b8f",
   "metadata": {
    "tags": []
   },
   "outputs": [],
   "source": [
    "print(h5tbx.conventions.FluidStandardNameTable.check_name('x_velocity', strict=False))\n",
    "\n",
    "try:\n",
    "    h5tbx.conventions.FluidStandardNameTable.check_units('test', 'm')\n",
    "except h5tbx.conventions.StandardizedNameError as e:\n",
    "    print(e)\n",
    "    \n",
    "try:\n",
    "    h5tbx.conventions.FluidStandardNameTable.check_units('x_velocity', 'm')\n",
    "except h5tbx.conventions.StandardizedNameError as e:\n",
    "    print(e)\n",
    "    \n",
    "h5tbx.conventions.FluidStandardNameTable.check_units('x_velocity', 'm/s')"
   ]
  }
 ],
 "metadata": {
  "kernelspec": {
   "display_name": "Python 3 (ipykernel)",
   "language": "python",
   "name": "python3"
  },
  "language_info": {
   "codemirror_mode": {
    "name": "ipython",
    "version": 3
   },
   "file_extension": ".py",
   "mimetype": "text/x-python",
   "name": "python",
   "nbconvert_exporter": "python",
   "pygments_lexer": "ipython3",
   "version": "3.8.13"
  }
 },
 "nbformat": 4,
 "nbformat_minor": 5
}
