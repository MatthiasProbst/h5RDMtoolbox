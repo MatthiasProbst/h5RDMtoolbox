{
 "cells": [
  {
   "cell_type": "markdown",
   "id": "29478d33-dadc-47ba-8848-d23b488642bd",
   "metadata": {},
   "source": [
    "# (Naming) Conventions\n",
    "\n",
    "To meet the sustainable (FAIR) principles of data management, the package introduces conventions, that define not only which properties must be attached to a data set but also what naming is allowed. Specifically, the following attributes are obligatory with HDF5 dataset:\n",
    " - `units`\n",
    " - `standard_name`\n",
    " - `long_name` (not needed if `standard_name` exists and vise versa)\n",
    "\n",
    "**units**<br>\n",
    "We expect that each data set written to the HDF5 file has a physical unit or no unit at all. It is registered in the attribute `units`.\n",
    "\n",
    "**standard_name and long_name**<br>\n",
    "For the sake of improved readability and interpretability we suggest to use `long_name` or `standard_name` as additional attributes. While `long_name` is human-readable and interpretable attribute, `standard_name` is intended to be read by a machine (other software). This allows to automate exploration and processing work.\n",
    "\n",
    "The `standard_name` generally should not be chosen freely but must follow a certain convention. Such a naming convention may be defined by a project or a community, e.g. the climate and forecast community [cfconventions.org], from which the concept of standard names is adoped. A convention is described in an **XML** file and associated with the wrapper file `H5File`. Again this is adoped from [cfconventions.org]. The XML file contains the standard name, a description for each one and the respective unit. Thus, if a convention is associated with a wrapper class, the standard name and unit cannot be freely be chsen but is verified.\n",
    "\n",
    "[cfconventions.org]: http://cfconventions.org/"
   ]
  },
  {
   "cell_type": "code",
   "execution_count": null,
   "id": "07f28bd5-1be7-454a-92fa-10233fb0e8e1",
   "metadata": {},
   "outputs": [],
   "source": [
    "import h5rdmtoolbox as h5tbx"
   ]
  },
  {
   "cell_type": "markdown",
   "id": "2213e452-72dd-4bc8-9860-16ba0c457889",
   "metadata": {},
   "source": [
    "## Checks\n",
    "We can use the standard name table to check some name. We can check for name compliance in a strict or non-strict way. That means, that we check whether the name actally exists in the table or if only the naming conventn in a formal way is approved (e.g. does not start with a letter):"
   ]
  },
  {
   "cell_type": "code",
   "execution_count": null,
   "id": "03fd739b-32e4-4829-9ded-dfe4db3d95cd",
   "metadata": {},
   "outputs": [],
   "source": [
    "h5tbx.conventions.StandardNameTable.print_registered()"
   ]
  },
  {
   "cell_type": "code",
   "execution_count": null,
   "id": "29ded965-8a48-44fa-8150-70dd1647b531",
   "metadata": {},
   "outputs": [],
   "source": [
    "snt = h5tbx.conventions.StandardNameTable.load_registered('piv-v1')"
   ]
  },
  {
   "cell_type": "code",
   "execution_count": null,
   "id": "d31c136a-27d7-4c4d-911a-a8197ba0a79d",
   "metadata": {},
   "outputs": [],
   "source": [
    "snt.check_name('x_coordinate', strict=True)"
   ]
  },
  {
   "cell_type": "code",
   "execution_count": null,
   "id": "ac079705-9278-4809-9f4a-73dce277a637",
   "metadata": {},
   "outputs": [],
   "source": [
    "try:\n",
    "    snt.check_name('test', strict=True)\n",
    "except h5tbx.errors.StandardNameError as e:\n",
    "    print(e)\n",
    "    \n",
    "try:\n",
    "    snt.check_name('1234test', strict=False)\n",
    "except h5tbx.errors.StandardNameError as e:\n",
    "    print(e)"
   ]
  }
 ],
 "metadata": {
  "kernelspec": {
   "display_name": "Python 3 (ipykernel)",
   "language": "python",
   "name": "python3"
  },
  "language_info": {
   "codemirror_mode": {
    "name": "ipython",
    "version": 3
   },
   "file_extension": ".py",
   "mimetype": "text/x-python",
   "name": "python",
   "nbconvert_exporter": "python",
   "pygments_lexer": "ipython3",
   "version": "3.8.13"
  }
 },
 "nbformat": 4,
 "nbformat_minor": 5
}
