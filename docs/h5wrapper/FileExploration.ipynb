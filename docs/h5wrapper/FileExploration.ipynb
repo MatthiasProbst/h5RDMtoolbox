{
 "cells": [
  {
   "cell_type": "markdown",
   "id": "e0dc0783-1b52-48bc-bb8a-e2546ee2a5d7",
   "metadata": {},
   "source": [
    "# File exploration\n",
    "\n",
    "To find data quickly or to collect certain objects the `h5RDMtoolbox` provides helpful methods. It follows mainly the `pymong`-syntax."
   ]
  },
  {
   "cell_type": "code",
   "execution_count": 1,
   "id": "a3bc2c52-85e0-45bd-b2fd-1d7288637583",
   "metadata": {
    "execution": {
     "iopub.execute_input": "2022-08-24T06:39:56.193999Z",
     "iopub.status.busy": "2022-08-24T06:39:56.193999Z",
     "iopub.status.idle": "2022-08-24T06:39:57.837534Z",
     "shell.execute_reply": "2022-08-24T06:39:57.837534Z"
    },
    "tags": []
   },
   "outputs": [],
   "source": [
    "import h5rdmtoolbox as h5tbx"
   ]
  },
  {
   "cell_type": "markdown",
   "id": "5757dc30-e732-48d0-b129-789dce5e94ae",
   "metadata": {},
   "source": [
    "As always, let's build a HDF5 file from scratch:"
   ]
  },
  {
   "cell_type": "code",
   "execution_count": 2,
   "id": "65294bdf-db4b-4edd-b069-5d6aa2a6110f",
   "metadata": {
    "execution": {
     "iopub.execute_input": "2022-08-24T06:39:57.839549Z",
     "iopub.status.busy": "2022-08-24T06:39:57.839549Z",
     "iopub.status.idle": "2022-08-24T06:39:57.869434Z",
     "shell.execute_reply": "2022-08-24T06:39:57.869434Z"
    },
    "tags": []
   },
   "outputs": [],
   "source": [
    "with h5tbx.H5File() as h5:\n",
    "    h5.create_group('grp_1')\n",
    "    h5.create_group('grp_2', long_name='my other group', attrs=dict(one=2, two='a second attr'))\n",
    "    h5.create_dataset('ds_1', shape=(2, 4), units='', long_name='dataset 1', attrs=dict(mean=1.5))\n",
    "    h5.create_dataset('ds_2', shape=(2, 4), units='', long_name='dataset 2', attrs=dict(mean=2.0))\n",
    "    h5.create_dataset('gr_1/ds_1', shape=(2, 4), units='', long_name='dataset 2', attrs=dict(mean=1.5))\n",
    "    filename = h5.hdf_filename"
   ]
  },
  {
   "cell_type": "markdown",
   "id": "42e3e8bd-851d-4092-825e-ac87e216983e",
   "metadata": {},
   "source": [
    "## Find\n",
    "Syntax follows `pymongo`-syntax but not all queries may be implemented. Currently available:<br>\n",
    "\\\\$gt, \\\\$gte, \\\\$lt, \\\\$lte, \\\\$regex\n",
    "\n",
    "You can decide to find only one appearance (`find_one`) or to find all (`find`)."
   ]
  },
  {
   "cell_type": "markdown",
   "id": "fd80e1af-0984-42c0-a4a2-3a9dffa8db01",
   "metadata": {},
   "source": [
    "### Find all groups/datasets in a level (or recursive through the file):\n",
    "Use key \"\\\\$group\" or \"\\\\$dataset\". If the value is an empty string, all groups/datasets are returned:"
   ]
  },
  {
   "cell_type": "code",
   "execution_count": 3,
   "id": "0f8f3a59-607a-4c83-ad58-5b5bb49eceac",
   "metadata": {
    "execution": {
     "iopub.execute_input": "2022-08-24T06:39:57.869434Z",
     "iopub.status.busy": "2022-08-24T06:39:57.869434Z",
     "iopub.status.idle": "2022-08-24T06:39:57.925556Z",
     "shell.execute_reply": "2022-08-24T06:39:57.925556Z"
    }
   },
   "outputs": [
    {
     "name": "stdout",
     "output_type": "stream",
     "text": [
      "[<HDF5 group \"/gr_1\" (1 members)>, <HDF5 group \"/grp_1\" (0 members)>, <HDF5 group \"/grp_2\" (0 members)>]\n",
      "[<HDF5 dataset \"ds_1\": shape (2, 4), type \"<f4\">, <HDF5 dataset \"ds_2\": shape (2, 4), type \"<f4\">, <HDF5 dataset \"ds_1\": shape (2, 4), type \"<f4\">]\n"
     ]
    }
   ],
   "source": [
    "with h5tbx.H5File(filename) as h5:\n",
    "    print(h5.find({'$group': ''}, rec=True))\n",
    "with h5tbx.H5File(filename) as h5:\n",
    "    print(h5.find({'$dataset': ''}, rec=True))"
   ]
  },
  {
   "cell_type": "markdown",
   "id": "48d74472-e2d9-42bb-9038-17a0aa8fab8b",
   "metadata": {},
   "source": [
    "### Find **one** specific group/dataset:"
   ]
  },
  {
   "cell_type": "code",
   "execution_count": 4,
   "id": "11c0fee6-cc3c-4875-9cde-8725ba3d7192",
   "metadata": {
    "execution": {
     "iopub.execute_input": "2022-08-24T06:39:57.939586Z",
     "iopub.status.busy": "2022-08-24T06:39:57.939586Z",
     "iopub.status.idle": "2022-08-24T06:39:57.986395Z",
     "shell.execute_reply": "2022-08-24T06:39:57.986395Z"
    }
   },
   "outputs": [
    {
     "name": "stdout",
     "output_type": "stream",
     "text": [
      "[<HDF5 group \"/grp_1\" (0 members)>]\n",
      "[<HDF5 dataset \"ds_1\": shape (2, 4), type \"<f4\">]\n"
     ]
    }
   ],
   "source": [
    "with h5tbx.H5File(filename) as h5:\n",
    "    print(h5.find({'$group': 'grp_1'}, rec=True))\n",
    "with h5tbx.H5File(filename) as h5:\n",
    "    print(h5.find({'$dataset': 'ds_1'}, rec=True))"
   ]
  },
  {
   "cell_type": "markdown",
   "id": "065600e9-68b4-43f6-93ee-1e179d549d1b",
   "metadata": {},
   "source": [
    "using **regex**:"
   ]
  },
  {
   "cell_type": "code",
   "execution_count": 5,
   "id": "c7b77acb-9a7d-4cf1-9f51-cbbe7bdaeea7",
   "metadata": {
    "execution": {
     "iopub.execute_input": "2022-08-24T06:39:57.986395Z",
     "iopub.status.busy": "2022-08-24T06:39:57.986395Z",
     "iopub.status.idle": "2022-08-24T06:39:58.036306Z",
     "shell.execute_reply": "2022-08-24T06:39:58.036306Z"
    }
   },
   "outputs": [
    {
     "name": "stdout",
     "output_type": "stream",
     "text": [
      "[<HDF5 group \"/grp_1\" (0 members)>]\n",
      "[<HDF5 dataset \"ds_1\": shape (2, 4), type \"<f4\">]\n"
     ]
    }
   ],
   "source": [
    "with h5tbx.H5File(filename) as h5:\n",
    "    print(h5.find({'$group': 'grp_1'}, rec=True))\n",
    "with h5tbx.H5File(filename) as h5:\n",
    "    print(h5.find({'$dataset': 'ds_1'}, rec=True))"
   ]
  },
  {
   "cell_type": "markdown",
   "id": "64bd1a3b-dba1-4855-921c-7d5525076cf7",
   "metadata": {},
   "source": [
    "### Find based on attributes:"
   ]
  },
  {
   "cell_type": "code",
   "execution_count": 6,
   "id": "5e909a0d-10d7-4cab-ae11-b52bfdbcf6ee",
   "metadata": {
    "execution": {
     "iopub.execute_input": "2022-08-24T06:39:58.039870Z",
     "iopub.status.busy": "2022-08-24T06:39:58.039870Z",
     "iopub.status.idle": "2022-08-24T06:39:58.068117Z",
     "shell.execute_reply": "2022-08-24T06:39:58.068117Z"
    }
   },
   "outputs": [
    {
     "name": "stdout",
     "output_type": "stream",
     "text": [
      "[<HDF5 dataset \"ds_1\": shape (2, 4), type \"<f4\">]\n"
     ]
    }
   ],
   "source": [
    "with h5tbx.H5File(filename) as h5:\n",
    "    print(h5.find({'long_name': 'dataset 1'}, rec=True))"
   ]
  },
  {
   "cell_type": "code",
   "execution_count": 7,
   "id": "efdce770-e975-4896-b30b-a7242e955df8",
   "metadata": {
    "execution": {
     "iopub.execute_input": "2022-08-24T06:39:58.068117Z",
     "iopub.status.busy": "2022-08-24T06:39:58.068117Z",
     "iopub.status.idle": "2022-08-24T06:39:58.100126Z",
     "shell.execute_reply": "2022-08-24T06:39:58.100126Z"
    }
   },
   "outputs": [
    {
     "name": "stdout",
     "output_type": "stream",
     "text": [
      "[<HDF5 dataset \"ds_1\": shape (2, 4), type \"<f4\">]\n"
     ]
    }
   ],
   "source": [
    "with h5tbx.H5File(filename) as h5:\n",
    "    print(h5.find({'long_name': 'dataset 1'}, rec=True))"
   ]
  },
  {
   "cell_type": "code",
   "execution_count": 8,
   "id": "3a614c10-a9bf-42be-ae7d-476aabba9463",
   "metadata": {
    "execution": {
     "iopub.execute_input": "2022-08-24T06:39:58.100126Z",
     "iopub.status.busy": "2022-08-24T06:39:58.100126Z",
     "iopub.status.idle": "2022-08-24T06:39:58.132754Z",
     "shell.execute_reply": "2022-08-24T06:39:58.132167Z"
    }
   },
   "outputs": [
    {
     "name": "stdout",
     "output_type": "stream",
     "text": [
      "[<HDF5 dataset \"ds_1\": shape (2, 4), type \"<f4\">, <HDF5 dataset \"ds_2\": shape (2, 4), type \"<f4\">, <HDF5 dataset \"ds_1\": shape (2, 4), type \"<f4\">]\n"
     ]
    }
   ],
   "source": [
    "with h5tbx.H5File(filename) as h5:\n",
    "    print(h5.find({'mean': {'$gt': 1.}}, rec=True))"
   ]
  },
  {
   "cell_type": "code",
   "execution_count": null,
   "id": "15a1a448-b3e1-4ddf-bf5e-d42344cb4a94",
   "metadata": {},
   "outputs": [],
   "source": []
  }
 ],
 "metadata": {
  "kernelspec": {
   "display_name": "Python 3 (ipykernel)",
   "language": "python",
   "name": "python3"
  },
  "language_info": {
   "codemirror_mode": {
    "name": "ipython",
    "version": 3
   },
   "file_extension": ".py",
   "mimetype": "text/x-python",
   "name": "python",
   "nbconvert_exporter": "python",
   "pygments_lexer": "ipython3",
   "version": "3.8.13"
  }
 },
 "nbformat": 4,
 "nbformat_minor": 5
}
