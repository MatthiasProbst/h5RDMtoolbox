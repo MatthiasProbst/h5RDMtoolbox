{
 "cells": [
  {
   "cell_type": "markdown",
   "id": "91c4ae4d-2b0e-4de5-b759-4c9fc9d072b1",
   "metadata": {},
   "source": [
    "# Extensions\n",
    "\n",
    "The wrapper class functionalities can be extended using composition or inheritance.\n",
    "\n",
    "## Composition\n",
    "\n",
    "The concept of composition adds a component to a composite class. The relationship is such, that the composite class does not know the component class but wise versa. This allows to add additional functionality without changing the original code. Adding components to an existing wrapper class will be called \"registering\" here.\n",
    "\n",
    "### Registration of properties\n",
    "To facilitate and speed up certain tasks and workflows, it might be usefull to have additional properties. Let's assume we want to store a username as an attribute in the HDF5 file. Let's further assume that a user name has a firstname and a surname and both must start with a capitalized letter. To catch possible errerneous input by the user, we would need an additional method, e.g. \"set_username\" or a property \"username\" of `H5File`.<br>**Two** possible ways to achieve this: **inheritance or composition**. The quick and recommended way to add a new class property is to use composition by \"registering\" the property. Like this we don't have to rewrite (inherite at least) the API but only simply write the porperty class.<br>\n",
    "Let's first write a property class \"username\". It needs **three methods**: `get`, `set` and `delete`:"
   ]
  },
  {
   "cell_type": "code",
   "execution_count": 1,
   "id": "a1cbc998-a747-4370-b362-d04c4d6508be",
   "metadata": {
    "execution": {
     "iopub.execute_input": "2022-08-15T09:41:59.536277Z",
     "iopub.status.busy": "2022-08-15T09:41:59.536277Z",
     "iopub.status.idle": "2022-08-15T09:42:01.577094Z",
     "shell.execute_reply": "2022-08-15T09:42:01.577094Z"
    }
   },
   "outputs": [],
   "source": [
    "import h5rdmtoolbox as h5tbx"
   ]
  },
  {
   "cell_type": "code",
   "execution_count": 2,
   "id": "98270fc1-d0d1-4d46-99d0-76691da2ad64",
   "metadata": {
    "execution": {
     "iopub.execute_input": "2022-08-15T09:42:01.577094Z",
     "iopub.status.busy": "2022-08-15T09:42:01.577094Z",
     "iopub.status.idle": "2022-08-15T09:42:01.592713Z",
     "shell.execute_reply": "2022-08-15T09:42:01.592713Z"
    }
   },
   "outputs": [],
   "source": [
    "from typing import Tuple\n",
    "\n",
    "# register a property with setter and getter method:\n",
    "@h5tbx.h5wrapper.register_special_property(h5tbx.h5wrapper.h5file.H5Dataset, overwrite=True)\n",
    "class username:\n",
    "    \"\"\"User Name Property. Requires name and ORCID\"\"\"\n",
    "\n",
    "    def set(self, user_name_data: Tuple[str, str]):\n",
    "        \"\"\"setter method\"\"\"\n",
    "        if not isinstance(user_name_data, (tuple, list)):\n",
    "            raise ValueError(f'Expecting a tuple of name and orcid but got {type(user_name_data)}')\n",
    "        if not len(user_name_data) == 2:\n",
    "            raise ValueError(f'Expecting two entries (name and orcid) but got {len(user_name_data)}: {user_name_data}')\n",
    "        self.attrs['user_name'] = user_name_data[0]\n",
    "        self.attrs['user_orcid'] = user_name_data[1]\n",
    "\n",
    "    def get(self):\n",
    "        \"\"\"getter method\"\"\"\n",
    "        return self.attrs['user_name'], self.attrs['user_orcid']"
   ]
  },
  {
   "cell_type": "markdown",
   "id": "fc6fe738-3acc-47c4-860a-19d4de3d4d65",
   "metadata": {},
   "source": [
    "Some words about above lines:\n",
    "- `@h5tbx.h5wrapper.register_special_property(h5tbx.H5File)`: registering the below class (only) to the class `H5File`\n",
    "- don't use existing property names. An error will be raised anyhow. You may however pass `overwrite=True` in the registration method. Be careful though!\n",
    "- provide `set` and optionally also `get` and `delete`. The method `get` makes sense though, while `delete` is not really needed most of the times.\n",
    "\n",
    "Let's check if it worked out:"
   ]
  },
  {
   "cell_type": "code",
   "execution_count": 3,
   "id": "f1723f32-2916-431f-af6b-5b96cc6e9526",
   "metadata": {
    "execution": {
     "iopub.execute_input": "2022-08-15T09:42:01.598233Z",
     "iopub.status.busy": "2022-08-15T09:42:01.592713Z",
     "iopub.status.idle": "2022-08-15T09:42:01.624399Z",
     "shell.execute_reply": "2022-08-15T09:42:01.624399Z"
    }
   },
   "outputs": [
    {
     "name": "stdout",
     "output_type": "stream",
     "text": [
      "('First User', '0000-0001-8729-0482')\n",
      "Expecting a tuple of name and orcid but got <class 'str'>\n",
      "('First User', '0000-0001-8729-0482')\n"
     ]
    },
    {
     "data": {
      "text/html": [
       "<head><style>/*\r\n",
       "CSS inspired by xarray: https://github.com/pydata/xarray\r\n",
       "*/\r\n",
       ".h5tb-header > div,\r\n",
       ".h5tb-header > ul {\r\n",
       "    display: inline;\r\n",
       "    margin-top: 0;\r\n",
       "    margin-bottom: 0;\r\n",
       "}\r\n",
       "\r\n",
       ".h5tb-dataarray-cls,\r\n",
       ".h5tb-dataarray-name {\r\n",
       "    margin-left: 2px;\r\n",
       "    margin-right: 10px;\r\n",
       "}\r\n",
       "\r\n",
       ".h5tb-dataarray-name {\r\n",
       "    color: #000;\r\n",
       "}\r\n",
       "\r\n",
       ".h5grp-sections {\r\n",
       "    list-style: none;\r\n",
       "    padding: 3px;\r\n",
       "    margin: 0;\r\n",
       "}\r\n",
       "\r\n",
       ".h5grp-sections input {\r\n",
       "    display: none;\r\n",
       "}\r\n",
       "\r\n",
       ".h5grp-sections label {\r\n",
       "    display: inline;\r\n",
       "}\r\n",
       "\r\n",
       ".h5grp-sections > li > input + label > span {\r\n",
       "    display: inline;\r\n",
       "    margin-left: 4px;\r\n",
       "}\r\n",
       "\r\n",
       ".h5grp-sections > li > input:checked + label > span {\r\n",
       "    display: none;\r\n",
       "}\r\n",
       "\r\n",
       ".h5grp-sections input:enabled + label {\r\n",
       "    cursor: pointer;\r\n",
       "}\r\n",
       "\r\n",
       ".h5grp-sections input:not(.h5tb-values-in) ~ ul {\r\n",
       "    display: none;\r\n",
       "}\r\n",
       "\r\n",
       ".h5grp-sections input:not(.h5tb-values-in):checked ~ ul {\r\n",
       "    display: block;\r\n",
       "}\r\n",
       "\r\n",
       ".h5grp-sections > li > input + label {\r\n",
       "    width: 140px;\r\n",
       "    color: #555;\r\n",
       "    font-weight: 500;\r\n",
       "    padding: 4px 0 2px 0;\r\n",
       "}\r\n",
       "\r\n",
       "\r\n",
       ".h5grp-sections > li > input + label:before {\r\n",
       "    display: inline-block;\r\n",
       "    content: '+';\r\n",
       "    font-size: 11px;\r\n",
       "    width: 15px;\r\n",
       "    text-align: center;\r\n",
       "}\r\n",
       "\r\n",
       ".h5grp-sections > li > input:disabled + label:before {\r\n",
       "    color: #777;\r\n",
       "}\r\n",
       "\r\n",
       ".h5grp-sections > li > input:checked + label:before {\r\n",
       "    content: '-';\r\n",
       "}\r\n",
       "\r\n",
       ".h5tb-dim-list {\r\n",
       "    display: inline-block !important;\r\n",
       "    list-style: none;\r\n",
       "    padding: 0;\r\n",
       "}\r\n",
       "\r\n",
       ".h5tb-dim-list li {\r\n",
       "    display: inline-block;\r\n",
       "    padding: 0;\r\n",
       "    margin: 0;\r\n",
       "}\r\n",
       "\r\n",
       ".h5tb-dim-list:before {\r\n",
       "    content: '(';\r\n",
       "}\r\n",
       "\r\n",
       ".h5tb-dim-list:after {\r\n",
       "    content: ')';\r\n",
       "}\r\n",
       "\r\n",
       ".h5tb-dim-list li:not(:last-child):after {\r\n",
       "    content: ',';\r\n",
       "}\r\n",
       "\r\n",
       ".h5tb-has-index {\r\n",
       "    text-decoration: underline;\r\n",
       "}\r\n",
       "\r\n",
       ".h5tb-var-list {\r\n",
       "    list-style: none;\r\n",
       "    padding: 0;\r\n",
       "    margin: 0;\r\n",
       "}\r\n",
       "\r\n",
       ".h5tb-var-list > li {\r\n",
       "    background-color: #fcfcfc;\r\n",
       "    overflow: hidden;\r\n",
       "}\r\n",
       "\r\n",
       ".h5tb-var-list > li:nth-child(odd) {\r\n",
       "    background-color: #efefef;\r\n",
       "}\r\n",
       "\r\n",
       ".h5tb-var-list li:hover {\r\n",
       "    background-color: rgba(3, 169, 244, .2);\r\n",
       "}\r\n",
       "\r\n",
       ".h5tb-var-list li > span {\r\n",
       "    display: inline-block;\r\n",
       "}\r\n",
       "\r\n",
       "input.h5tb-varname-in + label {\r\n",
       "    width: 140px;\r\n",
       "    padding-left: 0;\r\n",
       "    font-weight: bold;\r\n",
       "}\r\n",
       "\r\n",
       ".h5tb-dataset {\r\n",
       "    width: 100px;\r\n",
       "}\r\n",
       "\r\n",
       ".h5tb-attributevalue {\r\n",
       "    width: 100px;\r\n",
       "    text-align: left;\r\n",
       "    color: #888;\r\n",
       "    white-space: nowrap;\r\n",
       "    font-size: 12px;\r\n",
       "}\r\n",
       "\r\n",
       "input.h5tb-varname-in + label:before {\r\n",
       "    content: ' ';\r\n",
       "    display: inline-block;\r\n",
       "    font-size: 11px;\r\n",
       "    width: 15px;\r\n",
       "    padding-left: 2px;\r\n",
       "    padding-right: 2px;\r\n",
       "    text-align: center;\r\n",
       "    color: #aaa;\r\n",
       "    text-decoration: none !important;\r\n",
       "}\r\n",
       "\r\n",
       "input.h5tb-varname-in:enabled + label:hover:before {\r\n",
       "    color: #000;\r\n",
       "}\r\n",
       "\r\n",
       "input.h5tb-varname-in:checked + label:before {\r\n",
       "    color: #ccc;\r\n",
       "}\r\n",
       "\r\n",
       ".h5tb-dims {\r\n",
       "    width: 280px;\r\n",
       "    white-space: nowrap;\r\n",
       "}\r\n",
       "\r\n",
       "\r\n",
       ".h5tb-unit {\r\n",
       "    width: 96px;\r\n",
       "    white-space: nowrap;\r\n",
       "    padding-right: 2px;\r\n",
       "    text-align: right;\r\n",
       "    color: #555;\r\n",
       "    font-style: italic;\r\n",
       "}\r\n",
       "\r\n",
       ".h5tb-attr-list {\r\n",
       "    list-style: none;\r\n",
       "    background-color: #fff;\r\n",
       "    padding-bottom: 6px;\r\n",
       "    color: #555;\r\n",
       "}\r\n",
       "\r\n",
       ".h5tb-attr-list li,\r\n",
       ".h5tb-attr-list li:hover {\r\n",
       "    background-color: #fff;\r\n",
       "}\r\n",
       "\r\n",
       ".h5tb-dim-highlight {\r\n",
       "    background-color: rgba(3, 169, 244, .2);\r\n",
       "    cursor: pointer;\r\n",
       "}</style></head>\n",
       "<p>tmp0.hdf</p>\n",
       "<p>Check resuted in 1 issues.</p>\n",
       "\n",
       "<div class='h5tb-warp'>\n",
       "\n",
       "          <ul style=\"list-style-type: none;\" class=\"h5grp-sections\">\n",
       "                <li>\n",
       "                    <input id=\"group-ds-/-3832448900\" type=\"checkbox\" checked>\n",
       "                    <label style=\"font-weight: bold\" for=\"group-ds-/-3832448900\">\n",
       "                    /<span>(1)</span></label>\n",
       "              \n",
       "\n",
       "                <ul class=\"h5tb-attr-list\"><li style=\"list-style-type: none; font-style: italic\">__h5rdmtoolbox_version__ : 0.1.0</li><li style=\"list-style-type: none; font-style: italic\">__standard_name_table__ : EmptyStandardizedNameTable-v0</li><li style=\"list-style-type: none; font-style: italic\">__wrcls__ : H5File</li><li style=\"list-style-type: none; font-style: italic\">creation_time : 2022-08-15T11:42:01Z</li>\n",
       "                </ul>\n",
       "\n",
       "                <ul id=\"ds-1-/test-3834305100\" class=\"h5tb-var-list\">\n",
       "                <input id=\"ds-2-/test-3834309100\" class=\"h5tb-varname-in\" type=\"checkbox\">\n",
       "                <label class='h5tb-varname' \n",
       "                    for=\"ds-2-/test-3834309100\">test</label>\n",
       "                <span class=\"h5tb-dims\">(2,)</span>  [\n",
       "                <span class=\"h5tb-unit\">-</span>]\n",
       "<ul class=\"h5tb-attr-list\"><li style=\"list-style-type: none; font-style:\n",
       "         italic\">standard_name : standard_test</li><li style=\"list-style-type: none; font-style: italic\">user_name : First User</li><li style=\"list-style-type: none; font-style: italic\">user_orcid : 0000-0001-8729-0482</li>\n",
       "\n",
       "                </ul>\n",
       "\n",
       "             </ul>\n",
       "             \n",
       "</li>\n",
       "</ul>\n",
       "</div>"
      ],
      "text/plain": [
       "<IPython.core.display.HTML object>"
      ]
     },
     "metadata": {},
     "output_type": "display_data"
    }
   ],
   "source": [
    "with h5tbx.H5File() as h5:\n",
    "    ds = h5.create_dataset('test', shape=(2,), units='', standard_name='standard_test')    \n",
    "    ds.username = 'First User', '0000-0001-8729-0482'\n",
    "    print(ds.username)\n",
    "    try:\n",
    "        ds.username = 'Second User'\n",
    "    except ValueError as e :\n",
    "        print(e)\n",
    "    print(ds.username)\n",
    "    h5.dump()"
   ]
  },
  {
   "cell_type": "markdown",
   "id": "b7730172-11e8-47f0-93b1-9bc47aa0e1dd",
   "metadata": {},
   "source": [
    "### Registration of datasets\n",
    "We can also \"register\" dataset accessors. In the following example we add \"device\" as a \"property with methods\". So \"device\" seems to be a property which has a method \"add\". Such an implementation faclitates the interaction with HDF data, too. Note, that this \"property-like\" accessor is available for all `H5Dataset` objects from know on in this session:"
   ]
  },
  {
   "cell_type": "code",
   "execution_count": 4,
   "id": "41f5c2c1-7de5-4e1c-b44e-4d350328f7ef",
   "metadata": {
    "execution": {
     "iopub.execute_input": "2022-08-15T09:42:01.624399Z",
     "iopub.status.busy": "2022-08-15T09:42:01.624399Z",
     "iopub.status.idle": "2022-08-15T09:42:01.640112Z",
     "shell.execute_reply": "2022-08-15T09:42:01.640112Z"
    }
   },
   "outputs": [],
   "source": [
    "@h5tbx.h5wrapper.register_special_dataset('device', h5tbx.h5wrapper.h5file.H5Dataset, overwrite=True)\n",
    "class DeviceProperty:\n",
    "    \"\"\"Device Accessor class\"\"\"\n",
    "\n",
    "    def __init__(self, ds):\n",
    "        self._ds = ds\n",
    "        self._device_name = 'NoDeviceName'\n",
    "        \n",
    "    def add(self, new_device_name):\n",
    "        \"\"\"adds the attribute device_name to the dataset\"\"\"\n",
    "        self._ds.attrs['device_name'] = new_device_name\n",
    "        \n",
    "    @property\n",
    "    def name(self):\n",
    "        return self._ds.attrs['device_name']"
   ]
  },
  {
   "cell_type": "code",
   "execution_count": 5,
   "id": "2af29af0-aa80-4887-bd6f-8c93d719f2e8",
   "metadata": {
    "execution": {
     "iopub.execute_input": "2022-08-15T09:42:01.640112Z",
     "iopub.status.busy": "2022-08-15T09:42:01.640112Z",
     "iopub.status.idle": "2022-08-15T09:42:01.671362Z",
     "shell.execute_reply": "2022-08-15T09:42:01.671362Z"
    }
   },
   "outputs": [
    {
     "name": "stdout",
     "output_type": "stream",
     "text": [
      "my device\n"
     ]
    }
   ],
   "source": [
    "with h5tbx.H5File() as h5:\n",
    "    ds = h5.create_dataset('test', shape=(2,), units='', standard_name='standard_test')\n",
    "    ds.device.add('my device')\n",
    "    print(ds.device.name)"
   ]
  },
  {
   "cell_type": "markdown",
   "id": "b144ceb1-f9e0-4a24-943a-004aa917e829",
   "metadata": {
    "tags": []
   },
   "source": [
    "## Inheritance \n",
    "\n",
    "### New Wrapper Class\n",
    "\n",
    "The main wrapper class around a HDF5 file in this package is `H5File` which uses the wrapper class `H5Group` for `h5py.Group` and `H5Dataset` for wrapping `h5py.Dataset`"
   ]
  },
  {
   "cell_type": "code",
   "execution_count": 6,
   "id": "2a9e583e-b5a9-4c41-9f44-37be82808b46",
   "metadata": {
    "execution": {
     "iopub.execute_input": "2022-08-15T09:42:01.671362Z",
     "iopub.status.busy": "2022-08-15T09:42:01.671362Z",
     "iopub.status.idle": "2022-08-15T09:42:01.686995Z",
     "shell.execute_reply": "2022-08-15T09:42:01.686995Z"
    }
   },
   "outputs": [],
   "source": [
    "import h5rdmtoolbox as h5tbx\n",
    "import h5py"
   ]
  },
  {
   "cell_type": "code",
   "execution_count": 7,
   "id": "238bccd4-b623-42e0-b4e7-5bb8cd61e42f",
   "metadata": {
    "execution": {
     "iopub.execute_input": "2022-08-15T09:42:01.686995Z",
     "iopub.status.busy": "2022-08-15T09:42:01.686995Z",
     "iopub.status.idle": "2022-08-15T09:42:01.703185Z",
     "shell.execute_reply": "2022-08-15T09:42:01.703185Z"
    }
   },
   "outputs": [],
   "source": [
    "class MyDataset(h5tbx.h5wrapper.h5file.H5Dataset):\n",
    "    def __repr__(self):\n",
    "        return f'{self.name}\\n{self.attrs}'\n",
    "    \n",
    "    @property\n",
    "    def is_2d(self):\n",
    "        \"\"\"returns whether dataset is two-dimensional or not\"\"\"\n",
    "        return self.ndim == 2"
   ]
  },
  {
   "cell_type": "markdown",
   "id": "02178fd3-2319-4382-941d-487545b77721",
   "metadata": {},
   "source": [
    "Next we create a group class with a special method, hat returns all datasets of that group. Also the `create_dataset` method is overwritten. Take care to return `MyDataset` at the end of the method, otherwise dataset class of the parent class is taken."
   ]
  },
  {
   "cell_type": "code",
   "execution_count": 8,
   "id": "ae1b660a-c370-4e29-9467-64d1272a3daa",
   "metadata": {
    "execution": {
     "iopub.execute_input": "2022-08-15T09:42:01.703185Z",
     "iopub.status.busy": "2022-08-15T09:42:01.703185Z",
     "iopub.status.idle": "2022-08-15T09:42:01.718868Z",
     "shell.execute_reply": "2022-08-15T09:42:01.718868Z"
    }
   },
   "outputs": [],
   "source": [
    "class MyGroup(h5tbx.h5wrapper.h5file.H5Group):\n",
    "    \n",
    "    def get_all_datasets(self):\n",
    "        \"\"\"returns all datasets of this group\"\"\"\n",
    "        return [k for k in self if isinstance(self[k], h5py.Dataset)]\n",
    "    \n",
    "    def create_group(self, *args, **kwargs):\n",
    "        return __class__(super().create_group(*args, **kwargs).id)\n",
    "    \n",
    "    # def create_dataset(self, *args, **kwargs):\n",
    "    #     return __class__(super().create_dataset(*args, **kwargs).id)\n",
    "    \n",
    "    def create_dataset(self, name, user, *args, **kwargs):\n",
    "        ds = super().create_dataset(name, *args, **kwargs)\n",
    "        ds.attrs.modify('user', user)\n",
    "        return self._h5ds(ds.id)"
   ]
  },
  {
   "cell_type": "markdown",
   "id": "09e135e0-ce76-4c77-90eb-8ec7fe811f40",
   "metadata": {},
   "source": [
    "The main file wrapper inherites from `H5File` (\"root\" parent was `h5py.File`) and the new group class. Next, we have set the group and dataset class again, since some methods in the file wrapper class will need that information when returning instances of those classes (e.g. dataset or group creation). Finally we define a new method which sets the user name to the root attributes:"
   ]
  },
  {
   "cell_type": "code",
   "execution_count": 9,
   "id": "21bcc1fe-1fbc-49f8-942f-14b7b87f08bf",
   "metadata": {
    "execution": {
     "iopub.execute_input": "2022-08-15T09:42:01.718868Z",
     "iopub.status.busy": "2022-08-15T09:42:01.718868Z",
     "iopub.status.idle": "2022-08-15T09:42:01.734448Z",
     "shell.execute_reply": "2022-08-15T09:42:01.734448Z"
    }
   },
   "outputs": [],
   "source": [
    "class MyWrapper(h5tbx.H5File, MyGroup):\n",
    "    \n",
    "    def set_user(self, user_name):\n",
    "        self.attrs.modify('user', user_name)"
   ]
  },
  {
   "cell_type": "markdown",
   "id": "f764f4ba-2339-41d6-b57a-b6e2197e24e1",
   "metadata": {},
   "source": [
    "register the dataset and group class in all classes. This is needed, so all return objects are of the newly defined types"
   ]
  },
  {
   "cell_type": "code",
   "execution_count": 10,
   "id": "bb4c50eb-4cf7-4a26-8b88-0c2185c681fb",
   "metadata": {
    "execution": {
     "iopub.execute_input": "2022-08-15T09:42:01.734448Z",
     "iopub.status.busy": "2022-08-15T09:42:01.734448Z",
     "iopub.status.idle": "2022-08-15T09:42:01.750081Z",
     "shell.execute_reply": "2022-08-15T09:42:01.750081Z"
    }
   },
   "outputs": [],
   "source": [
    "MyGroup._h5ds = MyDataset\n",
    "MyGroup._h5grp = MyGroup\n",
    "\n",
    "MyDataset._h5ds = MyDataset\n",
    "MyDataset._h5grp = MyGroup"
   ]
  },
  {
   "cell_type": "code",
   "execution_count": 11,
   "id": "bc3a2495-9167-4d4d-8c45-6280a5951b36",
   "metadata": {
    "execution": {
     "iopub.execute_input": "2022-08-15T09:42:01.750081Z",
     "iopub.status.busy": "2022-08-15T09:42:01.750081Z",
     "iopub.status.idle": "2022-08-15T09:42:01.765720Z",
     "shell.execute_reply": "2022-08-15T09:42:01.765720Z"
    }
   },
   "outputs": [],
   "source": [
    "h5 = MyWrapper()"
   ]
  },
  {
   "cell_type": "code",
   "execution_count": 12,
   "id": "b3b00f9f-5801-4c3e-b92a-db12d883b8cf",
   "metadata": {
    "execution": {
     "iopub.execute_input": "2022-08-15T09:42:01.765720Z",
     "iopub.status.busy": "2022-08-15T09:42:01.765720Z",
     "iopub.status.idle": "2022-08-15T09:42:01.781425Z",
     "shell.execute_reply": "2022-08-15T09:42:01.781425Z"
    }
   },
   "outputs": [
    {
     "data": {
      "text/plain": [
       "__main__.MyWrapper"
      ]
     },
     "execution_count": 12,
     "metadata": {},
     "output_type": "execute_result"
    }
   ],
   "source": [
    "type(h5)"
   ]
  },
  {
   "cell_type": "code",
   "execution_count": 13,
   "id": "7d729bbe-89eb-46af-8cee-d46e700356a5",
   "metadata": {
    "execution": {
     "iopub.execute_input": "2022-08-15T09:42:01.781425Z",
     "iopub.status.busy": "2022-08-15T09:42:01.781425Z",
     "iopub.status.idle": "2022-08-15T09:42:01.797044Z",
     "shell.execute_reply": "2022-08-15T09:42:01.797044Z"
    }
   },
   "outputs": [],
   "source": [
    "g = h5.create_group('grp', overwrite=True)"
   ]
  },
  {
   "cell_type": "code",
   "execution_count": 14,
   "id": "70fe8adc-884e-48ed-aed2-98092654befc",
   "metadata": {
    "execution": {
     "iopub.execute_input": "2022-08-15T09:42:01.798558Z",
     "iopub.status.busy": "2022-08-15T09:42:01.798558Z",
     "iopub.status.idle": "2022-08-15T09:42:01.813075Z",
     "shell.execute_reply": "2022-08-15T09:42:01.813075Z"
    }
   },
   "outputs": [
    {
     "data": {
      "text/plain": [
       "__main__.MyGroup"
      ]
     },
     "execution_count": 14,
     "metadata": {},
     "output_type": "execute_result"
    }
   ],
   "source": [
    "type(g)"
   ]
  },
  {
   "cell_type": "code",
   "execution_count": 15,
   "id": "c94cf1b1-6d2b-4aeb-8bfd-6fd3ad453ec8",
   "metadata": {
    "execution": {
     "iopub.execute_input": "2022-08-15T09:42:01.813075Z",
     "iopub.status.busy": "2022-08-15T09:42:01.813075Z",
     "iopub.status.idle": "2022-08-15T09:42:01.828817Z",
     "shell.execute_reply": "2022-08-15T09:42:01.828817Z"
    }
   },
   "outputs": [],
   "source": [
    "gg = g.create_group('grp', overwrite=True)"
   ]
  },
  {
   "cell_type": "code",
   "execution_count": 16,
   "id": "0d95e9ab-2b86-4041-8b58-aab672df3ed3",
   "metadata": {
    "execution": {
     "iopub.execute_input": "2022-08-15T09:42:01.828817Z",
     "iopub.status.busy": "2022-08-15T09:42:01.828817Z",
     "iopub.status.idle": "2022-08-15T09:42:01.844442Z",
     "shell.execute_reply": "2022-08-15T09:42:01.844442Z"
    }
   },
   "outputs": [
    {
     "data": {
      "text/plain": [
       "__main__.MyGroup"
      ]
     },
     "execution_count": 16,
     "metadata": {},
     "output_type": "execute_result"
    }
   ],
   "source": [
    "type(gg)"
   ]
  },
  {
   "cell_type": "code",
   "execution_count": 17,
   "id": "ff52f8fe-f255-4fcb-a5cf-af54f97597e1",
   "metadata": {
    "execution": {
     "iopub.execute_input": "2022-08-15T09:42:01.844442Z",
     "iopub.status.busy": "2022-08-15T09:42:01.844442Z",
     "iopub.status.idle": "2022-08-15T09:42:01.859977Z",
     "shell.execute_reply": "2022-08-15T09:42:01.859977Z"
    }
   },
   "outputs": [],
   "source": [
    "ds = gg.create_dataset('hello', user='test user', shape=(2,3), units='', long_name='a long name', overwrite=True)"
   ]
  },
  {
   "cell_type": "code",
   "execution_count": 18,
   "id": "ed1414f5-9d42-4997-87d5-6e701afa615d",
   "metadata": {
    "execution": {
     "iopub.execute_input": "2022-08-15T09:42:01.859977Z",
     "iopub.status.busy": "2022-08-15T09:42:01.859977Z",
     "iopub.status.idle": "2022-08-15T09:42:01.875691Z",
     "shell.execute_reply": "2022-08-15T09:42:01.875691Z"
    }
   },
   "outputs": [
    {
     "data": {
      "text/plain": [
       "/grp/grp/hello\n",
       "long_name  a long name\n",
       "units      \n",
       "user       test user"
      ]
     },
     "execution_count": 18,
     "metadata": {},
     "output_type": "execute_result"
    }
   ],
   "source": [
    "ds"
   ]
  },
  {
   "cell_type": "code",
   "execution_count": 19,
   "id": "c84d0e04-07cf-4f9a-b65c-e6d58fb8c17a",
   "metadata": {
    "execution": {
     "iopub.execute_input": "2022-08-15T09:42:01.875691Z",
     "iopub.status.busy": "2022-08-15T09:42:01.875691Z",
     "iopub.status.idle": "2022-08-15T09:42:01.891321Z",
     "shell.execute_reply": "2022-08-15T09:42:01.891321Z"
    }
   },
   "outputs": [
    {
     "data": {
      "text/plain": [
       "__main__.MyDataset"
      ]
     },
     "execution_count": 19,
     "metadata": {},
     "output_type": "execute_result"
    }
   ],
   "source": [
    "type(ds)"
   ]
  },
  {
   "cell_type": "markdown",
   "id": "f45aec6e-0afe-41d6-bd1b-b06c9cac14de",
   "metadata": {},
   "source": [
    "## Accessors"
   ]
  },
  {
   "cell_type": "code",
   "execution_count": 20,
   "id": "74f6c450-2f36-44a9-89fc-1f6f348580d4",
   "metadata": {
    "execution": {
     "iopub.execute_input": "2022-08-15T09:42:01.891321Z",
     "iopub.status.busy": "2022-08-15T09:42:01.891321Z",
     "iopub.status.idle": "2022-08-15T09:42:01.907440Z",
     "shell.execute_reply": "2022-08-15T09:42:01.907440Z"
    }
   },
   "outputs": [],
   "source": [
    "@h5tbx.h5wrapper.register_special_dataset('device', h5tbx.h5wrapper.h5file.H5Dataset, overwrite=True)\n",
    "class DeviceProperty:\n",
    "    \"\"\"Device Accessor class\"\"\"\n",
    "\n",
    "    def __init__(self, ds):\n",
    "        self._ds = ds\n",
    "        self._device_name = 'NoDeviceName'\n",
    "        \n",
    "    def add(self, new_device_name):\n",
    "        \"\"\"adds the attribute device_name to the dataset\"\"\"\n",
    "        self._ds.attrs['device_name'] = new_device_name\n",
    "        \n",
    "    @property\n",
    "    def name(self):\n",
    "        return self._ds.attrs['device_name']"
   ]
  }
 ],
 "metadata": {
  "kernelspec": {
   "display_name": "Python 3 (ipykernel)",
   "language": "python",
   "name": "python3"
  },
  "language_info": {
   "codemirror_mode": {
    "name": "ipython",
    "version": 3
   },
   "file_extension": ".py",
   "mimetype": "text/x-python",
   "name": "python",
   "nbconvert_exporter": "python",
   "pygments_lexer": "ipython3",
   "version": "3.8.13"
  }
 },
 "nbformat": 4,
 "nbformat_minor": 5
}
