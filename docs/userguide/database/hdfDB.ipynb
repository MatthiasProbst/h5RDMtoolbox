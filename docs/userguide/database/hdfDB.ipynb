{
 "cells": [
  {
   "cell_type": "markdown",
   "id": "b48c6c14-8d8f-4355-9ec7-fc0391af5d88",
   "metadata": {},
   "source": [
    "# hdfDB: Using HDF5 file(s) as a database\n",
    "\n",
    "HDF files can be considered databases. What is missing in the standard `h5py` implementation are query functions. This chapter will take you through everything you need to know to find data within one or more HDF5 files based on attributes. The explanation will be conducted using practical examples."
   ]
  },
  {
   "cell_type": "code",
   "execution_count": 1,
   "id": "2b901cbd-b051-49c0-a82c-1c31ecda5ea6",
   "metadata": {},
   "outputs": [
    {
     "data": {
      "text/plain": [
       "using(\"h5py\")"
      ]
     },
     "execution_count": 1,
     "metadata": {},
     "output_type": "execute_result"
    }
   ],
   "source": [
    "import h5rdmtoolbox as h5tbx\n",
    "from h5rdmtoolbox.database import FileDB\n",
    "from h5rdmtoolbox import tutorial\n",
    "\n",
    "h5tbx.use(None)"
   ]
  },
  {
   "cell_type": "markdown",
   "id": "8c851066-f76d-4ef4-bf91-29cff0334ad0",
   "metadata": {},
   "source": [
    "## Searching within a single file\n",
    "\n",
    "Imagine a large, nested HDF5 file contains data from a fluid experiment. Some datasets represent pressure data, others are velocity datasets. With future reuse in mind, we assigned the attribute \"standard_name\" to the datasets during data creation. We now want ... \n",
    "\n",
    " ... **to find all datasets with attribute \"standard_name\" equal to \"velocity\"**\n",
    "\n",
    "The example file is provided by the tutorial module:"
   ]
  },
  {
   "cell_type": "code",
   "execution_count": 2,
   "id": "5dc95dce-4d20-4c72-a95c-a6c4412ca87b",
   "metadata": {},
   "outputs": [
    {
     "data": {
      "text/html": [
       "<head><style>/*\r\n",
       "CSS inspired by xarray: https://github.com/pydata/xarray\r\n",
       "*/\r\n",
       ".h5tb-header > div,\r\n",
       ".h5tb-header > ul {\r\n",
       "    display: inline;\r\n",
       "    margin-top: 0;\r\n",
       "    margin-bottom: 0;\r\n",
       "}\r\n",
       "\r\n",
       ".h5tb-dataarray-cls,\r\n",
       ".h5tb-dataarray-name {\r\n",
       "    margin-left: 2px;\r\n",
       "    margin-right: 10px;\r\n",
       "}\r\n",
       "\r\n",
       ".h5tb-dataarray-name {\r\n",
       "    color: #000;\r\n",
       "}\r\n",
       "\r\n",
       ".h5grp-sections {\r\n",
       "    list-style: none;\r\n",
       "    padding: 3px;\r\n",
       "    margin: 0;\r\n",
       "}\r\n",
       "\r\n",
       ".h5grp-sections input {\r\n",
       "    display: none;\r\n",
       "}\r\n",
       "\r\n",
       ".h5grp-sections label {\r\n",
       "    display: inline;\r\n",
       "}\r\n",
       "\r\n",
       ".h5grp-sections > li > input + label > span {\r\n",
       "    display: inline;\r\n",
       "    margin-left: 4px;\r\n",
       "}\r\n",
       "\r\n",
       ".h5grp-sections > li > input:checked + label > span {\r\n",
       "    display: none;\r\n",
       "}\r\n",
       "\r\n",
       ".h5grp-sections input:enabled + label {\r\n",
       "    cursor: pointer;\r\n",
       "}\r\n",
       "\r\n",
       ".h5grp-sections input:not(.h5tb-values-in) ~ ul {\r\n",
       "    display: none;\r\n",
       "}\r\n",
       "\r\n",
       ".h5grp-sections input:not(.h5tb-values-in):checked ~ ul {\r\n",
       "    display: block;\r\n",
       "}\r\n",
       "\r\n",
       ".h5grp-sections > li > input + label {\r\n",
       "    width: 140px;\r\n",
       "    color: #555;\r\n",
       "    font-weight: 500;\r\n",
       "    padding: 4px 0 2px 0;\r\n",
       "}\r\n",
       "\r\n",
       "\r\n",
       ".h5grp-sections > li > input + label:before {\r\n",
       "    display: inline-block;\r\n",
       "    content: '+';\r\n",
       "    font-size: 11px;\r\n",
       "    width: 15px;\r\n",
       "    text-align: center;\r\n",
       "}\r\n",
       "\r\n",
       ".h5grp-sections > li > input:disabled + label:before {\r\n",
       "    color: #777;\r\n",
       "}\r\n",
       "\r\n",
       ".h5grp-sections > li > input:checked + label:before {\r\n",
       "    content: '-';\r\n",
       "}\r\n",
       "\r\n",
       ".h5tb-dim-list {\r\n",
       "    display: inline-block !important;\r\n",
       "    list-style: none;\r\n",
       "    padding: 0;\r\n",
       "}\r\n",
       "\r\n",
       ".h5tb-dim-list li {\r\n",
       "    display: inline-block;\r\n",
       "    padding: 0;\r\n",
       "    margin: 0;\r\n",
       "}\r\n",
       "\r\n",
       ".h5tb-dim-list:before {\r\n",
       "    content: '(';\r\n",
       "}\r\n",
       "\r\n",
       ".h5tb-dim-list:after {\r\n",
       "    content: ')';\r\n",
       "}\r\n",
       "\r\n",
       ".h5tb-dim-list li:not(:last-child):after {\r\n",
       "    content: ',';\r\n",
       "}\r\n",
       "\r\n",
       ".h5tb-has-index {\r\n",
       "    text-decoration: underline;\r\n",
       "}\r\n",
       "\r\n",
       ".h5tb-var-list {\r\n",
       "    list-style: none;\r\n",
       "    padding: 0;\r\n",
       "    margin: 0;\r\n",
       "}\r\n",
       "\r\n",
       ".h5tb-var-list > li {\r\n",
       "    background-color: #fcfcfc;\r\n",
       "    overflow: hidden;\r\n",
       "}\r\n",
       "\r\n",
       ".h5tb-var-list > li:nth-child(odd) {\r\n",
       "    background-color: #efefef;\r\n",
       "}\r\n",
       "\r\n",
       ".h5tb-var-list li:hover {\r\n",
       "    background-color: rgba(3, 169, 244, .2);\r\n",
       "}\r\n",
       "\r\n",
       ".h5tb-var-list li > span {\r\n",
       "    display: inline-block;\r\n",
       "}\r\n",
       "\r\n",
       "input.h5tb-varname-in + label {\r\n",
       "    width: 140px;\r\n",
       "    padding-left: 0;\r\n",
       "    font-weight: bold;\r\n",
       "}\r\n",
       "\r\n",
       ".h5tb-dataset {\r\n",
       "    width: 100px;\r\n",
       "}\r\n",
       "\r\n",
       ".h5tb-attributevalue {\r\n",
       "    width: 100px;\r\n",
       "    text-align: left;\r\n",
       "    color: #888;\r\n",
       "    white-space: nowrap;\r\n",
       "    font-size: 12px;\r\n",
       "}\r\n",
       "\r\n",
       "input.h5tb-varname-in + label:before {\r\n",
       "    content: ' ';\r\n",
       "    display: inline-block;\r\n",
       "    font-size: 11px;\r\n",
       "    width: 15px;\r\n",
       "    padding-left: 2px;\r\n",
       "    padding-right: 2px;\r\n",
       "    text-align: center;\r\n",
       "    color: #aaa;\r\n",
       "    text-decoration: none !important;\r\n",
       "}\r\n",
       "\r\n",
       "input.h5tb-varname-in:enabled + label:hover:before {\r\n",
       "    color: #000;\r\n",
       "}\r\n",
       "\r\n",
       "input.h5tb-varname-in:checked + label:before {\r\n",
       "    color: #ccc;\r\n",
       "}\r\n",
       "\r\n",
       ".h5tb-dims {\r\n",
       "    width: 280px;\r\n",
       "    white-space: nowrap;\r\n",
       "}\r\n",
       "\r\n",
       ".h5tb-attr-list {\r\n",
       "    list-style: none;\r\n",
       "    background-color: rgba(0,0,0,.0);\r\n",
       "    padding-bottom: 6px;\r\n",
       "    color: #6a6c73;\r\n",
       "}\r\n",
       "\r\n",
       ".h5tb-attr-list li,\r\n",
       ".h5tb-attr-list li:hover {\r\n",
       "    background-color: rgba(0,0,0,.0);\r\n",
       "}</style></head>\n",
       "<div class='h5tb-warp'>\n",
       "\n",
       "              <ul style=\"list-style-type: none;\" class=\"h5grp-sections\">\n",
       "                    <li>\n",
       "                        <input id=\"group-ds--4820644800\" type=\"checkbox\" checked>\n",
       "                        <label style=\"font-weight: bold\" for=\"group-ds--4820644800\">\n",
       "                        /<span>(4)</span></label>\n",
       "                  \n",
       "\n",
       "                    <ul class=\"h5tb-attr-list\"><li style=\"list-style-type: none; font-style: italic\">__h5rdmtoolbox_version__ : 1.0.2</li><li style=\"list-style-type: none; font-style: italic\">check_value : 0</li><li style=\"list-style-type: none; font-style: italic\">contact : {\"name\": \"John Doe\", \"surname\": \"Doe\"}</li><li style=\"list-style-type: none; font-style: italic\">project : tutorial</li><li style=\"list-style-type: none; font-style: italic\">timestamp : 2023-12-24T12:58:32.956568</li>\n",
       "                    </ul>\n",
       "\n",
       "                <ul id=\"ds-1-/pressure1-4823370700\" class=\"h5tb-var-list\">\n",
       "                    <input id=\"ds-2-/pressure1-4823373100\" class=\"h5tb-varname-in\" type=\"checkbox\" >\n",
       "                    <label class='h5tb-varname' for=\"ds-2-/pressure1-4823373100\">pressure1</label>\n",
       "                    <span class=\"h5tb-dims\">(10) [float64]</span>\n",
       "                <ul class=\"h5tb-attr-list\"><li style=\"list-style-type: none; font-style: italic\">check_value : -140.3</li><li style=\"list-style-type: none; font-style: italic\">standard_name : pressure</li><li style=\"list-style-type: none; font-style: italic\">units : Pa</li>\n",
       "                </ul>\n",
       "                </ul>\n",
       "\n",
       "                <ul id=\"ds-1-/velocity-4823756000\" class=\"h5tb-var-list\">\n",
       "                    <input id=\"ds-2-/velocity-4823758100\" class=\"h5tb-varname-in\" type=\"checkbox\" >\n",
       "                    <label class='h5tb-varname' for=\"ds-2-/velocity-4823758100\">velocity</label>\n",
       "                    <span class=\"h5tb-dims\">(3) [int32]</span>\n",
       "                <ul class=\"h5tb-attr-list\"><li style=\"list-style-type: none; font-style: italic\">check_value : 14.2</li><li style=\"list-style-type: none; font-style: italic\">standard_name : velocity</li><li style=\"list-style-type: none; font-style: italic\">units : m/s</li>\n",
       "                </ul>\n",
       "                </ul>\n",
       "\n",
       "              <ul style=\"list-style-type: none;\" class=\"h5grp-sections\">\n",
       "                    <li>\n",
       "                        <input id=\"group-ds-group1-4824036500\" type=\"checkbox\" >\n",
       "                        <label style=\"font-weight: bold\" for=\"group-ds-group1-4824036500\">\n",
       "                        group1<span>(1)</span></label>\n",
       "                  \n",
       "\n",
       "                    <ul class=\"h5tb-attr-list\"><li style=\"list-style-type: none; font-style: italic\">check_value : 0</li>\n",
       "                    </ul>\n",
       "\n",
       "                <ul id=\"ds-1-/group1/velocity-4824473800\" class=\"h5tb-var-list\">\n",
       "                    <input id=\"ds-2-/group1/velocity-4824476100\" class=\"h5tb-varname-in\" type=\"checkbox\" >\n",
       "                    <label class='h5tb-varname' for=\"ds-2-/group1/velocity-4824476100\">velocity</label>\n",
       "                    <span class=\"h5tb-dims\">(5) [int32]</span>\n",
       "                <ul class=\"h5tb-attr-list\"><li style=\"list-style-type: none; font-style: italic\">standard_name : velocity</li><li style=\"list-style-type: none; font-style: italic\">units : m/s</li>\n",
       "                </ul>\n",
       "                </ul>\n",
       "</li>\n",
       "</ul>\n",
       "\n",
       "              <ul style=\"list-style-type: none;\" class=\"h5grp-sections\">\n",
       "                    <li>\n",
       "                        <input id=\"group-ds-group2-4824702300\" type=\"checkbox\" >\n",
       "                        <label style=\"font-weight: bold\" for=\"group-ds-group2-4824702300\">\n",
       "                        group2<span>(3)</span></label>\n",
       "                  \n",
       "\n",
       "                    <ul class=\"h5tb-attr-list\"><li style=\"list-style-type: none; font-style: italic\">check_value : 0</li>\n",
       "                    </ul>\n",
       "\n",
       "                <ul id=\"ds-1-/group2/pressure2-4825487900\" class=\"h5tb-var-list\">\n",
       "                    <input id=\"ds-2-/group2/pressure2-4825490100\" class=\"h5tb-varname-in\" type=\"checkbox\" >\n",
       "                    <label class='h5tb-varname' for=\"ds-2-/group2/pressure2-4825490100\">pressure2</label>\n",
       "                    <span class=\"h5tb-dims\">(10) [float64]</span>\n",
       "                <ul class=\"h5tb-attr-list\"><li style=\"list-style-type: none; font-style: italic\">check_value : -10.3</li><li style=\"list-style-type: none; font-style: italic\">standard_name : pressure</li><li style=\"list-style-type: none; font-style: italic\">units : kPa</li>\n",
       "                </ul>\n",
       "                </ul>\n",
       "\n",
       "                <ul id=\"ds-1-/group2/velocity-4825783000\" class=\"h5tb-var-list\">\n",
       "                    <input id=\"ds-2-/group2/velocity-4825785100\" class=\"h5tb-varname-in\" type=\"checkbox\" >\n",
       "                    <label class='h5tb-varname' for=\"ds-2-/group2/velocity-4825785100\">velocity</label>\n",
       "                    <span class=\"h5tb-dims\">(5) [float64]</span>\n",
       "                <ul class=\"h5tb-attr-list\"><li style=\"list-style-type: none; font-style: italic\">check_value : 30.2</li><li style=\"list-style-type: none; font-style: italic\">standard_name : velocity</li><li style=\"list-style-type: none; font-style: italic\">units : m/s</li>\n",
       "                </ul>\n",
       "                </ul>\n",
       "\n",
       "                <ul id=\"ds-1-/group2/z-4826041500\" class=\"h5tb-var-list\">\n",
       "                <input id=\"ds-2-/group2/z-4826043800\" class=\"h5tb-varname-in\" type=\"checkbox\" >\n",
       "                <label class='h5tb-varname' for=\"ds-2-/group2/z-4826043800\">z</label>\n",
       "                <span class=\"h5tb-dims\">5.4 [m] (float64)</span>\n",
       "                <ul class=\"h5tb-attr-list\"><li style=\"list-style-type: none; font-style: italic\">standard_name : z_coordinate</li><li style=\"list-style-type: none; font-style: italic\">units : m</li>\n",
       "                </ul>\n",
       "                </ul>\n",
       "</li>\n",
       "</ul>\n",
       "</li>\n",
       "</ul>\n",
       "</div>"
      ],
      "text/plain": [
       "<IPython.core.display.HTML object>"
      ]
     },
     "metadata": {},
     "output_type": "display_data"
    }
   ],
   "source": [
    "filename = tutorial.generate_fluid_hdf_file()\n",
    "h5tbx.dump(filename)"
   ]
  },
  {
   "cell_type": "markdown",
   "id": "c2c4a51b-8e05-4b03-8f08-07761e27eeb1",
   "metadata": {},
   "source": [
    "The database we are going to use is the `GroupDB`. It takes an opened HDF5 group as input. As we know from the [notebook \"first steps\"](./firstSteps.ipynb), using `find` or `find_one` will return what we are searchng for.\n",
    "\n",
    "Since we are looking for *all* velocity datasets, we will choose `find`:"
   ]
  },
  {
   "cell_type": "code",
   "execution_count": 3,
   "id": "46905341-99a8-4694-ba5a-942e929a9340",
   "metadata": {},
   "outputs": [
    {
     "name": "stdout",
     "output_type": "stream",
     "text": [
      "/velocity\n",
      "/group2/velocity\n",
      "/group1/velocity\n"
     ]
    }
   ],
   "source": [
    "db = FileDB(filename)\n",
    "res = db.find({'standard_name': 'velocity'})\n",
    "\n",
    "for r in res:\n",
    "    print(r.name)"
   ]
  },
  {
   "cell_type": "markdown",
   "id": "5efdb9ec-6732-444f-95c0-338e6caac856",
   "metadata": {},
   "source": [
    "**So how does the query work?**\n",
    "\n",
    "This is going to get a bit technical. Bear with me, the example code below will make it clearer.\n",
    "\n",
    "Note, that the input for the `find()` and `find_one()` methods expect arguments similar to the `pymongo` syntax. If you are familiar to it, usage will be very natural for you. If not, here's how the filter request is built up:\n",
    "\n",
    "The methods expect a dictionary in the following way:\n",
    "\n",
    "  `find({<kw_pr_prop1>: <value_or_operator1>, <kw_pr_prop1>: <value_or_operator2>, ...}, <object_filter>)`\n",
    "\n",
    "The first argument is the main filter argument. It is a dictionary, containing one or multiple keyword-value-pairs:\n",
    " - The simplest filter argument is the one we used above, which searches for the exact match of an attribute (in our case \"standard_name\") and its value (in our case \"velocity\").\n",
    " - To match a HDF5 dataset or group property, like the HDF5 internal path (`.name`) use \"\\\\$name\" for the keyword (mind the dollar sign!)\n",
    " - Instead of the value, we could also provide an \"operator\", e.g. `{$eq: \"velocity\"}`. An operator always starts with a \"`$`\"-sign. The above function called would look like this:<br>`db.find({'standard_name': {'$eq': 'velocity'}})`\n",
    " - We could have searched for HDF5 objects, which require multiple attribute key-value pairs to match. E.g. we could have queried for the units attribute, too:<br>\n",
    " `db.find({'standard_name': 'velocity', 'units': 'm/s'})`\n",
    "\n",
    "With the *second* argument (*<object_filter>*) we can select, whether we want to search for datasets or groups only, or for both (default). In our query, we were looking for datasets only, so a better query would have been the following:<br>\n",
    "`db.find({'standard_name': 'velocity', 'units': 'm/s'}, 'dataset')`"
   ]
  },
  {
   "cell_type": "markdown",
   "id": "e481ff02-45a8-4cb9-a955-e64a4c571d28",
   "metadata": {},
   "source": [
    "## Example queries\n",
    "\n",
    "We already learned how to find objects that match one or multiple key value pairs of attribute data. Sometimes, we want to perform more sophisticated queries, e.g. we would like to ... \n",
    "1. ... find all datasets that have a certain attribute key (the value is not of interest),\n",
    "2. ... find attributes where the string matches a regex expression,\n",
    "3. ... find attributes with numeric values that are greater than, lower than, ... a certain value,\n",
    "4. ... find attributes, which match our own operator\n",
    "\n",
    "The following subsections show how it is done:"
   ]
  },
  {
   "cell_type": "markdown",
   "id": "cd514381-14f3-4302-ba16-4ed2353a91ef",
   "metadata": {},
   "source": [
    "### 1. Operator: Exists:\n",
    "\n",
    "Find objects which have the attribute \"units\""
   ]
  },
  {
   "cell_type": "code",
   "execution_count": 4,
   "id": "13588d4d-a3ce-4d56-910f-767f638f3c2e",
   "metadata": {},
   "outputs": [
    {
     "name": "stdout",
     "output_type": "stream",
     "text": [
      "/group2/pressure2\n",
      "/pressure1\n",
      "/velocity\n",
      "/group2/z\n",
      "/group1/velocity\n",
      "/group2/velocity\n"
     ]
    }
   ],
   "source": [
    "db = FileDB(filename)\n",
    "results = db.find({'units': {'$exists': True}})\n",
    "for r in results:\n",
    "    print(r.name)"
   ]
  },
  {
   "cell_type": "markdown",
   "id": "8c54e9fb-4789-4c5d-b7f6-368091880391",
   "metadata": {},
   "source": [
    "Find objects which *don't* have the attribute \"units\""
   ]
  },
  {
   "cell_type": "code",
   "execution_count": 5,
   "id": "9f9dc216-f31a-44a2-93fa-545b9f6b9d82",
   "metadata": {},
   "outputs": [
    {
     "name": "stdout",
     "output_type": "stream",
     "text": [
      "/group2\n",
      "/group1\n"
     ]
    }
   ],
   "source": [
    "db = FileDB(filename)\n",
    "results = db.find({'units': {'$exists': False}}, recursive=True)\n",
    "for r in results:\n",
    "    print(r.name)"
   ]
  },
  {
   "cell_type": "markdown",
   "id": "46611950-022b-466b-97a6-04beb015aeb9",
   "metadata": {},
   "source": [
    "### 2. Operator: Regex\n",
    "\n",
    "Let's find all datasets, which's names (internal HDF path) end with \"/velocity\". In this example, we are not matching an attribute name but a **property**. To do so, place a dollar sign in front:"
   ]
  },
  {
   "cell_type": "code",
   "execution_count": 6,
   "id": "daba419b-c4b1-45ae-8f1f-b595e5c13f96",
   "metadata": {},
   "outputs": [
    {
     "name": "stdout",
     "output_type": "stream",
     "text": [
      "/group2/velocity\n",
      "/group1/velocity\n",
      "/velocity\n"
     ]
    }
   ],
   "source": [
    "db = FileDB(filename)\n",
    "results = db.find({'$name': {'$regex': '^.*/velocity$'}}, 'dataset')\n",
    "for r in results:\n",
    "    print(r.name)"
   ]
  },
  {
   "cell_type": "markdown",
   "id": "75fd3bad-f6d9-4972-b161-6cb43e74586d",
   "metadata": {},
   "source": [
    "### 3. Mathematical operation (>, >=, <, <=)\n",
    "\n",
    "The datasets and groups in the example files all have the attribute \"check_value\", let's identify objects that match certain values of this attribute:"
   ]
  },
  {
   "cell_type": "code",
   "execution_count": 7,
   "id": "3570e4df-96e9-4180-8c4a-a877cbe1f683",
   "metadata": {},
   "outputs": [
    {
     "name": "stdout",
     "output_type": "stream",
     "text": [
      "object names with check value greater than 0.1:\n",
      "   /group2/velocity\n",
      "   /velocity\n",
      "\n",
      "object names with check value equal to 0:\n",
      "   /group2\n",
      "   /group1\n",
      "   /\n",
      "\n",
      "object names with check value lower equal -3.3:\n",
      "   /group2/pressure2\n",
      "   /pressure1\n"
     ]
    }
   ],
   "source": [
    "print('object names with check value greater than 0.1:')\n",
    "\n",
    "db = FileDB(filename)\n",
    "results = db.find({'check_value': {'$gt': 0.1}})\n",
    "for r in results:\n",
    "    print('  ', r.name)\n",
    "\n",
    "\n",
    "print('\\nobject names with check value equal to 0:')\n",
    "\n",
    "results = db.find({'check_value': {'$eq': 0}})\n",
    "for r in results:\n",
    "    print('  ', r.name)\n",
    "\n",
    "\n",
    "print('\\nobject names with check value lower equal -3.3:')\n",
    "\n",
    "\n",
    "results = db.find({'check_value': {'$lte': -3.3}})\n",
    "for r in results:\n",
    "    print('  ', r.name)"
   ]
  },
  {
   "cell_type": "markdown",
   "id": "135de969-0ae8-4d5a-9872-aa9291a8ad77",
   "metadata": {},
   "source": [
    "Note, that besides \"name\", we can also match HDF5 **any other object property**:"
   ]
  },
  {
   "cell_type": "code",
   "execution_count": 8,
   "id": "5cc3142a-f04c-4baa-8bf3-b3dd4bab07c0",
   "metadata": {},
   "outputs": [
    {
     "name": "stdout",
     "output_type": "stream",
     "text": [
      "Ndim == 1:\n",
      "   /pressure1\n",
      "   /velocity\n",
      "   /group2/pressure2\n",
      "   /group1/velocity\n",
      "   /group2/velocity\n",
      "\n",
      "Ndim > 2:\n"
     ]
    }
   ],
   "source": [
    "with h5tbx.File(filename) as h5:\n",
    "    print('Ndim == 1:')\n",
    "    \n",
    "db = FileDB(filename)\n",
    "results = db.find({'$ndim': {'$eq': 1}}, 'dataset')\n",
    "for r in results:\n",
    "    print('  ', r.name)\n",
    "\n",
    "print('\\nNdim > 2:')\n",
    "results = db.find({'$ndim': {'$gt': 2}}, 'dataset')\n",
    "for r in results:\n",
    "    print('  ', r.name)"
   ]
  },
  {
   "cell_type": "markdown",
   "id": "79ee7e4d-558d-47c7-8aa0-fe467f51013a",
   "metadata": {},
   "source": [
    "### 4. User-defined operator\n",
    "\n",
    "Let's take the regex example and turn it into a new operator:\n",
    "\n",
    "The regex query filter `\"{'$name': {'$regex': '^.*/velocity$'}}\"` means, that we are looking for \"basenames\" of objects, so not the full internal HDF5 path but the name.\n",
    "\n",
    "All operator functions are stored in `database.hdfdb.query`. In fact, the `\"$basename\"`-operator exists, so we first delete it and add it again by our own function:"
   ]
  },
  {
   "cell_type": "code",
   "execution_count": 9,
   "id": "2e449ad3-79fd-4fdc-ba63-e347daedf856",
   "metadata": {},
   "outputs": [],
   "source": [
    "from h5rdmtoolbox.database.hdfdb import query\n",
    "\n",
    "# note, all operator functions are stored in this dictionary: query.operator\n",
    "query.operator.pop('$basename', None)  # remove existing operator\n",
    "\n",
    "def my_basename_operator(obj_name, basename) -> bool:\n",
    "    \"\"\"calling regex under the hood\"\"\"\n",
    "    print(f'Checking if basename of object name \"{obj_name}\" is matching pattern \"^.*/{basename}$\"')\n",
    "    return query._regex(obj_name, pattern=f'^.*/{basename}$')\n",
    "\n",
    "query.operator['$basename'] = my_basename_operator"
   ]
  },
  {
   "cell_type": "code",
   "execution_count": 10,
   "id": "46d22550-5697-4a10-a761-4a74c1023c2b",
   "metadata": {},
   "outputs": [
    {
     "name": "stdout",
     "output_type": "stream",
     "text": [
      "Checking if basename of object name \"/group1/velocity\" is matching pattern \"^.*/velocity$\"\n",
      "Checking if basename of object name \"/group2/pressure2\" is matching pattern \"^.*/velocity$\"\n",
      "Checking if basename of object name \"/group2/velocity\" is matching pattern \"^.*/velocity$\"\n",
      "Checking if basename of object name \"/group2/z\" is matching pattern \"^.*/velocity$\"\n",
      "Checking if basename of object name \"/pressure1\" is matching pattern \"^.*/velocity$\"\n",
      "Checking if basename of object name \"/velocity\" is matching pattern \"^.*/velocity$\"\n",
      "/group2/velocity\n",
      "/group1/velocity\n",
      "/velocity\n"
     ]
    }
   ],
   "source": [
    "db = FileDB(filename)\n",
    "results = db.find({'$name': {'$basename': 'velocity'}}, 'dataset')\n",
    "\n",
    "for r in results:\n",
    "    print(r.name)"
   ]
  },
  {
   "cell_type": "markdown",
   "id": "cd2cd861-498d-43ce-8fb5-150a525af43c",
   "metadata": {},
   "source": [
    "**Working with the results**\n",
    "\n",
    "Let's investigate the return values of queries. The method `find_one` returns a so-called \"lazy\" object, and the `find` method a generator of this class."
   ]
  },
  {
   "cell_type": "code",
   "execution_count": 11,
   "id": "39bc56e7-19b4-489f-abbd-f343976777d5",
   "metadata": {},
   "outputs": [
    {
     "data": {
      "text/plain": [
       "[<matplotlib.lines.Line2D at 0x22112585250>]"
      ]
     },
     "execution_count": 11,
     "metadata": {},
     "output_type": "execute_result"
    },
    {
     "data": {
      "image/png": "[encoded data removed]",
      "text/plain": [
       "<Figure size 640x480 with 1 Axes>"
      ]
     },
     "metadata": {},
     "output_type": "display_data"
    }
   ],
   "source": [
    "results = db.find_one({'units': {'$exists': True}}, 'dataset')\n",
    "\n",
    "# let's directly plot the result:\n",
    "results[()].plot(marker='o')"
   ]
  }
 ],
 "metadata": {
  "kernelspec": {
   "display_name": "Python 3 (ipykernel)",
   "language": "python",
   "name": "python3"
  },
  "language_info": {
   "codemirror_mode": {
    "name": "ipython",
    "version": 3
   },
   "file_extension": ".py",
   "mimetype": "text/x-python",
   "name": "python",
   "nbconvert_exporter": "python",
   "pygments_lexer": "ipython3",
   "version": "3.8.18"
  }
 },
 "nbformat": 4,
 "nbformat_minor": 5
}
