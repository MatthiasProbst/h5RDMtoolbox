{
 "cells": [
  {
   "cell_type": "markdown",
   "metadata": {
    "collapsed": true,
    "jupyter": {
     "outputs_hidden": true
    },
    "pycharm": {
     "name": "#%% md\n"
    }
   },
   "source": [
    "# Identifier\n",
    "\n",
    "The toolbox implements a ``Identifier`` interface. It is an abstract class. Currently, two realizations are implemented: ORCID and GND:"
   ]
  },
  {
   "cell_type": "code",
   "execution_count": 1,
   "metadata": {},
   "outputs": [
    {
     "name": "stdout",
     "output_type": "stream",
     "text": [
      "Failed to import module h5tbx\n"
     ]
    }
   ],
   "source": [
    "from h5rdmtoolbox import identifiers"
   ]
  },
  {
   "cell_type": "markdown",
   "metadata": {
    "collapsed": false,
    "jupyter": {
     "outputs_hidden": false
    },
    "pycharm": {
     "name": "#%% md\n"
    }
   },
   "source": [
    "## ORCID\n",
    "\n",
    "ORCID is a popular researcher ID: https://www.wikidata.org/wiki/Property:P496"
   ]
  },
  {
   "cell_type": "code",
   "execution_count": 2,
   "metadata": {},
   "outputs": [
    {
     "data": {
      "text/plain": [
       "True"
      ]
     },
     "execution_count": 2,
     "metadata": {},
     "output_type": "execute_result"
    }
   ],
   "source": [
    "rorid = identifiers.ORCID('https://orcid.org/0000-0001-8729-0482')\n",
    "rorid.validate()"
   ]
  },
  {
   "cell_type": "code",
   "execution_count": 3,
   "metadata": {},
   "outputs": [
    {
     "data": {
      "text/html": [
       "<a href=\"https://orcid.org/0000-0001-8729-0482\"><img alt=\"ORCID logo\" src=\"https://info.orcid.org/wp-content/uploads/2019/11/orcid_16x16.png\" width=\"16\" height=\"16\" />https://orcid.org/0000-0001-8729-0482</a>"
      ],
      "text/plain": [
       "<h5rdmtoolbox.identifiers.ORCID at 0x1d1887e0730>"
      ]
     },
     "execution_count": 3,
     "metadata": {},
     "output_type": "execute_result"
    }
   ],
   "source": [
    "rorid"
   ]
  },
  {
   "cell_type": "markdown",
   "metadata": {},
   "source": [
    "## RORID\n",
    "https://ror.org/"
   ]
  },
  {
   "cell_type": "code",
   "execution_count": 4,
   "metadata": {},
   "outputs": [
    {
     "data": {
      "text/plain": [
       "True"
      ]
     },
     "execution_count": 4,
     "metadata": {},
     "output_type": "execute_result"
    }
   ],
   "source": [
    "rorid = identifiers.RORID('https://ror.org/04wxnsj81')\n",
    "rorid.validate()"
   ]
  },
  {
   "cell_type": "code",
   "execution_count": 5,
   "metadata": {},
   "outputs": [
    {
     "data": {
      "text/html": [
       "<a href=\"https://ror.org/04wxnsj81\"><img alt=\"ROR logo\" src=\"https://raw.githubusercontent.com/ror-community/ror-logos/main/ror-icon-rgb.svg\" width=\"16\" height=\"16\" />https://ror.org/04wxnsj81</a>"
      ],
      "text/plain": [
       "<h5rdmtoolbox.identifiers.RORID at 0x1d1887e0760>"
      ]
     },
     "execution_count": 5,
     "metadata": {},
     "output_type": "execute_result"
    }
   ],
   "source": [
    "rorid"
   ]
  },
  {
   "cell_type": "markdown",
   "metadata": {},
   "source": [
    "## ISBN"
   ]
  },
  {
   "cell_type": "code",
   "execution_count": 6,
   "metadata": {},
   "outputs": [
    {
     "data": {
      "text/plain": [
       "True"
      ]
     },
     "execution_count": 6,
     "metadata": {},
     "output_type": "execute_result"
    }
   ],
   "source": [
    "isbn10 = identifiers.ISBN10('80-85892-15-4')\n",
    "isbn10.validate()"
   ]
  },
  {
   "cell_type": "code",
   "execution_count": 7,
   "metadata": {},
   "outputs": [
    {
     "data": {
      "text/html": [
       "<a href=\"https://www.worldcat.org/isbn/80-85892-15-4\">80-85892-15-4</a>"
      ],
      "text/plain": [
       "<h5rdmtoolbox.identifiers.ISBN10 at 0x1d1887e04c0>"
      ]
     },
     "execution_count": 7,
     "metadata": {},
     "output_type": "execute_result"
    }
   ],
   "source": [
    "isbn10"
   ]
  },
  {
   "cell_type": "code",
   "execution_count": 8,
   "metadata": {},
   "outputs": [
    {
     "data": {
      "text/plain": [
       "True"
      ]
     },
     "execution_count": 8,
     "metadata": {},
     "output_type": "execute_result"
    }
   ],
   "source": [
    "isbn13 = identifiers.ISBN13('978-80-85892-15-4')\n",
    "isbn13.validate()"
   ]
  },
  {
   "cell_type": "code",
   "execution_count": 9,
   "metadata": {},
   "outputs": [
    {
     "data": {
      "text/html": [
       "<a href=\"https://www.worldcat.org/isbn/978-80-85892-15-4\">978-80-85892-15-4</a>"
      ],
      "text/plain": [
       "<h5rdmtoolbox.identifiers.ISBN13 at 0x1d1887e0df0>"
      ]
     },
     "execution_count": 9,
     "metadata": {},
     "output_type": "execute_result"
    }
   ],
   "source": [
    "isbn13"
   ]
  },
  {
   "cell_type": "markdown",
   "metadata": {
    "collapsed": false,
    "jupyter": {
     "outputs_hidden": false
    },
    "pycharm": {
     "name": "#%% md\n"
    }
   },
   "source": [
    "## Build a new Identifier\n",
    "\n",
    "You may add a new identifier. Please refer to the abstract class ``Identifier``."
   ]
  }
 ],
 "metadata": {
  "kernelspec": {
   "display_name": "Python 3 (ipykernel)",
   "language": "python",
   "name": "python3"
  },
  "language_info": {
   "codemirror_mode": {
    "name": "ipython",
    "version": 3
   },
   "file_extension": ".py",
   "mimetype": "text/x-python",
   "name": "python",
   "nbconvert_exporter": "python",
   "pygments_lexer": "ipython3",
   "version": "3.8.18"
  }
 },
 "nbformat": 4,
 "nbformat_minor": 4
}
