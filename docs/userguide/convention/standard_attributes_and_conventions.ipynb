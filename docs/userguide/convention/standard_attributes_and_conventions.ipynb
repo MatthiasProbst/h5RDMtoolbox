{
 "cells": [
  {
   "cell_type": "markdown",
   "id": "300ab6f1-dc08-41eb-9e77-5f6a8e02ac9a",
   "metadata": {},
   "source": [
    "# Introduction to Conventions\n",
    "\n",
    "This section will take you through the steps of using and creating a convention.\n",
    "\n",
    "First, we need to import the convention sub-package and the toolbox itself:"
   ]
  },
  {
   "cell_type": "code",
   "execution_count": 1,
   "id": "15348f22-6f7b-4944-976c-3ad94b4f4ef0",
   "metadata": {},
   "outputs": [],
   "source": [
    "from h5rdmtoolbox import convention\n",
    "import h5rdmtoolbox as h5tbx"
   ]
  },
  {
   "cell_type": "markdown",
   "id": "ab671446-fb5c-49a2-984b-264d8a824339",
   "metadata": {},
   "source": [
    "At all times, a convention is currently enabled. Currently, the convention named \"h5py\" is enabled. In fact, it does nothing and mimics the behavior of the `h5py` package. This means, that methods like `create_dataset` do not expect other parameters, as we know from the `h5py`-package.\n",
    "\n",
    "To find out, which convention is currently active, call the following (we expect \"h5py\"):"
   ]
  },
  {
   "cell_type": "code",
   "execution_count": 2,
   "id": "b106676c-0ad3-4a26-99bd-3037ebf808c2",
   "metadata": {},
   "outputs": [
    {
     "data": {
      "text/plain": [
       "Convention(\"h5py\")"
      ]
     },
     "execution_count": 2,
     "metadata": {},
     "output_type": "execute_result"
    }
   ],
   "source": [
    "cv = convention.get_current_convention()\n",
    "cv"
   ]
  },
  {
   "cell_type": "markdown",
   "id": "324b012d-78f7-498a-a509-f1883eb56190",
   "metadata": {},
   "source": [
    "To list all available convention, call `get_registered_conventions()`."
   ]
  },
  {
   "cell_type": "code",
   "execution_count": 3,
   "id": "921acd75-692e-4a07-a062-ee086c34697a",
   "metadata": {},
   "outputs": [
    {
     "data": {
      "text/plain": [
       "{'h5tbx': Convention(\"h5tbx\"), 'h5py': Convention(\"h5py\")}"
      ]
     },
     "execution_count": 3,
     "metadata": {},
     "output_type": "execute_result"
    }
   ],
   "source": [
    "convention.get_registered_conventions()"
   ]
  },
  {
   "cell_type": "markdown",
   "id": "07e6a46c-2a6d-4771-9f72-eead33a96d4d",
   "metadata": {},
   "source": [
    "There is also another convention, named \"h5tbx\".\n",
    "\n",
    "The string representation of the `Convention` objects tells us which attributes are expected for which method. In this example, the following is defined:\n",
    "- For the **root group**, indicated by `File.__init__()`: \"creation_mode\"\n",
    "- For any dataset, indicated by `Group.create_dataset()`: \"units\" and \"symbol\". *Note that units is obligatory and \"symbol\" is optional*\n",
    "\n",
    "This means, that we *can* provide \"creation_mode\" during file creation and we *must* provide the attribute \"units\" during dataset creation. We will test this in the next section."
   ]
  },
  {
   "cell_type": "code",
   "execution_count": 4,
   "id": "59f9ccb6-ba1f-4281-a96c-99641d274477",
   "metadata": {},
   "outputs": [
    {
     "name": "stdout",
     "output_type": "stream",
     "text": [
      "\u001b[1mConvention(\"h5tbx\")\u001b[0m\n",
      "contact: https://orcid.org/0000-0001-8729-0482\n",
      "  File.__init__():\n",
      "    * \u001b[3mcreation_mode\u001b[0m:\n",
      "\t\tCreation mode of the data. Specific for engineering.\n",
      "  Group.create_dataset():\n",
      "    * \u001b[1munits (obligatory)\u001b[0m :\n",
      "\t\tThe physical unit of the dataset. If dimensionless, the unit is ''.\n",
      "    * \u001b[3msymbol\u001b[0m:\n",
      "\t\tThe mathematical symbol of the dataset.\n",
      "\n"
     ]
    }
   ],
   "source": [
    "cv = convention.get_registered_conventions()['h5tbx']\n",
    "print(cv)"
   ]
  },
  {
   "cell_type": "markdown",
   "id": "88c3d85a-0e98-4d33-891d-861999f30fa0",
   "metadata": {},
   "source": [
    "## Applying a convention\n",
    "\n",
    "Without knowing how to build a convention, let's first apply one. We enable the \"h5tbx\" convention by calling `use()`:"
   ]
  },
  {
   "cell_type": "code",
   "execution_count": 5,
   "id": "a24696f2-b606-49df-bf13-f86626dee293",
   "metadata": {},
   "outputs": [
    {
     "data": {
      "text/plain": [
       "using(\"h5tbx\")"
      ]
     },
     "execution_count": 5,
     "metadata": {},
     "output_type": "execute_result"
    }
   ],
   "source": [
    "h5tbx.use('h5tbx')"
   ]
  },
  {
   "cell_type": "markdown",
   "id": "9138fe45-f314-47c3-b029-3ae234f2e501",
   "metadata": {},
   "source": [
    "Now the convention is enabled, and we can start creating a new HDF5 file. As expected, if we don't provide the attribute \"units\" as a parameter, an error is raised:"
   ]
  },
  {
   "cell_type": "code",
   "execution_count": 6,
   "id": "35a1ca7a-8bc4-47b9-bc59-bd5155793058",
   "metadata": {},
   "outputs": [
    {
     "name": "stdout",
     "output_type": "stream",
     "text": [
      "Convention \"h5tbx\" expects standard attribute \"units\" to be provided as an argument during dataset creation.\n"
     ]
    }
   ],
   "source": [
    "with h5tbx.File() as h5:\n",
    "    try:\n",
    "        h5.create_dataset('ds', shape=(3, ))\n",
    "    except convention.errors.StandardAttributeError as e:\n",
    "        print(e)"
   ]
  },
  {
   "cell_type": "markdown",
   "id": "27e07a9d-5386-426d-a1d6-754ac7c912fc",
   "metadata": {},
   "source": [
    "But there is more to it. Let's now pass the attribute \"units\" but purposely set an invalid value. Normally, we can set any value to attributes. But standard attributes can have a validator implemented. This is the case for the attribute \"units\". We will find out later how this is done."
   ]
  },
  {
   "cell_type": "code",
   "execution_count": 7,
   "id": "184871b7-dc13-4b68-ab7d-9992f3533947",
   "metadata": {},
   "outputs": [
    {
     "name": "stdout",
     "output_type": "stream",
     "text": [
      "The value \"invalid\" for standard attribute \"units\" could not be set. Please check the convention file wrt. the rule for this attribute. The following error message might not always explain the origin of the problem:\n",
      "1 validation error for units\n",
      "value\n",
      "  Value error, Units cannot be understood using ureg package: invalid. Original error: 'invalid' is not defined in the unit registry [type=value_error, input_value='invalid', input_type=str]\n",
      "    For further information visit https://errors.pydantic.dev/2.5/v/value_error\n"
     ]
    }
   ],
   "source": [
    "with h5tbx.File() as h5:\n",
    "    try:\n",
    "        h5.create_dataset('ds', shape=(3, ), units='invalid')\n",
    "    except convention.errors.StandardAttributeError as e:\n",
    "        print(e)"
   ]
  },
  {
   "cell_type": "markdown",
   "id": "351b7b7e-bf89-4ea9-be12-098ac45e5585",
   "metadata": {},
   "source": [
    "The error tells us, that \"invalid\" is not understood by the validator.\n",
    "\n",
    "Finally, we provide a valid SI unit:"
   ]
  },
  {
   "cell_type": "code",
   "execution_count": 8,
   "id": "a0cee0dc-3e32-459b-80f9-913c1fab8224",
   "metadata": {},
   "outputs": [],
   "source": [
    "with h5tbx.File() as h5:\n",
    "    h5.create_dataset('ds', shape=(3, ), units='m/s')"
   ]
  },
  {
   "cell_type": "markdown",
   "id": "c1931675-3e7b-45b7-8b7d-abeee4bbf5e8",
   "metadata": {},
   "source": [
    "We can also access all registered standard attributes of the convention like so:"
   ]
  },
  {
   "cell_type": "code",
   "execution_count": 9,
   "id": "10b106ec-26b4-4b5d-94b6-e4074c59e597",
   "metadata": {},
   "outputs": [
    {
     "data": {
      "text/plain": [
       "{'units': <StandardAttribute[positional/obligatory](\"units\"): \"The physical unit of the dataset. If dimensionless, the unit is ''.\">,\n",
       " 'symbol': <StandardAttribute [keyword/optional](\"symbol\"): default_value=\"_SpecialDefaults.NONE\" | \"The mathematical symbol of the dataset.\">,\n",
       " 'creation_mode': <StandardAttribute [keyword/optional](\"creation_mode\"): default_value=\"_SpecialDefaults.NONE\" | \"Creation mode of the data. Specific for engineering.\">}"
      ]
     },
     "execution_count": 9,
     "metadata": {},
     "output_type": "execute_result"
    }
   ],
   "source": [
    "cv.registered_standard_attributes"
   ]
  },
  {
   "cell_type": "markdown",
   "id": "bc16a254-8471-4617-8775-0f401dd95709",
   "metadata": {},
   "source": [
    "## 1. Creating a new Convention (with code)\n",
    "\n",
    "We want to create our own convention with our own standard attribute.\n",
    "\n",
    "Create the object:"
   ]
  },
  {
   "cell_type": "code",
   "execution_count": 10,
   "id": "df46e67c-546b-4cd9-bc81-c91f469be38e",
   "metadata": {},
   "outputs": [],
   "source": [
    "cv = convention.Convention(name='MyFirstConvention', contact='John Doe')\n",
    "cv.register()"
   ]
  },
  {
   "cell_type": "markdown",
   "id": "b91afe5b-8618-4af5-9d4d-7495d4908558",
   "metadata": {},
   "source": [
    "Enable it:"
   ]
  },
  {
   "cell_type": "code",
   "execution_count": 11,
   "id": "8b66e5e4-7eb8-4822-918f-c6a39b58d3e7",
   "metadata": {},
   "outputs": [
    {
     "data": {
      "text/plain": [
       "using(\"MyFirstConvention\")"
      ]
     },
     "execution_count": 11,
     "metadata": {},
     "output_type": "execute_result"
    }
   ],
   "source": [
    "h5tbx.use('MyFirstConvention')"
   ]
  },
  {
   "cell_type": "markdown",
   "id": "8ac8e222-390c-4d48-acab-bab88a4da299",
   "metadata": {},
   "source": [
    "Make sure it worked:"
   ]
  },
  {
   "cell_type": "code",
   "execution_count": 12,
   "id": "d0f975b8-1ead-4fd2-b02a-53344a085fdf",
   "metadata": {},
   "outputs": [
    {
     "data": {
      "text/plain": [
       "Convention(\"MyFirstConvention\")"
      ]
     },
     "execution_count": 12,
     "metadata": {},
     "output_type": "execute_result"
    }
   ],
   "source": [
    "convention.get_current_convention()"
   ]
  },
  {
   "cell_type": "markdown",
   "id": "8a33b65b-4a8c-4170-bfbd-d5c34ae1db69",
   "metadata": {},
   "source": [
    "### Define a standard attribute\n",
    "\n",
    "#### Create a validator\n",
    "\n",
    "Standard attribute validators are build with [`pydantic`](https://docs.pydantic.dev/latest/concepts/validators/). Please refer to the [package](https://docs.pydantic.dev/latest/concepts/validators/) if you are unsure how to use it, or carefully follow the following.\n",
    "\n",
    "Let's assume we want to enforce users to provide a `publication_type` as a root attribute (parameter during `__init__` call).<br>\n",
    "First, we need to define the validator:"
   ]
  },
  {
   "cell_type": "code",
   "execution_count": 13,
   "id": "f5aefadf-d3bb-49dd-b5ef-58cf74f01cb9",
   "metadata": {},
   "outputs": [],
   "source": [
    "from pydantic import BaseModel\n",
    "from typing_extensions import Literal\n",
    "\n",
    "PublicationType = Literal[\n",
    "    \"book\",\n",
    "    \"conferencepaper\",\n",
    "    \"article\",\n",
    "    \"patent\",\n",
    "    \"report\",\n",
    "    \"other\",\n",
    "]\n",
    "\n",
    "class PublicationValidator(BaseModel):\n",
    "    \"\"\"Validate an orcid (a simple naive version)\"\"\"\n",
    "    value: PublicationType"
   ]
  },
  {
   "cell_type": "markdown",
   "id": "acb45c96-c435-464b-a8a2-8e55243d2956",
   "metadata": {},
   "source": [
    "Let's check if it works:"
   ]
  },
  {
   "cell_type": "code",
   "execution_count": 14,
   "id": "224498a2-519c-413e-b8e1-e89726bc1530",
   "metadata": {},
   "outputs": [
    {
     "data": {
      "text/plain": [
       "PublicationValidator(value='book')"
      ]
     },
     "execution_count": 14,
     "metadata": {},
     "output_type": "execute_result"
    }
   ],
   "source": [
    "PublicationValidator.model_validate({'value': 'book'})"
   ]
  },
  {
   "cell_type": "code",
   "execution_count": 15,
   "id": "a569ea8c-719a-473d-bdcf-699fc877227f",
   "metadata": {},
   "outputs": [
    {
     "name": "stdout",
     "output_type": "stream",
     "text": [
      "1 validation error for PublicationValidator\n",
      "value\n",
      "  Input should be 'book', 'conferencepaper', 'article', 'patent', 'report' or 'other' [type=literal_error, input_value='invalid', input_type=str]\n",
      "    For further information visit https://errors.pydantic.dev/2.5/v/literal_error\n"
     ]
    }
   ],
   "source": [
    "from pydantic import ValidationError\n",
    "try:\n",
    "    PublicationValidator.model_validate({'value': 'invalid'})\n",
    "except ValidationError as e:\n",
    "    print(e)"
   ]
  },
  {
   "cell_type": "markdown",
   "id": "80a3b295-d4c6-4acf-a24b-14fe44357445",
   "metadata": {},
   "source": [
    "#### Define a standard attribute\n",
    "\n",
    "The `StandardAttribute` takes 5 inputs:\n",
    "- The `name` of the parameter in the function. This will also be the attribute name!\n",
    "- The validator class: We just created it\n",
    "- The method, where the attribute should appear as a parameter\n",
    "- A default value. We want to enforce the usage, so we put `$empty`. Other options are `$none` (makes it optional) or we put an actual value, e.g. \"book\", which will be written to the attribute if no other value is provided "
   ]
  },
  {
   "cell_type": "code",
   "execution_count": 16,
   "id": "80b75ca9-4fff-4b81-b19a-79e31529b470",
   "metadata": {},
   "outputs": [],
   "source": [
    "std_attr = h5tbx.convention.standard_attributes.StandardAttribute(\n",
    "    name='publication_type',\n",
    "    validator=PublicationValidator,\n",
    "    target_method='__init__',\n",
    "    description='Publication type',\n",
    "    default_value='$empty'\n",
    ")"
   ]
  },
  {
   "cell_type": "code",
   "execution_count": 17,
   "id": "baeb64d3-4e99-4ae1-9e32-1587721cf0ad",
   "metadata": {},
   "outputs": [
    {
     "data": {
      "text/plain": [
       "{'publication_type': <StandardAttribute[positional/obligatory](\"publication_type\"): \"Publication type.\">}"
      ]
     },
     "execution_count": 17,
     "metadata": {},
     "output_type": "execute_result"
    }
   ],
   "source": [
    "cv.add_standard_attribute(std_attr)\n",
    "cv.registered_standard_attributes"
   ]
  },
  {
   "cell_type": "markdown",
   "id": "c549d794-6966-4619-8ced-574997e5c8cc",
   "metadata": {},
   "source": [
    "Let's try it (first re-enable the convention to make the changes effective)"
   ]
  },
  {
   "cell_type": "code",
   "execution_count": 18,
   "id": "b30adde0-f3f7-4ffc-9e12-5780a1e61f4e",
   "metadata": {},
   "outputs": [
    {
     "data": {
      "text/plain": [
       "using(\"MyFirstConvention\")"
      ]
     },
     "execution_count": 18,
     "metadata": {},
     "output_type": "execute_result"
    }
   ],
   "source": [
    "h5tbx.use(None)\n",
    "h5tbx.use(cv.name)"
   ]
  },
  {
   "cell_type": "code",
   "execution_count": 19,
   "id": "f3b0bdb8-d02d-4be8-a295-b23ef0aed40e",
   "metadata": {},
   "outputs": [
    {
     "name": "stdout",
     "output_type": "stream",
     "text": [
      "Convention \"MyFirstConvention\" expects standard attribute \"publication_type\" to be provided as an argument during file creation.\n"
     ]
    }
   ],
   "source": [
    "try:\n",
    "    with h5tbx.File() as h5:\n",
    "        pass\n",
    "except convention.errors.StandardAttributeError as e:\n",
    "    print(e)"
   ]
  },
  {
   "cell_type": "code",
   "execution_count": 20,
   "id": "ae81de69-1b94-4527-a477-2588e7551934",
   "metadata": {},
   "outputs": [],
   "source": [
    "with h5tbx.File(publication_type='book') as h5:\n",
    "    pass"
   ]
  },
  {
   "cell_type": "markdown",
   "id": "13410f52-f2f2-4e6d-933b-9b1aa8361771",
   "metadata": {},
   "source": [
    "## 2. Creating a convention (from a file)\n",
    "\n",
    "A convention can also be defined in a YAML (or JSON) file. It consists of three parts:\n",
    "\n",
    "    1. General information (keywords must start and end with double underscores)\n",
    "    2. Definition of *standard attributes*\n",
    "    3. Definition of *standard attribute validators*"
   ]
  },
  {
   "cell_type": "raw",
   "id": "e73423a8-2257-4b61-847e-95f5a83aeb91",
   "metadata": {},
   "source": [
    "# filename: example_convention.yaml\n",
    "# 1. General information at the header\n",
    "#-------------------------------------\n",
    "__name__: h5rdmtoolbox-tuturial-convention\n",
    "__institution__: https://orcid.org/members/001G000001e5aUTIAY\n",
    "__contact__: https://orcid.org/0000-0001-8729-0482\n",
    "\n",
    "\n",
    "# 2. Definition of standard attributes\n",
    "#-------------------------------------\n",
    "units:\n",
    "  target_method: create_dataset\n",
    "  validator: $units\n",
    "  description: The physical unit of the dataset. If dimensionless, the unit is ''.\n",
    "  default_value: $EMPTY\n",
    "\n",
    "contact_id:\n",
    "  description: ID of a person to contact for questions.\n",
    "  target_method: __init__\n",
    "  validator: $str\n",
    "  default_value: $EMPTY\n",
    "\n",
    "comment:\n",
    "  description: Comment to a dataset\n",
    "  target_method: create_dataset\n",
    "  validator: $regex(^[A-Z].*)\n",
    "  default_value: $NONE\n",
    "  \n",
    "data_type:\n",
    "  description: 'Type of data in file. Can be numerical or experimental'\n",
    "  target_method: __init__\n",
    "  validator: $dataSourceTypes\n",
    "\n",
    "# 3. Special type definitions\n",
    "#----------------------------\n",
    "$dataSourceTypes:\n",
    "  - numerical\n",
    "  - experimental"
   ]
  },
  {
   "cell_type": "markdown",
   "id": "6b161741-59ad-4ef1-816b-7afdd494a01c",
   "metadata": {},
   "source": [
    "1. General information at the header indicated by double underscores:"
   ]
  },
  {
   "cell_type": "raw",
   "id": "e5270f0a-292c-42de-b644-d1bf406798d9",
   "metadata": {},
   "source": [
    "__name__: h5rdmtoolbox-tuturial-convention\n",
    "__institution__: https://orcid.org/members/001G000001e5aUTIAY\n",
    "__contact__: https://orcid.org/0000-0001-8729-0482"
   ]
  },
  {
   "cell_type": "markdown",
   "id": "14ed525f-e6b9-480b-83a6-315e8f8b27a5",
   "metadata": {},
   "source": [
    "2. Definition of standard attributes\n",
    "\n",
    "A `standard_attribute` has various properties like the `description`, `target_method` (during which the standard attribute can be passed), the `validator`, which validates the input and the `default_value`. The latter can be \"\\\\$EMPTY\" indicating that no default value is set, and thus this attribute is obligatory. \"\\\\$NONE\" indicates, that the attribute is optional. And finally, a valid value can be given to be written even if no input is provided for this standard attribute."
   ]
  },
  {
   "cell_type": "raw",
   "id": "4a8b3bfc-4b4c-410f-be03-50f04444c7b9",
   "metadata": {},
   "source": [
    "contact_id:\n",
    "  description: ID of a person to contact for questions.\n",
    "  target_method: __init__\n",
    "  validator: $str\n",
    "  default_value: $EMPTY\n",
    "\n",
    "comment:\n",
    "  description: Comment to a dataset\n",
    "  target_method: create_dataset\n",
    "  validator: $regex(^[A-Z].*)\n",
    "  default_value: $NONE\n",
    "  \n",
    "data_type:\n",
    "  description: 'Type of data in file. Can be numerical or experimental'\n",
    "  target_method: __init__\n",
    "  validator: $dataSourceTypes"
   ]
  },
  {
   "cell_type": "markdown",
   "id": "eca86b74-6d02-4085-acf8-88dfad601db4",
   "metadata": {},
   "source": [
    "3. Special type definitions\n",
    "\n",
    "Here the allowed values for the standard attribute `data_type` is listed:"
   ]
  },
  {
   "cell_type": "raw",
   "id": "6ac8a14f-82cc-4838-b9a7-e0070f9c370a",
   "metadata": {},
   "source": [
    "$dataSourceTypes:\n",
    "  - numerical\n",
    "  - experimental"
   ]
  },
  {
   "cell_type": "markdown",
   "id": "8f4ed6e0-d5da-4bdd-9e76-f57a91b4a2a6",
   "metadata": {},
   "source": [
    "The heart of standard attributes is the **validator**. A validator becomes effective when metadata is written.\n",
    "The Flow chart below illustrates the writing and reading procedure for the example of writing the attribute \"units\".\n",
    "\n",
    "1. Writing (`ds.units = 'm/s'`): If \"units\" is defined in the convention, the validator checks the value. \"m/s\" is a correct unit, so it will be written. Otherwise, invalid values raise an error.\n",
    "3. Reading (`print(ds.units)`): The validator becomes effective upon reading attributes, that are standardized. However, then invalid value only raise warnings, in order to allow the user to still work with the file and fix the issue.\n",
    "\n",
    "<img src=\"../_static/h5RDMtoolbox_standard_attribute_concept.png\" alt=\"h5RDMtoolbox_standard_attribute_concept.png\" width=\"800\"/>"
   ]
  },
  {
   "cell_type": "markdown",
   "id": "e2b37652-d174-4cd8-8104-3f89f498a52a",
   "metadata": {},
   "source": [
    "## Reading a Convention from a file:"
   ]
  },
  {
   "cell_type": "markdown",
   "id": "5aac95f3-c228-4ac3-877b-69dc28d84e9f",
   "metadata": {},
   "source": [
    "Let's read the above example file into the class `Convention`. The object representation displays the standard attributes which are expected for the root group (`File.__init__()`), group creation (`Group.create_group()`) and dataset creation (`Group.create_dataset()`).\n",
    "\n",
    "Note, that the standard attributes, which are marked **bold**, are obligatory. The others may or may not be provided during object creation:"
   ]
  },
  {
   "cell_type": "code",
   "execution_count": 21,
   "id": "e65319d9-b587-49af-b67f-dd3d529e75bc",
   "metadata": {},
   "outputs": [
    {
     "data": {
      "text/plain": [
       "WindowsPath('example_convention.json')"
      ]
     },
     "execution_count": 21,
     "metadata": {},
     "output_type": "execute_result"
    }
   ],
   "source": [
    "h5tbx.convention.utils.yaml2json('example_convention.yaml')"
   ]
  },
  {
   "cell_type": "code",
   "execution_count": 22,
   "id": "2e3d59ca-8de0-4821-bdb7-27a99b259b8d",
   "metadata": {},
   "outputs": [
    {
     "data": {
      "text/plain": [
       "Convention(\"h5rdmtoolbox-tuturial-convention\")"
      ]
     },
     "execution_count": 22,
     "metadata": {},
     "output_type": "execute_result"
    }
   ],
   "source": [
    "cv = h5tbx.convention.from_yaml('example_convention.yaml')\n",
    "# you may also use .from_json('example_convention.json')\n",
    "cv"
   ]
  },
  {
   "cell_type": "markdown",
   "id": "14dc5c24-9645-43aa-b76b-349d8a7e8e02",
   "metadata": {},
   "source": [
    "In order to make the convention affective in this session, it must be enabled. We do this by calling `use()`:"
   ]
  },
  {
   "cell_type": "code",
   "execution_count": 23,
   "id": "8dfd1a89-ba4d-4333-bed4-dbd9dae8fadd",
   "metadata": {},
   "outputs": [
    {
     "data": {
      "text/plain": [
       "using(\"h5rdmtoolbox-tuturial-convention\")"
      ]
     },
     "execution_count": 23,
     "metadata": {},
     "output_type": "execute_result"
    }
   ],
   "source": [
    "h5tbx.use(cv)"
   ]
  },
  {
   "cell_type": "markdown",
   "id": "cd93051d-6537-4ec2-a07a-9f9ecf1b88be",
   "metadata": {},
   "source": [
    "Now, we will get an error if we create a HDF5 file without providing the attribute `contact_id`. As we made it a required attribute, it must be provided during file initialization:"
   ]
  },
  {
   "cell_type": "code",
   "execution_count": 24,
   "id": "bc760582-760d-45dc-ae88-8346d3cfb387",
   "metadata": {},
   "outputs": [
    {
     "name": "stdout",
     "output_type": "stream",
     "text": [
      "Convention \"h5rdmtoolbox-tuturial-convention\" expects standard attribute \"contact_id\" to be provided as an argument during file creation.\n"
     ]
    }
   ],
   "source": [
    "try:\n",
    "    with h5tbx.File() as h5:\n",
    "        pass\n",
    "except h5tbx.errors.StandardAttributeError as e:\n",
    "    print(e)"
   ]
  },
  {
   "cell_type": "markdown",
   "id": "fc5d0e45-6aaf-473b-b5ca-84cd1ee83443",
   "metadata": {},
   "source": [
    "Providing a wrong value raises an error, too:"
   ]
  },
  {
   "cell_type": "code",
   "execution_count": 25,
   "id": "105511eb-f632-471a-b53c-7945440da8f4",
   "metadata": {},
   "outputs": [
    {
     "name": "stdout",
     "output_type": "stream",
     "text": [
      "The value \"velocity field\" for standard attribute \"comment\" could not be set. Please check the convention file wrt. the rule for this attribute. The following error message might not always explain the origin of the problem:\n",
      "1 validation error for comment\n",
      "value\n",
      "  Value error, Invalid format for pattern [type=value_error, input_value='velocity field', input_type=str]\n",
      "    For further information visit https://errors.pydantic.dev/2.5/v/value_error\n"
     ]
    }
   ],
   "source": [
    "try:\n",
    "    with h5tbx.File(contact_id='id1722') as h5:\n",
    "        h5.create_dataset(name='velocity', shape=(3, 4), units='m/s', comment='velocity field')\n",
    "except h5tbx.errors.StandardAttributeError as e:\n",
    "    print(e)"
   ]
  },
  {
   "cell_type": "markdown",
   "id": "bf48ff4a-f561-474f-833a-d4b8e4516f3c",
   "metadata": {},
   "source": [
    "Now, we got it:"
   ]
  },
  {
   "cell_type": "code",
   "execution_count": 26,
   "id": "0669ccff-9563-4a0c-ab66-e07224f8d42b",
   "metadata": {},
   "outputs": [
    {
     "data": {
      "text/html": [
       "<head><style>/*\r\n",
       "CSS inspired by xarray: https://github.com/pydata/xarray\r\n",
       "*/\r\n",
       ".h5tb-header > div,\r\n",
       ".h5tb-header > ul {\r\n",
       "    display: inline;\r\n",
       "    margin-top: 0;\r\n",
       "    margin-bottom: 0;\r\n",
       "}\r\n",
       "\r\n",
       ".h5tb-dataarray-cls,\r\n",
       ".h5tb-dataarray-name {\r\n",
       "    margin-left: 2px;\r\n",
       "    margin-right: 10px;\r\n",
       "}\r\n",
       "\r\n",
       ".h5tb-dataarray-name {\r\n",
       "    color: #000;\r\n",
       "}\r\n",
       "\r\n",
       ".h5grp-sections {\r\n",
       "    list-style: none;\r\n",
       "    padding: 3px;\r\n",
       "    margin: 0;\r\n",
       "}\r\n",
       "\r\n",
       ".h5grp-sections input {\r\n",
       "    display: none;\r\n",
       "}\r\n",
       "\r\n",
       ".h5grp-sections label {\r\n",
       "    display: inline;\r\n",
       "}\r\n",
       "\r\n",
       ".h5grp-sections > li > input + label > span {\r\n",
       "    display: inline;\r\n",
       "    margin-left: 4px;\r\n",
       "}\r\n",
       "\r\n",
       ".h5grp-sections > li > input:checked + label > span {\r\n",
       "    display: none;\r\n",
       "}\r\n",
       "\r\n",
       ".h5grp-sections input:enabled + label {\r\n",
       "    cursor: pointer;\r\n",
       "}\r\n",
       "\r\n",
       ".h5grp-sections input:not(.h5tb-values-in) ~ ul {\r\n",
       "    display: none;\r\n",
       "}\r\n",
       "\r\n",
       ".h5grp-sections input:not(.h5tb-values-in):checked ~ ul {\r\n",
       "    display: block;\r\n",
       "}\r\n",
       "\r\n",
       ".h5grp-sections > li > input + label {\r\n",
       "    width: 140px;\r\n",
       "    color: #555;\r\n",
       "    font-weight: 500;\r\n",
       "    padding: 4px 0 2px 0;\r\n",
       "}\r\n",
       "\r\n",
       "\r\n",
       ".h5grp-sections > li > input + label:before {\r\n",
       "    display: inline-block;\r\n",
       "    content: '+';\r\n",
       "    font-size: 11px;\r\n",
       "    width: 15px;\r\n",
       "    text-align: center;\r\n",
       "}\r\n",
       "\r\n",
       ".h5grp-sections > li > input:disabled + label:before {\r\n",
       "    color: #777;\r\n",
       "}\r\n",
       "\r\n",
       ".h5grp-sections > li > input:checked + label:before {\r\n",
       "    content: '-';\r\n",
       "}\r\n",
       "\r\n",
       ".h5tb-dim-list {\r\n",
       "    display: inline-block !important;\r\n",
       "    list-style: none;\r\n",
       "    padding: 0;\r\n",
       "}\r\n",
       "\r\n",
       ".h5tb-dim-list li {\r\n",
       "    display: inline-block;\r\n",
       "    padding: 0;\r\n",
       "    margin: 0;\r\n",
       "}\r\n",
       "\r\n",
       ".h5tb-dim-list:before {\r\n",
       "    content: '(';\r\n",
       "}\r\n",
       "\r\n",
       ".h5tb-dim-list:after {\r\n",
       "    content: ')';\r\n",
       "}\r\n",
       "\r\n",
       ".h5tb-dim-list li:not(:last-child):after {\r\n",
       "    content: ',';\r\n",
       "}\r\n",
       "\r\n",
       ".h5tb-has-index {\r\n",
       "    text-decoration: underline;\r\n",
       "}\r\n",
       "\r\n",
       ".h5tb-var-list {\r\n",
       "    list-style: none;\r\n",
       "    padding: 0;\r\n",
       "    margin: 0;\r\n",
       "}\r\n",
       "\r\n",
       ".h5tb-var-list > li {\r\n",
       "    background-color: #fcfcfc;\r\n",
       "    overflow: hidden;\r\n",
       "}\r\n",
       "\r\n",
       ".h5tb-var-list > li:nth-child(odd) {\r\n",
       "    background-color: #efefef;\r\n",
       "}\r\n",
       "\r\n",
       ".h5tb-var-list li:hover {\r\n",
       "    background-color: rgba(3, 169, 244, .2);\r\n",
       "}\r\n",
       "\r\n",
       ".h5tb-var-list li > span {\r\n",
       "    display: inline-block;\r\n",
       "}\r\n",
       "\r\n",
       "input.h5tb-varname-in + label {\r\n",
       "    width: 140px;\r\n",
       "    padding-left: 0;\r\n",
       "    font-weight: bold;\r\n",
       "}\r\n",
       "\r\n",
       ".h5tb-dataset {\r\n",
       "    width: 100px;\r\n",
       "}\r\n",
       "\r\n",
       ".h5tb-attributevalue {\r\n",
       "    width: 100px;\r\n",
       "    text-align: left;\r\n",
       "    color: #888;\r\n",
       "    white-space: nowrap;\r\n",
       "    font-size: 12px;\r\n",
       "}\r\n",
       "\r\n",
       "input.h5tb-varname-in + label:before {\r\n",
       "    content: ' ';\r\n",
       "    display: inline-block;\r\n",
       "    font-size: 11px;\r\n",
       "    width: 15px;\r\n",
       "    padding-left: 2px;\r\n",
       "    padding-right: 2px;\r\n",
       "    text-align: center;\r\n",
       "    color: #aaa;\r\n",
       "    text-decoration: none !important;\r\n",
       "}\r\n",
       "\r\n",
       "input.h5tb-varname-in:enabled + label:hover:before {\r\n",
       "    color: #000;\r\n",
       "}\r\n",
       "\r\n",
       "input.h5tb-varname-in:checked + label:before {\r\n",
       "    color: #ccc;\r\n",
       "}\r\n",
       "\r\n",
       ".h5tb-dims {\r\n",
       "    width: 280px;\r\n",
       "    white-space: nowrap;\r\n",
       "}\r\n",
       "\r\n",
       ".h5tb-attr-list {\r\n",
       "    list-style: none;\r\n",
       "    background-color: rgba(0,0,0,.0);\r\n",
       "    padding-bottom: 6px;\r\n",
       "    color: #6a6c73;\r\n",
       "}\r\n",
       "\r\n",
       ".h5tb-attr-list li,\r\n",
       ".h5tb-attr-list li:hover {\r\n",
       "    background-color: rgba(0,0,0,.0);\r\n",
       "}</style></head>\n",
       "<div class='h5tb-warp'>\n",
       "\n",
       "              <ul style=\"list-style-type: none;\" class=\"h5grp-sections\">\n",
       "                    <li>\n",
       "                        <input id=\"group-ds--5104752700\" type=\"checkbox\" checked>\n",
       "                        <label style=\"font-weight: bold\" for=\"group-ds--5104752700\">\n",
       "                        /<span>(0)</span></label>\n",
       "                  \n",
       "\n",
       "                    <ul class=\"h5tb-attr-list\"><li style=\"list-style-type: none; font-style: italic\">__h5rdmtoolbox_version__ : 1.0.1</li><li style=\"list-style-type: none; font-style: italic\">contact_id : id1722</li>\n",
       "                    </ul>\n",
       "</li>\n",
       "</ul>\n",
       "</div>"
      ],
      "text/plain": [
       "<IPython.core.display.HTML object>"
      ]
     },
     "metadata": {},
     "output_type": "display_data"
    }
   ],
   "source": [
    "with h5tbx.File(contact_id='id1722') as h5:\n",
    "    h5.dump()"
   ]
  },
  {
   "cell_type": "markdown",
   "id": "461cd227-2da8-4190-80b7-ce8b540b9a69",
   "metadata": {},
   "source": [
    "Note, that if we were to reopen the file not in read-only (r) but in read-write mode, then the standard attributes which already exist are not checked again. So if the HDF5 was written with another package, e.g. h5py, then the value might be wrong:"
   ]
  },
  {
   "cell_type": "code",
   "execution_count": 27,
   "id": "9c650b79-48e6-4b30-8423-ef16bf47d829",
   "metadata": {},
   "outputs": [],
   "source": [
    "with h5tbx.File(name=h5.hdf_filename, mode='r+') as h5:\n",
    "    pass # note, that we were not required to pass \"data_type\" as it was present already!"
   ]
  },
  {
   "cell_type": "markdown",
   "id": "d84944e6-3b34-487d-93a0-be05d8978345",
   "metadata": {},
   "source": [
    "Note, that a convention can also be enabled only **temporarily** using the context manager syntax:"
   ]
  },
  {
   "cell_type": "code",
   "execution_count": 28,
   "id": "599c91e0-fded-4cf7-9706-d5dbf1eddb65",
   "metadata": {},
   "outputs": [],
   "source": [
    "with h5tbx.use(cv):\n",
    "    with h5tbx.File(contact_id='id1722') as h5:\n",
    "        pass"
   ]
  },
  {
   "cell_type": "markdown",
   "id": "14aed23f-cca2-47c5-a02d-a9afd8fe63be",
   "metadata": {},
   "source": [
    "## Importing/Loading an online convention\n",
    "\n",
    "The intended distribution of convention is via online repositories. The YAML file hence should be uploaded such it is accessible to all users. The `h5RDMtoolbox` currently favors the usage of [Zenodo](https://zenodo.org) repositories. The advantages are long-term storage and assignment of a DOI. However, files accessible via an URL can also be downloaded.\n",
    "\n",
    "A tutorial convention is published [here](https://zenodo.org/record/8276817). By calling `from_zenodo()` the convention object is created:"
   ]
  },
  {
   "cell_type": "code",
   "execution_count": 29,
   "id": "0641aa3c-152f-4f78-81b3-c6ddf4e9e531",
   "metadata": {
    "scrolled": true
   },
   "outputs": [
    {
     "data": {
      "text/plain": [
       "Convention(\"h5rdmtoolbox-tutorial-convention\")"
      ]
     },
     "execution_count": 29,
     "metadata": {},
     "output_type": "execute_result"
    }
   ],
   "source": [
    "cv = h5tbx.convention.from_zenodo(doi_or_recid='10156750')\n",
    "cv"
   ]
  },
  {
   "cell_type": "markdown",
   "id": "8bf03407-8b48-4bc2-b948-02322f6e48d2",
   "metadata": {},
   "source": [
    "## Effect of enabling a convention\n",
    "\n",
    "The convention above defined the usage of certain attributes with certain methods. E.g. \"data_type\" is to be used when a HDF5 file is created. When the convention is enabled, the **signature of the respective methods is changed**. To proof this, let's implement a small function, which prints all parameters of a given function and inspect the effect of the convention in the `__init__` method:"
   ]
  },
  {
   "cell_type": "code",
   "execution_count": 30,
   "id": "bff929ab-d133-48bd-8c16-b7bd3080a426",
   "metadata": {},
   "outputs": [
    {
     "data": {
      "text/plain": [
       "<StandardAttribute [keyword/optional](\"standard_name\"): default_value=\"None\" | \"Standard name of the dataset. If not set, the long_name attribute must be given.\">"
      ]
     },
     "execution_count": 30,
     "metadata": {},
     "output_type": "execute_result"
    }
   ],
   "source": [
    "cv.properties[h5tbx.Dataset]['standard_name']"
   ]
  },
  {
   "cell_type": "code",
   "execution_count": 31,
   "id": "7f2295ae-7b1f-431f-8168-cf340b80adc2",
   "metadata": {},
   "outputs": [
    {
     "name": "stdout",
     "output_type": "stream",
     "text": [
      "no convention: \n",
      "\n",
      "Parameters for \"__init__\":\n",
      "  - name\n",
      "  - mode\n",
      "  - attrs\n",
      "  - kwargs\n",
      "\n",
      "------------\n",
      "with convention h5rdmtoolbox-tutorial-convention: (standard attributes are made bold)\n",
      "\n",
      "Parameters for \"__init__\":\n",
      "  - name\n",
      "  - mode\n",
      "  - attrs\n",
      "  - \u001b[1mdata_type\u001b[0m\n",
      "  - \u001b[1mstandard_name_table\u001b[0m\n",
      "  - \u001b[1mcomment\u001b[0m\n",
      "  - \u001b[1mcontact\u001b[0m\n",
      "  - \u001b[1mreferences\u001b[0m\n",
      "  - kwargs\n"
     ]
    }
   ],
   "source": [
    "import inspect\n",
    "\n",
    "def print_method_parameters(method):\n",
    "    print(f'\\nParameters for \"{method.__name__}\":')\n",
    "    for param in inspect.signature(method).parameters.values():\n",
    "        if not param.name == 'self':\n",
    "            if param.name in h5tbx.convention.get_current_convention().methods[h5tbx.File].get('__init__', {}).keys():\n",
    "                print(f'  - {h5tbx._repr.make_bold(param.name)}')\n",
    "            else:\n",
    "                print(f'  - {param.name}')\n",
    "\n",
    "methods = (h5tbx.File.__init__, h5tbx.Group.create_group, h5tbx.Group.create_dataset)\n",
    "\n",
    "print('no convention: ')\n",
    "h5tbx.use(None)\n",
    "print_method_parameters(h5tbx.File.__init__)\n",
    "\n",
    "print(f'\\n------------\\nwith convention {cv.name}: (standard attributes are made bold)')\n",
    "h5tbx.use(cv)\n",
    "print_method_parameters(h5tbx.File.__init__)"
   ]
  },
  {
   "cell_type": "code",
   "execution_count": 32,
   "id": "a0b03b0c-8d48-46d3-8c0e-98d5dc758650",
   "metadata": {},
   "outputs": [
    {
     "data": {
      "text/plain": [
       "using(\"h5py\")"
      ]
     },
     "execution_count": 32,
     "metadata": {},
     "output_type": "execute_result"
    }
   ],
   "source": [
    "h5tbx.use(None)  # fall back to the default convention"
   ]
  }
 ],
 "metadata": {
  "kernelspec": {
   "display_name": "Python 3 (ipykernel)",
   "language": "python",
   "name": "python3"
  },
  "language_info": {
   "codemirror_mode": {
    "name": "ipython",
    "version": 3
   },
   "file_extension": ".py",
   "mimetype": "text/x-python",
   "name": "python",
   "nbconvert_exporter": "python",
   "pygments_lexer": "ipython3",
   "version": "3.8.18"
  }
 },
 "nbformat": 4,
 "nbformat_minor": 5
}
