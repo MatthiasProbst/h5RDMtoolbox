{
 "cells": [
  {
   "cell_type": "markdown",
   "id": "7ddcf4ed-d376-4212-82b6-e073a52c6b2a",
   "metadata": {},
   "source": [
    "# Provenance\n",
    "\n",
    "One aspect of data provenance is keeping track of the processing steps applied to data.\n",
    "\n",
    "Next, we will learn how this can be done working with `xarray` objects.\n",
    "\n",
    "**Note: This is work in progress! Adding provenance information can clutter the attributes of a xarray quite a bit**"
   ]
  },
  {
   "cell_type": "code",
   "execution_count": 1,
   "id": "1d0538f0-8d79-4daf-9ea6-5a355562e12e",
   "metadata": {},
   "outputs": [
    {
     "data": {
      "text/plain": [
       "<h5rdmtoolbox._cfg.set_config at 0x188392240a0>"
      ]
     },
     "execution_count": 1,
     "metadata": {},
     "output_type": "execute_result"
    }
   ],
   "source": [
    "import h5rdmtoolbox as h5tbx\n",
    "import numpy as np\n",
    "\n",
    "h5tbx.set_config(add_provenance=True)"
   ]
  },
  {
   "cell_type": "markdown",
   "id": "53509d04-c859-4e4d-befb-1befe3a7b3ed",
   "metadata": {},
   "source": [
    "For the example, let's assume a 3D-velocity field with time, y- and x-dimension:"
   ]
  },
  {
   "cell_type": "code",
   "execution_count": 2,
   "id": "bfae2053-e432-409e-b2d9-ae73e918efd6",
   "metadata": {},
   "outputs": [
    {
     "data": {
      "text/plain": [
       "using(\"h5rdmtoolbox-tutorial-convention\")"
      ]
     },
     "execution_count": 2,
     "metadata": {},
     "output_type": "execute_result"
    }
   ],
   "source": [
    "cv = h5tbx.convention.from_zenodo('https://zenodo.org/records/10428822')\n",
    "\n",
    "h5tbx.use(cv)"
   ]
  },
  {
   "cell_type": "code",
   "execution_count": 3,
   "id": "d061c61d-4433-4973-9c80-d459dff67624",
   "metadata": {},
   "outputs": [
    {
     "data": {
      "text/plain": [
       "<matplotlib.collections.QuadMesh at 0x1884c7ec130>"
      ]
     },
     "execution_count": 3,
     "metadata": {},
     "output_type": "execute_result"
    },
    {
     "data": {
      "image/png": "[encoded data removed]",
      "text/plain": [
       "<Figure size 640x480 with 2 Axes>"
      ]
     },
     "metadata": {},
     "output_type": "display_data"
    }
   ],
   "source": [
    "with h5tbx.File(data_type='experimental', contact=h5tbx.__author_orcid__) as h5:\n",
    "    h5.create_dataset('time', data=np.linspace(0, 5, 5), standard_name='time', units='s', make_scale=True)\n",
    "    h5.create_dataset('y', data=np.linspace(0, 10, 10), standard_name='y_coordinate', units='m', make_scale=True)\n",
    "    h5.create_dataset('x', data=np.linspace(0, 7, 7), standard_name='x_coordinate', units='m', make_scale=True)\n",
    "    h5.create_dataset('u', data=np.random.rand(5, 10, 7), standard_name='x_velocity', units='m/s', attach_scale=('time', 'y', 'x'))\n",
    "    u = h5.u[:]\n",
    "\n",
    "# plot t=2.5 s:\n",
    "u.sel(time=2.5).plot()"
   ]
  },
  {
   "cell_type": "code",
   "execution_count": 4,
   "id": "767ee0e9-9f72-4fad-895a-3b088208cca7",
   "metadata": {},
   "outputs": [],
   "source": [
    "from h5rdmtoolbox.convention.standard_names import accessor"
   ]
  },
  {
   "cell_type": "code",
   "execution_count": 5,
   "id": "db5c4e32-82a1-4e3c-af14-e87025ef5c9c",
   "metadata": {},
   "outputs": [
    {
     "name": "stdout",
     "output_type": "stream",
     "text": [
      "0 applied  __getitem__  on array with shape {'time': 5, 'y': 10, 'x': 7}\n",
      "  ->  __getitem__\n",
      "1 applied  arithmetic_mean_of  on array with shape {'time': 2, 'y': 10, 'x': 7}\n",
      "  ->  arithmetic_mean_of\n",
      "Current shape  {'y': 10, 'x': 7}\n"
     ]
    }
   ],
   "source": [
    "u_processed = u.snt[0:2,...].snt.arithmetic_mean_of(dim='time')\n",
    "\n",
    "def get_dim_shape(da):\n",
    "    return {d: len(da[d]) for d in da.dims}\n",
    "\n",
    "def explain_history(da):\n",
    "    for i, item in enumerate(da.attrs['PROVENANCE']['processing_history']):\n",
    "        print(i, 'applied ', item['name'], ' on array with shape', item['parent']['dims_shape'])\n",
    "        print('  -> ', item['name'])\n",
    "    print('Current shape ', get_dim_shape(da))\n",
    "\n",
    "explain_history(u_processed)"
   ]
  },
  {
   "cell_type": "code",
   "execution_count": 6,
   "id": "ec424aa7-28ba-4d28-9901-113b5507c939",
   "metadata": {},
   "outputs": [
    {
     "data": {
      "text/plain": [
       "<h5rdmtoolbox._cfg.set_config at 0x1884c8a0400>"
      ]
     },
     "execution_count": 6,
     "metadata": {},
     "output_type": "execute_result"
    }
   ],
   "source": [
    "h5tbx.set_config(add_provenance=False)"
   ]
  },
  {
   "cell_type": "code",
   "execution_count": null,
   "id": "8d53f586-ade0-4751-a11d-fe3c1d6a48f3",
   "metadata": {},
   "outputs": [],
   "source": []
  }
 ],
 "metadata": {
  "kernelspec": {
   "display_name": "Python 3 (ipykernel)",
   "language": "python",
   "name": "python3"
  },
  "language_info": {
   "codemirror_mode": {
    "name": "ipython",
    "version": 3
   },
   "file_extension": ".py",
   "mimetype": "text/x-python",
   "name": "python",
   "nbconvert_exporter": "python",
   "pygments_lexer": "ipython3",
   "version": "3.8.18"
  }
 },
 "nbformat": 4,
 "nbformat_minor": 5
}
