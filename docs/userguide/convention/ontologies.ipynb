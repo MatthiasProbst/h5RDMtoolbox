{
 "cells": [
  {
   "cell_type": "markdown",
   "id": "9cb473cc-4590-4820-bd51-47cfb26f056e",
   "metadata": {},
   "source": [
    "# Using Ontologies with HDF5/Usage of IRI\n",
    "\n",
    "**NOTE THIS HAS MOVED TO [ANOTHER PLACE](https://h5rdmtoolbox.readthedocs.io/en/latest/wrapper/Misc.html)**"
   ]
  }
 ],
 "metadata": {
  "kernelspec": {
   "display_name": "Python 3 (ipykernel)",
   "language": "python",
   "name": "python3"
  },
  "language_info": {
   "codemirror_mode": {
    "name": "ipython",
    "version": 3
   },
   "file_extension": ".py",
   "mimetype": "text/x-python",
   "name": "python",
   "nbconvert_exporter": "python",
   "pygments_lexer": "ipython3",
   "version": "3.8.18"
  }
 },
 "nbformat": 4,
 "nbformat_minor": 5
}
