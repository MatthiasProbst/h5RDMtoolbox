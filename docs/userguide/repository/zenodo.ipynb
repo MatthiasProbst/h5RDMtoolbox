{
 "cells": [
  {
   "cell_type": "markdown",
   "id": "834332c9-e420-4802-8d38-eebdd66d8349",
   "metadata": {},
   "source": [
    "# Zenodo\n",
    "\n",
    "There are two types of Zenodo interfaces. One interfaces to the public repositories (`ZenodoRecord`), the other is for testing and accessed the sandbox server (`ZenodoSandboxDeposit`).\n",
    "\n",
    "The class diagram below shows how they are constructed. First, an abstract zenodo interface class (`AbstractZenodoInterface`) is derived. From this, the concrete interface classes are derived.\n",
    "\n",
    "<img src=\"../../_static/repo_class_diagram.svg\"\n",
    "     alt=\"../../_static/repo_class_diagram.svg\"\n",
    "     style=\"margin-right: 10px; height: 500px;\" />\n",
    "     "
   ]
  },
  {
   "cell_type": "markdown",
   "id": "1bd504f1-59a1-45f6-805e-89700ebf4c32",
   "metadata": {},
   "source": [
    "## Example usage\n",
    "\n",
    "The example below will upload an HDF file to the sandbox server:"
   ]
  },
  {
   "cell_type": "code",
   "execution_count": 9,
   "id": "b001b211-4771-48b2-8a0f-0a0b75b3de01",
   "metadata": {},
   "outputs": [],
   "source": [
    "from h5rdmtoolbox.repository import zenodo\n",
    "import h5rdmtoolbox as h5tbx"
   ]
  },
  {
   "cell_type": "markdown",
   "id": "ac9d7063-43af-42d2-94b7-cf20c5b0e09c",
   "metadata": {},
   "source": [
    "Init a Repo:"
   ]
  },
  {
   "cell_type": "code",
   "execution_count": 2,
   "id": "b1d04f69-5da4-40e8-9669-580bb4666cb0",
   "metadata": {},
   "outputs": [],
   "source": [
    "repo = zenodo.ZenodoSandboxDeposit(None)"
   ]
  },
  {
   "cell_type": "markdown",
   "id": "6303c7d5-684d-4bcf-a17a-217c63d26212",
   "metadata": {},
   "source": [
    "Create a test file:"
   ]
  },
  {
   "cell_type": "code",
   "execution_count": 3,
   "id": "3811ddda-5023-405d-b109-77b342c568b0",
   "metadata": {},
   "outputs": [],
   "source": [
    "with h5tbx.File() as h5:\n",
    "    h5.create_dataset('velocity', shape=(10, 30), attrs={'units': 'm/s'})\n",
    "filename = h5.hdf_filename"
   ]
  },
  {
   "cell_type": "markdown",
   "id": "70992ae8-c2d2-4263-b315-203c17325f92",
   "metadata": {},
   "source": [
    "Prepare metadata"
   ]
  },
  {
   "cell_type": "code",
   "execution_count": 4,
   "id": "90d65507-8c0d-428b-8105-7e436461e1be",
   "metadata": {},
   "outputs": [],
   "source": [
    "from h5rdmtoolbox.repository.zenodo import metadata\n",
    "from datetime import datetime\n",
    "\n",
    "meta = metadata.Metadata(\n",
    "    version=\"0.1.0-rc.1+build.1\",\n",
    "    title='[deleteme]h5tbxZenodoInterface',\n",
    "    description='A toolbox for managing HDF5-based research data management',\n",
    "    creators=[metadata.Creator(name=\"Probst, Matthias\",\n",
    "                      affiliation=\"KIT - ITS\",\n",
    "                      orcid=\"0000-0001-8729-0482\")],\n",
    "    contributors=[metadata.Contributor(name=\"Probst, Matthias\",\n",
    "                              affiliation=\"KIT - ITS\",\n",
    "                              orcid=\"0000-0001-8729-0482\",\n",
    "                              type=\"ContactPerson\")],\n",
    "    upload_type='image',\n",
    "    image_type='photo',\n",
    "    access_right='open',\n",
    "    keywords=['hdf5', 'research data management', 'rdm'],\n",
    "    publication_date=datetime.now(),\n",
    "    embargo_date='2020'\n",
    ")"
   ]
  },
  {
   "cell_type": "markdown",
   "id": "3a5d6fef-b96b-45a0-8d0c-9157c5192bce",
   "metadata": {},
   "source": [
    "Add (and publish) the metadata:"
   ]
  },
  {
   "cell_type": "code",
   "execution_count": 5,
   "id": "e337c361-6d48-46cc-a3d7-292cadfc28fa",
   "metadata": {},
   "outputs": [],
   "source": [
    "repo.metadata = meta"
   ]
  },
  {
   "cell_type": "markdown",
   "id": "11efa913-f440-4431-9de7-1daa84fcbac8",
   "metadata": {},
   "source": [
    "Upload the HDF5 file. Note, that there's a difference between `upload_file` and `upload_hdf_file`. The latter not just uploads the HDF5 file but also generates a metadata file and uploads it, too. The reason behind it is, that the HDF5 file can be very large. Before downloading the (large) HDF5 file, the user may want to review the metadata content first. This is possible through the \"metamapper-function\" which needs to be provided during upload."
   ]
  },
  {
   "cell_type": "code",
   "execution_count": 6,
   "id": "3cb86303-0e65-41fc-a622-710bc5fe8f7a",
   "metadata": {},
   "outputs": [],
   "source": [
    "from h5rdmtoolbox.repository.h5metamapper import hdf2json"
   ]
  },
  {
   "cell_type": "code",
   "execution_count": 7,
   "id": "9bc60428-785f-41aa-a356-2114e0d183ac",
   "metadata": {},
   "outputs": [],
   "source": [
    "repo.upload_hdf_file(filename, metamapper=hdf2json)"
   ]
  },
  {
   "cell_type": "markdown",
   "id": "00482800-885f-482e-a136-10ee167c3a72",
   "metadata": {},
   "source": [
    "List the just uploaded files, by requesting the current filenames in the repository:"
   ]
  },
  {
   "cell_type": "code",
   "execution_count": 10,
   "id": "500cb79c-76a4-4f3f-a84f-da36b1e63d5b",
   "metadata": {},
   "outputs": [
    {
     "data": {
      "text/plain": [
       "{'tmp0.hdf': {'id': '15429441-0500-47d2-9372-c4ba177f2b65',\n",
       "  'filename': 'tmp0.hdf',\n",
       "  'filesize': 12288,\n",
       "  'checksum': '75813cd2cb6812acd699cf667ee09a03',\n",
       "  'links': {'self': 'https://sandbox.zenodo.org/api/deposit/depositions/34672/files/15429441-0500-47d2-9372-c4ba177f2b65',\n",
       "   'download': 'https://sandbox.zenodo.org/api/records/34672/draft/files/tmp0.hdf/content'}},\n",
       " 'tmp0.json': {'id': '82dfaf05-5fdb-4d4f-9f84-9eb7eae6d6a9',\n",
       "  'filename': 'tmp0.json',\n",
       "  'filesize': 338,\n",
       "  'checksum': '84b0b00a0f0d7b7d2897d616dbbb6317',\n",
       "  'links': {'self': 'https://sandbox.zenodo.org/api/deposit/depositions/34672/files/82dfaf05-5fdb-4d4f-9f84-9eb7eae6d6a9',\n",
       "   'download': 'https://sandbox.zenodo.org/api/records/34672/draft/files/tmp0.json/content'}}}"
      ]
     },
     "execution_count": 10,
     "metadata": {},
     "output_type": "execute_result"
    }
   ],
   "source": [
    "repo.get_files()"
   ]
  },
  {
   "cell_type": "code",
   "execution_count": null,
   "id": "27ad1ee4-837e-4037-9609-68d46414af17",
   "metadata": {},
   "outputs": [],
   "source": []
  }
 ],
 "metadata": {
  "kernelspec": {
   "display_name": "Python 3 (ipykernel)",
   "language": "python",
   "name": "python3"
  },
  "language_info": {
   "codemirror_mode": {
    "name": "ipython",
    "version": 3
   },
   "file_extension": ".py",
   "mimetype": "text/x-python",
   "name": "python",
   "nbconvert_exporter": "python",
   "pygments_lexer": "ipython3",
   "version": "3.8.18"
  }
 },
 "nbformat": 4,
 "nbformat_minor": 5
}
