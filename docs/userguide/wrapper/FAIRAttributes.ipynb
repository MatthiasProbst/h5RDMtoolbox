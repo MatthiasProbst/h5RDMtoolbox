{
 "cells": [
  {
   "cell_type": "markdown",
   "id": "fe2c74a4-1f66-4084-96f5-bdbef565d842",
   "metadata": {},
   "source": [
    "# FAIR Attributes\n",
    "\n",
    "According to [F1 of the *FAIR Principles*](https://www.go-fair.org/fair-principles/f1-meta-data-assigned-globally-unique-persistent-identifiers/) attributes shall be assigned to globally unique and persistent identifiers.\n",
    "\n",
    "Here's what www.g-fair.org says about it:\n",
    "\n",
    "*Globally unique and persistent identifiers remove ambiguity in the meaning of your published data by assigning a unique identifier to every element of metadata and every concept/measurement in your dataset. In this context, identifiers consist of an internet link (e.g., a URL that resolves to a web page that defines the concept such as a particular human protein). Many data repositories will automatically generate globally unique and persistent identifiers to deposited datasets. Identifiers can help other people understand exactly what you mean, and they allow computers to interpret your data in a meaningful way (i.e., computers that are searching for your data or trying to automatically integrate them). Identifiers are essential to the human-machine interoperation that is key to the vision of Open Science. In addition, identifiers will help others to properly cite your work when reusing your data.*\n",
    "\n",
    "The *h5rdmtoolbox* allows assigning attributes (and their data) to identifiers. For this, each name and value of an attribute may obtain an IRI (internationalized resource identifier). The following outlines, how it is done."
   ]
  },
  {
   "cell_type": "markdown",
   "id": "48af904e-f2a1-48ad-9fa1-41d478c6d44b",
   "metadata": {},
   "source": [
    "## Concept\n",
    "\n",
    "We understand HDF5 objects, attributes and attribute values as RDF triples:\n",
    "- obj (dataset/group) $\\rightarrow$ *subject*\n",
    "- attribute $\\rightarrow$ <u>predicate</u>\n",
    "- data $\\rightarrow$ **object**\n",
    "\n",
    "Then, we can \"explain\" the data in the following way:\n",
    "- The *group \"contact\"* <u>is</u> **Person**\n",
    "- The *group \"contact\"* <u>has ORCiD</u> **\\<value\\>**\n",
    "- The *dataset \"u\"* <u>hasUnit/u> **\"m/s\"**\n",
    "- *\"m/s\"* <u>is</u> **\"https://qudt.org/vocab/unit/M-PER-SEC\"**\n",
    "- The *dataset \"u\"* <u>has kind of quantity/u> **Velocity** (defined by qudt)\n",
    "- etc.\n",
    "\n",
    "Let's build such a file:"
   ]
  },
  {
   "cell_type": "code",
   "execution_count": 7,
   "id": "23a5fa94-ace5-430d-ab79-185fa801f419",
   "metadata": {},
   "outputs": [],
   "source": [
    "import h5rdmtoolbox as h5tbx"
   ]
  },
  {
   "cell_type": "markdown",
   "id": "23f59915-a00a-4f30-b7d0-37f1b58aa6b5",
   "metadata": {},
   "source": [
    "## Attribute-IRI-Association\n",
    "\n",
    "An IRI can be assigned during or after attribute creation. Various possibilities are shown below.\n",
    "\n",
    "Note, that you can type the IRIs yourself, however, it is safer to use implemented namespace objects as provided by *rdflib* (e.g. FOAF). The toolbox provides the NFDI4Ing-supported ontology **metadata4ing (m4i)** which is very useful for engineering data. The toolbox implements it in the same way as *rdflib* does:"
   ]
  },
  {
   "cell_type": "code",
   "execution_count": 9,
   "id": "4c716528-4752-402d-b922-d2750f04eeed",
   "metadata": {},
   "outputs": [],
   "source": [
    "from h5rdmtoolbox.namespace import M4I, OBO, QUDT_UNIT, HAS_QKIND\n",
    "from rdflib.namespace import FOAF"
   ]
  },
  {
   "cell_type": "code",
   "execution_count": 11,
   "id": "7eb3012a-4aef-4f0d-8ddb-69579341aa58",
   "metadata": {},
   "outputs": [],
   "source": [
    "import numpy as np\n",
    "import time\n",
    "from datetime import datetime\n",
    "\n",
    "hdf_filename = h5tbx.utils.generate_temporary_filename()\n",
    "\n",
    "with h5tbx.File(hdf_filename) as h5:\n",
    "    person = h5.create_group('contact')\n",
    "    person.iri = FOAF.Person\n",
    "    person.attrs.create(name='first_name',\n",
    "                        predicate=FOAF.firstName,\n",
    "                        data='Matthias')\n",
    "    person.attrs.create(name='orcid',\n",
    "                        predicate=M4I.orcidId,\n",
    "                        data='https://orcid.org/0000-0001-8729-0482')\n",
    "\n",
    "    st = datetime.now()\n",
    "    time.sleep(2)\n",
    "    ds = h5.create_dataset('random_velocity', data=np.random.random(100))\n",
    "    et = datetime.now()\n",
    "    ds.attrs.create('units', predicate=M4I.hasUnit,\n",
    "                    data='m/s',\n",
    "                    object=QUDT_UNIT.M_PER_SEC)\n",
    "    ds.attrs.create('quantity_kind',\n",
    "                     data='velocity',\n",
    "                     predicate=M4I.hasKindOfQuantity,\n",
    "                     object=HAS_QKIND.Velocity)\n",
    "\n",
    "    proc = h5.create_group('proc_random_number')\n",
    "    proc.iri = M4I.ProcessingStep\n",
    "    proc.attrs['has_participants', OBO.has_participant] = h5['contact']\n",
    "    proc.attrs.create('start_time', data=st,\n",
    "                      predicate='https://schema.org/startTime')\n",
    "    proc.attrs.create('end_time', data=et,\n",
    "                      predicate='https://schema.org/startTime')\n",
    "    proc.attrs['output', 'http://purl.obolibrary.org/obo/RO_0002234'] = ds\n",
    "    "
   ]
  },
  {
   "cell_type": "markdown",
   "id": "3c2c6bb4-5e7f-499d-9a4a-f3c18073b125",
   "metadata": {},
   "source": [
    "## Make use of FAIR metadata\n",
    "\n",
    "There are three ways, how the above assignment helps us and how we might want to use IRIs:\n",
    "1. Visual inspection by dumping the content to screen: This will outline the file (meta) content and we can click on the attributes with IRIs, which will explain the attribute (data)\n",
    "2. We can extract a *JSON-LD* file. This is useful for other processes. We can also investigate this file further with tools like [JSON-LD-playground](https://json-ld.org/playground/).\n",
    "3. Access IRI in (Python) code"
   ]
  },
  {
   "cell_type": "markdown",
   "id": "4e2de9ad-ac05-47af-a44e-27e257759a66",
   "metadata": {},
   "source": [
    "### 1. Visual inspection\n",
    "\n",
    "The *dump()* method will now add IRI-icons. Click on it and get redirected to the resources:"
   ]
  },
  {
   "cell_type": "code",
   "execution_count": 18,
   "id": "18cb9b55-768b-4331-a42f-89bad556abed",
   "metadata": {},
   "outputs": [
    {
     "data": {
      "text/html": [
       "<head><style>/*\r\n",
       "CSS inspired by xarray: https://github.com/pydata/xarray\r\n",
       "*/\r\n",
       ".h5tb-header > div,\r\n",
       ".h5tb-header > ul {\r\n",
       "    display: inline;\r\n",
       "    margin-top: 0;\r\n",
       "    margin-bottom: 0;\r\n",
       "}\r\n",
       "\r\n",
       ".h5tb-dataarray-cls,\r\n",
       ".h5tb-dataarray-name {\r\n",
       "    margin-left: 2px;\r\n",
       "    margin-right: 10px;\r\n",
       "}\r\n",
       "\r\n",
       ".h5tb-dataarray-name {\r\n",
       "    color: #000;\r\n",
       "}\r\n",
       "\r\n",
       ".h5grp-sections {\r\n",
       "    list-style: none;\r\n",
       "    padding: 3px;\r\n",
       "    margin: 0;\r\n",
       "}\r\n",
       "\r\n",
       ".h5grp-sections input {\r\n",
       "    display: none;\r\n",
       "}\r\n",
       "\r\n",
       ".h5grp-sections label {\r\n",
       "    display: inline;\r\n",
       "}\r\n",
       "\r\n",
       ".h5grp-sections > li > input + label > span {\r\n",
       "    display: inline;\r\n",
       "    margin-left: 4px;\r\n",
       "}\r\n",
       "\r\n",
       ".h5grp-sections > li > input:checked + label > span {\r\n",
       "    display: none;\r\n",
       "}\r\n",
       "\r\n",
       ".h5grp-sections input:enabled + label {\r\n",
       "    cursor: pointer;\r\n",
       "}\r\n",
       "\r\n",
       ".h5grp-sections input:not(.h5tb-values-in) ~ ul {\r\n",
       "    display: none;\r\n",
       "}\r\n",
       "\r\n",
       ".h5grp-sections input:not(.h5tb-values-in):checked ~ ul {\r\n",
       "    display: block;\r\n",
       "}\r\n",
       "\r\n",
       ".h5grp-sections > li > input + label {\r\n",
       "    width: 140px;\r\n",
       "    color: #555;\r\n",
       "    font-weight: 500;\r\n",
       "    padding: 4px 0 2px 0;\r\n",
       "}\r\n",
       "\r\n",
       "\r\n",
       ".h5grp-sections > li > input + label:before {\r\n",
       "    display: inline-block;\r\n",
       "    content: '+';\r\n",
       "    font-size: 11px;\r\n",
       "    width: 15px;\r\n",
       "    text-align: center;\r\n",
       "}\r\n",
       "\r\n",
       ".h5grp-sections > li > input:disabled + label:before {\r\n",
       "    color: #777;\r\n",
       "}\r\n",
       "\r\n",
       ".h5grp-sections > li > input:checked + label:before {\r\n",
       "    content: '-';\r\n",
       "}\r\n",
       "\r\n",
       ".h5tb-dim-list {\r\n",
       "    display: inline-block !important;\r\n",
       "    list-style: none;\r\n",
       "    padding: 0;\r\n",
       "}\r\n",
       "\r\n",
       ".h5tb-dim-list li {\r\n",
       "    display: inline-block;\r\n",
       "    padding: 0;\r\n",
       "    margin: 0;\r\n",
       "}\r\n",
       "\r\n",
       ".h5tb-dim-list:before {\r\n",
       "    content: '(';\r\n",
       "}\r\n",
       "\r\n",
       ".h5tb-dim-list:after {\r\n",
       "    content: ')';\r\n",
       "}\r\n",
       "\r\n",
       ".h5tb-dim-list li:not(:last-child):after {\r\n",
       "    content: ',';\r\n",
       "}\r\n",
       "\r\n",
       ".h5tb-has-index {\r\n",
       "    text-decoration: underline;\r\n",
       "}\r\n",
       "\r\n",
       ".h5tb-var-list {\r\n",
       "    list-style: none;\r\n",
       "    padding: 0;\r\n",
       "    margin: 0;\r\n",
       "}\r\n",
       "\r\n",
       ".h5tb-var-list > li {\r\n",
       "    background-color: #fcfcfc;\r\n",
       "    overflow: hidden;\r\n",
       "}\r\n",
       "\r\n",
       ".h5tb-var-list > li:nth-child(odd) {\r\n",
       "    background-color: #efefef;\r\n",
       "}\r\n",
       "\r\n",
       ".h5tb-var-list li:hover {\r\n",
       "    background-color: rgba(3, 169, 244, .2);\r\n",
       "}\r\n",
       "\r\n",
       ".h5tb-var-list li > span {\r\n",
       "    display: inline-block;\r\n",
       "}\r\n",
       "\r\n",
       "input.h5tb-varname-in + label {\r\n",
       "    width: 140px;\r\n",
       "    padding-left: 0;\r\n",
       "    font-weight: bold;\r\n",
       "}\r\n",
       "\r\n",
       ".h5tb-dataset {\r\n",
       "    width: 100px;\r\n",
       "}\r\n",
       "\r\n",
       ".h5tb-attributevalue {\r\n",
       "    width: 100px;\r\n",
       "    text-align: left;\r\n",
       "    color: #888;\r\n",
       "    white-space: nowrap;\r\n",
       "    font-size: 12px;\r\n",
       "}\r\n",
       "\r\n",
       "input.h5tb-varname-in + label:before {\r\n",
       "    content: ' ';\r\n",
       "    display: inline-block;\r\n",
       "    font-size: 11px;\r\n",
       "    width: 15px;\r\n",
       "    padding-left: 2px;\r\n",
       "    padding-right: 2px;\r\n",
       "    text-align: center;\r\n",
       "    color: #aaa;\r\n",
       "    text-decoration: none !important;\r\n",
       "}\r\n",
       "\r\n",
       "input.h5tb-varname-in:enabled + label:hover:before {\r\n",
       "    color: #000;\r\n",
       "}\r\n",
       "\r\n",
       "input.h5tb-varname-in:checked + label:before {\r\n",
       "    color: #ccc;\r\n",
       "}\r\n",
       "\r\n",
       ".h5tb-dims {\r\n",
       "    width: 280px;\r\n",
       "    white-space: nowrap;\r\n",
       "}\r\n",
       "\r\n",
       ".h5tb-attr-list {\r\n",
       "    list-style: none;\r\n",
       "    background-color: rgba(0,0,0,.0);\r\n",
       "    padding-bottom: 6px;\r\n",
       "    color: #6a6c73;\r\n",
       "}\r\n",
       "\r\n",
       ".h5tb-attr-list li,\r\n",
       ".h5tb-attr-list li:hover {\r\n",
       "    background-color: rgba(0,0,0,.0);\r\n",
       "}</style></head>\n",
       "<div class='h5tb-warp'>\n",
       "\n",
       "              <ul style=\"list-style-type: none;\" class=\"h5grp-sections\">\n",
       "                    <li>\n",
       "                        <input id=\"group-ds--399052659000\" type=\"checkbox\" checked>\n",
       "                        <label style=\"font-weight: bold\" for=\"group-ds--399052659000\">\n",
       "                        /<span>(3)</span></label>\n",
       "                  \n",
       "\n",
       "                    <ul class=\"h5tb-attr-list\"><li style=\"list-style-type: none; font-style: italic\">__h5rdmtoolbox_version__<a href=\"https://w3id.org/okn/o/sd#SoftwareVersion\"><img src=\"https://github.com/matthiasprobst/h5RDMtoolbox/blob/dev/h5rdmtoolbox/data/iri_icon.png?raw=true\" alt=\" [IRI]\" width=\"16\" height=\"16\" /></a> : 1.0.2</li>\n",
       "                    </ul>\n",
       "\n",
       "                <ul id=\"ds-1-/random_velocity-399053863700\" class=\"h5tb-var-list\">\n",
       "                    <input id=\"ds-2-/random_velocity-399053866300\" class=\"h5tb-varname-in\" type=\"checkbox\" checked>\n",
       "                    <label class='h5tb-varname' for=\"ds-2-/random_velocity-399053866300\">random_velocity</label>\n",
       "                    <span class=\"h5tb-dims\">(100) [float64]</span>\n",
       "                <ul class=\"h5tb-attr-list\"><li style=\"list-style-type: none; font-style: italic\">quantity_kind<a href=\"http://w3id.org/nfdi4ing/metadata4ing#hasKindOfQuantity\"><img src=\"https://github.com/matthiasprobst/h5RDMtoolbox/blob/dev/h5rdmtoolbox/data/iri_icon.png?raw=true\" alt=\" [IRI]\" width=\"16\" height=\"16\" /></a> : velocity<a href=\"https://qudt.org/vocab/quantitykind/Velocity\"><img src=\"https://github.com/matthiasprobst/h5RDMtoolbox/blob/dev/h5rdmtoolbox/data/iri_icon.png?raw=true\" alt=\" [IRI]\" width=\"16\" height=\"16\" /></a></li><li style=\"list-style-type: none; font-style: italic\">units<a href=\"http://w3id.org/nfdi4ing/metadata4ing#hasUnit\"><img src=\"https://github.com/matthiasprobst/h5RDMtoolbox/blob/dev/h5rdmtoolbox/data/iri_icon.png?raw=true\" alt=\" [IRI]\" width=\"16\" height=\"16\" /></a> : m/s<a href=\"https://qudt.org/vocab/unit/M-PER-SEC\"><img src=\"https://github.com/matthiasprobst/h5RDMtoolbox/blob/dev/h5rdmtoolbox/data/iri_icon.png?raw=true\" alt=\" [IRI]\" width=\"16\" height=\"16\" /></a></li>\n",
       "                </ul>\n",
       "                </ul>\n",
       "\n",
       "              <ul style=\"list-style-type: none;\" class=\"h5grp-sections\">\n",
       "                    <li>\n",
       "                        <input id=\"group-ds-contact-399054452400\" type=\"checkbox\" checked>\n",
       "                        <label style=\"font-weight: bold\" for=\"group-ds-contact-399054452400\">\n",
       "                        contact<a href=\"http://xmlns.com/foaf/0.1/Person\"><img src=\"https://github.com/matthiasprobst/h5RDMtoolbox/blob/dev/h5rdmtoolbox/data/iri_icon.png?raw=true\" alt=\" [IRI]\" width=\"16\" height=\"16\" /></a><span>(0)</span></label>\n",
       "                  \n",
       "\n",
       "                    <ul class=\"h5tb-attr-list\"><li style=\"list-style-type: none; font-style: italic\">first_name<a href=\"http://xmlns.com/foaf/0.1/firstName\"><img src=\"https://github.com/matthiasprobst/h5RDMtoolbox/blob/dev/h5rdmtoolbox/data/iri_icon.png?raw=true\" alt=\" [IRI]\" width=\"16\" height=\"16\" /></a> : Matthias</li><li style=\"list-style-type: none; font-style: italic\">orcid<a href=\"http://w3id.org/nfdi4ing/metadata4ing#orcidId\"><img src=\"https://github.com/matthiasprobst/h5RDMtoolbox/blob/dev/h5rdmtoolbox/data/iri_icon.png?raw=true\" alt=\" [IRI]\" width=\"16\" height=\"16\" /></a> : <a href=\"https://orcid.org/0000-0001-8729-0482\"><img alt=\"ORCID logo\" src=\"https://info.orcid.org/wp-content/uploads/2019/11/orcid_16x16.png\" width=\"16\" height=\"16\" />https://orcid.org/0000-0001-8729-0482</a></li>\n",
       "                    </ul>\n",
       "</li>\n",
       "</ul>\n",
       "\n",
       "              <ul style=\"list-style-type: none;\" class=\"h5grp-sections\">\n",
       "                    <li>\n",
       "                        <input id=\"group-ds-proc_random_number-399054962100\" type=\"checkbox\" checked>\n",
       "                        <label style=\"font-weight: bold\" for=\"group-ds-proc_random_number-399054962100\">\n",
       "                        proc_random_number<a href=\"http://w3id.org/nfdi4ing/metadata4ing#ProcessingStep\"><img src=\"https://github.com/matthiasprobst/h5RDMtoolbox/blob/dev/h5rdmtoolbox/data/iri_icon.png?raw=true\" alt=\" [IRI]\" width=\"16\" height=\"16\" /></a><span>(0)</span></label>\n",
       "                  \n",
       "\n",
       "                    <ul class=\"h5tb-attr-list\"><li style=\"list-style-type: none; font-style: italic\">end_time<a href=\"https://schema.org/startTime\"><img src=\"https://github.com/matthiasprobst/h5RDMtoolbox/blob/dev/h5rdmtoolbox/data/iri_icon.png?raw=true\" alt=\" [IRI]\" width=\"16\" height=\"16\" /></a> : 2024-01-02T14:55:06.606302</li><li style=\"list-style-type: none; font-style: italic\">has_participants<a href=\"http://purl.obolibrary.org/obo/RO_0000057\"><img src=\"https://github.com/matthiasprobst/h5RDMtoolbox/blob/dev/h5rdmtoolbox/data/iri_icon.png?raw=true\" alt=\" [IRI]\" width=\"16\" height=\"16\" /></a> : /contact</li><li style=\"list-style-type: none; font-style: italic\">output<a href=\"http://purl.obolibrary.org/obo/RO_0002234\"><img src=\"https://github.com/matthiasprobst/h5RDMtoolbox/blob/dev/h5rdmtoolbox/data/iri_icon.png?raw=true\" alt=\" [IRI]\" width=\"16\" height=\"16\" /></a> : /random_velocity</li><li style=\"list-style-type: none; font-style: italic\">start_time<a href=\"https://schema.org/startTime\"><img src=\"https://github.com/matthiasprobst/h5RDMtoolbox/blob/dev/h5rdmtoolbox/data/iri_icon.png?raw=true\" alt=\" [IRI]\" width=\"16\" height=\"16\" /></a> : 2024-01-02T14:55:04.600987</li>\n",
       "                    </ul>\n",
       "</li>\n",
       "</ul>\n",
       "</li>\n",
       "</ul>\n",
       "</div>"
      ],
      "text/plain": [
       "<IPython.core.display.HTML object>"
      ]
     },
     "metadata": {},
     "output_type": "display_data"
    }
   ],
   "source": [
    "h5tbx.dump(hdf_filename, collapsed=False)"
   ]
  },
  {
   "cell_type": "markdown",
   "id": "f13b8cc2-bc67-42d1-8f5b-ebe1b08161fe",
   "metadata": {},
   "source": [
    "### 2. JSON-LD extraction"
   ]
  },
  {
   "cell_type": "code",
   "execution_count": 19,
   "id": "7b58e520-046d-4f5d-b1ab-c21f691ae992",
   "metadata": {},
   "outputs": [],
   "source": [
    "from h5rdmtoolbox import jsonld as h5tbxjld"
   ]
  },
  {
   "cell_type": "code",
   "execution_count": 20,
   "id": "ec944a41-6988-4c1a-9caf-da12eb4856ad",
   "metadata": {},
   "outputs": [
    {
     "name": "stdout",
     "output_type": "stream",
     "text": [
      "{\n",
      "  \"@graph\": [\n",
      "    {\n",
      "      \"@id\": \"file://./tmp2/\",\n",
      "      \"https://w3id.org/okn/o/sd#SoftwareVersion\": \"1.0.2\"\n",
      "    },\n",
      "    {\n",
      "      \"@id\": \"file://./tmp2/contact\",\n",
      "      \"@type\": \"http://xmlns.com/foaf/0.1/Person\",\n",
      "      \"http://xmlns.com/foaf/0.1/firstName\": \"Matthias\",\n",
      "      \"http://w3id.org/nfdi4ing/metadata4ing#orcidId\": \"https://orcid.org/0000-0001-8729-0482\"\n",
      "    },\n",
      "    {\n",
      "      \"@id\": \"file://./tmp2/proc_random_number\",\n",
      "      \"@type\": \"http://w3id.org/nfdi4ing/metadata4ing#ProcessingStep\",\n",
      "      \"https://schema.org/startTime\": \"2024-01-02T14:55:04.600987\",\n",
      "      \"http://purl.obolibrary.org/obo/RO_0000057\": \"file://./tmp2/contact\",\n",
      "      \"http://purl.obolibrary.org/obo/RO_0002234\": \"file://./tmp2/random_velocity\"\n",
      "    },\n",
      "    {\n",
      "      \"@id\": \"file://./tmp2/random_velocity\",\n",
      "      \"http://w3id.org/nfdi4ing/metadata4ing#hasKindOfQuantity\": \"https://qudt.org/vocab/quantitykind/Velocity\",\n",
      "      \"http://w3id.org/nfdi4ing/metadata4ing#hasUnit\": \"https://qudt.org/vocab/unit/M-PER-SEC\"\n",
      "    }\n",
      "  ]\n",
      "}\n"
     ]
    }
   ],
   "source": [
    "print(h5tbxjld.dumps(hdf_filename, indent=2))"
   ]
  },
  {
   "cell_type": "markdown",
   "id": "cb89a8fe-0d8e-4a49-8627-1b887f04d152",
   "metadata": {},
   "source": [
    "## 3. Access IRI in code\n",
    "\n",
    "You may want to access the IRI of an attribute with the Python:"
   ]
  },
  {
   "cell_type": "code",
   "execution_count": 34,
   "id": "77a35de3-b332-4e4f-b52d-324e9f02465c",
   "metadata": {},
   "outputs": [],
   "source": [
    "with h5tbx.File(hdf_filename) as h5:\n",
    "    person_iri = h5.contact.iri.subject\n",
    "    orcid_iri = h5.contact.iri['orcid']"
   ]
  },
  {
   "cell_type": "code",
   "execution_count": 36,
   "id": "36af4e53-a34b-4140-9e26-7205183b776e",
   "metadata": {},
   "outputs": [
    {
     "data": {
      "text/plain": [
       "rdflib.term.URIRef('http://xmlns.com/foaf/0.1/Person')"
      ]
     },
     "execution_count": 36,
     "metadata": {},
     "output_type": "execute_result"
    }
   ],
   "source": [
    "person_iri"
   ]
  },
  {
   "cell_type": "code",
   "execution_count": 37,
   "id": "ac5daa0d-c51b-4331-b53b-db916005fc2a",
   "metadata": {},
   "outputs": [
    {
     "data": {
      "text/plain": [
       "{'predicate': 'http://w3id.org/nfdi4ing/metadata4ing#orcidId', 'object': None}"
      ]
     },
     "execution_count": 37,
     "metadata": {},
     "output_type": "execute_result"
    }
   ],
   "source": [
    "orcid_iri"
   ]
  }
 ],
 "metadata": {
  "kernelspec": {
   "display_name": "Python 3 (ipykernel)",
   "language": "python",
   "name": "python3"
  },
  "language_info": {
   "codemirror_mode": {
    "name": "ipython",
    "version": 3
   },
   "file_extension": ".py",
   "mimetype": "text/x-python",
   "name": "python",
   "nbconvert_exporter": "python",
   "pygments_lexer": "ipython3",
   "version": "3.8.18"
  }
 },
 "nbformat": 4,
 "nbformat_minor": 5
}
