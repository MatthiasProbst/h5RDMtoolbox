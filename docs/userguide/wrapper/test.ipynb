{
 "cells": [
  {
   "cell_type": "code",
   "execution_count": 1,
   "id": "3e566620-b32c-463e-815c-8f99177ce82c",
   "metadata": {},
   "outputs": [
    {
     "name": "stdout",
     "output_type": "stream",
     "text": [
      "Failed to import module h5tbx\n"
     ]
    }
   ],
   "source": [
    "import h5rdmtoolbox as h5tbx"
   ]
  },
  {
   "cell_type": "code",
   "execution_count": 2,
   "id": "84c81cd9-bf2f-43b6-a86e-e7f20586eaab",
   "metadata": {},
   "outputs": [],
   "source": [
    "from ontolutils import SSNO, Thing"
   ]
  },
  {
   "cell_type": "code",
   "execution_count": 3,
   "id": "b2013cb3-6e2f-4a00-bd4b-629c84f39313",
   "metadata": {},
   "outputs": [],
   "source": [
    "from pivmetalib import ssno"
   ]
  },
  {
   "cell_type": "code",
   "execution_count": 4,
   "id": "afd5d8a3-7dc2-45fc-bdfd-46aa8ff0e049",
   "metadata": {},
   "outputs": [
    {
     "data": {
      "text/html": [
       "StandardNameTable(hasStandardNames=[StandardName(description=a desc), StandardName(description=b desc)])"
      ],
      "text/plain": [
       "StandardNameTable(hasStandardNames=[StandardName(description=a desc), StandardName(description=b desc)])"
      ]
     },
     "execution_count": 4,
     "metadata": {},
     "output_type": "execute_result"
    }
   ],
   "source": [
    "snt = ssno.StandardNameTable(\n",
    "    hasStandardNames=[ssno.StandardName(description='a desc'),\n",
    "                      ssno.StandardName(description='b desc')])\n",
    "snt"
   ]
  },
  {
   "cell_type": "code",
   "execution_count": 5,
   "id": "fc24f4e3-8e95-4341-99eb-842f2cfcf019",
   "metadata": {},
   "outputs": [
    {
     "data": {
      "text/html": [
       "StandardName(canonical_units=http://qudt.org/vocab/unit/M-PER-SEC, standard_name=y_velocity, description=A y vel, standard_name_table=StandardNameTable(\"None\"))"
      ],
      "text/plain": [
       "StandardName(canonical_units=http://qudt.org/vocab/unit/M-PER-SEC, standard_name=y_velocity, description=A y vel, standard_name_table=StandardNameTable(\"None\"))"
      ]
     },
     "execution_count": 5,
     "metadata": {},
     "output_type": "execute_result"
    }
   ],
   "source": [
    "yvel = ssno.StandardName(standard_name='y_velocity',\n",
    "                         description='A y vel',\n",
    "                         canonicalUnits='m/s',\n",
    "                         standard_name_table=ssno.StandardNameTable(identifier='https://doi.org/10.5281/zenodo.10428817'))\n",
    "yvel"
   ]
  },
  {
   "cell_type": "code",
   "execution_count": 6,
   "id": "de211e97-fdb3-4807-8e8e-c424f11a914c",
   "metadata": {
    "scrolled": true
   },
   "outputs": [
    {
     "data": {
      "text/html": [
       "StandardName(canonical_units=http://qudt.org/vocab/unit/M-PER-SEC, standard_name=x_velocity, description=A x vel, standard_name_table=StandardNameTable(\"None\"))"
      ],
      "text/plain": [
       "StandardName(canonical_units=http://qudt.org/vocab/unit/M-PER-SEC, standard_name=x_velocity, description=A x vel, standard_name_table=StandardNameTable(\"None\"))"
      ]
     },
     "execution_count": 6,
     "metadata": {},
     "output_type": "execute_result"
    }
   ],
   "source": [
    "xvel = ssno.StandardName(standard_name='x_velocity',\n",
    "                         description='A x vel',\n",
    "                         canonicalUnits='m/s',\n",
    "                         standard_name_table=ssno.StandardNameTable(identifier='https://doi.org/10.5281/zenodo.10428817'))\n",
    "xvel"
   ]
  },
  {
   "cell_type": "code",
   "execution_count": 7,
   "id": "76c87a01-5d50-4854-9787-c9f3544d22db",
   "metadata": {},
   "outputs": [],
   "source": [
    "xvel = ssno.StandardName(standard_name_table=ssno.StandardNameTable(identifier='https://doi.org/10.5281/zenodo.10428817'))\n",
    "yvel = ssno.StandardName(standard_name_table=ssno.StandardNameTable(identifier='https://doi.org/10.5281/zenodo.10428817'))"
   ]
  },
  {
   "cell_type": "code",
   "execution_count": 8,
   "id": "9a429ed8-07a0-4e30-a8ad-40ed47eb7edc",
   "metadata": {},
   "outputs": [],
   "source": [
    "# thing = Thing(canonical_units='m/s', description='The x velocity')\n",
    "# thing.urirefs['canonical_units'] = 'ex:canonical_units'\n",
    "# thing.namespaces['ex'] = 'https://example.org/'"
   ]
  },
  {
   "cell_type": "code",
   "execution_count": 9,
   "id": "8dcb8f4b-dce1-41d3-be47-f676f3616e9d",
   "metadata": {},
   "outputs": [
    {
     "name": "stderr",
     "output_type": "stream",
     "text": [
      "C:\\Users\\da4323\\Anaconda3\\envs\\h5tbx\\lib\\site-packages\\pydantic\\main.py:314: UserWarning: Pydantic serializer warnings:\n",
      "  Expected `url` but got `str` - serialized value may not be as expected\n",
      "  return self.__pydantic_serializer__.to_python(\n"
     ]
    },
    {
     "data": {
      "text/html": [
       "<head><style>/*\r\n",
       "CSS inspired by xarray: https://github.com/pydata/xarray\r\n",
       "*/\r\n",
       ".h5tb-header > div,\r\n",
       ".h5tb-header > ul {\r\n",
       "    display: inline;\r\n",
       "    margin-top: 0;\r\n",
       "    margin-bottom: 0;\r\n",
       "}\r\n",
       "\r\n",
       ".h5tb-dataarray-cls,\r\n",
       ".h5tb-dataarray-name {\r\n",
       "    margin-left: 2px;\r\n",
       "    margin-right: 10px;\r\n",
       "}\r\n",
       "\r\n",
       ".h5tb-dataarray-name {\r\n",
       "    color: #000;\r\n",
       "}\r\n",
       "\r\n",
       ".h5grp-sections {\r\n",
       "    list-style: none;\r\n",
       "    padding: 3px;\r\n",
       "    margin: 0;\r\n",
       "}\r\n",
       "\r\n",
       ".h5grp-sections input {\r\n",
       "    display: none;\r\n",
       "}\r\n",
       "\r\n",
       ".h5grp-sections label {\r\n",
       "    display: inline;\r\n",
       "}\r\n",
       "\r\n",
       ".h5grp-sections > li > input + label > span {\r\n",
       "    display: inline;\r\n",
       "    margin-left: 4px;\r\n",
       "}\r\n",
       "\r\n",
       ".h5grp-sections > li > input:checked + label > span {\r\n",
       "    display: none;\r\n",
       "}\r\n",
       "\r\n",
       ".h5grp-sections input:enabled + label {\r\n",
       "    cursor: pointer;\r\n",
       "}\r\n",
       "\r\n",
       ".h5grp-sections input:not(.h5tb-values-in) ~ ul {\r\n",
       "    display: none;\r\n",
       "}\r\n",
       "\r\n",
       ".h5grp-sections input:not(.h5tb-values-in):checked ~ ul {\r\n",
       "    display: block;\r\n",
       "}\r\n",
       "\r\n",
       ".h5grp-sections > li > input + label {\r\n",
       "    width: 140px;\r\n",
       "    color: #555;\r\n",
       "    font-weight: 500;\r\n",
       "    padding: 4px 0 2px 0;\r\n",
       "}\r\n",
       "\r\n",
       "\r\n",
       ".h5grp-sections > li > input + label:before {\r\n",
       "    display: inline-block;\r\n",
       "    content: '+';\r\n",
       "    font-size: 11px;\r\n",
       "    width: 15px;\r\n",
       "    text-align: center;\r\n",
       "}\r\n",
       "\r\n",
       ".h5grp-sections > li > input:disabled + label:before {\r\n",
       "    color: #777;\r\n",
       "}\r\n",
       "\r\n",
       ".h5grp-sections > li > input:checked + label:before {\r\n",
       "    content: '-';\r\n",
       "}\r\n",
       "\r\n",
       ".h5tb-dim-list {\r\n",
       "    display: inline-block !important;\r\n",
       "    list-style: none;\r\n",
       "    padding: 0;\r\n",
       "}\r\n",
       "\r\n",
       ".h5tb-dim-list li {\r\n",
       "    display: inline-block;\r\n",
       "    padding: 0;\r\n",
       "    margin: 0;\r\n",
       "}\r\n",
       "\r\n",
       ".h5tb-dim-list:before {\r\n",
       "    content: '(';\r\n",
       "}\r\n",
       "\r\n",
       ".h5tb-dim-list:after {\r\n",
       "    content: ')';\r\n",
       "}\r\n",
       "\r\n",
       ".h5tb-dim-list li:not(:last-child):after {\r\n",
       "    content: ',';\r\n",
       "}\r\n",
       "\r\n",
       ".h5tb-has-index {\r\n",
       "    text-decoration: underline;\r\n",
       "}\r\n",
       "\r\n",
       ".h5tb-var-list {\r\n",
       "    list-style: none;\r\n",
       "    padding: 0;\r\n",
       "    margin: 0;\r\n",
       "}\r\n",
       "\r\n",
       ".h5tb-var-list > li {\r\n",
       "    background-color: #fcfcfc;\r\n",
       "    overflow: hidden;\r\n",
       "}\r\n",
       "\r\n",
       ".h5tb-var-list > li:nth-child(odd) {\r\n",
       "    background-color: #efefef;\r\n",
       "}\r\n",
       "\r\n",
       ".h5tb-var-list li:hover {\r\n",
       "    background-color: rgba(3, 169, 244, .2);\r\n",
       "}\r\n",
       "\r\n",
       ".h5tb-var-list li > span {\r\n",
       "    display: inline-block;\r\n",
       "}\r\n",
       "\r\n",
       "input.h5tb-varname-in + label {\r\n",
       "    width: 140px;\r\n",
       "    padding-left: 0;\r\n",
       "    font-weight: bold;\r\n",
       "}\r\n",
       "\r\n",
       ".h5tb-dataset {\r\n",
       "    width: 100px;\r\n",
       "}\r\n",
       "\r\n",
       ".h5tb-attributevalue {\r\n",
       "    width: 100px;\r\n",
       "    text-align: left;\r\n",
       "    color: #888;\r\n",
       "    white-space: nowrap;\r\n",
       "    font-size: 12px;\r\n",
       "}\r\n",
       "\r\n",
       "input.h5tb-varname-in + label:before {\r\n",
       "    content: ' ';\r\n",
       "    display: inline-block;\r\n",
       "    font-size: 11px;\r\n",
       "    width: 15px;\r\n",
       "    padding-left: 2px;\r\n",
       "    padding-right: 2px;\r\n",
       "    text-align: center;\r\n",
       "    color: #aaa;\r\n",
       "    text-decoration: none !important;\r\n",
       "}\r\n",
       "\r\n",
       "input.h5tb-varname-in:enabled + label:hover:before {\r\n",
       "    color: #000;\r\n",
       "}\r\n",
       "\r\n",
       "input.h5tb-varname-in:checked + label:before {\r\n",
       "    color: #ccc;\r\n",
       "}\r\n",
       "\r\n",
       ".h5tb-dims {\r\n",
       "    width: 280px;\r\n",
       "    white-space: nowrap;\r\n",
       "}\r\n",
       "\r\n",
       ".h5tb-attr-list {\r\n",
       "    list-style: none;\r\n",
       "    background-color: rgba(0,0,0,.0);\r\n",
       "    padding-bottom: 6px;\r\n",
       "    color: #6a6c73;\r\n",
       "}\r\n",
       "\r\n",
       ".h5tb-attr-list li,\r\n",
       ".h5tb-attr-list li:hover {\r\n",
       "    background-color: rgba(0,0,0,.0);\r\n",
       "}\r\n",
       "\r\n",
       "\r\n",
       "/* Tooltip container */\r\n",
       ".tooltip {\r\n",
       "position: relative;\r\n",
       "display: inline-block;\r\n",
       "cursor: pointer;\r\n",
       "}\r\n",
       "\r\n",
       "/* Tooltip text */\r\n",
       ".tooltip .tooltiptext {\r\n",
       "visibility: hidden;\r\n",
       "width: 300px;\r\n",
       "background-color: #555;\r\n",
       "color: #fff;\r\n",
       "text-align: center;\r\n",
       "border-radius: 6px;\r\n",
       "padding: 5px;\r\n",
       "position: absolute;\r\n",
       "z-index: 1;\r\n",
       "bottom: 125%;\r\n",
       "left: 50%;\r\n",
       "margin-left: -60px;\r\n",
       "opacity: 0;\r\n",
       "transition: opacity 0.3s;\r\n",
       "}\r\n",
       "\r\n",
       "/* Show the tooltip on hover */\r\n",
       ".tooltip:hover .tooltiptext {\r\n",
       "visibility: visible;\r\n",
       "opacity:  1;\r\n",
       "}</style></head>\n",
       "<div class='h5tb-warp'>\n",
       "\n",
       "              <ul style=\"list-style-type: none;\" class=\"h5grp-sections\">\n",
       "                    <li>\n",
       "                        <input id=\"group-ds--5651491900\" type=\"checkbox\" checked>\n",
       "                        <label style=\"font-weight: bold\" for=\"group-ds--5651491900\">\n",
       "                        /<span>(3)</span></label>\n",
       "                  \n",
       "\n",
       "                    <ul class=\"h5tb-attr-list\">\n",
       "                    </ul>\n",
       "\n",
       "                <ul id=\"ds-1-/u-5652355900\" class=\"h5tb-var-list\">\n",
       "                <input id=\"ds-2-/u-5652358200\" class=\"h5tb-varname-in\" type=\"checkbox\" checked>\n",
       "                <label class='h5tb-varname' for=\"ds-2-/u-5652358200\">u</label>\n",
       "                <span class=\"h5tb-dims\">3 [] (int32)</span>\n",
       "                <ul class=\"h5tb-attr-list\"><li style=\"list-style-type: none; font-style: italic\">standard_name<a href=\"https://matthiasprobst.github.io/ssno#hasStandardName\" target=\"_blank\" class=\"tooltip\"> <img class=\"size_of_img\" src=\"https://github.com/matthiasprobst/h5RDMtoolbox/blob/dev/h5rdmtoolbox/data/iri_icon.png?raw=true\" alt=\"IRI_ICON\" width=\"16\" height=\"16\" /> <span class=\"tooltiptext\">https://matthiasprobst.github.io/ssno#hasStandardName</span></a> : xvel<div class=\"tooltip\"><img class=\"size_of_img\" src=\"https://github.com/matthiasprobst/h5RDMtoolbox/blob/dev/h5rdmtoolbox/data/iri_icon.png?raw=true\" alt=\"IRI_ICON\" width=\"16\" height=\"16\" /><span class=\"tooltiptext\">ssno:StandardName(standardNameTable={})</span></div></li>\n",
       "                </ul>\n",
       "                </ul>\n",
       "\n",
       "                <ul id=\"ds-1-/v-5793257000\" class=\"h5tb-var-list\">\n",
       "                <input id=\"ds-2-/v-5793259900\" class=\"h5tb-varname-in\" type=\"checkbox\" checked>\n",
       "                <label class='h5tb-varname' for=\"ds-2-/v-5793259900\">v</label>\n",
       "                <span class=\"h5tb-dims\">3 [] (int32)</span>\n",
       "                <ul class=\"h5tb-attr-list\"><li style=\"list-style-type: none; font-style: italic\">standard_name<a href=\"https://matthiasprobst.github.io/ssno#hasStandardName\" target=\"_blank\" class=\"tooltip\"> <img class=\"size_of_img\" src=\"https://github.com/matthiasprobst/h5RDMtoolbox/blob/dev/h5rdmtoolbox/data/iri_icon.png?raw=true\" alt=\"IRI_ICON\" width=\"16\" height=\"16\" /> <span class=\"tooltiptext\">https://matthiasprobst.github.io/ssno#hasStandardName</span></a> : y_velocity<div class=\"tooltip\"><img class=\"size_of_img\" src=\"https://github.com/matthiasprobst/h5RDMtoolbox/blob/dev/h5rdmtoolbox/data/iri_icon.png?raw=true\" alt=\"IRI_ICON\" width=\"16\" height=\"16\" /><span class=\"tooltiptext\">ssno:StandardName(standardNameTable={})</span></div></li>\n",
       "                </ul>\n",
       "                </ul>\n",
       "\n",
       "              <ul style=\"list-style-type: none;\" class=\"h5grp-sections\">\n",
       "                    <li>\n",
       "                        <input id=\"group-ds-h5rdmtoolbox-5849207000\" type=\"checkbox\" checked>\n",
       "                        <label style=\"font-weight: bold\" for=\"group-ds-h5rdmtoolbox-5849207000\">\n",
       "                        h5rdmtoolbox<a href=\"https://schema.org/SoftwareSourceCode\" target=\"_blank\" class=\"tooltip\"> <img class=\"size_of_img\" src=\"https://github.com/matthiasprobst/h5RDMtoolbox/blob/dev/h5rdmtoolbox/data/iri_icon.png?raw=true\" alt=\"IRI_ICON\" width=\"16\" height=\"16\" /> <span class=\"tooltiptext\">@type: https://schema.org/SoftwareSourceCode</span></a><span>(0)</span></label>\n",
       "                  \n",
       "\n",
       "                    <ul class=\"h5tb-attr-list\"><li style=\"list-style-type: none; font-style: italic\">__h5rdmtoolbox_version__<a href=\"https://schema.org/softwareVersion\" target=\"_blank\" class=\"tooltip\"> <img class=\"size_of_img\" src=\"https://github.com/matthiasprobst/h5RDMtoolbox/blob/dev/h5rdmtoolbox/data/iri_icon.png?raw=true\" alt=\"IRI_ICON\" width=\"16\" height=\"16\" /> <span class=\"tooltiptext\">https://schema.org/softwareVersion</span></a> : 1.2.3a2</li><li style=\"list-style-type: none; font-style: italic\">code_repository<a href=\"https://schema.org/codeRepository\" target=\"_blank\" class=\"tooltip\"> <img class=\"size_of_img\" src=\"https://github.com/matthiasprobst/h5RDMtoolbox/blob/dev/h5rdmtoolbox/data/iri_icon.png?raw=true\" alt=\"IRI_ICON\" width=\"16\" height=\"16\" /> <span class=\"tooltiptext\">https://schema.org/codeRepository</span></a> : <a href=\"https://github.com/matthiasprobst/h5RDMtoolbox\">https://github.com/matthiasprobst/h5RDMtoolbox</a></li>\n",
       "                    </ul>\n",
       "</li>\n",
       "</ul>\n",
       "</li>\n",
       "</ul>\n",
       "</div>"
      ],
      "text/plain": [
       "<IPython.core.display.HTML object>"
      ]
     },
     "metadata": {},
     "output_type": "display_data"
    }
   ],
   "source": [
    "with h5tbx.File(mode='w') as h5:\n",
    "    ds = h5.create_dataset('u', data=3)\n",
    "    ds.attrs['standard_name', SSNO.hasStandardName] = 'xvel'\n",
    "    ds.rdf.object['standard_name'] = xvel\n",
    "    # ds.rdf.object['standard_name'] = snt\n",
    "    \n",
    "    ds = h5.create_dataset('v', data=3)\n",
    "    ds.attrs['standard_name', SSNO.hasStandardName] = 'y_velocity'\n",
    "    ds.rdf.object['standard_name'] = yvel\n",
    "    h5.dump(collapsed=False)\n",
    "\n",
    "hdf_filename = h5.hdf_filename"
   ]
  },
  {
   "cell_type": "code",
   "execution_count": 10,
   "id": "14a51605-e8d7-4430-a43d-9aef0226cdc9",
   "metadata": {},
   "outputs": [],
   "source": [
    "from pprint import pprint"
   ]
  },
  {
   "cell_type": "code",
   "execution_count": 11,
   "id": "adae35ae-4224-49c8-baf1-0242974e0fa5",
   "metadata": {},
   "outputs": [
    {
     "name": "stdout",
     "output_type": "stream",
     "text": [
      "{'@context': {'dcat': 'http://www.w3.org/ns/dcat#',\n",
      "              'dcterms': 'http://purl.org/dc/terms/',\n",
      "              'owl': 'http://www.w3.org/2002/07/owl#',\n",
      "              'prov': 'http://www.w3.org/ns/prov#',\n",
      "              'rdfs': 'http://www.w3.org/2000/01/rdf-schema#',\n",
      "              'skos': 'http://www.w3.org/2004/02/skos/core#',\n",
      "              'ssno': 'https://matthiasprobst.github.io/ssno#',\n",
      "              'standard_name_table': 'https://matthiasprobst.github.io/ssno#standardNameTable'},\n",
      " '@type': 'ssno:StandardName',\n",
      " 'standard_name_table': {'@type': 'ssno:StandardNameTable'}}\n"
     ]
    }
   ],
   "source": [
    "with h5tbx.File(hdf_filename, mode='r') as h5:\n",
    "    pprint(h5.u.rdf.object['standard_name'])"
   ]
  },
  {
   "cell_type": "code",
   "execution_count": 12,
   "id": "4b4e2383-0628-4094-89a0-a07123e6994f",
   "metadata": {},
   "outputs": [],
   "source": [
    "from rdflib.plugins.shared.jsonld.context import Context"
   ]
  },
  {
   "cell_type": "code",
   "execution_count": 13,
   "id": "dd710b9f-a175-40b8-bd52-1550cfe1d1f8",
   "metadata": {},
   "outputs": [],
   "source": [
    "jsonld = h5tbx.dump_jsonld(h5.hdf_filename,\n",
    "                           structural=True,\n",
    "                           compact=True,\n",
    "                           resolve_keys=True,\n",
    "                           context={'ssno': 'https://matthiasprobst.github.io/ssno#'})"
   ]
  },
  {
   "cell_type": "markdown",
   "id": "b8264405-e51a-42f7-a8f6-7f68b145cb72",
   "metadata": {},
   "source": [
    "Find dataset with standard name \"x_velocity\""
   ]
  },
  {
   "cell_type": "code",
   "execution_count": 14,
   "id": "08aabba3-dca5-4cd6-960e-89bfdfd8d424",
   "metadata": {},
   "outputs": [],
   "source": [
    "import rdflib\n",
    "\n",
    "def find_dataset_with_standard_name(standard_name: str):\n",
    "    s = f\"\"\"PREFIX ssno: <https://matthiasprobst.github.io/ssno#>\n",
    "    PREFIX hdf5: <http://purl.allotrope.org/ontologies/hdf5/1.8#>\n",
    "    \n",
    "    SELECT ?h5name\n",
    "    WHERE {{\n",
    "        ?h5obj a hdf5:Dataset .\n",
    "        ?h5obj hdf5:name ?h5name .\n",
    "        ?h5obj ssno:hasStandardName ?sn .\n",
    "        ?sn a ssno:StandardName .\n",
    "        ?sn ssno:standard_name \"{standard_name}\" .\n",
    "    }}\n",
    "    \"\"\"\n",
    "    g = rdflib.Graph().parse(data=jsonld, format='json-ld')\n",
    "    return [r[0] for r in g.query(s)]\n",
    "\n",
    "def find_one_dataset_with_standard_name(standard_name: str):\n",
    "    s = f\"\"\"PREFIX ssno: <https://matthiasprobst.github.io/ssno#>\n",
    "    PREFIX hdf5: <http://purl.allotrope.org/ontologies/hdf5/1.8#>\n",
    "    \n",
    "    SELECT ?h5name\n",
    "    WHERE {{\n",
    "        ?h5obj a hdf5:Dataset .\n",
    "        ?h5obj hdf5:name ?h5name .\n",
    "        ?h5obj ssno:hasStandardName ?sn .\n",
    "        ?sn a ssno:StandardName .\n",
    "        ?sn ssno:standard_name \"{standard_name}\" .\n",
    "    }}\n",
    "    \"\"\"\n",
    "    g = rdflib.Graph().parse(data=jsonld, format='json-ld')\n",
    "    for r in g.query(s):\n",
    "        return str(r[0])\n",
    "\n",
    "def find_dataset_with_part_standard_name(substring_name: str):\n",
    "    s = f\"\"\"PREFIX ssno: <https://matthiasprobst.github.io/ssno#>\n",
    "    PREFIX hdf5: <http://purl.allotrope.org/ontologies/hdf5/1.8#>\n",
    "    \n",
    "    SELECT ?h5name\n",
    "    WHERE {{\n",
    "        ?h5obj a hdf5:Dataset .\n",
    "        ?h5obj hdf5:name ?h5name .\n",
    "        ?h5obj ssno:hasStandardName ?sn .\n",
    "        ?sn a ssno:StandardName .\n",
    "        ?sn ssno:standard_name ?standard_name .\n",
    "        FILTER (CONTAINS(?standard_name, \"{substring_name}\"))\n",
    "    }}\n",
    "    \"\"\"\n",
    "    g = rdflib.Graph().parse(data=jsonld, format='json-ld')\n",
    "    return [str(r[0]) for r in g.query(s)]"
   ]
  },
  {
   "cell_type": "code",
   "execution_count": 15,
   "id": "f2b1e555-ffc3-43a3-96a5-c81e5c22ff2e",
   "metadata": {},
   "outputs": [],
   "source": [
    "# print(jsonld)"
   ]
  },
  {
   "cell_type": "code",
   "execution_count": 16,
   "id": "77023f2d-3698-450f-ba9b-9a313f62106b",
   "metadata": {},
   "outputs": [],
   "source": [
    "class JSONLD:\n",
    "    def __init__(self, filename):\n",
    "        self.jsonld = h5tbx.dump_jsonld(filename)\n",
    "        self.g = rdflib.Graph().parse(data=self.jsonld, format='json-ld')\n",
    "\n",
    "    def find_one_dataset_with_standard_name(self, standard_name: str):\n",
    "        \"\"\"This finds the dataset based on the stanard name attribute string or its StandardName instance\"\"\"\n",
    "        for r in self._find_dataset_with_standard_name(standard_name):\n",
    "            return str(r[0])\n",
    "\n",
    "    def find_dataset_with_standard_name(self, standard_name: str):\n",
    "        \"\"\"This finds the dataset based on the stanard name attribute string or its StandardName instance\"\"\"\n",
    "        return [str(r[0]) for r in self._find_dataset_with_standard_name(standard_name)]\n",
    "\n",
    "    def _find_dataset_with_standard_name(self, standard_name: str):\n",
    "        \"\"\"This finds the dataset based on the stanard name attribute string or its StandardName instance\"\"\"\n",
    "        s = f\"\"\"PREFIX ssno: <https://matthiasprobst.github.io/ssno#>\n",
    "        PREFIX hdf5: <http://purl.allotrope.org/ontologies/hdf5/1.8#>\n",
    "        \n",
    "        SELECT ?name\n",
    "        WHERE {{\n",
    "        ?subject a hdf5:Dataset ;\n",
    "            hdf5:name ?name ;\n",
    "          {{ ?subject ssno:hasStandardName \"{standard_name}\" . }}\n",
    "          UNION\n",
    "          {{ ?subject  ssno:hasStandardName ?sn .\n",
    "             ?sn a ssno:StandardName ;\n",
    "                 ssno:standard_name \"{standard_name}\" .\n",
    "          }}\n",
    "        }}\n",
    "        \"\"\"\n",
    "        return self.g.query(s)\n",
    "            \n",
    "    def destinct_standard_names(self):\n",
    "        s = \"\"\"PREFIX ssno: <https://matthiasprobst.github.io/ssno#>\n",
    "        PREFIX hdf5: <http://purl.allotrope.org/ontologies/hdf5/1.8#>\n",
    "        \n",
    "        SELECT ?standard_name\n",
    "        WHERE {\n",
    "            ?subject a hdf5:Dataset ;\n",
    "                     ssno:hasStandardName ?sn .\n",
    "            ?sn a ssno:StandardName ;\n",
    "                     ssno:standard_name ?standard_name\n",
    "        }\n",
    "        \"\"\"\n",
    "        return [str(r[0]) for r in self.g.query(s)]"
   ]
  },
  {
   "cell_type": "code",
   "execution_count": 17,
   "id": "632adac1-a1f9-4f85-ac07-eb5384e73adc",
   "metadata": {},
   "outputs": [
    {
     "data": {
      "text/plain": [
       "['/u']"
      ]
     },
     "execution_count": 17,
     "metadata": {},
     "output_type": "execute_result"
    }
   ],
   "source": [
    "JSONLD(hdf_filename).find_dataset_with_standard_name('xvel')"
   ]
  },
  {
   "cell_type": "code",
   "execution_count": 18,
   "id": "c13dc614-f121-4feb-98b1-54126950286e",
   "metadata": {},
   "outputs": [
    {
     "data": {
      "text/plain": [
       "'/u'"
      ]
     },
     "execution_count": 18,
     "metadata": {},
     "output_type": "execute_result"
    }
   ],
   "source": [
    "JSONLD(hdf_filename).find_one_dataset_with_standard_name('xvel')"
   ]
  },
  {
   "cell_type": "code",
   "execution_count": 19,
   "id": "4c8923db-8813-4782-9f8e-7932a1010df7",
   "metadata": {},
   "outputs": [],
   "source": [
    "JSONLD(hdf_filename).find_one_dataset_with_standard_name('x_velocity')"
   ]
  },
  {
   "cell_type": "code",
   "execution_count": 20,
   "id": "3015ff69-310f-40f6-b3e4-3626a4e3d747",
   "metadata": {},
   "outputs": [
    {
     "data": {
      "text/plain": [
       "'/v'"
      ]
     },
     "execution_count": 20,
     "metadata": {},
     "output_type": "execute_result"
    }
   ],
   "source": [
    "JSONLD(hdf_filename).find_one_dataset_with_standard_name('y_velocity')"
   ]
  },
  {
   "cell_type": "code",
   "execution_count": 21,
   "id": "7ba6c77e-1673-4271-90e1-ccd7b5c3892d",
   "metadata": {},
   "outputs": [
    {
     "data": {
      "text/plain": [
       "[]"
      ]
     },
     "execution_count": 21,
     "metadata": {},
     "output_type": "execute_result"
    }
   ],
   "source": [
    "JSONLD(hdf_filename).destinct_standard_names()"
   ]
  }
 ],
 "metadata": {
  "kernelspec": {
   "display_name": "Python 3 (ipykernel)",
   "language": "python",
   "name": "python3"
  },
  "language_info": {
   "codemirror_mode": {
    "name": "ipython",
    "version": 3
   },
   "file_extension": ".py",
   "mimetype": "text/x-python",
   "name": "python",
   "nbconvert_exporter": "python",
   "pygments_lexer": "ipython3",
   "version": "3.8.18"
  }
 },
 "nbformat": 4,
 "nbformat_minor": 5
}
