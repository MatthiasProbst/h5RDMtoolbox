{
 "cells": [
  {
   "cell_type": "markdown",
   "id": "4fb39971-92fa-4c19-a391-642236fc5afc",
   "metadata": {},
   "source": [
    "# Standard Name Convention\n",
    "\n",
    "This idea behind standard names is that data becomes interoperable by assigning it with the meta data (attribute) \"standard_name\". Consequently, any software that is aware of the naming convention can explore and process the data."
   ]
  },
  {
   "cell_type": "code",
   "execution_count": 1,
   "id": "3026a8e2-ebf6-48aa-9bd6-9d915b9672d9",
   "metadata": {
    "execution": {
     "iopub.execute_input": "2022-08-12T13:19:16.394387Z",
     "iopub.status.busy": "2022-08-12T13:19:16.394387Z",
     "iopub.status.idle": "2022-08-12T13:19:17.948616Z",
     "shell.execute_reply": "2022-08-12T13:19:17.948616Z"
    }
   },
   "outputs": [],
   "source": [
    "import h5rdmtoolbox as h5tbx"
   ]
  },
  {
   "cell_type": "markdown",
   "id": "74c72248-2b69-48f6-b556-4d1b25349752",
   "metadata": {},
   "source": [
    "Whenever a dataset is written and the parameter \"standard_name\" is set, it is verified against the standard name convention/table associated with the wrapper class. If the constant `STRICT` is set to True (default), the name is looked-up in the table and, if not found, the dataset cannot be written. To allow standard names, that fulfill the spelling requirements but are not yet listed in the table, set `STRICT` to False:"
   ]
  },
  {
   "cell_type": "code",
   "execution_count": 2,
   "id": "52a96fd3-318c-4e0a-8c57-82cfcb170480",
   "metadata": {
    "execution": {
     "iopub.execute_input": "2022-08-12T13:19:17.948616Z",
     "iopub.status.busy": "2022-08-12T13:19:17.948616Z",
     "iopub.status.idle": "2022-08-12T13:19:17.964734Z",
     "shell.execute_reply": "2022-08-12T13:19:17.964734Z"
    }
   },
   "outputs": [],
   "source": [
    "h5tbx.conventions.identifier.STRICT = False"
   ]
  },
  {
   "cell_type": "markdown",
   "id": "df618578-e7a9-4d42-8ebf-4b00ed1b53be",
   "metadata": {},
   "source": [
    "## Initialize a Standard Name Convention\n",
    "The class initially contains no standard names:"
   ]
  },
  {
   "cell_type": "code",
   "execution_count": 3,
   "id": "569b7ff4-5e17-4eda-9e8b-d449277f203e",
   "metadata": {
    "execution": {
     "iopub.execute_input": "2022-08-12T13:19:17.964734Z",
     "iopub.status.busy": "2022-08-12T13:19:17.964734Z",
     "iopub.status.idle": "2022-08-12T13:19:17.980411Z",
     "shell.execute_reply": "2022-08-12T13:19:17.980411Z"
    }
   },
   "outputs": [
    {
     "data": {
      "text/plain": [
       "Test_SNC (version number: 1)"
      ]
     },
     "execution_count": 3,
     "metadata": {},
     "output_type": "execute_result"
    }
   ],
   "source": [
    "sc = h5tbx.conventions.StandardizedNameTable(name='Test_SNC', table_dict={}, version_number=1, contact='contact@python.com', institution='my_institution')\n",
    "sc"
   ]
  },
  {
   "cell_type": "code",
   "execution_count": 4,
   "id": "9e4ce9fe-de0e-4e3c-9410-e5dc891294af",
   "metadata": {
    "execution": {
     "iopub.execute_input": "2022-08-12T13:19:17.980411Z",
     "iopub.status.busy": "2022-08-12T13:19:17.980411Z",
     "iopub.status.idle": "2022-08-12T13:19:17.996037Z",
     "shell.execute_reply": "2022-08-12T13:19:17.996037Z"
    }
   },
   "outputs": [
    {
     "data": {
      "text/plain": [
       "Test_SNC (version number: 1)"
      ]
     },
     "execution_count": 4,
     "metadata": {},
     "output_type": "execute_result"
    }
   ],
   "source": [
    "sc.set('time', canonical_units='s', description='physical time')\n",
    "sc.set('x_velocity', canonical_units='m/s', description='velocity is a vector quantity. x indicates the component in x-axis direction')\n",
    "sc.set('y_velocity', canonical_units='m/s', description='velocity is a vector quantity. y indicates the component in y-axis direction')\n",
    "sc.set('z_velocity', canonical_units='m/s', description='velocity is a vector quantity. z indicates the component in z-axis direction')\n",
    "sc"
   ]
  },
  {
   "cell_type": "markdown",
   "id": "f56735ed-1a7e-4772-aafe-8b8fe05a75b5",
   "metadata": {},
   "source": [
    "For notebooks, calling `dump()` prints the table in pretty html style:"
   ]
  },
  {
   "cell_type": "code",
   "execution_count": 5,
   "id": "2febe8ed-2b4c-449b-af63-471cfa1002bb",
   "metadata": {
    "execution": {
     "iopub.execute_input": "2022-08-12T13:19:17.996037Z",
     "iopub.status.busy": "2022-08-12T13:19:17.996037Z",
     "iopub.status.idle": "2022-08-12T13:19:18.011677Z",
     "shell.execute_reply": "2022-08-12T13:19:18.011677Z"
    }
   },
   "outputs": [
    {
     "data": {
      "text/html": [
       "<table border=\"1\" class=\"dataframe\">\n",
       "  <thead>\n",
       "    <tr style=\"text-align: right;\">\n",
       "      <th></th>\n",
       "      <th>description</th>\n",
       "      <th>canonical_units</th>\n",
       "    </tr>\n",
       "  </thead>\n",
       "  <tbody>\n",
       "    <tr>\n",
       "      <th>time</th>\n",
       "      <td>physical time</td>\n",
       "      <td>s</td>\n",
       "    </tr>\n",
       "    <tr>\n",
       "      <th>x_velocity</th>\n",
       "      <td>velocity is a vector quantity. x indicates the component in x-axis direction</td>\n",
       "      <td>m/s</td>\n",
       "    </tr>\n",
       "    <tr>\n",
       "      <th>y_velocity</th>\n",
       "      <td>velocity is a vector quantity. y indicates the component in y-axis direction</td>\n",
       "      <td>m/s</td>\n",
       "    </tr>\n",
       "    <tr>\n",
       "      <th>z_velocity</th>\n",
       "      <td>velocity is a vector quantity. z indicates the component in z-axis direction</td>\n",
       "      <td>m/s</td>\n",
       "    </tr>\n",
       "  </tbody>\n",
       "</table>"
      ],
      "text/plain": [
       "<IPython.core.display.HTML object>"
      ]
     },
     "metadata": {},
     "output_type": "display_data"
    }
   ],
   "source": [
    "sc.dump(sort_by='name')"
   ]
  },
  {
   "cell_type": "markdown",
   "id": "a2855d67-4e91-4d32-a173-c581f77b6b93",
   "metadata": {},
   "source": [
    "## Store Standard Name Convention to a XML file"
   ]
  },
  {
   "cell_type": "code",
   "execution_count": 6,
   "id": "7d29f972-b6c2-4a25-85cc-8d8c39f28154",
   "metadata": {
    "execution": {
     "iopub.execute_input": "2022-08-12T13:19:18.011677Z",
     "iopub.status.busy": "2022-08-12T13:19:18.011677Z",
     "iopub.status.idle": "2022-08-12T13:19:18.027300Z",
     "shell.execute_reply": "2022-08-12T13:19:18.027300Z"
    }
   },
   "outputs": [
    {
     "data": {
      "text/plain": [
       "WindowsPath('C:/Users/da4323/AppData/Local/h5rdmtoolbox/h5rdmtoolbox/tmp/tmp198/tmp0.xml')"
      ]
     },
     "execution_count": 6,
     "metadata": {},
     "output_type": "execute_result"
    }
   ],
   "source": [
    "xml_filename = h5tbx.generate_temporary_filename(suffix='.xml')\n",
    "sc.to_xml(xml_filename)"
   ]
  },
  {
   "cell_type": "markdown",
   "id": "9fa87fb5-04c1-4cb1-bae8-6a5f57339ad1",
   "metadata": {},
   "source": [
    "## Load Standard Name Convention from XML"
   ]
  },
  {
   "cell_type": "code",
   "execution_count": 7,
   "id": "be7625e3-349d-49bd-a14c-e9b2f220da91",
   "metadata": {
    "execution": {
     "iopub.execute_input": "2022-08-12T13:19:18.027300Z",
     "iopub.status.busy": "2022-08-12T13:19:18.027300Z",
     "iopub.status.idle": "2022-08-12T13:19:18.042965Z",
     "shell.execute_reply": "2022-08-12T13:19:18.042965Z"
    }
   },
   "outputs": [
    {
     "data": {
      "text/plain": [
       "Test_SNC (version number: 1)"
      ]
     },
     "execution_count": 7,
     "metadata": {},
     "output_type": "execute_result"
    }
   ],
   "source": [
    "sc_test = h5tbx.conventions.StandardizedNameTable.from_xml(xml_filename)\n",
    "sc_test"
   ]
  },
  {
   "cell_type": "markdown",
   "id": "1f23f296-6757-4ad8-9c43-1a3a383c185f",
   "metadata": {},
   "source": [
    "## Special Standard Name Convention\n",
    "There is already a specil convention provided by the repository for fluid problems. Note, that it is far from complete!"
   ]
  },
  {
   "cell_type": "code",
   "execution_count": 8,
   "id": "77408a34-933a-4dd7-aea5-460d2af5efa0",
   "metadata": {
    "execution": {
     "iopub.execute_input": "2022-08-12T13:19:18.042965Z",
     "iopub.status.busy": "2022-08-12T13:19:18.042965Z",
     "iopub.status.idle": "2022-08-12T13:19:18.058590Z",
     "shell.execute_reply": "2022-08-12T13:19:18.058590Z"
    }
   },
   "outputs": [
    {
     "data": {
      "text/html": [
       "<table border=\"1\" class=\"dataframe\">\n",
       "  <thead>\n",
       "    <tr style=\"text-align: right;\">\n",
       "      <th></th>\n",
       "      <th>canonical_units</th>\n",
       "      <th>description</th>\n",
       "    </tr>\n",
       "  </thead>\n",
       "  <tbody>\n",
       "    <tr>\n",
       "      <th>absolute_pressure</th>\n",
       "      <td>Pa</td>\n",
       "      <td>None</td>\n",
       "    </tr>\n",
       "    <tr>\n",
       "      <th>absolute_pressure_difference</th>\n",
       "      <td>Pa</td>\n",
       "      <td>None</td>\n",
       "    </tr>\n",
       "    <tr>\n",
       "      <th>ambient_temperature</th>\n",
       "      <td>K</td>\n",
       "      <td>None</td>\n",
       "    </tr>\n",
       "    <tr>\n",
       "      <th>dynamic_pressure</th>\n",
       "      <td>Pa</td>\n",
       "      <td>None</td>\n",
       "    </tr>\n",
       "    <tr>\n",
       "      <th>dynamic_pressure_difference</th>\n",
       "      <td>Pa</td>\n",
       "      <td>None</td>\n",
       "    </tr>\n",
       "    <tr>\n",
       "      <th>magnitude_of_velocity</th>\n",
       "      <td>m/s</td>\n",
       "      <td>Magnitude of the vector quantity velocity.</td>\n",
       "    </tr>\n",
       "    <tr>\n",
       "      <th>pressure</th>\n",
       "      <td>Pa</td>\n",
       "      <td>None</td>\n",
       "    </tr>\n",
       "    <tr>\n",
       "      <th>q_criterion</th>\n",
       "      <td>1/s**2</td>\n",
       "      <td>Three dimensional Q-Criterion</td>\n",
       "    </tr>\n",
       "    <tr>\n",
       "      <th>q_criterion_z</th>\n",
       "      <td>1/s**2</td>\n",
       "      <td>Two dimensional Q-Criterion in z plane.</td>\n",
       "    </tr>\n",
       "    <tr>\n",
       "      <th>sound_pressure</th>\n",
       "      <td>Pa</td>\n",
       "      <td>None</td>\n",
       "    </tr>\n",
       "    <tr>\n",
       "      <th>static_pressure</th>\n",
       "      <td>Pa</td>\n",
       "      <td>None</td>\n",
       "    </tr>\n",
       "    <tr>\n",
       "      <th>static_pressure_difference</th>\n",
       "      <td>Pa</td>\n",
       "      <td>None</td>\n",
       "    </tr>\n",
       "    <tr>\n",
       "      <th>temperature</th>\n",
       "      <td>K</td>\n",
       "      <td>None</td>\n",
       "    </tr>\n",
       "    <tr>\n",
       "      <th>time</th>\n",
       "      <td>s</td>\n",
       "      <td>physical time</td>\n",
       "    </tr>\n",
       "    <tr>\n",
       "      <th>total_pressure</th>\n",
       "      <td>Pa</td>\n",
       "      <td>None</td>\n",
       "    </tr>\n",
       "    <tr>\n",
       "      <th>total_pressure_difference</th>\n",
       "      <td>Pa</td>\n",
       "      <td>None</td>\n",
       "    </tr>\n",
       "    <tr>\n",
       "      <th>turbulent_kinetic_energy</th>\n",
       "      <td>m**2/s**2</td>\n",
       "      <td>None</td>\n",
       "    </tr>\n",
       "    <tr>\n",
       "      <th>x_coordinate</th>\n",
       "      <td>m</td>\n",
       "      <td>None</td>\n",
       "    </tr>\n",
       "    <tr>\n",
       "      <th>x_derivative_of_x_velocity</th>\n",
       "      <td>1/s</td>\n",
       "      <td>Derivative of x velocity in x axis direction.</td>\n",
       "    </tr>\n",
       "    <tr>\n",
       "      <th>x_derivative_of_y_velocity</th>\n",
       "      <td>1/s</td>\n",
       "      <td>Derivative of y velocity in x axis direction.</td>\n",
       "    </tr>\n",
       "    <tr>\n",
       "      <th>x_derivative_of_z_velocity</th>\n",
       "      <td>1/s</td>\n",
       "      <td>Derivative of z velocity in x axis direction.</td>\n",
       "    </tr>\n",
       "    <tr>\n",
       "      <th>x_velocity</th>\n",
       "      <td>m/s</td>\n",
       "      <td>velocity is a vector quantity. x indicates the component in x-axis direction</td>\n",
       "    </tr>\n",
       "    <tr>\n",
       "      <th>xx_reynolds_stress</th>\n",
       "      <td>m**2/s**2</td>\n",
       "      <td>None</td>\n",
       "    </tr>\n",
       "    <tr>\n",
       "      <th>xy_reynolds_stress</th>\n",
       "      <td>m**2/s**2</td>\n",
       "      <td>None</td>\n",
       "    </tr>\n",
       "    <tr>\n",
       "      <th>xz_reynolds_stress</th>\n",
       "      <td>m**2/s**2</td>\n",
       "      <td>None</td>\n",
       "    </tr>\n",
       "    <tr>\n",
       "      <th>y_coordinate</th>\n",
       "      <td>m</td>\n",
       "      <td>None</td>\n",
       "    </tr>\n",
       "    <tr>\n",
       "      <th>y_derivative_of_x_velocity</th>\n",
       "      <td>1/s</td>\n",
       "      <td>Derivative of x velocity in y axis direction.</td>\n",
       "    </tr>\n",
       "    <tr>\n",
       "      <th>y_derivative_of_y_velocity</th>\n",
       "      <td>1/s</td>\n",
       "      <td>Derivative of y velocity in y axis direction.</td>\n",
       "    </tr>\n",
       "    <tr>\n",
       "      <th>y_derivative_of_z_velocity</th>\n",
       "      <td>1/s</td>\n",
       "      <td>Derivative of z velocity in y axis direction.</td>\n",
       "    </tr>\n",
       "    <tr>\n",
       "      <th>y_velocity</th>\n",
       "      <td>m/s</td>\n",
       "      <td>velocity is a vector quantity. y indicates the component in y-axis direction</td>\n",
       "    </tr>\n",
       "    <tr>\n",
       "      <th>yx_reynolds_stress</th>\n",
       "      <td>m**2/s**2</td>\n",
       "      <td>None</td>\n",
       "    </tr>\n",
       "    <tr>\n",
       "      <th>yy_reynolds_stress</th>\n",
       "      <td>m**2/s**2</td>\n",
       "      <td>None</td>\n",
       "    </tr>\n",
       "    <tr>\n",
       "      <th>yz_reynolds_stress</th>\n",
       "      <td>m**2/s**2</td>\n",
       "      <td>None</td>\n",
       "    </tr>\n",
       "    <tr>\n",
       "      <th>z_coordinate</th>\n",
       "      <td>m</td>\n",
       "      <td>None</td>\n",
       "    </tr>\n",
       "    <tr>\n",
       "      <th>z_derivative_of_x_velocity</th>\n",
       "      <td>1/s</td>\n",
       "      <td>Derivative of x velocity in z axis direction.</td>\n",
       "    </tr>\n",
       "    <tr>\n",
       "      <th>z_derivative_of_y_velocity</th>\n",
       "      <td>1/s</td>\n",
       "      <td>Derivative of y velocity in z axis direction.</td>\n",
       "    </tr>\n",
       "    <tr>\n",
       "      <th>z_derivative_of_z_velocity</th>\n",
       "      <td>1/s</td>\n",
       "      <td>Derivative of z velocity in z axis direction.</td>\n",
       "    </tr>\n",
       "    <tr>\n",
       "      <th>z_velocity</th>\n",
       "      <td>m/s</td>\n",
       "      <td>velocity is a vector quantity. z indicates the component in z-axis direction</td>\n",
       "    </tr>\n",
       "    <tr>\n",
       "      <th>z_vorticity</th>\n",
       "      <td>1/s</td>\n",
       "      <td>vorticity is a vector quantity. z indicates the component in z-axis direction</td>\n",
       "    </tr>\n",
       "    <tr>\n",
       "      <th>zx_reynolds_stress</th>\n",
       "      <td>m**2/s**2</td>\n",
       "      <td>None</td>\n",
       "    </tr>\n",
       "    <tr>\n",
       "      <th>zy_reynolds_stress</th>\n",
       "      <td>m**2/s**2</td>\n",
       "      <td>None</td>\n",
       "    </tr>\n",
       "    <tr>\n",
       "      <th>zz_reynolds_stress</th>\n",
       "      <td>m**2/s**2</td>\n",
       "      <td>None</td>\n",
       "    </tr>\n",
       "  </tbody>\n",
       "</table>"
      ],
      "text/plain": [
       "<IPython.core.display.HTML object>"
      ]
     },
     "metadata": {},
     "output_type": "display_data"
    }
   ],
   "source": [
    "h5tbx.conventions.FluidStandardNameTable.dump(sort_by='name')"
   ]
  },
  {
   "cell_type": "code",
   "execution_count": 9,
   "id": "16f246ae-f900-4c39-afaa-a0c8f63a2944",
   "metadata": {
    "execution": {
     "iopub.execute_input": "2022-08-12T13:19:18.060626Z",
     "iopub.status.busy": "2022-08-12T13:19:18.060626Z",
     "iopub.status.idle": "2022-08-12T13:19:18.074676Z",
     "shell.execute_reply": "2022-08-12T13:19:18.074676Z"
    }
   },
   "outputs": [
    {
     "data": {
      "text/html": [
       "<table border=\"1\" class=\"dataframe\">\n",
       "  <thead>\n",
       "    <tr style=\"text-align: right;\">\n",
       "      <th></th>\n",
       "      <th>canonical_units</th>\n",
       "      <th>description</th>\n",
       "    </tr>\n",
       "  </thead>\n",
       "  <tbody>\n",
       "    <tr>\n",
       "      <th>absolute_pressure</th>\n",
       "      <td>Pa</td>\n",
       "      <td>None</td>\n",
       "    </tr>\n",
       "    <tr>\n",
       "      <th>absolute_pressure_difference</th>\n",
       "      <td>Pa</td>\n",
       "      <td>None</td>\n",
       "    </tr>\n",
       "    <tr>\n",
       "      <th>ambient_temperature</th>\n",
       "      <td>K</td>\n",
       "      <td>None</td>\n",
       "    </tr>\n",
       "    <tr>\n",
       "      <th>dynamic_pressure</th>\n",
       "      <td>Pa</td>\n",
       "      <td>None</td>\n",
       "    </tr>\n",
       "    <tr>\n",
       "      <th>dynamic_pressure_difference</th>\n",
       "      <td>Pa</td>\n",
       "      <td>None</td>\n",
       "    </tr>\n",
       "    <tr>\n",
       "      <th>magnitude_of_velocity</th>\n",
       "      <td>m/s</td>\n",
       "      <td>Magnitude of the vector quantity velocity.</td>\n",
       "    </tr>\n",
       "    <tr>\n",
       "      <th>pressure</th>\n",
       "      <td>Pa</td>\n",
       "      <td>None</td>\n",
       "    </tr>\n",
       "    <tr>\n",
       "      <th>q_criterion</th>\n",
       "      <td>1/s**2</td>\n",
       "      <td>Three dimensional Q-Criterion</td>\n",
       "    </tr>\n",
       "    <tr>\n",
       "      <th>q_criterion_z</th>\n",
       "      <td>1/s**2</td>\n",
       "      <td>Two dimensional Q-Criterion in z plane.</td>\n",
       "    </tr>\n",
       "    <tr>\n",
       "      <th>sound_pressure</th>\n",
       "      <td>Pa</td>\n",
       "      <td>None</td>\n",
       "    </tr>\n",
       "    <tr>\n",
       "      <th>static_pressure</th>\n",
       "      <td>Pa</td>\n",
       "      <td>None</td>\n",
       "    </tr>\n",
       "    <tr>\n",
       "      <th>static_pressure_difference</th>\n",
       "      <td>Pa</td>\n",
       "      <td>None</td>\n",
       "    </tr>\n",
       "    <tr>\n",
       "      <th>temperature</th>\n",
       "      <td>K</td>\n",
       "      <td>None</td>\n",
       "    </tr>\n",
       "    <tr>\n",
       "      <th>time</th>\n",
       "      <td>s</td>\n",
       "      <td>physical time</td>\n",
       "    </tr>\n",
       "    <tr>\n",
       "      <th>total_pressure</th>\n",
       "      <td>Pa</td>\n",
       "      <td>None</td>\n",
       "    </tr>\n",
       "    <tr>\n",
       "      <th>total_pressure_difference</th>\n",
       "      <td>Pa</td>\n",
       "      <td>None</td>\n",
       "    </tr>\n",
       "    <tr>\n",
       "      <th>turbulent_kinetic_energy</th>\n",
       "      <td>m**2/s**2</td>\n",
       "      <td>None</td>\n",
       "    </tr>\n",
       "    <tr>\n",
       "      <th>x_coordinate</th>\n",
       "      <td>m</td>\n",
       "      <td>None</td>\n",
       "    </tr>\n",
       "    <tr>\n",
       "      <th>x_derivative_of_x_velocity</th>\n",
       "      <td>1/s</td>\n",
       "      <td>Derivative of x velocity in x axis direction.</td>\n",
       "    </tr>\n",
       "    <tr>\n",
       "      <th>x_derivative_of_y_velocity</th>\n",
       "      <td>1/s</td>\n",
       "      <td>Derivative of y velocity in x axis direction.</td>\n",
       "    </tr>\n",
       "    <tr>\n",
       "      <th>x_derivative_of_z_velocity</th>\n",
       "      <td>1/s</td>\n",
       "      <td>Derivative of z velocity in x axis direction.</td>\n",
       "    </tr>\n",
       "    <tr>\n",
       "      <th>x_displacement_of_peak1</th>\n",
       "      <td></td>\n",
       "      <td>None</td>\n",
       "    </tr>\n",
       "    <tr>\n",
       "      <th>x_displacement_of_peak2</th>\n",
       "      <td></td>\n",
       "      <td>None</td>\n",
       "    </tr>\n",
       "    <tr>\n",
       "      <th>x_displacement_of_peak3</th>\n",
       "      <td></td>\n",
       "      <td>None</td>\n",
       "    </tr>\n",
       "    <tr>\n",
       "      <th>x_pixel_coordinate</th>\n",
       "      <td>pixel</td>\n",
       "      <td>None</td>\n",
       "    </tr>\n",
       "    <tr>\n",
       "      <th>x_velocity</th>\n",
       "      <td>m/s</td>\n",
       "      <td>velocity is a vector quantity. x indicates the component in x-axis direction</td>\n",
       "    </tr>\n",
       "    <tr>\n",
       "      <th>xx_reynolds_stress</th>\n",
       "      <td>m**2/s**2</td>\n",
       "      <td>None</td>\n",
       "    </tr>\n",
       "    <tr>\n",
       "      <th>xy_reynolds_stress</th>\n",
       "      <td>m**2/s**2</td>\n",
       "      <td>None</td>\n",
       "    </tr>\n",
       "    <tr>\n",
       "      <th>xz_reynolds_stress</th>\n",
       "      <td>m**2/s**2</td>\n",
       "      <td>None</td>\n",
       "    </tr>\n",
       "    <tr>\n",
       "      <th>y_coordinate</th>\n",
       "      <td>m</td>\n",
       "      <td>None</td>\n",
       "    </tr>\n",
       "    <tr>\n",
       "      <th>y_derivative_of_x_velocity</th>\n",
       "      <td>1/s</td>\n",
       "      <td>Derivative of x velocity in y axis direction.</td>\n",
       "    </tr>\n",
       "    <tr>\n",
       "      <th>y_derivative_of_y_velocity</th>\n",
       "      <td>1/s</td>\n",
       "      <td>Derivative of y velocity in y axis direction.</td>\n",
       "    </tr>\n",
       "    <tr>\n",
       "      <th>y_derivative_of_z_velocity</th>\n",
       "      <td>1/s</td>\n",
       "      <td>Derivative of z velocity in y axis direction.</td>\n",
       "    </tr>\n",
       "    <tr>\n",
       "      <th>y_displacement_of_peak1</th>\n",
       "      <td></td>\n",
       "      <td>None</td>\n",
       "    </tr>\n",
       "    <tr>\n",
       "      <th>y_displacement_of_peak2</th>\n",
       "      <td></td>\n",
       "      <td>None</td>\n",
       "    </tr>\n",
       "    <tr>\n",
       "      <th>y_displacement_of_peak3</th>\n",
       "      <td></td>\n",
       "      <td>None</td>\n",
       "    </tr>\n",
       "    <tr>\n",
       "      <th>y_pixel_coordinate</th>\n",
       "      <td>pixel</td>\n",
       "      <td>None</td>\n",
       "    </tr>\n",
       "    <tr>\n",
       "      <th>y_velocity</th>\n",
       "      <td>m/s</td>\n",
       "      <td>velocity is a vector quantity. y indicates the component in y-axis direction</td>\n",
       "    </tr>\n",
       "    <tr>\n",
       "      <th>yx_reynolds_stress</th>\n",
       "      <td>m**2/s**2</td>\n",
       "      <td>None</td>\n",
       "    </tr>\n",
       "    <tr>\n",
       "      <th>yy_reynolds_stress</th>\n",
       "      <td>m**2/s**2</td>\n",
       "      <td>None</td>\n",
       "    </tr>\n",
       "    <tr>\n",
       "      <th>yz_reynolds_stress</th>\n",
       "      <td>m**2/s**2</td>\n",
       "      <td>None</td>\n",
       "    </tr>\n",
       "    <tr>\n",
       "      <th>z_coordinate</th>\n",
       "      <td>m</td>\n",
       "      <td>None</td>\n",
       "    </tr>\n",
       "    <tr>\n",
       "      <th>z_derivative_of_x_velocity</th>\n",
       "      <td>1/s</td>\n",
       "      <td>Derivative of x velocity in z axis direction.</td>\n",
       "    </tr>\n",
       "    <tr>\n",
       "      <th>z_derivative_of_y_velocity</th>\n",
       "      <td>1/s</td>\n",
       "      <td>Derivative of y velocity in z axis direction.</td>\n",
       "    </tr>\n",
       "    <tr>\n",
       "      <th>z_derivative_of_z_velocity</th>\n",
       "      <td>1/s</td>\n",
       "      <td>Derivative of z velocity in z axis direction.</td>\n",
       "    </tr>\n",
       "    <tr>\n",
       "      <th>z_velocity</th>\n",
       "      <td>m/s</td>\n",
       "      <td>velocity is a vector quantity. z indicates the component in z-axis direction</td>\n",
       "    </tr>\n",
       "    <tr>\n",
       "      <th>z_vorticity</th>\n",
       "      <td>1/s</td>\n",
       "      <td>vorticity is a vector quantity. z indicates the component in z-axis direction</td>\n",
       "    </tr>\n",
       "    <tr>\n",
       "      <th>zx_reynolds_stress</th>\n",
       "      <td>m**2/s**2</td>\n",
       "      <td>None</td>\n",
       "    </tr>\n",
       "    <tr>\n",
       "      <th>zy_reynolds_stress</th>\n",
       "      <td>m**2/s**2</td>\n",
       "      <td>None</td>\n",
       "    </tr>\n",
       "    <tr>\n",
       "      <th>zz_reynolds_stress</th>\n",
       "      <td>m**2/s**2</td>\n",
       "      <td>None</td>\n",
       "    </tr>\n",
       "  </tbody>\n",
       "</table>"
      ],
      "text/plain": [
       "<IPython.core.display.HTML object>"
      ]
     },
     "metadata": {},
     "output_type": "display_data"
    }
   ],
   "source": [
    "h5tbx.conventions.PIVStandardNameTable.dump(sort_by='name')"
   ]
  },
  {
   "cell_type": "code",
   "execution_count": null,
   "id": "ae55dbd6-af9a-4346-b232-b9f4fed3e436",
   "metadata": {},
   "outputs": [],
   "source": []
  }
 ],
 "metadata": {
  "kernelspec": {
   "display_name": "Python 3 (ipykernel)",
   "language": "python",
   "name": "python3"
  },
  "language_info": {
   "codemirror_mode": {
    "name": "ipython",
    "version": 3
   },
   "file_extension": ".py",
   "mimetype": "text/x-python",
   "name": "python",
   "nbconvert_exporter": "python",
   "pygments_lexer": "ipython3",
   "version": "3.8.13"
  }
 },
 "nbformat": 4,
 "nbformat_minor": 5
}
