{
 "cells": [
  {
   "cell_type": "markdown",
   "id": "14515e2e-888e-48ac-966b-9c765550cf01",
   "metadata": {},
   "source": [
    "# Introduction to Standard Conventions\n",
    "\n",
    "A `convention` is simply a set of standard attributes. The standard attributes are defined in a YAML file, which can be loaded by the `h5RDMtoolbox`. Then, it can be registered for the session or now or later use. "
   ]
  },
  {
   "cell_type": "code",
   "execution_count": 1,
   "id": "904dbb92-b4f8-4cc1-91fc-90f560caa56a",
   "metadata": {},
   "outputs": [],
   "source": [
    "import h5rdmtoolbox as h5tbx\n",
    "from h5rdmtoolbox import tutorial"
   ]
  },
  {
   "cell_type": "markdown",
   "id": "c2b54bb6-e3d3-4bbc-96bb-d4829aad2f7a",
   "metadata": {},
   "source": [
    "## Import/Load a convention\n",
    "\n",
    "A convention can be read in **from a local directory**. It then is stored in a YAML file:"
   ]
  },
  {
   "cell_type": "code",
   "execution_count": 2,
   "id": "a42aef74-4faa-4b88-bbaf-83ba81b4a1f4",
   "metadata": {},
   "outputs": [],
   "source": [
    "cv = h5tbx.conventions.from_yaml(tutorial.get_standard_attribute_yaml_filename())"
   ]
  },
  {
   "cell_type": "markdown",
   "id": "a19387f8-74e6-4d13-a376-0b5708ac06df",
   "metadata": {},
   "source": [
    "The other option is to load one **from an online resource**. The toolbox supports [Zenodo](https://zenodo.org/):"
   ]
  },
  {
   "cell_type": "code",
   "execution_count": 3,
   "id": "e693d840-2068-4b67-a8a3-6b6941527ea7",
   "metadata": {},
   "outputs": [],
   "source": [
    "# cv = h5tbx.conventions.from_zenodo(doi=8220739)"
   ]
  },
  {
   "cell_type": "markdown",
   "id": "14e40376-3361-4abd-9105-d977827d2a39",
   "metadata": {},
   "source": [
    "## Enable (use) a convention\n",
    "\n",
    "To make a convention affective, it must be enabled. We do this by calling either the method `use()` of the convention ..."
   ]
  },
  {
   "cell_type": "code",
   "execution_count": 9,
   "id": "4dda9e66-986f-471d-b80f-824999e17eab",
   "metadata": {},
   "outputs": [
    {
     "name": "stdout",
     "output_type": "stream",
     "text": [
      "planar-piv-convention\n"
     ]
    }
   ],
   "source": [
    "cv.use()\n",
    "print(h5tbx.conventions.get_current_convention().name)"
   ]
  },
  {
   "cell_type": "markdown",
   "id": "8bc39f13-d131-42d8-9772-3f84e0a4da59",
   "metadata": {},
   "source": [
    "... or we could also call the package function `use()`:"
   ]
  },
  {
   "cell_type": "code",
   "execution_count": 10,
   "id": "d8f4d8e8-3888-494d-a555-41b5173d8b2e",
   "metadata": {},
   "outputs": [
    {
     "data": {
      "text/plain": [
       "<h5rdmtoolbox.conventions.core.use at 0x2129df47bb0>"
      ]
     },
     "execution_count": 10,
     "metadata": {},
     "output_type": "execute_result"
    }
   ],
   "source": [
    "h5tbx.use('h5tbx')"
   ]
  },
  {
   "cell_type": "markdown",
   "id": "77b9cea2-1029-42e9-a91e-497533054b0c",
   "metadata": {},
   "source": [
    "Note, the above \"h5tbx\" convention is available by default, thus is already registered.\n",
    "\n",
    "We can also **disable** the current convention by simply passing `None`:"
   ]
  },
  {
   "cell_type": "code",
   "execution_count": 11,
   "id": "0750b190-677e-4de3-9f58-b6e87c71a32b",
   "metadata": {},
   "outputs": [
    {
     "data": {
      "text/plain": [
       "<h5rdmtoolbox.conventions.core.use at 0x212b10cbca0>"
      ]
     },
     "execution_count": 11,
     "metadata": {},
     "output_type": "execute_result"
    }
   ],
   "source": [
    "h5tbx.use(None)"
   ]
  },
  {
   "cell_type": "markdown",
   "id": "48a72cdc-ecb0-4c17-8a4d-aa6f3b645ad1",
   "metadata": {},
   "source": [
    "A convention can also only be **temporarily** be enabled by using the context-manager-syntax. Here are two examples:"
   ]
  },
  {
   "cell_type": "code",
   "execution_count": 15,
   "id": "44472d73-4616-4494-b7bc-d229d22bb78c",
   "metadata": {},
   "outputs": [],
   "source": [
    "with h5tbx.use(None):\n",
    "    # create a temporary file\n",
    "    with h5tbx.File() as h5:\n",
    "        h5.create_dataset('non_regulated_dataset', data=4)\n",
    "\n",
    "with h5tbx.use('h5tbx'):  # this concention requires the attribute \"units\" for datasets:\n",
    "    # create a temporary file\n",
    "    with h5tbx.File() as h5:\n",
    "        h5.create_dataset('non_regulated_dataset', data=4, units='m/s')"
   ]
  },
  {
   "cell_type": "code",
   "execution_count": null,
   "id": "f1c62c28-40b5-4e52-b4a6-d3c85bcbef04",
   "metadata": {},
   "outputs": [],
   "source": []
  }
 ],
 "metadata": {
  "kernelspec": {
   "display_name": "Python 3 (ipykernel)",
   "language": "python",
   "name": "python3"
  },
  "language_info": {
   "codemirror_mode": {
    "name": "ipython",
    "version": 3
   },
   "file_extension": ".py",
   "mimetype": "text/x-python",
   "name": "python",
   "nbconvert_exporter": "python",
   "pygments_lexer": "ipython3",
   "version": "3.8.17"
  }
 },
 "nbformat": 4,
 "nbformat_minor": 5
}
