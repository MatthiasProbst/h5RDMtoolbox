{
 "cells": [
  {
   "cell_type": "markdown",
   "id": "4fb39971-92fa-4c19-a391-642236fc5afc",
   "metadata": {},
   "source": [
    "# Standard Name Convention\n",
    "\n",
    "Standard name conventions define how meta information is called what syntax is accepted. Intentionally this results in efficient, automatated and clear data exploration and processing.\n",
    "\n",
    "Most basically, a name identifier should be defined as an attribute of every dataset in an HDF file. A popular one is \"standard_name\" as used by the climate and forecast community. It e.g. does not allow space in standard names and must be lower case. Furthermore, the construction of it is defined in online documentations and naming tables (standard name tables) provide standard names currently excepted by the community. This packages adopts this concept by introducing standardized name tables (class `StandardzedNameTable`) which allows flexible usage of such name definitions."
   ]
  },
  {
   "cell_type": "code",
   "execution_count": null,
   "id": "3026a8e2-ebf6-48aa-9bd6-9d915b9672d9",
   "metadata": {
    "tags": []
   },
   "outputs": [],
   "source": [
    "import h5rdmtoolbox as h5tbx"
   ]
  },
  {
   "cell_type": "markdown",
   "id": "74c72248-2b69-48f6-b556-4d1b25349752",
   "metadata": {},
   "source": [
    "Whenever a dataset is written and the parameter \"standard_name\" is set, it is verified against the standard name convention/table associated with the wrapper class. If the constant `STRICT` is set to True (default), the name is looked-up in the table and, if not found, the dataset cannot be written. To allow standard names, that fulfill the spelling requirements but are not yet listed in the table, set `STRICT` to False:"
   ]
  },
  {
   "cell_type": "code",
   "execution_count": null,
   "id": "52a96fd3-318c-4e0a-8c57-82cfcb170480",
   "metadata": {
    "tags": []
   },
   "outputs": [],
   "source": [
    "h5tbx.conventions.identifier.STRICT = False"
   ]
  },
  {
   "cell_type": "markdown",
   "id": "df618578-e7a9-4d42-8ebf-4b00ed1b53be",
   "metadata": {},
   "source": [
    "## Initialize a Standard Name Convention\n",
    "A standardized name table is a XML document, which contains (at least) a description and a canonical unit for a standarized name. We'll build one from scratch first and then have a look into already implemented ones:\n",
    "\n",
    "Call `StandardizedNameTable` from the sub-package `conventions` and provide a `name`, `version`, `table_dict`, `contact` and and `insitution`:"
   ]
  },
  {
   "cell_type": "code",
   "execution_count": null,
   "id": "569b7ff4-5e17-4eda-9e8b-d449277f203e",
   "metadata": {
    "tags": []
   },
   "outputs": [],
   "source": [
    "sc = h5tbx.conventions.StandardizedNameTable(name='Test_SNC', table_dict={}, version_number=1, contact='contact@python.com', institution='my_institution')\n",
    "sc"
   ]
  },
  {
   "cell_type": "markdown",
   "id": "7cf8f558-9443-4046-9ec4-17e33414a2c9",
   "metadata": {},
   "source": [
    "We have built an empty convention (no table content). Lets add content. We can do this by creating a dictionary first..."
   ]
  },
  {
   "cell_type": "code",
   "execution_count": null,
   "id": "77561296-edfe-476c-b316-553c1ff92cee",
   "metadata": {},
   "outputs": [],
   "source": [
    "tabledict = {'x_velocity': dict(canonical_units='m/s', description='velocity is a vector quantity.')}\n",
    "tabledict"
   ]
  },
  {
   "cell_type": "markdown",
   "id": "2ac2f67c-0958-4578-82d7-767534251196",
   "metadata": {},
   "source": [
    "... and add it to the object by calling `update()`:"
   ]
  },
  {
   "cell_type": "code",
   "execution_count": null,
   "id": "1c3230f1-2a0d-4b09-b885-3b6a8a16fe83",
   "metadata": {},
   "outputs": [],
   "source": [
    "sc.update(tabledict)\n",
    "sc.dump()"
   ]
  },
  {
   "cell_type": "markdown",
   "id": "584a57e5-acf8-456a-bad4-cfdeea50dfb8",
   "metadata": {},
   "source": [
    "New entries can be assigned by using `set` or `modified` depending on whether the entry already exists or not:"
   ]
  },
  {
   "cell_type": "code",
   "execution_count": null,
   "id": "9e4ce9fe-de0e-4e3c-9410-e5dc891294af",
   "metadata": {
    "tags": []
   },
   "outputs": [],
   "source": [
    "sc.set('time', canonical_units='s', description='physical time')\n",
    "sc.modify('x_velocity', canonical_units='m/s', description='velocity is a vector quantity. x indicates the component in y-axis direction')\n",
    "sc.set('y_velocity', canonical_units='m/s', description='velocity is a vector quantity. y indicates the component in y-axis direction')\n",
    "sc.set('z_velocity', canonical_units='m/s', description='velocity is a vector quantity. z indicates the component in z-axis direction')\n",
    "sc.sdump()"
   ]
  },
  {
   "cell_type": "markdown",
   "id": "a2855d67-4e91-4d32-a173-c581f77b6b93",
   "metadata": {},
   "source": [
    "## Writing Standard Name Convention to file\n",
    "\n",
    "Standardized name tables should be saved as xml documents or yaml-files:"
   ]
  },
  {
   "cell_type": "code",
   "execution_count": null,
   "id": "7d29f972-b6c2-4a25-85cc-8d8c39f28154",
   "metadata": {
    "tags": []
   },
   "outputs": [],
   "source": [
    "xml_filename = h5tbx.generate_temporary_filename(suffix='.xml')\n",
    "sc.to_xml(xml_filename)\n",
    "\n",
    "yml_filename = h5tbx.generate_temporary_filename(suffix='.yml')\n",
    "sc.to_yaml(yml_filename)\n",
    "pass"
   ]
  },
  {
   "cell_type": "markdown",
   "id": "9fa87fb5-04c1-4cb1-bae8-6a5f57339ad1",
   "metadata": {},
   "source": [
    "## Load Standard Name Convention from file\n",
    "\n",
    "If you have standard name tables to your hand, just load them. They must be provided as XML or YML:"
   ]
  },
  {
   "cell_type": "code",
   "execution_count": null,
   "id": "be7625e3-349d-49bd-a14c-e9b2f220da91",
   "metadata": {
    "tags": []
   },
   "outputs": [],
   "source": [
    "sc_test = h5tbx.conventions.StandardizedNameTable.from_xml(xml_filename)\n",
    "print(sc_test.versionname)\n",
    "sc_test.dump()\n",
    "\n",
    "sc_test = h5tbx.conventions.StandardizedNameTable.from_yml(yml_filename)\n",
    "print(sc_test.versionname)\n",
    "sc_test.dump()"
   ]
  },
  {
   "cell_type": "markdown",
   "id": "7f0dcdab-e9b3-4e89-bec7-06eda703bdbc",
   "metadata": {},
   "source": [
    "## Load from web\n",
    "Optimally a community has defined a naming conventions, just like the cfconventions from where the concept is adoped. Let's imort their latest xml document:"
   ]
  },
  {
   "cell_type": "code",
   "execution_count": null,
   "id": "49060588-f59a-415b-b0ca-55afbf4f609a",
   "metadata": {},
   "outputs": [],
   "source": [
    "cf_xml_filename = h5tbx.conventions.StandardizedNameTable.from_web(url='https://cfconventions.org/Data/cf-standard-names/79/src/cf-standard-name-table.xml')\n",
    "cf_xml_filename"
   ]
  },
  {
   "cell_type": "code",
   "execution_count": null,
   "id": "24fcc5e1-6c7a-43ce-a370-47ebe5449ba5",
   "metadata": {},
   "outputs": [],
   "source": [
    "cf_xml_filename.dump(max_rows=4)"
   ]
  },
  {
   "cell_type": "markdown",
   "id": "923fb6d4-e82d-4bc0-8b02-d9588916c20c",
   "metadata": {},
   "source": [
    "## Perform checks\n",
    "A naming convention can be used to test new standard names, whether they comply with it or not:"
   ]
  },
  {
   "cell_type": "code",
   "execution_count": null,
   "id": "ae55dbd6-af9a-4346-b232-b9f4fed3e436",
   "metadata": {},
   "outputs": [],
   "source": [
    "cf_xml_filename.check_name('zenith_angle', strict=True)"
   ]
  },
  {
   "cell_type": "code",
   "execution_count": null,
   "id": "7ef1281b-1b74-4143-b57e-299735526941",
   "metadata": {},
   "outputs": [],
   "source": [
    "cf_xml_filename['x_wind_gust'].canonical_units"
   ]
  },
  {
   "cell_type": "code",
   "execution_count": null,
   "id": "67174d49-18b5-4c47-af61-36e391f85eb0",
   "metadata": {},
   "outputs": [],
   "source": [
    "try:\n",
    "    cf_xml_filename.check_units('x_wind_gust', units='m/s')\n",
    "except h5tbx.conventions.StandardizedNameError as e:\n",
    "    print(e)"
   ]
  },
  {
   "cell_type": "code",
   "execution_count": null,
   "id": "a77d1c78-6a18-434d-b483-5cfeb049fd37",
   "metadata": {},
   "outputs": [],
   "source": [
    "from h5rdmtoolbox.conventions.identifier import _units_power_fix"
   ]
  },
  {
   "cell_type": "code",
   "execution_count": null,
   "id": "a773fd35-a187-4bd3-a083-d944b8347130",
   "metadata": {},
   "outputs": [],
   "source": [
    "_units_power_fix('degree')"
   ]
  },
  {
   "cell_type": "code",
   "execution_count": null,
   "id": "6497fe45-cb00-4566-9031-4fdad221ccff",
   "metadata": {},
   "outputs": [],
   "source": [
    "try:\n",
    "    cf_xml_filename.check_units('zenith_angle', units='K')\n",
    "except h5tbx.conventions.StandardizedNameError as e:\n",
    "    print(e)\n",
    "cf_xml_filename.check_units('zenith_angle', units='degree')"
   ]
  }
 ],
 "metadata": {
  "kernelspec": {
   "display_name": "Python 3 (ipykernel)",
   "language": "python",
   "name": "python3"
  },
  "language_info": {
   "codemirror_mode": {
    "name": "ipython",
    "version": 3
   },
   "file_extension": ".py",
   "mimetype": "text/x-python",
   "name": "python",
   "nbconvert_exporter": "python",
   "pygments_lexer": "ipython3",
   "version": "3.8.13"
  }
 },
 "nbformat": 4,
 "nbformat_minor": 5
}
