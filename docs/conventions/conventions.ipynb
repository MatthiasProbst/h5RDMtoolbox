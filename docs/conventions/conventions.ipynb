{
 "cells": [
  {
   "cell_type": "markdown",
   "id": "4fb39971-92fa-4c19-a391-642236fc5afc",
   "metadata": {},
   "source": [
    "# Standard Name Convention\n",
    "\n",
    "Standard name conventions define how meta information is called what syntax is accepted. Intentionally this results in efficient, automatated and clear data exploration and processing.\n",
    "\n",
    "Most basically, a name identifier should be defined as an attribute of every dataset in an HDF file. A popular one is \"standard_name\" as used by the climate and forecast community. It e.g. does not allow space in standard names and must be lower case. Furthermore, the construction of it is defined in online documentations and naming tables (standard name tables) provide standard names currently excepted by the community. This packages adopts this concept by introducing standardized name tables (class `StandardNameTable`) which allows flexible usage of such name definitions."
   ]
  },
  {
   "cell_type": "code",
   "execution_count": 1,
   "id": "3026a8e2-ebf6-48aa-9bd6-9d915b9672d9",
   "metadata": {
    "tags": []
   },
   "outputs": [
    {
     "name": "stderr",
     "output_type": "stream",
     "text": [
      "2023-03-01_14:19:11,807 INFO     [__init__.py:72] Switched to \"cflike\"\n"
     ]
    }
   ],
   "source": [
    "import h5rdmtoolbox as h5tbx\n",
    "from h5rdmtoolbox import use\n",
    "\n",
    "use('cflike')"
   ]
  },
  {
   "cell_type": "markdown",
   "id": "74c72248-2b69-48f6-b556-4d1b25349752",
   "metadata": {},
   "source": [
    "Whenever a dataset is written and the parameter `standard_name` is set, it is verified against the standard name convention/table associated with the wrapper class. If the constant `STRICT` is set to True (default), the name is looked-up in the table and, if not found, the dataset cannot be written. To allow standard names, that fulfill the spelling requirements but are not yet listed in the table, set `STRICT` to False:"
   ]
  },
  {
   "cell_type": "code",
   "execution_count": 2,
   "id": "52a96fd3-318c-4e0a-8c57-82cfcb170480",
   "metadata": {
    "tags": []
   },
   "outputs": [],
   "source": [
    "h5tbx.conventions.cflike.standard_name.STRICT = False"
   ]
  },
  {
   "cell_type": "markdown",
   "id": "df618578-e7a9-4d42-8ebf-4b00ed1b53be",
   "metadata": {},
   "source": [
    "## Initialize a Standard Name Convention\n",
    "A standardized name table is a XML document, which contains (at least) a description and a canonical unit for a standarized name. We'll build one from scratch first and then have a look into already implemented ones:\n",
    "\n",
    "Call `StandardNameTable` from the sub-package `conventions` and provide a `name`, `version`, `table`, `contact` and and `insitution`:"
   ]
  },
  {
   "cell_type": "code",
   "execution_count": 3,
   "id": "dfdb1240-99c2-4bf6-9a6d-17fd03b5eef0",
   "metadata": {},
   "outputs": [],
   "source": [
    "from h5rdmtoolbox.conventions.cflike import StandardNameTable"
   ]
  },
  {
   "cell_type": "code",
   "execution_count": 4,
   "id": "569b7ff4-5e17-4eda-9e8b-d449277f203e",
   "metadata": {
    "tags": []
   },
   "outputs": [
    {
     "data": {
      "text/plain": [
       "Test_SNC (version number: 1)"
      ]
     },
     "execution_count": 4,
     "metadata": {},
     "output_type": "execute_result"
    }
   ],
   "source": [
    "sc = StandardNameTable(\n",
    "    name='Test_SNC',\n",
    "    table={},\n",
    "    version_number=1,\n",
    "    contact='contact@python.com',\n",
    "    institution='my_institution'\n",
    ")\n",
    "sc"
   ]
  },
  {
   "cell_type": "markdown",
   "id": "7cf8f558-9443-4046-9ec4-17e33414a2c9",
   "metadata": {},
   "source": [
    "We have built an empty convention (no table content). Lets add content. We can do this by creating a dictionary first..."
   ]
  },
  {
   "cell_type": "code",
   "execution_count": 5,
   "id": "77561296-edfe-476c-b316-553c1ff92cee",
   "metadata": {},
   "outputs": [
    {
     "data": {
      "text/plain": [
       "{'x_velocity': {'canonical_units': 'm/s',\n",
       "  'description': 'velocity is a vector quantity.'}}"
      ]
     },
     "execution_count": 5,
     "metadata": {},
     "output_type": "execute_result"
    }
   ],
   "source": [
    "tabledict = {'x_velocity': dict(canonical_units='m/s', description='velocity is a vector quantity.')}\n",
    "tabledict"
   ]
  },
  {
   "cell_type": "markdown",
   "id": "2ac2f67c-0958-4578-82d7-767534251196",
   "metadata": {},
   "source": [
    "... and add it to the object by calling `update()`:"
   ]
  },
  {
   "cell_type": "code",
   "execution_count": 6,
   "id": "1c3230f1-2a0d-4b09-b885-3b6a8a16fe83",
   "metadata": {},
   "outputs": [
    {
     "data": {
      "text/html": [
       "<table border=\"1\" class=\"dataframe\">\n",
       "  <thead>\n",
       "    <tr style=\"text-align: right;\">\n",
       "      <th></th>\n",
       "      <th>canonical_units</th>\n",
       "      <th>description</th>\n",
       "    </tr>\n",
       "  </thead>\n",
       "  <tbody>\n",
       "    <tr>\n",
       "      <th>x_velocity</th>\n",
       "      <td>m/s</td>\n",
       "      <td>velocity is a vector quantity.</td>\n",
       "    </tr>\n",
       "  </tbody>\n",
       "</table>"
      ],
      "text/plain": [
       "<IPython.core.display.HTML object>"
      ]
     },
     "metadata": {},
     "output_type": "display_data"
    }
   ],
   "source": [
    "sc.update(tabledict)\n",
    "sc.dump()"
   ]
  },
  {
   "cell_type": "markdown",
   "id": "584a57e5-acf8-456a-bad4-cfdeea50dfb8",
   "metadata": {},
   "source": [
    "New entries can be assigned by using `set` or `modified` depending on whether the entry already exists or not:"
   ]
  },
  {
   "cell_type": "code",
   "execution_count": 7,
   "id": "9e4ce9fe-de0e-4e3c-9410-e5dc891294af",
   "metadata": {
    "tags": []
   },
   "outputs": [
    {
     "name": "stdout",
     "output_type": "stream",
     "text": [
      "Test_SNC (version: 1)\n",
      "+------------+-------------------+------------------------------------------------------------------------------+\n",
      "|            | canonical_units   | description                                                                  |\n",
      "|------------+-------------------+------------------------------------------------------------------------------|\n",
      "| time       | s                 | physical time                                                                |\n",
      "| x_velocity | m/s               | velocity is a vector quantity. x indicates the component in y-axis direction |\n",
      "| y_velocity | m/s               | velocity is a vector quantity. y indicates the component in y-axis direction |\n",
      "| z_velocity | m/s               | velocity is a vector quantity. z indicates the component in z-axis direction |\n",
      "+------------+-------------------+------------------------------------------------------------------------------+\n"
     ]
    }
   ],
   "source": [
    "sc.set('time', canonical_units='s', description='physical time')\n",
    "sc.modify('x_velocity', canonical_units='m/s', description='velocity is a vector quantity. x indicates the component in y-axis direction')\n",
    "sc.set('y_velocity', canonical_units='m/s', description='velocity is a vector quantity. y indicates the component in y-axis direction')\n",
    "sc.set('z_velocity', canonical_units='m/s', description='velocity is a vector quantity. z indicates the component in z-axis direction')\n",
    "sc.sdump()"
   ]
  },
  {
   "cell_type": "markdown",
   "id": "a2855d67-4e91-4d32-a173-c581f77b6b93",
   "metadata": {},
   "source": [
    "## Saving Standard Name Table\n",
    "\n",
    "Standard name tables should be saved as xml-documents or yaml-files:"
   ]
  },
  {
   "cell_type": "code",
   "execution_count": 8,
   "id": "7d29f972-b6c2-4a25-85cc-8d8c39f28154",
   "metadata": {
    "tags": []
   },
   "outputs": [],
   "source": [
    "xml_filename = h5tbx.generate_temporary_filename(suffix='.xml')\n",
    "sc.to_xml(xml_filename)\n",
    "\n",
    "yml_filename = h5tbx.generate_temporary_filename(suffix='.yml')\n",
    "sc.to_yaml(yml_filename)\n",
    "pass"
   ]
  },
  {
   "cell_type": "markdown",
   "id": "88bc791e-8ea4-491f-bc6e-3fdc5149575b",
   "metadata": {},
   "source": [
    "For later usage from anywhere, the table can be registerd with the toolbox. Call `register()`. It save the convention as yml file in the user directory for standard name data and will use the `versionname`:"
   ]
  },
  {
   "cell_type": "code",
   "execution_count": 9,
   "id": "d4e396b6-9564-4e39-aba8-0c8e9ebbef90",
   "metadata": {},
   "outputs": [
    {
     "name": "stdout",
     "output_type": "stream",
     "text": [
      " > fluid-v1\n",
      " > piv-v1\n",
      " > Test-v1\n",
      " > Test_SNC-v1\n"
     ]
    }
   ],
   "source": [
    "sc.register(overwrite=True)\n",
    "StandardNameTable.print_registered()"
   ]
  },
  {
   "cell_type": "markdown",
   "id": "63b38596-fb6d-420f-ac97-9462f38ea76a",
   "metadata": {},
   "source": [
    "Use the command line call"
   ]
  },
  {
   "cell_type": "code",
   "execution_count": 10,
   "id": "3fe3ac64-a900-407c-ac09-69ec7187a538",
   "metadata": {},
   "outputs": [
    {
     "name": "stdout",
     "output_type": "stream",
     "text": [
      " > fluid-v1\n",
      " > piv-v1\n",
      " > Test-v1\n",
      " > Test_SNC-v1\n"
     ]
    }
   ],
   "source": [
    "! h5tbx standard_name --list-registered"
   ]
  },
  {
   "cell_type": "markdown",
   "id": "9fa87fb5-04c1-4cb1-bae8-6a5f57339ad1",
   "metadata": {},
   "source": [
    "## Load Standard Name Convention from file\n",
    "\n",
    "If you have standard name tables to your hand, just load them. They must be provided as XML or YML:"
   ]
  },
  {
   "cell_type": "code",
   "execution_count": 11,
   "id": "be7625e3-349d-49bd-a14c-e9b2f220da91",
   "metadata": {
    "tags": []
   },
   "outputs": [
    {
     "name": "stdout",
     "output_type": "stream",
     "text": [
      "Test_SNC-v1\n"
     ]
    },
    {
     "data": {
      "text/html": [
       "<table border=\"1\" class=\"dataframe\">\n",
       "  <thead>\n",
       "    <tr style=\"text-align: right;\">\n",
       "      <th></th>\n",
       "      <th>canonical_units</th>\n",
       "      <th>description</th>\n",
       "    </tr>\n",
       "  </thead>\n",
       "  <tbody>\n",
       "    <tr>\n",
       "      <th>time</th>\n",
       "      <td>s</td>\n",
       "      <td>physical time</td>\n",
       "    </tr>\n",
       "    <tr>\n",
       "      <th>x_velocity</th>\n",
       "      <td>m/s</td>\n",
       "      <td>velocity is a vector quantity. x indicates the component in y-axis direction</td>\n",
       "    </tr>\n",
       "    <tr>\n",
       "      <th>y_velocity</th>\n",
       "      <td>m/s</td>\n",
       "      <td>velocity is a vector quantity. y indicates the component in y-axis direction</td>\n",
       "    </tr>\n",
       "    <tr>\n",
       "      <th>z_velocity</th>\n",
       "      <td>m/s</td>\n",
       "      <td>velocity is a vector quantity. z indicates the component in z-axis direction</td>\n",
       "    </tr>\n",
       "  </tbody>\n",
       "</table>"
      ],
      "text/plain": [
       "<IPython.core.display.HTML object>"
      ]
     },
     "metadata": {},
     "output_type": "display_data"
    }
   ],
   "source": [
    "sc_test = StandardNameTable.from_yaml(yml_filename)\n",
    "print(sc_test.versionname)\n",
    "sc_test.dump()"
   ]
  },
  {
   "cell_type": "code",
   "execution_count": 12,
   "id": "3cbe804a-0868-43c6-ae92-f813e4fed72a",
   "metadata": {},
   "outputs": [
    {
     "data": {
      "text/plain": [
       "Test_SNC (version number: 1)"
      ]
     },
     "execution_count": 12,
     "metadata": {},
     "output_type": "execute_result"
    }
   ],
   "source": [
    "sc_test['x_velocity'].snt"
   ]
  },
  {
   "cell_type": "markdown",
   "id": "9c7aa611-30f4-457e-a7cf-87a228be9f90",
   "metadata": {},
   "source": [
    "Load a registered Standard Name Table from the toolbox:"
   ]
  },
  {
   "cell_type": "code",
   "execution_count": 13,
   "id": "f3861a50-33bc-4625-80d3-6ef95deeddf6",
   "metadata": {},
   "outputs": [
    {
     "data": {
      "text/html": [
       "<table border=\"1\" class=\"dataframe\">\n",
       "  <thead>\n",
       "    <tr style=\"text-align: right;\">\n",
       "      <th></th>\n",
       "      <th>canonical_units</th>\n",
       "      <th>description</th>\n",
       "    </tr>\n",
       "  </thead>\n",
       "  <tbody>\n",
       "    <tr>\n",
       "      <th>time</th>\n",
       "      <td>s</td>\n",
       "      <td>physical time</td>\n",
       "    </tr>\n",
       "    <tr>\n",
       "      <th>x_velocity</th>\n",
       "      <td>m/s</td>\n",
       "      <td>velocity is a vector quantity. x indicates the component in y-axis direction</td>\n",
       "    </tr>\n",
       "    <tr>\n",
       "      <th>y_velocity</th>\n",
       "      <td>m/s</td>\n",
       "      <td>velocity is a vector quantity. y indicates the component in y-axis direction</td>\n",
       "    </tr>\n",
       "    <tr>\n",
       "      <th>z_velocity</th>\n",
       "      <td>m/s</td>\n",
       "      <td>velocity is a vector quantity. z indicates the component in z-axis direction</td>\n",
       "    </tr>\n",
       "  </tbody>\n",
       "</table>"
      ],
      "text/plain": [
       "<IPython.core.display.HTML object>"
      ]
     },
     "metadata": {},
     "output_type": "display_data"
    }
   ],
   "source": [
    "StandardNameTable.load_registered('Test_SNC-v1').dump()"
   ]
  },
  {
   "cell_type": "markdown",
   "id": "7f0dcdab-e9b3-4e89-bec7-06eda703bdbc",
   "metadata": {},
   "source": [
    "## Load from web\n",
    "Optimally a community has defined a naming conventions, just like the cfconventions from where the concept is adoped. Let's imort their latest xml document:"
   ]
  },
  {
   "cell_type": "code",
   "execution_count": 14,
   "id": "49060588-f59a-415b-b0ca-55afbf4f609a",
   "metadata": {},
   "outputs": [
    {
     "data": {
      "text/plain": [
       "standard_name_table (version number: 79)"
      ]
     },
     "execution_count": 14,
     "metadata": {},
     "output_type": "execute_result"
    }
   ],
   "source": [
    "cf = StandardNameTable.from_web(url='https://cfconventions.org/Data/cf-standard-names/79/src/cf-standard-name-table.xml')\n",
    "cf"
   ]
  },
  {
   "cell_type": "code",
   "execution_count": 15,
   "id": "b51e8fb3-e174-41e8-9737-c5ebf8fccb3d",
   "metadata": {},
   "outputs": [
    {
     "data": {
      "text/plain": [
       "'standard_name_table-v79'"
      ]
     },
     "execution_count": 15,
     "metadata": {},
     "output_type": "execute_result"
    }
   ],
   "source": [
    "cf.versionname"
   ]
  },
  {
   "cell_type": "code",
   "execution_count": 16,
   "id": "24fcc5e1-6c7a-43ce-a370-47ebe5449ba5",
   "metadata": {},
   "outputs": [
    {
     "data": {
      "text/html": [
       "<table border=\"1\" class=\"dataframe\">\n",
       "  <thead>\n",
       "    <tr style=\"text-align: right;\">\n",
       "      <th></th>\n",
       "      <th>canonical_units</th>\n",
       "      <th>grib</th>\n",
       "      <th>amip</th>\n",
       "      <th>description</th>\n",
       "    </tr>\n",
       "  </thead>\n",
       "  <tbody>\n",
       "    <tr>\n",
       "      <th>acoustic_signal_roundtrip_travel_time_in_sea_water</th>\n",
       "      <td>s</td>\n",
       "      <td>None</td>\n",
       "      <td>None</td>\n",
       "      <td>The quantity with standard name acoustic_signal_roundtrip_travel_time_in_sea_water is the time taken for an acoustic signal to propagate from the emitting instrument to a reflecting surface and back again to the instrument. In the case of an instrument based on the sea floor and measuring the roundtrip time to the sea surface, the data are commonly used as a measure of ocean heat content.</td>\n",
       "    </tr>\n",
       "    <tr>\n",
       "      <th>aerodynamic_particle_diameter</th>\n",
       "      <td>m</td>\n",
       "      <td>None</td>\n",
       "      <td>None</td>\n",
       "      <td>The diameter of a spherical particle with density 1000 kg m-3 having the same aerodynamic properties as the particles in question.</td>\n",
       "    </tr>\n",
       "    <tr>\n",
       "      <th>...</th>\n",
       "      <td>...</td>\n",
       "      <td>...</td>\n",
       "      <td>...</td>\n",
       "      <td>...</td>\n",
       "    </tr>\n",
       "    <tr>\n",
       "      <th>y_wind_gust</th>\n",
       "      <td>m s-1</td>\n",
       "      <td>None</td>\n",
       "      <td>None</td>\n",
       "      <td>\"y\" indicates a vector component along the grid y-axis, positive with increasing y. Wind is defined as a two-dimensional (horizontal) air velocity vector, with no vertical component. (Vertical motion in the atmosphere has the standard name upward_air_velocity.) A gust is a sudden brief period of high wind speed. In an observed time series of wind speed, the gust wind speed can be indicated by a cell_methods of maximum for the time-interval. In an atmospheric model which has a parametrised calculation of gustiness, the gust wind speed may be separately diagnosed from the wind speed.</td>\n",
       "    </tr>\n",
       "    <tr>\n",
       "      <th>zenith_angle</th>\n",
       "      <td>degree</td>\n",
       "      <td>None</td>\n",
       "      <td>None</td>\n",
       "      <td>Zenith angle is the angle to the local vertical; a value of zero is directly overhead.</td>\n",
       "    </tr>\n",
       "  </tbody>\n",
       "</table>"
      ],
      "text/plain": [
       "<IPython.core.display.HTML object>"
      ]
     },
     "metadata": {},
     "output_type": "display_data"
    }
   ],
   "source": [
    "cf.dump(max_rows=4)"
   ]
  },
  {
   "cell_type": "markdown",
   "id": "923fb6d4-e82d-4bc0-8b02-d9588916c20c",
   "metadata": {},
   "source": [
    "## Perform checks\n",
    "A naming convention can be used to test new standard names, whether they comply with it or not:"
   ]
  },
  {
   "cell_type": "code",
   "execution_count": 17,
   "id": "ae55dbd6-af9a-4346-b232-b9f4fed3e436",
   "metadata": {},
   "outputs": [
    {
     "data": {
      "text/plain": [
       "True"
      ]
     },
     "execution_count": 17,
     "metadata": {},
     "output_type": "execute_result"
    }
   ],
   "source": [
    "cf.check_name('zenith_angle', strict=True)"
   ]
  },
  {
   "cell_type": "code",
   "execution_count": 18,
   "id": "7ef1281b-1b74-4143-b57e-299735526941",
   "metadata": {},
   "outputs": [
    {
     "data": {
      "text/plain": [
       "'m/s'"
      ]
     },
     "execution_count": 18,
     "metadata": {},
     "output_type": "execute_result"
    }
   ],
   "source": [
    "cf['x_wind_gust'].canonical_units"
   ]
  },
  {
   "cell_type": "code",
   "execution_count": 19,
   "id": "67174d49-18b5-4c47-af61-36e391f85eb0",
   "metadata": {},
   "outputs": [],
   "source": [
    "try:\n",
    "    cf.check_units('x_wind_gust', units='m/s')\n",
    "except h5tbx.erros.StandardizedNameError as e:\n",
    "    print(e)"
   ]
  },
  {
   "cell_type": "code",
   "execution_count": 20,
   "id": "6497fe45-cb00-4566-9031-4fdad221ccff",
   "metadata": {},
   "outputs": [
    {
     "name": "stdout",
     "output_type": "stream",
     "text": [
      "Unit of standard name \"zenith_angle\" not as expected: \"K\" != \"degree\"\n"
     ]
    },
    {
     "data": {
      "text/plain": [
       "True"
      ]
     },
     "execution_count": 20,
     "metadata": {},
     "output_type": "execute_result"
    }
   ],
   "source": [
    "try:\n",
    "    cf.check_units('zenith_angle', units='K')\n",
    "except h5tbx.errors.StandardNameError as e:\n",
    "    print(e)\n",
    "cf.check_units('zenith_angle', units='degree')"
   ]
  },
  {
   "cell_type": "markdown",
   "id": "3562c750-98b1-4068-a6fe-4c7028b9f946",
   "metadata": {},
   "source": [
    "Perform a check on a file"
   ]
  },
  {
   "cell_type": "code",
   "execution_count": 21,
   "id": "fbf33dbe-4453-482e-8cd9-2462bf7f81c0",
   "metadata": {},
   "outputs": [],
   "source": [
    "with h5tbx.H5File() as h5:\n",
    "    h5.create_dataset('zenith angle 1', shape=(3,), units='K', standard_name='zenith_angle')\n",
    "    h5.create_dataset('zenith angle 2', shape=(3,), units='degree', standard_name='zenith_angle')"
   ]
  },
  {
   "cell_type": "code",
   "execution_count": 22,
   "id": "ef3f5cbe-4106-469c-a85d-d5517be154d8",
   "metadata": {},
   "outputs": [
    {
     "name": "stderr",
     "output_type": "stream",
     "text": [
      "2023-03-01_14:19:15,427 ERROR    [standard_name.py:666]  > ds: /zenith angle 1: Unit of standard name \"zenith_angle\" not as expected: \"K\" != \"degree\"\n",
      "2023-03-01_14:19:15,427 ERROR    [standard_name.py:666]  > ds: /zenith angle 1: Unit of standard name \"zenith_angle\" not as expected: \"K\" != \"degree\"\n"
     ]
    }
   ],
   "source": [
    "cf.check_file(h5.hdf_filename, raise_error=False)"
   ]
  },
  {
   "cell_type": "markdown",
   "id": "160839e2-7ad3-4194-b341-88c75569ae39",
   "metadata": {},
   "source": [
    "Use the command line call"
   ]
  },
  {
   "cell_type": "code",
   "execution_count": 23,
   "id": "0fd0adab-2a27-456d-96bb-c3f07e9773f6",
   "metadata": {},
   "outputs": [],
   "source": [
    "cf.register(overwrite=True)"
   ]
  },
  {
   "cell_type": "code",
   "execution_count": 24,
   "id": "ba85f48f-9c41-4a24-b267-c182ff400e2e",
   "metadata": {},
   "outputs": [
    {
     "name": "stdout",
     "output_type": "stream",
     "text": [
      " > Checking file \"C:\\Users\\da4323\\AppData\\Local\\h5rdmtoolbox\\h5rdmtoolbox\\tmp\\tmp1210\\tmp2.hdf\" with standard name table \"standard_name_table-v79\"\n"
     ]
    },
    {
     "name": "stderr",
     "output_type": "stream",
     "text": [
      "2023-03-01_14:19:30,384 ERROR    [standard_name.py:666]  > ds: /zenith angle 1: Unit of standard name \"zenith_angle\" not as expected: \"K\" != \"degree\"\n",
      "2023-03-01_14:19:30,384 ERROR    [standard_name.py:666]  > ds: /zenith angle 1: Unit of standard name \"zenith_angle\" not as expected: \"K\" != \"degree\"\n"
     ]
    }
   ],
   "source": [
    "! h5tbx standard_name -f {h5.hdf_filename} -t {cf.versionname}"
   ]
  },
  {
   "cell_type": "code",
   "execution_count": null,
   "id": "4f10c7e4-8551-4ad6-86b8-6b1bb300d6da",
   "metadata": {},
   "outputs": [],
   "source": []
  }
 ],
 "metadata": {
  "kernelspec": {
   "display_name": "Python 3 (ipykernel)",
   "language": "python",
   "name": "python3"
  },
  "language_info": {
   "codemirror_mode": {
    "name": "ipython",
    "version": 3
   },
   "file_extension": ".py",
   "mimetype": "text/x-python",
   "name": "python",
   "nbconvert_exporter": "python",
   "pygments_lexer": "ipython3",
   "version": "3.8.15"
  }
 },
 "nbformat": 4,
 "nbformat_minor": 5
}
