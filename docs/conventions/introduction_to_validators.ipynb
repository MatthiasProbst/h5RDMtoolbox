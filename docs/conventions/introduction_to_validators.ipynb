{
 "cells": [
  {
   "cell_type": "markdown",
   "id": "7fbc85fe-edb7-4294-bf1a-aa6c3e7a1353",
   "metadata": {},
   "source": [
    "# Introduction to Standard Attribute Validators\n",
    "\n",
    "Standard attribute validators are the key element of standard attributes. They validate the user input, e.g. check if the user input value is in a defined list of strings, matches a pattern etc."
   ]
  },
  {
   "cell_type": "code",
   "execution_count": 1,
   "id": "59d847bd-01ce-4bc0-95f0-e70ed97a1ebd",
   "metadata": {},
   "outputs": [],
   "source": [
    "import h5rdmtoolbox as h5tbx"
   ]
  },
  {
   "cell_type": "markdown",
   "id": "a3e85d82-d840-4543-b41f-54dc18ca49f6",
   "metadata": {},
   "source": [
    "A list of all implemented validators can be found by calling"
   ]
  },
  {
   "cell_type": "code",
   "execution_count": 2,
   "id": "746adac6-03f1-4a9f-bcd9-eb77d9e036a1",
   "metadata": {},
   "outputs": [
    {
     "data": {
      "text/plain": [
       "{'$none': h5rdmtoolbox.conventions.validators.NoneValidator,\n",
       " '$datetime': h5rdmtoolbox.conventions.validators.DateTimeValidator,\n",
       " '$type': h5rdmtoolbox.conventions.validators.TypeValidator,\n",
       " '$in': h5rdmtoolbox.conventions.validators.InValidator,\n",
       " '$orcid': h5rdmtoolbox.conventions.validators.ORCIDValidator,\n",
       " '$pintquantity': h5rdmtoolbox.conventions.validators.PintQuantityValidator,\n",
       " '$pintunit': h5rdmtoolbox.conventions.validators.PintUnitsValidator,\n",
       " '$reference': h5rdmtoolbox.conventions.validators.ReferencesValidator,\n",
       " '$url': h5rdmtoolbox.conventions.validators.URLValidator,\n",
       " '$bibtex': h5rdmtoolbox.conventions.validators.BibTeXValidator,\n",
       " '$minlength': h5rdmtoolbox.conventions.validators.MinLengthValidator,\n",
       " '$maxlength': h5rdmtoolbox.conventions.validators.MaxLengthValidator,\n",
       " '$regex': h5rdmtoolbox.conventions.validators.RegexValidator,\n",
       " '$standard_name': h5rdmtoolbox.conventions.standard_names.validator.StandardNameValidator,\n",
       " '$standard_name_table': h5rdmtoolbox.conventions.standard_names.validator.StandardNameTableValidator}"
      ]
     },
     "execution_count": 2,
     "metadata": {},
     "output_type": "execute_result"
    }
   ],
   "source": [
    "h5tbx.conventions.get_validator()"
   ]
  },
  {
   "cell_type": "markdown",
   "id": "de571734-7ce1-4b93-8b1d-c925d1bb7e41",
   "metadata": {},
   "source": [
    "To understand how the validator works, let's examine the \"RegexValidator\" class:"
   ]
  },
  {
   "cell_type": "code",
   "execution_count": 10,
   "id": "ce05a804-00e9-45d8-bb38-ee7621713254",
   "metadata": {},
   "outputs": [],
   "source": [
    "regex_validator_cls = h5tbx.conventions.get_validator('$regex')"
   ]
  },
  {
   "cell_type": "markdown",
   "id": "9dda7c4c-11e3-4980-a169-a9adb8182f7c",
   "metadata": {},
   "source": [
    "The variable `regex_validator_cls` is only the class `RegexValidator`. We need to create an object and provide the pattern to be used when the validatr is called:"
   ]
  },
  {
   "cell_type": "code",
   "execution_count": 11,
   "id": "d7af39e2-df47-4145-954d-b36b2f757ec9",
   "metadata": {},
   "outputs": [
    {
     "data": {
      "text/plain": [
       "<RegexValidator \"$regex\" ref=\"^v\\d+(\\.\\d+)?(a|b|rc|dev)?$\">"
      ]
     },
     "execution_count": 11,
     "metadata": {},
     "output_type": "execute_result"
    }
   ],
   "source": [
    "rv = regex_validator_cls(r'^v\\d+(\\.\\d+)?(a|b|rc|dev)?$')\n",
    "rv"
   ]
  },
  {
   "cell_type": "markdown",
   "id": "f13d4542-b035-49bf-9cd5-ff7000c9b309",
   "metadata": {},
   "source": [
    "Now we can test some inputs. If the pattern does not match the input, an error is raised, otherwise the input is returned:"
   ]
  },
  {
   "cell_type": "code",
   "execution_count": 14,
   "id": "ac2e5b94-9715-416f-9147-ddf423e70d9a",
   "metadata": {},
   "outputs": [
    {
     "name": "stdout",
     "output_type": "stream",
     "text": [
      "The value \"test\" does not match the pattern \"^v\\d+(\\.\\d+)?(a|b|rc|dev)?$\"\n"
     ]
    }
   ],
   "source": [
    "try:\n",
    "    rv('test')\n",
    "except h5tbx.errors.ValidatorError as e:\n",
    "    print(e)"
   ]
  },
  {
   "cell_type": "code",
   "execution_count": 15,
   "id": "1ac2f21d-7f4b-4213-8bbc-0e33c41f0340",
   "metadata": {},
   "outputs": [
    {
     "data": {
      "text/plain": [
       "'v1.0'"
      ]
     },
     "execution_count": 15,
     "metadata": {},
     "output_type": "execute_result"
    }
   ],
   "source": [
    "rv('v1.0')"
   ]
  },
  {
   "cell_type": "code",
   "execution_count": null,
   "id": "2bac81a5-f4e0-490b-887a-6d0346ab9943",
   "metadata": {},
   "outputs": [],
   "source": []
  }
 ],
 "metadata": {
  "kernelspec": {
   "display_name": "Python 3 (ipykernel)",
   "language": "python",
   "name": "python3"
  },
  "language_info": {
   "codemirror_mode": {
    "name": "ipython",
    "version": 3
   },
   "file_extension": ".py",
   "mimetype": "text/x-python",
   "name": "python",
   "nbconvert_exporter": "python",
   "pygments_lexer": "ipython3",
   "version": "3.8.17"
  }
 },
 "nbformat": 4,
 "nbformat_minor": 5
}
