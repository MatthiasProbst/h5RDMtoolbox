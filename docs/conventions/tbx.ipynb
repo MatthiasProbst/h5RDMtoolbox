{
 "cells": [
  {
   "cell_type": "markdown",
   "id": "b67a50a3-7c27-4340-8921-e36cef67debb",
   "metadata": {},
   "source": [
    "# Toolbox Convention (\"tbx\")\n",
    "\n",
    "The default convention shipped with the `h5rdmtoolbox` is called \"tbx\" and is largely based on the CF Metadata Convention (https://cfconventions.org/).\n",
    "\n",
    "It enforces the usage of various attributes for the root group, groups in general or datasets. Some of them are required during object creation, thus they become available during calls like `create_group` or `create_dataset`.\n",
    "\n",
    "For the **root group**, so during **file creation** the following attributes are requested (Root/File attribute are optional as they would be required also during read-mode. In future, there will be an option to make it required only during specific modes):\n",
    "- `title`: Brief description of file content\n",
    "- `institution` (optional): Link or address of institution\n",
    "- `references` (optional): Links related to the data\n",
    "- `standard_name_table` (optional): Standard name table used for this file\n",
    "- `comment` (optional): User comment\n",
    "- `contact` (optional): One or multiple users as ORCID IDs\n",
    "\n",
    "For **group** creation:\n",
    "- `comment` (optional): Additional user comment\n",
    "- `contact` (optional): User(s) as ORCID ID(s) responsible or involved for the group content\n",
    "\n",
    "For **dataset** creation:\n",
    "- `standard_name`: Standardized name listed in Standard Name Table to describe the dataset\n",
    "- `units`: Physical unit of the dataset\n",
    "- `long_name` (optional): A human-readable succinct description of the group content\n",
    "- `comment` (optional): User comment, providing extra information.\n",
    "- `contact` (optional): User(s) as ORCID ID(s) responsible/involved for/in the dataset\n",
    "- `source` (optional): Source of the data (Hardware or Software description)\n",
    "\n",
    "At its core, so-called `standard_names` are defined for each relevant physical quantity. It is documented with its canonical units and a comprehensive description in a versioned table available to all users. No credits are taken for standardized attributes taken from the CF Metadata Convention. However, some attributes are slightly modified or used differntly."
   ]
  },
  {
   "cell_type": "code",
   "execution_count": 1,
   "id": "977b3767-0170-40b5-8d40-af531867a427",
   "metadata": {
    "tags": []
   },
   "outputs": [
    {
     "name": "stderr",
     "output_type": "stream",
     "text": [
      "2023-05-07_12:07:56,410 DEBUG    [__init__.py:36] changed logger level for h5rdmtoolbox from 20 to DEBUG\n"
     ]
    }
   ],
   "source": [
    "import h5rdmtoolbox as h5tbx"
   ]
  },
  {
   "cell_type": "markdown",
   "id": "04af0da0-f25f-4b16-b55c-86ddc7e08f86",
   "metadata": {},
   "source": [
    "To check, which attributes are available for which HDF5object (`File`, `Dataset`, `Group`), call `h5tbx.conventions.registered_conventions['tbx']`:"
   ]
  },
  {
   "cell_type": "code",
   "execution_count": 2,
   "id": "366bd955-3ee8-4c6a-97d1-9728cf1c8ae8",
   "metadata": {
    "tags": []
   },
   "outputs": [
    {
     "data": {
      "text/plain": [
       "\u001b[1mConvention(tbx)\u001b[0m\u001b[1m\n",
       "> Properties\u001b[0m:\n",
       "File:\n",
       "    * title: TitleAttribute\n",
       "    * institution: any_string\n",
       "    * references: ReferencesAttribute\n",
       "    * standard_name_table: StandardNameTableAttribute\n",
       "    * comment: CommentAttribute\n",
       "    * contact: ContactAttribute\n",
       "Dataset:\n",
       "    * standard_name_table: StandardNameTableAttribute\n",
       "    * standard_name: StandardNameAttribute\n",
       "    * units: UnitsAttribute\n",
       "    * long_name: LongNameAttribute\n",
       "    * comment: CommentAttribute\n",
       "    * contact: ContactAttribute\n",
       "    * source: SourceAttribute\n",
       "Group:\n",
       "    * comment: CommentAttribute\n",
       "    * contact: ContactAttribute\u001b[1m\n",
       "> Methods\u001b[0m:\n",
       "  File.__init__():\n",
       "    * title (optional)\n",
       "    * institution (optional)\n",
       "    * references (optional)\n",
       "    * standard_name_table (optional)\n",
       "    * comment (optional)\n",
       "    * contact (optional)\n",
       "  Group.create_dataset():\n",
       "    * standard_name\n",
       "    * units\n",
       "    * long_name\n",
       "    * comment (optional)\n",
       "    * contact (optional)\n",
       "    * source (optional)\n",
       "  Group.create_string_dataset():\n",
       "    * long_name (optional)\n",
       "  Group.create_group():\n",
       "    * comment (optional)\n",
       "    * contact (optional)"
      ]
     },
     "execution_count": 2,
     "metadata": {},
     "output_type": "execute_result"
    }
   ],
   "source": [
    "h5tbx.conventions.registered_conventions['tbx']"
   ]
  },
  {
   "cell_type": "markdown",
   "id": "3d8a8ad0-039e-43e5-b9fb-ea24cab3bfda",
   "metadata": {
    "tags": []
   },
   "source": [
    "## Standard Names\n",
    "The `standard_name` is used to identify a physical quantity. To fulfill interoperability, findability as well as\n",
    "re-usability each dataset **must** be assigned with either the attribute `long_name` or `standard_name`.\n",
    "\n",
    "long_name\n",
    "    A human-readable string.\n",
    "standard_name\n",
    "    A string respecStandardized Name Table\n",
    "-----------------------\n",
    "A standardized name table (snt) again is motivated by the CF Metadata Convention. It is a table\n",
    "containing at least name, description and canonical_units. A python class is provided to read\n",
    "a table from and write to a YML or XML file. Such an object\n",
    "is passed to a wrapper-HDF-class to control the above described metadata of datasets.ting more or less strict rules defined by a community and defined in a name table.\n",
    "\n",
    "Note, that the `long_name` attribute does not guarantee interoperability but `standard_name` does, if\n",
    "the convention is known to each user.\n",
    "In addition to this, an additional attribute is required, namely `units`. As we work with scientific\n",
    "data, each dataset has a physical unit, e.g. [m]. If no physical unit can be set, it might because the\n",
    "variable is dimensionless, which is an information about the unit anyhow, so we set `units=''`.\n",
    "\n",
    "If the `standard_name` is provided in the dataset creation method and a standard name table (snt) is\n",
    "available, then `units` is verified by that table. The table holds the base-units (canonical units) for\n",
    "each standard name (check is performed on basic SI-units).\n"
   ]
  },
  {
   "cell_type": "code",
   "execution_count": 3,
   "id": "27b7e650-30ef-470f-a80d-6c936378f9db",
   "metadata": {
    "tags": []
   },
   "outputs": [
    {
     "data": {
      "text/plain": [
       "<StandardName: x_wind [m/s] | SNT: None | desc: x wind component>"
      ]
     },
     "execution_count": 3,
     "metadata": {},
     "output_type": "execute_result"
    }
   ],
   "source": [
    "from h5rdmtoolbox.conventions import StandardName\n",
    "StandardName(name='x_wind', canonical_units='m/s', description='x wind component')"
   ]
  },
  {
   "cell_type": "markdown",
   "id": "12b0e8cc-2ddb-4eba-ab5c-2556d529c45d",
   "metadata": {},
   "source": [
    "## Standardized Name Table\n",
    "\n",
    "A standardized name table (snt) again is motivated by the CF Metadata Convention. It is a table\n",
    "containing at least name, description and canonical_units. A python class is provided to read\n",
    "a table from and write to a YML or XML file. Such an object\n",
    "is passed to a wrapper-HDF-class to control the above described metadata of datasets."
   ]
  },
  {
   "cell_type": "markdown",
   "id": "d3be87ed-d121-41f1-a445-c36135e9b596",
   "metadata": {},
   "source": [
    "## Usage"
   ]
  },
  {
   "cell_type": "markdown",
   "id": "86739414-d764-46d9-b430-890b32305fcf",
   "metadata": {},
   "source": [
    "To activate the convention inside the `h5rdmtoolbox`, call `use(tbx)`:"
   ]
  },
  {
   "cell_type": "code",
   "execution_count": 4,
   "id": "3026a8e2-ebf6-48aa-9bd6-9d915b9672d9",
   "metadata": {
    "tags": []
   },
   "outputs": [],
   "source": [
    "h5tbx.use('tbx')"
   ]
  },
  {
   "cell_type": "markdown",
   "id": "74c72248-2b69-48f6-b556-4d1b25349752",
   "metadata": {},
   "source": [
    "Whenever a dataset is written and the parameter `standard_name` is set, it is verified against the standard name convention/table associated with the wrapper class. If the constant `STRICT` is set to True (default), the name is looked-up in the table and, if not found, the dataset cannot be written. To allow standard names, that fulfill the spelling requirements but are not yet listed in the table, set `STRICT` to False:"
   ]
  },
  {
   "cell_type": "code",
   "execution_count": 5,
   "id": "52a96fd3-318c-4e0a-8c57-82cfcb170480",
   "metadata": {
    "tags": []
   },
   "outputs": [],
   "source": [
    "h5tbx.conventions.standard_name.STRICT = False"
   ]
  },
  {
   "cell_type": "markdown",
   "id": "35f34c5c-f057-423f-97fd-73e6c6ad9db3",
   "metadata": {},
   "source": [
    "The string representation of the HDF5 file object indicates, that the tbx-convention is enabled:"
   ]
  },
  {
   "cell_type": "markdown",
   "id": "781dc732-b47e-414d-bd01-b8deb3367344",
   "metadata": {},
   "source": [
    "Some attributes are obligatory to provide with a dataset:\n",
    "- `units`\n",
    "- `standard_name`\n",
    "- `long_name` (not needed if `standard_name` exists and vise versa)\n",
    "\n",
    "**units**<br>\n",
    "We expect that each data set written to the HDF5 file has a physical unit or no unit at all. It is registered in the attribute `units`.\n",
    "\n",
    "**standard_name and long_name**<br>\n",
    "For the sake of improved readability and interpretability the convention suggests to use `long_name` or `standard_name` as additional attributes. While `long_name` is human-readable and interpretable attribute, `standard_name` is intended to be read by a machine (other software). This allows to automate exploration and processing work."
   ]
  },
  {
   "cell_type": "markdown",
   "id": "b8a7929b-a88f-47aa-853d-3fdd263114be",
   "metadata": {
    "tags": []
   },
   "source": [
    "### Dataset Creation"
   ]
  },
  {
   "cell_type": "code",
   "execution_count": 6,
   "id": "81330e61-1e0f-406c-9bbd-63095c8f5f8d",
   "metadata": {
    "tags": []
   },
   "outputs": [
    {
     "data": {
      "text/plain": [
       "<function h5rdmtoolbox.wrapper.core.Group.create_dataset(self, name, units=None, standard_name=None, shape=None, dtype=None, data=None, long_name=None, comment=None, source=None, contact=None, overwrite=None, chunks=True, make_scale=False, attach_scales=None, attrs=None, **kwargs)>"
      ]
     },
     "execution_count": 6,
     "metadata": {},
     "output_type": "execute_result"
    }
   ],
   "source": [
    "h5tbx.File.create_dataset"
   ]
  },
  {
   "cell_type": "code",
   "execution_count": 8,
   "id": "310aa4c8-b49c-4103-89ab-ab5273c4bb29",
   "metadata": {
    "tags": []
   },
   "outputs": [
    {
     "name": "stderr",
     "output_type": "stream",
     "text": [
      "C:\\Users\\da4323\\Documents\\programming\\GitHub\\h5RDMtoolbox\\h5rdmtoolbox\\conventions\\standard_name.py:1206: UserWarning: No URL provided. Will save as dictionary.\n",
      "  warnings.warn(f'No URL provided. Will save as dictionary.')\n"
     ]
    },
    {
     "data": {
      "text/html": [
       "<head><style>/*\r\n",
       "CSS inspired by xarray: https://github.com/pydata/xarray\r\n",
       "*/\r\n",
       ".h5tb-header > div,\r\n",
       ".h5tb-header > ul {\r\n",
       "    display: inline;\r\n",
       "    margin-top: 0;\r\n",
       "    margin-bottom: 0;\r\n",
       "}\r\n",
       "\r\n",
       ".h5tb-dataarray-cls,\r\n",
       ".h5tb-dataarray-name {\r\n",
       "    margin-left: 2px;\r\n",
       "    margin-right: 10px;\r\n",
       "}\r\n",
       "\r\n",
       ".h5tb-dataarray-name {\r\n",
       "    color: #000;\r\n",
       "}\r\n",
       "\r\n",
       ".h5grp-sections {\r\n",
       "    list-style: none;\r\n",
       "    padding: 3px;\r\n",
       "    margin: 0;\r\n",
       "}\r\n",
       "\r\n",
       ".h5grp-sections input {\r\n",
       "    display: none;\r\n",
       "}\r\n",
       "\r\n",
       ".h5grp-sections label {\r\n",
       "    display: inline;\r\n",
       "}\r\n",
       "\r\n",
       ".h5grp-sections > li > input + label > span {\r\n",
       "    display: inline;\r\n",
       "    margin-left: 4px;\r\n",
       "}\r\n",
       "\r\n",
       ".h5grp-sections > li > input:checked + label > span {\r\n",
       "    display: none;\r\n",
       "}\r\n",
       "\r\n",
       ".h5grp-sections input:enabled + label {\r\n",
       "    cursor: pointer;\r\n",
       "}\r\n",
       "\r\n",
       ".h5grp-sections input:not(.h5tb-values-in) ~ ul {\r\n",
       "    display: none;\r\n",
       "}\r\n",
       "\r\n",
       ".h5grp-sections input:not(.h5tb-values-in):checked ~ ul {\r\n",
       "    display: block;\r\n",
       "}\r\n",
       "\r\n",
       ".h5grp-sections > li > input + label {\r\n",
       "    width: 140px;\r\n",
       "    color: #555;\r\n",
       "    font-weight: 500;\r\n",
       "    padding: 4px 0 2px 0;\r\n",
       "}\r\n",
       "\r\n",
       "\r\n",
       ".h5grp-sections > li > input + label:before {\r\n",
       "    display: inline-block;\r\n",
       "    content: '+';\r\n",
       "    font-size: 11px;\r\n",
       "    width: 15px;\r\n",
       "    text-align: center;\r\n",
       "}\r\n",
       "\r\n",
       ".h5grp-sections > li > input:disabled + label:before {\r\n",
       "    color: #777;\r\n",
       "}\r\n",
       "\r\n",
       ".h5grp-sections > li > input:checked + label:before {\r\n",
       "    content: '-';\r\n",
       "}\r\n",
       "\r\n",
       ".h5tb-dim-list {\r\n",
       "    display: inline-block !important;\r\n",
       "    list-style: none;\r\n",
       "    padding: 0;\r\n",
       "}\r\n",
       "\r\n",
       ".h5tb-dim-list li {\r\n",
       "    display: inline-block;\r\n",
       "    padding: 0;\r\n",
       "    margin: 0;\r\n",
       "}\r\n",
       "\r\n",
       ".h5tb-dim-list:before {\r\n",
       "    content: '(';\r\n",
       "}\r\n",
       "\r\n",
       ".h5tb-dim-list:after {\r\n",
       "    content: ')';\r\n",
       "}\r\n",
       "\r\n",
       ".h5tb-dim-list li:not(:last-child):after {\r\n",
       "    content: ',';\r\n",
       "}\r\n",
       "\r\n",
       ".h5tb-has-index {\r\n",
       "    text-decoration: underline;\r\n",
       "}\r\n",
       "\r\n",
       ".h5tb-var-list {\r\n",
       "    list-style: none;\r\n",
       "    padding: 0;\r\n",
       "    margin: 0;\r\n",
       "}\r\n",
       "\r\n",
       ".h5tb-var-list > li {\r\n",
       "    background-color: #fcfcfc;\r\n",
       "    overflow: hidden;\r\n",
       "}\r\n",
       "\r\n",
       ".h5tb-var-list > li:nth-child(odd) {\r\n",
       "    background-color: #efefef;\r\n",
       "}\r\n",
       "\r\n",
       ".h5tb-var-list li:hover {\r\n",
       "    background-color: rgba(3, 169, 244, .2);\r\n",
       "}\r\n",
       "\r\n",
       ".h5tb-var-list li > span {\r\n",
       "    display: inline-block;\r\n",
       "}\r\n",
       "\r\n",
       "input.h5tb-varname-in + label {\r\n",
       "    width: 140px;\r\n",
       "    padding-left: 0;\r\n",
       "    font-weight: bold;\r\n",
       "}\r\n",
       "\r\n",
       ".h5tb-dataset {\r\n",
       "    width: 100px;\r\n",
       "}\r\n",
       "\r\n",
       ".h5tb-attributevalue {\r\n",
       "    width: 100px;\r\n",
       "    text-align: left;\r\n",
       "    color: #888;\r\n",
       "    white-space: nowrap;\r\n",
       "    font-size: 12px;\r\n",
       "}\r\n",
       "\r\n",
       "input.h5tb-varname-in + label:before {\r\n",
       "    content: ' ';\r\n",
       "    display: inline-block;\r\n",
       "    font-size: 11px;\r\n",
       "    width: 15px;\r\n",
       "    padding-left: 2px;\r\n",
       "    padding-right: 2px;\r\n",
       "    text-align: center;\r\n",
       "    color: #aaa;\r\n",
       "    text-decoration: none !important;\r\n",
       "}\r\n",
       "\r\n",
       "input.h5tb-varname-in:enabled + label:hover:before {\r\n",
       "    color: #000;\r\n",
       "}\r\n",
       "\r\n",
       "input.h5tb-varname-in:checked + label:before {\r\n",
       "    color: #ccc;\r\n",
       "}\r\n",
       "\r\n",
       ".h5tb-dims {\r\n",
       "    width: 280px;\r\n",
       "    white-space: nowrap;\r\n",
       "}\r\n",
       "\r\n",
       "\r\n",
       ".h5tb-unit {\r\n",
       "    width: 96px;\r\n",
       "    white-space: nowrap;\r\n",
       "    padding-right: 2px;\r\n",
       "    text-align: right;\r\n",
       "    color: #555;\r\n",
       "    font-style: italic;\r\n",
       "}\r\n",
       "\r\n",
       ".h5tb-attr-list {\r\n",
       "    list-style: none;\r\n",
       "    background-color: #fff;\r\n",
       "    padding-bottom: 6px;\r\n",
       "    color: #555;\r\n",
       "}\r\n",
       "\r\n",
       ".h5tb-attr-list li,\r\n",
       ".h5tb-attr-list li:hover {\r\n",
       "    background-color: #fff;\r\n",
       "}\r\n",
       "\r\n",
       ".h5tb-dim-highlight {\r\n",
       "    background-color: rgba(3, 169, 244, .2);\r\n",
       "    cursor: pointer;\r\n",
       "}</style></head>\n",
       "<div class='h5tb-warp'>\n",
       "\n",
       "              <ul style=\"list-style-type: none;\" class=\"h5grp-sections\">\n",
       "                    <li>\n",
       "                        <input id=\"group-ds--64796422300\" type=\"checkbox\" checked>\n",
       "                        <label style=\"font-weight: bold\" for=\"group-ds--64796422300\">\n",
       "                        /<span>(3)</span></label>\n",
       "                  \n",
       "\n",
       "                    <ul class=\"h5tb-attr-list\"><li style=\"list-style-type: none; font-style: italic\">__h5rdmtoolbox_version__ : 0.5.1a1</li><li style=\"list-style-type: none; font-style: italic\">standard_name_table : Test</li><li style=\"list-style-type: none; font-style: italic\">title : MyFile</li>\n",
       "                    </ul>\n",
       "\n",
       "                <ul id=\"ds-1-/method-64797312300\" class=\"h5tb-var-list\">\n",
       "                <input id=\"ds-2-/method-64797314800\" class=\"h5tb-varname-in\" type=\"checkbox\">\n",
       "                <label class='h5tb-varname' \n",
       "                for=\"ds-2-/method-64797314800\">method</label>: b'linear_interpolation'\n",
       "                \n",
       "                <ul class=\"h5tb-attr-list\"><li style=\"list-style-type: none; font-style: italic\">long_name : The inteprolation method used for something.</li>\n",
       "                </ul>\n",
       "                </ul>\n",
       "\n",
       "                <ul id=\"ds-1-/u-64797597400\" class=\"h5tb-var-list\">\n",
       "                <input id=\"ds-2-/u-64797599800\" class=\"h5tb-varname-in\" type=\"checkbox\">\n",
       "                <label class='h5tb-varname' for=\"ds-2-/u-64797599800\">u</label>\n",
       "                <span class=\"h5tb-dims\">1.2 (float64)</span>\n",
       "                <ul class=\"h5tb-attr-list\"><li style=\"list-style-type: none; font-style:\n",
       "             italic\">standard_name: x_velocity</li><li style=\"list-style-type: none; font-style: italic\">units : m/s</li>\n",
       "                </ul>\n",
       "                </ul>\n",
       "\n",
       "                <ul id=\"ds-1-/v-64799276800\" class=\"h5tb-var-list\">\n",
       "                    <input id=\"ds-2-/v-64799279300\" class=\"h5tb-varname-in\" type=\"checkbox\">\n",
       "                    <label class='h5tb-varname' for=\"ds-2-/v-64799279300\">v</label>\n",
       "                    <span class=\"h5tb-dims\">(3) [int32]</span>\n",
       "                <ul class=\"h5tb-attr-list\"><li style=\"list-style-type: none; font-style:\n",
       "             italic\">standard_name: y_velocity</li><li style=\"list-style-type: none; font-style: italic\">units : m/s</li>\n",
       "                </ul>\n",
       "                </ul>\n",
       "</li>\n",
       "</ul>\n",
       "</div>"
      ],
      "text/plain": [
       "<IPython.core.display.HTML object>"
      ]
     },
     "metadata": {},
     "output_type": "display_data"
    }
   ],
   "source": [
    "from h5rdmtoolbox import tutorial\n",
    "snt = tutorial.get_standard_name_table()\n",
    "\n",
    "with h5tbx.File(title='MyFile', standard_name_table=snt) as h5:\n",
    "    h5.create_dataset('u', data=1.2,\n",
    "                      units='m/s',\n",
    "                      standard_name='x_velocity')\n",
    "    h5.create_dataset('v', data=[1,2,3],\n",
    "                      units='m/s',\n",
    "                      standard_name='y_velocity')\n",
    "    h5.create_dataset('method', data=\"linear_interpolation\",\n",
    "                      long_name='The inteprolation method used for something.')\n",
    "    h5.dump()"
   ]
  },
  {
   "cell_type": "markdown",
   "id": "675808ee-e774-46bf-a4e9-19d6ecd41695",
   "metadata": {},
   "source": [
    "## Group creation\n",
    "\n",
    "In addition to the standard way of creating groups, a `long_name` can be passed. It is optional, though:"
   ]
  },
  {
   "cell_type": "code",
   "execution_count": null,
   "id": "1ff26571-cb9d-46d4-bb29-4c0c6b14bc8b",
   "metadata": {
    "tags": []
   },
   "outputs": [],
   "source": [
    "with h5tbx.File() as h5:\n",
    "    h5.create_group('mygrp')\n",
    "    h5.create_group('othergrp', long_name='my other group')\n",
    "    h5.sdump()"
   ]
  },
  {
   "cell_type": "markdown",
   "id": "86390bf7-b4e2-4b26-bc5e-c49cea12dfd3",
   "metadata": {},
   "source": [
    "### Other attributes definitions"
   ]
  },
  {
   "cell_type": "markdown",
   "id": "ece3dcec-c563-41db-aab9-0df90c59687e",
   "metadata": {},
   "source": [
    "During file initialization, a `title`:"
   ]
  },
  {
   "cell_type": "code",
   "execution_count": null,
   "id": "39958f4f-607b-4f8f-a006-2a1612574c0a",
   "metadata": {
    "tags": []
   },
   "outputs": [],
   "source": [
    "with h5tbx.File(title='MyFile') as h5:\n",
    "    h5.dump()"
   ]
  },
  {
   "cell_type": "markdown",
   "id": "df618578-e7a9-4d42-8ebf-4b00ed1b53be",
   "metadata": {},
   "source": [
    "## Initialize a Standard Name Convention\n",
    "A standardized name table is a XML document, which contains (at least) a description and a canonical unit for a standarized name. We'll build one from scratch first and then have a look into already implemented ones:\n",
    "\n",
    "Call `StandardNameTable` from the sub-package `conventions` and provide a `name`, `version`, `table`, `contact` and and `insitution`:"
   ]
  },
  {
   "cell_type": "code",
   "execution_count": null,
   "id": "dfdb1240-99c2-4bf6-9a6d-17fd03b5eef0",
   "metadata": {},
   "outputs": [],
   "source": [
    "from h5rdmtoolbox.conventions import StandardNameTable"
   ]
  },
  {
   "cell_type": "code",
   "execution_count": null,
   "id": "569b7ff4-5e17-4eda-9e8b-d449277f203e",
   "metadata": {
    "tags": []
   },
   "outputs": [],
   "source": [
    "sc = StandardNameTable(\n",
    "    name='Test_SNC',\n",
    "    table={},\n",
    "    version_number=1,\n",
    "    contact='contact@python.com',\n",
    "    institution='my_institution'\n",
    ")\n",
    "sc"
   ]
  },
  {
   "cell_type": "markdown",
   "id": "7cf8f558-9443-4046-9ec4-17e33414a2c9",
   "metadata": {},
   "source": [
    "We have built an empty convention (no table content). Lets add content. We can do this by creating a dictionary first..."
   ]
  },
  {
   "cell_type": "code",
   "execution_count": null,
   "id": "77561296-edfe-476c-b316-553c1ff92cee",
   "metadata": {},
   "outputs": [],
   "source": [
    "tabledict = {'x_velocity': dict(canonical_units='m/s', description='velocity is a vector quantity.')}\n",
    "tabledict"
   ]
  },
  {
   "cell_type": "markdown",
   "id": "2ac2f67c-0958-4578-82d7-767534251196",
   "metadata": {},
   "source": [
    "... and add it to the object by calling `update()`:"
   ]
  },
  {
   "cell_type": "code",
   "execution_count": null,
   "id": "1c3230f1-2a0d-4b09-b885-3b6a8a16fe83",
   "metadata": {},
   "outputs": [],
   "source": [
    "sc.update(tabledict)\n",
    "sc.dump()"
   ]
  },
  {
   "cell_type": "markdown",
   "id": "584a57e5-acf8-456a-bad4-cfdeea50dfb8",
   "metadata": {},
   "source": [
    "New entries can be assigned by using `set` or `modified` depending on whether the entry already exists or not:"
   ]
  },
  {
   "cell_type": "code",
   "execution_count": null,
   "id": "9e4ce9fe-de0e-4e3c-9410-e5dc891294af",
   "metadata": {
    "tags": []
   },
   "outputs": [],
   "source": [
    "sc.set('time', canonical_units='s', description='physical time')\n",
    "sc.modify('x_velocity', canonical_units='m/s', description='velocity is a vector quantity. x indicates the component in y-axis direction')\n",
    "sc.set('y_velocity', canonical_units='m/s', description='velocity is a vector quantity. y indicates the component in y-axis direction')\n",
    "sc.set('z_velocity', canonical_units='m/s', description='velocity is a vector quantity. z indicates the component in z-axis direction')\n",
    "sc.sdump()"
   ]
  },
  {
   "cell_type": "markdown",
   "id": "a2855d67-4e91-4d32-a173-c581f77b6b93",
   "metadata": {},
   "source": [
    "## Saving Standard Name Table\n",
    "\n",
    "Standard name tables should be saved as xml-documents or yaml-files:"
   ]
  },
  {
   "cell_type": "code",
   "execution_count": null,
   "id": "7d29f972-b6c2-4a25-85cc-8d8c39f28154",
   "metadata": {
    "tags": []
   },
   "outputs": [],
   "source": [
    "xml_filename = h5tbx.generate_temporary_filename(suffix='.xml')\n",
    "sc.to_xml(xml_filename)\n",
    "\n",
    "yml_filename = h5tbx.generate_temporary_filename(suffix='.yml')\n",
    "sc.to_yaml(yml_filename)\n",
    "pass"
   ]
  },
  {
   "cell_type": "markdown",
   "id": "88bc791e-8ea4-491f-bc6e-3fdc5149575b",
   "metadata": {},
   "source": [
    "For later usage from anywhere, the table can be registerd with the toolbox. Call `register()`. It save the convention as yml file in the user directory for standard name data and will use the `versionname`:"
   ]
  },
  {
   "cell_type": "code",
   "execution_count": null,
   "id": "d4e396b6-9564-4e39-aba8-0c8e9ebbef90",
   "metadata": {},
   "outputs": [],
   "source": [
    "sc.register(overwrite=True)\n",
    "StandardNameTable.print_registered()"
   ]
  },
  {
   "cell_type": "markdown",
   "id": "63b38596-fb6d-420f-ac97-9462f38ea76a",
   "metadata": {},
   "source": [
    "Use the command line call"
   ]
  },
  {
   "cell_type": "code",
   "execution_count": null,
   "id": "3fe3ac64-a900-407c-ac09-69ec7187a538",
   "metadata": {},
   "outputs": [],
   "source": [
    "! h5tbx standard_name --list-registered"
   ]
  },
  {
   "cell_type": "markdown",
   "id": "9fa87fb5-04c1-4cb1-bae8-6a5f57339ad1",
   "metadata": {},
   "source": [
    "## Load Standard Name Convention from file\n",
    "\n",
    "If you have standard name tables to your hand, just load them. They must be provided as XML or YML:"
   ]
  },
  {
   "cell_type": "code",
   "execution_count": null,
   "id": "be7625e3-349d-49bd-a14c-e9b2f220da91",
   "metadata": {
    "tags": []
   },
   "outputs": [],
   "source": [
    "sc_test = StandardNameTable.from_yaml(yml_filename)\n",
    "print(sc_test.versionname)\n",
    "sc_test.dump()"
   ]
  },
  {
   "cell_type": "code",
   "execution_count": null,
   "id": "93b5a06b-ce63-4d94-852e-5c16e73458c7",
   "metadata": {
    "tags": []
   },
   "outputs": [],
   "source": [
    "sc_test['x_velocity']"
   ]
  },
  {
   "cell_type": "code",
   "execution_count": null,
   "id": "3cbe804a-0868-43c6-ae92-f813e4fed72a",
   "metadata": {},
   "outputs": [],
   "source": [
    "sc_test['x_velocity'].snt"
   ]
  },
  {
   "cell_type": "markdown",
   "id": "9c7aa611-30f4-457e-a7cf-87a228be9f90",
   "metadata": {},
   "source": [
    "Load a registered Standard Name Table from the toolbox:"
   ]
  },
  {
   "cell_type": "code",
   "execution_count": null,
   "id": "f3861a50-33bc-4625-80d3-6ef95deeddf6",
   "metadata": {},
   "outputs": [],
   "source": [
    "StandardNameTable.load_registered('Test_SNC-v1').dump()"
   ]
  },
  {
   "cell_type": "markdown",
   "id": "7f0dcdab-e9b3-4e89-bec7-06eda703bdbc",
   "metadata": {},
   "source": [
    "## Load from web\n",
    "Optimally a community has defined a naming conventions, just like the cfconventions from where the concept is adoped. Let's imort their latest xml document:"
   ]
  },
  {
   "cell_type": "code",
   "execution_count": null,
   "id": "49060588-f59a-415b-b0ca-55afbf4f609a",
   "metadata": {},
   "outputs": [],
   "source": [
    "cf = StandardNameTable.from_web(url='https://cfconventions.org/Data/cf-standard-names/79/src/cf-standard-name-table.xml')\n",
    "cf"
   ]
  },
  {
   "cell_type": "code",
   "execution_count": null,
   "id": "b51e8fb3-e174-41e8-9737-c5ebf8fccb3d",
   "metadata": {},
   "outputs": [],
   "source": [
    "cf.versionname"
   ]
  },
  {
   "cell_type": "code",
   "execution_count": null,
   "id": "24fcc5e1-6c7a-43ce-a370-47ebe5449ba5",
   "metadata": {},
   "outputs": [],
   "source": [
    "cf.dump(max_rows=4)"
   ]
  },
  {
   "cell_type": "markdown",
   "id": "923fb6d4-e82d-4bc0-8b02-d9588916c20c",
   "metadata": {},
   "source": [
    "## Perform checks\n",
    "A naming convention can be used to test new standard names, whether they comply with it or not:"
   ]
  },
  {
   "cell_type": "code",
   "execution_count": null,
   "id": "ae55dbd6-af9a-4346-b232-b9f4fed3e436",
   "metadata": {},
   "outputs": [],
   "source": [
    "cf.check_name('zenith_angle', strict=True)"
   ]
  },
  {
   "cell_type": "code",
   "execution_count": null,
   "id": "7ef1281b-1b74-4143-b57e-299735526941",
   "metadata": {},
   "outputs": [],
   "source": [
    "cf['x_wind_gust'].canonical_units"
   ]
  },
  {
   "cell_type": "code",
   "execution_count": null,
   "id": "67174d49-18b5-4c47-af61-36e391f85eb0",
   "metadata": {},
   "outputs": [],
   "source": [
    "try:\n",
    "    cf.check_units('x_wind_gust', units='m/s')\n",
    "except h5tbx.erros.StandardizedNameError as e:\n",
    "    print(e)"
   ]
  },
  {
   "cell_type": "code",
   "execution_count": null,
   "id": "6497fe45-cb00-4566-9031-4fdad221ccff",
   "metadata": {},
   "outputs": [],
   "source": [
    "try:\n",
    "    cf.check_units('zenith_angle', units='K')\n",
    "except h5tbx.conventions.standard_name.StandardNameError as e:\n",
    "    print(e)\n",
    "cf.check_units('zenith_angle', units='degree')"
   ]
  },
  {
   "cell_type": "markdown",
   "id": "3562c750-98b1-4068-a6fe-4c7028b9f946",
   "metadata": {},
   "source": [
    "Perform a check on a file"
   ]
  },
  {
   "cell_type": "code",
   "execution_count": null,
   "id": "fbf33dbe-4453-482e-8cd9-2462bf7f81c0",
   "metadata": {},
   "outputs": [],
   "source": [
    "with h5tbx.File(standard_name_table=cf) as h5:\n",
    "    h5.create_dataset('zenith angle', shape=(3,), units='degree', standard_name='zenith_angle')\n",
    "    try:\n",
    "        h5.create_dataset('zenith angle 2', shape=(3,), units='K', standard_name='zenith_angle')\n",
    "    except h5tbx.conventions.standard_name.StandardNameError as e:\n",
    "        print(e)        "
   ]
  },
  {
   "cell_type": "code",
   "execution_count": null,
   "id": "ef3f5cbe-4106-469c-a85d-d5517be154d8",
   "metadata": {},
   "outputs": [],
   "source": [
    "cf.check_file(h5.hdf_filename, raise_error=False)"
   ]
  },
  {
   "cell_type": "markdown",
   "id": "160839e2-7ad3-4194-b341-88c75569ae39",
   "metadata": {},
   "source": [
    "Use the command line call"
   ]
  },
  {
   "cell_type": "code",
   "execution_count": null,
   "id": "0fd0adab-2a27-456d-96bb-c3f07e9773f6",
   "metadata": {},
   "outputs": [],
   "source": [
    "cf.register(overwrite=True)"
   ]
  },
  {
   "cell_type": "code",
   "execution_count": null,
   "id": "ba85f48f-9c41-4a24-b267-c182ff400e2e",
   "metadata": {},
   "outputs": [],
   "source": [
    "! h5tbx standard_name -f {h5.hdf_filename} -t {cf.versionname}"
   ]
  }
 ],
 "metadata": {
  "kernelspec": {
   "display_name": "Python 3 (ipykernel)",
   "language": "python",
   "name": "python3"
  },
  "language_info": {
   "codemirror_mode": {
    "name": "ipython",
    "version": 3
   },
   "file_extension": ".py",
   "mimetype": "text/x-python",
   "name": "python",
   "nbconvert_exporter": "python",
   "pygments_lexer": "ipython3",
   "version": "3.8.16"
  }
 },
 "nbformat": 4,
 "nbformat_minor": 5
}
