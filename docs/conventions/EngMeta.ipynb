{
 "cells": [
  {
   "cell_type": "markdown",
   "id": "7e0ce115-a914-4e1d-ac0b-5e8f43dd9409",
   "metadata": {},
   "source": [
    "# Examples: Realizing existing standards with the toolbox\n",
    "\n",
    "In this chapter, we want to explore two practical examples of established metadata concepts.\n",
    "\n",
    "## EngMeta\n",
    "\n",
    "[EngMeta](https://doi.org/10.18419/darus-500) is a metadata Schema developed as part of the NFDI4Ing (Nationale Forschungsdaten Infrastruktur für Ingenieure).\n",
    "\n",
    "The schema is written a .xsd-file (XML Schema file), however, the toolbox does not provide a converter into YAML file in order to use the schema as a convention. In this example, most mandatory and required fields of the EngMeta schema are manually translated into a convention-YAML file. The below table gives an overview of fields. **Note,** that not all fields are put into the YAML file as numerous attributes like the file size, file type etc. can be derived from the file itself and don't need to be provided by the user.\n",
    "\n",
    "The fields are:\n",
    "\n",
    "| Category   | Title   |      Standard Attribute Name      |  Data Type | Obligation | \n",
    "|----------|----------|:-------------:|------:|------:|\n",
    "| **Descriptive Metadata** | Contact Person |  contact | \\\\$personOrOrganization | M |\n",
    "| | Producer/Author |  creator | \\\\$personOrOrganization |M |\n",
    "| | Contributor |  contributor | \\\\$personOrOrganization | O |\n",
    "| | Title |  title | \\\\$str |M |\n",
    "| | Description |  description | \\\\$str | O |\n",
    "| | Keywords |  keywords | List[\\\\$str] |R |\n",
    "| | Subject |  subject | \\\\$str |R |\n",
    "| | Dates (Creation, Publication, ...) |  dates | Union[\\\\$str, List[\\\\$str]] |R |\n",
    "| **Process Metadata** | Provenance information | provenance | \\\\$processingStep |O |\n",
    "| **Technical Metadata**| PID | identifier | \\\\$pid | M |\n",
    "|  | Legal Information | rightsStatement | \\\\$rightsStatement | R |"
   ]
  },
  {
   "cell_type": "code",
   "execution_count": 1,
   "id": "181e1cbe-4cce-4bb6-a1f1-d8f9dcce89dc",
   "metadata": {},
   "outputs": [],
   "source": [
    "import h5rdmtoolbox as h5tbx"
   ]
  },
  {
   "cell_type": "code",
   "execution_count": 2,
   "id": "ec38972e-3682-43c1-9c7d-34014e70d09a",
   "metadata": {},
   "outputs": [
    {
     "ename": "NameError",
     "evalue": "name 'dateType' is not defined",
     "output_type": "error",
     "traceback": [
      "\u001b[1;31m---------------------------------------------------------------------------\u001b[0m",
      "\u001b[1;31mNameError\u001b[0m                                 Traceback (most recent call last)",
      "Cell \u001b[1;32mIn[2], line 1\u001b[0m\n\u001b[1;32m----> 1\u001b[0m \u001b[43mh5tbx\u001b[49m\u001b[38;5;241;43m.\u001b[39;49m\u001b[43mconventions\u001b[49m\u001b[38;5;241;43m.\u001b[39;49m\u001b[43mfrom_yaml\u001b[49m\u001b[43m(\u001b[49m\u001b[38;5;124;43m'\u001b[39;49m\u001b[38;5;124;43mEngMeta.yaml\u001b[39;49m\u001b[38;5;124;43m'\u001b[39;49m\u001b[43m)\u001b[49m\n",
      "File \u001b[1;32m~\\Documents\\programming\\GitHub\\h5RDMtoolbox\\h5rdmtoolbox\\conventions\\core.py:451\u001b[0m, in \u001b[0;36mfrom_yaml\u001b[1;34m(yaml_filename)\u001b[0m\n\u001b[0;32m    448\u001b[0m \u001b[38;5;28;01mfrom\u001b[39;00m \u001b[38;5;21;01m.\u001b[39;00m \u001b[38;5;28;01mimport\u001b[39;00m generate\n\u001b[0;32m    449\u001b[0m generate\u001b[38;5;241m.\u001b[39mwrite_convention_module_from_yaml(yaml_filename, name\u001b[38;5;241m=\u001b[39mattrs[\u001b[38;5;124m'\u001b[39m\u001b[38;5;124m__name__\u001b[39m\u001b[38;5;124m'\u001b[39m])\n\u001b[1;32m--> 451\u001b[0m \u001b[38;5;28;01mreturn\u001b[39;00m \u001b[43m_get_convention_from_dir\u001b[49m\u001b[43m(\u001b[49m\u001b[43mattrs\u001b[49m\u001b[43m[\u001b[49m\u001b[38;5;124;43m'\u001b[39;49m\u001b[38;5;124;43m__name__\u001b[39;49m\u001b[38;5;124;43m'\u001b[39;49m\u001b[43m]\u001b[49m\u001b[43m)\u001b[49m\n",
      "File \u001b[1;32m~\\Documents\\programming\\GitHub\\h5RDMtoolbox\\h5rdmtoolbox\\conventions\\core.py:287\u001b[0m, in \u001b[0;36m_get_convention_from_dir\u001b[1;34m(convention_name)\u001b[0m\n\u001b[0;32m    285\u001b[0m sys\u001b[38;5;241m.\u001b[39mpath\u001b[38;5;241m.\u001b[39minsert(\u001b[38;5;241m0\u001b[39m, \u001b[38;5;28mstr\u001b[39m(_convention_py_filename\u001b[38;5;241m.\u001b[39mparent))\n\u001b[0;32m    286\u001b[0m \u001b[38;5;66;03m# import:\u001b[39;00m\n\u001b[1;32m--> 287\u001b[0m \u001b[43m_import_convention\u001b[49m\u001b[43m(\u001b[49m\u001b[43m_convention_name\u001b[49m\u001b[43m)\u001b[49m\n\u001b[0;32m    288\u001b[0m \u001b[38;5;66;03m# now it is registered and can be returned:\u001b[39;00m\n\u001b[0;32m    289\u001b[0m \u001b[38;5;28;01mreturn\u001b[39;00m get_registered_conventions()[convention_name]\n",
      "File \u001b[1;32m~\\Documents\\programming\\GitHub\\h5RDMtoolbox\\h5rdmtoolbox\\conventions\\core.py:272\u001b[0m, in \u001b[0;36m_import_convention\u001b[1;34m(convention_name)\u001b[0m\n\u001b[0;32m    270\u001b[0m \u001b[38;5;28;01mimport\u001b[39;00m \u001b[38;5;21;01mimportlib\u001b[39;00m\n\u001b[0;32m    271\u001b[0m \u001b[38;5;28;01mtry\u001b[39;00m:\n\u001b[1;32m--> 272\u001b[0m     \u001b[38;5;28;01mreturn\u001b[39;00m \u001b[43mimportlib\u001b[49m\u001b[38;5;241;43m.\u001b[39;49m\u001b[43mimport_module\u001b[49m\u001b[43m(\u001b[49m\u001b[38;5;124;43mf\u001b[39;49m\u001b[38;5;124;43m'\u001b[39;49m\u001b[38;5;132;43;01m{\u001b[39;49;00m\u001b[43mconvention_name\u001b[49m\u001b[38;5;132;43;01m}\u001b[39;49;00m\u001b[38;5;124;43m'\u001b[39;49m\u001b[43m)\u001b[49m\n\u001b[0;32m    273\u001b[0m \u001b[38;5;28;01mexcept\u001b[39;00m \u001b[38;5;167;01mImportError\u001b[39;00m:\n\u001b[0;32m    274\u001b[0m     \u001b[38;5;28mprint\u001b[39m(\u001b[38;5;124mf\u001b[39m\u001b[38;5;124m\"\u001b[39m\u001b[38;5;124mFailed to import module \u001b[39m\u001b[38;5;132;01m{\u001b[39;00mconvention_name\u001b[38;5;132;01m}\u001b[39;00m\u001b[38;5;124m\"\u001b[39m)\n",
      "File \u001b[1;32m~\\Anaconda3\\envs\\h5tbx\\lib\\importlib\\__init__.py:127\u001b[0m, in \u001b[0;36mimport_module\u001b[1;34m(name, package)\u001b[0m\n\u001b[0;32m    125\u001b[0m             \u001b[38;5;28;01mbreak\u001b[39;00m\n\u001b[0;32m    126\u001b[0m         level \u001b[38;5;241m+\u001b[39m\u001b[38;5;241m=\u001b[39m \u001b[38;5;241m1\u001b[39m\n\u001b[1;32m--> 127\u001b[0m \u001b[38;5;28;01mreturn\u001b[39;00m \u001b[43m_bootstrap\u001b[49m\u001b[38;5;241;43m.\u001b[39;49m\u001b[43m_gcd_import\u001b[49m\u001b[43m(\u001b[49m\u001b[43mname\u001b[49m\u001b[43m[\u001b[49m\u001b[43mlevel\u001b[49m\u001b[43m:\u001b[49m\u001b[43m]\u001b[49m\u001b[43m,\u001b[49m\u001b[43m \u001b[49m\u001b[43mpackage\u001b[49m\u001b[43m,\u001b[49m\u001b[43m \u001b[49m\u001b[43mlevel\u001b[49m\u001b[43m)\u001b[49m\n",
      "File \u001b[1;32m<frozen importlib._bootstrap>:1014\u001b[0m, in \u001b[0;36m_gcd_import\u001b[1;34m(name, package, level)\u001b[0m\n",
      "File \u001b[1;32m<frozen importlib._bootstrap>:991\u001b[0m, in \u001b[0;36m_find_and_load\u001b[1;34m(name, import_)\u001b[0m\n",
      "File \u001b[1;32m<frozen importlib._bootstrap>:975\u001b[0m, in \u001b[0;36m_find_and_load_unlocked\u001b[1;34m(name, import_)\u001b[0m\n",
      "File \u001b[1;32m<frozen importlib._bootstrap>:671\u001b[0m, in \u001b[0;36m_load_unlocked\u001b[1;34m(spec)\u001b[0m\n",
      "File \u001b[1;32m<frozen importlib._bootstrap_external>:843\u001b[0m, in \u001b[0;36mexec_module\u001b[1;34m(self, module)\u001b[0m\n",
      "File \u001b[1;32m<frozen importlib._bootstrap>:219\u001b[0m, in \u001b[0;36m_call_with_frames_removed\u001b[1;34m(f, *args, **kwds)\u001b[0m\n",
      "File \u001b[1;32m~\\AppData\\Local\\h5rdmtoolbox\\h5rdmtoolbox\\conventions\\engmeta\\engmeta.py:12\u001b[0m\n\u001b[0;32m      7\u001b[0m \u001b[38;5;28;01mfrom\u001b[39;00m \u001b[38;5;21;01mpydantic\u001b[39;00m\u001b[38;5;21;01m.\u001b[39;00m\u001b[38;5;21;01mfunctional_validators\u001b[39;00m \u001b[38;5;28;01mimport\u001b[39;00m WrapValidator\n\u001b[0;32m      8\u001b[0m \u001b[38;5;28;01mfrom\u001b[39;00m \u001b[38;5;21;01mtyping_extensions\u001b[39;00m \u001b[38;5;28;01mimport\u001b[39;00m Annotated\n\u001b[1;32m---> 12\u001b[0m \u001b[38;5;28;01mclass\u001b[39;00m \u001b[38;5;21;01mdate_validator\u001b[39;00m(BaseModel):\n\u001b[0;32m     13\u001b[0m     date: dateFormat\n\u001b[0;32m     14\u001b[0m     dateType: dateType\n",
      "File \u001b[1;32m~\\AppData\\Local\\h5rdmtoolbox\\h5rdmtoolbox\\conventions\\engmeta\\engmeta.py:14\u001b[0m, in \u001b[0;36mdate_validator\u001b[1;34m()\u001b[0m\n\u001b[0;32m     12\u001b[0m \u001b[38;5;28;01mclass\u001b[39;00m \u001b[38;5;21;01mdate_validator\u001b[39;00m(BaseModel):\n\u001b[0;32m     13\u001b[0m     date: dateFormat\n\u001b[1;32m---> 14\u001b[0m     dateType: \u001b[43mdateType\u001b[49m\n",
      "\u001b[1;31mNameError\u001b[0m: name 'dateType' is not defined"
     ]
    }
   ],
   "source": [
    "h5tbx.conventions.from_yaml('EngMeta.yaml')"
   ]
  },
  {
   "cell_type": "markdown",
   "id": "fd9c6033-c53d-4947-92b0-1b2d513eea30",
   "metadata": {},
   "source": [
    "## Mapping functions\n",
    "\n",
    "Some metadata can be extracted automatically from "
   ]
  },
  {
   "cell_type": "code",
   "execution_count": 3,
   "id": "206c6ca0-35ac-4221-b626-d27e3abe4a02",
   "metadata": {},
   "outputs": [],
   "source": [
    "import sys"
   ]
  },
  {
   "cell_type": "code",
   "execution_count": 6,
   "id": "cf5ae2fb-4cb4-42f2-8b19-f27afa09ebdb",
   "metadata": {},
   "outputs": [],
   "source": [
    "sys.path.insert(0, r'C:\\Users\\da4323\\AppData\\Local\\h5rdmtoolbox\\h5rdmtoolbox\\conventions\\engmeta')"
   ]
  },
  {
   "cell_type": "code",
   "execution_count": 7,
   "id": "1efc3d78-4abc-4472-bcac-dfb0c19275bc",
   "metadata": {},
   "outputs": [
    {
     "ename": "NameError",
     "evalue": "name 'personOrOrganization' is not defined",
     "output_type": "error",
     "traceback": [
      "\u001b[1;31m---------------------------------------------------------------------------\u001b[0m",
      "\u001b[1;31mNameError\u001b[0m                                 Traceback (most recent call last)",
      "Cell \u001b[1;32mIn[7], line 1\u001b[0m\n\u001b[1;32m----> 1\u001b[0m \u001b[38;5;28;01mimport\u001b[39;00m \u001b[38;5;21;01mengmeta\u001b[39;00m\n",
      "File \u001b[1;32m~\\AppData\\Local\\h5rdmtoolbox\\h5rdmtoolbox\\conventions\\engmeta\\engmeta.py:49\u001b[0m\n\u001b[0;32m     45\u001b[0m \u001b[38;5;28;01mclass\u001b[39;00m \u001b[38;5;21;01mdateType_validator\u001b[39;00m(BaseModel):\n\u001b[0;32m     46\u001b[0m     value: dateType\n\u001b[1;32m---> 49\u001b[0m \u001b[38;5;28;01mclass\u001b[39;00m \u001b[38;5;21;01mcontact_validator\u001b[39;00m(BaseModel):\n\u001b[0;32m     50\u001b[0m \u001b[38;5;250m    \u001b[39m\u001b[38;5;124;03m\"\"\"Name and contact information of a person or organization that can handle requiries about the data over a long time period.\"\"\"\u001b[39;00m\n\u001b[0;32m     51\u001b[0m     value: personOrOrganization\n",
      "File \u001b[1;32m~\\AppData\\Local\\h5rdmtoolbox\\h5rdmtoolbox\\conventions\\engmeta\\engmeta.py:51\u001b[0m, in \u001b[0;36mcontact_validator\u001b[1;34m()\u001b[0m\n\u001b[0;32m     49\u001b[0m \u001b[38;5;28;01mclass\u001b[39;00m \u001b[38;5;21;01mcontact_validator\u001b[39;00m(BaseModel):\n\u001b[0;32m     50\u001b[0m \u001b[38;5;250m    \u001b[39m\u001b[38;5;124;03m\"\"\"Name and contact information of a person or organization that can handle requiries about the data over a long time period.\"\"\"\u001b[39;00m\n\u001b[1;32m---> 51\u001b[0m     value: \u001b[43mpersonOrOrganization\u001b[49m\n",
      "\u001b[1;31mNameError\u001b[0m: name 'personOrOrganization' is not defined"
     ]
    }
   ],
   "source": [
    "import engmeta"
   ]
  },
  {
   "cell_type": "code",
   "execution_count": null,
   "id": "f8a39a03-8834-477b-b8a5-e86551485640",
   "metadata": {},
   "outputs": [],
   "source": []
  }
 ],
 "metadata": {
  "kernelspec": {
   "display_name": "Python 3 (ipykernel)",
   "language": "python",
   "name": "python3"
  },
  "language_info": {
   "codemirror_mode": {
    "name": "ipython",
    "version": 3
   },
   "file_extension": ".py",
   "mimetype": "text/x-python",
   "name": "python",
   "nbconvert_exporter": "python",
   "pygments_lexer": "ipython3",
   "version": "3.8.18"
  }
 },
 "nbformat": 4,
 "nbformat_minor": 5
}
