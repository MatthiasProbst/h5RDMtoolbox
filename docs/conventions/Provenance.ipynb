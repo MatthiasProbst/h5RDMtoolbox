{
 "cells": [
  {
   "cell_type": "markdown",
   "id": "7ddcf4ed-d376-4212-82b6-e073a52c6b2a",
   "metadata": {},
   "source": [
    "# Provenance\n",
    "\n",
    "One aspect of data provenance is keeping track of the processing steps applied to data.\n",
    "\n",
    "Next, we will learn how this can be done working with `xarray` objects."
   ]
  },
  {
   "cell_type": "code",
   "execution_count": 1,
   "id": "1d0538f0-8d79-4daf-9ea6-5a355562e12e",
   "metadata": {},
   "outputs": [],
   "source": [
    "import h5rdmtoolbox as h5tbx\n",
    "import numpy as np"
   ]
  },
  {
   "cell_type": "markdown",
   "id": "53509d04-c859-4e4d-befb-1befe3a7b3ed",
   "metadata": {},
   "source": [
    "For the example, let's assume a 3D-velocity field with time, y- and x-dimension:"
   ]
  },
  {
   "cell_type": "code",
   "execution_count": 2,
   "id": "bfae2053-e432-409e-b2d9-ae73e918efd6",
   "metadata": {},
   "outputs": [
    {
     "data": {
      "text/plain": [
       "using(\"h5rdmtoolbox-tutorial-convention\")"
      ]
     },
     "execution_count": 2,
     "metadata": {},
     "output_type": "execute_result"
    }
   ],
   "source": [
    "cv = h5tbx.conventions.from_zenodo('https://zenodo.org/record/8301535')\n",
    "\n",
    "h5tbx.use(cv)"
   ]
  },
  {
   "cell_type": "code",
   "execution_count": 3,
   "id": "d061c61d-4433-4973-9c80-d459dff67624",
   "metadata": {},
   "outputs": [
    {
     "data": {
      "text/plain": [
       "<matplotlib.collections.QuadMesh at 0x200d542f2b0>"
      ]
     },
     "execution_count": 3,
     "metadata": {},
     "output_type": "execute_result"
    },
    {
     "data": {
      "image/png": "[encoded data removed]",
      "text/plain": [
       "<Figure size 640x480 with 2 Axes>"
      ]
     },
     "metadata": {},
     "output_type": "display_data"
    }
   ],
   "source": [
    "with h5tbx.File(data_type='experimental', contact=h5tbx.__author_orcid__) as h5:\n",
    "    h5.create_dataset('time', data=np.linspace(0, 5, 5), standard_name='time', units='s', make_scale=True)\n",
    "    h5.create_dataset('y', data=np.linspace(0, 10, 10), standard_name='y_coordinate', units='m', make_scale=True)\n",
    "    h5.create_dataset('x', data=np.linspace(0, 7, 7), standard_name='x_coordinate', units='m', make_scale=True)\n",
    "    h5.create_dataset('u', data=np.random.rand(5, 10, 7), standard_name='x_velocity', units='m/s', attach_scale=('time', 'y', 'x'))\n",
    "    u = h5.u[:]\n",
    "\n",
    "# plot t=2.5 s:\n",
    "u.sel(time=2.5).plot()"
   ]
  },
  {
   "cell_type": "code",
   "execution_count": 4,
   "id": "767ee0e9-9f72-4fad-895a-3b088208cca7",
   "metadata": {},
   "outputs": [],
   "source": [
    "from h5rdmtoolbox.conventions.standard_names import accessor"
   ]
  },
  {
   "cell_type": "code",
   "execution_count": 5,
   "id": "db5c4e32-82a1-4e3c-af14-e87025ef5c9c",
   "metadata": {},
   "outputs": [
    {
     "name": "stdout",
     "output_type": "stream",
     "text": [
      "0 applied  __getitem__  on array with shape {'time': 5, 'y': 10, 'x': 7}\n",
      "  ->  __getitem__\n",
      "1 applied  arithmetic_mean_of  on array with shape {'time': 2, 'y': 10, 'x': 7}\n",
      "  ->  arithmetic_mean_of\n",
      "Current shape  {'y': 10, 'x': 7}\n"
     ]
    }
   ],
   "source": [
    "u_processed = u.snt[0:2,...].snt.arithmetic_mean_of(dim='time')\n",
    "\n",
    "def get_dim_shape(da):\n",
    "    return {d: len(da[d]) for d in da.dims}\n",
    "\n",
    "def explain_history(da):\n",
    "    for i, item in enumerate(da.attrs['PROVENANCE']['processing_history']):\n",
    "        print(i, 'applied ', item['name'], ' on array with shape', item['parent']['dims_shape'])\n",
    "        print('  -> ', item['name'])\n",
    "    print('Current shape ', get_dim_shape(da))\n",
    "\n",
    "explain_history(u_processed)"
   ]
  },
  {
   "cell_type": "code",
   "execution_count": 6,
   "id": "d205c895-748b-428b-967a-c9720d9d6333",
   "metadata": {},
   "outputs": [
    {
     "data": {
      "text/plain": [
       "{'root': {'__h5rdmtoolbox_version__': '0.8rc2',\n",
       "  'contact': array(['https://orcid.org/0000-0001-8729-0482'], dtype=object),\n",
       "  'data_type': 'experimental',\n",
       "  'standard_name_table': '10.5281/zenodo.8276716'},\n",
       " 'group': {'__h5rdmtoolbox_version__': '0.8rc2',\n",
       "  'contact': array(['https://orcid.org/0000-0001-8729-0482'], dtype=object),\n",
       "  'data_type': 'experimental',\n",
       "  'standard_name_table': '10.5281/zenodo.8276716'},\n",
       " 'filename': 'C:\\\\Users\\\\da4323\\\\AppData\\\\Local\\\\h5rdmtoolbox\\\\h5rdmtoolbox\\\\tmp\\\\tmp_2\\\\tmp0.hdf'}"
      ]
     },
     "execution_count": 6,
     "metadata": {},
     "output_type": "execute_result"
    }
   ],
   "source": [
    "import json\n",
    "\n",
    "u_processed.attrs['PROVENANCE']['HDF']"
   ]
  },
  {
   "cell_type": "code",
   "execution_count": 7,
   "id": "868dd9a9-3211-4b2b-977c-bb5b4165e7d6",
   "metadata": {},
   "outputs": [
    {
     "name": "stderr",
     "output_type": "stream",
     "text": [
      "2023-09-05_16:03:18,786 ERROR    [core.py:768] Could not set attribute \"PROVENANCE\" with value \"{'HDF': {'root': {'__h5rdmtoolbox_version__': '0.8rc2', 'contact': array(['https://orcid.org/0000-0001-8729-0482'], dtype=object), 'data_type': 'experimental', 'standard_name_table': '10.5281/zenodo.8276716'}, 'group': {'__h5rdmtoolbox_version__': '0.8rc2', 'contact': array(['https://orcid.org/0000-0001-8729-0482'], dtype=object), 'data_type': 'experimental', 'standard_name_table': '10.5281/zenodo.8276716'}, 'filename': 'C:\\\\Users\\\\da4323\\\\AppData\\\\Local\\\\h5rdmtoolbox\\\\h5rdmtoolbox\\\\tmp\\\\tmp_2\\\\tmp0.hdf'}, 'processing_history': [{'parent': {'dims_shape': {'time': 5, 'y': 10, 'x': 7}, 'coord_bounds': {'time': [{'dims': (), 'attrs': {'standard_name': 'time', 'units': 's'}, 'data': 0.0, 'coords': {'time': {'dims': (), 'attrs': {'standard_name': 'time', 'units': 's'}, 'data': 0.0}}, 'name': 'time'}, {'dims': (), 'attrs': {'standard_name': 'time', 'units': 's'}, 'data': 5.0, 'coords': {'time': {'dims': (), 'attrs': {'standard_name': 'time', 'units': 's'}, 'data': 5.0}}, 'name': 'time'}], 'y': [{'dims': (), 'attrs': {'standard_name': 'y_coordinate', 'units': 'm'}, 'data': 0.0, 'coords': {'y': {'dims': (), 'attrs': {'standard_name': 'y_coordinate', 'units': 'm'}, 'data': 0.0}}, 'name': 'y'}, {'dims': (), 'attrs': {'standard_name': 'y_coordinate', 'units': 'm'}, 'data': 10.0, 'coords': {'y': {'dims': (), 'attrs': {'standard_name': 'y_coordinate', 'units': 'm'}, 'data': 10.0}}, 'name': 'y'}], 'x': [{'dims': (), 'attrs': {'standard_name': 'x_coordinate', 'units': 'm'}, 'data': 0.0, 'coords': {'x': {'dims': (), 'attrs': {'standard_name': 'x_coordinate', 'units': 'm'}, 'data': 0.0}}, 'name': 'x'}, {'dims': (), 'attrs': {'standard_name': 'x_coordinate', 'units': 'm'}, 'data': 7.0, 'coords': {'x': {'dims': (), 'attrs': {'standard_name': 'x_coordinate', 'units': 'm'}, 'data': 7.0}}, 'name': 'x'}]}, 'attrs': {'standard_name': 'x_velocity', 'units': 'm/s'}}, 'name': '__getitem__'}, {'parent': {'dims_shape': {'time': 2, 'y': 10, 'x': 7}, 'coord_bounds': {'time': [{'dims': (), 'attrs': {'standard_name': 'time', 'units': 's'}, 'data': 0.0, 'coords': {'time': {'dims': (), 'attrs': {'standard_name': 'time', 'units': 's'}, 'data': 0.0}}, 'name': 'time'}, {'dims': (), 'attrs': {'standard_name': 'time', 'units': 's'}, 'data': 1.25, 'coords': {'time': {'dims': (), 'attrs': {'standard_name': 'time', 'units': 's'}, 'data': 1.25}}, 'name': 'time'}], 'y': [{'dims': (), 'attrs': {'standard_name': 'y_coordinate', 'units': 'm'}, 'data': 0.0, 'coords': {'y': {'dims': (), 'attrs': {'standard_name': 'y_coordinate', 'units': 'm'}, 'data': 0.0}}, 'name': 'y'}, {'dims': (), 'attrs': {'standard_name': 'y_coordinate', 'units': 'm'}, 'data': 10.0, 'coords': {'y': {'dims': (), 'attrs': {'standard_name': 'y_coordinate', 'units': 'm'}, 'data': 10.0}}, 'name': 'y'}], 'x': [{'dims': (), 'attrs': {'standard_name': 'x_coordinate', 'units': 'm'}, 'data': 0.0, 'coords': {'x': {'dims': (), 'attrs': {'standard_name': 'x_coordinate', 'units': 'm'}, 'data': 0.0}}, 'name': 'x'}, {'dims': (), 'attrs': {'standard_name': 'x_coordinate', 'units': 'm'}, 'data': 7.0, 'coords': {'x': {'dims': (), 'attrs': {'standard_name': 'x_coordinate', 'units': 'm'}, 'data': 7.0}}, 'name': 'x'}]}, 'attrs': {'standard_name': 'x_velocity', 'units': 'm/s'}}, 'name': 'arithmetic_mean_of', 'bounds': {'time': [{'dims': (), 'attrs': {'standard_name': 'time', 'units': 's'}, 'data': 0.0, 'coords': {'time': {'dims': (), 'attrs': {'standard_name': 'time', 'units': 's'}, 'data': 0.0}}, 'name': 'time'}, {'dims': (), 'attrs': {'standard_name': 'time', 'units': 's'}, 'data': 1.25, 'coords': {'time': {'dims': (), 'attrs': {'standard_name': 'time', 'units': 's'}, 'data': 1.25}}, 'name': 'time'}]}, 'len': {'time': 2}}]}\" to dataset \"u_processed\"\n"
     ]
    },
    {
     "ename": "TypeError",
     "evalue": "Object of type ndarray is not JSON serializable",
     "output_type": "error",
     "traceback": [
      "\u001b[1;31m---------------------------------------------------------------------------\u001b[0m",
      "\u001b[1;31mTypeError\u001b[0m                                 Traceback (most recent call last)",
      "Cell \u001b[1;32mIn[7], line 3\u001b[0m\n\u001b[0;32m      1\u001b[0m \u001b[38;5;28;01mwith\u001b[39;00m h5tbx\u001b[38;5;241m.\u001b[39muse(\u001b[38;5;28;01mNone\u001b[39;00m):\n\u001b[0;32m      2\u001b[0m     \u001b[38;5;28;01mwith\u001b[39;00m h5tbx\u001b[38;5;241m.\u001b[39mFile() \u001b[38;5;28;01mas\u001b[39;00m h5:\n\u001b[1;32m----> 3\u001b[0m         \u001b[43mh5\u001b[49m\u001b[38;5;241;43m.\u001b[39;49m\u001b[43mcreate_dataset\u001b[49m\u001b[43m(\u001b[49m\u001b[38;5;124;43m'\u001b[39;49m\u001b[38;5;124;43mu_processed\u001b[39;49m\u001b[38;5;124;43m'\u001b[39;49m\u001b[43m,\u001b[49m\u001b[43m \u001b[49m\u001b[43mdata\u001b[49m\u001b[38;5;241;43m=\u001b[39;49m\u001b[43mu_processed\u001b[49m\u001b[43m)\u001b[49m\n",
      "File \u001b[1;32m~\\Anaconda3\\envs\\h5tbx\\lib\\site-packages\\forge\\_revision.py:328\u001b[0m, in \u001b[0;36mRevision.__call__.<locals>.inner\u001b[1;34m(*args, **kwargs)\u001b[0m\n\u001b[0;32m    324\u001b[0m \u001b[38;5;129m@functools\u001b[39m\u001b[38;5;241m.\u001b[39mwraps(\u001b[38;5;28mcallable\u001b[39m)  \u001b[38;5;66;03m# type: ignore\u001b[39;00m\n\u001b[0;32m    325\u001b[0m \u001b[38;5;28;01mdef\u001b[39;00m \u001b[38;5;21minner\u001b[39m(\u001b[38;5;241m*\u001b[39margs, \u001b[38;5;241m*\u001b[39m\u001b[38;5;241m*\u001b[39mkwargs):\n\u001b[0;32m    326\u001b[0m     \u001b[38;5;66;03m# pylint: disable=E1102, not-callable\u001b[39;00m\n\u001b[0;32m    327\u001b[0m     mapped \u001b[38;5;241m=\u001b[39m inner\u001b[38;5;241m.\u001b[39m__mapper__(\u001b[38;5;241m*\u001b[39margs, \u001b[38;5;241m*\u001b[39m\u001b[38;5;241m*\u001b[39mkwargs)\n\u001b[1;32m--> 328\u001b[0m     \u001b[38;5;28;01mreturn\u001b[39;00m \u001b[38;5;28;43mcallable\u001b[39;49m\u001b[43m(\u001b[49m\u001b[38;5;241;43m*\u001b[39;49m\u001b[43mmapped\u001b[49m\u001b[38;5;241;43m.\u001b[39;49m\u001b[43margs\u001b[49m\u001b[43m,\u001b[49m\u001b[43m \u001b[49m\u001b[38;5;241;43m*\u001b[39;49m\u001b[38;5;241;43m*\u001b[39;49m\u001b[43mmapped\u001b[49m\u001b[38;5;241;43m.\u001b[39;49m\u001b[43mkwargs\u001b[49m\u001b[43m)\u001b[49m\n",
      "File \u001b[1;32m~\\Documents\\programming\\GitHub\\h5RDMtoolbox\\h5rdmtoolbox\\wrapper\\core.py:696\u001b[0m, in \u001b[0;36mGroup.create_dataset\u001b[1;34m(self, name, shape, dtype, data, overwrite, chunks, make_scale, attach_scales, ancillary_datasets, attrs, **kwargs)\u001b[0m\n\u001b[0;32m    694\u001b[0m             data \u001b[38;5;241m=\u001b[39m data\u001b[38;5;241m.\u001b[39mrename({dim: scale_name})\u001b[38;5;241m.\u001b[39massign_coords({scale_name: scale_data})\n\u001b[0;32m    695\u001b[0m     attrs\u001b[38;5;241m.\u001b[39mupdate(data\u001b[38;5;241m.\u001b[39mattrs)\n\u001b[1;32m--> 696\u001b[0m     \u001b[38;5;28;01mreturn\u001b[39;00m \u001b[43mdata\u001b[49m\u001b[38;5;241;43m.\u001b[39;49m\u001b[43mhdf\u001b[49m\u001b[38;5;241;43m.\u001b[39;49m\u001b[43mto_group\u001b[49m\u001b[43m(\u001b[49m\u001b[38;5;28;43mself\u001b[39;49m\u001b[38;5;241;43m.\u001b[39;49m\u001b[43m_h5grp\u001b[49m\u001b[43m(\u001b[49m\u001b[38;5;28;43mself\u001b[39;49m\u001b[43m)\u001b[49m\u001b[43m,\u001b[49m\u001b[43m \u001b[49m\u001b[43mname\u001b[49m\u001b[38;5;241;43m=\u001b[39;49m\u001b[43mname\u001b[49m\u001b[43m,\u001b[49m\n\u001b[0;32m    697\u001b[0m \u001b[43m                             \u001b[49m\u001b[43moverwrite\u001b[49m\u001b[38;5;241;43m=\u001b[39;49m\u001b[43moverwrite\u001b[49m\u001b[43m,\u001b[49m\n\u001b[0;32m    698\u001b[0m \u001b[43m                             \u001b[49m\u001b[43mcompression\u001b[49m\u001b[38;5;241;43m=\u001b[39;49m\u001b[43mcompression\u001b[49m\u001b[43m,\u001b[49m\n\u001b[0;32m    699\u001b[0m \u001b[43m                             \u001b[49m\u001b[43mcompression_opts\u001b[49m\u001b[38;5;241;43m=\u001b[39;49m\u001b[43mcompression_opts\u001b[49m\u001b[43m,\u001b[49m\n\u001b[0;32m    700\u001b[0m \u001b[43m                             \u001b[49m\u001b[43mattrs\u001b[49m\u001b[38;5;241;43m=\u001b[39;49m\u001b[43mattrs\u001b[49m\u001b[43m)\u001b[49m\n\u001b[0;32m    702\u001b[0m \u001b[38;5;28;01mif\u001b[39;00m \u001b[38;5;129;01mnot\u001b[39;00m \u001b[38;5;28misinstance\u001b[39m(make_scale, (\u001b[38;5;28mbool\u001b[39m, \u001b[38;5;28mstr\u001b[39m)):\n\u001b[0;32m    703\u001b[0m     \u001b[38;5;28;01mraise\u001b[39;00m \u001b[38;5;167;01mTypeError\u001b[39;00m(\u001b[38;5;124mf\u001b[39m\u001b[38;5;124m'\u001b[39m\u001b[38;5;124mMake scale must be a boolean or a string not \u001b[39m\u001b[38;5;132;01m{\u001b[39;00m\u001b[38;5;28mtype\u001b[39m(make_scale)\u001b[38;5;132;01m}\u001b[39;00m\u001b[38;5;124m'\u001b[39m)\n",
      "File \u001b[1;32m~\\Documents\\programming\\GitHub\\h5RDMtoolbox\\h5rdmtoolbox\\wrapper\\xr2hdf.py:82\u001b[0m, in \u001b[0;36mHDFArrayAccessor.to_group\u001b[1;34m(self, h5group, name, overwrite, **kwargs)\u001b[0m\n\u001b[0;32m     79\u001b[0m     \u001b[38;5;28;01melse\u001b[39;00m:\n\u001b[0;32m     80\u001b[0m         attach_scales\u001b[38;5;241m.\u001b[39mappend(coord)\n\u001b[1;32m---> 82\u001b[0m dset \u001b[38;5;241m=\u001b[39m \u001b[43mh5group\u001b[49m\u001b[38;5;241;43m.\u001b[39;49m\u001b[43mcreate_dataset\u001b[49m\u001b[43m(\u001b[49m\u001b[43mname\u001b[49m\u001b[43m,\u001b[49m\u001b[43m \u001b[49m\u001b[43mdata\u001b[49m\u001b[38;5;241;43m=\u001b[39;49m\u001b[38;5;28;43mself\u001b[39;49m\u001b[38;5;241;43m.\u001b[39;49m\u001b[43m_obj\u001b[49m\u001b[38;5;241;43m.\u001b[39;49m\u001b[43mdata\u001b[49m\u001b[43m,\u001b[49m\u001b[43m \u001b[49m\u001b[43mattrs\u001b[49m\u001b[38;5;241;43m=\u001b[39;49m\u001b[43mds_attrs\u001b[49m\u001b[43m,\u001b[49m\u001b[43m \u001b[49m\u001b[38;5;241;43m*\u001b[39;49m\u001b[38;5;241;43m*\u001b[39;49m\u001b[43mkwargs\u001b[49m\u001b[43m)\u001b[49m\n\u001b[0;32m     83\u001b[0m \u001b[38;5;66;03m# for k, v in ds_attrs.items():\u001b[39;00m\n\u001b[0;32m     84\u001b[0m \u001b[38;5;66;03m#     try:\u001b[39;00m\n\u001b[0;32m     85\u001b[0m \u001b[38;5;66;03m#         if isinstance(v, str):\u001b[39;00m\n\u001b[1;32m   (...)\u001b[0m\n\u001b[0;32m     93\u001b[0m \n\u001b[0;32m     94\u001b[0m \u001b[38;5;66;03m# TODO check that there are \"intermediate\" coords like ix(x), iy(y)\u001b[39;00m\n\u001b[0;32m     95\u001b[0m \u001b[38;5;28;01mfor\u001b[39;00m i, s \u001b[38;5;129;01min\u001b[39;00m \u001b[38;5;28menumerate\u001b[39m(\u001b[38;5;28mself\u001b[39m\u001b[38;5;241m.\u001b[39m_obj\u001b[38;5;241m.\u001b[39mdims):\n",
      "File \u001b[1;32m~\\Anaconda3\\envs\\h5tbx\\lib\\site-packages\\forge\\_revision.py:328\u001b[0m, in \u001b[0;36mRevision.__call__.<locals>.inner\u001b[1;34m(*args, **kwargs)\u001b[0m\n\u001b[0;32m    324\u001b[0m \u001b[38;5;129m@functools\u001b[39m\u001b[38;5;241m.\u001b[39mwraps(\u001b[38;5;28mcallable\u001b[39m)  \u001b[38;5;66;03m# type: ignore\u001b[39;00m\n\u001b[0;32m    325\u001b[0m \u001b[38;5;28;01mdef\u001b[39;00m \u001b[38;5;21minner\u001b[39m(\u001b[38;5;241m*\u001b[39margs, \u001b[38;5;241m*\u001b[39m\u001b[38;5;241m*\u001b[39mkwargs):\n\u001b[0;32m    326\u001b[0m     \u001b[38;5;66;03m# pylint: disable=E1102, not-callable\u001b[39;00m\n\u001b[0;32m    327\u001b[0m     mapped \u001b[38;5;241m=\u001b[39m inner\u001b[38;5;241m.\u001b[39m__mapper__(\u001b[38;5;241m*\u001b[39margs, \u001b[38;5;241m*\u001b[39m\u001b[38;5;241m*\u001b[39mkwargs)\n\u001b[1;32m--> 328\u001b[0m     \u001b[38;5;28;01mreturn\u001b[39;00m \u001b[38;5;28;43mcallable\u001b[39;49m\u001b[43m(\u001b[49m\u001b[38;5;241;43m*\u001b[39;49m\u001b[43mmapped\u001b[49m\u001b[38;5;241;43m.\u001b[39;49m\u001b[43margs\u001b[49m\u001b[43m,\u001b[49m\u001b[43m \u001b[49m\u001b[38;5;241;43m*\u001b[39;49m\u001b[38;5;241;43m*\u001b[39;49m\u001b[43mmapped\u001b[49m\u001b[38;5;241;43m.\u001b[39;49m\u001b[43mkwargs\u001b[49m\u001b[43m)\u001b[49m\n",
      "File \u001b[1;32m~\\Documents\\programming\\GitHub\\h5RDMtoolbox\\h5rdmtoolbox\\wrapper\\core.py:770\u001b[0m, in \u001b[0;36mGroup.create_dataset\u001b[1;34m(self, name, shape, dtype, data, overwrite, chunks, make_scale, attach_scales, ancillary_datasets, attrs, **kwargs)\u001b[0m\n\u001b[0;32m    768\u001b[0m         logger\u001b[38;5;241m.\u001b[39merror(\u001b[38;5;124mf\u001b[39m\u001b[38;5;124m'\u001b[39m\u001b[38;5;124mCould not set attribute \u001b[39m\u001b[38;5;124m\"\u001b[39m\u001b[38;5;132;01m{\u001b[39;00mk\u001b[38;5;132;01m}\u001b[39;00m\u001b[38;5;124m\"\u001b[39m\u001b[38;5;124m with value \u001b[39m\u001b[38;5;124m\"\u001b[39m\u001b[38;5;132;01m{\u001b[39;00mv\u001b[38;5;132;01m}\u001b[39;00m\u001b[38;5;124m\"\u001b[39m\u001b[38;5;124m to dataset \u001b[39m\u001b[38;5;124m\"\u001b[39m\u001b[38;5;132;01m{\u001b[39;00mname\u001b[38;5;132;01m}\u001b[39;00m\u001b[38;5;124m\"\u001b[39m\u001b[38;5;124m'\u001b[39m)\n\u001b[0;32m    769\u001b[0m         \u001b[38;5;28;01mdel\u001b[39;00m \u001b[38;5;28mself\u001b[39m[name]\n\u001b[1;32m--> 770\u001b[0m         \u001b[38;5;28;01mraise\u001b[39;00m e\n\u001b[0;32m    771\u001b[0m \u001b[38;5;28;01mif\u001b[39;00m \u001b[38;5;28misinstance\u001b[39m(data, np\u001b[38;5;241m.\u001b[39mndarray):\n\u001b[0;32m    772\u001b[0m     \u001b[38;5;28;01mif\u001b[39;00m data \u001b[38;5;129;01mis\u001b[39;00m \u001b[38;5;129;01mnot\u001b[39;00m \u001b[38;5;28;01mNone\u001b[39;00m \u001b[38;5;129;01mand\u001b[39;00m data\u001b[38;5;241m.\u001b[39mndim \u001b[38;5;241m>\u001b[39m \u001b[38;5;241m0\u001b[39m:\n",
      "File \u001b[1;32m~\\Documents\\programming\\GitHub\\h5RDMtoolbox\\h5rdmtoolbox\\wrapper\\core.py:766\u001b[0m, in \u001b[0;36mGroup.create_dataset\u001b[1;34m(self, name, shape, dtype, data, overwrite, chunks, make_scale, attach_scales, ancillary_datasets, attrs, **kwargs)\u001b[0m\n\u001b[0;32m    762\u001b[0m \u001b[38;5;28;01mtry\u001b[39;00m:\n\u001b[0;32m    763\u001b[0m     \u001b[38;5;28;01mfor\u001b[39;00m k, v \u001b[38;5;129;01min\u001b[39;00m attrs\u001b[38;5;241m.\u001b[39mitems():\n\u001b[0;32m    764\u001b[0m         \u001b[38;5;66;03m# call __setitem__ because then we can pass attrs which is needed by the potential validators of\u001b[39;00m\n\u001b[0;32m    765\u001b[0m         \u001b[38;5;66;03m# standard attributes\u001b[39;00m\n\u001b[1;32m--> 766\u001b[0m         \u001b[43mds\u001b[49m\u001b[38;5;241;43m.\u001b[39;49m\u001b[43mattrs\u001b[49m\u001b[38;5;241;43m.\u001b[39;49m\u001b[38;5;21;43m__setitem__\u001b[39;49m\u001b[43m(\u001b[49m\u001b[43mk\u001b[49m\u001b[43m,\u001b[49m\u001b[43m \u001b[49m\u001b[43mv\u001b[49m\u001b[43m,\u001b[49m\u001b[43m \u001b[49m\u001b[43mattrs\u001b[49m\u001b[43m)\u001b[49m\n\u001b[0;32m    767\u001b[0m \u001b[38;5;28;01mexcept\u001b[39;00m \u001b[38;5;167;01mException\u001b[39;00m \u001b[38;5;28;01mas\u001b[39;00m e:\n\u001b[0;32m    768\u001b[0m     logger\u001b[38;5;241m.\u001b[39merror(\u001b[38;5;124mf\u001b[39m\u001b[38;5;124m'\u001b[39m\u001b[38;5;124mCould not set attribute \u001b[39m\u001b[38;5;124m\"\u001b[39m\u001b[38;5;132;01m{\u001b[39;00mk\u001b[38;5;132;01m}\u001b[39;00m\u001b[38;5;124m\"\u001b[39m\u001b[38;5;124m with value \u001b[39m\u001b[38;5;124m\"\u001b[39m\u001b[38;5;132;01m{\u001b[39;00mv\u001b[38;5;132;01m}\u001b[39;00m\u001b[38;5;124m\"\u001b[39m\u001b[38;5;124m to dataset \u001b[39m\u001b[38;5;124m\"\u001b[39m\u001b[38;5;132;01m{\u001b[39;00mname\u001b[38;5;132;01m}\u001b[39;00m\u001b[38;5;124m\"\u001b[39m\u001b[38;5;124m'\u001b[39m)\n",
      "File \u001b[1;32mh5py\\_objects.pyx:54\u001b[0m, in \u001b[0;36mh5py._objects.with_phil.wrapper\u001b[1;34m()\u001b[0m\n",
      "File \u001b[1;32mh5py\\_objects.pyx:55\u001b[0m, in \u001b[0;36mh5py._objects.with_phil.wrapper\u001b[1;34m()\u001b[0m\n",
      "File \u001b[1;32m~\\Documents\\programming\\GitHub\\h5RDMtoolbox\\h5rdmtoolbox\\wrapper\\h5attr.py:162\u001b[0m, in \u001b[0;36mWrapperAttributeManager.__setitem__\u001b[1;34m(self, name, value, attrs)\u001b[0m\n\u001b[0;32m    160\u001b[0m         \u001b[38;5;28;01mexcept\u001b[39;00m \u001b[38;5;167;01mTypeError\u001b[39;00m \u001b[38;5;28;01mas\u001b[39;00m e:\n\u001b[0;32m    161\u001b[0m             \u001b[38;5;28;01mraise\u001b[39;00m \u001b[38;5;167;01mTypeError\u001b[39;00m(\u001b[38;5;124mf\u001b[39m\u001b[38;5;124m'\u001b[39m\u001b[38;5;124mCould not set \u001b[39m\u001b[38;5;124m\"\u001b[39m\u001b[38;5;132;01m{\u001b[39;00mname\u001b[38;5;132;01m}\u001b[39;00m\u001b[38;5;124m\"\u001b[39m\u001b[38;5;124m (value=\u001b[39m\u001b[38;5;124m\"\u001b[39m\u001b[38;5;132;01m{\u001b[39;00mvalue\u001b[38;5;132;01m}\u001b[39;00m\u001b[38;5;124m\"\u001b[39m\u001b[38;5;124m) to \u001b[39m\u001b[38;5;124m\"\u001b[39m\u001b[38;5;132;01m{\u001b[39;00mparent\u001b[38;5;241m.\u001b[39mname\u001b[38;5;132;01m}\u001b[39;00m\u001b[38;5;124m\"\u001b[39m\u001b[38;5;124m. Orig error: \u001b[39m\u001b[38;5;132;01m{\u001b[39;00me\u001b[38;5;132;01m}\u001b[39;00m\u001b[38;5;124m'\u001b[39m)\n\u001b[1;32m--> 162\u001b[0m \u001b[43mutils\u001b[49m\u001b[38;5;241;43m.\u001b[39;49m\u001b[43mcreate_special_attribute\u001b[49m\u001b[43m(\u001b[49m\u001b[38;5;28;43mself\u001b[39;49m\u001b[43m,\u001b[49m\u001b[43m \u001b[49m\u001b[43mname\u001b[49m\u001b[43m,\u001b[49m\u001b[43m \u001b[49m\u001b[43mvalue\u001b[49m\u001b[43m)\u001b[49m\n",
      "File \u001b[1;32m~\\Documents\\programming\\GitHub\\h5RDMtoolbox\\h5rdmtoolbox\\utils.py:254\u001b[0m, in \u001b[0;36mcreate_special_attribute\u001b[1;34m(h5obj, name, value)\u001b[0m\n\u001b[0;32m    252\u001b[0m         \u001b[38;5;28;01mif\u001b[39;00m \u001b[38;5;28misinstance\u001b[39m(v, (h5py\u001b[38;5;241m.\u001b[39mDataset, h5py\u001b[38;5;241m.\u001b[39mGroup)):\n\u001b[0;32m    253\u001b[0m             value[k] \u001b[38;5;241m=\u001b[39m v\u001b[38;5;241m.\u001b[39mname\n\u001b[1;32m--> 254\u001b[0m     _value \u001b[38;5;241m=\u001b[39m \u001b[43mjson\u001b[49m\u001b[38;5;241;43m.\u001b[39;49m\u001b[43mdumps\u001b[49m\u001b[43m(\u001b[49m\u001b[43mtry_making_serializable\u001b[49m\u001b[43m(\u001b[49m\u001b[43mvalue\u001b[49m\u001b[43m)\u001b[49m\u001b[43m)\u001b[49m\n\u001b[0;32m    255\u001b[0m \u001b[38;5;28;01melif\u001b[39;00m \u001b[38;5;28misinstance\u001b[39m(value, (h5py\u001b[38;5;241m.\u001b[39mDataset, h5py\u001b[38;5;241m.\u001b[39mGroup)):\n\u001b[0;32m    256\u001b[0m     _value \u001b[38;5;241m=\u001b[39m value\u001b[38;5;241m.\u001b[39mname\n",
      "File \u001b[1;32m~\\Anaconda3\\envs\\h5tbx\\lib\\json\\__init__.py:231\u001b[0m, in \u001b[0;36mdumps\u001b[1;34m(obj, skipkeys, ensure_ascii, check_circular, allow_nan, cls, indent, separators, default, sort_keys, **kw)\u001b[0m\n\u001b[0;32m    226\u001b[0m \u001b[38;5;66;03m# cached encoder\u001b[39;00m\n\u001b[0;32m    227\u001b[0m \u001b[38;5;28;01mif\u001b[39;00m (\u001b[38;5;129;01mnot\u001b[39;00m skipkeys \u001b[38;5;129;01mand\u001b[39;00m ensure_ascii \u001b[38;5;129;01mand\u001b[39;00m\n\u001b[0;32m    228\u001b[0m     check_circular \u001b[38;5;129;01mand\u001b[39;00m allow_nan \u001b[38;5;129;01mand\u001b[39;00m\n\u001b[0;32m    229\u001b[0m     \u001b[38;5;28mcls\u001b[39m \u001b[38;5;129;01mis\u001b[39;00m \u001b[38;5;28;01mNone\u001b[39;00m \u001b[38;5;129;01mand\u001b[39;00m indent \u001b[38;5;129;01mis\u001b[39;00m \u001b[38;5;28;01mNone\u001b[39;00m \u001b[38;5;129;01mand\u001b[39;00m separators \u001b[38;5;129;01mis\u001b[39;00m \u001b[38;5;28;01mNone\u001b[39;00m \u001b[38;5;129;01mand\u001b[39;00m\n\u001b[0;32m    230\u001b[0m     default \u001b[38;5;129;01mis\u001b[39;00m \u001b[38;5;28;01mNone\u001b[39;00m \u001b[38;5;129;01mand\u001b[39;00m \u001b[38;5;129;01mnot\u001b[39;00m sort_keys \u001b[38;5;129;01mand\u001b[39;00m \u001b[38;5;129;01mnot\u001b[39;00m kw):\n\u001b[1;32m--> 231\u001b[0m     \u001b[38;5;28;01mreturn\u001b[39;00m \u001b[43m_default_encoder\u001b[49m\u001b[38;5;241;43m.\u001b[39;49m\u001b[43mencode\u001b[49m\u001b[43m(\u001b[49m\u001b[43mobj\u001b[49m\u001b[43m)\u001b[49m\n\u001b[0;32m    232\u001b[0m \u001b[38;5;28;01mif\u001b[39;00m \u001b[38;5;28mcls\u001b[39m \u001b[38;5;129;01mis\u001b[39;00m \u001b[38;5;28;01mNone\u001b[39;00m:\n\u001b[0;32m    233\u001b[0m     \u001b[38;5;28mcls\u001b[39m \u001b[38;5;241m=\u001b[39m JSONEncoder\n",
      "File \u001b[1;32m~\\Anaconda3\\envs\\h5tbx\\lib\\json\\encoder.py:199\u001b[0m, in \u001b[0;36mJSONEncoder.encode\u001b[1;34m(self, o)\u001b[0m\n\u001b[0;32m    195\u001b[0m         \u001b[38;5;28;01mreturn\u001b[39;00m encode_basestring(o)\n\u001b[0;32m    196\u001b[0m \u001b[38;5;66;03m# This doesn't pass the iterator directly to ''.join() because the\u001b[39;00m\n\u001b[0;32m    197\u001b[0m \u001b[38;5;66;03m# exceptions aren't as detailed.  The list call should be roughly\u001b[39;00m\n\u001b[0;32m    198\u001b[0m \u001b[38;5;66;03m# equivalent to the PySequence_Fast that ''.join() would do.\u001b[39;00m\n\u001b[1;32m--> 199\u001b[0m chunks \u001b[38;5;241m=\u001b[39m \u001b[38;5;28;43mself\u001b[39;49m\u001b[38;5;241;43m.\u001b[39;49m\u001b[43miterencode\u001b[49m\u001b[43m(\u001b[49m\u001b[43mo\u001b[49m\u001b[43m,\u001b[49m\u001b[43m \u001b[49m\u001b[43m_one_shot\u001b[49m\u001b[38;5;241;43m=\u001b[39;49m\u001b[38;5;28;43;01mTrue\u001b[39;49;00m\u001b[43m)\u001b[49m\n\u001b[0;32m    200\u001b[0m \u001b[38;5;28;01mif\u001b[39;00m \u001b[38;5;129;01mnot\u001b[39;00m \u001b[38;5;28misinstance\u001b[39m(chunks, (\u001b[38;5;28mlist\u001b[39m, \u001b[38;5;28mtuple\u001b[39m)):\n\u001b[0;32m    201\u001b[0m     chunks \u001b[38;5;241m=\u001b[39m \u001b[38;5;28mlist\u001b[39m(chunks)\n",
      "File \u001b[1;32m~\\Anaconda3\\envs\\h5tbx\\lib\\json\\encoder.py:257\u001b[0m, in \u001b[0;36mJSONEncoder.iterencode\u001b[1;34m(self, o, _one_shot)\u001b[0m\n\u001b[0;32m    252\u001b[0m \u001b[38;5;28;01melse\u001b[39;00m:\n\u001b[0;32m    253\u001b[0m     _iterencode \u001b[38;5;241m=\u001b[39m _make_iterencode(\n\u001b[0;32m    254\u001b[0m         markers, \u001b[38;5;28mself\u001b[39m\u001b[38;5;241m.\u001b[39mdefault, _encoder, \u001b[38;5;28mself\u001b[39m\u001b[38;5;241m.\u001b[39mindent, floatstr,\n\u001b[0;32m    255\u001b[0m         \u001b[38;5;28mself\u001b[39m\u001b[38;5;241m.\u001b[39mkey_separator, \u001b[38;5;28mself\u001b[39m\u001b[38;5;241m.\u001b[39mitem_separator, \u001b[38;5;28mself\u001b[39m\u001b[38;5;241m.\u001b[39msort_keys,\n\u001b[0;32m    256\u001b[0m         \u001b[38;5;28mself\u001b[39m\u001b[38;5;241m.\u001b[39mskipkeys, _one_shot)\n\u001b[1;32m--> 257\u001b[0m \u001b[38;5;28;01mreturn\u001b[39;00m \u001b[43m_iterencode\u001b[49m\u001b[43m(\u001b[49m\u001b[43mo\u001b[49m\u001b[43m,\u001b[49m\u001b[43m \u001b[49m\u001b[38;5;241;43m0\u001b[39;49m\u001b[43m)\u001b[49m\n",
      "File \u001b[1;32m~\\Anaconda3\\envs\\h5tbx\\lib\\json\\encoder.py:179\u001b[0m, in \u001b[0;36mJSONEncoder.default\u001b[1;34m(self, o)\u001b[0m\n\u001b[0;32m    160\u001b[0m \u001b[38;5;28;01mdef\u001b[39;00m \u001b[38;5;21mdefault\u001b[39m(\u001b[38;5;28mself\u001b[39m, o):\n\u001b[0;32m    161\u001b[0m \u001b[38;5;250m    \u001b[39m\u001b[38;5;124;03m\"\"\"Implement this method in a subclass such that it returns\u001b[39;00m\n\u001b[0;32m    162\u001b[0m \u001b[38;5;124;03m    a serializable object for ``o``, or calls the base implementation\u001b[39;00m\n\u001b[0;32m    163\u001b[0m \u001b[38;5;124;03m    (to raise a ``TypeError``).\u001b[39;00m\n\u001b[1;32m   (...)\u001b[0m\n\u001b[0;32m    177\u001b[0m \n\u001b[0;32m    178\u001b[0m \u001b[38;5;124;03m    \"\"\"\u001b[39;00m\n\u001b[1;32m--> 179\u001b[0m     \u001b[38;5;28;01mraise\u001b[39;00m \u001b[38;5;167;01mTypeError\u001b[39;00m(\u001b[38;5;124mf\u001b[39m\u001b[38;5;124m'\u001b[39m\u001b[38;5;124mObject of type \u001b[39m\u001b[38;5;132;01m{\u001b[39;00mo\u001b[38;5;241m.\u001b[39m\u001b[38;5;18m__class__\u001b[39m\u001b[38;5;241m.\u001b[39m\u001b[38;5;18m__name__\u001b[39m\u001b[38;5;132;01m}\u001b[39;00m\u001b[38;5;124m \u001b[39m\u001b[38;5;124m'\u001b[39m\n\u001b[0;32m    180\u001b[0m                     \u001b[38;5;124mf\u001b[39m\u001b[38;5;124m'\u001b[39m\u001b[38;5;124mis not JSON serializable\u001b[39m\u001b[38;5;124m'\u001b[39m)\n",
      "\u001b[1;31mTypeError\u001b[0m: Object of type ndarray is not JSON serializable"
     ]
    }
   ],
   "source": [
    "with h5tbx.use(None):\n",
    "    with h5tbx.File() as h5:\n",
    "        h5.create_dataset('u_processed', data=u_processed)"
   ]
  },
  {
   "cell_type": "code",
   "execution_count": null,
   "id": "435eeeff-6cfe-4e37-92d2-3a25dffcc5bc",
   "metadata": {},
   "outputs": [],
   "source": [
    "---awd"
   ]
  },
  {
   "cell_type": "markdown",
   "id": "0e37afcf-816c-4c91-aaa6-75e48ec8934b",
   "metadata": {},
   "source": [
    "Let's say we want to compute the time average of the above data, then we could do the following:"
   ]
  },
  {
   "cell_type": "code",
   "execution_count": null,
   "id": "40e55be2-e91e-4f56-81ae-1549b40a0f28",
   "metadata": {},
   "outputs": [],
   "source": [
    "u.mean(dim='time', keep_attrs=True)"
   ]
  },
  {
   "cell_type": "markdown",
   "id": "18c178f3-339e-4acd-ad87-2e49a96025b4",
   "metadata": {},
   "source": [
    "This leaves us with two issues:\n",
    "- the standard name of the new array is incorrect, it should be \"arithmetic_mean_of_x_velocity\"\n",
    "- information about the original data is lost, e.g. what were the time bounds?"
   ]
  },
  {
   "cell_type": "markdown",
   "id": "c50360e7-0a74-4971-95b2-c8c3fc9feeac",
   "metadata": {},
   "source": [
    "Provenance features must be implemented by the user. With standard names concept, we got such an example. Some of the transformations applicable to standard names can perform mathematical operations:"
   ]
  },
  {
   "cell_type": "code",
   "execution_count": null,
   "id": "2d92a498-1f2e-45e1-9620-24bbfbed4c86",
   "metadata": {},
   "outputs": [],
   "source": [
    "from h5rdmtoolbox.conventions.standard_names import accessor"
   ]
  },
  {
   "cell_type": "code",
   "execution_count": null,
   "id": "66597e1c-0437-4f68-9b81-9092dbbef771",
   "metadata": {},
   "outputs": [],
   "source": [
    "from typing import Dict\n",
    "class HDF5Provenance:\n",
    "\n",
    "    def __init__(self, data: Dict):\n",
    "        self._data = data\n",
    "\n",
    "    @property\n",
    "    def file(self):\n",
    "        return self._data['HDF']\n",
    "\n",
    "    def get_processing_history(self):\n",
    "        return self._data['SNT_TRANSFORMATION_HISTORY']#_TRANSFORMATION_HISTORY']"
   ]
  },
  {
   "cell_type": "code",
   "execution_count": null,
   "id": "22a4ba82-13b5-4344-8bd6-ee1f24eb85e9",
   "metadata": {},
   "outputs": [],
   "source": [
    "import xarray as xr"
   ]
  },
  {
   "cell_type": "code",
   "execution_count": null,
   "id": "c1914476-4fba-48db-b09a-a0035c4dc9a7",
   "metadata": {},
   "outputs": [],
   "source": [
    "u"
   ]
  },
  {
   "cell_type": "code",
   "execution_count": null,
   "id": "0c89be41-b313-4682-8c1f-585fe1c2cb0a",
   "metadata": {},
   "outputs": [],
   "source": [
    "u_mean = u.snt.arithmetic_mean_of(dim=('time')).snt.arithmetic_mean_of(dim=('x'))\n",
    "prov = u_mean.snt.get_provenance()\n",
    "\n",
    "print(f'HDF source file: {HDF5Provenance(prov).file[\"filename\"]}')\n",
    "print('Transformation history:')\n",
    "\n",
    "out = ''\n",
    "for item in HDF5Provenance(prov).get_processing_history():\n",
    "    for s in item['parent']['dims_shape'], ' --', item['name'], f'{tuple(item[\"bounds\"].keys())}' ,' --> ':\n",
    "        out += str(s)\n",
    "\n",
    "out += str({d: len(u[d]) for d in u_mean.dims})\n",
    "print(out)\n"
   ]
  },
  {
   "cell_type": "code",
   "execution_count": null,
   "id": "010fada8-ed20-43ac-af66-77f8fc472c71",
   "metadata": {},
   "outputs": [],
   "source": [
    "print(f'HDF source file: {HDF5Provenance(prov).file[\"filename\"]}')\n",
    "print('Transformation history:')\n",
    "for item in HDF5Provenance(prov).get_processing_history():\n",
    "    # print(item)\n",
    "    print(item['name'])\n",
    "    print(item['parent'])\n",
    "    print(item['bounds'])\n",
    "    print(item['len'])\n",
    "    # dims = []\n",
    "    # for dim_name, dim_data in v.items():\n",
    "    #     _from = xr.DataArray.from_dict(v[dim_name]['bounds'][0])\n",
    "    #     _to = xr.DataArray.from_dict(v[dim_name]['bounds'][1])\n",
    "    #     _len = HDF5Provenance(prov).get_processing_history()['arithmetic_mean_of'][dim_name]['len']\n",
    "    #     _from_str = f'{h5tbx.get_ureg().Quantity(_from.data[()], _from.units)}'\n",
    "    #     _to_str = f'{h5tbx.get_ureg().Quantity(_to.data[()], _to.units)}'\n",
    "    #     dims.append(f'{_len} data points of \"{dim_name}\" in bounds [{_from_str}, {_to_str}]')\n",
    "    # print(f'  > \"{k}\" over\\n     -', '\\n     - '.join(dims))"
   ]
  },
  {
   "cell_type": "code",
   "execution_count": null,
   "id": "9e7555c6-f744-4074-97d6-1156d3d52068",
   "metadata": {},
   "outputs": [],
   "source": [
    "u_mean"
   ]
  },
  {
   "cell_type": "code",
   "execution_count": null,
   "id": "fd646ddd-1b9e-440b-a30d-5b97eeedffd0",
   "metadata": {},
   "outputs": [],
   "source": [
    "prov"
   ]
  },
  {
   "cell_type": "code",
   "execution_count": null,
   "id": "aaff96e3-5e9c-41fb-b418-5cb4dea5f254",
   "metadata": {},
   "outputs": [],
   "source": [
    "u_mean.coords"
   ]
  },
  {
   "cell_type": "code",
   "execution_count": null,
   "id": "6169b71a-d7c9-451c-9d8a-f9ae7d4019e8",
   "metadata": {},
   "outputs": [],
   "source": [
    "da = xr.DataArray.from_dict(HDF5Provenance(prov).get_processing_history()['arithmetic_mean_of']['time'][0])\n",
    "da"
   ]
  },
  {
   "cell_type": "code",
   "execution_count": null,
   "id": "ac98eea0-80f8-47ba-9764-ba5c8e9ef0f6",
   "metadata": {},
   "outputs": [],
   "source": []
  }
 ],
 "metadata": {
  "kernelspec": {
   "display_name": "Python 3 (ipykernel)",
   "language": "python",
   "name": "python3"
  },
  "language_info": {
   "codemirror_mode": {
    "name": "ipython",
    "version": 3
   },
   "file_extension": ".py",
   "mimetype": "text/x-python",
   "name": "python",
   "nbconvert_exporter": "python",
   "pygments_lexer": "ipython3",
   "version": "3.8.17"
  }
 },
 "nbformat": 4,
 "nbformat_minor": 5
}
