{
 "cells": [
  {
   "cell_type": "markdown",
   "id": "2315b6b1-0b1d-4641-879a-956ef4d7d2e9",
   "metadata": {},
   "source": [
    "# Example\n",
    "\n",
    "The example shows a convention for Particle Image Velocimetry (PIV) results."
   ]
  },
  {
   "cell_type": "code",
   "execution_count": 1,
   "id": "15df20cc-b85c-43a4-ae81-03dc62bfe003",
   "metadata": {},
   "outputs": [
    {
     "name": "stdout",
     "output_type": "stream",
     "text": [
      "h5rdmtoolbox.conventions\n"
     ]
    }
   ],
   "source": [
    "import h5rdmtoolbox as h5tbx"
   ]
  },
  {
   "cell_type": "code",
   "execution_count": 2,
   "id": "e432f851-c0b7-46af-a45f-803cb46f122c",
   "metadata": {},
   "outputs": [
    {
     "name": "stderr",
     "output_type": "stream",
     "text": [
      "C:\\Users\\da4323\\Documents\\programming\\GitHub\\h5RDMtoolbox\\h5rdmtoolbox\\conventions\\standard_attributes\\__init__.py:115: UserWarning: Ignoring parameter \"type\"\n",
      "  warnings.warn(f'Ignoring parameter \"{k}\"', UserWarning)\n"
     ]
    }
   ],
   "source": [
    "cv = h5tbx.conventions.from_yaml('piv_specific.yaml', register=True)"
   ]
  },
  {
   "cell_type": "code",
   "execution_count": 3,
   "id": "6fed0ed2-863b-4712-8a5f-4be94922abb9",
   "metadata": {},
   "outputs": [
    {
     "data": {
      "text/plain": [
       "WindowsPath('C:/Users/da4323/Documents/programming/GitHub/h5RDMtoolbox/docs/conventions/piv_specific.yaml')"
      ]
     },
     "execution_count": 3,
     "metadata": {},
     "output_type": "execute_result"
    }
   ],
   "source": [
    "import pathlib\n",
    "pathlib.Path('piv_specific.yaml').absolute()"
   ]
  },
  {
   "cell_type": "code",
   "execution_count": 4,
   "id": "d473061d-54c6-47bb-9fb6-98e71d322305",
   "metadata": {},
   "outputs": [
    {
     "data": {
      "text/plain": [
       "\u001b[1mConvention(\"piv_specific\")\u001b[0m\n",
       "contact: https://orcid.org/0000-0001-8729-0482\n",
       "  File.__init__():\n",
       "    * \u001b[1mtitle\u001b[0m: The attribute 'title' describes the content of the file. It must start with a capital letter and must not end with a space.\n",
       "    * \u001b[1mcontact\u001b[0m: Contact or responsible person represented by an ORCID-ID.\n",
       "    * \u001b[1mpiv_method\u001b[0m: List of expected PIV algorithms.\n",
       "    * \u001b[1mpiv_medium\u001b[0m: The medium of the flow.\n",
       "    * \u001b[1mseeding_material\u001b[0m: The material of the PIV tracing particles.\n",
       "    * \u001b[3mstandard_name_table\u001b[0m (optional=https://zenodo.org/record/8158764): The standard name table of the convention.\n",
       "    * \u001b[3mcomment\u001b[0m (optional=None): A comment to further describe the data.\n",
       "    * \u001b[3mreferences\u001b[0m (optional=None): Web resources servering as references for the data\n",
       "    * \u001b[3minstitution\u001b[0m (optional=None): Name of institution mainly involved in the data\n",
       "  Group.create_dataset():\n",
       "    * \u001b[1mscale\u001b[0m: Scale factor for the dataset values.\n",
       "    * \u001b[1moffset\u001b[0m: Scale factor for the dataset values.\n",
       "    * \u001b[1munits\u001b[0m: Physical unit of the dataset.\n",
       "    * \u001b[1mstandard_name\u001b[0m: Standard names\n",
       "    * \u001b[1mlong_name\u001b[0m: An comprehensive description of the dataset\n",
       "    * \u001b[3mcontact\u001b[0m (optional=None): Contact or responsible person represented by an ORCID-ID.\n",
       "    * \u001b[3mcomment\u001b[0m (optional=None): A comment to further describe the data.\n",
       "    * \u001b[3mreferences\u001b[0m (optional=None): Web resources servering as references for the data\n",
       "  Group.create_group():\n",
       "    * \u001b[3mcontact\u001b[0m (optional=None): Contact or responsible person represented by an ORCID-ID.\n",
       "    * \u001b[3mlong_name\u001b[0m (optional=None): An comprehensive description of the dataset\n",
       "    * \u001b[3mcomment\u001b[0m (optional=None): A comment to further describe the data.\n",
       "    * \u001b[3mreferences\u001b[0m (optional=None): Web resources servering as references for the data"
      ]
     },
     "execution_count": 4,
     "metadata": {},
     "output_type": "execute_result"
    }
   ],
   "source": [
    "cv"
   ]
  },
  {
   "cell_type": "code",
   "execution_count": 5,
   "id": "2b1515c3-9d83-4a08-80f7-26c1e85bc9bf",
   "metadata": {},
   "outputs": [],
   "source": [
    "h5tbx.use(cv)"
   ]
  },
  {
   "cell_type": "code",
   "execution_count": 6,
   "id": "cea4d150-bcab-4a12-bbf0-ddaae3f924d3",
   "metadata": {},
   "outputs": [
    {
     "data": {
      "text/plain": [
       "[WindowsPath('C:/Users/da4323/AppData/Local/h5rdmtoolbox/h5rdmtoolbox/standard_name_tables/8158764.yaml')]"
      ]
     },
     "execution_count": 6,
     "metadata": {},
     "output_type": "execute_result"
    }
   ],
   "source": [
    "list(h5tbx.UserDir['standard_name_tables'].glob('*.yaml'))"
   ]
  },
  {
   "cell_type": "code",
   "execution_count": 7,
   "id": "576e4b17-3a2e-4e21-aab4-7a5cbb47364a",
   "metadata": {},
   "outputs": [
    {
     "name": "stderr",
     "output_type": "stream",
     "text": [
      "2023-07-26_14:54:54,693 DEBUG    [__init__.py:41] changed logger level for h5rdmtoolbox.conventions from 20 to DEBUG\n"
     ]
    }
   ],
   "source": [
    "h5tbx.set_loglevel('h5rdmtoolbox.conventions', 'DEBUG')"
   ]
  },
  {
   "cell_type": "code",
   "execution_count": 10,
   "id": "33d856a6-9a7f-4c1a-a51e-12dbb7af7db2",
   "metadata": {},
   "outputs": [
    {
     "data": {
      "text/html": [
       "<head><style>/*\r\n",
       "CSS inspired by xarray: https://github.com/pydata/xarray\r\n",
       "*/\r\n",
       ".h5tb-header > div,\r\n",
       ".h5tb-header > ul {\r\n",
       "    display: inline;\r\n",
       "    margin-top: 0;\r\n",
       "    margin-bottom: 0;\r\n",
       "}\r\n",
       "\r\n",
       ".h5tb-dataarray-cls,\r\n",
       ".h5tb-dataarray-name {\r\n",
       "    margin-left: 2px;\r\n",
       "    margin-right: 10px;\r\n",
       "}\r\n",
       "\r\n",
       ".h5tb-dataarray-name {\r\n",
       "    color: #000;\r\n",
       "}\r\n",
       "\r\n",
       ".h5grp-sections {\r\n",
       "    list-style: none;\r\n",
       "    padding: 3px;\r\n",
       "    margin: 0;\r\n",
       "}\r\n",
       "\r\n",
       ".h5grp-sections input {\r\n",
       "    display: none;\r\n",
       "}\r\n",
       "\r\n",
       ".h5grp-sections label {\r\n",
       "    display: inline;\r\n",
       "}\r\n",
       "\r\n",
       ".h5grp-sections > li > input + label > span {\r\n",
       "    display: inline;\r\n",
       "    margin-left: 4px;\r\n",
       "}\r\n",
       "\r\n",
       ".h5grp-sections > li > input:checked + label > span {\r\n",
       "    display: none;\r\n",
       "}\r\n",
       "\r\n",
       ".h5grp-sections input:enabled + label {\r\n",
       "    cursor: pointer;\r\n",
       "}\r\n",
       "\r\n",
       ".h5grp-sections input:not(.h5tb-values-in) ~ ul {\r\n",
       "    display: none;\r\n",
       "}\r\n",
       "\r\n",
       ".h5grp-sections input:not(.h5tb-values-in):checked ~ ul {\r\n",
       "    display: block;\r\n",
       "}\r\n",
       "\r\n",
       ".h5grp-sections > li > input + label {\r\n",
       "    width: 140px;\r\n",
       "    color: #555;\r\n",
       "    font-weight: 500;\r\n",
       "    padding: 4px 0 2px 0;\r\n",
       "}\r\n",
       "\r\n",
       "\r\n",
       ".h5grp-sections > li > input + label:before {\r\n",
       "    display: inline-block;\r\n",
       "    content: '+';\r\n",
       "    font-size: 11px;\r\n",
       "    width: 15px;\r\n",
       "    text-align: center;\r\n",
       "}\r\n",
       "\r\n",
       ".h5grp-sections > li > input:disabled + label:before {\r\n",
       "    color: #777;\r\n",
       "}\r\n",
       "\r\n",
       ".h5grp-sections > li > input:checked + label:before {\r\n",
       "    content: '-';\r\n",
       "}\r\n",
       "\r\n",
       ".h5tb-dim-list {\r\n",
       "    display: inline-block !important;\r\n",
       "    list-style: none;\r\n",
       "    padding: 0;\r\n",
       "}\r\n",
       "\r\n",
       ".h5tb-dim-list li {\r\n",
       "    display: inline-block;\r\n",
       "    padding: 0;\r\n",
       "    margin: 0;\r\n",
       "}\r\n",
       "\r\n",
       ".h5tb-dim-list:before {\r\n",
       "    content: '(';\r\n",
       "}\r\n",
       "\r\n",
       ".h5tb-dim-list:after {\r\n",
       "    content: ')';\r\n",
       "}\r\n",
       "\r\n",
       ".h5tb-dim-list li:not(:last-child):after {\r\n",
       "    content: ',';\r\n",
       "}\r\n",
       "\r\n",
       ".h5tb-has-index {\r\n",
       "    text-decoration: underline;\r\n",
       "}\r\n",
       "\r\n",
       ".h5tb-var-list {\r\n",
       "    list-style: none;\r\n",
       "    padding: 0;\r\n",
       "    margin: 0;\r\n",
       "}\r\n",
       "\r\n",
       ".h5tb-var-list > li {\r\n",
       "    background-color: #fcfcfc;\r\n",
       "    overflow: hidden;\r\n",
       "}\r\n",
       "\r\n",
       ".h5tb-var-list > li:nth-child(odd) {\r\n",
       "    background-color: #efefef;\r\n",
       "}\r\n",
       "\r\n",
       ".h5tb-var-list li:hover {\r\n",
       "    background-color: rgba(3, 169, 244, .2);\r\n",
       "}\r\n",
       "\r\n",
       ".h5tb-var-list li > span {\r\n",
       "    display: inline-block;\r\n",
       "}\r\n",
       "\r\n",
       "input.h5tb-varname-in + label {\r\n",
       "    width: 140px;\r\n",
       "    padding-left: 0;\r\n",
       "    font-weight: bold;\r\n",
       "}\r\n",
       "\r\n",
       ".h5tb-dataset {\r\n",
       "    width: 100px;\r\n",
       "}\r\n",
       "\r\n",
       ".h5tb-attributevalue {\r\n",
       "    width: 100px;\r\n",
       "    text-align: left;\r\n",
       "    color: #888;\r\n",
       "    white-space: nowrap;\r\n",
       "    font-size: 12px;\r\n",
       "}\r\n",
       "\r\n",
       "input.h5tb-varname-in + label:before {\r\n",
       "    content: ' ';\r\n",
       "    display: inline-block;\r\n",
       "    font-size: 11px;\r\n",
       "    width: 15px;\r\n",
       "    padding-left: 2px;\r\n",
       "    padding-right: 2px;\r\n",
       "    text-align: center;\r\n",
       "    color: #aaa;\r\n",
       "    text-decoration: none !important;\r\n",
       "}\r\n",
       "\r\n",
       "input.h5tb-varname-in:enabled + label:hover:before {\r\n",
       "    color: #000;\r\n",
       "}\r\n",
       "\r\n",
       "input.h5tb-varname-in:checked + label:before {\r\n",
       "    color: #ccc;\r\n",
       "}\r\n",
       "\r\n",
       ".h5tb-dims {\r\n",
       "    width: 280px;\r\n",
       "    white-space: nowrap;\r\n",
       "}\r\n",
       "\r\n",
       "\r\n",
       ".h5tb-unit {\r\n",
       "    width: 96px;\r\n",
       "    white-space: nowrap;\r\n",
       "    padding-right: 2px;\r\n",
       "    text-align: right;\r\n",
       "    color: #555;\r\n",
       "    font-style: italic;\r\n",
       "}\r\n",
       "\r\n",
       ".h5tb-attr-list {\r\n",
       "    list-style: none;\r\n",
       "    background-color: #fff;\r\n",
       "    padding-bottom: 6px;\r\n",
       "    color: #555;\r\n",
       "}\r\n",
       "\r\n",
       ".h5tb-attr-list li,\r\n",
       ".h5tb-attr-list li:hover {\r\n",
       "    background-color: #fff;\r\n",
       "}\r\n",
       "\r\n",
       ".h5tb-dim-highlight {\r\n",
       "    background-color: rgba(3, 169, 244, .2);\r\n",
       "    cursor: pointer;\r\n",
       "}</style></head>\n",
       "<div class='h5tb-warp'>\n",
       "\n",
       "              <ul style=\"list-style-type: none;\" class=\"h5grp-sections\">\n",
       "                    <li>\n",
       "                        <input id=\"group-ds--24008954100\" type=\"checkbox\" checked>\n",
       "                        <label style=\"font-weight: bold\" for=\"group-ds--24008954100\">\n",
       "                        /<span>(0)</span></label>\n",
       "                  \n",
       "\n",
       "                    <ul class=\"h5tb-attr-list\"><li style=\"list-style-type: none; font-style: italic\">__h5rdmtoolbox_version__ : 0.7.0a0</li><li style=\"list-style-type: none; font-style: italic\">contact : True</li><li style=\"list-style-type: none; font-style: italic\">piv_medium : air</li><li style=\"list-style-type: none; font-style: italic\">piv_method : multi_grid</li><li style=\"list-style-type: none; font-style: italic\">seeding_material : dehs</li><li style=\"list-style-type: none; font-style: italic\">standard_name_table : <a href=\"https://zenodo.org/record/8158764\">https://zenodo.org/record/8158764</a></li><li style=\"list-style-type: none; font-style: italic\">title : None</li>\n",
       "                    </ul>\n",
       "</li>\n",
       "</ul>\n",
       "</div>"
      ],
      "text/plain": [
       "<IPython.core.display.HTML object>"
      ]
     },
     "metadata": {},
     "output_type": "display_data"
    },
    {
     "name": "stderr",
     "output_type": "stream",
     "text": [
      "2023-07-26_14:55:13,663 DEBUG    [standard_name.py:614] Loading standard name table from file: C:\\Users\\da4323\\AppData\\Local\\h5rdmtoolbox\\h5rdmtoolbox\\standard_name_tables\\8158764.yaml\n",
      "2023-07-26_14:55:13,688 DEBUG    [standard_name.py:189] Checking \"x_coordinate\"\n",
      "2023-07-26_14:55:13,693 DEBUG    [standard_name.py:614] Loading standard name table from file: C:\\Users\\da4323\\AppData\\Local\\h5rdmtoolbox\\h5rdmtoolbox\\standard_name_tables\\8158764.yaml\n",
      "2023-07-26_14:55:13,714 DEBUG    [standard_name.py:189] Checking \"x_velocity\"\n",
      "2023-07-26_14:55:13,717 DEBUG    [standard_name.py:614] Loading standard name table from file: C:\\Users\\da4323\\AppData\\Local\\h5rdmtoolbox\\h5rdmtoolbox\\standard_name_tables\\8158764.yaml\n",
      "2023-07-26_14:55:13,745 DEBUG    [standard_name.py:189] Checking \"y_velocity\"\n"
     ]
    },
    {
     "name": "stdout",
     "output_type": "stream",
     "text": [
      "dehs\n",
      "The medium of the flow.\n"
     ]
    }
   ],
   "source": [
    "with h5tbx.File(piv_method='multi_grid',\n",
    "                piv_medium='air',\n",
    "                seeding_material='dehs',\n",
    "                contact='https://orcid.org/0000-0001-8729-0482') as h5:\n",
    "    h5.dump()\n",
    "    \n",
    "    print(h5.seeding_material)\n",
    "    print(h5.standard_attributes['piv_medium'].description)\n",
    "\n",
    "    h5.create_dataset('x_coordinate', data=[0, 4.3, 10.5], units='mm', standard_name='x_coordinate')\n",
    "    h5.create_dataset('x_velocity', data=[-4.3, -3.2, 1.5], units='m/s', standard_name='x_velocity')\n",
    "    h5.create_dataset('y_velocity', data=[2.3, 0.2, -1.76], units='m/s', standard_name='y_velocity')\n",
    "\n",
    "    # now let's create a dataset, which doe snot provide a standard_name, instead a long_name is provided:\n",
    "    h5.create_dataset('temperature', data=[400.5, 401.2, 388.4], units='K', long_name='air temperature')"
   ]
  },
  {
   "cell_type": "code",
   "execution_count": null,
   "id": "b4cb836a-70b4-427c-9450-94406e38de63",
   "metadata": {},
   "outputs": [],
   "source": []
  }
 ],
 "metadata": {
  "kernelspec": {
   "display_name": "Python 3 (ipykernel)",
   "language": "python",
   "name": "python3"
  },
  "language_info": {
   "codemirror_mode": {
    "name": "ipython",
    "version": 3
   },
   "file_extension": ".py",
   "mimetype": "text/x-python",
   "name": "python",
   "nbconvert_exporter": "python",
   "pygments_lexer": "ipython3",
   "version": "3.8.17"
  }
 },
 "nbformat": 4,
 "nbformat_minor": 5
}
