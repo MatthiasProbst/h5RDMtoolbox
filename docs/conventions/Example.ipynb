{
 "cells": [
  {
   "cell_type": "markdown",
   "id": "2315b6b1-0b1d-4641-879a-956ef4d7d2e9",
   "metadata": {},
   "source": [
    "# Example\n",
    "\n",
    "The example shows a convention for Particle Image Velocimetry (PIV) results."
   ]
  },
  {
   "cell_type": "code",
   "execution_count": 1,
   "id": "15df20cc-b85c-43a4-ae81-03dc62bfe003",
   "metadata": {},
   "outputs": [],
   "source": [
    "import h5rdmtoolbox as h5tbx"
   ]
  },
  {
   "cell_type": "code",
   "execution_count": 2,
   "id": "e432f851-c0b7-46af-a45f-803cb46f122c",
   "metadata": {},
   "outputs": [
    {
     "name": "stderr",
     "output_type": "stream",
     "text": [
      "C:\\Users\\da4323\\Documents\\programming\\GitHub\\h5RDMtoolbox\\h5rdmtoolbox\\conventions\\standard_attributes\\__init__.py:189: UserWarning: Ignoring parameter \"type\"\n",
      "  warnings.warn(f'Ignoring parameter \"{k}\"', UserWarning)\n"
     ]
    }
   ],
   "source": [
    "cv = h5tbx.conventions.from_yaml('piv_specific.yaml', register=True)"
   ]
  },
  {
   "cell_type": "code",
   "execution_count": 3,
   "id": "6fed0ed2-863b-4712-8a5f-4be94922abb9",
   "metadata": {},
   "outputs": [
    {
     "data": {
      "text/plain": [
       "WindowsPath('C:/Users/da4323/Documents/programming/GitHub/h5RDMtoolbox/docs/conventions/piv_specific.yaml')"
      ]
     },
     "execution_count": 3,
     "metadata": {},
     "output_type": "execute_result"
    }
   ],
   "source": [
    "import pathlib\n",
    "pathlib.Path('piv_specific.yaml').absolute()"
   ]
  },
  {
   "cell_type": "code",
   "execution_count": 4,
   "id": "d473061d-54c6-47bb-9fb6-98e71d322305",
   "metadata": {},
   "outputs": [
    {
     "data": {
      "text/plain": [
       "\u001b[1mConvention(\"piv_specific\")\u001b[0m\n",
       "contact: https://orcid.org/0000-0001-8729-0482\n",
       "  File.__init__():\n",
       "    * \u001b[1mtitle\u001b[0m:\n",
       "\t\tThe attribute 'title' describes the content of the file. It must start with a capital letter and must not end with a space.\n",
       "    * \u001b[1mpiv_method\u001b[0m:\n",
       "\t\tList of expected PIV algorithms.\n",
       "    * \u001b[1mpiv_medium\u001b[0m:\n",
       "\t\tThe medium of the flow.\n",
       "    * \u001b[1mseeding_material\u001b[0m:\n",
       "\t\tThe material of the PIV tracing particles.\n",
       "    * \u001b[1mcontact\u001b[0m:\n",
       "\t\tContact or responsible person represented by an ORCID-ID.\n",
       "    * \u001b[3mstandard_name_table\u001b[0m (default=10.5281/zenodo.8158764):\n",
       "\t\tThe standard name table of the convention.\n",
       "    * \u001b[3mcomment\u001b[0m (default=None):\n",
       "\t\tA comment to further describe the data.\n",
       "    * \u001b[3minstitution\u001b[0m (default=None):\n",
       "\t\tName of institution mainly involved in the data\n",
       "    * \u001b[3mreferences\u001b[0m (default=None):\n",
       "\t\tWeb resources servering as references for the data\n",
       "  Group.create_dataset():\n",
       "    * \u001b[1munits\u001b[0m:\n",
       "\t\tPhysical unit of the dataset.\n",
       "    * \u001b[1mstandard_name\u001b[0m:\n",
       "\t\tStandard name of the dataset. If not set, the long_name attribute must be given.\n",
       "    * \u001b[3mscale\u001b[0m (default=None):\n",
       "\t\tScale factor for the dataset values.\n",
       "    * \u001b[3moffset\u001b[0m (default=None):\n",
       "\t\tScale factor for the dataset values.\n",
       "    * \u001b[3mcomment\u001b[0m (default=None):\n",
       "\t\tA comment to further describe the data.\n",
       "    * \u001b[3mreferences\u001b[0m (default=None):\n",
       "\t\tWeb resources servering as references for the data\n",
       "  Group.create_group():\n",
       "    * \u001b[3mlong_name\u001b[0m (default=None):\n",
       "\t\tAn comprehensive description of the dataset\n",
       "    * \u001b[3mcomment\u001b[0m (default=None):\n",
       "\t\tA comment to further describe the data.\n",
       "    * \u001b[3mreferences\u001b[0m (default=None):\n",
       "\t\tWeb resources servering as references for the data"
      ]
     },
     "execution_count": 4,
     "metadata": {},
     "output_type": "execute_result"
    }
   ],
   "source": [
    "cv"
   ]
  },
  {
   "cell_type": "code",
   "execution_count": 5,
   "id": "2b1515c3-9d83-4a08-80f7-26c1e85bc9bf",
   "metadata": {},
   "outputs": [],
   "source": [
    "h5tbx.use(cv)"
   ]
  },
  {
   "cell_type": "code",
   "execution_count": 6,
   "id": "cea4d150-bcab-4a12-bbf0-ddaae3f924d3",
   "metadata": {},
   "outputs": [
    {
     "data": {
      "text/plain": [
       "[]"
      ]
     },
     "execution_count": 6,
     "metadata": {},
     "output_type": "execute_result"
    }
   ],
   "source": [
    "list(h5tbx.UserDir['standard_name_tables'].glob('*.yaml'))"
   ]
  },
  {
   "cell_type": "code",
   "execution_count": 7,
   "id": "576e4b17-3a2e-4e21-aab4-7a5cbb47364a",
   "metadata": {},
   "outputs": [
    {
     "name": "stderr",
     "output_type": "stream",
     "text": [
      "2023-07-31_07:23:12,30 DEBUG    [__init__.py:42] changed logger level for h5rdmtoolbox.conventions from 20 to DEBUG\n"
     ]
    }
   ],
   "source": [
    "h5tbx.set_loglevel('h5rdmtoolbox.conventions', 'DEBUG')"
   ]
  },
  {
   "cell_type": "code",
   "execution_count": 8,
   "id": "33d856a6-9a7f-4c1a-a51e-12dbb7af7db2",
   "metadata": {},
   "outputs": [
    {
     "ename": "StandardAttributeError",
     "evalue": "The standard attribute \"title\" is required but not provided.",
     "output_type": "error",
     "traceback": [
      "\u001b[1;31m---------------------------------------------------------------------------\u001b[0m",
      "\u001b[1;31mStandardAttributeError\u001b[0m                    Traceback (most recent call last)",
      "Cell \u001b[1;32mIn[8], line 1\u001b[0m\n\u001b[1;32m----> 1\u001b[0m \u001b[38;5;28;01mwith\u001b[39;00m \u001b[43mh5tbx\u001b[49m\u001b[38;5;241;43m.\u001b[39;49m\u001b[43mFile\u001b[49m\u001b[43m(\u001b[49m\u001b[43m)\u001b[49m \u001b[38;5;28;01mas\u001b[39;00m h5:\n\u001b[0;32m      2\u001b[0m     h5\u001b[38;5;241m.\u001b[39mdump()\n\u001b[0;32m      4\u001b[0m     \u001b[38;5;28mprint\u001b[39m(h5\u001b[38;5;241m.\u001b[39mseeding_material)\n",
      "File \u001b[1;32m~\\Anaconda3\\envs\\h5tbx\\lib\\site-packages\\forge\\_revision.py:328\u001b[0m, in \u001b[0;36mRevision.__call__.<locals>.inner\u001b[1;34m(*args, **kwargs)\u001b[0m\n\u001b[0;32m    324\u001b[0m \u001b[38;5;129m@functools\u001b[39m\u001b[38;5;241m.\u001b[39mwraps(\u001b[38;5;28mcallable\u001b[39m)  \u001b[38;5;66;03m# type: ignore\u001b[39;00m\n\u001b[0;32m    325\u001b[0m \u001b[38;5;28;01mdef\u001b[39;00m \u001b[38;5;21minner\u001b[39m(\u001b[38;5;241m*\u001b[39margs, \u001b[38;5;241m*\u001b[39m\u001b[38;5;241m*\u001b[39mkwargs):\n\u001b[0;32m    326\u001b[0m     \u001b[38;5;66;03m# pylint: disable=E1102, not-callable\u001b[39;00m\n\u001b[0;32m    327\u001b[0m     mapped \u001b[38;5;241m=\u001b[39m inner\u001b[38;5;241m.\u001b[39m__mapper__(\u001b[38;5;241m*\u001b[39margs, \u001b[38;5;241m*\u001b[39m\u001b[38;5;241m*\u001b[39mkwargs)\n\u001b[1;32m--> 328\u001b[0m     \u001b[38;5;28;01mreturn\u001b[39;00m \u001b[38;5;28;43mcallable\u001b[39;49m\u001b[43m(\u001b[49m\u001b[38;5;241;43m*\u001b[39;49m\u001b[43mmapped\u001b[49m\u001b[38;5;241;43m.\u001b[39;49m\u001b[43margs\u001b[49m\u001b[43m,\u001b[49m\u001b[43m \u001b[49m\u001b[38;5;241;43m*\u001b[39;49m\u001b[38;5;241;43m*\u001b[39;49m\u001b[43mmapped\u001b[49m\u001b[38;5;241;43m.\u001b[39;49m\u001b[43mkwargs\u001b[49m\u001b[43m)\u001b[49m\n",
      "File \u001b[1;32m~\\Documents\\programming\\GitHub\\h5RDMtoolbox\\h5rdmtoolbox\\wrapper\\core.py:1914\u001b[0m, in \u001b[0;36mFile.__init__\u001b[1;34m(self, name, mode, layout, attrs, **kwargs)\u001b[0m\n\u001b[0;32m   1912\u001b[0m     skwargs \u001b[38;5;241m=\u001b[39m {}\n\u001b[0;32m   1913\u001b[0m \u001b[38;5;28;01melse\u001b[39;00m:\n\u001b[1;32m-> 1914\u001b[0m     attrs, skwargs, kwargs \u001b[38;5;241m=\u001b[39m \u001b[43mprocess_attributes\u001b[49m\u001b[43m(\u001b[49m\u001b[38;5;28;43mself\u001b[39;49m\u001b[38;5;241;43m.\u001b[39;49m\u001b[38;5;18;43m__class__\u001b[39;49m\u001b[43m,\u001b[49m\u001b[43m \u001b[49m\u001b[38;5;124;43m'\u001b[39;49m\u001b[38;5;124;43m__init__\u001b[39;49m\u001b[38;5;124;43m'\u001b[39;49m\u001b[43m,\u001b[49m\u001b[43m \u001b[49m\u001b[43mattrs\u001b[49m\u001b[43m,\u001b[49m\u001b[43m \u001b[49m\u001b[43mkwargs\u001b[49m\u001b[43m)\u001b[49m\n\u001b[0;32m   1916\u001b[0m _tmp_init \u001b[38;5;241m=\u001b[39m \u001b[38;5;28;01mFalse\u001b[39;00m\n\u001b[0;32m   1918\u001b[0m \u001b[38;5;28;01mif\u001b[39;00m _tmp_init:\n",
      "File \u001b[1;32m~\\Documents\\programming\\GitHub\\h5RDMtoolbox\\h5rdmtoolbox\\wrapper\\core.py:104\u001b[0m, in \u001b[0;36mprocess_attributes\u001b[1;34m(cls, meth_name, attrs, kwargs)\u001b[0m\n\u001b[0;32m    102\u001b[0m         \u001b[38;5;28;01melse\u001b[39;00m:\n\u001b[0;32m    103\u001b[0m             logger\u001b[38;5;241m.\u001b[39mdebug(\u001b[38;5;124mf\u001b[39m\u001b[38;5;124m'\u001b[39m\u001b[38;5;124mStandard attribute \u001b[39m\u001b[38;5;132;01m{\u001b[39;00mk\u001b[38;5;132;01m}\u001b[39;00m\u001b[38;5;124m is empty but no alternative attribute given by the user.\u001b[39m\u001b[38;5;124m'\u001b[39m)\n\u001b[1;32m--> 104\u001b[0m             \u001b[38;5;28;01mraise\u001b[39;00m conventions\u001b[38;5;241m.\u001b[39mstandard_attributes\u001b[38;5;241m.\u001b[39merrors\u001b[38;5;241m.\u001b[39mStandardAttributeError(\n\u001b[0;32m    105\u001b[0m                 \u001b[38;5;124mf\u001b[39m\u001b[38;5;124m'\u001b[39m\u001b[38;5;124mThe standard attribute \u001b[39m\u001b[38;5;124m\"\u001b[39m\u001b[38;5;132;01m{\u001b[39;00mk\u001b[38;5;132;01m}\u001b[39;00m\u001b[38;5;124m\"\u001b[39m\u001b[38;5;124m is required but not provided.\u001b[39m\u001b[38;5;124m'\u001b[39m)\n\u001b[0;32m    107\u001b[0m _ \u001b[38;5;241m=\u001b[39m [skwargs\u001b[38;5;241m.\u001b[39mpop(p) \u001b[38;5;28;01mfor\u001b[39;00m p \u001b[38;5;129;01min\u001b[39;00m _pop]\n\u001b[0;32m    109\u001b[0m \u001b[38;5;66;03m# standard attributes may be passed as arguments or in attrs. But if they are passed in both an error is raised!\u001b[39;00m\n",
      "\u001b[1;31mStandardAttributeError\u001b[0m: The standard attribute \"title\" is required but not provided."
     ]
    }
   ],
   "source": [
    "with h5tbx.File() as h5:\n",
    "    h5.dump()\n",
    "    \n",
    "    print(h5.seeding_material)\n",
    "    print(h5.standard_attributes['piv_medium'].description)\n",
    "\n",
    "    h5.create_dataset('x_coordinate', data=[0, 4.3, 10.5], units='mm', standard_name='x_coordinate')\n",
    "    h5.create_dataset('x_velocity', data=[-4.3, -3.2, 1.5], units='m/s', standard_name='x_velocity')\n",
    "    h5.create_dataset('y_velocity', data=[2.3, 0.2, -1.76], units='m/s', standard_name='y_velocity')\n",
    "\n",
    "    # now let's create a dataset, which doe snot provide a standard_name, instead a long_name is provided:\n",
    "    h5.create_dataset('temperature', data=[400.5, 401.2, 388.4], units='K', long_name='air temperature')"
   ]
  },
  {
   "cell_type": "code",
   "execution_count": null,
   "id": "b4cb836a-70b4-427c-9450-94406e38de63",
   "metadata": {},
   "outputs": [],
   "source": []
  }
 ],
 "metadata": {
  "kernelspec": {
   "display_name": "Python 3 (ipykernel)",
   "language": "python",
   "name": "python3"
  },
  "language_info": {
   "codemirror_mode": {
    "name": "ipython",
    "version": 3
   },
   "file_extension": ".py",
   "mimetype": "text/x-python",
   "name": "python",
   "nbconvert_exporter": "python",
   "pygments_lexer": "ipython3",
   "version": "3.8.17"
  }
 },
 "nbformat": 4,
 "nbformat_minor": 5
}
