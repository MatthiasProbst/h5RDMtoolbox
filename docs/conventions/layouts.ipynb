{
 "cells": [
  {
   "cell_type": "markdown",
   "id": "ee60b8cd-e14d-4607-9122-26c71e4e025c",
   "metadata": {},
   "source": [
    "# Layouts\n",
    "\n",
    "The `toolbox` provides a framework, which allows defining the layout (structure) of an HDF5 file. In contrast, *conventions* define which attributes are required for all datasets and provide feedback during file creation. *Layouts* define *which* dataset, groups, attributes and properties are expected. Let's learn about it by practical examples:"
   ]
  },
  {
   "cell_type": "code",
   "execution_count": 1,
   "id": "b24fad61-0117-4d27-8a9d-b8389f655873",
   "metadata": {},
   "outputs": [],
   "source": [
    "from h5rdmtoolbox import layout  # import the layout module"
   ]
  },
  {
   "cell_type": "markdown",
   "id": "3a553a51-1573-4b28-9d91-26f8740b4c74",
   "metadata": {},
   "source": [
    "Init a layout:"
   ]
  },
  {
   "cell_type": "code",
   "execution_count": 2,
   "id": "2e66e20d-712b-429c-aca7-640b572bc026",
   "metadata": {},
   "outputs": [],
   "source": [
    "lay = layout.Layout()"
   ]
  },
  {
   "cell_type": "markdown",
   "id": "90673c5c-bbd2-475a-b191-d40e5f2f2e5a",
   "metadata": {},
   "source": [
    "A Layout(definition) consists of so-called \"layout specifications\", which we have to add to the layout object. Currently, there are no specifications:"
   ]
  },
  {
   "cell_type": "code",
   "execution_count": 3,
   "id": "804e832a-0374-41fb-8f8a-65365df73e12",
   "metadata": {},
   "outputs": [
    {
     "data": {
      "text/plain": [
       "[]"
      ]
     },
     "execution_count": 3,
     "metadata": {},
     "output_type": "execute_result"
    }
   ],
   "source": [
    "lay.specifications"
   ]
  },
  {
   "cell_type": "markdown",
   "id": "939c72a1-8a23-4114-9598-40a600c1c717",
   "metadata": {},
   "source": [
    "## Example data\n",
    "Let's create some thest data:"
   ]
  },
  {
   "cell_type": "code",
   "execution_count": 4,
   "id": "b0ff9809-1c42-4987-83d7-e5ef7bcc2623",
   "metadata": {},
   "outputs": [],
   "source": [
    "import h5rdmtoolbox as h5tbx\n",
    "with h5tbx.File() as h5:\n",
    "    h5.create_dataset('u', shape=(3, 5), compression='lzf')\n",
    "    h5.create_dataset('v', shape=(3, 5), compression='gzip')\n",
    "    h5.create_group('instruments', attrs={'description': 'Instrument data'})"
   ]
  },
  {
   "cell_type": "markdown",
   "id": "95002eca-127d-45ad-89b1-1558acdc22ae",
   "metadata": {},
   "source": [
    "## 1. Adding a specification\n",
    "\n",
    "Let's add a specification. For this we call `.add()`. We will add information for a query request, which will be performed later, when we validate a file (layout).\n",
    "\n",
    "The first argument is the query method. We will use `find` from the database class `h5rdmtoolbox.database.hdfdb.FileDB`. Then we add keyword arguments to be passed to that method.\n",
    "\n",
    "As a first example, we request the following for all files to be validated with our layout: **all dataset must be compressed with \"gzip\"**"
   ]
  },
  {
   "cell_type": "code",
   "execution_count": 5,
   "id": "762c996d-af0c-4d7e-a794-31c9c788ae76",
   "metadata": {},
   "outputs": [],
   "source": [
    "from h5rdmtoolbox.database import hdfdb"
   ]
  },
  {
   "cell_type": "code",
   "execution_count": 6,
   "id": "ba490b3c-820c-4dca-a94c-6e7f5f211dee",
   "metadata": {},
   "outputs": [
    {
     "data": {
      "text/plain": [
       "[LayoutSpecification (kwargs={'flt': {}, 'objfilter': 'dataset'})]"
      ]
     },
     "execution_count": 6,
     "metadata": {},
     "output_type": "execute_result"
    }
   ],
   "source": [
    "spec_all_dataset = lay.add(\n",
    "    hdfdb.FileDB.find,  # query function\n",
    "    flt={},\n",
    "    objfilter='dataset'\n",
    ")\n",
    "\n",
    "spec_compression = spec_all_dataset.add(\n",
    "    hdfdb.FileDB.find_one,  # query function\n",
    "    flt={'$compression': 'gzip'}  # query parameter\n",
    ")\n",
    "\n",
    "# we added one specification to the layout:\n",
    "lay.specifications"
   ]
  },
  {
   "cell_type": "markdown",
   "id": "4a7c54bf-817a-4082-a87c-25fa3569dd10",
   "metadata": {},
   "source": [
    "Let's perform the validation. We expect one failed validation, because dataset \"u\" has the wrong compression:"
   ]
  },
  {
   "cell_type": "code",
   "execution_count": 18,
   "id": "a5b3846d-63f6-486a-8cb0-6bb12e307e2c",
   "metadata": {},
   "outputs": [
    {
     "name": "stderr",
     "output_type": "stream",
     "text": [
      "2023-12-17_12:28:21,193 ERROR    [core.py:77] Applying spec. \"LayoutSpecification (kwargs={'flt': {'$compression': 'gzip'}})\" on \"<HDF5 dataset \"u\": shape (3, 5), type \"<f4\", convention \"h5py\">\" failed. += 1\n"
     ]
    }
   ],
   "source": [
    "res = lay.validate(h5.hdf_filename)"
   ]
  },
  {
   "cell_type": "markdown",
   "id": "e2873694-9080-4ece-a874-1c892e6c54c9",
   "metadata": {},
   "source": [
    "The error log message shows us that one specification was not successful. The `is_valid()` call therefore will return `False`, too:"
   ]
  },
  {
   "cell_type": "code",
   "execution_count": 19,
   "id": "de3744f2-e3d9-4388-852a-486601f88ade",
   "metadata": {},
   "outputs": [
    {
     "data": {
      "text/plain": [
       "False"
      ]
     },
     "execution_count": 19,
     "metadata": {},
     "output_type": "execute_result"
    }
   ],
   "source": [
    "res.is_valid()"
   ]
  },
  {
   "cell_type": "code",
   "execution_count": 20,
   "id": "3e98e206-0f47-4d82-a213-b4d4b7964b86",
   "metadata": {},
   "outputs": [
    {
     "data": {
      "text/plain": [
       "[<LDataset \"/v\" in \"C:\\Users\\da4323\\AppData\\Local\\h5rdmtoolbox\\h5rdmtoolbox\\tmp\\tmp_1\\tmp0.hdf\" attrs=()>]"
      ]
     },
     "execution_count": 20,
     "metadata": {},
     "output_type": "execute_result"
    }
   ],
   "source": [
    "hdfdb.FileDB(h5.hdf_filename).find({'$compression': 'gzip'})"
   ]
  },
  {
   "cell_type": "markdown",
   "id": "462e2b06-a48d-4d38-9ae2-94c9fde202ee",
   "metadata": {},
   "source": [
    "The \"compression-specification\" got called twice and failed one (for dataset \"u\"):"
   ]
  },
  {
   "cell_type": "code",
   "execution_count": 24,
   "id": "e371cada-69b2-45dc-a759-2537ed1b9218",
   "metadata": {},
   "outputs": [
    {
     "data": {
      "text/plain": [
       "(2, 1)"
      ]
     },
     "execution_count": 24,
     "metadata": {},
     "output_type": "execute_result"
    }
   ],
   "source": [
    "spec_compression.n_calls, spec_compression.n_fails"
   ]
  },
  {
   "cell_type": "code",
   "execution_count": null,
   "id": "24f5ac66-5d8f-4c0d-bf93-d320037f8a05",
   "metadata": {},
   "outputs": [],
   "source": []
  }
 ],
 "metadata": {
  "kernelspec": {
   "display_name": "Python 3 (ipykernel)",
   "language": "python",
   "name": "python3"
  },
  "language_info": {
   "codemirror_mode": {
    "name": "ipython",
    "version": 3
   },
   "file_extension": ".py",
   "mimetype": "text/x-python",
   "name": "python",
   "nbconvert_exporter": "python",
   "pygments_lexer": "ipython3",
   "version": "3.8.18"
  }
 },
 "nbformat": 4,
 "nbformat_minor": 5
}
