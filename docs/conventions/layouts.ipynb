{
 "cells": [
  {
   "cell_type": "markdown",
   "id": "e02471df-4155-46ff-ad48-be967a15908b",
   "metadata": {},
   "source": [
    "# Layouts\n",
    "\n",
    "Layouts specify the meta content of HDF5 files, e.g. which attributes are required or which shape certain datasets are expected to have. A layout is published by a project management team or a collaboration for instance and helps during data generation and usage: A creator of HDF5 file content can verify if all required data is written. Likewise, the receiver of HDF5 file, e.g. an analyst, can check if the file that is being inspected is \"complete\". The standardisation of a file layout will reduce back-and-forth actions as it minimizes errors or missing data and ultimately saves costs in the process."
   ]
  },
  {
   "cell_type": "markdown",
   "id": "d14558df-8c5e-4369-bc68-dfdfee56802b",
   "metadata": {},
   "source": [
    "## Creating a layout\n",
    "\n",
    "The `layout.File` object is designed such that the syntax is similar to the `h5py.File` class."
   ]
  },
  {
   "cell_type": "code",
   "execution_count": 1,
   "id": "d9e2c157-bd96-47e0-9602-76c79ffbe989",
   "metadata": {
    "tags": []
   },
   "outputs": [
    {
     "name": "stderr",
     "output_type": "stream",
     "text": [
      "2023-04-17_14:44:32,478 DEBUG    [__init__.py:35] changed logger level for h5rdmtoolbox from 20 to DEBUG\n"
     ]
    }
   ],
   "source": [
    "import h5rdmtoolbox as h5tbx\n",
    "from h5rdmtoolbox.conventions.layout import Layout, Any, Regex"
   ]
  },
  {
   "cell_type": "markdown",
   "id": "a3e4b8c4-6724-48f9-9366-dead8e067080",
   "metadata": {},
   "source": [
    "Initialize a `Layout` object:"
   ]
  },
  {
   "cell_type": "code",
   "execution_count": 2,
   "id": "a7257533-784f-4f48-94cb-d8de107ad62c",
   "metadata": {
    "tags": []
   },
   "outputs": [],
   "source": [
    "lay = Layout()"
   ]
  },
  {
   "cell_type": "markdown",
   "id": "3152f6e5-735e-4f6d-9c4b-d4c2832ebf9c",
   "metadata": {},
   "source": [
    "Next we will specify various attributes of groups and dataset as well as properties of datasets such as their shape for instance. Using explicit HDF5 paths or wildcards we will define whether the specifications apply for a specific HDF object or various ones."
   ]
  },
  {
   "cell_type": "markdown",
   "id": "6c70eb47-ac4e-4b56-9ff6-1775a07565fd",
   "metadata": {},
   "source": [
    "### Attribute specifications"
   ]
  },
  {
   "cell_type": "markdown",
   "id": "2b9415c9-5a4a-4476-b1fb-294f4a7c9bee",
   "metadata": {},
   "source": [
    "Let's require the user to set the root attribute \"h5rdmtoolbox_version\", which holds the current version of this package:"
   ]
  },
  {
   "cell_type": "code",
   "execution_count": 3,
   "id": "0cb50e6a-d0fc-41b6-825a-81f8a349683f",
   "metadata": {
    "tags": []
   },
   "outputs": [],
   "source": [
    "lay['/'].attrs['h5rdmtoolbox_version'] = h5tbx.__version__"
   ]
  },
  {
   "cell_type": "markdown",
   "id": "6d23e829-c045-459a-9275-8f37f487562e",
   "metadata": {},
   "source": [
    "Any other attribute `version` shall follow the regular expression `^v\\d+\\.\\d+\\.\\d+$`. We donnot specify the location of the attribute. It could be the attribute of group or a dataset. Wherever the attribute `version` is used, the regular expression is checked."
   ]
  },
  {
   "cell_type": "code",
   "execution_count": 4,
   "id": "b8f048fd-99a9-472b-991f-6331c8e231fb",
   "metadata": {
    "tags": []
   },
   "outputs": [],
   "source": [
    "lay['*'].attrs['version'] = Regex(reference=r'^v\\d+\\.\\d+\\.\\d+$')"
   ]
  },
  {
   "cell_type": "markdown",
   "id": "71716a7f-a90f-4aea-bbbc-e3eaca623af6",
   "metadata": {},
   "source": [
    "If we only require an attribute to exist but the value is not further specify, we can use the `Ellipsis` object `...`:"
   ]
  },
  {
   "cell_type": "code",
   "execution_count": 5,
   "id": "f2633715-90dd-4786-a237-a5f97a9e58e7",
   "metadata": {
    "tags": []
   },
   "outputs": [],
   "source": [
    "lay['/'].attrs['title'] = ... # or: layout.attrs.Exists()"
   ]
  },
  {
   "cell_type": "markdown",
   "id": "d0d555e0-2987-4018-8a66-bba2ac50ddca",
   "metadata": {},
   "source": [
    "Further define, that each group must have an attribute called \"long_name\". We don't specify the value of it, we just request to use the attribute. The wildcard (`*`) indicates, that the location of the group does not matter, so that the specification applies to any group within an HDF5 file:"
   ]
  },
  {
   "cell_type": "code",
   "execution_count": 6,
   "id": "71b22360-f4f4-4260-b641-69e6c69c5d4d",
   "metadata": {
    "tags": []
   },
   "outputs": [],
   "source": [
    "lay['*'].attrs['long_name'] = ..."
   ]
  },
  {
   "cell_type": "markdown",
   "id": "3706d3bc-63cf-4840-b935-ee770dd40492",
   "metadata": {},
   "source": [
    "Now, we specify, that a group \"device\" must exist. We explicitly tell that the device group must be located at the lowest level (root level):"
   ]
  },
  {
   "cell_type": "code",
   "execution_count": 7,
   "id": "6e0bc80d-2277-48b9-b117-305d63d89002",
   "metadata": {
    "tags": []
   },
   "outputs": [
    {
     "data": {
      "text/plain": [
       "GroupValidation(Equal(\"device\"), opt=False)>"
      ]
     },
     "execution_count": 7,
     "metadata": {},
     "output_type": "execute_result"
    }
   ],
   "source": [
    "lay['/'].define_group('device')"
   ]
  },
  {
   "cell_type": "markdown",
   "id": "1440550e-eaf0-47d1-863f-a86c9672c294",
   "metadata": {},
   "source": [
    "Note, that if we would not specify the exact group, hence writing `lay[*].group('device')`, then this would have no effect as this made \"device\" being optional."
   ]
  },
  {
   "cell_type": "markdown",
   "id": "273bc2f7-a088-40de-8ea7-f16b10a11e75",
   "metadata": {},
   "source": [
    "Now, say, that each *dataset* (in any group) shall have an attribute called \"standard_name\". Again, the wildcard is used and no specific dataset name is set:"
   ]
  },
  {
   "cell_type": "code",
   "execution_count": 8,
   "id": "45b3ad48-fc27-4cd3-a1c7-7743c35594ea",
   "metadata": {
    "tags": []
   },
   "outputs": [],
   "source": [
    "lay['*'].define_dataset().attrs['standard_name'] = Any()"
   ]
  },
  {
   "cell_type": "markdown",
   "id": "44305514-c6d1-4bd1-92f6-4dce4e722d57",
   "metadata": {},
   "source": [
    "Each *dataset* in the group \"fluid\" (and below) shall have an attribute called \"units\"."
   ]
  },
  {
   "cell_type": "code",
   "execution_count": 9,
   "id": "12e98555-677d-4f33-a0ef-abb6adf605a5",
   "metadata": {
    "tags": []
   },
   "outputs": [],
   "source": [
    "lay['fluid/*'].define_dataset().attrs['units'] = 'm/s'"
   ]
  },
  {
   "cell_type": "code",
   "execution_count": 10,
   "id": "1a401a3f-89cd-492a-ac2f-9253fea23a7e",
   "metadata": {
    "tags": []
   },
   "outputs": [
    {
     "name": "stdout",
     "output_type": "stream",
     "text": [
      "AttributeValidation(Equal(\"h5rdmtoolbox_version\"), opt=False)>\n",
      "  AttributeValidation(Equal(\"0.4.0a1\"), opt=False)>\n",
      "GroupValidation(Equal(\"*\"), opt=False)>\n",
      "  AttributeValidation(Equal(\"version\"), opt=False)>\n",
      "    AttributeValidation(Regex(\"^v\\d+\\.\\d+\\.\\d+$\"), opt=False)>\n",
      "  AttributeValidation(Equal(\"long_name\"), opt=False)>\n",
      "    AttributeValidation(Any(opt=True), opt=False)>\n",
      "  DatasetValidation(Any(opt=True), opt=True)>\n",
      "    AttributeValidation(Equal(\"standard_name\"), opt=False)>\n",
      "      AttributeValidation(Any(opt=True), opt=False)>\n",
      "AttributeValidation(Equal(\"title\"), opt=False)>\n",
      "  AttributeValidation(Any(opt=True), opt=False)>\n",
      "GroupValidation(Equal(\"device\"), opt=False)>\n",
      "GroupValidation(Equal(\"fluid/*\"), opt=False)>\n",
      "  DatasetValidation(Any(opt=True), opt=True)>\n",
      "    AttributeValidation(Equal(\"units\"), opt=False)>\n",
      "      AttributeValidation(Equal(\"m/s\"), opt=False)>\n"
     ]
    }
   ],
   "source": [
    "lay.dumps()"
   ]
  },
  {
   "cell_type": "markdown",
   "id": "a1fff61d-b32c-4a62-9ea8-6034d7896c1f",
   "metadata": {},
   "source": [
    "### Dataset property specification"
   ]
  },
  {
   "cell_type": "markdown",
   "id": "5a6b8507-94c3-4b9a-ab6c-c17c7eccdf2b",
   "metadata": {},
   "source": [
    "Each dataset (despite its location within the hierachical structure), which starts with eith \"x\", \"y\" or \"z\" and ends with \"_coordinate\" shall be one-dimensional. This can be specified by the dataset property \"ndim\""
   ]
  },
  {
   "cell_type": "code",
   "execution_count": 12,
   "id": "9471245e-c34e-4752-b66e-dc8bcfffe93d",
   "metadata": {
    "tags": []
   },
   "outputs": [
    {
     "data": {
      "text/plain": [
       "DatasetValidation(Regex(\"^[x-z]_coordinate\"), opt=False)>"
      ]
     },
     "execution_count": 12,
     "metadata": {},
     "output_type": "execute_result"
    }
   ],
   "source": [
    "lay['*'].define_dataset(name=Regex('^[x-z]_coordinate'), ndim=1)"
   ]
  },
  {
   "cell_type": "markdown",
   "id": "598806e6-3d17-48cc-98cb-b613052792f0",
   "metadata": {},
   "source": [
    "## Perform a layout validation\n",
    "\n",
    "Let's create an empty HDF5 file first:"
   ]
  },
  {
   "cell_type": "code",
   "execution_count": 13,
   "id": "a04e4b68-c604-46d5-ac63-8902a9d77d61",
   "metadata": {
    "tags": []
   },
   "outputs": [
    {
     "data": {
      "text/html": [
       "<head><style>/*\r\n",
       "CSS inspired by xarray: https://github.com/pydata/xarray\r\n",
       "*/\r\n",
       ".h5tb-header > div,\r\n",
       ".h5tb-header > ul {\r\n",
       "    display: inline;\r\n",
       "    margin-top: 0;\r\n",
       "    margin-bottom: 0;\r\n",
       "}\r\n",
       "\r\n",
       ".h5tb-dataarray-cls,\r\n",
       ".h5tb-dataarray-name {\r\n",
       "    margin-left: 2px;\r\n",
       "    margin-right: 10px;\r\n",
       "}\r\n",
       "\r\n",
       ".h5tb-dataarray-name {\r\n",
       "    color: #000;\r\n",
       "}\r\n",
       "\r\n",
       ".h5grp-sections {\r\n",
       "    list-style: none;\r\n",
       "    padding: 3px;\r\n",
       "    margin: 0;\r\n",
       "}\r\n",
       "\r\n",
       ".h5grp-sections input {\r\n",
       "    display: none;\r\n",
       "}\r\n",
       "\r\n",
       ".h5grp-sections label {\r\n",
       "    display: inline;\r\n",
       "}\r\n",
       "\r\n",
       ".h5grp-sections > li > input + label > span {\r\n",
       "    display: inline;\r\n",
       "    margin-left: 4px;\r\n",
       "}\r\n",
       "\r\n",
       ".h5grp-sections > li > input:checked + label > span {\r\n",
       "    display: none;\r\n",
       "}\r\n",
       "\r\n",
       ".h5grp-sections input:enabled + label {\r\n",
       "    cursor: pointer;\r\n",
       "}\r\n",
       "\r\n",
       ".h5grp-sections input:not(.h5tb-values-in) ~ ul {\r\n",
       "    display: none;\r\n",
       "}\r\n",
       "\r\n",
       ".h5grp-sections input:not(.h5tb-values-in):checked ~ ul {\r\n",
       "    display: block;\r\n",
       "}\r\n",
       "\r\n",
       ".h5grp-sections > li > input + label {\r\n",
       "    width: 140px;\r\n",
       "    color: #555;\r\n",
       "    font-weight: 500;\r\n",
       "    padding: 4px 0 2px 0;\r\n",
       "}\r\n",
       "\r\n",
       "\r\n",
       ".h5grp-sections > li > input + label:before {\r\n",
       "    display: inline-block;\r\n",
       "    content: '+';\r\n",
       "    font-size: 11px;\r\n",
       "    width: 15px;\r\n",
       "    text-align: center;\r\n",
       "}\r\n",
       "\r\n",
       ".h5grp-sections > li > input:disabled + label:before {\r\n",
       "    color: #777;\r\n",
       "}\r\n",
       "\r\n",
       ".h5grp-sections > li > input:checked + label:before {\r\n",
       "    content: '-';\r\n",
       "}\r\n",
       "\r\n",
       ".h5tb-dim-list {\r\n",
       "    display: inline-block !important;\r\n",
       "    list-style: none;\r\n",
       "    padding: 0;\r\n",
       "}\r\n",
       "\r\n",
       ".h5tb-dim-list li {\r\n",
       "    display: inline-block;\r\n",
       "    padding: 0;\r\n",
       "    margin: 0;\r\n",
       "}\r\n",
       "\r\n",
       ".h5tb-dim-list:before {\r\n",
       "    content: '(';\r\n",
       "}\r\n",
       "\r\n",
       ".h5tb-dim-list:after {\r\n",
       "    content: ')';\r\n",
       "}\r\n",
       "\r\n",
       ".h5tb-dim-list li:not(:last-child):after {\r\n",
       "    content: ',';\r\n",
       "}\r\n",
       "\r\n",
       ".h5tb-has-index {\r\n",
       "    text-decoration: underline;\r\n",
       "}\r\n",
       "\r\n",
       ".h5tb-var-list {\r\n",
       "    list-style: none;\r\n",
       "    padding: 0;\r\n",
       "    margin: 0;\r\n",
       "}\r\n",
       "\r\n",
       ".h5tb-var-list > li {\r\n",
       "    background-color: #fcfcfc;\r\n",
       "    overflow: hidden;\r\n",
       "}\r\n",
       "\r\n",
       ".h5tb-var-list > li:nth-child(odd) {\r\n",
       "    background-color: #efefef;\r\n",
       "}\r\n",
       "\r\n",
       ".h5tb-var-list li:hover {\r\n",
       "    background-color: rgba(3, 169, 244, .2);\r\n",
       "}\r\n",
       "\r\n",
       ".h5tb-var-list li > span {\r\n",
       "    display: inline-block;\r\n",
       "}\r\n",
       "\r\n",
       "input.h5tb-varname-in + label {\r\n",
       "    width: 140px;\r\n",
       "    padding-left: 0;\r\n",
       "    font-weight: bold;\r\n",
       "}\r\n",
       "\r\n",
       ".h5tb-dataset {\r\n",
       "    width: 100px;\r\n",
       "}\r\n",
       "\r\n",
       ".h5tb-attributevalue {\r\n",
       "    width: 100px;\r\n",
       "    text-align: left;\r\n",
       "    color: #888;\r\n",
       "    white-space: nowrap;\r\n",
       "    font-size: 12px;\r\n",
       "}\r\n",
       "\r\n",
       "input.h5tb-varname-in + label:before {\r\n",
       "    content: ' ';\r\n",
       "    display: inline-block;\r\n",
       "    font-size: 11px;\r\n",
       "    width: 15px;\r\n",
       "    padding-left: 2px;\r\n",
       "    padding-right: 2px;\r\n",
       "    text-align: center;\r\n",
       "    color: #aaa;\r\n",
       "    text-decoration: none !important;\r\n",
       "}\r\n",
       "\r\n",
       "input.h5tb-varname-in:enabled + label:hover:before {\r\n",
       "    color: #000;\r\n",
       "}\r\n",
       "\r\n",
       "input.h5tb-varname-in:checked + label:before {\r\n",
       "    color: #ccc;\r\n",
       "}\r\n",
       "\r\n",
       ".h5tb-dims {\r\n",
       "    width: 280px;\r\n",
       "    white-space: nowrap;\r\n",
       "}\r\n",
       "\r\n",
       "\r\n",
       ".h5tb-unit {\r\n",
       "    width: 96px;\r\n",
       "    white-space: nowrap;\r\n",
       "    padding-right: 2px;\r\n",
       "    text-align: right;\r\n",
       "    color: #555;\r\n",
       "    font-style: italic;\r\n",
       "}\r\n",
       "\r\n",
       ".h5tb-attr-list {\r\n",
       "    list-style: none;\r\n",
       "    background-color: #fff;\r\n",
       "    padding-bottom: 6px;\r\n",
       "    color: #555;\r\n",
       "}\r\n",
       "\r\n",
       ".h5tb-attr-list li,\r\n",
       ".h5tb-attr-list li:hover {\r\n",
       "    background-color: #fff;\r\n",
       "}\r\n",
       "\r\n",
       ".h5tb-dim-highlight {\r\n",
       "    background-color: rgba(3, 169, 244, .2);\r\n",
       "    cursor: pointer;\r\n",
       "}</style></head>\n",
       "<div class='h5tb-warp'>\n",
       "\n",
       "              <ul style=\"list-style-type: none;\" class=\"h5grp-sections\">\n",
       "                    <li>\n",
       "                        <input id=\"group-ds--10427849700\" type=\"checkbox\" checked>\n",
       "                        <label style=\"font-weight: bold\" for=\"group-ds--10427849700\">\n",
       "                        /<span>(0)</span></label>\n",
       "                  \n",
       "\n",
       "                    <ul class=\"h5tb-attr-list\"><li style=\"list-style-type: none; font-style: italic\">__h5rdmtoolbox_version__ : 0.4.0a1</li>\n",
       "                    </ul>\n",
       "</li>\n",
       "</ul>\n",
       "</div>"
      ],
      "text/plain": [
       "<IPython.core.display.HTML object>"
      ]
     },
     "metadata": {},
     "output_type": "display_data"
    }
   ],
   "source": [
    "h5tbx.use(None)\n",
    "\n",
    "with h5tbx.File() as h5:\n",
    "    h5.dump()"
   ]
  },
  {
   "cell_type": "markdown",
   "id": "a23f809c-fc51-47bd-a26d-098c9a3e6e8d",
   "metadata": {},
   "source": [
    "Running the validation with `lay.validate()` will get us a total of three issues (`res.total_issues()`):"
   ]
  },
  {
   "cell_type": "code",
   "execution_count": 14,
   "id": "bf51d18c-cb84-4e9b-ac5e-590bf3b0c0c3",
   "metadata": {
    "tags": []
   },
   "outputs": [
    {
     "data": {
      "text/plain": [
       "[ValidationResult(AttributeValidation(Equal(\"h5rdmtoolbox_version\"), opt=False)>, False),\n",
       " ValidationResult(AttributeValidation(Equal(\"version\"), opt=False)>, False),\n",
       " ValidationResult(AttributeValidation(Equal(\"long_name\"), opt=False)>, False),\n",
       " ValidationResult(DatasetValidation(Regex(\"^[x-z]_coordinate\"), opt=False)>, False),\n",
       " ValidationResult(GroupValidation(Equal(\"*\"), opt=False)>, True),\n",
       " ValidationResult(AttributeValidation(Equal(\"title\"), opt=False)>, False),\n",
       " ValidationResult(GroupValidation(Equal(\"device\"), opt=False)>, False),\n",
       " ValidationResult(GroupValidation(Equal(\"fluid/*\"), opt=False)>, False)]"
      ]
     },
     "execution_count": 14,
     "metadata": {},
     "output_type": "execute_result"
    }
   ],
   "source": [
    "lay.validate(h5.hdf_filename)"
   ]
  },
  {
   "cell_type": "code",
   "execution_count": 15,
   "id": "bdf32a53-289b-4c86-b085-adbea6ab2892",
   "metadata": {
    "tags": []
   },
   "outputs": [
    {
     "data": {
      "text/plain": [
       "7"
      ]
     },
     "execution_count": 15,
     "metadata": {},
     "output_type": "execute_result"
    }
   ],
   "source": [
    "lay.fails"
   ]
  },
  {
   "cell_type": "markdown",
   "id": "d74514f9-bf73-4d9d-b85b-cf8b3bcc2056",
   "metadata": {},
   "source": [
    "To find out what the issues are, best is to `report()` the issue messages. Note, some issues are \"hidden\"."
   ]
  },
  {
   "cell_type": "markdown",
   "id": "953d5365-b62b-4c74-a53b-39dff0bc89a6",
   "metadata": {},
   "source": [
    "Adding the version will reduce the issues about one:"
   ]
  },
  {
   "cell_type": "code",
   "execution_count": 16,
   "id": "1f2143ab-cbad-499f-8068-080e59ebec74",
   "metadata": {
    "tags": []
   },
   "outputs": [
    {
     "data": {
      "text/plain": [
       "6"
      ]
     },
     "execution_count": 16,
     "metadata": {},
     "output_type": "execute_result"
    }
   ],
   "source": [
    "with h5tbx.File() as h5:\n",
    "    h5.attrs['h5rdmtoolbox_version'] = h5tbx.__version__\n",
    "    lay.validate(h5)\n",
    "lay.fails"
   ]
  },
  {
   "cell_type": "code",
   "execution_count": 17,
   "id": "620139b4-2a91-48b1-84dc-4ff0b0fe67fc",
   "metadata": {
    "tags": []
   },
   "outputs": [
    {
     "data": {
      "text/plain": [
       "[ValidationResult(AttributeValidation(Equal(\"version\"), opt=False)>, False),\n",
       " ValidationResult(AttributeValidation(Equal(\"long_name\"), opt=False)>, False),\n",
       " ValidationResult(DatasetValidation(Regex(\"^[x-z]_coordinate\"), opt=False)>, False),\n",
       " ValidationResult(AttributeValidation(Equal(\"title\"), opt=False)>, False),\n",
       " ValidationResult(GroupValidation(Equal(\"device\"), opt=False)>, False),\n",
       " ValidationResult(GroupValidation(Equal(\"fluid/*\"), opt=False)>, False)]"
      ]
     },
     "execution_count": 17,
     "metadata": {},
     "output_type": "execute_result"
    }
   ],
   "source": [
    "lay.get_failed()"
   ]
  },
  {
   "cell_type": "markdown",
   "id": "d4737ee1-9c1b-4bd5-af04-390f9d304e7b",
   "metadata": {},
   "source": [
    "Adding a dataset in the group \"fluid\" without a unit:"
   ]
  },
  {
   "cell_type": "code",
   "execution_count": 18,
   "id": "49a0ed8f-e8e0-446a-bf55-73e05652b2f6",
   "metadata": {
    "tags": []
   },
   "outputs": [
    {
     "data": {
      "text/plain": [
       "[ValidationResult(AttributeValidation(Equal(\"h5rdmtoolbox_version\"), opt=False)>, False),\n",
       " ValidationResult(AttributeValidation(Equal(\"version\"), opt=False)>, False),\n",
       " ValidationResult(AttributeValidation(Equal(\"long_name\"), opt=False)>, False),\n",
       " ValidationResult(DatasetValidation(Regex(\"^[x-z]_coordinate\"), opt=False)>, False),\n",
       " ValidationResult(AttributeValidation(Equal(\"version\"), opt=False)>, False),\n",
       " ValidationResult(AttributeValidation(Equal(\"long_name\"), opt=False)>, False),\n",
       " ValidationResult(DatasetValidation(Regex(\"^[x-z]_coordinate\"), opt=False)>, False),\n",
       " ValidationResult(AttributeValidation(Equal(\"title\"), opt=False)>, False),\n",
       " ValidationResult(GroupValidation(Equal(\"device\"), opt=False)>, False),\n",
       " ValidationResult(GroupValidation(Equal(\"fluid/*\"), opt=False)>, False)]"
      ]
     },
     "execution_count": 18,
     "metadata": {},
     "output_type": "execute_result"
    }
   ],
   "source": [
    "with h5tbx.File() as h5:\n",
    "    g = h5.create_group('fluid')\n",
    "    g.attrs['units'] = 'm/s'\n",
    "    lay.validate(h5)\n",
    "lay.fails\n",
    "lay.get_failed()"
   ]
  },
  {
   "cell_type": "markdown",
   "id": "9b222786-3a7e-4c47-aa0e-caf5c33798c5",
   "metadata": {},
   "source": [
    "## User-defined Validators"
   ]
  },
  {
   "cell_type": "code",
   "execution_count": null,
   "id": "73e710a5-79a5-4528-964f-b40b4fed3b09",
   "metadata": {
    "tags": []
   },
   "outputs": [],
   "source": [
    "# see tests"
   ]
  },
  {
   "cell_type": "markdown",
   "id": "ac282051-e8bd-42a5-9218-b75e73f35040",
   "metadata": {},
   "source": [
    "## Registred layouts"
   ]
  },
  {
   "cell_type": "code",
   "execution_count": null,
   "id": "c17da1cb-821b-4187-85ab-2ea58b0d13d4",
   "metadata": {
    "tags": []
   },
   "outputs": [],
   "source": [
    "#layout.Layout.Registry()"
   ]
  },
  {
   "cell_type": "code",
   "execution_count": null,
   "id": "644b6996-4b19-445a-af89-1ad10cb947c1",
   "metadata": {},
   "outputs": [],
   "source": []
  }
 ],
 "metadata": {
  "kernelspec": {
   "display_name": "Python 3 (ipykernel)",
   "language": "python",
   "name": "python3"
  },
  "language_info": {
   "codemirror_mode": {
    "name": "ipython",
    "version": 3
   },
   "file_extension": ".py",
   "mimetype": "text/x-python",
   "name": "python",
   "nbconvert_exporter": "python",
   "pygments_lexer": "ipython3",
   "version": "3.8.16"
  }
 },
 "nbformat": 4,
 "nbformat_minor": 5
}
