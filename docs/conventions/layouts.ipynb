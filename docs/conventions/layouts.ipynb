{
 "cells": [
  {
   "cell_type": "markdown",
   "id": "e02471df-4155-46ff-ad48-be967a15908b",
   "metadata": {},
   "source": [
    "# Layouts\n",
    "\n",
    "A Layout in the context of this package describes the required tree-structure and multiple meta information of an HDF5 file. What and how exactly can be defined via a layout is outlined in [a later section.](#Write-an-individual-layout)\n",
    "\n",
    "A layout essentially is a HDF itself and is used in combination with a another HDF5 file, e.g. one that contains measurement data. Specialized \"wrapper-HDF files\" in this package such as `H5File` or `H5PIV` come already with a pre-defined layout, which is already associated with it\n",
    "\n",
    "The idea behind defining layouts is, that the data generation process is supervised. This means, that a *check* can be performed by the user filling the HDF5 file with data using the provided layout file. This in turn will lead to no suprises or inconsitencies when exchanging the file with other as everybody involved agreed on the respected layout. Optimally, this will save a lot of tie and costs.\n",
    "\n",
    "There are two ways to work with layouts:\n",
    "1. Via raw python\n",
    "2. Via the shell\n",
    "\n",
    "Using the shell is recommended for quick checks and to get an overview. Let's first do that and find out which layouts are already provided by the package:"
   ]
  },
  {
   "cell_type": "code",
   "execution_count": 1,
   "id": "f27efb42-f7a0-47d7-b455-05b6e159befa",
   "metadata": {},
   "outputs": [
    {
     "name": "stdout",
     "output_type": "stream",
     "text": [
      "@ C:\\Users\\da4323\\AppData\\Local\\h5rdmtoolbox\\h5rdmtoolbox\\layouts:\n",
      " > H5File\n",
      " > H5Flow\n",
      " > H5PIV\n"
     ]
    }
   ],
   "source": [
    "! h5tbx layout --list-registered"
   ]
  },
  {
   "cell_type": "markdown",
   "id": "e0bd6c5c-729f-44d8-82fc-6a12fbf40782",
   "metadata": {},
   "source": [
    "If you created a layout or got a layout file from another person and want to register it in the package so you can access and use it from everywhere on your machine, register it via:\n",
    "```bat\n",
    "h5tbx layout -r <hdf_filenam.hdf>\n",
    "```\n",
    "Find out more about what the command line interface can do by printing out the help:\n",
    "```bat\n",
    "h5tbx layout -h\n",
    "```"
   ]
  },
  {
   "cell_type": "markdown",
   "id": "ae17067a-f5bd-445a-941b-f83b899aeca8",
   "metadata": {},
   "source": [
    "Now let's head back to raw python and discuss how to generate a layout and apply checks: "
   ]
  },
  {
   "cell_type": "code",
   "execution_count": 2,
   "id": "5beed51a-093a-4b79-b241-6f0e47e32a11",
   "metadata": {},
   "outputs": [],
   "source": [
    "import h5rdmtoolbox as h5tbx"
   ]
  },
  {
   "cell_type": "markdown",
   "id": "8c771d39-1ebc-4689-bbe4-17a5d139d87a",
   "metadata": {},
   "source": [
    "If a `H5File` (or a subclass of it) is already associated with a layout, we can call the `layout`-property (We saw above that a layout for H5File indeed is registered aleady):"
   ]
  },
  {
   "cell_type": "code",
   "execution_count": 3,
   "id": "4f3bf7f8-f8c4-4afe-bf7d-d44c3bb51804",
   "metadata": {},
   "outputs": [
    {
     "name": "stdout",
     "output_type": "stream",
     "text": [
      "<H5FileLayout with 0 issues>\n"
     ]
    }
   ],
   "source": [
    "with h5tbx.H5File() as h5:\n",
    "    lay = h5.layout\n",
    "print(lay)"
   ]
  },
  {
   "cell_type": "markdown",
   "id": "986aa5f9-d738-46ad-a35c-1839731daa1c",
   "metadata": {},
   "source": [
    "As can be seen, the file has one issue. To see which issues were found, call `report()`. In the example, the root-attribute \"title\" was missing:"
   ]
  },
  {
   "cell_type": "code",
   "execution_count": 4,
   "id": "3631b085-dbcd-418a-8e6e-cdc2b0065126",
   "metadata": {},
   "outputs": [
    {
     "name": "stdout",
     "output_type": "stream",
     "text": [
      "H5FileLayout issue report (0 issues)\n",
      "-------------------\n"
     ]
    }
   ],
   "source": [
    "lay.report()"
   ]
  },
  {
   "cell_type": "markdown",
   "id": "966ecf93-4ce4-4ed0-94a1-029b9344ddd8",
   "metadata": {},
   "source": [
    "As said in the introduction, a `layout` is a HDF file itself, it has similar features like wrapper files, e.g. we can get a nice html representation of the content. Like this we can see what is required to have in any file written with `H5File`.\n",
    "\n",
    "Doing so, we directly see, that the layout **requires to have two attributes**, namely `__h5rdmtoobox_version__` and a `title`:"
   ]
  },
  {
   "cell_type": "code",
   "execution_count": 5,
   "id": "1b04b95b-ffd6-4f14-b820-9467b65b3c40",
   "metadata": {},
   "outputs": [
    {
     "data": {
      "text/html": [
       "<head><style>/*\r\n",
       "CSS inspired by xarray: https://github.com/pydata/xarray\r\n",
       "*/\r\n",
       ".h5tb-header > div,\r\n",
       ".h5tb-header > ul {\r\n",
       "    display: inline;\r\n",
       "    margin-top: 0;\r\n",
       "    margin-bottom: 0;\r\n",
       "}\r\n",
       "\r\n",
       ".h5tb-dataarray-cls,\r\n",
       ".h5tb-dataarray-name {\r\n",
       "    margin-left: 2px;\r\n",
       "    margin-right: 10px;\r\n",
       "}\r\n",
       "\r\n",
       ".h5tb-dataarray-name {\r\n",
       "    color: #000;\r\n",
       "}\r\n",
       "\r\n",
       ".h5grp-sections {\r\n",
       "    list-style: none;\r\n",
       "    padding: 3px;\r\n",
       "    margin: 0;\r\n",
       "}\r\n",
       "\r\n",
       ".h5grp-sections input {\r\n",
       "    display: none;\r\n",
       "}\r\n",
       "\r\n",
       ".h5grp-sections label {\r\n",
       "    display: inline;\r\n",
       "}\r\n",
       "\r\n",
       ".h5grp-sections > li > input + label > span {\r\n",
       "    display: inline;\r\n",
       "    margin-left: 4px;\r\n",
       "}\r\n",
       "\r\n",
       ".h5grp-sections > li > input:checked + label > span {\r\n",
       "    display: none;\r\n",
       "}\r\n",
       "\r\n",
       ".h5grp-sections input:enabled + label {\r\n",
       "    cursor: pointer;\r\n",
       "}\r\n",
       "\r\n",
       ".h5grp-sections input:not(.h5tb-values-in) ~ ul {\r\n",
       "    display: none;\r\n",
       "}\r\n",
       "\r\n",
       ".h5grp-sections input:not(.h5tb-values-in):checked ~ ul {\r\n",
       "    display: block;\r\n",
       "}\r\n",
       "\r\n",
       ".h5grp-sections > li > input + label {\r\n",
       "    width: 140px;\r\n",
       "    color: #555;\r\n",
       "    font-weight: 500;\r\n",
       "    padding: 4px 0 2px 0;\r\n",
       "}\r\n",
       "\r\n",
       "\r\n",
       ".h5grp-sections > li > input + label:before {\r\n",
       "    display: inline-block;\r\n",
       "    content: '+';\r\n",
       "    font-size: 11px;\r\n",
       "    width: 15px;\r\n",
       "    text-align: center;\r\n",
       "}\r\n",
       "\r\n",
       ".h5grp-sections > li > input:disabled + label:before {\r\n",
       "    color: #777;\r\n",
       "}\r\n",
       "\r\n",
       ".h5grp-sections > li > input:checked + label:before {\r\n",
       "    content: '-';\r\n",
       "}\r\n",
       "\r\n",
       ".h5tb-dim-list {\r\n",
       "    display: inline-block !important;\r\n",
       "    list-style: none;\r\n",
       "    padding: 0;\r\n",
       "}\r\n",
       "\r\n",
       ".h5tb-dim-list li {\r\n",
       "    display: inline-block;\r\n",
       "    padding: 0;\r\n",
       "    margin: 0;\r\n",
       "}\r\n",
       "\r\n",
       ".h5tb-dim-list:before {\r\n",
       "    content: '(';\r\n",
       "}\r\n",
       "\r\n",
       ".h5tb-dim-list:after {\r\n",
       "    content: ')';\r\n",
       "}\r\n",
       "\r\n",
       ".h5tb-dim-list li:not(:last-child):after {\r\n",
       "    content: ',';\r\n",
       "}\r\n",
       "\r\n",
       ".h5tb-has-index {\r\n",
       "    text-decoration: underline;\r\n",
       "}\r\n",
       "\r\n",
       ".h5tb-var-list {\r\n",
       "    list-style: none;\r\n",
       "    padding: 0;\r\n",
       "    margin: 0;\r\n",
       "}\r\n",
       "\r\n",
       ".h5tb-var-list > li {\r\n",
       "    background-color: #fcfcfc;\r\n",
       "    overflow: hidden;\r\n",
       "}\r\n",
       "\r\n",
       ".h5tb-var-list > li:nth-child(odd) {\r\n",
       "    background-color: #efefef;\r\n",
       "}\r\n",
       "\r\n",
       ".h5tb-var-list li:hover {\r\n",
       "    background-color: rgba(3, 169, 244, .2);\r\n",
       "}\r\n",
       "\r\n",
       ".h5tb-var-list li > span {\r\n",
       "    display: inline-block;\r\n",
       "}\r\n",
       "\r\n",
       "input.h5tb-varname-in + label {\r\n",
       "    width: 140px;\r\n",
       "    padding-left: 0;\r\n",
       "    font-weight: bold;\r\n",
       "}\r\n",
       "\r\n",
       ".h5tb-dataset {\r\n",
       "    width: 100px;\r\n",
       "}\r\n",
       "\r\n",
       ".h5tb-attributevalue {\r\n",
       "    width: 100px;\r\n",
       "    text-align: left;\r\n",
       "    color: #888;\r\n",
       "    white-space: nowrap;\r\n",
       "    font-size: 12px;\r\n",
       "}\r\n",
       "\r\n",
       "input.h5tb-varname-in + label:before {\r\n",
       "    content: ' ';\r\n",
       "    display: inline-block;\r\n",
       "    font-size: 11px;\r\n",
       "    width: 15px;\r\n",
       "    padding-left: 2px;\r\n",
       "    padding-right: 2px;\r\n",
       "    text-align: center;\r\n",
       "    color: #aaa;\r\n",
       "    text-decoration: none !important;\r\n",
       "}\r\n",
       "\r\n",
       "input.h5tb-varname-in:enabled + label:hover:before {\r\n",
       "    color: #000;\r\n",
       "}\r\n",
       "\r\n",
       "input.h5tb-varname-in:checked + label:before {\r\n",
       "    color: #ccc;\r\n",
       "}\r\n",
       "\r\n",
       ".h5tb-dims {\r\n",
       "    width: 280px;\r\n",
       "    white-space: nowrap;\r\n",
       "}\r\n",
       "\r\n",
       "\r\n",
       ".h5tb-unit {\r\n",
       "    width: 96px;\r\n",
       "    white-space: nowrap;\r\n",
       "    padding-right: 2px;\r\n",
       "    text-align: right;\r\n",
       "    color: #555;\r\n",
       "    font-style: italic;\r\n",
       "}\r\n",
       "\r\n",
       ".h5tb-attr-list {\r\n",
       "    list-style: none;\r\n",
       "    background-color: #fff;\r\n",
       "    padding-bottom: 6px;\r\n",
       "    color: #555;\r\n",
       "}\r\n",
       "\r\n",
       ".h5tb-attr-list li,\r\n",
       ".h5tb-attr-list li:hover {\r\n",
       "    background-color: #fff;\r\n",
       "}\r\n",
       "\r\n",
       ".h5tb-dim-highlight {\r\n",
       "    background-color: rgba(3, 169, 244, .2);\r\n",
       "    cursor: pointer;\r\n",
       "}</style></head>\n",
       "<p>H5FileLayout File \"tmp1\"</p>\n",
       "\n",
       "<div class='h5tb-warp'>\n",
       "\n",
       "          <ul style=\"list-style-type: none;\" class=\"h5grp-sections\">\n",
       "                <li>\n",
       "                    <input id=\"group-ds-/-6450441600\" type=\"checkbox\" checked>\n",
       "                    <label style=\"font-weight: bold\" for=\"group-ds-/-6450441600\">\n",
       "                    /<span>(0)</span></label>\n",
       "              \n",
       "\n",
       "                <ul class=\"h5tb-attr-list\"><li style=\"list-style-type: none; font-style: italic\">__h5rdmtoolbox_version__ : __version of this package</li><li style=\"list-style-type: none; font-style: italic\">title : __file title</li>\n",
       "                </ul>\n",
       "</li>\n",
       "</ul>\n",
       "</div>"
      ],
      "text/plain": [
       "<H5FileLayout with 0 issues>"
      ]
     },
     "execution_count": 5,
     "metadata": {},
     "output_type": "execute_result"
    }
   ],
   "source": [
    "lay"
   ]
  },
  {
   "cell_type": "markdown",
   "id": "73c01175-9ca5-471a-97cb-fdb89eadb417",
   "metadata": {},
   "source": [
    "## Check layout\n",
    "Let's create an empty HDF5 file with `h5py`, thus no data will be available. If we then open it with a `H5File` wrapper, everything defined in the layout file is missing, hence, we expect 4 issues to raise:"
   ]
  },
  {
   "cell_type": "code",
   "execution_count": 6,
   "id": "a83cd128-d178-41e8-8337-ecd08931411a",
   "metadata": {},
   "outputs": [
    {
     "name": "stderr",
     "output_type": "stream",
     "text": [
      "2022-10-21_17:39:24,538 ERROR    [layout.py:94] Attribute title missing in group /\n",
      "2022-10-21_17:39:24,538 ERROR    [layout.py:94] Attribute title missing in group /\n",
      "2022-10-21_17:39:24,538 ERROR    [layout.py:94] Attribute title missing in group /\n",
      "2022-10-21_17:39:24,538 ERROR    [layout.py:94] Attribute title missing in group /\n"
     ]
    },
    {
     "name": "stdout",
     "output_type": "stream",
     "text": [
      "run check\n",
      "\n",
      "run check again - different call\n",
      "\n",
      "repr of layout:\n",
      "<H5FileLayout with 1 issues>\n"
     ]
    }
   ],
   "source": [
    "# create an HDF5 file with the package h5py:\n",
    "import h5py\n",
    "filename = h5tbx.generate_temporary_filename()\n",
    "with h5py.File(filename, 'w'):\n",
    "    pass\n",
    "\n",
    "#open with h5tbx and perform a check:\n",
    "with h5tbx.H5File(filename, layout='H5File') as h5:\n",
    "    print('run check')\n",
    "    h5.check()\n",
    "    \n",
    "    print('\\nrun check again - different call')\n",
    "    h5.layout.check(h5['/'])\n",
    "    \n",
    "print('\\nrepr of layout:')\n",
    "print(h5.layout)"
   ]
  },
  {
   "cell_type": "markdown",
   "id": "b0888221-1b8b-4fa0-aff3-2d89f89f80a7",
   "metadata": {},
   "source": [
    "The command line equivalent would be:"
   ]
  },
  {
   "cell_type": "code",
   "execution_count": 7,
   "id": "d09573fd-92fb-4748-9313-9900ff697ba1",
   "metadata": {},
   "outputs": [
    {
     "name": "stdout",
     "output_type": "stream",
     "text": [
      "Checking C:\\Users\\da4323\\AppData\\Local\\h5rdmtoolbox\\h5rdmtoolbox\\tmp\\tmp155\\tmp2 with layout H5File\n"
     ]
    },
    {
     "name": "stderr",
     "output_type": "stream",
     "text": [
      "2022-10-21_17:39:26,412 ERROR    [layout.py:94] Attribute title missing in group /\n",
      "2022-10-21_17:39:26,412 ERROR    [layout.py:94] Attribute title missing in group /\n"
     ]
    }
   ],
   "source": [
    "! h5tbx layout -l H5File -c \"{filename}\""
   ]
  },
  {
   "cell_type": "markdown",
   "id": "7f6d9a9b-b30d-49c4-811e-344c955a7cb2",
   "metadata": {},
   "source": [
    "## Write an individual layout\n",
    "\n",
    "The class `H5Layout` can be found in the sub-package `conventions`. To add groups, datasets and attributes to an object `H5Layout`, we need to initializes it first and then work with the property `File`.\n",
    "\n",
    "Let's first create a reference HDF file to which the layout shall be applied. At the beginning it is empty except the title attribute:"
   ]
  },
  {
   "cell_type": "code",
   "execution_count": 8,
   "id": "b49bd64f-9cb8-4bdd-872b-3613f864ef12",
   "metadata": {},
   "outputs": [],
   "source": [
    "with h5tbx.H5File() as h5:\n",
    "    h5.attrs['title'] = 'A test file'\n",
    "    hdf_filename = h5.hdf_filename"
   ]
  },
  {
   "cell_type": "markdown",
   "id": "8645e89d-947e-47b5-9b9b-2337fd74b65f",
   "metadata": {},
   "source": [
    "Init the `H5Layout` object:"
   ]
  },
  {
   "cell_type": "code",
   "execution_count": 9,
   "id": "e2ab957a-6584-4135-a602-7f48a67cc712",
   "metadata": {},
   "outputs": [
    {
     "data": {
      "text/html": [
       "<head><style>/*\r\n",
       "CSS inspired by xarray: https://github.com/pydata/xarray\r\n",
       "*/\r\n",
       ".h5tb-header > div,\r\n",
       ".h5tb-header > ul {\r\n",
       "    display: inline;\r\n",
       "    margin-top: 0;\r\n",
       "    margin-bottom: 0;\r\n",
       "}\r\n",
       "\r\n",
       ".h5tb-dataarray-cls,\r\n",
       ".h5tb-dataarray-name {\r\n",
       "    margin-left: 2px;\r\n",
       "    margin-right: 10px;\r\n",
       "}\r\n",
       "\r\n",
       ".h5tb-dataarray-name {\r\n",
       "    color: #000;\r\n",
       "}\r\n",
       "\r\n",
       ".h5grp-sections {\r\n",
       "    list-style: none;\r\n",
       "    padding: 3px;\r\n",
       "    margin: 0;\r\n",
       "}\r\n",
       "\r\n",
       ".h5grp-sections input {\r\n",
       "    display: none;\r\n",
       "}\r\n",
       "\r\n",
       ".h5grp-sections label {\r\n",
       "    display: inline;\r\n",
       "}\r\n",
       "\r\n",
       ".h5grp-sections > li > input + label > span {\r\n",
       "    display: inline;\r\n",
       "    margin-left: 4px;\r\n",
       "}\r\n",
       "\r\n",
       ".h5grp-sections > li > input:checked + label > span {\r\n",
       "    display: none;\r\n",
       "}\r\n",
       "\r\n",
       ".h5grp-sections input:enabled + label {\r\n",
       "    cursor: pointer;\r\n",
       "}\r\n",
       "\r\n",
       ".h5grp-sections input:not(.h5tb-values-in) ~ ul {\r\n",
       "    display: none;\r\n",
       "}\r\n",
       "\r\n",
       ".h5grp-sections input:not(.h5tb-values-in):checked ~ ul {\r\n",
       "    display: block;\r\n",
       "}\r\n",
       "\r\n",
       ".h5grp-sections > li > input + label {\r\n",
       "    width: 140px;\r\n",
       "    color: #555;\r\n",
       "    font-weight: 500;\r\n",
       "    padding: 4px 0 2px 0;\r\n",
       "}\r\n",
       "\r\n",
       "\r\n",
       ".h5grp-sections > li > input + label:before {\r\n",
       "    display: inline-block;\r\n",
       "    content: '+';\r\n",
       "    font-size: 11px;\r\n",
       "    width: 15px;\r\n",
       "    text-align: center;\r\n",
       "}\r\n",
       "\r\n",
       ".h5grp-sections > li > input:disabled + label:before {\r\n",
       "    color: #777;\r\n",
       "}\r\n",
       "\r\n",
       ".h5grp-sections > li > input:checked + label:before {\r\n",
       "    content: '-';\r\n",
       "}\r\n",
       "\r\n",
       ".h5tb-dim-list {\r\n",
       "    display: inline-block !important;\r\n",
       "    list-style: none;\r\n",
       "    padding: 0;\r\n",
       "}\r\n",
       "\r\n",
       ".h5tb-dim-list li {\r\n",
       "    display: inline-block;\r\n",
       "    padding: 0;\r\n",
       "    margin: 0;\r\n",
       "}\r\n",
       "\r\n",
       ".h5tb-dim-list:before {\r\n",
       "    content: '(';\r\n",
       "}\r\n",
       "\r\n",
       ".h5tb-dim-list:after {\r\n",
       "    content: ')';\r\n",
       "}\r\n",
       "\r\n",
       ".h5tb-dim-list li:not(:last-child):after {\r\n",
       "    content: ',';\r\n",
       "}\r\n",
       "\r\n",
       ".h5tb-has-index {\r\n",
       "    text-decoration: underline;\r\n",
       "}\r\n",
       "\r\n",
       ".h5tb-var-list {\r\n",
       "    list-style: none;\r\n",
       "    padding: 0;\r\n",
       "    margin: 0;\r\n",
       "}\r\n",
       "\r\n",
       ".h5tb-var-list > li {\r\n",
       "    background-color: #fcfcfc;\r\n",
       "    overflow: hidden;\r\n",
       "}\r\n",
       "\r\n",
       ".h5tb-var-list > li:nth-child(odd) {\r\n",
       "    background-color: #efefef;\r\n",
       "}\r\n",
       "\r\n",
       ".h5tb-var-list li:hover {\r\n",
       "    background-color: rgba(3, 169, 244, .2);\r\n",
       "}\r\n",
       "\r\n",
       ".h5tb-var-list li > span {\r\n",
       "    display: inline-block;\r\n",
       "}\r\n",
       "\r\n",
       "input.h5tb-varname-in + label {\r\n",
       "    width: 140px;\r\n",
       "    padding-left: 0;\r\n",
       "    font-weight: bold;\r\n",
       "}\r\n",
       "\r\n",
       ".h5tb-dataset {\r\n",
       "    width: 100px;\r\n",
       "}\r\n",
       "\r\n",
       ".h5tb-attributevalue {\r\n",
       "    width: 100px;\r\n",
       "    text-align: left;\r\n",
       "    color: #888;\r\n",
       "    white-space: nowrap;\r\n",
       "    font-size: 12px;\r\n",
       "}\r\n",
       "\r\n",
       "input.h5tb-varname-in + label:before {\r\n",
       "    content: ' ';\r\n",
       "    display: inline-block;\r\n",
       "    font-size: 11px;\r\n",
       "    width: 15px;\r\n",
       "    padding-left: 2px;\r\n",
       "    padding-right: 2px;\r\n",
       "    text-align: center;\r\n",
       "    color: #aaa;\r\n",
       "    text-decoration: none !important;\r\n",
       "}\r\n",
       "\r\n",
       "input.h5tb-varname-in:enabled + label:hover:before {\r\n",
       "    color: #000;\r\n",
       "}\r\n",
       "\r\n",
       "input.h5tb-varname-in:checked + label:before {\r\n",
       "    color: #ccc;\r\n",
       "}\r\n",
       "\r\n",
       ".h5tb-dims {\r\n",
       "    width: 280px;\r\n",
       "    white-space: nowrap;\r\n",
       "}\r\n",
       "\r\n",
       "\r\n",
       ".h5tb-unit {\r\n",
       "    width: 96px;\r\n",
       "    white-space: nowrap;\r\n",
       "    padding-right: 2px;\r\n",
       "    text-align: right;\r\n",
       "    color: #555;\r\n",
       "    font-style: italic;\r\n",
       "}\r\n",
       "\r\n",
       ".h5tb-attr-list {\r\n",
       "    list-style: none;\r\n",
       "    background-color: #fff;\r\n",
       "    padding-bottom: 6px;\r\n",
       "    color: #555;\r\n",
       "}\r\n",
       "\r\n",
       ".h5tb-attr-list li,\r\n",
       ".h5tb-attr-list li:hover {\r\n",
       "    background-color: #fff;\r\n",
       "}\r\n",
       "\r\n",
       ".h5tb-dim-highlight {\r\n",
       "    background-color: rgba(3, 169, 244, .2);\r\n",
       "    cursor: pointer;\r\n",
       "}</style></head>\n",
       "<p>H5FileLayout File \"tmp6\"</p>\n",
       "\n",
       "<div class='h5tb-warp'>\n",
       "\n",
       "          <ul style=\"list-style-type: none;\" class=\"h5grp-sections\">\n",
       "                <li>\n",
       "                    <input id=\"group-ds-/-8647271800\" type=\"checkbox\" checked>\n",
       "                    <label style=\"font-weight: bold\" for=\"group-ds-/-8647271800\">\n",
       "                    /<span>(0)</span></label>\n",
       "              \n",
       "\n",
       "                <ul class=\"h5tb-attr-list\">\n",
       "                </ul>\n",
       "</li>\n",
       "</ul>\n",
       "</div>"
      ],
      "text/plain": [
       "<H5FileLayout with 0 issues>"
      ]
     },
     "execution_count": 9,
     "metadata": {},
     "output_type": "execute_result"
    }
   ],
   "source": [
    "hdf_layout_filename = h5tbx.generate_temporary_filename(suffix='.hdf')\n",
    "mylayout = h5tbx.conventions.H5Layout(hdf_layout_filename)\n",
    "mylayout"
   ]
  },
  {
   "cell_type": "markdown",
   "id": "75aae57b-9c0c-4a35-8cb9-1d8f90d46fe4",
   "metadata": {},
   "source": [
    "### Attributes\n",
    "Many parts of the HDF5 tree structure can be defined via the layout. Most obviously we can define attributes. We can distinguish between two definition:\n",
    "1. Defining the exact value\n",
    "2. Defining the name with any value\n",
    "\n",
    "Let's enforce the user to use the attribute `title` but let the value be open (use special value string `__any`) and enforce the usage of the root attribute `type=testdata`.\n",
    "\n",
    "Attribute values starting with `__` are ignored. Thus instead of `__any` we can use any other string, e.g. `__a_title`:"
   ]
  },
  {
   "cell_type": "code",
   "execution_count": 10,
   "id": "73fcfea4-0f75-4c59-b690-e410467cc3d7",
   "metadata": {},
   "outputs": [
    {
     "name": "stderr",
     "output_type": "stream",
     "text": [
      "2022-10-21_17:39:26,730 ERROR    [layout.py:94] Attribute type missing in group /\n",
      "2022-10-21_17:39:26,730 ERROR    [layout.py:94] Attribute type missing in group /\n"
     ]
    },
    {
     "name": "stdout",
     "output_type": "stream",
     "text": [
      "H5FileLayout issue report (1 issues)\n",
      "-------------------\n",
      "/.type: -> missing\n"
     ]
    }
   ],
   "source": [
    "with mylayout.File(mode='w') as h5:\n",
    "    h5.attrs['title'] = '__any'\n",
    "    h5.attrs['type'] = 'testdata'\n",
    "mylayout.check_file(hdf_filename)\n",
    "mylayout.report()"
   ]
  },
  {
   "cell_type": "markdown",
   "id": "10f4a31d-eaf6-4c0a-952d-198d9d79c1d9",
   "metadata": {},
   "source": [
    "### Datasets\n",
    "\n",
    "It generally makes no sense to define the data content of a dataset. However, it might be reasonable to define the expected shape or dimension of the array and once again its attributes. For this, we need to create the expected dataset at the expected group level and give it any shape. Best is to use the smallest possible in order to reduce the size of the layout file. It anyhow does not play a role because shape or dimension checks are made based on specific attributes assigned to the dataset.\n",
    "\n",
    "Special attributes names start and end with `__`. Available ones to be used for datasets in layouts are:\n",
    "- `__shape__`: Specify the exact shape: Tuple ot int\n",
    "- `__dim__`: Specify the exact dimension: int"
   ]
  },
  {
   "cell_type": "code",
   "execution_count": 11,
   "id": "1f0fd70f-1a8f-4074-9f1b-bb2b33c6ecf1",
   "metadata": {},
   "outputs": [],
   "source": [
    "with mylayout.File(mode='r+') as h5:\n",
    "    # expect a 1D array dataset called \"x\":\n",
    "    dsx = h5.create_dataset('x', shape=(1,))\n",
    "    dsx.attrs['__ndim__'] = 1\n",
    "    dsx.attrs['standard_name.alt:long_name'] = '__any'\n",
    "    dsx.attrs['units'] = 'm' \n",
    "    \n",
    "    # expect a 2D array dataset called \"data\" with shape (20, 30):\n",
    "    dsdata = h5.create_dataset('data', shape=(1,))\n",
    "    dsdata.attrs['__shape__'] = (20, 30)\n",
    "    dsdata.attrs['standard_name.alt:long_name'] = '__any'\n",
    "    dsdata.attrs['units'] = 'kg' "
   ]
  },
  {
   "cell_type": "markdown",
   "id": "48e36584-e875-4838-9251-e1e33a0cd9e5",
   "metadata": {},
   "source": [
    "Let's update the reference file:"
   ]
  },
  {
   "cell_type": "code",
   "execution_count": 12,
   "id": "e8d7e000-ad6a-4b4d-a1da-3c0c6c224a01",
   "metadata": {},
   "outputs": [],
   "source": [
    "with h5py.File(hdf_filename, mode='r+') as h5:\n",
    "    h5.attrs['type'] = 'testdata'\n",
    "    dsx = h5.create_dataset('x', data=[1,2,3])\n",
    "    dsx.attrs['long_name'] = 'x coordinate'\n",
    "    \n",
    "    dsdata = h5.create_dataset('data', shape=(20, 32))\n",
    "    dsdata.attrs['units'] = 'm'"
   ]
  },
  {
   "cell_type": "markdown",
   "id": "286eee31-3f57-4af3-9075-b6df643c7706",
   "metadata": {},
   "source": [
    "The layout check reveals that some meta data is mising, other is wrong"
   ]
  },
  {
   "cell_type": "code",
   "execution_count": 13,
   "id": "06f3e54a-50fe-43b9-94ed-6593eea03727",
   "metadata": {},
   "outputs": [
    {
     "name": "stderr",
     "output_type": "stream",
     "text": [
      "2022-10-21_17:39:26,767 ERROR    [layout.py:31] Wrong shape of dataset /data: (20, 30) != (20, 32)\n",
      "2022-10-21_17:39:26,767 ERROR    [layout.py:31] Wrong shape of dataset /data: (20, 30) != (20, 32)\n",
      "2022-10-21_17:39:26,770 ERROR    [layout.py:77] Neither of the attribute standard_name, long_name exist in /data\n",
      "2022-10-21_17:39:26,770 ERROR    [layout.py:77] Neither of the attribute standard_name, long_name exist in /data\n",
      "2022-10-21_17:39:26,770 ERROR    [layout.py:68] Base-units check failed for /data: kg != m\n",
      "2022-10-21_17:39:26,770 ERROR    [layout.py:68] Base-units check failed for /data: kg != m\n",
      "2022-10-21_17:39:26,774 ERROR    [layout.py:71] Attribute units missing in /x\n",
      "2022-10-21_17:39:26,774 ERROR    [layout.py:71] Attribute units missing in /x\n"
     ]
    },
    {
     "name": "stdout",
     "output_type": "stream",
     "text": [
      "H5FileLayout issue report (4 issues)\n",
      "-------------------\n",
      "/data: -> wrong shape: (20, 32) != (20, 30)\n",
      "/data.standard_name or long_name: -> missing\n",
      "/data.units: -> wrong\n",
      "/x.units: -> missing\n"
     ]
    }
   ],
   "source": [
    "mylayout.check_file(hdf_filename)\n",
    "mylayout.report()"
   ]
  },
  {
   "cell_type": "markdown",
   "id": "1ae1f440-afd3-4a7a-9629-0f3132ee339b",
   "metadata": {},
   "source": [
    "### Groups\n",
    "\n",
    "Defining groups is straight forward and similar to datasets, just without the option to define shape/dim and similar."
   ]
  },
  {
   "cell_type": "code",
   "execution_count": null,
   "id": "5fd9c0de-15c1-4d72-994c-15b026e30590",
   "metadata": {},
   "outputs": [],
   "source": []
  }
 ],
 "metadata": {
  "kernelspec": {
   "display_name": "Python 3 (ipykernel)",
   "language": "python",
   "name": "python3"
  },
  "language_info": {
   "codemirror_mode": {
    "name": "ipython",
    "version": 3
   },
   "file_extension": ".py",
   "mimetype": "text/x-python",
   "name": "python",
   "nbconvert_exporter": "python",
   "pygments_lexer": "ipython3",
   "version": "3.8.13"
  }
 },
 "nbformat": 4,
 "nbformat_minor": 5
}
