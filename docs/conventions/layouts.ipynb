{
 "cells": [
  {
   "cell_type": "markdown",
   "id": "e02471df-4155-46ff-ad48-be967a15908b",
   "metadata": {},
   "source": [
    "# Layouts\n",
    "\n",
    "The organization of data, the vocabulary and other important attributes are typically specified by documents. In the case of HDF5 files we would need to specify how groups and datasets are arranged and which are mandatory attributes. It could also be defined which compression level each dataset must have. Especially attributes are ofmajor importance when data is being anlyzed by many users and in particular when processed by other software. Hence, specifying which attributes are used in which cases is important.\n",
    "\n",
    "All these things must be followed by the file creatr and checked by the file receiver who analyzes the file (which can also be a machine).\n",
    "The `h5RDMtoolbox` provides a way to translate the rules/specifications made by a colaboration or project into a python obects which can then validate HDF5 files. It ultimately not only increases the value of data, it also saves time and costs, because the risk of missing or incimplete meta information is minimized and data analysts donnot need to contact the file creator for clarifications, for instance."
   ]
  },
  {
   "cell_type": "markdown",
   "id": "d14558df-8c5e-4369-bc68-dfdfee56802b",
   "metadata": {},
   "source": [
    "---\n",
    "We introduce the concept of *layouts* by an imaginary but reasonable example how data should be organized and provided in a small fluid mechanics project.\n",
    "\n",
    "We first list our requirements/specifications like we would do in a formal document. Then we translate it into a `Layout` object:\n",
    "\n",
    "1. Datasets:\n",
    "    1. Compression opt is `gzip` for all datasets\n",
    "    2. All datasets must have an attribute `units` and `standard_name`\n",
    "2. Root group:\n",
    "    1. The *root group* must hold the attribute `version`, which is the current version of the toolbox. Also it must contain the attributes `title` and  `user`\n",
    "3. Groups:\n",
    "    1. All groups must have an attribute `comments`. A Comment must not start with a blank or a number.\n",
    "    2. The group `measurement_devices` must exist at group `devices`"
   ]
  },
  {
   "cell_type": "markdown",
   "id": "0cb69274-b3c9-4617-be1e-bc04e01dd38c",
   "metadata": {},
   "source": [
    "## Creating a layout\n",
    "The `layout.File` object is designed such that the syntax is similar to the `h5py.File` class."
   ]
  },
  {
   "cell_type": "code",
   "execution_count": 1,
   "id": "d9e2c157-bd96-47e0-9602-76c79ffbe989",
   "metadata": {
    "tags": []
   },
   "outputs": [],
   "source": [
    "import h5rdmtoolbox as h5tbx\n",
    "from h5rdmtoolbox.conventions.layout import Layout, Any, Regex"
   ]
  },
  {
   "cell_type": "markdown",
   "id": "a3e4b8c4-6724-48f9-9366-dead8e067080",
   "metadata": {},
   "source": [
    "Initialize a `Layout` object:"
   ]
  },
  {
   "cell_type": "code",
   "execution_count": 2,
   "id": "a7257533-784f-4f48-94cb-d8de107ad62c",
   "metadata": {
    "tags": []
   },
   "outputs": [],
   "source": [
    "lay = Layout()"
   ]
  },
  {
   "cell_type": "markdown",
   "id": "6f926709-3d58-4bfe-a44b-835239c1086b",
   "metadata": {},
   "source": [
    "### 1. Datasets\n",
    "\n",
    "Instead of calling `create_datset`, with the Layout object `specify_dataset` is called\n",
    "\n",
    "#### A. Dataset properties\n",
    "\n",
    "All datasets must use gzip-compression, so the dataset name is irreleant. For this to specify we can use the `Ellipsis` object of python. Other parameters of `specify_dataset` are the parameters set during `create_dataset` of the h5py dataset. We only nee `compresison` in this case:"
   ]
  },
  {
   "cell_type": "code",
   "execution_count": 3,
   "id": "e236705c-928f-4eb0-b1ed-9c283ade86ff",
   "metadata": {
    "tags": []
   },
   "outputs": [
    {
     "name": "stdout",
     "output_type": "stream",
     "text": [
      "[\"/\"].dataset(name=\"...\", compression=gzip)\n"
     ]
    }
   ],
   "source": [
    "dv = lay['*'].specify_dataset(name='...', compression='gzip')\n",
    "print(dv)"
   ]
  },
  {
   "cell_type": "markdown",
   "id": "b95e32ab-5b01-41a4-aea3-e610ec69b2e6",
   "metadata": {},
   "source": [
    "#### B. Dataset attributes\n",
    "We can either use the attribute manager `.attrs` as known from the `h5py` implementation or we use `specify_attrs()`:"
   ]
  },
  {
   "cell_type": "code",
   "execution_count": 9,
   "id": "b297ff59-e2fa-4c3f-a101-63bb7ecff2a9",
   "metadata": {
    "tags": []
   },
   "outputs": [],
   "source": [
    "ds = lay['*'].specify_dataset()\n",
    "\n",
    "ds.attrs = {'units': ..., 'standard_name': ...}\n",
    "# we could also have done this:\n",
    "# ds.attrs['units']: ...\n",
    "# ds.attrs['standard_name'] =  ...\n",
    "# ... or:\n",
    "# ds.specify_attrs(units=..., standard_name=...)"
   ]
  },
  {
   "cell_type": "markdown",
   "id": "ca2c0876-deed-456b-a23d-9810f1778fa0",
   "metadata": {},
   "source": [
    "### 2. Root Group\n",
    "#### A Root attributes"
   ]
  },
  {
   "cell_type": "code",
   "execution_count": 13,
   "id": "87c4cff7-a27c-4334-bc3d-bfafd92c7d89",
   "metadata": {
    "tags": []
   },
   "outputs": [],
   "source": [
    "lay['/'].attrs['__version__'] = h5tbx.__version__\n",
    "lay['/'].specify_attrs(title=...,user=...)"
   ]
  },
  {
   "cell_type": "markdown",
   "id": "8fb31346-1a6a-4560-ba54-1454c64d7079",
   "metadata": {},
   "source": [
    "### 3. Group\n",
    "#### A. All groups must have an attribute `comments`.\n",
    "The attribute \"comment\" must not start with a blank or a number."
   ]
  },
  {
   "cell_type": "code",
   "execution_count": 16,
   "id": "11d140af-a740-4d45-96a4-397aa59bd0e7",
   "metadata": {
    "tags": []
   },
   "outputs": [],
   "source": [
    "lay['*'].specify_group().attrs['comment'] = Regex(r'^[^ 0-9].*')"
   ]
  },
  {
   "cell_type": "markdown",
   "id": "ba823c74-81f7-4126-bce3-b862d8588fa6",
   "metadata": {
    "tags": []
   },
   "source": [
    "#### B The group `measurement_devices` must exist at group `devices`"
   ]
  },
  {
   "cell_type": "code",
   "execution_count": 17,
   "id": "e667ce2d-5eec-4821-b60c-cc4cdff94913",
   "metadata": {
    "tags": []
   },
   "outputs": [
    {
     "data": {
      "text/plain": [
       "GroupValidation(ExistIn('measurement_devices'), opt=False)>"
      ]
     },
     "execution_count": 17,
     "metadata": {},
     "output_type": "execute_result"
    }
   ],
   "source": [
    "lay['devices'].specify_group('measurement_devices')"
   ]
  },
  {
   "cell_type": "markdown",
   "id": "78367caa-ba60-428d-a676-c77ab1536c9f",
   "metadata": {},
   "source": [
    "## Performing the validation\n",
    "\n",
    "Now it is time to test (validate) the specifications.\n",
    "\n",
    "We start with an empty file. Every specification is expected to fail unless it is optional, as the specification for the \"comment\"-attribute. Note, that not all specifications will be able to be tested"
   ]
  },
  {
   "cell_type": "code",
   "execution_count": 18,
   "id": "6e4f5575-4c82-4f40-a295-79ed091c3c52",
   "metadata": {
    "tags": []
   },
   "outputs": [
    {
     "name": "stdout",
     "output_type": "stream",
     "text": [
      "[\"/\"].dataset(name=\"...\", compression=gzip)\n",
      "[\"/\"].attr(name=\"comment\", value=\"re:^[^ 0-9].*\")\n",
      "[\"/\"].attr(name=\"__version__\", value=\"0.5.1a1\")\n",
      "[\"/\"].attr(name=\"title\", value=\"...\")\n",
      "[\"/\"].attr(name=\"user\", value=\"...\")\n",
      "GroupValidation(ExistIn('devices'), opt=False)>\n"
     ]
    },
    {
     "data": {
      "text/plain": [
       "6"
      ]
     },
     "execution_count": 18,
     "metadata": {},
     "output_type": "execute_result"
    }
   ],
   "source": [
    "with h5tbx.File() as h5:\n",
    "    lay.validate(h5)\n",
    "lay.print_failed_validations()\n",
    "lay.fails"
   ]
  },
  {
   "cell_type": "code",
   "execution_count": 19,
   "id": "aed5d184-3d7e-4063-8fd0-484627ba751a",
   "metadata": {},
   "outputs": [
    {
     "name": "stdout",
     "output_type": "stream",
     "text": [
      "Layout Validation report\n",
      "------------------------\n",
      "Number of validations (called/specified): 9/19\n",
      "Number of inactive validations: 10\n",
      "Success rate: 0.0% (n_fails=6)\n"
     ]
    }
   ],
   "source": [
    "lay.report()"
   ]
  },
  {
   "cell_type": "code",
   "execution_count": 20,
   "id": "b9902245-3120-4579-9643-cc58bea22bf8",
   "metadata": {
    "tags": []
   },
   "outputs": [
    {
     "name": "stdout",
     "output_type": "stream",
     "text": [
      "[\"/\"].dataset(name=\"...\", compression=gzip)\n"
     ]
    }
   ],
   "source": [
    "with h5tbx.File() as h5:\n",
    "    h5.create_dataset('velocity',\n",
    "                      shape=(10, 20),\n",
    "                      compression='gzip',\n",
    "                      attrs={'units': 'm/s'})\n",
    "    h5.attrs['comment'] = 'This is a valid comment'\n",
    "    g = h5.create_group('devices/measurement_devices')\n",
    "    h5['devices'].attrs['comment'] = 'This is a valid comment'\n",
    "    h5['devices'].attrs['long_name'] = 'an_attribute'\n",
    "    h5['devices/measurement_devices'].attrs['comment'] = 'This is a valid comment'\n",
    "    h5.attrs['__version__'] = h5tbx.__version__\n",
    "    \n",
    "    res = lay.validate(h5)\n",
    "lay.print_failed_validations(n=1)"
   ]
  },
  {
   "cell_type": "code",
   "execution_count": 21,
   "id": "d2c8c8df-5a41-408b-98b2-77f77aec5ac9",
   "metadata": {},
   "outputs": [
    {
     "name": "stdout",
     "output_type": "stream",
     "text": [
      "Layout Validation report\n",
      "------------------------\n",
      "Number of validations (called/specified): 15/19\n",
      "Number of inactive validations: 4\n",
      "Success rate: 66.7% (n_fails=6)\n"
     ]
    }
   ],
   "source": [
    "lay.report()"
   ]
  },
  {
   "cell_type": "markdown",
   "id": "a1fff61d-b32c-4a62-9ea8-6034d7896c1f",
   "metadata": {},
   "source": [
    "### Dataset property specification"
   ]
  },
  {
   "cell_type": "markdown",
   "id": "5a6b8507-94c3-4b9a-ab6c-c17c7eccdf2b",
   "metadata": {},
   "source": [
    "Each dataset (despite its location within the hierachical structure), which starts with eith \"x\", \"y\" or \"z\" and ends with \"_coordinate\" shall be one-dimensional. This can be specified by the dataset property \"ndim\""
   ]
  },
  {
   "cell_type": "code",
   "execution_count": 22,
   "id": "9471245e-c34e-4752-b66e-dc8bcfffe93d",
   "metadata": {
    "tags": []
   },
   "outputs": [
    {
     "data": {
      "text/plain": [
       "DatasetValidation(Regex('^[x-z]_coordinate'), opt=False)>"
      ]
     },
     "execution_count": 22,
     "metadata": {},
     "output_type": "execute_result"
    }
   ],
   "source": [
    "lay['*'].specify_dataset(name=Regex('^[x-z]_coordinate'), ndim=1)"
   ]
  },
  {
   "cell_type": "markdown",
   "id": "598806e6-3d17-48cc-98cb-b613052792f0",
   "metadata": {},
   "source": [
    "## Perform a layout validation\n",
    "\n",
    "Let's create an empty HDF5 file first:"
   ]
  },
  {
   "cell_type": "code",
   "execution_count": 23,
   "id": "a04e4b68-c604-46d5-ac63-8902a9d77d61",
   "metadata": {
    "tags": []
   },
   "outputs": [
    {
     "data": {
      "text/html": [
       "<head><style>/*\r\n",
       "CSS inspired by xarray: https://github.com/pydata/xarray\r\n",
       "*/\r\n",
       ".h5tb-header > div,\r\n",
       ".h5tb-header > ul {\r\n",
       "    display: inline;\r\n",
       "    margin-top: 0;\r\n",
       "    margin-bottom: 0;\r\n",
       "}\r\n",
       "\r\n",
       ".h5tb-dataarray-cls,\r\n",
       ".h5tb-dataarray-name {\r\n",
       "    margin-left: 2px;\r\n",
       "    margin-right: 10px;\r\n",
       "}\r\n",
       "\r\n",
       ".h5tb-dataarray-name {\r\n",
       "    color: #000;\r\n",
       "}\r\n",
       "\r\n",
       ".h5grp-sections {\r\n",
       "    list-style: none;\r\n",
       "    padding: 3px;\r\n",
       "    margin: 0;\r\n",
       "}\r\n",
       "\r\n",
       ".h5grp-sections input {\r\n",
       "    display: none;\r\n",
       "}\r\n",
       "\r\n",
       ".h5grp-sections label {\r\n",
       "    display: inline;\r\n",
       "}\r\n",
       "\r\n",
       ".h5grp-sections > li > input + label > span {\r\n",
       "    display: inline;\r\n",
       "    margin-left: 4px;\r\n",
       "}\r\n",
       "\r\n",
       ".h5grp-sections > li > input:checked + label > span {\r\n",
       "    display: none;\r\n",
       "}\r\n",
       "\r\n",
       ".h5grp-sections input:enabled + label {\r\n",
       "    cursor: pointer;\r\n",
       "}\r\n",
       "\r\n",
       ".h5grp-sections input:not(.h5tb-values-in) ~ ul {\r\n",
       "    display: none;\r\n",
       "}\r\n",
       "\r\n",
       ".h5grp-sections input:not(.h5tb-values-in):checked ~ ul {\r\n",
       "    display: block;\r\n",
       "}\r\n",
       "\r\n",
       ".h5grp-sections > li > input + label {\r\n",
       "    width: 140px;\r\n",
       "    color: #555;\r\n",
       "    font-weight: 500;\r\n",
       "    padding: 4px 0 2px 0;\r\n",
       "}\r\n",
       "\r\n",
       "\r\n",
       ".h5grp-sections > li > input + label:before {\r\n",
       "    display: inline-block;\r\n",
       "    content: '+';\r\n",
       "    font-size: 11px;\r\n",
       "    width: 15px;\r\n",
       "    text-align: center;\r\n",
       "}\r\n",
       "\r\n",
       ".h5grp-sections > li > input:disabled + label:before {\r\n",
       "    color: #777;\r\n",
       "}\r\n",
       "\r\n",
       ".h5grp-sections > li > input:checked + label:before {\r\n",
       "    content: '-';\r\n",
       "}\r\n",
       "\r\n",
       ".h5tb-dim-list {\r\n",
       "    display: inline-block !important;\r\n",
       "    list-style: none;\r\n",
       "    padding: 0;\r\n",
       "}\r\n",
       "\r\n",
       ".h5tb-dim-list li {\r\n",
       "    display: inline-block;\r\n",
       "    padding: 0;\r\n",
       "    margin: 0;\r\n",
       "}\r\n",
       "\r\n",
       ".h5tb-dim-list:before {\r\n",
       "    content: '(';\r\n",
       "}\r\n",
       "\r\n",
       ".h5tb-dim-list:after {\r\n",
       "    content: ')';\r\n",
       "}\r\n",
       "\r\n",
       ".h5tb-dim-list li:not(:last-child):after {\r\n",
       "    content: ',';\r\n",
       "}\r\n",
       "\r\n",
       ".h5tb-has-index {\r\n",
       "    text-decoration: underline;\r\n",
       "}\r\n",
       "\r\n",
       ".h5tb-var-list {\r\n",
       "    list-style: none;\r\n",
       "    padding: 0;\r\n",
       "    margin: 0;\r\n",
       "}\r\n",
       "\r\n",
       ".h5tb-var-list > li {\r\n",
       "    background-color: #fcfcfc;\r\n",
       "    overflow: hidden;\r\n",
       "}\r\n",
       "\r\n",
       ".h5tb-var-list > li:nth-child(odd) {\r\n",
       "    background-color: #efefef;\r\n",
       "}\r\n",
       "\r\n",
       ".h5tb-var-list li:hover {\r\n",
       "    background-color: rgba(3, 169, 244, .2);\r\n",
       "}\r\n",
       "\r\n",
       ".h5tb-var-list li > span {\r\n",
       "    display: inline-block;\r\n",
       "}\r\n",
       "\r\n",
       "input.h5tb-varname-in + label {\r\n",
       "    width: 140px;\r\n",
       "    padding-left: 0;\r\n",
       "    font-weight: bold;\r\n",
       "}\r\n",
       "\r\n",
       ".h5tb-dataset {\r\n",
       "    width: 100px;\r\n",
       "}\r\n",
       "\r\n",
       ".h5tb-attributevalue {\r\n",
       "    width: 100px;\r\n",
       "    text-align: left;\r\n",
       "    color: #888;\r\n",
       "    white-space: nowrap;\r\n",
       "    font-size: 12px;\r\n",
       "}\r\n",
       "\r\n",
       "input.h5tb-varname-in + label:before {\r\n",
       "    content: ' ';\r\n",
       "    display: inline-block;\r\n",
       "    font-size: 11px;\r\n",
       "    width: 15px;\r\n",
       "    padding-left: 2px;\r\n",
       "    padding-right: 2px;\r\n",
       "    text-align: center;\r\n",
       "    color: #aaa;\r\n",
       "    text-decoration: none !important;\r\n",
       "}\r\n",
       "\r\n",
       "input.h5tb-varname-in:enabled + label:hover:before {\r\n",
       "    color: #000;\r\n",
       "}\r\n",
       "\r\n",
       "input.h5tb-varname-in:checked + label:before {\r\n",
       "    color: #ccc;\r\n",
       "}\r\n",
       "\r\n",
       ".h5tb-dims {\r\n",
       "    width: 280px;\r\n",
       "    white-space: nowrap;\r\n",
       "}\r\n",
       "\r\n",
       "\r\n",
       ".h5tb-unit {\r\n",
       "    width: 96px;\r\n",
       "    white-space: nowrap;\r\n",
       "    padding-right: 2px;\r\n",
       "    text-align: right;\r\n",
       "    color: #555;\r\n",
       "    font-style: italic;\r\n",
       "}\r\n",
       "\r\n",
       ".h5tb-attr-list {\r\n",
       "    list-style: none;\r\n",
       "    background-color: #fff;\r\n",
       "    padding-bottom: 6px;\r\n",
       "    color: #555;\r\n",
       "}\r\n",
       "\r\n",
       ".h5tb-attr-list li,\r\n",
       ".h5tb-attr-list li:hover {\r\n",
       "    background-color: #fff;\r\n",
       "}\r\n",
       "\r\n",
       ".h5tb-dim-highlight {\r\n",
       "    background-color: rgba(3, 169, 244, .2);\r\n",
       "    cursor: pointer;\r\n",
       "}</style></head>\n",
       "<div class='h5tb-warp'>\n",
       "\n",
       "              <ul style=\"list-style-type: none;\" class=\"h5grp-sections\">\n",
       "                    <li>\n",
       "                        <input id=\"group-ds--228633811500\" type=\"checkbox\" checked>\n",
       "                        <label style=\"font-weight: bold\" for=\"group-ds--228633811500\">\n",
       "                        /<span>(0)</span></label>\n",
       "                  \n",
       "\n",
       "                    <ul class=\"h5tb-attr-list\"><li style=\"list-style-type: none; font-style: italic\">__h5rdmtoolbox_version__ : 0.5.1a1</li>\n",
       "                    </ul>\n",
       "</li>\n",
       "</ul>\n",
       "</div>"
      ],
      "text/plain": [
       "<IPython.core.display.HTML object>"
      ]
     },
     "metadata": {},
     "output_type": "display_data"
    }
   ],
   "source": [
    "h5tbx.use(None)\n",
    "\n",
    "with h5tbx.File() as h5:\n",
    "    h5.dump()"
   ]
  },
  {
   "cell_type": "markdown",
   "id": "a23f809c-fc51-47bd-a26d-098c9a3e6e8d",
   "metadata": {},
   "source": [
    "Running the validation with `lay.validate()` will get us a total of three issues (`res.total_issues()`):"
   ]
  },
  {
   "cell_type": "code",
   "execution_count": 24,
   "id": "bf51d18c-cb84-4e9b-ac5e-590bf3b0c0c3",
   "metadata": {
    "tags": []
   },
   "outputs": [],
   "source": [
    "res =lay.validate(h5.hdf_filename)"
   ]
  },
  {
   "cell_type": "code",
   "execution_count": 25,
   "id": "bdf32a53-289b-4c86-b085-adbea6ab2892",
   "metadata": {
    "tags": []
   },
   "outputs": [
    {
     "data": {
      "text/plain": [
       "7"
      ]
     },
     "execution_count": 25,
     "metadata": {},
     "output_type": "execute_result"
    }
   ],
   "source": [
    "lay.fails"
   ]
  },
  {
   "cell_type": "markdown",
   "id": "d74514f9-bf73-4d9d-b85b-cf8b3bcc2056",
   "metadata": {},
   "source": [
    "To find out what the issues are, best is to `report()` the issue messages. Note, some issues are \"hidden\"."
   ]
  },
  {
   "cell_type": "markdown",
   "id": "953d5365-b62b-4c74-a53b-39dff0bc89a6",
   "metadata": {},
   "source": [
    "Adding the version will reduce the issues about one:"
   ]
  },
  {
   "cell_type": "code",
   "execution_count": 26,
   "id": "1f2143ab-cbad-499f-8068-080e59ebec74",
   "metadata": {
    "tags": []
   },
   "outputs": [
    {
     "data": {
      "text/plain": [
       "7"
      ]
     },
     "execution_count": 26,
     "metadata": {},
     "output_type": "execute_result"
    }
   ],
   "source": [
    "with h5tbx.File() as h5:\n",
    "    h5.attrs['h5rdmtoolbox_version'] = h5tbx.__version__\n",
    "    lay.validate(h5)\n",
    "lay.fails"
   ]
  },
  {
   "cell_type": "code",
   "execution_count": 27,
   "id": "620139b4-2a91-48b1-84dc-4ff0b0fe67fc",
   "metadata": {
    "tags": []
   },
   "outputs": [
    {
     "data": {
      "text/plain": [
       "[ValidationResult(DatasetValidation(Equal('...'), opt=False)>, False, obj=None),\n",
       " ValidationResult(AttributeValidation(Equal('comment'), opt=False)>, False, obj=<class \"File\" convention: \"h5py\">),\n",
       " ValidationResult(DatasetValidation(Regex('^[x-z]_coordinate'), opt=False)>, False, obj=None),\n",
       " ValidationResult(AttributeValidation(Equal('__version__'), opt=False)>, False, obj=<class \"File\" convention: \"h5py\">),\n",
       " ValidationResult(AttributeValidation(Equal('title'), opt=False)>, False, obj=<class \"File\" convention: \"h5py\">),\n",
       " ValidationResult(AttributeValidation(Equal('user'), opt=False)>, False, obj=<class \"File\" convention: \"h5py\">),\n",
       " ValidationResult(GroupValidation(ExistIn('devices'), opt=False)>, False, obj=<class \"File\" convention: \"h5py\">)]"
      ]
     },
     "execution_count": 27,
     "metadata": {},
     "output_type": "execute_result"
    }
   ],
   "source": [
    "lay.get_failed_validations()"
   ]
  },
  {
   "cell_type": "markdown",
   "id": "d4737ee1-9c1b-4bd5-af04-390f9d304e7b",
   "metadata": {},
   "source": [
    "Adding a dataset in the group \"fluid\" without a unit:"
   ]
  },
  {
   "cell_type": "code",
   "execution_count": 28,
   "id": "49a0ed8f-e8e0-446a-bf55-73e05652b2f6",
   "metadata": {
    "tags": []
   },
   "outputs": [
    {
     "name": "stdout",
     "output_type": "stream",
     "text": [
      "[\"/\"].dataset(name=\"...\", compression=gzip)\n",
      "[\"/\"].attr(name=\"comment\", value=\"re:^[^ 0-9].*\")\n",
      "[\"/\"].dataset(name=\"re:^[x-z]_coordinate\", ndim=1)\n",
      "[\"/\"].dataset(name=\"...\", compression=gzip)\n",
      "[\"/\"].attr(name=\"comment\", value=\"re:^[^ 0-9].*\")\n",
      "[\"/\"].dataset(name=\"re:^[x-z]_coordinate\", ndim=1)\n",
      "[\"/\"].attr(name=\"__version__\", value=\"0.5.1a1\")\n",
      "[\"/\"].attr(name=\"title\", value=\"...\")\n",
      "[\"/\"].attr(name=\"user\", value=\"...\")\n",
      "GroupValidation(ExistIn('devices'), opt=False)>\n"
     ]
    }
   ],
   "source": [
    "with h5tbx.File() as h5:\n",
    "    g = h5.create_group('fluid')\n",
    "    g.attrs['units'] = 'm/s'\n",
    "    lay.validate(h5)\n",
    "lay.fails\n",
    "for f in lay.get_failed_validations():\n",
    "    print(f.validation)"
   ]
  },
  {
   "cell_type": "markdown",
   "id": "9b222786-3a7e-4c47-aa0e-caf5c33798c5",
   "metadata": {},
   "source": [
    "## User-defined Validators\n",
    "\n",
    "Above we specifd, that comments must not start with a space or a number. We could also define a validator class to handle this. For this, inherite the class `Validator` and adjust the `__call__`-method:"
   ]
  },
  {
   "cell_type": "code",
   "execution_count": 29,
   "id": "73e710a5-79a5-4528-964f-b40b4fed3b09",
   "metadata": {
    "tags": []
   },
   "outputs": [],
   "source": [
    "from h5rdmtoolbox.conventions.layout import Validator\n",
    "import re\n",
    "\n",
    "class Comment(Validator):\n",
    "    \n",
    "    def __init__(self):\n",
    "        reference = r'^[^ 0-9].*'\n",
    "        super().__init__(reference, '=')\n",
    "\n",
    "    def __str__(self):\n",
    "        return f're:{self.reference}'\n",
    "    \n",
    "    def __call__(self, value):\n",
    "        return re.match(self.reference, value) is not None"
   ]
  },
  {
   "cell_type": "code",
   "execution_count": 30,
   "id": "ec658204-c29b-4026-a42c-0f825febf5f8",
   "metadata": {
    "tags": []
   },
   "outputs": [],
   "source": [
    "lay = Layout()\n",
    "lay['/'].attrs['comment'] = Comment()"
   ]
  },
  {
   "cell_type": "code",
   "execution_count": 31,
   "id": "17cb367f-e2fd-485f-9a81-d7f52fdb486e",
   "metadata": {
    "tags": []
   },
   "outputs": [
    {
     "name": "stdout",
     "output_type": "stream",
     "text": [
      "Layout Validation report\n",
      "------------------------\n",
      "Number of validations (called/specified): 2/2\n",
      "Number of inactive validations: 0\n",
      "Success rate: 50.0% (n_fails=1)\n"
     ]
    }
   ],
   "source": [
    "with h5tbx.File() as h5:\n",
    "    h5.attrs['comment'] = '0 wrong comment'\n",
    "    lay.validate(h5)\n",
    "lay.report()"
   ]
  },
  {
   "cell_type": "code",
   "execution_count": 32,
   "id": "26d459cf-97c8-410a-a739-27eb933a9971",
   "metadata": {
    "tags": []
   },
   "outputs": [
    {
     "name": "stdout",
     "output_type": "stream",
     "text": [
      "Layout Validation report\n",
      "------------------------\n",
      "Number of validations (called/specified): 2/2\n",
      "Number of inactive validations: 0\n",
      "Success rate: 100.0% (n_fails=0)\n"
     ]
    }
   ],
   "source": [
    "with h5tbx.File() as h5:\n",
    "    h5.attrs['comment'] = 'Correct comment'\n",
    "    lay.validate(h5)\n",
    "lay.report()"
   ]
  },
  {
   "cell_type": "markdown",
   "id": "ac282051-e8bd-42a5-9218-b75e73f35040",
   "metadata": {},
   "source": [
    "## Registred layouts\n",
    "\n",
    "One pre-defined layout exists in the toolbox. It is intendet to be used with the convention `tbx`. Thus it specifies attributes like \"title\" at the root of the file "
   ]
  },
  {
   "cell_type": "code",
   "execution_count": 33,
   "id": "c17da1cb-821b-4187-85ab-2ea58b0d13d4",
   "metadata": {
    "tags": []
   },
   "outputs": [],
   "source": [
    "from h5rdmtoolbox.conventions.layout import Registry"
   ]
  },
  {
   "cell_type": "markdown",
   "id": "dfa0010b-02b8-4832-9859-a6b5e4ed0726",
   "metadata": {},
   "source": [
    "The representational string of the class `Registry` tells us which layouts are registered, namely \"tbx\", which checks basic requirements corresponding to the \"tbx\"-conventions:"
   ]
  },
  {
   "cell_type": "code",
   "execution_count": 34,
   "id": "644b6996-4b19-445a-af89-1ad10cb947c1",
   "metadata": {
    "tags": []
   },
   "outputs": [
    {
     "data": {
      "text/plain": [
       "LayoutRegistry(\"tbx\",)"
      ]
     },
     "execution_count": 34,
     "metadata": {},
     "output_type": "execute_result"
    }
   ],
   "source": [
    "Registry"
   ]
  },
  {
   "cell_type": "code",
   "execution_count": 35,
   "id": "f2da66a6-5276-4c78-8b69-27a7b0bed612",
   "metadata": {
    "tags": []
   },
   "outputs": [
    {
     "name": "stdout",
     "output_type": "stream",
     "text": [
      "Layout Validation report\n",
      "------------------------\n",
      "Number of validations (called/specified): 6/10\n",
      "Number of inactive validations: 4\n",
      "Success rate: 100.0% (n_fails=0)\n"
     ]
    }
   ],
   "source": [
    "lay = Registry['tbx']\n",
    "with h5tbx.File() as h5:\n",
    "    h5.attrs['title'] = 'This is a title'\n",
    "    lay.validate(h5)\n",
    "lay.report()"
   ]
  },
  {
   "cell_type": "code",
   "execution_count": null,
   "id": "bd474b0d-3742-486d-b21d-3292db8ef4e5",
   "metadata": {},
   "outputs": [],
   "source": []
  }
 ],
 "metadata": {
  "kernelspec": {
   "display_name": "Python 3 (ipykernel)",
   "language": "python",
   "name": "python3"
  },
  "language_info": {
   "codemirror_mode": {
    "name": "ipython",
    "version": 3
   },
   "file_extension": ".py",
   "mimetype": "text/x-python",
   "name": "python",
   "nbconvert_exporter": "python",
   "pygments_lexer": "ipython3",
   "version": "3.8.16"
  }
 },
 "nbformat": 4,
 "nbformat_minor": 5
}
