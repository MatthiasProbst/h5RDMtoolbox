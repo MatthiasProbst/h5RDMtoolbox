{
 "cells": [
  {
   "cell_type": "markdown",
   "id": "e02471df-4155-46ff-ad48-be967a15908b",
   "metadata": {},
   "source": [
    "# Layouts\n",
    "\n",
    "A Layout in the context of this package describes the required tree-structure and multiple meta information of an HDF5 file. What and how exactly can be defined via a layout is outlined in [a later section.](#Write-an-individual-layout)\n",
    "\n",
    "A layout essentially is a HDF itself and is used in combination with a another HDF5 file, e.g. one that contains measurement data. Specialized \"wrapper-HDF files\" in this package such as `H5File` or `H5PIV` come already with a pre-defined layout, which is already associated with it\n",
    "\n",
    "The idea behind defining layouts is, that the data generation process is supervised. This means, that a *check* can be performed by the user filling the HDF5 file with data using the provided layout file. This in turn will lead to no suprises or inconsitencies when exchanging the file with other as everybody involved agreed on the respected layout. Optimally, this will save a lot of tie and costs.\n",
    "\n",
    "There are two way to work with layouts:\n",
    "1. Via raw python\n",
    "2. Via the shell\n",
    "\n",
    "Using the shell is recommended for quick checks and to get an overview. Let's first do that and find out which layouts are already provided by the package:"
   ]
  },
  {
   "cell_type": "code",
   "execution_count": null,
   "id": "f27efb42-f7a0-47d7-b455-05b6e159befa",
   "metadata": {},
   "outputs": [],
   "source": [
    "! h5tbx layout -l"
   ]
  },
  {
   "cell_type": "markdown",
   "id": "e0bd6c5c-729f-44d8-82fc-6a12fbf40782",
   "metadata": {},
   "source": [
    "If you created a layout or got a layout file from another person and want to register it in the package so you can access and use it from everywhere on your machine, register it via:\n",
    "```bat\n",
    "h5tb layout -r <hdf_filenam.hdf>\n",
    "```\n",
    "Find out more about what the command line interface can do by printing out the help:\n",
    "```bat\n",
    "h5tb layout -h\n",
    "```"
   ]
  },
  {
   "cell_type": "markdown",
   "id": "ae17067a-f5bd-445a-941b-f83b899aeca8",
   "metadata": {},
   "source": [
    "Now let's head back to raw python and discuss how to generate a layout and apply checks: "
   ]
  },
  {
   "cell_type": "code",
   "execution_count": null,
   "id": "5beed51a-093a-4b79-b241-6f0e47e32a11",
   "metadata": {},
   "outputs": [],
   "source": [
    "import h5rdmtoolbox as h5tbx"
   ]
  },
  {
   "cell_type": "markdown",
   "id": "8c771d39-1ebc-4689-bbe4-17a5d139d87a",
   "metadata": {},
   "source": [
    "If a `H5File` (or a subclass of it) is already associated with a layout, we can call the `layout`-property (We saw above that a layout for H5File indeed is registered aleady):"
   ]
  },
  {
   "cell_type": "code",
   "execution_count": null,
   "id": "4f3bf7f8-f8c4-4afe-bf7d-d44c3bb51804",
   "metadata": {},
   "outputs": [],
   "source": [
    "with h5tbx.H5File() as h5:\n",
    "    lay = h5.layout\n",
    "print(lay)"
   ]
  },
  {
   "cell_type": "markdown",
   "id": "986aa5f9-d738-46ad-a35c-1839731daa1c",
   "metadata": {},
   "source": [
    "As can be seen, the file has one issue. To see which issues were found, call `report()`. In the example, the root-attribute \"title\" was missing:"
   ]
  },
  {
   "cell_type": "code",
   "execution_count": null,
   "id": "3631b085-dbcd-418a-8e6e-cdc2b0065126",
   "metadata": {},
   "outputs": [],
   "source": [
    "lay.report()"
   ]
  },
  {
   "cell_type": "markdown",
   "id": "966ecf93-4ce4-4ed0-94a1-029b9344ddd8",
   "metadata": {},
   "source": [
    "As said in the introduction, a `layout` is a HDF file itself, it has similar features like wrapper files, e.g. we can get a nice html representation of the content. Like this we can see what is required to have in any file written with `H5File`.\n",
    "\n",
    "Doing so, we directly see, that the layout **requires to have two attributes**, namely `__h5rdmtoobox_version__` and a `title`:"
   ]
  },
  {
   "cell_type": "code",
   "execution_count": null,
   "id": "1b04b95b-ffd6-4f14-b820-9467b65b3c40",
   "metadata": {},
   "outputs": [],
   "source": [
    "lay"
   ]
  },
  {
   "cell_type": "markdown",
   "id": "73c01175-9ca5-471a-97cb-fdb89eadb417",
   "metadata": {},
   "source": [
    "## Check layout\n",
    "Let's create an empty HDF5 file with `h5py`, thus no data will be available. If we then open it with a `H5File` wrapper, everything defined in the layout file is missing, hence, we expect 4 issues to raise:"
   ]
  },
  {
   "cell_type": "code",
   "execution_count": null,
   "id": "a83cd128-d178-41e8-8337-ecd08931411a",
   "metadata": {},
   "outputs": [],
   "source": [
    "# create an HDF5 file with the package h5py:\n",
    "import h5py\n",
    "filename = h5tbx.generate_temporary_filename()\n",
    "with h5py.File(filename, 'w'):\n",
    "    pass\n",
    "\n",
    "#open with h5tbx and perform a check:\n",
    "with h5tbx.H5File(filename) as h5:\n",
    "    print('run check')\n",
    "    h5.check(silent=False)\n",
    "    \n",
    "    print('\\nrun check again - different call')\n",
    "    h5.layout.check(h5['/'], silent=False)\n",
    "    \n",
    "print('\\nrepr of layout:')\n",
    "print(h5.layout)"
   ]
  },
  {
   "cell_type": "markdown",
   "id": "b0888221-1b8b-4fa0-aff3-2d89f89f80a7",
   "metadata": {},
   "source": [
    "The command line equivalent would be:"
   ]
  },
  {
   "cell_type": "code",
   "execution_count": null,
   "id": "d09573fd-92fb-4748-9313-9900ff697ba1",
   "metadata": {},
   "outputs": [],
   "source": [
    "! h5tbx layout -s H5File -c \"{filename}\""
   ]
  },
  {
   "cell_type": "markdown",
   "id": "7f6d9a9b-b30d-49c4-811e-344c955a7cb2",
   "metadata": {},
   "source": [
    "## Write an individual layout\n",
    "\n",
    "The class `H5Layout` can be found in the sub-package `conventions`. To add groups, datasets and attributes to an object `H5Layout`, we need to initializes it first and then work with the property `File`.\n",
    "\n",
    "Let's first create a reference HDF file to which the layout shall be applied. At the beginning it is empty except the title attribute:"
   ]
  },
  {
   "cell_type": "code",
   "execution_count": null,
   "id": "b49bd64f-9cb8-4bdd-872b-3613f864ef12",
   "metadata": {},
   "outputs": [],
   "source": [
    "with h5tbx.H5File(title='A test file') as h5:\n",
    "    hdf_filename = h5.hdf_filename"
   ]
  },
  {
   "cell_type": "markdown",
   "id": "8645e89d-947e-47b5-9b9b-2337fd74b65f",
   "metadata": {},
   "source": [
    "Init the `H5Layout` object:"
   ]
  },
  {
   "cell_type": "code",
   "execution_count": null,
   "id": "e2ab957a-6584-4135-a602-7f48a67cc712",
   "metadata": {},
   "outputs": [],
   "source": [
    "hdf_layout_filename = h5tbx.generate_temporary_filename(suffix='.hdf')\n",
    "mylayout = h5tbx.conventions.H5Layout(hdf_layout_filename)\n",
    "mylayout"
   ]
  },
  {
   "cell_type": "markdown",
   "id": "75aae57b-9c0c-4a35-8cb9-1d8f90d46fe4",
   "metadata": {},
   "source": [
    "### Attributes\n",
    "Many parts of the HDF5 tree structure can be defined via the layout. Most obviously we can define attributes. We can distinguish between two definition:\n",
    "1. Defining the exact value\n",
    "2. Defining the name with any value\n",
    "\n",
    "Let's enforce the user to use the attribute `title` but let the value be open (use special value string `__any`) and enforce the usage of the root attribute `type=testdata`.\n",
    "\n",
    "Attribute values starting with `__` are ignored. Thus instead of `__any` we can use any other string, e.g. `__a_title`:"
   ]
  },
  {
   "cell_type": "code",
   "execution_count": null,
   "id": "73fcfea4-0f75-4c59-b690-e410467cc3d7",
   "metadata": {},
   "outputs": [],
   "source": [
    "with mylayout.File(mode='w') as h5:\n",
    "    h5.attrs['title'] = '__any'\n",
    "    h5.attrs['type'] = 'testdata'\n",
    "mylayout.check_file(hdf_filename)\n",
    "mylayout.report()"
   ]
  },
  {
   "cell_type": "markdown",
   "id": "10f4a31d-eaf6-4c0a-952d-198d9d79c1d9",
   "metadata": {},
   "source": [
    "### Datasets\n",
    "\n",
    "It generally makes no sense to define the data content of a dataset. However, it might be reasonable to define the expected shape or dimension of the array and once again its attributes. For this, we need to create the expected dataset at the expected group level and give it any shape. Best is to use the smallest possible in order to reduce the size of the layout file. It anyhow does not play a role because shape or dimension checks are made based on specific attributes assigned to the dataset.\n",
    "\n",
    "Special attributes names start and end with `__`. Available ones to be used for datasets in layouts are:\n",
    "- `__shape__`: Specify the exact shape: Tuple ot int\n",
    "- `__dim__`: Specify the exact dimension: int"
   ]
  },
  {
   "cell_type": "code",
   "execution_count": null,
   "id": "1f0fd70f-1a8f-4074-9f1b-bb2b33c6ecf1",
   "metadata": {},
   "outputs": [],
   "source": [
    "with mylayout.File(mode='r+') as h5:\n",
    "    # expect a 1D array dataset called \"x\":\n",
    "    dsx = h5.create_dataset('x', shape=(1,))\n",
    "    dsx.attrs['__ndim__'] = 1\n",
    "    dsx.attrs['standard_name.alt:long_name'] = '__any'\n",
    "    dsx.attrs['units'] = 'm' \n",
    "    \n",
    "    # expect a 2D array dataset called \"data\" with shape (20, 30):\n",
    "    dsdata = h5.create_dataset('data', shape=(1,))\n",
    "    dsdata.attrs['__shape__'] = (20, 30)\n",
    "    dsdata.attrs['standard_name.alt:long_name'] = '__any'\n",
    "    dsdata.attrs['units'] = 'kg' "
   ]
  },
  {
   "cell_type": "markdown",
   "id": "48e36584-e875-4838-9251-e1e33a0cd9e5",
   "metadata": {},
   "source": [
    "Let's update the reference file:"
   ]
  },
  {
   "cell_type": "code",
   "execution_count": null,
   "id": "e8d7e000-ad6a-4b4d-a1da-3c0c6c224a01",
   "metadata": {},
   "outputs": [],
   "source": [
    "with h5py.File(hdf_filename, mode='r+') as h5:\n",
    "    h5.attrs['type'] = 'testdata'\n",
    "    dsx = h5.create_dataset('x', data=[1,2,3])\n",
    "    dsx.attrs['long_name'] = 'x coordinate'\n",
    "    \n",
    "    dsdata = h5.create_dataset('data', shape=(20, 32))\n",
    "    dsdata.attrs['units'] = 'm'"
   ]
  },
  {
   "cell_type": "markdown",
   "id": "286eee31-3f57-4af3-9075-b6df643c7706",
   "metadata": {},
   "source": [
    "The layout check reveals that some meta data is mising, other is wrong"
   ]
  },
  {
   "cell_type": "code",
   "execution_count": null,
   "id": "06f3e54a-50fe-43b9-94ed-6593eea03727",
   "metadata": {},
   "outputs": [],
   "source": [
    "mylayout.check_file(hdf_filename)\n",
    "mylayout.report()"
   ]
  },
  {
   "cell_type": "markdown",
   "id": "1ae1f440-afd3-4a7a-9629-0f3132ee339b",
   "metadata": {},
   "source": [
    "### Groups\n",
    "\n",
    "Defining groups is straight forward and similar to datasets, just without the option to define shape/dim and similar."
   ]
  }
 ],
 "metadata": {
  "kernelspec": {
   "display_name": "Python 3 (ipykernel)",
   "language": "python",
   "name": "python3"
  },
  "language_info": {
   "codemirror_mode": {
    "name": "ipython",
    "version": 3
   },
   "file_extension": ".py",
   "mimetype": "text/x-python",
   "name": "python",
   "nbconvert_exporter": "python",
   "pygments_lexer": "ipython3",
   "version": "3.8.13"
  }
 },
 "nbformat": 4,
 "nbformat_minor": 5
}
