{
 "cells": [
  {
   "cell_type": "markdown",
   "id": "e02471df-4155-46ff-ad48-be967a15908b",
   "metadata": {},
   "source": [
    "# Layouts\n",
    "\n",
    "Layouts specify the meta content of HDF5 files, e.g. which attributes are required or which shape certain datasets are expected to have. A layout is published by a project management team or a collaboration for instance and helps during data generation and usage: A creator of HDF5 file content can verify if all required data is written. Likewise, the receiver of HDF5 file, e.g. an analyst, can check if the file that is being inspected is \"complete\". The standardisation of a file layout will reduce back-and-forth actions as it minimizes errors or missing data and ultimately saves costs in the process."
   ]
  },
  {
   "cell_type": "markdown",
   "id": "d14558df-8c5e-4369-bc68-dfdfee56802b",
   "metadata": {},
   "source": [
    "## Creating a layout\n",
    "\n",
    "The `layout.File` object is designed such that the syntax is similar to the `h5py.File` class."
   ]
  },
  {
   "cell_type": "code",
   "execution_count": 1,
   "id": "d9e2c157-bd96-47e0-9602-76c79ffbe989",
   "metadata": {
    "tags": []
   },
   "outputs": [
    {
     "name": "stderr",
     "output_type": "stream",
     "text": [
      "2023-04-13_18:20:02,889 DEBUG    [__init__.py:35] changed logger level for h5rdmtoolbox from 20 to DEBUG\n"
     ]
    }
   ],
   "source": [
    "import h5rdmtoolbox as h5tbx\n",
    "from h5rdmtoolbox.conventions import layout"
   ]
  },
  {
   "cell_type": "markdown",
   "id": "a3e4b8c4-6724-48f9-9366-dead8e067080",
   "metadata": {},
   "source": [
    "Initialize a `File` object:"
   ]
  },
  {
   "cell_type": "code",
   "execution_count": 2,
   "id": "a7257533-784f-4f48-94cb-d8de107ad62c",
   "metadata": {
    "tags": []
   },
   "outputs": [],
   "source": [
    "lay = layout.File()"
   ]
  },
  {
   "cell_type": "markdown",
   "id": "3152f6e5-735e-4f6d-9c4b-d4c2832ebf9c",
   "metadata": {},
   "source": [
    "Next we will specify various attributes of groups and dataset as well as properties of datasets such as their shape for instance. Using explicit HDF5 paths or wildcards we will define whether the specifications apply for a specific HDF object or various ones."
   ]
  },
  {
   "cell_type": "markdown",
   "id": "6c70eb47-ac4e-4b56-9ff6-1775a07565fd",
   "metadata": {},
   "source": [
    "### Attribute specifications"
   ]
  },
  {
   "cell_type": "markdown",
   "id": "2b9415c9-5a4a-4476-b1fb-294f4a7c9bee",
   "metadata": {},
   "source": [
    "Let's require the user to set the root attribute \"version\", which holds the current version of this package:"
   ]
  },
  {
   "cell_type": "code",
   "execution_count": 3,
   "id": "0cb50e6a-d0fc-41b6-825a-81f8a349683f",
   "metadata": {
    "tags": []
   },
   "outputs": [],
   "source": [
    "lay['/'].attrs['version'] = h5tbx.__version__"
   ]
  },
  {
   "cell_type": "markdown",
   "id": "d0d555e0-2987-4018-8a66-bba2ac50ddca",
   "metadata": {},
   "source": [
    "Further define, that each group must have an attribute called \"long_name\". We don't specify the value of it, we just request to use the attribute. The wildcard (`*`) indicates, that the location of the group does not matter, so that the specification applies to any group within an HDF5 file:"
   ]
  },
  {
   "cell_type": "code",
   "execution_count": 4,
   "id": "71b22360-f4f4-4260-b641-69e6c69c5d4d",
   "metadata": {
    "tags": []
   },
   "outputs": [],
   "source": [
    "lay['*'].group().attrs['long_name'] = layout.Any()"
   ]
  },
  {
   "cell_type": "markdown",
   "id": "3706d3bc-63cf-4840-b935-ee770dd40492",
   "metadata": {},
   "source": [
    "Now, we specify, that a group \"device\" must exist. We explicitly tell that the device group must be located at the lowest level (root level):"
   ]
  },
  {
   "cell_type": "code",
   "execution_count": 5,
   "id": "6e0bc80d-2277-48b9-b117-305d63d89002",
   "metadata": {
    "tags": []
   },
   "outputs": [
    {
     "data": {
      "text/plain": [
       "LayoutGroup(\"/device\")"
      ]
     },
     "execution_count": 5,
     "metadata": {},
     "output_type": "execute_result"
    }
   ],
   "source": [
    "lay['/'].group('device')"
   ]
  },
  {
   "cell_type": "markdown",
   "id": "1440550e-eaf0-47d1-863f-a86c9672c294",
   "metadata": {},
   "source": [
    "Note, that if we would not specify the exact group, hence writing `lay[*].group('device')`, then this would have no effect as this made \"device\" being optional."
   ]
  },
  {
   "cell_type": "markdown",
   "id": "ae5c059f-754c-405a-b0bd-a33a5f0ff3a6",
   "metadata": {},
   "source": [
    "Let's see which \"validators\" we defined until now (validators are the specifications we set. they will be called in a sequence later on)"
   ]
  },
  {
   "cell_type": "code",
   "execution_count": 6,
   "id": "a3c72571-813a-443c-a516-b557acd64d08",
   "metadata": {
    "tags": []
   },
   "outputs": [
    {
     "data": {
      "text/plain": [
       "<Layout File (3 validators):\n",
       " [0] AttributeValidation(path=\"/\", key=\"version\", validator=AttributeEqual(0.4.0a1, opt=False))\n",
       " [1] AttributeValidation(path=\"/*\", key=\"long_name\", validator=AnyAttribute(None, opt=False))\n",
       " [2] GroupValidation(path=\"/device\")>"
      ]
     },
     "execution_count": 6,
     "metadata": {},
     "output_type": "execute_result"
    }
   ],
   "source": [
    "lay"
   ]
  },
  {
   "cell_type": "markdown",
   "id": "273bc2f7-a088-40de-8ea7-f16b10a11e75",
   "metadata": {},
   "source": [
    "Now, say, that each *dataset* (in any group) shall have an attribute called \"standard_name\". Again, the wildcard is used and no specific dataset name is set:"
   ]
  },
  {
   "cell_type": "code",
   "execution_count": 7,
   "id": "45b3ad48-fc27-4cd3-a1c7-7743c35594ea",
   "metadata": {
    "tags": []
   },
   "outputs": [
    {
     "data": {
      "text/plain": [
       "DatasetValidation(parent=/*\")"
      ]
     },
     "execution_count": 7,
     "metadata": {},
     "output_type": "execute_result"
    }
   ],
   "source": [
    "lay['*'].dataset()#.attrs['standard_name'] = layout.Any()"
   ]
  },
  {
   "cell_type": "markdown",
   "id": "44305514-c6d1-4bd1-92f6-4dce4e722d57",
   "metadata": {},
   "source": [
    "Each *dataset* in the group \"fluid\" (and below) shall have an attribute called \"units\"."
   ]
  },
  {
   "cell_type": "code",
   "execution_count": 8,
   "id": "055e871f-ba1a-4b9b-908a-b105d9439a59",
   "metadata": {
    "tags": []
   },
   "outputs": [
    {
     "data": {
      "text/plain": [
       "<Layout File (4 validators):\n",
       " [0] AttributeValidation(path=\"/\", key=\"version\", validator=AttributeEqual(0.4.0a1, opt=False))\n",
       " [1] AttributeValidation(path=\"/*\", key=\"long_name\", validator=AnyAttribute(None, opt=False))\n",
       " [2] GroupValidation(path=\"/device\")\n",
       " [3] DatasetValidation(parent=/*\")>"
      ]
     },
     "execution_count": 8,
     "metadata": {},
     "output_type": "execute_result"
    }
   ],
   "source": [
    "lay"
   ]
  },
  {
   "cell_type": "code",
   "execution_count": 9,
   "id": "0272ae42-95b9-4ca5-8449-cbe10b572b01",
   "metadata": {},
   "outputs": [
    {
     "ename": "NameError",
     "evalue": "name 'awdawd' is not defined",
     "output_type": "error",
     "traceback": [
      "\u001b[1;31m---------------------------------------------------------------------------\u001b[0m",
      "\u001b[1;31mNameError\u001b[0m                                 Traceback (most recent call last)",
      "Cell \u001b[1;32mIn[9], line 1\u001b[0m\n\u001b[1;32m----> 1\u001b[0m \u001b[43mawdawd\u001b[49m\n",
      "\u001b[1;31mNameError\u001b[0m: name 'awdawd' is not defined"
     ]
    }
   ],
   "source": [
    "awdawd"
   ]
  },
  {
   "cell_type": "code",
   "execution_count": null,
   "id": "12e98555-677d-4f33-a0ef-abb6adf605a5",
   "metadata": {
    "tags": []
   },
   "outputs": [],
   "source": [
    "lay['fluid/*'].dataset().attrs['units'] = layout.Any()"
   ]
  },
  {
   "cell_type": "markdown",
   "id": "a1fff61d-b32c-4a62-9ea8-6034d7896c1f",
   "metadata": {},
   "source": [
    "### Dataset property specification"
   ]
  },
  {
   "cell_type": "markdown",
   "id": "5a6b8507-94c3-4b9a-ab6c-c17c7eccdf2b",
   "metadata": {},
   "source": [
    "Each dataset (despite its location within the hierachical structure), which starts with eith \"x\", \"y\" or \"z\" and ends with \"_coordinate\" shall be one-dimensional. This can be specified by the dataset property \"ndim\""
   ]
  },
  {
   "cell_type": "code",
   "execution_count": null,
   "id": "9471245e-c34e-4752-b66e-dc8bcfffe93d",
   "metadata": {
    "tags": []
   },
   "outputs": [],
   "source": [
    "lay['*'].dataset(name=layout.Regex('^[x-z]_coordinate'), ndim=1)"
   ]
  },
  {
   "cell_type": "markdown",
   "id": "598806e6-3d17-48cc-98cb-b613052792f0",
   "metadata": {},
   "source": [
    "## Perform a layout validation\n",
    "\n",
    "Let's create an empty HDF5 file first:"
   ]
  },
  {
   "cell_type": "code",
   "execution_count": null,
   "id": "a04e4b68-c604-46d5-ac63-8902a9d77d61",
   "metadata": {
    "tags": []
   },
   "outputs": [],
   "source": [
    "h5tbx.use(None)\n",
    "\n",
    "with h5tbx.File() as h5:\n",
    "    h5.dump()"
   ]
  },
  {
   "cell_type": "markdown",
   "id": "a23f809c-fc51-47bd-a26d-098c9a3e6e8d",
   "metadata": {},
   "source": [
    "Running the validation with `lay.validate()` will get us a total of three issues (`res.total_issues()`):"
   ]
  },
  {
   "cell_type": "code",
   "execution_count": null,
   "id": "bf51d18c-cb84-4e9b-ac5e-590bf3b0c0c3",
   "metadata": {
    "tags": []
   },
   "outputs": [],
   "source": [
    "res = lay.validate(h5.hdf_filename)\n",
    "res"
   ]
  },
  {
   "cell_type": "markdown",
   "id": "d74514f9-bf73-4d9d-b85b-cf8b3bcc2056",
   "metadata": {},
   "source": [
    "To find out what the issues are, best is to `print()` the issue messages. Note, some issues are \"hidden\"."
   ]
  },
  {
   "cell_type": "code",
   "execution_count": null,
   "id": "f3b43e42-9222-4dd3-8a9d-0312843eb8d9",
   "metadata": {
    "tags": []
   },
   "outputs": [],
   "source": [
    "res.print()"
   ]
  },
  {
   "cell_type": "code",
   "execution_count": null,
   "id": "64ae93d6-c8ee-43f9-9cd9-fcc49df04270",
   "metadata": {
    "tags": []
   },
   "outputs": [],
   "source": [
    "layout.File.Registry()"
   ]
  },
  {
   "cell_type": "markdown",
   "id": "953d5365-b62b-4c74-a53b-39dff0bc89a6",
   "metadata": {},
   "source": [
    "Adding the version will reduce the issues about one:"
   ]
  },
  {
   "cell_type": "code",
   "execution_count": null,
   "id": "1f2143ab-cbad-499f-8068-080e59ebec74",
   "metadata": {
    "tags": []
   },
   "outputs": [],
   "source": [
    "with h5tbx.File() as h5:\n",
    "    h5.attrs['version'] = h5tbx.__version__\n",
    "    res2 = lay.validate(h5)\n",
    "res2"
   ]
  },
  {
   "cell_type": "markdown",
   "id": "d4737ee1-9c1b-4bd5-af04-390f9d304e7b",
   "metadata": {},
   "source": [
    "Adding a dataset in the group \"fluid\" without a unit:"
   ]
  },
  {
   "cell_type": "code",
   "execution_count": null,
   "id": "49a0ed8f-e8e0-446a-bf55-73e05652b2f6",
   "metadata": {
    "tags": []
   },
   "outputs": [],
   "source": [
    "with h5tbx.File() as h5:\n",
    "    h5.attrs['version'] = h5tbx.__version__\n",
    "    res2 = lay.validate(h5)\n",
    "res2"
   ]
  },
  {
   "cell_type": "markdown",
   "id": "9b222786-3a7e-4c47-aa0e-caf5c33798c5",
   "metadata": {},
   "source": [
    "## User-defined Validators"
   ]
  },
  {
   "cell_type": "code",
   "execution_count": null,
   "id": "73e710a5-79a5-4528-964f-b40b4fed3b09",
   "metadata": {},
   "outputs": [],
   "source": []
  }
 ],
 "metadata": {
  "kernelspec": {
   "display_name": "Python 3 (ipykernel)",
   "language": "python",
   "name": "python3"
  },
  "language_info": {
   "codemirror_mode": {
    "name": "ipython",
    "version": 3
   },
   "file_extension": ".py",
   "mimetype": "text/x-python",
   "name": "python",
   "nbconvert_exporter": "python",
   "pygments_lexer": "ipython3",
   "version": "3.8.16"
  }
 },
 "nbformat": 4,
 "nbformat_minor": 5
}
