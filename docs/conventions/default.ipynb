{
 "cells": [
  {
   "cell_type": "markdown",
   "id": "b25a8b63-1d72-4977-9cf4-dfd4d15da2cc",
   "metadata": {},
   "source": [
    "# Default Convention\n",
    "\n",
    "The default convention in this package does not prescribe any attributes. This is the initial convention used by the\n",
    "package. Like this additional features are available to the user but the user is not forced to use specific attributes.\n",
    "Hence the usage is similar to the usage of the standard library `h5py`.\n",
    "\n",
    "If a project requires a specific convention, it can be written and registered to the package and available\n",
    "in future sessions. One such convention could be the CF-like-convention (see next section)."
   ]
  },
  {
   "cell_type": "code",
   "execution_count": 1,
   "id": "f2bf628f-63b8-429c-b7e6-05851069073a",
   "metadata": {
    "tags": []
   },
   "outputs": [],
   "source": [
    "from h5rdmtoolbox import use"
   ]
  },
  {
   "cell_type": "markdown",
   "id": "8188b62a-b9e3-4c78-9425-7b146c679799",
   "metadata": {},
   "source": [
    "Both `None`and `default` will enable the \"default-convention\":"
   ]
  },
  {
   "cell_type": "code",
   "execution_count": 2,
   "id": "fce43eea-8a3e-48ac-83ab-bf490263615b",
   "metadata": {
    "tags": []
   },
   "outputs": [
    {
     "name": "stderr",
     "output_type": "stream",
     "text": [
      "2023-03-30_15:37:14,38 INFO     [__init__.py:63] Switched to \"default\"\n",
      "2023-03-30_15:37:14,43 INFO     [__init__.py:63] Switched to \"default\"\n"
     ]
    }
   ],
   "source": [
    "use(None)\n",
    "use('default')"
   ]
  }
 ],
 "metadata": {
  "kernelspec": {
   "display_name": "Python 3 (ipykernel)",
   "language": "python",
   "name": "python3"
  },
  "language_info": {
   "codemirror_mode": {
    "name": "ipython",
    "version": 3
   },
   "file_extension": ".py",
   "mimetype": "text/x-python",
   "name": "python",
   "nbconvert_exporter": "python",
   "pygments_lexer": "ipython3",
   "version": "3.8.16"
  }
 },
 "nbformat": 4,
 "nbformat_minor": 5
}
