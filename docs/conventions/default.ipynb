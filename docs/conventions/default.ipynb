{
 "cells": [
  {
   "cell_type": "markdown",
   "id": "b25a8b63-1d72-4977-9cf4-dfd4d15da2cc",
   "metadata": {},
   "source": [
    "# No Convention\n",
    "\n",
    "Selecting no convention will not impose any mandatory attributes. The user get's all features of the `h5py` package plus some extra useful functionality outlined in [the wrapper notebooks](../wrapper/CreateFile.ipynb)."
   ]
  },
  {
   "cell_type": "code",
   "execution_count": 1,
   "id": "f2bf628f-63b8-429c-b7e6-05851069073a",
   "metadata": {
    "tags": []
   },
   "outputs": [],
   "source": [
    "from h5rdmtoolbox import use"
   ]
  },
  {
   "cell_type": "markdown",
   "id": "8188b62a-b9e3-4c78-9425-7b146c679799",
   "metadata": {},
   "source": [
    "Both `None`and \"h5py\" will enable the \"default-convention\":"
   ]
  },
  {
   "cell_type": "code",
   "execution_count": 2,
   "id": "fce43eea-8a3e-48ac-83ab-bf490263615b",
   "metadata": {
    "tags": []
   },
   "outputs": [
    {
     "name": "stderr",
     "output_type": "stream",
     "text": [
      "2023-03-31_09:21:04,764 INFO     [__init__.py:63] Switched to convention \"h5py\"\n",
      "2023-03-31_09:21:04,767 INFO     [__init__.py:63] Switched to convention \"h5py\"\n"
     ]
    }
   ],
   "source": [
    "use(None)\n",
    "use('h5py')"
   ]
  },
  {
   "cell_type": "code",
   "execution_count": null,
   "id": "4101de34-786c-4ac5-98e3-39aa12c1df43",
   "metadata": {},
   "outputs": [],
   "source": []
  }
 ],
 "metadata": {
  "kernelspec": {
   "display_name": "Python 3 (ipykernel)",
   "language": "python",
   "name": "python3"
  },
  "language_info": {
   "codemirror_mode": {
    "name": "ipython",
    "version": 3
   },
   "file_extension": ".py",
   "mimetype": "text/x-python",
   "name": "python",
   "nbconvert_exporter": "python",
   "pygments_lexer": "ipython3",
   "version": "3.8.16"
  }
 },
 "nbformat": 4,
 "nbformat_minor": 5
}
