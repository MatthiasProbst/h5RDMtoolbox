{
 "cells": [
  {
   "cell_type": "code",
   "execution_count": 49,
   "id": "b533a7eb-1a98-42fc-a720-0d0e33db1e49",
   "metadata": {},
   "outputs": [],
   "source": [
    "class SN:\n",
    "\n",
    "    def __init__(self):\n",
    "        self.name = 'velocity'\n",
    "        self.units = 'm/s'\n",
    "        self.description= 'dawdawdawd'\n",
    "\n",
    "    def _repr_html_(self, checkbox_state = 'checked'):\n",
    "        _id = self.name\n",
    "        out = f\"\"\"<ul style=\"list-style-type: none;\" class=\"h5grp-sections\">\n",
    "                    <li>\n",
    "                        <input id=\"group-{_id}\" type=\"checkbox\" {checkbox_state}>\n",
    "                        <label style=\"font-weight: bold\" for=\"group-{_id}\">\n",
    "                        {self.name}</label>\n",
    "                <ul class=\"h5tb-attr-list\">\n",
    "                  \"\"\"\n",
    "        out += f'<li style=\"list-style-type: none; font-style: italic\">units : {self.units}</li>'\n",
    "        out += f'<li style=\"list-style-type: none; font-style: italic\">units : {self.description}</li>'\n",
    "        out += \"\"\" </il></ul></ul>\"\"\"\n",
    "        return out"
   ]
  },
  {
   "cell_type": "code",
   "execution_count": 50,
   "id": "496c74fe-0484-40c6-905b-8bbb6e7e25ce",
   "metadata": {},
   "outputs": [
    {
     "data": {
      "text/html": [
       "<ul style=\"list-style-type: none;\" class=\"h5grp-sections\">\n",
       "                    <li>\n",
       "                        <input id=\"group-velocity\" type=\"checkbox\" checked>\n",
       "                        <label style=\"font-weight: bold\" for=\"group-velocity\">\n",
       "                        velocity</label>\n",
       "                <ul class=\"h5tb-attr-list\">\n",
       "                  <li style=\"list-style-type: none; font-style: italic\">units : m/s</li><li style=\"list-style-type: none; font-style: italic\">units : dawdawdawd</li> </il></ul></ul>"
      ],
      "text/plain": [
       "<__main__.SN at 0x21cfe6438b0>"
      ]
     },
     "execution_count": 50,
     "metadata": {},
     "output_type": "execute_result"
    }
   ],
   "source": [
    "sn = SN()\n",
    "sn"
   ]
  },
  {
   "cell_type": "code",
   "execution_count": 3,
   "id": "a590f22d-4e0c-4626-ba38-3b6a16be2b3d",
   "metadata": {},
   "outputs": [
    {
     "data": {
      "text/plain": [
       "<__main__.SN at 0x21cfe3e86d0>"
      ]
     },
     "execution_count": 3,
     "metadata": {},
     "output_type": "execute_result"
    }
   ],
   "source": []
  },
  {
   "cell_type": "code",
   "execution_count": null,
   "id": "e9210031-5ba0-4eea-9fa9-eb6d12cd86f5",
   "metadata": {},
   "outputs": [],
   "source": []
  }
 ],
 "metadata": {
  "kernelspec": {
   "display_name": "Python 3 (ipykernel)",
   "language": "python",
   "name": "python3"
  },
  "language_info": {
   "codemirror_mode": {
    "name": "ipython",
    "version": 3
   },
   "file_extension": ".py",
   "mimetype": "text/x-python",
   "name": "python",
   "nbconvert_exporter": "python",
   "pygments_lexer": "ipython3",
   "version": "3.8.17"
  }
 },
 "nbformat": 4,
 "nbformat_minor": 5
}
