{
 "cells": [
  {
   "cell_type": "code",
   "execution_count": 1,
   "id": "349b0d40-5b58-4196-88d8-f297059835d7",
   "metadata": {},
   "outputs": [],
   "source": [
    "import zenodo_search as zsearch"
   ]
  },
  {
   "cell_type": "code",
   "execution_count": 15,
   "id": "0c80d6ed-9d1c-43df-a422-5bef99018eba",
   "metadata": {},
   "outputs": [],
   "source": [
    "record = zsearch.search('doi:10.5281/zenodo.8158764')[0]"
   ]
  },
  {
   "cell_type": "code",
   "execution_count": 20,
   "id": "3d00d455-0897-440a-8b8b-f14d75770662",
   "metadata": {},
   "outputs": [
    {
     "data": {
      "text/plain": [
       "WindowsPath('planar_piv-v1.0a.yaml')"
      ]
     },
     "execution_count": 20,
     "metadata": {},
     "output_type": "execute_result"
    }
   ],
   "source": [
    "record.files[0].download()"
   ]
  },
  {
   "cell_type": "code",
   "execution_count": null,
   "id": "2058c4c2-ac20-4cea-82f2-5ead2a395ccd",
   "metadata": {},
   "outputs": [],
   "source": []
  }
 ],
 "metadata": {
  "kernelspec": {
   "display_name": "Python 3 (ipykernel)",
   "language": "python",
   "name": "python3"
  },
  "language_info": {
   "codemirror_mode": {
    "name": "ipython",
    "version": 3
   },
   "file_extension": ".py",
   "mimetype": "text/x-python",
   "name": "python",
   "nbconvert_exporter": "python",
   "pygments_lexer": "ipython3",
   "version": "3.8.17"
  }
 },
 "nbformat": 4,
 "nbformat_minor": 5
}
