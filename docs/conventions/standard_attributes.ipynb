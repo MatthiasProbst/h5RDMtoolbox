{
 "cells": [
  {
   "cell_type": "markdown",
   "id": "dfd4ad67-62a4-44e2-be29-d50f8ff09310",
   "metadata": {},
   "source": [
    "# Standard Attributes\n",
    "\n",
    "Data alone is meaningless. Only if it is associated with auxiliary data (meta data) it becomes interpretable and (re-)usable for others. In HDF5 files this is realized by using **attributes**, which are assigned to groups and datasets. HDF attributes are like dictionaries: You provide a name and a value. However, which name and value you are using is generally up to the you.\n",
    "\n",
    "The `h5RDmtoolbox` let's you specify rules for specific attributes. These attributes are simply called **standard attributes**. They are part of a convention, which can be defined by anyone. It needs to be created or imported and then enabled in order become effective.\n",
    "\n",
    "<!-- If an attribute is addressed by the user, e.g. the attribute `units`, and a standard attribute implementation exists for this name, then the value is processed by the respective rule and the attribute is set or an error is raised in case of a invalid input.\n",
    "\n",
    "Standard attributes can be made required **during dataset creation** for instance. This enforces users to pass certain meta information and validates it at the same time. Consequently data becomes re-usable and explorable.\n",
    "\n",
    "Additionally, so-called [layouts](./layouts.ipynb) can be defined, too. They are used to specify the content of an HDF5 file after it has been written. This concept applies best during file exchange as the layout validates if a file is complete and meets the expertation of the project or collaborative user. -->"
   ]
  },
  {
   "cell_type": "code",
   "execution_count": 1,
   "id": "dc410573-dd0d-4e2e-a513-49607fcfe6cd",
   "metadata": {
    "tags": []
   },
   "outputs": [],
   "source": [
    "import h5rdmtoolbox as h5tbx"
   ]
  },
  {
   "cell_type": "markdown",
   "id": "fffca28f-1840-42e4-a672-b8292554f611",
   "metadata": {},
   "source": [
    "## Defining a new standard attribute\n",
    "\n",
    "Let's define one standardized attribute only for any HDF5 object (group or dataset) and one only for the *root group*.\n",
    "\n",
    "The first one shall be \"comment\". It can be assigned to any group or dataset and shall be optional. The user input is verified based on a regular expression match. In this example, the requiremet is, that the passed string starts with a capital letter:"
   ]
  },
  {
   "cell_type": "code",
   "execution_count": 2,
   "id": "065706e0-25a6-47c1-872f-9e2ccb327a5f",
   "metadata": {},
   "outputs": [
    {
     "data": {
      "text/plain": [
       "<StdAttr(\"comment\"): \"Additional information about the file\">"
      ]
     },
     "execution_count": 2,
     "metadata": {},
     "output_type": "execute_result"
    }
   ],
   "source": [
    "comment = h5tbx.conventions.StandardAttribute(\n",
    "    name='comment',\n",
    "    validator={'$regex': r'^[A-Z].*$'},\n",
    "    method={'__init__': {'optional': True},\n",
    "           'create_dataset': {'optional': True},\n",
    "           'create_group': {'optional': True}},\n",
    "    description='Additional information about the file'\n",
    ")\n",
    "comment"
   ]
  },
  {
   "cell_type": "markdown",
   "id": "16d1bf85-d2bc-42d5-b597-8944d2956d6f",
   "metadata": {},
   "source": [
    "The second standardized attribute is called \"contact\". The attribute is mandatory for the root group and be one or multiple researcher IDs (ORCID IDs). To check, whether the ORCID ID is valid, the built-in `Validator` \"$orcid\" is used:"
   ]
  },
  {
   "cell_type": "code",
   "execution_count": 3,
   "id": "6b3d89f9-14ce-4002-934a-221602e341d0",
   "metadata": {},
   "outputs": [
    {
     "data": {
      "text/plain": [
       "<StdAttr(\"contact\"): \"One or multiple ORCID IDs representing responsible persons to be contacted upon questions about the file content.\">"
      ]
     },
     "execution_count": 3,
     "metadata": {},
     "output_type": "execute_result"
    }
   ],
   "source": [
    "contact = h5tbx.conventions.StandardAttribute(\n",
    "    name='contact',\n",
    "    validator='$orcid',\n",
    "    method={'__init__':\n",
    "            {'optional': False}\n",
    "           },\n",
    "    description='One or multiple ORCID IDs representing responsible persons to be contacted upon questions about the file content.'\n",
    ")\n",
    "contact"
   ]
  },
  {
   "cell_type": "markdown",
   "id": "01e48111-ff31-4b17-959d-011c6e6be8af",
   "metadata": {},
   "source": [
    "## Create and enable a new convention\n",
    "\n",
    "Based on the above to standard attributes, we now can implement a new convention:"
   ]
  },
  {
   "cell_type": "code",
   "execution_count": 4,
   "id": "0a36a447-4120-4bd2-a598-7ca4b4f8114d",
   "metadata": {},
   "outputs": [],
   "source": [
    "my_convention = h5tbx.conventions.Convention('my_convention')\n",
    "my_convention.add(comment)\n",
    "my_convention.add(contact)\n",
    "\n",
    "my_convention.register()\n",
    "\n",
    "h5tbx.use('my_convention')"
   ]
  },
  {
   "cell_type": "markdown",
   "id": "1dcd2cc8-c274-4861-b8e6-39d65e034d10",
   "metadata": {},
   "source": [
    "The new (standard) attribute has been designed to be available during file, group and dataset creation respectively, hence when the methods `__init__`, `create_group` or `create_dataset` are called.\n",
    "\n",
    "By enabling the convention (calling `use(...)`), the signatures of these method changed. Let's convince outselfs by inspecting the methods parameters in the following:"
   ]
  },
  {
   "cell_type": "code",
   "execution_count": 5,
   "id": "a12b266e-dda6-46f4-a659-bd5aef46c312",
   "metadata": {},
   "outputs": [
    {
     "name": "stdout",
     "output_type": "stream",
     "text": [
      "\n",
      "Parameters for \"__init__\":\n",
      "  - name\n",
      "  - mode\n",
      "  - layout\n",
      "  - attrs\n",
      "  - \u001b[1mcomment\u001b[0m\n",
      "  - \u001b[1mcontact\u001b[0m\n",
      "  - kwargs\n",
      "\n",
      "Parameters for \"create_group\":\n",
      "  - name\n",
      "  - overwrite\n",
      "  - attrs\n",
      "  - update_attrs\n",
      "  - track_order\n",
      "  - kwargs\n",
      "\n",
      "Parameters for \"create_dataset\":\n",
      "  - name\n",
      "  - shape\n",
      "  - dtype\n",
      "  - data\n",
      "  - offset\n",
      "  - scale\n",
      "  - overwrite\n",
      "  - chunks\n",
      "  - make_scale\n",
      "  - attach_scales\n",
      "  - ancillary_datasets\n",
      "  - attrs\n",
      "  - kwargs\n"
     ]
    }
   ],
   "source": [
    "import inspect\n",
    "\n",
    "methods = (h5tbx.File.__init__, h5tbx.Group.create_group, h5tbx.Group.create_dataset)\n",
    "\n",
    "for method in methods:\n",
    "    print(f'\\nParameters for \"{method.__name__}\":')\n",
    "    for param in inspect.signature(method).parameters.values():\n",
    "        if not param.name == 'self':\n",
    "            if param.name in ('contact', 'comment'):\n",
    "                print(f'  - {h5tbx._repr.make_bold(param.name)}')\n",
    "            else:\n",
    "                print(f'  - {param.name}')"
   ]
  },
  {
   "cell_type": "markdown",
   "id": "19b64be9-f3f2-4184-a379-c82b66459d38",
   "metadata": {},
   "source": [
    "A wrong or missing input will raise an error:"
   ]
  },
  {
   "cell_type": "code",
   "execution_count": 6,
   "id": "6cb0378a-3929-4c86-b1b9-ce20bcd3b29c",
   "metadata": {},
   "outputs": [
    {
     "name": "stdout",
     "output_type": "stream",
     "text": [
      "The standard attribute \"contact\" is required but not provided.\n"
     ]
    }
   ],
   "source": [
    "try:\n",
    "    with h5tbx.File(comment='123') as h5:\n",
    "        h5.dump()\n",
    "except Exception as e:\n",
    "    print(e)"
   ]
  },
  {
   "cell_type": "code",
   "execution_count": 7,
   "id": "327bed5d-2dd4-4523-a6f7-7de52bc1aed9",
   "metadata": {},
   "outputs": [
    {
     "name": "stdout",
     "output_type": "stream",
     "text": [
      "The attribute \"comment\" is standardized. It seems, that the input \"123\" is not valid. Here is the description of the standard attribute, which may help to find the issue: \"Additional information about the file\"\n"
     ]
    }
   ],
   "source": [
    "try:\n",
    "    with h5tbx.File(contact='https://orcid.org/0000-0001-8729-0482',\n",
    "                    comment='123') as h5:\n",
    "        h5.dump()\n",
    "except Exception as e:\n",
    "    print(e)"
   ]
  },
  {
   "cell_type": "markdown",
   "id": "88b45e4c-59a8-4120-830a-0fb62387509d",
   "metadata": {},
   "source": [
    "This is correct:"
   ]
  },
  {
   "cell_type": "code",
   "execution_count": 8,
   "id": "703629c4-1f49-48ff-b067-d40881995a62",
   "metadata": {},
   "outputs": [
    {
     "data": {
      "text/html": [
       "<head><style>/*\r\n",
       "CSS inspired by xarray: https://github.com/pydata/xarray\r\n",
       "*/\r\n",
       ".h5tb-header > div,\r\n",
       ".h5tb-header > ul {\r\n",
       "    display: inline;\r\n",
       "    margin-top: 0;\r\n",
       "    margin-bottom: 0;\r\n",
       "}\r\n",
       "\r\n",
       ".h5tb-dataarray-cls,\r\n",
       ".h5tb-dataarray-name {\r\n",
       "    margin-left: 2px;\r\n",
       "    margin-right: 10px;\r\n",
       "}\r\n",
       "\r\n",
       ".h5tb-dataarray-name {\r\n",
       "    color: #000;\r\n",
       "}\r\n",
       "\r\n",
       ".h5grp-sections {\r\n",
       "    list-style: none;\r\n",
       "    padding: 3px;\r\n",
       "    margin: 0;\r\n",
       "}\r\n",
       "\r\n",
       ".h5grp-sections input {\r\n",
       "    display: none;\r\n",
       "}\r\n",
       "\r\n",
       ".h5grp-sections label {\r\n",
       "    display: inline;\r\n",
       "}\r\n",
       "\r\n",
       ".h5grp-sections > li > input + label > span {\r\n",
       "    display: inline;\r\n",
       "    margin-left: 4px;\r\n",
       "}\r\n",
       "\r\n",
       ".h5grp-sections > li > input:checked + label > span {\r\n",
       "    display: none;\r\n",
       "}\r\n",
       "\r\n",
       ".h5grp-sections input:enabled + label {\r\n",
       "    cursor: pointer;\r\n",
       "}\r\n",
       "\r\n",
       ".h5grp-sections input:not(.h5tb-values-in) ~ ul {\r\n",
       "    display: none;\r\n",
       "}\r\n",
       "\r\n",
       ".h5grp-sections input:not(.h5tb-values-in):checked ~ ul {\r\n",
       "    display: block;\r\n",
       "}\r\n",
       "\r\n",
       ".h5grp-sections > li > input + label {\r\n",
       "    width: 140px;\r\n",
       "    color: #555;\r\n",
       "    font-weight: 500;\r\n",
       "    padding: 4px 0 2px 0;\r\n",
       "}\r\n",
       "\r\n",
       "\r\n",
       ".h5grp-sections > li > input + label:before {\r\n",
       "    display: inline-block;\r\n",
       "    content: '+';\r\n",
       "    font-size: 11px;\r\n",
       "    width: 15px;\r\n",
       "    text-align: center;\r\n",
       "}\r\n",
       "\r\n",
       ".h5grp-sections > li > input:disabled + label:before {\r\n",
       "    color: #777;\r\n",
       "}\r\n",
       "\r\n",
       ".h5grp-sections > li > input:checked + label:before {\r\n",
       "    content: '-';\r\n",
       "}\r\n",
       "\r\n",
       ".h5tb-dim-list {\r\n",
       "    display: inline-block !important;\r\n",
       "    list-style: none;\r\n",
       "    padding: 0;\r\n",
       "}\r\n",
       "\r\n",
       ".h5tb-dim-list li {\r\n",
       "    display: inline-block;\r\n",
       "    padding: 0;\r\n",
       "    margin: 0;\r\n",
       "}\r\n",
       "\r\n",
       ".h5tb-dim-list:before {\r\n",
       "    content: '(';\r\n",
       "}\r\n",
       "\r\n",
       ".h5tb-dim-list:after {\r\n",
       "    content: ')';\r\n",
       "}\r\n",
       "\r\n",
       ".h5tb-dim-list li:not(:last-child):after {\r\n",
       "    content: ',';\r\n",
       "}\r\n",
       "\r\n",
       ".h5tb-has-index {\r\n",
       "    text-decoration: underline;\r\n",
       "}\r\n",
       "\r\n",
       ".h5tb-var-list {\r\n",
       "    list-style: none;\r\n",
       "    padding: 0;\r\n",
       "    margin: 0;\r\n",
       "}\r\n",
       "\r\n",
       ".h5tb-var-list > li {\r\n",
       "    background-color: #fcfcfc;\r\n",
       "    overflow: hidden;\r\n",
       "}\r\n",
       "\r\n",
       ".h5tb-var-list > li:nth-child(odd) {\r\n",
       "    background-color: #efefef;\r\n",
       "}\r\n",
       "\r\n",
       ".h5tb-var-list li:hover {\r\n",
       "    background-color: rgba(3, 169, 244, .2);\r\n",
       "}\r\n",
       "\r\n",
       ".h5tb-var-list li > span {\r\n",
       "    display: inline-block;\r\n",
       "}\r\n",
       "\r\n",
       "input.h5tb-varname-in + label {\r\n",
       "    width: 140px;\r\n",
       "    padding-left: 0;\r\n",
       "    font-weight: bold;\r\n",
       "}\r\n",
       "\r\n",
       ".h5tb-dataset {\r\n",
       "    width: 100px;\r\n",
       "}\r\n",
       "\r\n",
       ".h5tb-attributevalue {\r\n",
       "    width: 100px;\r\n",
       "    text-align: left;\r\n",
       "    color: #888;\r\n",
       "    white-space: nowrap;\r\n",
       "    font-size: 12px;\r\n",
       "}\r\n",
       "\r\n",
       "input.h5tb-varname-in + label:before {\r\n",
       "    content: ' ';\r\n",
       "    display: inline-block;\r\n",
       "    font-size: 11px;\r\n",
       "    width: 15px;\r\n",
       "    padding-left: 2px;\r\n",
       "    padding-right: 2px;\r\n",
       "    text-align: center;\r\n",
       "    color: #aaa;\r\n",
       "    text-decoration: none !important;\r\n",
       "}\r\n",
       "\r\n",
       "input.h5tb-varname-in:enabled + label:hover:before {\r\n",
       "    color: #000;\r\n",
       "}\r\n",
       "\r\n",
       "input.h5tb-varname-in:checked + label:before {\r\n",
       "    color: #ccc;\r\n",
       "}\r\n",
       "\r\n",
       ".h5tb-dims {\r\n",
       "    width: 280px;\r\n",
       "    white-space: nowrap;\r\n",
       "}\r\n",
       "\r\n",
       "\r\n",
       ".h5tb-unit {\r\n",
       "    width: 96px;\r\n",
       "    white-space: nowrap;\r\n",
       "    padding-right: 2px;\r\n",
       "    text-align: right;\r\n",
       "    color: #555;\r\n",
       "    font-style: italic;\r\n",
       "}\r\n",
       "\r\n",
       ".h5tb-attr-list {\r\n",
       "    list-style: none;\r\n",
       "    background-color: #fff;\r\n",
       "    padding-bottom: 6px;\r\n",
       "    color: #555;\r\n",
       "}\r\n",
       "\r\n",
       ".h5tb-attr-list li,\r\n",
       ".h5tb-attr-list li:hover {\r\n",
       "    background-color: #fff;\r\n",
       "}\r\n",
       "\r\n",
       ".h5tb-dim-highlight {\r\n",
       "    background-color: rgba(3, 169, 244, .2);\r\n",
       "    cursor: pointer;\r\n",
       "}</style></head>\n",
       "<div class='h5tb-warp'>\n",
       "\n",
       "              <ul style=\"list-style-type: none;\" class=\"h5grp-sections\">\n",
       "                    <li>\n",
       "                        <input id=\"group-ds--7225671000\" type=\"checkbox\" checked>\n",
       "                        <label style=\"font-weight: bold\" for=\"group-ds--7225671000\">\n",
       "                        /<span>(0)</span></label>\n",
       "                  \n",
       "\n",
       "                    <ul class=\"h5tb-attr-list\"><li style=\"list-style-type: none; font-style: italic\">__h5rdmtoolbox_version__ : 0.6.5a0</li><li style=\"list-style-type: none; font-style: italic\">contact : <a href=\"https://orcid.org/0000-0001-8729-0482\">\n",
       "<img alt=\"ORCID logo\" src=\"https://info.orcid.org/wp-content/uploads/2019/11/orcid_16x16.png\" width=\"16\" height=\"16\" />\n",
       "https://orcid.org/0000-0001-8729-0482\n",
       "</a></li>\n",
       "                    </ul>\n",
       "</li>\n",
       "</ul>\n",
       "</div>"
      ],
      "text/plain": [
       "<IPython.core.display.HTML object>"
      ]
     },
     "metadata": {},
     "output_type": "display_data"
    }
   ],
   "source": [
    "with h5tbx.File(contact='https://orcid.org/0000-0001-8729-0482') as h5:\n",
    "    h5.dump()"
   ]
  },
  {
   "cell_type": "markdown",
   "id": "da62c833-4391-4abe-85c6-36c53a3f5b62",
   "metadata": {},
   "source": [
    "## Import a convention\n",
    "\n",
    "Conventions are defined for a project. Standard attributes can be defined in a single or multiple yaml files. Those files can be loaded into the current work from a local storage or a remote web resource. We first have a look at loading a local defintion of standard names."
   ]
  },
  {
   "cell_type": "markdown",
   "id": "9841cdca-6709-4d6e-b918-509aec7de76a",
   "metadata": {},
   "source": [
    "### Load a local convention"
   ]
  },
  {
   "cell_type": "code",
   "execution_count": 9,
   "id": "7b42b60d-b035-44f2-a70f-835febab2310",
   "metadata": {},
   "outputs": [
    {
     "name": "stderr",
     "output_type": "stream",
     "text": [
      "C:\\Users\\da4323\\Documents\\programming\\GitHub\\h5RDMtoolbox\\h5rdmtoolbox\\conventions\\standard_attribute.py:76: UserWarning: Ignoring parameter type\n",
      "  warnings.warn(f'Ignoring parameter {k}', UserWarning)\n"
     ]
    },
    {
     "data": {
      "text/plain": [
       "\u001b[1mConvention(\"tbx_convention_standard_names\")\u001b[0m\n",
       "  File.__init__():\n",
       "    * \u001b[1mcontact\u001b[0m\n",
       "    * \u001b[1mtitle\u001b[0m\n",
       "    * \u001b[1mreferences\u001b[0m\n",
       "    * \u001b[1mcomment\u001b[0m\n",
       "    * \u001b[3minstitution\u001b[0m (optional)\n",
       "  Group.create_dataset():\n",
       "    * \u001b[1mscale\u001b[0m\n",
       "    * \u001b[1munits\u001b[0m\n",
       "    * \u001b[1mlong_name\u001b[0m\n",
       "    * \u001b[3moffset\u001b[0m (optional)"
      ]
     },
     "execution_count": 9,
     "metadata": {},
     "output_type": "execute_result"
    }
   ],
   "source": [
    "local_cv = h5tbx.conventions.Convention.from_yaml('tbx_convention_standard_names.yaml')\n",
    "local_cv.register()\n",
    "local_cv"
   ]
  },
  {
   "cell_type": "code",
   "execution_count": 10,
   "id": "3269478b-8d74-4b5c-a7e6-bacd984313aa",
   "metadata": {},
   "outputs": [],
   "source": [
    "h5tbx.use(local_cv)"
   ]
  },
  {
   "cell_type": "markdown",
   "id": "c357e8dc-8ab2-4c3c-a099-d3e3106befd9",
   "metadata": {},
   "source": [
    "### Load a remote convention\n",
    "\n",
    "This is generally done only once a due to some revisions a few time. Such a conventions therefore needs to get a version or evene better a persistent identifier like a DOI.\n",
    "\n",
    "The toolbox suggests using Zenodo as a repository. The following shows, how a convention, wich was uploaded to Zenodo can be integrated into the user's workflow.\n",
    "\n",
    "The example convention is registered under the DOI 123123 on Zenodo. It contains multiple \\*.yaml-files."
   ]
  },
  {
   "cell_type": "code",
   "execution_count": 11,
   "id": "a3cc688a-088e-4e3e-9d06-4abb834c8978",
   "metadata": {},
   "outputs": [
    {
     "ename": "AttributeError",
     "evalue": "module 'h5rdmtoolbox.conventions' has no attribute 'from_zenodo'",
     "output_type": "error",
     "traceback": [
      "\u001b[1;31m---------------------------------------------------------------------------\u001b[0m",
      "\u001b[1;31mAttributeError\u001b[0m                            Traceback (most recent call last)",
      "Cell \u001b[1;32mIn[11], line 1\u001b[0m\n\u001b[1;32m----> 1\u001b[0m cv \u001b[38;5;241m=\u001b[39m \u001b[43mh5tbx\u001b[49m\u001b[38;5;241;43m.\u001b[39;49m\u001b[43mconventions\u001b[49m\u001b[38;5;241;43m.\u001b[39;49m\u001b[43mfrom_zenodo\u001b[49m(doi\u001b[38;5;241m=\u001b[39m\u001b[38;5;241m123123\u001b[39m)\n\u001b[0;32m      2\u001b[0m h5tbx\u001b[38;5;241m.\u001b[39muse(cv)  \u001b[38;5;66;03m# enable the downloaded convention\u001b[39;00m\n",
      "\u001b[1;31mAttributeError\u001b[0m: module 'h5rdmtoolbox.conventions' has no attribute 'from_zenodo'"
     ]
    }
   ],
   "source": [
    "cv = h5tbx.conventions.from_zenodo(doi=123123)\n",
    "h5tbx.use(cv)  # enable the downloaded convention"
   ]
  },
  {
   "cell_type": "markdown",
   "id": "254bd8ff-1d4f-4e20-aed9-0d488615d284",
   "metadata": {},
   "source": [
    "## List of available conventions\n",
    "\n",
    "It is possible to register conventions, which is the list of standard attributes for the respective HDF objects. A list can be optained by the dictionary `conventons.registered_conventions`:"
   ]
  },
  {
   "cell_type": "code",
   "execution_count": null,
   "id": "b3382d99-6c5e-4d81-8894-a95eb8364dd4",
   "metadata": {
    "tags": []
   },
   "outputs": [],
   "source": [
    "h5tbx.conventions.registered_conventions.keys()"
   ]
  },
  {
   "cell_type": "markdown",
   "id": "f794b19d-a950-47d7-8af5-b16b79e70974",
   "metadata": {},
   "source": [
    "Now, we regulated what happens, when this special (standard) attribute is written (`set`) and read (`get`).\n",
    "\n",
    "## Add to a convention\n",
    "Next we need to add this attbribute to a convention and assign it to the `Group` calss and the method `create_dataset` in order to make \"source\" available to the user and enforce its usage.\n",
    "\n",
    "Let's initialize a new convention and register it (make it available in the package):"
   ]
  },
  {
   "cell_type": "code",
   "execution_count": null,
   "id": "b04a6b93-9bf3-45eb-ba88-4930d7b935d9",
   "metadata": {
    "tags": []
   },
   "outputs": [],
   "source": [
    "cv = conventions.Convention('my_convention')\n",
    "cv"
   ]
  },
  {
   "cell_type": "markdown",
   "id": "aa28d193-e07f-4264-890f-ca9208c97744",
   "metadata": {},
   "source": [
    "The output shows which attributes are associated with the objects `File`, `Group` and `Dataset` and the methods `__init__`, `create_group` and `create_dataset`. What this exactly means will get clear shortly. Let's add `SourceAttribute` the class `Dataset`:"
   ]
  },
  {
   "cell_type": "code",
   "execution_count": null,
   "id": "664bc012-33d8-4ccc-a1fd-ca9516bb26a8",
   "metadata": {
    "tags": []
   },
   "outputs": [],
   "source": [
    "cv['create_dataset'].add(SourceAttribute,\n",
    "                         add_to_method=True,\n",
    "                         optional=True,\n",
    "                         position={'after': 'data'})"
   ]
  },
  {
   "cell_type": "markdown",
   "id": "c07018fe-fd14-4f89-984e-115799ef372b",
   "metadata": {},
   "source": [
    "The `SourceAttribute` is now added to the class `Group`:"
   ]
  },
  {
   "cell_type": "code",
   "execution_count": null,
   "id": "c3621cd4-2431-44ad-9896-790a7e7fd89a",
   "metadata": {
    "tags": []
   },
   "outputs": [],
   "source": [
    "cv"
   ]
  },
  {
   "cell_type": "markdown",
   "id": "03099119-4f6a-4e8a-b5a9-5ca40f768468",
   "metadata": {},
   "source": [
    "For now, it is only registered as a property. This means, the user is yet responsible for setting the \"source\"."
   ]
  },
  {
   "cell_type": "markdown",
   "id": "47770902-9682-42a4-8c56-6eead767d241",
   "metadata": {},
   "source": [
    "## Register and enable\n",
    "We need to register the convention `cv` and enable it (and thus enable the \"source\" attribute)"
   ]
  },
  {
   "cell_type": "code",
   "execution_count": null,
   "id": "35fe8700-fc08-49c7-9893-578339248541",
   "metadata": {
    "tags": []
   },
   "outputs": [],
   "source": [
    "cv.register()\n",
    "h5tbx.use('my_convention')\n",
    "h5tbx.get_current_convention()"
   ]
  },
  {
   "cell_type": "markdown",
   "id": "ea53bac0-5b03-4fb8-9986-3aadf200729e",
   "metadata": {},
   "source": [
    "## Example:\n",
    "Let's create a dataset and get the source. As we do not pass the argument `source` (we set it to optional) and we do not set it via the attribute manager, we expect a warning:"
   ]
  },
  {
   "cell_type": "code",
   "execution_count": null,
   "id": "299b1a22-009a-404b-8ba8-f705a1864e29",
   "metadata": {
    "tags": []
   },
   "outputs": [],
   "source": [
    "with h5tbx.File() as h5:\n",
    "    ds = h5.create_dataset('data', (4, 5))\n",
    "    print(ds.source)"
   ]
  },
  {
   "cell_type": "markdown",
   "id": "3eaeb426-4113-4e50-95bf-92d1704507ee",
   "metadata": {},
   "source": [
    "We may pass \"source\" directly as an argument or via \"attrs\". Both of which will check if the source is \"numerical\" or \"experimental\", thus the `set()` method is called in both cases:"
   ]
  },
  {
   "cell_type": "code",
   "execution_count": null,
   "id": "2ef94ffa-9ed0-44f8-9f79-ee7012cc3bec",
   "metadata": {
    "tags": []
   },
   "outputs": [],
   "source": [
    "with h5tbx.File() as h5:\n",
    "    ds1 = h5.create_dataset('data1', (4, 5), attrs={'source': 'numerical'})\n",
    "    ds2 = h5.create_dataset('data2', (4, 5), source='experimental')\n",
    "    # two example that fail:\n",
    "    try:\n",
    "        h5.create_dataset('data3', (4, 5), attrs={'source': 'model-based'})\n",
    "    except ValueError as e:\n",
    "        print(e)\n",
    "    try:\n",
    "        h5.create_dataset('data4', (4, 5), source='model-based')\n",
    "    except ValueError as e:\n",
    "        print(e)"
   ]
  },
  {
   "cell_type": "markdown",
   "id": "910337a6-766d-47f8-8c20-6f3f39ca58fe",
   "metadata": {},
   "source": [
    "Until now, the source attribute was **optional**. We want to enforce the use, so let's change this property of the standard attribute:"
   ]
  },
  {
   "cell_type": "code",
   "execution_count": null,
   "id": "4cb1bafe-795d-4824-aa91-0fda3c1c0f17",
   "metadata": {
    "tags": []
   },
   "outputs": [],
   "source": [
    "cv.make_required('create_dataset', 'source')"
   ]
  },
  {
   "cell_type": "code",
   "execution_count": null,
   "id": "71233e6a-5a54-46eb-a854-9bc90c0d687a",
   "metadata": {
    "tags": []
   },
   "outputs": [],
   "source": [
    "cv"
   ]
  },
  {
   "cell_type": "code",
   "execution_count": null,
   "id": "e691035f-f4e6-4e42-8707-c1ddf53a04f4",
   "metadata": {
    "tags": []
   },
   "outputs": [],
   "source": [
    "with h5tbx.File() as h5:\n",
    "    try:\n",
    "        ds = h5.create_dataset('data', (4, 5))\n",
    "    except h5tbx.conventions.StandardAttributeError as e:\n",
    "        print(e)"
   ]
  },
  {
   "cell_type": "code",
   "execution_count": null,
   "id": "d518cfdd-b28c-4917-af5e-ac9d239de346",
   "metadata": {
    "tags": []
   },
   "outputs": [],
   "source": [
    "with h5tbx.File() as h5:\n",
    "    ds = h5.create_dataset('data', (4, 5), source='Experimental')\n",
    "    ds.dump()"
   ]
  }
 ],
 "metadata": {
  "kernelspec": {
   "display_name": "Python 3 (ipykernel)",
   "language": "python",
   "name": "python3"
  },
  "language_info": {
   "codemirror_mode": {
    "name": "ipython",
    "version": 3
   },
   "file_extension": ".py",
   "mimetype": "text/x-python",
   "name": "python",
   "nbconvert_exporter": "python",
   "pygments_lexer": "ipython3",
   "version": "3.8.16"
  }
 },
 "nbformat": 4,
 "nbformat_minor": 5
}
