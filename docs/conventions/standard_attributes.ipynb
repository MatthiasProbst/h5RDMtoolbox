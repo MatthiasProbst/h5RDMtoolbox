{
 "cells": [
  {
   "cell_type": "markdown",
   "id": "ffbff109-f60a-4498-9b8e-88c7233cba06",
   "metadata": {},
   "source": [
    "# Standard Attributes\n",
    "\n",
    "Standard attributes are HDF5 attributes that follow **specific rules (conventions)** defined by the user\n",
    "through `StandardAttribute` classes. These classes are registered for the selected (or multiple) HDF5 objects (File, Group, Dataset)."
   ]
  },
  {
   "cell_type": "code",
   "execution_count": 1,
   "id": "ed89ca1e-1362-41f8-9e92-c0f903fcee40",
   "metadata": {
    "tags": []
   },
   "outputs": [],
   "source": [
    "import h5rdmtoolbox as h5tbx\n",
    "from h5rdmtoolbox import conventions"
   ]
  },
  {
   "cell_type": "markdown",
   "id": "cd694d01-9fe4-4155-85a9-70e837717d49",
   "metadata": {},
   "source": [
    "Let's define a standard attribute. Here is the summary in short of what the attribute should be like:\n",
    "* Name of the attribute is `software`.\n",
    "* User shall provide `name` and `version`\n",
    "* It should only be available for `core.Dataset` objects\n",
    "* The HDF attribute string in the end should look be dictionary-like: `{'name': <software-name>, 'vers': <version>}`\n",
    "\n",
    "We write a subclass of `StandardAttribute`, set the class-property `name` and control the above described behaviour in the `setter` and `getter` methods. We also write a small dataclass `Software` which is the return object to the user:"
   ]
  },
  {
   "cell_type": "code",
   "execution_count": 2,
   "id": "9d3fa4c5-d5e4-4549-b493-131df0e94fea",
   "metadata": {
    "tags": []
   },
   "outputs": [],
   "source": [
    "import json\n",
    "from dataclasses import dataclass\n",
    "\n",
    "@dataclass(frozen=True)\n",
    "class Software:\n",
    "    name: str\n",
    "    vers: str\n",
    "\n",
    "class SoftwareAttribute(conventions.StandardAttribute):\n",
    "    \n",
    "    name = 'software'\n",
    "    \n",
    "    def setter(self, obj, name_version: \"Tuple\"):\n",
    "        name_vers_dict = dict(name=name_version[0], vers=name_version[1])\n",
    "        obj.attrs.create(self.name, json.dumps(name_vers_dict))\n",
    "        \n",
    "    def getter(self, obj):\n",
    "        sftw_str = self.safe_getter(obj)\n",
    "        sftw_dict = json.loads(sftw_str)\n",
    "        return Software(**sftw_dict)"
   ]
  },
  {
   "cell_type": "markdown",
   "id": "948bc3e5-3606-4f47-93bf-bf955ce50e40",
   "metadata": {},
   "source": [
    "Register the instance (!) of `SoftwareAttribute` to `core.Group` and `core.Dataset`:"
   ]
  },
  {
   "cell_type": "code",
   "execution_count": 3,
   "id": "fb04c4a3-6983-4019-a825-c0a1cbb005b0",
   "metadata": {
    "tags": []
   },
   "outputs": [],
   "source": [
    "conventions.register_standard_attribute(attribute=SoftwareAttribute(),\n",
    "                                        cls=h5tbx.wrapper.core.Dataset,\n",
    "                                        overwrite=True)"
   ]
  },
  {
   "cell_type": "code",
   "execution_count": 4,
   "id": "59f014f3-43c8-407e-b1fd-5f757ed67d69",
   "metadata": {
    "tags": []
   },
   "outputs": [
    {
     "name": "stdout",
     "output_type": "stream",
     "text": [
      "Attributes of \"/data\":\n",
      "----------------------\n",
      "software:  Software(name='MySoftware', vers='v1.1.3')\n"
     ]
    }
   ],
   "source": [
    "with h5tbx.File() as h5:\n",
    "    h5.create_dataset('data', [1, 2, 3])\n",
    "    h5.data.software = ('MySoftware', 'v1.1.3')\n",
    "    h5.data.attrs.sdump(show_private=False)\n",
    "    sftw = h5.data.software"
   ]
  },
  {
   "cell_type": "markdown",
   "id": "15509594-c2de-4cca-8131-000ecf06223e",
   "metadata": {},
   "source": [
    "Retrieving the software standard attribute will return the Software class:"
   ]
  },
  {
   "cell_type": "code",
   "execution_count": 5,
   "id": "27d8fba9-68ee-4898-9fdd-4414e3d48ac1",
   "metadata": {
    "tags": []
   },
   "outputs": [
    {
     "data": {
      "text/plain": [
       "Software(name='MySoftware', vers='v1.1.3')"
      ]
     },
     "execution_count": 5,
     "metadata": {},
     "output_type": "execute_result"
    }
   ],
   "source": [
    "with h5tbx.File(h5.hdf_filename) as h5:\n",
    "    sftw = h5.data.software\n",
    "sftw"
   ]
  },
  {
   "cell_type": "markdown",
   "id": "9996de02-2d57-483e-a82e-d07034f58495",
   "metadata": {},
   "source": [
    "As `software` is an actual HDF5 attribute, we can access the attribute in the usual way and still get the object of type `Software` back. This is because of the package configuration which is per default set so, that the stndard attributes are exposed to the HDF5 Attribute Manager (we'll overwrite the config for clarity and after the example change it)"
   ]
  },
  {
   "cell_type": "code",
   "execution_count": 6,
   "id": "688a758c-70de-483c-ad08-baec3fd4d930",
   "metadata": {
    "tags": []
   },
   "outputs": [
    {
     "data": {
      "text/plain": [
       "Software(name='MySoftware', vers='v1.1.3')"
      ]
     },
     "execution_count": 6,
     "metadata": {},
     "output_type": "execute_result"
    }
   ],
   "source": [
    "h5tbx.config.expose_user_prop_to_attrs = True\n",
    "\n",
    "with h5tbx.File(h5.hdf_filename) as h5:\n",
    "    sftw = h5.data.attrs['software']\n",
    "sftw"
   ]
  },
  {
   "cell_type": "markdown",
   "id": "5fa2bc71-e4e1-40e0-bca7-911b5b2116d2",
   "metadata": {},
   "source": [
    "Now, let's not expose the standard attributes to the Attribute Mangager. We'll expect to receive the raw attribute string:"
   ]
  },
  {
   "cell_type": "code",
   "execution_count": 7,
   "id": "c4173ee3-a3de-42e5-adcc-94fb99bc6f0e",
   "metadata": {
    "tags": []
   },
   "outputs": [
    {
     "data": {
      "text/plain": [
       "{'name': 'MySoftware', 'vers': 'v1.1.3'}"
      ]
     },
     "execution_count": 7,
     "metadata": {},
     "output_type": "execute_result"
    }
   ],
   "source": [
    "h5tbx.config.expose_user_prop_to_attrs = False\n",
    "\n",
    "with h5tbx.File(h5.hdf_filename) as h5:\n",
    "    sftw = h5.data.attrs['software']\n",
    "sftw"
   ]
  },
  {
   "cell_type": "markdown",
   "id": "8b4f1fe3-fbda-48c2-994e-7bd4a7be0798",
   "metadata": {},
   "source": [
    "As the software attribute was only registered for datasets and groups, we should not be able to assign a software to a `core.File` object. Note, that python let's you set the property, however, it has not the effect as above because we registered `SoftwareAttribute` only for datasets!"
   ]
  },
  {
   "cell_type": "code",
   "execution_count": 8,
   "id": "d512bdb0-bee2-47f1-bd0b-84e197e6c0c2",
   "metadata": {
    "tags": []
   },
   "outputs": [
    {
     "name": "stdout",
     "output_type": "stream",
     "text": [
      "Attributes of \"/\":\n",
      "------------------\n",
      "__h5rdmtoolbox_version__:  0.3.0a8\n"
     ]
    }
   ],
   "source": [
    "with h5tbx.File() as h5:\n",
    "    h5.software = ('MySoftware', 'v1.1.3')\n",
    "    h5.attrs.sdump() # no attribute set as expected"
   ]
  },
  {
   "cell_type": "code",
   "execution_count": null,
   "id": "013ea87b-8492-41fb-a266-848632452e7e",
   "metadata": {},
   "outputs": [],
   "source": []
  }
 ],
 "metadata": {
  "kernelspec": {
   "display_name": "Python 3 (ipykernel)",
   "language": "python",
   "name": "python3"
  },
  "language_info": {
   "codemirror_mode": {
    "name": "ipython",
    "version": 3
   },
   "file_extension": ".py",
   "mimetype": "text/x-python",
   "name": "python",
   "nbconvert_exporter": "python",
   "pygments_lexer": "ipython3",
   "version": "3.8.16"
  }
 },
 "nbformat": 4,
 "nbformat_minor": 5
}
