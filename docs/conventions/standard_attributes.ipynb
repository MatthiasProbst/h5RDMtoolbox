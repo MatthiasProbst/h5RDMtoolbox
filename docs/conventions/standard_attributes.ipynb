{
 "cells": [
  {
   "cell_type": "markdown",
   "id": "300ab6f1-dc08-41eb-9e77-5f6a8e02ac9a",
   "metadata": {},
   "source": [
    "# Introduction to Conventions\n",
    "\n",
    "The standardization of attributes is important in order to reliable find specific datasets in a file. Typos and attribute naming based on personal preferences must be avoided. Even if humans may still be able to understand such data, especially automatic exploration and processing of such data will be impossible.\n",
    "\n",
    "The toolbox provides as solution based on standardized HDF5 attributes explained in this chapter"
   ]
  },
  {
   "cell_type": "markdown",
   "id": "dfd4ad67-62a4-44e2-be29-d50f8ff09310",
   "metadata": {},
   "source": [
    "<!-- \n",
    "\n",
    "The `h5RDmtoolbox` lets you specify rules for those \"special attributes\". We will call them `standard attributes` and a collection of it a `convention` (More on this [here](conventions.ipynb)).\n",
    "\n",
    "<!-- If an attribute is addressed by the user, e.g. the attribute `units`, and a standard attribute implementation exists for this name, then the value is processed by the respective rule and the attribute is set or an error is raised in case of a invalid input.\n",
    "\n",
    "Standard attributes can be made required **during dataset creation,** for instance. This enforces users to pass certain meta information and validates it at the same time. Consequently, data becomes re-usable and explorable.\n",
    "\n",
    "Additionally, so-called [layouts](./layouts.ipynb) can be defined, too. They are used to specify the content of an HDF5 file after it has been written. This concept applies best during file exchange, as the layout validates if a file is complete and meets the expectation of the project or collaborative user. -->\n",
    "\n",
    "<!-- \n",
    "## Concept\n",
    "The figure below illustrates the general concept. Standard attributes are defined by the user and added to a convention. A registered convention is activated by calling `.use(<name of convention>)`. By doing so, the signature of the methods `create_dataset`, `create_group` and `__init__` are modified according to the generated standard attributes. Moreover, the docstring will be updated, too, as we will see later.\n",
    "\n",
    "\n",
    "<img src=concept_of_std_attrs.png width=800px>\n",
    "\n",
    "\n",
    "Let's see how this is done in practice: -->"
   ]
  },
  {
   "cell_type": "code",
   "execution_count": 1,
   "id": "dc410573-dd0d-4e2e-a513-49607fcfe6cd",
   "metadata": {
    "tags": []
   },
   "outputs": [],
   "source": [
    "import h5rdmtoolbox as h5tbx"
   ]
  },
  {
   "cell_type": "markdown",
   "id": "9569850d-a4b1-47d7-b19e-59d2e336ac69",
   "metadata": {},
   "source": [
    "## Definition of Standard Attributes in a Convention (YAML file)\n",
    "\n",
    "Standard attributes are defined in YAML files and can be read by the class `Convention`. Each entry of the YAML file corresponds to an object of class `StandardAttribute`.\n",
    "\n",
    "An example of a convention defined in a YAML file is shown below. It first contains some lines of general information (name, contact, etc) and then is followed by definitions of standard attributes (in this case one, it is called \"data_type\")"
   ]
  },
  {
   "cell_type": "raw",
   "id": "e5270f0a-292c-42de-b644-d1bf406798d9",
   "metadata": {},
   "source": [
    "# example_convention.yaml:\n",
    "--------------------------\n",
    "\n",
    "__name__: h5rdmtoolbox-tuturial-convention\n",
    "__institution__: https://orcid.org/members/001G000001e5aUTIAY\n",
    "__contact__: https://orcid.org/0000-0001-8729-0482\n",
    "__use_scale_offset__: False\n",
    "\n",
    "data_type:\n",
    "  description: 'Type of data in file. Can be numerical or experimental'\n",
    "  target_methods: __init__\n",
    "  validator:\n",
    "    $in:\n",
    "    - experimental\n",
    "    - numerical"
   ]
  },
  {
   "cell_type": "markdown",
   "id": "5aac95f3-c228-4ac3-877b-69dc28d84e9f",
   "metadata": {},
   "source": [
    "Let's read this file into the class `Convention`:"
   ]
  },
  {
   "cell_type": "code",
   "execution_count": 2,
   "id": "2e3d59ca-8de0-4821-bdb7-27a99b259b8d",
   "metadata": {},
   "outputs": [
    {
     "data": {
      "text/plain": [
       "\u001b[1mConvention(\"h5rdmtoolbox-tuturial-convention\")\u001b[0m\n",
       "contact: https://orcid.org/0000-0001-8729-0482\n",
       "  File.__init__():\n",
       "    * \u001b[1mdata_type\u001b[0m:\n",
       "\t\tType of data in file. Can be numerical or experimental"
      ]
     },
     "execution_count": 2,
     "metadata": {},
     "output_type": "execute_result"
    }
   ],
   "source": [
    "cv = h5tbx.conventions.from_yaml('example_convention.yaml')\n",
    "cv"
   ]
  },
  {
   "cell_type": "markdown",
   "id": "14dc5c24-9645-43aa-b76b-349d8a7e8e02",
   "metadata": {},
   "source": [
    "In order to make the convention affective in this session, it must be enabled. We do this by calling `use()`:"
   ]
  },
  {
   "cell_type": "code",
   "execution_count": 3,
   "id": "8dfd1a89-ba4d-4333-bed4-dbd9dae8fadd",
   "metadata": {},
   "outputs": [
    {
     "data": {
      "text/plain": [
       "using(\"h5rdmtoolbox-tuturial-convention\")"
      ]
     },
     "execution_count": 3,
     "metadata": {},
     "output_type": "execute_result"
    }
   ],
   "source": [
    "h5tbx.use(cv)  # or h5tbx.ue('h5rdmtoolbox-tuturial-convention') or cv.use()"
   ]
  },
  {
   "cell_type": "markdown",
   "id": "cd93051d-6537-4ec2-a07a-9f9ecf1b88be",
   "metadata": {},
   "source": [
    "Now, we will get an error if we create a HDF5 file without providing the attribute \"data_type\". As we made it a required attribute, it must be provided during file initialization:"
   ]
  },
  {
   "cell_type": "code",
   "execution_count": 4,
   "id": "bc760582-760d-45dc-ae88-8346d3cfb387",
   "metadata": {},
   "outputs": [
    {
     "name": "stdout",
     "output_type": "stream",
     "text": [
      "The standard attribute \"data_type\" is required but not provided.\n"
     ]
    }
   ],
   "source": [
    "try:\n",
    "    with h5tbx.File() as h5:\n",
    "        pass\n",
    "except h5tbx.errors.StandardAttributeError as e:\n",
    "    print(e)"
   ]
  },
  {
   "cell_type": "markdown",
   "id": "fc5d0e45-6aaf-473b-b5ca-84cd1ee83443",
   "metadata": {},
   "source": [
    "Providing a wrong value raises an error, too:"
   ]
  },
  {
   "cell_type": "code",
   "execution_count": 5,
   "id": "105511eb-f632-471a-b53c-7945440da8f4",
   "metadata": {},
   "outputs": [
    {
     "name": "stdout",
     "output_type": "stream",
     "text": [
      "Setting \"observational\" for standard attribute \"data_type\" failed. Original error: The value \"observational\" is not in ['experimental', 'numerical']. Expecting one of these: ['experimental', 'numerical']\n"
     ]
    }
   ],
   "source": [
    "try:\n",
    "    with h5tbx.File(data_type='observational') as h5:\n",
    "        pass\n",
    "except h5tbx.errors.StandardAttributeError as e:\n",
    "    print(e)"
   ]
  },
  {
   "cell_type": "markdown",
   "id": "bf48ff4a-f561-474f-833a-d4b8e4516f3c",
   "metadata": {},
   "source": [
    "Now, we got it:"
   ]
  },
  {
   "cell_type": "code",
   "execution_count": 6,
   "id": "0669ccff-9563-4a0c-ab66-e07224f8d42b",
   "metadata": {},
   "outputs": [
    {
     "data": {
      "text/html": [
       "<head><style>/*\r\n",
       "CSS inspired by xarray: https://github.com/pydata/xarray\r\n",
       "*/\r\n",
       ".h5tb-header > div,\r\n",
       ".h5tb-header > ul {\r\n",
       "    display: inline;\r\n",
       "    margin-top: 0;\r\n",
       "    margin-bottom: 0;\r\n",
       "}\r\n",
       "\r\n",
       ".h5tb-dataarray-cls,\r\n",
       ".h5tb-dataarray-name {\r\n",
       "    margin-left: 2px;\r\n",
       "    margin-right: 10px;\r\n",
       "}\r\n",
       "\r\n",
       ".h5tb-dataarray-name {\r\n",
       "    color: #000;\r\n",
       "}\r\n",
       "\r\n",
       ".h5grp-sections {\r\n",
       "    list-style: none;\r\n",
       "    padding: 3px;\r\n",
       "    margin: 0;\r\n",
       "}\r\n",
       "\r\n",
       ".h5grp-sections input {\r\n",
       "    display: none;\r\n",
       "}\r\n",
       "\r\n",
       ".h5grp-sections label {\r\n",
       "    display: inline;\r\n",
       "}\r\n",
       "\r\n",
       ".h5grp-sections > li > input + label > span {\r\n",
       "    display: inline;\r\n",
       "    margin-left: 4px;\r\n",
       "}\r\n",
       "\r\n",
       ".h5grp-sections > li > input:checked + label > span {\r\n",
       "    display: none;\r\n",
       "}\r\n",
       "\r\n",
       ".h5grp-sections input:enabled + label {\r\n",
       "    cursor: pointer;\r\n",
       "}\r\n",
       "\r\n",
       ".h5grp-sections input:not(.h5tb-values-in) ~ ul {\r\n",
       "    display: none;\r\n",
       "}\r\n",
       "\r\n",
       ".h5grp-sections input:not(.h5tb-values-in):checked ~ ul {\r\n",
       "    display: block;\r\n",
       "}\r\n",
       "\r\n",
       ".h5grp-sections > li > input + label {\r\n",
       "    width: 140px;\r\n",
       "    color: #555;\r\n",
       "    font-weight: 500;\r\n",
       "    padding: 4px 0 2px 0;\r\n",
       "}\r\n",
       "\r\n",
       "\r\n",
       ".h5grp-sections > li > input + label:before {\r\n",
       "    display: inline-block;\r\n",
       "    content: '+';\r\n",
       "    font-size: 11px;\r\n",
       "    width: 15px;\r\n",
       "    text-align: center;\r\n",
       "}\r\n",
       "\r\n",
       ".h5grp-sections > li > input:disabled + label:before {\r\n",
       "    color: #777;\r\n",
       "}\r\n",
       "\r\n",
       ".h5grp-sections > li > input:checked + label:before {\r\n",
       "    content: '-';\r\n",
       "}\r\n",
       "\r\n",
       ".h5tb-dim-list {\r\n",
       "    display: inline-block !important;\r\n",
       "    list-style: none;\r\n",
       "    padding: 0;\r\n",
       "}\r\n",
       "\r\n",
       ".h5tb-dim-list li {\r\n",
       "    display: inline-block;\r\n",
       "    padding: 0;\r\n",
       "    margin: 0;\r\n",
       "}\r\n",
       "\r\n",
       ".h5tb-dim-list:before {\r\n",
       "    content: '(';\r\n",
       "}\r\n",
       "\r\n",
       ".h5tb-dim-list:after {\r\n",
       "    content: ')';\r\n",
       "}\r\n",
       "\r\n",
       ".h5tb-dim-list li:not(:last-child):after {\r\n",
       "    content: ',';\r\n",
       "}\r\n",
       "\r\n",
       ".h5tb-has-index {\r\n",
       "    text-decoration: underline;\r\n",
       "}\r\n",
       "\r\n",
       ".h5tb-var-list {\r\n",
       "    list-style: none;\r\n",
       "    padding: 0;\r\n",
       "    margin: 0;\r\n",
       "}\r\n",
       "\r\n",
       ".h5tb-var-list > li {\r\n",
       "    background-color: #fcfcfc;\r\n",
       "    overflow: hidden;\r\n",
       "}\r\n",
       "\r\n",
       ".h5tb-var-list > li:nth-child(odd) {\r\n",
       "    background-color: #efefef;\r\n",
       "}\r\n",
       "\r\n",
       ".h5tb-var-list li:hover {\r\n",
       "    background-color: rgba(3, 169, 244, .2);\r\n",
       "}\r\n",
       "\r\n",
       ".h5tb-var-list li > span {\r\n",
       "    display: inline-block;\r\n",
       "}\r\n",
       "\r\n",
       "input.h5tb-varname-in + label {\r\n",
       "    width: 140px;\r\n",
       "    padding-left: 0;\r\n",
       "    font-weight: bold;\r\n",
       "}\r\n",
       "\r\n",
       ".h5tb-dataset {\r\n",
       "    width: 100px;\r\n",
       "}\r\n",
       "\r\n",
       ".h5tb-attributevalue {\r\n",
       "    width: 100px;\r\n",
       "    text-align: left;\r\n",
       "    color: #888;\r\n",
       "    white-space: nowrap;\r\n",
       "    font-size: 12px;\r\n",
       "}\r\n",
       "\r\n",
       "input.h5tb-varname-in + label:before {\r\n",
       "    content: ' ';\r\n",
       "    display: inline-block;\r\n",
       "    font-size: 11px;\r\n",
       "    width: 15px;\r\n",
       "    padding-left: 2px;\r\n",
       "    padding-right: 2px;\r\n",
       "    text-align: center;\r\n",
       "    color: #aaa;\r\n",
       "    text-decoration: none !important;\r\n",
       "}\r\n",
       "\r\n",
       "input.h5tb-varname-in:enabled + label:hover:before {\r\n",
       "    color: #000;\r\n",
       "}\r\n",
       "\r\n",
       "input.h5tb-varname-in:checked + label:before {\r\n",
       "    color: #ccc;\r\n",
       "}\r\n",
       "\r\n",
       ".h5tb-dims {\r\n",
       "    width: 280px;\r\n",
       "    white-space: nowrap;\r\n",
       "}\r\n",
       "\r\n",
       "\r\n",
       ".h5tb-unit {\r\n",
       "    width: 96px;\r\n",
       "    white-space: nowrap;\r\n",
       "    padding-right: 2px;\r\n",
       "    text-align: right;\r\n",
       "    color: #555;\r\n",
       "    font-style: italic;\r\n",
       "}\r\n",
       "\r\n",
       ".h5tb-attr-list {\r\n",
       "    list-style: none;\r\n",
       "    background-color: #fff;\r\n",
       "    padding-bottom: 6px;\r\n",
       "    color: #555;\r\n",
       "}\r\n",
       "\r\n",
       ".h5tb-attr-list li,\r\n",
       ".h5tb-attr-list li:hover {\r\n",
       "    background-color: #fff;\r\n",
       "}\r\n",
       "\r\n",
       ".h5tb-dim-highlight {\r\n",
       "    background-color: rgba(3, 169, 244, .2);\r\n",
       "    cursor: pointer;\r\n",
       "}</style></head>\n",
       "<div class='h5tb-warp'>\n",
       "\n",
       "              <ul style=\"list-style-type: none;\" class=\"h5grp-sections\">\n",
       "                    <li>\n",
       "                        <input id=\"group-ds--5078446200\" type=\"checkbox\" checked>\n",
       "                        <label style=\"font-weight: bold\" for=\"group-ds--5078446200\">\n",
       "                        /<span>(0)</span></label>\n",
       "                  \n",
       "\n",
       "                    <ul class=\"h5tb-attr-list\"><li style=\"list-style-type: none; font-style: italic\">__h5rdmtoolbox_version__ : 0.8.0a0</li><li style=\"list-style-type: none; font-style: italic\">data_type : numerical</li>\n",
       "                    </ul>\n",
       "</li>\n",
       "</ul>\n",
       "</div>"
      ],
      "text/plain": [
       "<IPython.core.display.HTML object>"
      ]
     },
     "metadata": {},
     "output_type": "display_data"
    }
   ],
   "source": [
    "with h5tbx.File(data_type='numerical') as h5:\n",
    "    h5.dump()"
   ]
  },
  {
   "cell_type": "markdown",
   "id": "0c97f3ec-7db1-4c83-bfa5-31019455a690",
   "metadata": {},
   "source": [
    "If we provide a default value for \"data_type\" in the YAML file, it will not be required by the `__init__` method:"
   ]
  },
  {
   "cell_type": "code",
   "execution_count": 7,
   "id": "a709898e-5bac-4773-8dac-500210c962ba",
   "metadata": {},
   "outputs": [
    {
     "data": {
      "text/plain": [
       "\u001b[1mConvention(\"h5rdmtoolbox-tuturial-convention\")\u001b[0m\n",
       "contact: https://orcid.org/0000-0001-8729-0482\n",
       "  File.__init__():\n",
       "    * \u001b[3mdata_type\u001b[0m (default=None):\n",
       "\t\tType of data in file. Can be numerical or experimental"
      ]
     },
     "execution_count": 7,
     "metadata": {},
     "output_type": "execute_result"
    }
   ],
   "source": [
    "cv.properties[h5tbx.File]['data_type'].make_optional()\n",
    "h5tbx.use(None)\n",
    "h5tbx.use(cv)\n",
    "cv"
   ]
  },
  {
   "cell_type": "code",
   "execution_count": 8,
   "id": "cdfebdc5-3cd1-41c6-a370-ae1b884d9960",
   "metadata": {},
   "outputs": [
    {
     "data": {
      "text/html": [
       "<head><style>/*\r\n",
       "CSS inspired by xarray: https://github.com/pydata/xarray\r\n",
       "*/\r\n",
       ".h5tb-header > div,\r\n",
       ".h5tb-header > ul {\r\n",
       "    display: inline;\r\n",
       "    margin-top: 0;\r\n",
       "    margin-bottom: 0;\r\n",
       "}\r\n",
       "\r\n",
       ".h5tb-dataarray-cls,\r\n",
       ".h5tb-dataarray-name {\r\n",
       "    margin-left: 2px;\r\n",
       "    margin-right: 10px;\r\n",
       "}\r\n",
       "\r\n",
       ".h5tb-dataarray-name {\r\n",
       "    color: #000;\r\n",
       "}\r\n",
       "\r\n",
       ".h5grp-sections {\r\n",
       "    list-style: none;\r\n",
       "    padding: 3px;\r\n",
       "    margin: 0;\r\n",
       "}\r\n",
       "\r\n",
       ".h5grp-sections input {\r\n",
       "    display: none;\r\n",
       "}\r\n",
       "\r\n",
       ".h5grp-sections label {\r\n",
       "    display: inline;\r\n",
       "}\r\n",
       "\r\n",
       ".h5grp-sections > li > input + label > span {\r\n",
       "    display: inline;\r\n",
       "    margin-left: 4px;\r\n",
       "}\r\n",
       "\r\n",
       ".h5grp-sections > li > input:checked + label > span {\r\n",
       "    display: none;\r\n",
       "}\r\n",
       "\r\n",
       ".h5grp-sections input:enabled + label {\r\n",
       "    cursor: pointer;\r\n",
       "}\r\n",
       "\r\n",
       ".h5grp-sections input:not(.h5tb-values-in) ~ ul {\r\n",
       "    display: none;\r\n",
       "}\r\n",
       "\r\n",
       ".h5grp-sections input:not(.h5tb-values-in):checked ~ ul {\r\n",
       "    display: block;\r\n",
       "}\r\n",
       "\r\n",
       ".h5grp-sections > li > input + label {\r\n",
       "    width: 140px;\r\n",
       "    color: #555;\r\n",
       "    font-weight: 500;\r\n",
       "    padding: 4px 0 2px 0;\r\n",
       "}\r\n",
       "\r\n",
       "\r\n",
       ".h5grp-sections > li > input + label:before {\r\n",
       "    display: inline-block;\r\n",
       "    content: '+';\r\n",
       "    font-size: 11px;\r\n",
       "    width: 15px;\r\n",
       "    text-align: center;\r\n",
       "}\r\n",
       "\r\n",
       ".h5grp-sections > li > input:disabled + label:before {\r\n",
       "    color: #777;\r\n",
       "}\r\n",
       "\r\n",
       ".h5grp-sections > li > input:checked + label:before {\r\n",
       "    content: '-';\r\n",
       "}\r\n",
       "\r\n",
       ".h5tb-dim-list {\r\n",
       "    display: inline-block !important;\r\n",
       "    list-style: none;\r\n",
       "    padding: 0;\r\n",
       "}\r\n",
       "\r\n",
       ".h5tb-dim-list li {\r\n",
       "    display: inline-block;\r\n",
       "    padding: 0;\r\n",
       "    margin: 0;\r\n",
       "}\r\n",
       "\r\n",
       ".h5tb-dim-list:before {\r\n",
       "    content: '(';\r\n",
       "}\r\n",
       "\r\n",
       ".h5tb-dim-list:after {\r\n",
       "    content: ')';\r\n",
       "}\r\n",
       "\r\n",
       ".h5tb-dim-list li:not(:last-child):after {\r\n",
       "    content: ',';\r\n",
       "}\r\n",
       "\r\n",
       ".h5tb-has-index {\r\n",
       "    text-decoration: underline;\r\n",
       "}\r\n",
       "\r\n",
       ".h5tb-var-list {\r\n",
       "    list-style: none;\r\n",
       "    padding: 0;\r\n",
       "    margin: 0;\r\n",
       "}\r\n",
       "\r\n",
       ".h5tb-var-list > li {\r\n",
       "    background-color: #fcfcfc;\r\n",
       "    overflow: hidden;\r\n",
       "}\r\n",
       "\r\n",
       ".h5tb-var-list > li:nth-child(odd) {\r\n",
       "    background-color: #efefef;\r\n",
       "}\r\n",
       "\r\n",
       ".h5tb-var-list li:hover {\r\n",
       "    background-color: rgba(3, 169, 244, .2);\r\n",
       "}\r\n",
       "\r\n",
       ".h5tb-var-list li > span {\r\n",
       "    display: inline-block;\r\n",
       "}\r\n",
       "\r\n",
       "input.h5tb-varname-in + label {\r\n",
       "    width: 140px;\r\n",
       "    padding-left: 0;\r\n",
       "    font-weight: bold;\r\n",
       "}\r\n",
       "\r\n",
       ".h5tb-dataset {\r\n",
       "    width: 100px;\r\n",
       "}\r\n",
       "\r\n",
       ".h5tb-attributevalue {\r\n",
       "    width: 100px;\r\n",
       "    text-align: left;\r\n",
       "    color: #888;\r\n",
       "    white-space: nowrap;\r\n",
       "    font-size: 12px;\r\n",
       "}\r\n",
       "\r\n",
       "input.h5tb-varname-in + label:before {\r\n",
       "    content: ' ';\r\n",
       "    display: inline-block;\r\n",
       "    font-size: 11px;\r\n",
       "    width: 15px;\r\n",
       "    padding-left: 2px;\r\n",
       "    padding-right: 2px;\r\n",
       "    text-align: center;\r\n",
       "    color: #aaa;\r\n",
       "    text-decoration: none !important;\r\n",
       "}\r\n",
       "\r\n",
       "input.h5tb-varname-in:enabled + label:hover:before {\r\n",
       "    color: #000;\r\n",
       "}\r\n",
       "\r\n",
       "input.h5tb-varname-in:checked + label:before {\r\n",
       "    color: #ccc;\r\n",
       "}\r\n",
       "\r\n",
       ".h5tb-dims {\r\n",
       "    width: 280px;\r\n",
       "    white-space: nowrap;\r\n",
       "}\r\n",
       "\r\n",
       "\r\n",
       ".h5tb-unit {\r\n",
       "    width: 96px;\r\n",
       "    white-space: nowrap;\r\n",
       "    padding-right: 2px;\r\n",
       "    text-align: right;\r\n",
       "    color: #555;\r\n",
       "    font-style: italic;\r\n",
       "}\r\n",
       "\r\n",
       ".h5tb-attr-list {\r\n",
       "    list-style: none;\r\n",
       "    background-color: #fff;\r\n",
       "    padding-bottom: 6px;\r\n",
       "    color: #555;\r\n",
       "}\r\n",
       "\r\n",
       ".h5tb-attr-list li,\r\n",
       ".h5tb-attr-list li:hover {\r\n",
       "    background-color: #fff;\r\n",
       "}\r\n",
       "\r\n",
       ".h5tb-dim-highlight {\r\n",
       "    background-color: rgba(3, 169, 244, .2);\r\n",
       "    cursor: pointer;\r\n",
       "}</style></head>\n",
       "<div class='h5tb-warp'>\n",
       "\n",
       "              <ul style=\"list-style-type: none;\" class=\"h5grp-sections\">\n",
       "                    <li>\n",
       "                        <input id=\"group-ds--5108848700\" type=\"checkbox\" checked>\n",
       "                        <label style=\"font-weight: bold\" for=\"group-ds--5108848700\">\n",
       "                        /<span>(0)</span></label>\n",
       "                  \n",
       "\n",
       "                    <ul class=\"h5tb-attr-list\"><li style=\"list-style-type: none; font-style: italic\">__h5rdmtoolbox_version__ : 0.8.0a0</li>\n",
       "                    </ul>\n",
       "</li>\n",
       "</ul>\n",
       "</div>"
      ],
      "text/plain": [
       "<IPython.core.display.HTML object>"
      ]
     },
     "metadata": {},
     "output_type": "display_data"
    }
   ],
   "source": [
    "with h5tbx.File() as h5:\n",
    "    h5.dump()"
   ]
  },
  {
   "cell_type": "code",
   "execution_count": 9,
   "id": "79efb889-ff4c-4b8e-99a9-782d3bd4a4f5",
   "metadata": {},
   "outputs": [
    {
     "name": "stdout",
     "output_type": "stream",
     "text": [
      "Setting \"observational\" for standard attribute \"data_type\" failed. Original error: The value \"observational\" is not in ['experimental', 'numerical']. Expecting one of these: ['experimental', 'numerical']\n"
     ]
    }
   ],
   "source": [
    "try:\n",
    "    with h5tbx.File() as h5:\n",
    "        h5.data_type='observational'\n",
    "except h5tbx.errors.StandardAttributeError as e:\n",
    "    print(e)"
   ]
  },
  {
   "cell_type": "code",
   "execution_count": 10,
   "id": "73415654-05b1-4d85-a8f5-51398fdd7b93",
   "metadata": {},
   "outputs": [],
   "source": [
    "with h5tbx.File() as h5:\n",
    "    h5.data_type='experimental'"
   ]
  },
  {
   "cell_type": "code",
   "execution_count": 11,
   "id": "bf11845b-2d89-448e-b92c-f487068e73e3",
   "metadata": {},
   "outputs": [
    {
     "ename": "SyntaxError",
     "evalue": "invalid syntax (1241381794.py, line 1)",
     "output_type": "error",
     "traceback": [
      "\u001b[1;36m  Cell \u001b[1;32mIn[11], line 1\u001b[1;36m\u001b[0m\n\u001b[1;33m    -------------\u001b[0m\n\u001b[1;37m                 ^\u001b[0m\n\u001b[1;31mSyntaxError\u001b[0m\u001b[1;31m:\u001b[0m invalid syntax\n"
     ]
    }
   ],
   "source": [
    "-------------"
   ]
  },
  {
   "cell_type": "markdown",
   "id": "87a89abc-c0eb-4445-ae8e-2040eee115d0",
   "metadata": {},
   "source": [
    "## The Standard Attribute\n",
    "\n",
    "Suppose, we would like users to write the attribute \"data_type\" in the root group of each file. The user has two valid options for the value of the attribute: 'numerical' or 'experimental'."
   ]
  },
  {
   "cell_type": "code",
   "execution_count": null,
   "id": "69f0aa53-7a82-4106-8811-edfab9e630d4",
   "metadata": {},
   "outputs": [],
   "source": [
    "data_type = h5tbx.conventions.StandardAttribute(\n",
    "    name='data_type',\n",
    "    validator={'$in': ['numerical', 'experimental']},\n",
    "    target_methods='__init__',\n",
    "    description='Type of data. Can be numerical or experimental'\n",
    ")\n",
    "data_type"
   ]
  },
  {
   "cell_type": "code",
   "execution_count": null,
   "id": "25324037-6d90-43eb-a3f1-702f3e213dbf",
   "metadata": {},
   "outputs": [],
   "source": [
    "data_type.to_dict()"
   ]
  },
  {
   "cell_type": "code",
   "execution_count": null,
   "id": "e00b22f3-df6e-4171-87ff-b708bb0a3133",
   "metadata": {},
   "outputs": [],
   "source": [
    "dwadawd"
   ]
  },
  {
   "cell_type": "code",
   "execution_count": null,
   "id": "103799c3-c124-43d7-9d8e-e477715978d5",
   "metadata": {},
   "outputs": [],
   "source": [
    "comment = h5tbx.conventions.StandardAttribute(\n",
    "    name='comment',\n",
    "    validator={'$regex': \"^[A-Z].*$\"},\n",
    "    target_methods=('__init__', 'create_dataset','create_group'),\n",
    "    description='Additional information about the file'\n",
    ")\n",
    "comment"
   ]
  },
  {
   "cell_type": "markdown",
   "id": "fffca28f-1840-42e4-a672-b8292554f611",
   "metadata": {},
   "source": [
    "## Standard attributes\n",
    "\n",
    "Based on the figure above, we need to define two standard attributes. The first one is called \"units\" and becomes relevant, when a user creates a new dataset. The second one is called \"comment\" and can be passed during file, dataset or group creation. This attribute is optional while \"units\" is mandatory.\n",
    "\n",
    "**The comment attribute:**\n",
    "The module `h5tbx.conventions` provides the class `StandardAttribute`. It requires the `name`, a `validator`, information about where to apply the standard attribute (`method`) and a `description`:"
   ]
  },
  {
   "cell_type": "code",
   "execution_count": null,
   "id": "065706e0-25a6-47c1-872f-9e2ccb327a5f",
   "metadata": {},
   "outputs": [],
   "source": [
    "comment = h5tbx.conventions.StandardAttribute(\n",
    "    name='comment',\n",
    "    validator={'$regex': \"^[A-Z].*$\"},\n",
    "    target_methods=('__init__', 'create_dataset','create_group'),\n",
    "    description='Additional information about the file'\n",
    ")\n",
    "comment"
   ]
  },
  {
   "cell_type": "markdown",
   "id": "d88451d2-de12-4943-9e92-187f34ef35b0",
   "metadata": {},
   "source": [
    "The `validator` used here is regular expression. This means, that the user input is matched with the given pattern ('^[A-Z].*$')\n",
    "\n",
    "For the \"units\"-attribute, we use another already implemented `validator`, namely \"$pintunits\":"
   ]
  },
  {
   "cell_type": "markdown",
   "id": "16d1bf85-d2bc-42d5-b597-8944d2956d6f",
   "metadata": {},
   "source": [
    "The second standardized attribute is called \"contact\". The attribute is mandatory for the root group and be one or multiple researcher IDs (ORCID IDs). To check, whether the ORCID ID is valid, the built-in `Validator` \"$orcid\" is used:"
   ]
  },
  {
   "cell_type": "code",
   "execution_count": null,
   "id": "e4d7a2f4-70bf-4e0c-846a-5f5c6774f4b8",
   "metadata": {},
   "outputs": [],
   "source": [
    "units = h5tbx.conventions.StandardAttribute(\n",
    "    name='units',\n",
    "    validator='$pintunit',\n",
    "    target_methods='create_dataset',\n",
    "    description='The physical units of the dataset'\n",
    ")\n",
    "units"
   ]
  },
  {
   "cell_type": "markdown",
   "id": "f26a7ae5-d62a-4a3c-984e-a2f871f86634",
   "metadata": {},
   "source": [
    "### Validators\n",
    "\n",
    "The following `validators` are availbale:"
   ]
  },
  {
   "cell_type": "code",
   "execution_count": null,
   "id": "7f903aeb-720c-4bcf-bf2e-df862af4d531",
   "metadata": {},
   "outputs": [],
   "source": [
    "list(h5tbx.conventions.standard_attributes.av_validators.keys())"
   ]
  },
  {
   "cell_type": "markdown",
   "id": "17593af3-5e88-407f-8fb4-c41d356e330e",
   "metadata": {},
   "source": [
    "Some validators **require reference values**. One example would be the `$in`-validator, where a list of expected values must be provided. To find out how a validator is used, call the help for the respected validator:"
   ]
  },
  {
   "cell_type": "code",
   "execution_count": null,
   "id": "9db40eab-54d5-488c-bc1c-f971e9276f29",
   "metadata": {},
   "outputs": [],
   "source": [
    "help(h5tbx.conventions.standard_attributes.av_validators['$in'])"
   ]
  },
  {
   "cell_type": "markdown",
   "id": "01e48111-ff31-4b17-959d-011c6e6be8af",
   "metadata": {},
   "source": [
    "## Conventions: Enable standard attributes\n",
    "\n",
    "Conventions contain one or multiple standard attributes. Below, we create one with the prior defined attributes:"
   ]
  },
  {
   "cell_type": "code",
   "execution_count": null,
   "id": "0a36a447-4120-4bd2-a598-7ca4b4f8114d",
   "metadata": {},
   "outputs": [],
   "source": [
    "# provide a name and an ORCID for the creator(s) of the convention:\n",
    "my_convention = h5tbx.conventions.Convention('my_convention',\n",
    "                                            contact='https://orcid.org/0000-0001-8729-0482')\n",
    "my_convention.add(comment)\n",
    "my_convention.add(units)\n",
    "\n",
    "my_convention.register() # only now we an enable it\n",
    "\n",
    "h5tbx.use('my_convention')  # enable the convention\n",
    "\n",
    "# print an overview:\n",
    "my_convention"
   ]
  },
  {
   "cell_type": "markdown",
   "id": "14eccf60-82ef-40d5-ada2-2766525e75cc",
   "metadata": {},
   "source": [
    "Let's convince, if the signatures of `__init__`, `create_group` and `create_dataset` changed:"
   ]
  },
  {
   "cell_type": "code",
   "execution_count": null,
   "id": "db15844d-7aa1-4126-8698-3416038c448c",
   "metadata": {},
   "outputs": [],
   "source": [
    "import inspect\n",
    "\n",
    "methods = (h5tbx.File.__init__, h5tbx.Group.create_group, h5tbx.Group.create_dataset)\n",
    "\n",
    "for method in methods:\n",
    "    print(f'\\nParameters for \"{method.__name__}\":')\n",
    "    for param in inspect.signature(method).parameters.values():\n",
    "        if not param.name == 'self':\n",
    "            if param.name in ('contact', 'comment'):\n",
    "                print(f'  - {h5tbx._repr.make_bold(param.name)}')\n",
    "            else:\n",
    "                print(f'  - {param.name}')"
   ]
  },
  {
   "cell_type": "markdown",
   "id": "6b577fb9-d121-4259-bf08-34c74daa15c6",
   "metadata": {},
   "source": [
    "The docstrings of the methods also changed. Call `help()` on them:"
   ]
  },
  {
   "cell_type": "code",
   "execution_count": null,
   "id": "4bce991c-c5c5-4a27-822a-f2d2ef8a4dbf",
   "metadata": {},
   "outputs": [],
   "source": [
    "help(h5tbx.File.__init__)"
   ]
  },
  {
   "cell_type": "code",
   "execution_count": null,
   "id": "25c0279b-5b64-4016-b970-c48457033d93",
   "metadata": {},
   "outputs": [],
   "source": [
    "help(h5tbx.Group.create_dataset)"
   ]
  },
  {
   "cell_type": "markdown",
   "id": "faec49af-efbf-49b0-bd69-b5160fb1ba8f",
   "metadata": {},
   "source": [
    "## Working with the convention "
   ]
  },
  {
   "cell_type": "markdown",
   "id": "19b64be9-f3f2-4184-a379-c82b66459d38",
   "metadata": {},
   "source": [
    "First we test the comment attribute:\n",
    "\n",
    "A wrong or missing input will raise an error:"
   ]
  },
  {
   "cell_type": "code",
   "execution_count": null,
   "id": "6cb0378a-3929-4c86-b1b9-ce20bcd3b29c",
   "metadata": {},
   "outputs": [],
   "source": [
    "try:\n",
    "    with h5tbx.File(comment='123') as h5:\n",
    "        h5.dump()\n",
    "except Exception as e:\n",
    "    print(e)"
   ]
  },
  {
   "cell_type": "markdown",
   "id": "a79c7e27-c97d-4ef8-9121-98088c142a22",
   "metadata": {},
   "source": [
    "Unexpected parameters to the methods, will raise an error:"
   ]
  },
  {
   "cell_type": "code",
   "execution_count": null,
   "id": "327bed5d-2dd4-4523-a6f7-7de52bc1aed9",
   "metadata": {},
   "outputs": [],
   "source": [
    "try:\n",
    "    with h5tbx.File(contact='https://orcid.org/0000-0001-8729-0482',\n",
    "                    comment='123') as h5:\n",
    "        h5.dump()\n",
    "except Exception as e:\n",
    "    print(e)"
   ]
  },
  {
   "cell_type": "markdown",
   "id": "88b45e4c-59a8-4120-830a-0fb62387509d",
   "metadata": {},
   "source": [
    "This is correct:"
   ]
  },
  {
   "cell_type": "code",
   "execution_count": null,
   "id": "703629c4-1f49-48ff-b067-d40881995a62",
   "metadata": {},
   "outputs": [],
   "source": [
    "with h5tbx.File(comment='My first file') as h5:\n",
    "    h5.dump()"
   ]
  },
  {
   "cell_type": "markdown",
   "id": "a709757a-1723-4752-bf9b-bb2953795bc6",
   "metadata": {},
   "source": [
    "Next we test the units attribute:"
   ]
  },
  {
   "cell_type": "code",
   "execution_count": null,
   "id": "51055af8-07a3-4b18-b0de-5798b3bf95fb",
   "metadata": {},
   "outputs": [],
   "source": [
    "with h5tbx.File(comment='My first file') as h5:\n",
    "    h5.create_dataset('velocity', data=1.3, units='m/s', comment='Hello')\n",
    "    h5.dump()"
   ]
  },
  {
   "cell_type": "markdown",
   "id": "da62c833-4391-4abe-85c6-36c53a3f5b62",
   "metadata": {},
   "source": [
    "## Import a convention\n",
    "\n",
    "Conventions are defined for a project. Standard attributes can be defined in a single or multiple YAML files. Those files can be loaded into the current work from a local storage or a remote web resource. We first take a look at loading a local definition of standard names."
   ]
  },
  {
   "cell_type": "markdown",
   "id": "9841cdca-6709-4d6e-b918-509aec7de76a",
   "metadata": {},
   "source": [
    "### Load a local convention"
   ]
  },
  {
   "cell_type": "code",
   "execution_count": null,
   "id": "58bad9ae-3a53-4812-b631-f66313823d4c",
   "metadata": {},
   "outputs": [],
   "source": [
    "from h5rdmtoolbox import tutorial"
   ]
  },
  {
   "cell_type": "code",
   "execution_count": null,
   "id": "7b42b60d-b035-44f2-a70f-835febab2310",
   "metadata": {},
   "outputs": [],
   "source": [
    "convention_filename = tutorial.get_standard_attribute_yaml_filename()\n",
    "\n",
    "local_cv = h5tbx.conventions.Convention.from_yaml(convention_filename)\n",
    "local_cv.register()\n",
    "local_cv"
   ]
  },
  {
   "cell_type": "code",
   "execution_count": null,
   "id": "3269478b-8d74-4b5c-a7e6-bacd984313aa",
   "metadata": {},
   "outputs": [],
   "source": [
    "h5tbx.use(local_cv)"
   ]
  },
  {
   "cell_type": "code",
   "execution_count": null,
   "id": "8de7c963-cb65-4922-a8fb-ed4a8f67c1ef",
   "metadata": {},
   "outputs": [],
   "source": [
    "with h5tbx.File(contact='https://orcid.org/0000-0001-8729-0482', mode='r') as h5:\n",
    "    h5.dump()"
   ]
  },
  {
   "cell_type": "markdown",
   "id": "c357e8dc-8ab2-4c3c-a099-d3e3106befd9",
   "metadata": {},
   "source": [
    "### Load a remote convention\n",
    "\n",
    "This is generally done only once a due to some revisions a few time. Such a conventions therefore needs to get a version or evene better a persistent identifier like a DOI.\n",
    "\n",
    "The toolbox suggests using Zenodo as a repository. The following shows, how a convention, wich was uploaded to Zenodo can be integrated into the user's workflow.\n",
    "\n",
    "The example convention is registered under the DOI 123123 on Zenodo. It contains multiple \\*.yaml-files."
   ]
  },
  {
   "cell_type": "code",
   "execution_count": null,
   "id": "a3cc688a-088e-4e3e-9d06-4abb834c8978",
   "metadata": {},
   "outputs": [],
   "source": [
    "cv = h5tbx.conventions.from_zenodo(doi='8276817')\n",
    "h5tbx.use(cv)  # enable the downloaded convention"
   ]
  },
  {
   "cell_type": "markdown",
   "id": "254bd8ff-1d4f-4e20-aed9-0d488615d284",
   "metadata": {},
   "source": [
    "## List of available conventions\n",
    "\n",
    "It is possible to register conventions, which is the list of standard attributes for the respective HDF objects. A list can be optained by the dictionary `conventons.registered_conventions`:"
   ]
  },
  {
   "cell_type": "code",
   "execution_count": null,
   "id": "b3382d99-6c5e-4d81-8894-a95eb8364dd4",
   "metadata": {
    "tags": []
   },
   "outputs": [],
   "source": [
    "h5tbx.conventions.get_registered_conventions()"
   ]
  },
  {
   "cell_type": "code",
   "execution_count": null,
   "id": "fd164f42-166d-41ed-bcd4-c61add4d68c9",
   "metadata": {},
   "outputs": [],
   "source": []
  }
 ],
 "metadata": {
  "kernelspec": {
   "display_name": "Python 3 (ipykernel)",
   "language": "python",
   "name": "python3"
  },
  "language_info": {
   "codemirror_mode": {
    "name": "ipython",
    "version": 3
   },
   "file_extension": ".py",
   "mimetype": "text/x-python",
   "name": "python",
   "nbconvert_exporter": "python",
   "pygments_lexer": "ipython3",
   "version": "3.8.17"
  }
 },
 "nbformat": 4,
 "nbformat_minor": 5
}
