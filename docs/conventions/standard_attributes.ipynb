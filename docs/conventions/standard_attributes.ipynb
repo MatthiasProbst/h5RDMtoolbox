{
 "cells": [
  {
   "cell_type": "markdown",
   "id": "dfd4ad67-62a4-44e2-be29-d50f8ff09310",
   "metadata": {},
   "source": [
    "# Standard Attributes and Conventions\n",
    "\n",
    "Data alone is meaningless. Only if it is associated with auxiliary data (metadata) it becomes interpretable and (re-)usable for others users or machines. In HDF5 files, this is realized by using **attributes**, which are assigned to groups or datasets. For a certain application, one would like to have specific values for specific attributes. HDF5 does not allow implementing such rules.\n",
    "\n",
    "## Nomenclature\n",
    "The `h5RDmtoolbox` lets you specify rules for those special attributes. We will call those attributes **standard attributes**, because inputs must comply to a certain standard (rule or set of rules). One or multiple standard attributes are called a **convention**.\n",
    "\n",
    "<!-- If an attribute is addressed by the user, e.g. the attribute `units`, and a standard attribute implementation exists for this name, then the value is processed by the respective rule and the attribute is set or an error is raised in case of a invalid input.\n",
    "\n",
    "Standard attributes can be made required **during dataset creation** for instance. This enforces users to pass certain meta information and validates it at the same time. Consequently data becomes re-usable and explorable.\n",
    "\n",
    "Additionally, so-called [layouts](./layouts.ipynb) can be defined, too. They are used to specify the content of an HDF5 file after it has been written. This concept applies best during file exchange as the layout validates if a file is complete and meets the expertation of the project or collaborative user. -->\n",
    "\n",
    "## Concept\n",
    "The figure below illustrates the general concept. Standard attributes are defined by the user and added to a convention. A registered convention is activated by calling `.use(<name of convention>)`. By doing so, the signature of the methods `create_dataset`, `create_group` and `__init__` are modified according to the generated standard attributes. Moreover, the docstring will be updated, too, as we will see later.\n",
    "\n",
    "\n",
    "<img src=concept_of_std_attrs.png width=800px>\n",
    "\n",
    "\n",
    "Let's see how this is done in practice:"
   ]
  },
  {
   "cell_type": "code",
   "execution_count": 1,
   "id": "dc410573-dd0d-4e2e-a513-49607fcfe6cd",
   "metadata": {
    "tags": []
   },
   "outputs": [
    {
     "name": "stderr",
     "output_type": "stream",
     "text": [
      "C:\\Users\\da4323\\Documents\\programming\\GitHub\\h5RDMtoolbox\\h5rdmtoolbox\\conventions\\standard_attributes\\__init__.py:167: UserWarning: Ignoring parameter \"optional\"\n",
      "  warnings.warn(f'Ignoring parameter \"{k}\"', UserWarning)\n"
     ]
    }
   ],
   "source": [
    "import h5rdmtoolbox as h5tbx"
   ]
  },
  {
   "cell_type": "markdown",
   "id": "fffca28f-1840-42e4-a672-b8292554f611",
   "metadata": {},
   "source": [
    "## Standard attributes\n",
    "\n",
    "Based on the figure above, we need to define two standard attributes. The first one is called \"units\" and becomes relevant, when a user creates a new dataset. The second one is called \"comment\" and can be passed during file, dataset or group creation. This attribute is optional while \"units\" is mandatory.\n",
    "\n",
    "**The comment attribute:**\n",
    "The module `h5tbx.conventions` provides the class `StandardAttribute`. It requires the `name`, a `validator`, information about where to apply the standard attribute (`method`) and a `description`:"
   ]
  },
  {
   "cell_type": "code",
   "execution_count": 2,
   "id": "065706e0-25a6-47c1-872f-9e2ccb327a5f",
   "metadata": {},
   "outputs": [
    {
     "data": {
      "text/plain": [
       "<PositionalStdAttr(\"comment\"): \"Additional information about the file\">"
      ]
     },
     "execution_count": 2,
     "metadata": {},
     "output_type": "execute_result"
    }
   ],
   "source": [
    "comment = h5tbx.conventions.StandardAttribute(\n",
    "    name='comment',\n",
    "    validator={'$regex': \"^[A-Z].*$\"},\n",
    "    target_methods=('__init__', 'create_dataset','create_group'),\n",
    "    description='Additional information about the file'\n",
    ")\n",
    "comment"
   ]
  },
  {
   "cell_type": "markdown",
   "id": "d88451d2-de12-4943-9e92-187f34ef35b0",
   "metadata": {},
   "source": [
    "The `validator` used here is regular expression. This means, that the user input is matched with the given pattern ('^[A-Z].*$')\n",
    "\n",
    "For the \"units\"-attribute, we use another already implemented `validator`, namely \"$pintunits\":"
   ]
  },
  {
   "cell_type": "markdown",
   "id": "16d1bf85-d2bc-42d5-b597-8944d2956d6f",
   "metadata": {},
   "source": [
    "The second standardized attribute is called \"contact\". The attribute is mandatory for the root group and be one or multiple researcher IDs (ORCID IDs). To check, whether the ORCID ID is valid, the built-in `Validator` \"$orcid\" is used:"
   ]
  },
  {
   "cell_type": "code",
   "execution_count": 3,
   "id": "e4d7a2f4-70bf-4e0c-846a-5f5c6774f4b8",
   "metadata": {},
   "outputs": [
    {
     "data": {
      "text/plain": [
       "<PositionalStdAttr(\"units\"): \"The physical units of the dataset\">"
      ]
     },
     "execution_count": 3,
     "metadata": {},
     "output_type": "execute_result"
    }
   ],
   "source": [
    "units = h5tbx.conventions.StandardAttribute(\n",
    "    name='units',\n",
    "    validator='$pintunit',\n",
    "    target_methods='create_dataset',\n",
    "    description='The physical units of the dataset'\n",
    ")\n",
    "units"
   ]
  },
  {
   "cell_type": "markdown",
   "id": "f26a7ae5-d62a-4a3c-984e-a2f871f86634",
   "metadata": {},
   "source": [
    "### Validators\n",
    "\n",
    "The following `validators` are availbale:"
   ]
  },
  {
   "cell_type": "code",
   "execution_count": 4,
   "id": "7f903aeb-720c-4bcf-bf2e-df862af4d531",
   "metadata": {},
   "outputs": [
    {
     "data": {
      "text/plain": [
       "['$type',\n",
       " '$in',\n",
       " '$regex',\n",
       " '$pintunit',\n",
       " '$pintquantity',\n",
       " '$orcid',\n",
       " '$url',\n",
       " '$ref',\n",
       " '$bibtex',\n",
       " '$standard_name',\n",
       " '$standard_name_table',\n",
       " '$minlength',\n",
       " '$maxlength']"
      ]
     },
     "execution_count": 4,
     "metadata": {},
     "output_type": "execute_result"
    }
   ],
   "source": [
    "list(h5tbx.conventions.standard_attributes.av_validators.keys())"
   ]
  },
  {
   "cell_type": "markdown",
   "id": "17593af3-5e88-407f-8fb4-c41d356e330e",
   "metadata": {},
   "source": [
    "Some validators **require reference values**. One example would be the `$in`-validator, where a list of expected values must be provided. To find out how a validator is used, call the help for the respected validator:"
   ]
  },
  {
   "cell_type": "code",
   "execution_count": 5,
   "id": "9db40eab-54d5-488c-bc1c-f971e9276f29",
   "metadata": {},
   "outputs": [
    {
     "name": "stdout",
     "output_type": "stream",
     "text": [
      "Help on class InValidator in module h5rdmtoolbox.conventions.standard_attributes.validators.core:\n",
      "\n",
      "class InValidator(h5rdmtoolbox.conventions.standard_attributes.validators.StandardAttributeValidator)\n",
      " |  InValidator(expectation: List[str])\n",
      " |  \n",
      " |  Validates if the attribute value is in the list of expected values.\n",
      " |  During definition, the list of expected values is passed as a list of strings,\n",
      " |  see the example usage below, where the validator is used in the standard\n",
      " |  attribute \"data_source\"\n",
      " |  \n",
      " |  Parameters\n",
      " |  ----------\n",
      " |  expectation: List[str]\n",
      " |      List of expected values\n",
      " |  \n",
      " |  Example\n",
      " |  -------\n",
      " |  >>> import h5rdmtoolbox as h5tbx\n",
      " |  >>> data_source = h5tbx.conventions.StandardAttribute(\n",
      " |  >>>         name='units',\n",
      " |  >>>         validator={'$in': ['numerical', 'experimental', 'analytical']},\n",
      " |  >>>         method='__init__'\n",
      " |  >>>         description='The source of data'\n",
      " |  >>>     )\n",
      " |  \n",
      " |  Method resolution order:\n",
      " |      InValidator\n",
      " |      h5rdmtoolbox.conventions.standard_attributes.validators.StandardAttributeValidator\n",
      " |      builtins.object\n",
      " |  \n",
      " |  Methods defined here:\n",
      " |  \n",
      " |  __call__(self, value, parent)\n",
      " |      Call self as a function.\n",
      " |  \n",
      " |  __init__(self, expectation: List[str])\n",
      " |      Initialize self.  See help(type(self)) for accurate signature.\n",
      " |  \n",
      " |  ----------------------------------------------------------------------\n",
      " |  Data descriptors inherited from h5rdmtoolbox.conventions.standard_attributes.validators.StandardAttributeValidator:\n",
      " |  \n",
      " |  __dict__\n",
      " |      dictionary for instance variables (if defined)\n",
      " |  \n",
      " |  __weakref__\n",
      " |      list of weak references to the object (if defined)\n",
      "\n"
     ]
    }
   ],
   "source": [
    "help(h5tbx.conventions.standard_attributes.av_validators['$in'])"
   ]
  },
  {
   "cell_type": "markdown",
   "id": "01e48111-ff31-4b17-959d-011c6e6be8af",
   "metadata": {},
   "source": [
    "## Conventions: Enable standard attributes\n",
    "\n",
    "Conventions contain one or multiple standard attributes. Below, we create one with the prior defined attributes:"
   ]
  },
  {
   "cell_type": "code",
   "execution_count": 6,
   "id": "0a36a447-4120-4bd2-a598-7ca4b4f8114d",
   "metadata": {},
   "outputs": [
    {
     "data": {
      "text/plain": [
       "\u001b[1mConvention(\"my_convention\")\u001b[0m\n",
       "contact: https://orcid.org/0000-0001-8729-0482\n",
       "  File.__init__():\n",
       "    * \u001b[1mcomment\u001b[0m (default=DefaultValue.EMPTY):\n",
       "\t\tAdditional information about the file\n",
       "  Group.create_dataset():\n",
       "    * \u001b[1mcomment\u001b[0m (default=DefaultValue.EMPTY):\n",
       "\t\tAdditional information about the file\n",
       "    * \u001b[1munits\u001b[0m (default=DefaultValue.EMPTY):\n",
       "\t\tThe physical units of the dataset\n",
       "  Group.create_group():\n",
       "    * \u001b[1mcomment\u001b[0m (default=DefaultValue.EMPTY):\n",
       "\t\tAdditional information about the file"
      ]
     },
     "execution_count": 6,
     "metadata": {},
     "output_type": "execute_result"
    }
   ],
   "source": [
    "# provide a name and an ORCID for the creator(s) of the convention:\n",
    "my_convention = h5tbx.conventions.Convention('my_convention',\n",
    "                                            contact='https://orcid.org/0000-0001-8729-0482')\n",
    "my_convention.add(comment)\n",
    "my_convention.add(units)\n",
    "\n",
    "my_convention.register() # only now we an enable it\n",
    "\n",
    "h5tbx.use('my_convention')  # enable the convention\n",
    "\n",
    "# print an overview:\n",
    "my_convention"
   ]
  },
  {
   "cell_type": "markdown",
   "id": "14eccf60-82ef-40d5-ada2-2766525e75cc",
   "metadata": {},
   "source": [
    "Let's convince, if the signatures of `__init__`, `create_group` and `create_dataset` changed:"
   ]
  },
  {
   "cell_type": "code",
   "execution_count": 7,
   "id": "db15844d-7aa1-4126-8698-3416038c448c",
   "metadata": {},
   "outputs": [
    {
     "name": "stdout",
     "output_type": "stream",
     "text": [
      "\n",
      "Parameters for \"__init__\":\n",
      "  - name\n",
      "  - mode\n",
      "  - layout\n",
      "  - attrs\n",
      "  - \u001b[1mcomment\u001b[0m\n",
      "  - kwargs\n",
      "\n",
      "Parameters for \"create_group\":\n",
      "  - name\n",
      "  - overwrite\n",
      "  - attrs\n",
      "  - update_attrs\n",
      "  - track_order\n",
      "  - \u001b[1mcomment\u001b[0m\n",
      "  - kwargs\n",
      "\n",
      "Parameters for \"create_dataset\":\n",
      "  - name\n",
      "  - shape\n",
      "  - dtype\n",
      "  - data\n",
      "  - overwrite\n",
      "  - chunks\n",
      "  - make_scale\n",
      "  - attach_scales\n",
      "  - ancillary_datasets\n",
      "  - attrs\n",
      "  - \u001b[1mcomment\u001b[0m\n",
      "  - units\n",
      "  - kwargs\n"
     ]
    }
   ],
   "source": [
    "import inspect\n",
    "\n",
    "methods = (h5tbx.File.__init__, h5tbx.Group.create_group, h5tbx.Group.create_dataset)\n",
    "\n",
    "for method in methods:\n",
    "    print(f'\\nParameters for \"{method.__name__}\":')\n",
    "    for param in inspect.signature(method).parameters.values():\n",
    "        if not param.name == 'self':\n",
    "            if param.name in ('contact', 'comment'):\n",
    "                print(f'  - {h5tbx._repr.make_bold(param.name)}')\n",
    "            else:\n",
    "                print(f'  - {param.name}')"
   ]
  },
  {
   "cell_type": "markdown",
   "id": "6b577fb9-d121-4259-bf08-34c74daa15c6",
   "metadata": {},
   "source": [
    "The docstrings of the methods also changed. Call `help()` on them:"
   ]
  },
  {
   "cell_type": "code",
   "execution_count": 8,
   "id": "4bce991c-c5c5-4a27-822a-f2d2ef8a4dbf",
   "metadata": {},
   "outputs": [
    {
     "name": "stdout",
     "output_type": "stream",
     "text": [
      "Help on function __init__ in module h5rdmtoolbox.wrapper.core:\n",
      "\n",
      "__init__(self, name: pathlib.Path = None, mode: str = None, layout: Union[pathlib.Path, str, h5rdmtoolbox.conventions.layout.core.Layout, NoneType] = None, attrs: Dict = None, comment='None', **kwargs)\n",
      "    Main wrapper around h5py.File.\n",
      "    \n",
      "    Adds additional features and methods to h5py.File in order to streamline the work with\n",
      "    HDF5 files and to incorporate usage of metadata (attribute naming) conventions and layouts.\n",
      "    An additional argument is added to the h5py.File with \"layout\" to specify the layout of the file.\n",
      "    The layout specifies the structure of the file and the expected content of each group and dataset.\n",
      "    A check can be performed to verify that the file is in accordance with the layout.\n",
      "    \n",
      "    \n",
      "    .. seealso:: :meth:`check`\n",
      "    \n",
      "    \n",
      "    .. note:: All features from h5py packages are preserved.\n",
      "    \n",
      "    \n",
      "    \n",
      "    \n",
      "    Parameters\n",
      "    ----------\n",
      "    filename: str = None\n",
      "            The name of the file to open. If the file mode is 'w' or 'r+' and the file does not exist,\n",
      "            a temporary file is created in the user's temporary directory.\n",
      "    mode: {'r', 'r+', 'w', 'w-', 'x', 'a'} = None\n",
      "            The mode in which to open the file. The default is 'r'.\n",
      "    layout: Path | str | LayoutFile = None\n",
      "            The layout of the file.\n",
      "    **kwargs: Dict = None\n",
      "            Additional keyword arguments are passed to h5py.File.\n",
      "    \n",
      "    Standard Attributes\n",
      "    -------------------\n",
      "    comment: str = None\n",
      "            Additional information about the file\n",
      "    \n",
      "    \n",
      "    Notes\n",
      "    -----\n",
      "    The following methods are added to the h5py.File object:\n",
      "    \n",
      "    * check(): Run layout check.\n",
      "    * moveto(): Move the file to a new location.\n",
      "    * saveas(): Save the file to a new location.\n",
      "    \n",
      "    The following attributes are added to the h5py.File object:\n",
      "    \n",
      "    * version: (str) The version of the package used to create the file.\n",
      "    * modification_time: (datetime) The modification time of the file.\n",
      "    * creation_time: (datetime) The creation time of the file.\n",
      "    * layout: (LayoutFile) The layout of the file.\n",
      "    * filesize: (int) The size of the file in bytes.\n",
      "    \n",
      "    .. seealso:: :class:`h5rdmtoolbox.core.Group`\n",
      "\n"
     ]
    }
   ],
   "source": [
    "help(h5tbx.File.__init__)"
   ]
  },
  {
   "cell_type": "code",
   "execution_count": 9,
   "id": "25c0279b-5b64-4016-b970-c48457033d93",
   "metadata": {},
   "outputs": [
    {
     "name": "stdout",
     "output_type": "stream",
     "text": [
      "Help on function create_dataset in module h5rdmtoolbox.wrapper.core:\n",
      "\n",
      "create_dataset(self, name, shape=None, dtype=None, data=None, overwrite=None, chunks=True, make_scale=False, attach_scales=None, ancillary_datasets=None, attrs=None, comment='None', units='None', **kwargs)\n",
      "    Creating a dataset. Allows attaching/making scale, overwriting and setting attributes simultaneously.\n",
      "    \n",
      "    \n",
      "    \n",
      "    Parameters\n",
      "    ----------\n",
      "    name: str = None\n",
      "            Name of dataset\n",
      "    shape: tuple = None\n",
      "            Dataset shape. see h5py doc. Default None. Required if data=None.\n",
      "    dtype: str = None\n",
      "            dtype of dataset. see h5py doc. Default is dtype('f')\n",
      "    data: numpy ndarray, default=None = None\n",
      "            Provide data to initialize the dataset.  If not used,\n",
      "            provide shape and optionally dtype via kwargs (see more in\n",
      "            h5py documentation regarding arguments for create_dataset\n",
      "    overwrite: bool, default=None = None\n",
      "            If the dataset does not already exist, the new dataset is written and this parameter has no effect.\n",
      "            If the dataset exists and ...\n",
      "            - ... overwrite is None, then h5py behaviour is enabled meaning that if a dataset exists h5py will raise an error\n",
      "            - ... overwrite is True, then dataset is deleted and rewritten according to method parameters\n",
      "            - ... overwrite is False, then dataset creation has no effect. Existing dataset is returned.\n",
      "    chunks: bool or according to h5py.File.create_dataset documentation = None\n",
      "            Needs to be True if later resizing is planned\n",
      "    make_scale: bool, default=False = None\n",
      "            Makes this dataset scale. The parameter attach_scale must be uses, thus be None.\n",
      "    attach_scales: tuple = None\n",
      "            Tuple defining the datasets to attach scales to. Content of tuples are\n",
      "            internal hdf paths. If an axis should not be attached to any axis leave it\n",
      "            empty (''). Default is ('',) which attaches no scales\n",
      "    Note: internal hdf5 path is relative w.r.t. this dataset, so be careful = None\n",
      "            where to create the dataset and to which to attach the scales!\n",
      "            Also note, that if data is a xr.DataArray and attach_scales is not None,\n",
      "            coordinates of xr.DataArray are ignored and only attach_scales is\n",
      "            considered.\n",
      "    ancillary_datasets: Union[None, str, h5py.Dataset] = None\n",
      "            If not None, attach flags to dataset. If str, it is interpreted as\n",
      "            internal hdf path. If h5py.Dataset, it is interpreted as dataset to attach\n",
      "            flags to. Default is None, which means no flags are attached. If a flag\n",
      "            dataset is attached the return object is a xr.Dataset object, which additionally\n",
      "            includes the flag data array.\n",
      "    attrs: dict = None\n",
      "            Allows to set attributes directly after dataset creation. Default is\n",
      "            None, which is an empty dict\n",
      "    **kwargs: dict = None\n",
      "            Dictionary of standard arguments and other keyword arguments that are passed\n",
      "            to the parent function.\n",
      "            For **kwargs, see h5py.File.create_dataset.\n",
      "    \n",
      "    Standard Attributes\n",
      "    -------------------\n",
      "    scale: str = None\n",
      "            Scale factor for the dataset values.\n",
      "    offset: str = None\n",
      "            Scale factor for the dataset values.\n",
      "    units: str = None\n",
      "            The physical units of the dataset\n",
      "    comment: str = None\n",
      "            Additional information about the file\n",
      "    \n",
      "    \n",
      "    Returns\n",
      "    -------\n",
      "    ds: h5py.Dataset\n",
      "            created dataset\n",
      "\n"
     ]
    }
   ],
   "source": [
    "help(h5tbx.Group.create_dataset)"
   ]
  },
  {
   "cell_type": "markdown",
   "id": "faec49af-efbf-49b0-bd69-b5160fb1ba8f",
   "metadata": {},
   "source": [
    "## Working with the convention "
   ]
  },
  {
   "cell_type": "markdown",
   "id": "19b64be9-f3f2-4184-a379-c82b66459d38",
   "metadata": {},
   "source": [
    "First we test the comment attribute:\n",
    "\n",
    "A wrong or missing input will raise an error:"
   ]
  },
  {
   "cell_type": "code",
   "execution_count": 10,
   "id": "6cb0378a-3929-4c86-b1b9-ce20bcd3b29c",
   "metadata": {},
   "outputs": [
    {
     "name": "stdout",
     "output_type": "stream",
     "text": [
      "comment\n",
      "Setting \"123\" for standard attribute \"comment\" failed. Original error: The value \"123\" does not match the pattern \"^[A-Z].*$\"\n"
     ]
    }
   ],
   "source": [
    "try:\n",
    "    with h5tbx.File(comment='123') as h5:\n",
    "        h5.dump()\n",
    "except Exception as e:\n",
    "    print(e)"
   ]
  },
  {
   "cell_type": "markdown",
   "id": "a79c7e27-c97d-4ef8-9121-98088c142a22",
   "metadata": {},
   "source": [
    "Unexpected parameters to the methods, will raise an error:"
   ]
  },
  {
   "cell_type": "code",
   "execution_count": 11,
   "id": "327bed5d-2dd4-4523-a6f7-7de52bc1aed9",
   "metadata": {},
   "outputs": [
    {
     "name": "stdout",
     "output_type": "stream",
     "text": [
      "'contact' is an invalid keyword argument for this function\n"
     ]
    }
   ],
   "source": [
    "try:\n",
    "    with h5tbx.File(contact='https://orcid.org/0000-0001-8729-0482',\n",
    "                    comment='123') as h5:\n",
    "        h5.dump()\n",
    "except Exception as e:\n",
    "    print(e)"
   ]
  },
  {
   "cell_type": "markdown",
   "id": "88b45e4c-59a8-4120-830a-0fb62387509d",
   "metadata": {},
   "source": [
    "This is correct:"
   ]
  },
  {
   "cell_type": "code",
   "execution_count": 12,
   "id": "703629c4-1f49-48ff-b067-d40881995a62",
   "metadata": {},
   "outputs": [
    {
     "name": "stdout",
     "output_type": "stream",
     "text": [
      "comment\n"
     ]
    },
    {
     "data": {
      "text/html": [
       "<head><style>/*\r\n",
       "CSS inspired by xarray: https://github.com/pydata/xarray\r\n",
       "*/\r\n",
       ".h5tb-header > div,\r\n",
       ".h5tb-header > ul {\r\n",
       "    display: inline;\r\n",
       "    margin-top: 0;\r\n",
       "    margin-bottom: 0;\r\n",
       "}\r\n",
       "\r\n",
       ".h5tb-dataarray-cls,\r\n",
       ".h5tb-dataarray-name {\r\n",
       "    margin-left: 2px;\r\n",
       "    margin-right: 10px;\r\n",
       "}\r\n",
       "\r\n",
       ".h5tb-dataarray-name {\r\n",
       "    color: #000;\r\n",
       "}\r\n",
       "\r\n",
       ".h5grp-sections {\r\n",
       "    list-style: none;\r\n",
       "    padding: 3px;\r\n",
       "    margin: 0;\r\n",
       "}\r\n",
       "\r\n",
       ".h5grp-sections input {\r\n",
       "    display: none;\r\n",
       "}\r\n",
       "\r\n",
       ".h5grp-sections label {\r\n",
       "    display: inline;\r\n",
       "}\r\n",
       "\r\n",
       ".h5grp-sections > li > input + label > span {\r\n",
       "    display: inline;\r\n",
       "    margin-left: 4px;\r\n",
       "}\r\n",
       "\r\n",
       ".h5grp-sections > li > input:checked + label > span {\r\n",
       "    display: none;\r\n",
       "}\r\n",
       "\r\n",
       ".h5grp-sections input:enabled + label {\r\n",
       "    cursor: pointer;\r\n",
       "}\r\n",
       "\r\n",
       ".h5grp-sections input:not(.h5tb-values-in) ~ ul {\r\n",
       "    display: none;\r\n",
       "}\r\n",
       "\r\n",
       ".h5grp-sections input:not(.h5tb-values-in):checked ~ ul {\r\n",
       "    display: block;\r\n",
       "}\r\n",
       "\r\n",
       ".h5grp-sections > li > input + label {\r\n",
       "    width: 140px;\r\n",
       "    color: #555;\r\n",
       "    font-weight: 500;\r\n",
       "    padding: 4px 0 2px 0;\r\n",
       "}\r\n",
       "\r\n",
       "\r\n",
       ".h5grp-sections > li > input + label:before {\r\n",
       "    display: inline-block;\r\n",
       "    content: '+';\r\n",
       "    font-size: 11px;\r\n",
       "    width: 15px;\r\n",
       "    text-align: center;\r\n",
       "}\r\n",
       "\r\n",
       ".h5grp-sections > li > input:disabled + label:before {\r\n",
       "    color: #777;\r\n",
       "}\r\n",
       "\r\n",
       ".h5grp-sections > li > input:checked + label:before {\r\n",
       "    content: '-';\r\n",
       "}\r\n",
       "\r\n",
       ".h5tb-dim-list {\r\n",
       "    display: inline-block !important;\r\n",
       "    list-style: none;\r\n",
       "    padding: 0;\r\n",
       "}\r\n",
       "\r\n",
       ".h5tb-dim-list li {\r\n",
       "    display: inline-block;\r\n",
       "    padding: 0;\r\n",
       "    margin: 0;\r\n",
       "}\r\n",
       "\r\n",
       ".h5tb-dim-list:before {\r\n",
       "    content: '(';\r\n",
       "}\r\n",
       "\r\n",
       ".h5tb-dim-list:after {\r\n",
       "    content: ')';\r\n",
       "}\r\n",
       "\r\n",
       ".h5tb-dim-list li:not(:last-child):after {\r\n",
       "    content: ',';\r\n",
       "}\r\n",
       "\r\n",
       ".h5tb-has-index {\r\n",
       "    text-decoration: underline;\r\n",
       "}\r\n",
       "\r\n",
       ".h5tb-var-list {\r\n",
       "    list-style: none;\r\n",
       "    padding: 0;\r\n",
       "    margin: 0;\r\n",
       "}\r\n",
       "\r\n",
       ".h5tb-var-list > li {\r\n",
       "    background-color: #fcfcfc;\r\n",
       "    overflow: hidden;\r\n",
       "}\r\n",
       "\r\n",
       ".h5tb-var-list > li:nth-child(odd) {\r\n",
       "    background-color: #efefef;\r\n",
       "}\r\n",
       "\r\n",
       ".h5tb-var-list li:hover {\r\n",
       "    background-color: rgba(3, 169, 244, .2);\r\n",
       "}\r\n",
       "\r\n",
       ".h5tb-var-list li > span {\r\n",
       "    display: inline-block;\r\n",
       "}\r\n",
       "\r\n",
       "input.h5tb-varname-in + label {\r\n",
       "    width: 140px;\r\n",
       "    padding-left: 0;\r\n",
       "    font-weight: bold;\r\n",
       "}\r\n",
       "\r\n",
       ".h5tb-dataset {\r\n",
       "    width: 100px;\r\n",
       "}\r\n",
       "\r\n",
       ".h5tb-attributevalue {\r\n",
       "    width: 100px;\r\n",
       "    text-align: left;\r\n",
       "    color: #888;\r\n",
       "    white-space: nowrap;\r\n",
       "    font-size: 12px;\r\n",
       "}\r\n",
       "\r\n",
       "input.h5tb-varname-in + label:before {\r\n",
       "    content: ' ';\r\n",
       "    display: inline-block;\r\n",
       "    font-size: 11px;\r\n",
       "    width: 15px;\r\n",
       "    padding-left: 2px;\r\n",
       "    padding-right: 2px;\r\n",
       "    text-align: center;\r\n",
       "    color: #aaa;\r\n",
       "    text-decoration: none !important;\r\n",
       "}\r\n",
       "\r\n",
       "input.h5tb-varname-in:enabled + label:hover:before {\r\n",
       "    color: #000;\r\n",
       "}\r\n",
       "\r\n",
       "input.h5tb-varname-in:checked + label:before {\r\n",
       "    color: #ccc;\r\n",
       "}\r\n",
       "\r\n",
       ".h5tb-dims {\r\n",
       "    width: 280px;\r\n",
       "    white-space: nowrap;\r\n",
       "}\r\n",
       "\r\n",
       "\r\n",
       ".h5tb-unit {\r\n",
       "    width: 96px;\r\n",
       "    white-space: nowrap;\r\n",
       "    padding-right: 2px;\r\n",
       "    text-align: right;\r\n",
       "    color: #555;\r\n",
       "    font-style: italic;\r\n",
       "}\r\n",
       "\r\n",
       ".h5tb-attr-list {\r\n",
       "    list-style: none;\r\n",
       "    background-color: #fff;\r\n",
       "    padding-bottom: 6px;\r\n",
       "    color: #555;\r\n",
       "}\r\n",
       "\r\n",
       ".h5tb-attr-list li,\r\n",
       ".h5tb-attr-list li:hover {\r\n",
       "    background-color: #fff;\r\n",
       "}\r\n",
       "\r\n",
       ".h5tb-dim-highlight {\r\n",
       "    background-color: rgba(3, 169, 244, .2);\r\n",
       "    cursor: pointer;\r\n",
       "}</style></head>\n",
       "<div class='h5tb-warp'>\n",
       "\n",
       "              <ul style=\"list-style-type: none;\" class=\"h5grp-sections\">\n",
       "                    <li>\n",
       "                        <input id=\"group-ds--4966313700\" type=\"checkbox\" checked>\n",
       "                        <label style=\"font-weight: bold\" for=\"group-ds--4966313700\">\n",
       "                        /<span>(0)</span></label>\n",
       "                  \n",
       "\n",
       "                    <ul class=\"h5tb-attr-list\"><li style=\"list-style-type: none; font-style: italic\">__h5rdmtoolbox_version__ : 0.7.0a0</li><li style=\"list-style-type: none; font-style: italic\">comment : My first file</li>\n",
       "                    </ul>\n",
       "</li>\n",
       "</ul>\n",
       "</div>"
      ],
      "text/plain": [
       "<IPython.core.display.HTML object>"
      ]
     },
     "metadata": {},
     "output_type": "display_data"
    }
   ],
   "source": [
    "with h5tbx.File(comment='My first file') as h5:\n",
    "    h5.dump()"
   ]
  },
  {
   "cell_type": "markdown",
   "id": "a709757a-1723-4752-bf9b-bb2953795bc6",
   "metadata": {},
   "source": [
    "Next we test the units attribute:"
   ]
  },
  {
   "cell_type": "code",
   "execution_count": 13,
   "id": "51055af8-07a3-4b18-b0de-5798b3bf95fb",
   "metadata": {},
   "outputs": [
    {
     "name": "stdout",
     "output_type": "stream",
     "text": [
      "comment\n",
      "comment\n"
     ]
    },
    {
     "data": {
      "text/html": [
       "<head><style>/*\r\n",
       "CSS inspired by xarray: https://github.com/pydata/xarray\r\n",
       "*/\r\n",
       ".h5tb-header > div,\r\n",
       ".h5tb-header > ul {\r\n",
       "    display: inline;\r\n",
       "    margin-top: 0;\r\n",
       "    margin-bottom: 0;\r\n",
       "}\r\n",
       "\r\n",
       ".h5tb-dataarray-cls,\r\n",
       ".h5tb-dataarray-name {\r\n",
       "    margin-left: 2px;\r\n",
       "    margin-right: 10px;\r\n",
       "}\r\n",
       "\r\n",
       ".h5tb-dataarray-name {\r\n",
       "    color: #000;\r\n",
       "}\r\n",
       "\r\n",
       ".h5grp-sections {\r\n",
       "    list-style: none;\r\n",
       "    padding: 3px;\r\n",
       "    margin: 0;\r\n",
       "}\r\n",
       "\r\n",
       ".h5grp-sections input {\r\n",
       "    display: none;\r\n",
       "}\r\n",
       "\r\n",
       ".h5grp-sections label {\r\n",
       "    display: inline;\r\n",
       "}\r\n",
       "\r\n",
       ".h5grp-sections > li > input + label > span {\r\n",
       "    display: inline;\r\n",
       "    margin-left: 4px;\r\n",
       "}\r\n",
       "\r\n",
       ".h5grp-sections > li > input:checked + label > span {\r\n",
       "    display: none;\r\n",
       "}\r\n",
       "\r\n",
       ".h5grp-sections input:enabled + label {\r\n",
       "    cursor: pointer;\r\n",
       "}\r\n",
       "\r\n",
       ".h5grp-sections input:not(.h5tb-values-in) ~ ul {\r\n",
       "    display: none;\r\n",
       "}\r\n",
       "\r\n",
       ".h5grp-sections input:not(.h5tb-values-in):checked ~ ul {\r\n",
       "    display: block;\r\n",
       "}\r\n",
       "\r\n",
       ".h5grp-sections > li > input + label {\r\n",
       "    width: 140px;\r\n",
       "    color: #555;\r\n",
       "    font-weight: 500;\r\n",
       "    padding: 4px 0 2px 0;\r\n",
       "}\r\n",
       "\r\n",
       "\r\n",
       ".h5grp-sections > li > input + label:before {\r\n",
       "    display: inline-block;\r\n",
       "    content: '+';\r\n",
       "    font-size: 11px;\r\n",
       "    width: 15px;\r\n",
       "    text-align: center;\r\n",
       "}\r\n",
       "\r\n",
       ".h5grp-sections > li > input:disabled + label:before {\r\n",
       "    color: #777;\r\n",
       "}\r\n",
       "\r\n",
       ".h5grp-sections > li > input:checked + label:before {\r\n",
       "    content: '-';\r\n",
       "}\r\n",
       "\r\n",
       ".h5tb-dim-list {\r\n",
       "    display: inline-block !important;\r\n",
       "    list-style: none;\r\n",
       "    padding: 0;\r\n",
       "}\r\n",
       "\r\n",
       ".h5tb-dim-list li {\r\n",
       "    display: inline-block;\r\n",
       "    padding: 0;\r\n",
       "    margin: 0;\r\n",
       "}\r\n",
       "\r\n",
       ".h5tb-dim-list:before {\r\n",
       "    content: '(';\r\n",
       "}\r\n",
       "\r\n",
       ".h5tb-dim-list:after {\r\n",
       "    content: ')';\r\n",
       "}\r\n",
       "\r\n",
       ".h5tb-dim-list li:not(:last-child):after {\r\n",
       "    content: ',';\r\n",
       "}\r\n",
       "\r\n",
       ".h5tb-has-index {\r\n",
       "    text-decoration: underline;\r\n",
       "}\r\n",
       "\r\n",
       ".h5tb-var-list {\r\n",
       "    list-style: none;\r\n",
       "    padding: 0;\r\n",
       "    margin: 0;\r\n",
       "}\r\n",
       "\r\n",
       ".h5tb-var-list > li {\r\n",
       "    background-color: #fcfcfc;\r\n",
       "    overflow: hidden;\r\n",
       "}\r\n",
       "\r\n",
       ".h5tb-var-list > li:nth-child(odd) {\r\n",
       "    background-color: #efefef;\r\n",
       "}\r\n",
       "\r\n",
       ".h5tb-var-list li:hover {\r\n",
       "    background-color: rgba(3, 169, 244, .2);\r\n",
       "}\r\n",
       "\r\n",
       ".h5tb-var-list li > span {\r\n",
       "    display: inline-block;\r\n",
       "}\r\n",
       "\r\n",
       "input.h5tb-varname-in + label {\r\n",
       "    width: 140px;\r\n",
       "    padding-left: 0;\r\n",
       "    font-weight: bold;\r\n",
       "}\r\n",
       "\r\n",
       ".h5tb-dataset {\r\n",
       "    width: 100px;\r\n",
       "}\r\n",
       "\r\n",
       ".h5tb-attributevalue {\r\n",
       "    width: 100px;\r\n",
       "    text-align: left;\r\n",
       "    color: #888;\r\n",
       "    white-space: nowrap;\r\n",
       "    font-size: 12px;\r\n",
       "}\r\n",
       "\r\n",
       "input.h5tb-varname-in + label:before {\r\n",
       "    content: ' ';\r\n",
       "    display: inline-block;\r\n",
       "    font-size: 11px;\r\n",
       "    width: 15px;\r\n",
       "    padding-left: 2px;\r\n",
       "    padding-right: 2px;\r\n",
       "    text-align: center;\r\n",
       "    color: #aaa;\r\n",
       "    text-decoration: none !important;\r\n",
       "}\r\n",
       "\r\n",
       "input.h5tb-varname-in:enabled + label:hover:before {\r\n",
       "    color: #000;\r\n",
       "}\r\n",
       "\r\n",
       "input.h5tb-varname-in:checked + label:before {\r\n",
       "    color: #ccc;\r\n",
       "}\r\n",
       "\r\n",
       ".h5tb-dims {\r\n",
       "    width: 280px;\r\n",
       "    white-space: nowrap;\r\n",
       "}\r\n",
       "\r\n",
       "\r\n",
       ".h5tb-unit {\r\n",
       "    width: 96px;\r\n",
       "    white-space: nowrap;\r\n",
       "    padding-right: 2px;\r\n",
       "    text-align: right;\r\n",
       "    color: #555;\r\n",
       "    font-style: italic;\r\n",
       "}\r\n",
       "\r\n",
       ".h5tb-attr-list {\r\n",
       "    list-style: none;\r\n",
       "    background-color: #fff;\r\n",
       "    padding-bottom: 6px;\r\n",
       "    color: #555;\r\n",
       "}\r\n",
       "\r\n",
       ".h5tb-attr-list li,\r\n",
       ".h5tb-attr-list li:hover {\r\n",
       "    background-color: #fff;\r\n",
       "}\r\n",
       "\r\n",
       ".h5tb-dim-highlight {\r\n",
       "    background-color: rgba(3, 169, 244, .2);\r\n",
       "    cursor: pointer;\r\n",
       "}</style></head>\n",
       "<div class='h5tb-warp'>\n",
       "\n",
       "              <ul style=\"list-style-type: none;\" class=\"h5grp-sections\">\n",
       "                    <li>\n",
       "                        <input id=\"group-ds--4986431100\" type=\"checkbox\" checked>\n",
       "                        <label style=\"font-weight: bold\" for=\"group-ds--4986431100\">\n",
       "                        /<span>(1)</span></label>\n",
       "                  \n",
       "\n",
       "                    <ul class=\"h5tb-attr-list\"><li style=\"list-style-type: none; font-style: italic\">__h5rdmtoolbox_version__ : 0.7.0a0</li><li style=\"list-style-type: none; font-style: italic\">comment : My first file</li>\n",
       "                    </ul>\n",
       "\n",
       "                <ul id=\"ds-1-/velocity-4987335500\" class=\"h5tb-var-list\">\n",
       "                <input id=\"ds-2-/velocity-4987340100\" class=\"h5tb-varname-in\" type=\"checkbox\">\n",
       "                <label class='h5tb-varname' for=\"ds-2-/velocity-4987340100\">velocity</label>\n",
       "                <span class=\"h5tb-dims\">1.3 (float64)</span>\n",
       "                <ul class=\"h5tb-attr-list\"><li style=\"list-style-type: none; font-style: italic\">comment : Hello</li><li style=\"list-style-type: none; font-style: italic\">units : m/s</li>\n",
       "                </ul>\n",
       "                </ul>\n",
       "</li>\n",
       "</ul>\n",
       "</div>"
      ],
      "text/plain": [
       "<IPython.core.display.HTML object>"
      ]
     },
     "metadata": {},
     "output_type": "display_data"
    }
   ],
   "source": [
    "with h5tbx.File(comment='My first file') as h5:\n",
    "    h5.create_dataset('velocity', data=1.3, units='m/s', comment='Hello')\n",
    "    h5.dump()"
   ]
  },
  {
   "cell_type": "markdown",
   "id": "da62c833-4391-4abe-85c6-36c53a3f5b62",
   "metadata": {},
   "source": [
    "## Import a convention\n",
    "\n",
    "Conventions are defined for a project. Standard attributes can be defined in a single or multiple YAML files. Those files can be loaded into the current work from a local storage or a remote web resource. We first take a look at loading a local definition of standard names."
   ]
  },
  {
   "cell_type": "markdown",
   "id": "9841cdca-6709-4d6e-b918-509aec7de76a",
   "metadata": {},
   "source": [
    "### Load a local convention"
   ]
  },
  {
   "cell_type": "code",
   "execution_count": 14,
   "id": "58bad9ae-3a53-4812-b631-f66313823d4c",
   "metadata": {},
   "outputs": [],
   "source": [
    "from h5rdmtoolbox import tutorial"
   ]
  },
  {
   "cell_type": "code",
   "execution_count": 15,
   "id": "7b42b60d-b035-44f2-a70f-835febab2310",
   "metadata": {},
   "outputs": [
    {
     "name": "stderr",
     "output_type": "stream",
     "text": [
      "C:\\Users\\da4323\\Documents\\programming\\GitHub\\h5RDMtoolbox\\h5rdmtoolbox\\conventions\\standard_attributes\\__init__.py:167: UserWarning: Ignoring parameter \"type\"\n",
      "  warnings.warn(f'Ignoring parameter \"{k}\"', UserWarning)\n"
     ]
    },
    {
     "data": {
      "text/plain": [
       "\u001b[1mConvention(\"tutorial_convention\")\u001b[0m\n",
       "contact: https://orcid.org/0000-0001-8729-0482\n",
       "  File.__init__():\n",
       "    * \u001b[1mtitle\u001b[0m (default=DefaultValue.EMPTY):\n",
       "\t\tThe attribute 'title' describes the content of the file. It must start with a capital letter and must not end with a space.\n",
       "    * \u001b[1mpiv_method\u001b[0m (default=DefaultValue.EMPTY):\n",
       "\t\tList of expected PIV algorithms.\n",
       "    * \u001b[1mpiv_medium\u001b[0m (default=DefaultValue.EMPTY):\n",
       "\t\tThe medium of the flow.\n",
       "    * \u001b[1mseeding_material\u001b[0m (default=DefaultValue.EMPTY):\n",
       "\t\tThe material of the PIV tracing particles.\n",
       "    * \u001b[1mstandard_name_table\u001b[0m (default=https://zenodo.org/record/8158764):\n",
       "\t\tThe standard name table of the convention.\n",
       "    * \u001b[1mcomment\u001b[0m (default=DefaultValue.NONE):\n",
       "\t\tA comment to further describe the data.\n",
       "    * \u001b[1mcontact\u001b[0m (default=DefaultValue.EMPTY):\n",
       "\t\tContact or responsible person represented by an ORCID-ID.\n",
       "    * \u001b[1minstitution\u001b[0m (default=DefaultValue.NONE):\n",
       "\t\tName of institution mainly involved in the data\n",
       "    * \u001b[1mreferences\u001b[0m (default=DefaultValue.NONE):\n",
       "\t\tWeb resources servering as references for the data\n",
       "  Group.create_dataset():\n",
       "    * \u001b[1mscale\u001b[0m (default=DefaultValue.NONE):\n",
       "\t\tScale factor for the dataset values.\n",
       "    * \u001b[1moffset\u001b[0m (default=DefaultValue.NONE):\n",
       "\t\tScale factor for the dataset values.\n",
       "    * \u001b[1munits\u001b[0m (default=None):\n",
       "\t\tPhysical unit of the dataset.\n",
       "    * \u001b[1mstandard_name\u001b[0m (default=DefaultValue.NONE):\n",
       "\t\tStandard name of the dataset. If not set, the long_name attribute must be given.\n",
       "    * \u001b[1mcomment\u001b[0m (default=DefaultValue.NONE):\n",
       "\t\tA comment to further describe the data.\n",
       "    * \u001b[1mreferences\u001b[0m (default=DefaultValue.NONE):\n",
       "\t\tWeb resources servering as references for the data\n",
       "  Group.create_group():\n",
       "    * \u001b[1mlong_name\u001b[0m (default=DefaultValue.NONE):\n",
       "\t\tAn comprehensive description of the dataset\n",
       "    * \u001b[1mcomment\u001b[0m (default=DefaultValue.NONE):\n",
       "\t\tA comment to further describe the data.\n",
       "    * \u001b[1mreferences\u001b[0m (default=DefaultValue.NONE):\n",
       "\t\tWeb resources servering as references for the data"
      ]
     },
     "execution_count": 15,
     "metadata": {},
     "output_type": "execute_result"
    }
   ],
   "source": [
    "convention_filename = tutorial.get_standard_attribute_yaml_filename()\n",
    "\n",
    "local_cv = h5tbx.conventions.Convention.from_yaml(convention_filename)\n",
    "local_cv.register()\n",
    "local_cv"
   ]
  },
  {
   "cell_type": "code",
   "execution_count": 16,
   "id": "3269478b-8d74-4b5c-a7e6-bacd984313aa",
   "metadata": {},
   "outputs": [],
   "source": [
    "h5tbx.use(local_cv)"
   ]
  },
  {
   "cell_type": "code",
   "execution_count": 20,
   "id": "8de7c963-cb65-4922-a8fb-ed4a8f67c1ef",
   "metadata": {},
   "outputs": [
    {
     "data": {
      "text/html": [
       "<head><style>/*\r\n",
       "CSS inspired by xarray: https://github.com/pydata/xarray\r\n",
       "*/\r\n",
       ".h5tb-header > div,\r\n",
       ".h5tb-header > ul {\r\n",
       "    display: inline;\r\n",
       "    margin-top: 0;\r\n",
       "    margin-bottom: 0;\r\n",
       "}\r\n",
       "\r\n",
       ".h5tb-dataarray-cls,\r\n",
       ".h5tb-dataarray-name {\r\n",
       "    margin-left: 2px;\r\n",
       "    margin-right: 10px;\r\n",
       "}\r\n",
       "\r\n",
       ".h5tb-dataarray-name {\r\n",
       "    color: #000;\r\n",
       "}\r\n",
       "\r\n",
       ".h5grp-sections {\r\n",
       "    list-style: none;\r\n",
       "    padding: 3px;\r\n",
       "    margin: 0;\r\n",
       "}\r\n",
       "\r\n",
       ".h5grp-sections input {\r\n",
       "    display: none;\r\n",
       "}\r\n",
       "\r\n",
       ".h5grp-sections label {\r\n",
       "    display: inline;\r\n",
       "}\r\n",
       "\r\n",
       ".h5grp-sections > li > input + label > span {\r\n",
       "    display: inline;\r\n",
       "    margin-left: 4px;\r\n",
       "}\r\n",
       "\r\n",
       ".h5grp-sections > li > input:checked + label > span {\r\n",
       "    display: none;\r\n",
       "}\r\n",
       "\r\n",
       ".h5grp-sections input:enabled + label {\r\n",
       "    cursor: pointer;\r\n",
       "}\r\n",
       "\r\n",
       ".h5grp-sections input:not(.h5tb-values-in) ~ ul {\r\n",
       "    display: none;\r\n",
       "}\r\n",
       "\r\n",
       ".h5grp-sections input:not(.h5tb-values-in):checked ~ ul {\r\n",
       "    display: block;\r\n",
       "}\r\n",
       "\r\n",
       ".h5grp-sections > li > input + label {\r\n",
       "    width: 140px;\r\n",
       "    color: #555;\r\n",
       "    font-weight: 500;\r\n",
       "    padding: 4px 0 2px 0;\r\n",
       "}\r\n",
       "\r\n",
       "\r\n",
       ".h5grp-sections > li > input + label:before {\r\n",
       "    display: inline-block;\r\n",
       "    content: '+';\r\n",
       "    font-size: 11px;\r\n",
       "    width: 15px;\r\n",
       "    text-align: center;\r\n",
       "}\r\n",
       "\r\n",
       ".h5grp-sections > li > input:disabled + label:before {\r\n",
       "    color: #777;\r\n",
       "}\r\n",
       "\r\n",
       ".h5grp-sections > li > input:checked + label:before {\r\n",
       "    content: '-';\r\n",
       "}\r\n",
       "\r\n",
       ".h5tb-dim-list {\r\n",
       "    display: inline-block !important;\r\n",
       "    list-style: none;\r\n",
       "    padding: 0;\r\n",
       "}\r\n",
       "\r\n",
       ".h5tb-dim-list li {\r\n",
       "    display: inline-block;\r\n",
       "    padding: 0;\r\n",
       "    margin: 0;\r\n",
       "}\r\n",
       "\r\n",
       ".h5tb-dim-list:before {\r\n",
       "    content: '(';\r\n",
       "}\r\n",
       "\r\n",
       ".h5tb-dim-list:after {\r\n",
       "    content: ')';\r\n",
       "}\r\n",
       "\r\n",
       ".h5tb-dim-list li:not(:last-child):after {\r\n",
       "    content: ',';\r\n",
       "}\r\n",
       "\r\n",
       ".h5tb-has-index {\r\n",
       "    text-decoration: underline;\r\n",
       "}\r\n",
       "\r\n",
       ".h5tb-var-list {\r\n",
       "    list-style: none;\r\n",
       "    padding: 0;\r\n",
       "    margin: 0;\r\n",
       "}\r\n",
       "\r\n",
       ".h5tb-var-list > li {\r\n",
       "    background-color: #fcfcfc;\r\n",
       "    overflow: hidden;\r\n",
       "}\r\n",
       "\r\n",
       ".h5tb-var-list > li:nth-child(odd) {\r\n",
       "    background-color: #efefef;\r\n",
       "}\r\n",
       "\r\n",
       ".h5tb-var-list li:hover {\r\n",
       "    background-color: rgba(3, 169, 244, .2);\r\n",
       "}\r\n",
       "\r\n",
       ".h5tb-var-list li > span {\r\n",
       "    display: inline-block;\r\n",
       "}\r\n",
       "\r\n",
       "input.h5tb-varname-in + label {\r\n",
       "    width: 140px;\r\n",
       "    padding-left: 0;\r\n",
       "    font-weight: bold;\r\n",
       "}\r\n",
       "\r\n",
       ".h5tb-dataset {\r\n",
       "    width: 100px;\r\n",
       "}\r\n",
       "\r\n",
       ".h5tb-attributevalue {\r\n",
       "    width: 100px;\r\n",
       "    text-align: left;\r\n",
       "    color: #888;\r\n",
       "    white-space: nowrap;\r\n",
       "    font-size: 12px;\r\n",
       "}\r\n",
       "\r\n",
       "input.h5tb-varname-in + label:before {\r\n",
       "    content: ' ';\r\n",
       "    display: inline-block;\r\n",
       "    font-size: 11px;\r\n",
       "    width: 15px;\r\n",
       "    padding-left: 2px;\r\n",
       "    padding-right: 2px;\r\n",
       "    text-align: center;\r\n",
       "    color: #aaa;\r\n",
       "    text-decoration: none !important;\r\n",
       "}\r\n",
       "\r\n",
       "input.h5tb-varname-in:enabled + label:hover:before {\r\n",
       "    color: #000;\r\n",
       "}\r\n",
       "\r\n",
       "input.h5tb-varname-in:checked + label:before {\r\n",
       "    color: #ccc;\r\n",
       "}\r\n",
       "\r\n",
       ".h5tb-dims {\r\n",
       "    width: 280px;\r\n",
       "    white-space: nowrap;\r\n",
       "}\r\n",
       "\r\n",
       "\r\n",
       ".h5tb-unit {\r\n",
       "    width: 96px;\r\n",
       "    white-space: nowrap;\r\n",
       "    padding-right: 2px;\r\n",
       "    text-align: right;\r\n",
       "    color: #555;\r\n",
       "    font-style: italic;\r\n",
       "}\r\n",
       "\r\n",
       ".h5tb-attr-list {\r\n",
       "    list-style: none;\r\n",
       "    background-color: #fff;\r\n",
       "    padding-bottom: 6px;\r\n",
       "    color: #555;\r\n",
       "}\r\n",
       "\r\n",
       ".h5tb-attr-list li,\r\n",
       ".h5tb-attr-list li:hover {\r\n",
       "    background-color: #fff;\r\n",
       "}\r\n",
       "\r\n",
       ".h5tb-dim-highlight {\r\n",
       "    background-color: rgba(3, 169, 244, .2);\r\n",
       "    cursor: pointer;\r\n",
       "}</style></head>\n",
       "<div class='h5tb-warp'>\n",
       "\n",
       "              <ul style=\"list-style-type: none;\" class=\"h5grp-sections\">\n",
       "                    <li>\n",
       "                        <input id=\"group-ds--35308245300\" type=\"checkbox\" checked>\n",
       "                        <label style=\"font-weight: bold\" for=\"group-ds--35308245300\">\n",
       "                        /<span>(0)</span></label>\n",
       "                  \n",
       "\n",
       "                    <ul class=\"h5tb-attr-list\"><li style=\"list-style-type: none; font-style: italic\">__h5rdmtoolbox_version__ : 0.7.0a0</li>\n",
       "                    </ul>\n",
       "</li>\n",
       "</ul>\n",
       "</div>"
      ],
      "text/plain": [
       "<IPython.core.display.HTML object>"
      ]
     },
     "metadata": {},
     "output_type": "display_data"
    }
   ],
   "source": [
    "with h5tbx.File(contact='https://orcid.org/0000-0001-8729-0482', mode='r') as h5:\n",
    "    h5.dump()"
   ]
  },
  {
   "cell_type": "markdown",
   "id": "c357e8dc-8ab2-4c3c-a099-d3e3106befd9",
   "metadata": {},
   "source": [
    "### Load a remote convention\n",
    "\n",
    "This is generally done only once a due to some revisions a few time. Such a conventions therefore needs to get a version or evene better a persistent identifier like a DOI.\n",
    "\n",
    "The toolbox suggests using Zenodo as a repository. The following shows, how a convention, wich was uploaded to Zenodo can be integrated into the user's workflow.\n",
    "\n",
    "The example convention is registered under the DOI 123123 on Zenodo. It contains multiple \\*.yaml-files."
   ]
  },
  {
   "cell_type": "code",
   "execution_count": 21,
   "id": "a3cc688a-088e-4e3e-9d06-4abb834c8978",
   "metadata": {},
   "outputs": [
    {
     "ename": "TypeError",
     "evalue": "__init__() missing 3 required positional arguments: 'validator', 'target_methods', and 'description'",
     "output_type": "error",
     "traceback": [
      "\u001b[1;31m---------------------------------------------------------------------------\u001b[0m",
      "\u001b[1;31mTypeError\u001b[0m                                 Traceback (most recent call last)",
      "Cell \u001b[1;32mIn[21], line 1\u001b[0m\n\u001b[1;32m----> 1\u001b[0m cv \u001b[38;5;241m=\u001b[39m \u001b[43mh5tbx\u001b[49m\u001b[38;5;241;43m.\u001b[39;49m\u001b[43mconventions\u001b[49m\u001b[38;5;241;43m.\u001b[39;49m\u001b[43mfrom_zenodo\u001b[49m\u001b[43m(\u001b[49m\u001b[43mdoi\u001b[49m\u001b[38;5;241;43m=\u001b[39;49m\u001b[38;5;241;43m8158764\u001b[39;49m\u001b[43m)\u001b[49m\n\u001b[0;32m      2\u001b[0m h5tbx\u001b[38;5;241m.\u001b[39muse(cv)  \u001b[38;5;66;03m# enable the downloaded convention\u001b[39;00m\n",
      "File \u001b[1;32m~\\Documents\\programming\\GitHub\\h5RDMtoolbox\\h5rdmtoolbox\\conventions\\__init__.py:518\u001b[0m, in \u001b[0;36mfrom_zenodo\u001b[1;34m(doi, name)\u001b[0m\n\u001b[0;32m    516\u001b[0m \u001b[38;5;28;01mdef\u001b[39;00m \u001b[38;5;21mfrom_zenodo\u001b[39m(doi, name\u001b[38;5;241m=\u001b[39m\u001b[38;5;28;01mNone\u001b[39;00m):\n\u001b[0;32m    517\u001b[0m \u001b[38;5;250m    \u001b[39m\u001b[38;5;124;03m\"\"\"Download a YAML file from a zenodo repository\"\"\"\u001b[39;00m\n\u001b[1;32m--> 518\u001b[0m     \u001b[38;5;28;01mreturn\u001b[39;00m \u001b[43mfrom_yaml\u001b[49m\u001b[43m(\u001b[49m\u001b[43mdownload_zenodo_file\u001b[49m\u001b[43m(\u001b[49m\u001b[43mdoi\u001b[49m\u001b[43m,\u001b[49m\u001b[43m \u001b[49m\u001b[43mname\u001b[49m\u001b[43m)\u001b[49m\u001b[43m)\u001b[49m\n",
      "File \u001b[1;32m~\\Documents\\programming\\GitHub\\h5RDMtoolbox\\h5rdmtoolbox\\conventions\\__init__.py:503\u001b[0m, in \u001b[0;36mfrom_yaml\u001b[1;34m(yaml_filename, register)\u001b[0m\n\u001b[0;32m    501\u001b[0m \u001b[38;5;28;01mwith\u001b[39;00m \u001b[38;5;28mopen\u001b[39m(yaml_filename, \u001b[38;5;124m'\u001b[39m\u001b[38;5;124mr\u001b[39m\u001b[38;5;124m'\u001b[39m) \u001b[38;5;28;01mas\u001b[39;00m f:\n\u001b[0;32m    502\u001b[0m     attrs \u001b[38;5;241m=\u001b[39m yaml\u001b[38;5;241m.\u001b[39msafe_load(f)\n\u001b[1;32m--> 503\u001b[0m std_attrs \u001b[38;5;241m=\u001b[39m [StandardAttribute(name, \u001b[38;5;241m*\u001b[39m\u001b[38;5;241m*\u001b[39mvalues) \u001b[38;5;28;01mfor\u001b[39;00m name, values \u001b[38;5;129;01min\u001b[39;00m attrs\u001b[38;5;241m.\u001b[39mitems() \u001b[38;5;28;01mif\u001b[39;00m \u001b[38;5;28misinstance\u001b[39m(values, \u001b[38;5;28mdict\u001b[39m)]\n\u001b[0;32m    504\u001b[0m meta \u001b[38;5;241m=\u001b[39m {name: value \u001b[38;5;28;01mfor\u001b[39;00m name, value \u001b[38;5;129;01min\u001b[39;00m attrs\u001b[38;5;241m.\u001b[39mitems() \u001b[38;5;28;01mif\u001b[39;00m \u001b[38;5;129;01mnot\u001b[39;00m \u001b[38;5;28misinstance\u001b[39m(value, \u001b[38;5;28mdict\u001b[39m)}\n\u001b[0;32m    505\u001b[0m \u001b[38;5;28;01mif\u001b[39;00m \u001b[38;5;124m'\u001b[39m\u001b[38;5;124mname\u001b[39m\u001b[38;5;124m'\u001b[39m \u001b[38;5;129;01mnot\u001b[39;00m \u001b[38;5;129;01min\u001b[39;00m meta:\n",
      "File \u001b[1;32m~\\Documents\\programming\\GitHub\\h5RDMtoolbox\\h5rdmtoolbox\\conventions\\__init__.py:503\u001b[0m, in \u001b[0;36m<listcomp>\u001b[1;34m(.0)\u001b[0m\n\u001b[0;32m    501\u001b[0m \u001b[38;5;28;01mwith\u001b[39;00m \u001b[38;5;28mopen\u001b[39m(yaml_filename, \u001b[38;5;124m'\u001b[39m\u001b[38;5;124mr\u001b[39m\u001b[38;5;124m'\u001b[39m) \u001b[38;5;28;01mas\u001b[39;00m f:\n\u001b[0;32m    502\u001b[0m     attrs \u001b[38;5;241m=\u001b[39m yaml\u001b[38;5;241m.\u001b[39msafe_load(f)\n\u001b[1;32m--> 503\u001b[0m std_attrs \u001b[38;5;241m=\u001b[39m [\u001b[43mStandardAttribute\u001b[49m\u001b[43m(\u001b[49m\u001b[43mname\u001b[49m\u001b[43m,\u001b[49m\u001b[43m \u001b[49m\u001b[38;5;241;43m*\u001b[39;49m\u001b[38;5;241;43m*\u001b[39;49m\u001b[43mvalues\u001b[49m\u001b[43m)\u001b[49m \u001b[38;5;28;01mfor\u001b[39;00m name, values \u001b[38;5;129;01min\u001b[39;00m attrs\u001b[38;5;241m.\u001b[39mitems() \u001b[38;5;28;01mif\u001b[39;00m \u001b[38;5;28misinstance\u001b[39m(values, \u001b[38;5;28mdict\u001b[39m)]\n\u001b[0;32m    504\u001b[0m meta \u001b[38;5;241m=\u001b[39m {name: value \u001b[38;5;28;01mfor\u001b[39;00m name, value \u001b[38;5;129;01min\u001b[39;00m attrs\u001b[38;5;241m.\u001b[39mitems() \u001b[38;5;28;01mif\u001b[39;00m \u001b[38;5;129;01mnot\u001b[39;00m \u001b[38;5;28misinstance\u001b[39m(value, \u001b[38;5;28mdict\u001b[39m)}\n\u001b[0;32m    505\u001b[0m \u001b[38;5;28;01mif\u001b[39;00m \u001b[38;5;124m'\u001b[39m\u001b[38;5;124mname\u001b[39m\u001b[38;5;124m'\u001b[39m \u001b[38;5;129;01mnot\u001b[39;00m \u001b[38;5;129;01min\u001b[39;00m meta:\n",
      "\u001b[1;31mTypeError\u001b[0m: __init__() missing 3 required positional arguments: 'validator', 'target_methods', and 'description'"
     ]
    }
   ],
   "source": [
    "cv = h5tbx.conventions.from_zenodo(doi=8158764)\n",
    "h5tbx.use(cv)  # enable the downloaded convention"
   ]
  },
  {
   "cell_type": "markdown",
   "id": "254bd8ff-1d4f-4e20-aed9-0d488615d284",
   "metadata": {},
   "source": [
    "## List of available conventions\n",
    "\n",
    "It is possible to register conventions, which is the list of standard attributes for the respective HDF objects. A list can be optained by the dictionary `conventons.registered_conventions`:"
   ]
  },
  {
   "cell_type": "code",
   "execution_count": null,
   "id": "b3382d99-6c5e-4d81-8894-a95eb8364dd4",
   "metadata": {
    "tags": []
   },
   "outputs": [],
   "source": [
    "h5tbx.conventions.registered_conventions.keys()"
   ]
  },
  {
   "cell_type": "markdown",
   "id": "f794b19d-a950-47d7-8af5-b16b79e70974",
   "metadata": {},
   "source": [
    "Now, we regulated what happens, when this special (standard) attribute is written (`set`) and read (`get`).\n",
    "\n",
    "## Add to a convention\n",
    "Next we need to add this attbribute to a convention and assign it to the `Group` calss and the method `create_dataset` in order to make \"source\" available to the user and enforce its usage.\n",
    "\n",
    "Let's initialize a new convention and register it (make it available in the package):"
   ]
  },
  {
   "cell_type": "code",
   "execution_count": null,
   "id": "b04a6b93-9bf3-45eb-ba88-4930d7b935d9",
   "metadata": {
    "tags": []
   },
   "outputs": [],
   "source": [
    "cv = conventions.Convention('my_convention')\n",
    "cv"
   ]
  },
  {
   "cell_type": "markdown",
   "id": "aa28d193-e07f-4264-890f-ca9208c97744",
   "metadata": {},
   "source": [
    "The output shows which attributes are associated with the objects `File`, `Group` and `Dataset` and the methods `__init__`, `create_group` and `create_dataset`. What this exactly means will get clear shortly. Let's add `SourceAttribute` the class `Dataset`:"
   ]
  },
  {
   "cell_type": "code",
   "execution_count": null,
   "id": "664bc012-33d8-4ccc-a1fd-ca9516bb26a8",
   "metadata": {
    "tags": []
   },
   "outputs": [],
   "source": [
    "cv['create_dataset'].add(SourceAttribute,\n",
    "                         add_to_method=True,\n",
    "                         optional=True,\n",
    "                         position={'after': 'data'})"
   ]
  },
  {
   "cell_type": "markdown",
   "id": "c07018fe-fd14-4f89-984e-115799ef372b",
   "metadata": {},
   "source": [
    "The `SourceAttribute` is now added to the class `Group`:"
   ]
  },
  {
   "cell_type": "code",
   "execution_count": null,
   "id": "c3621cd4-2431-44ad-9896-790a7e7fd89a",
   "metadata": {
    "tags": []
   },
   "outputs": [],
   "source": [
    "cv"
   ]
  },
  {
   "cell_type": "markdown",
   "id": "03099119-4f6a-4e8a-b5a9-5ca40f768468",
   "metadata": {},
   "source": [
    "For now, it is only registered as a property. This means, the user is yet responsible for setting the \"source\"."
   ]
  },
  {
   "cell_type": "markdown",
   "id": "47770902-9682-42a4-8c56-6eead767d241",
   "metadata": {},
   "source": [
    "## Register and enable\n",
    "We need to register the convention `cv` and enable it (and thus enable the \"source\" attribute)"
   ]
  },
  {
   "cell_type": "code",
   "execution_count": null,
   "id": "35fe8700-fc08-49c7-9893-578339248541",
   "metadata": {
    "tags": []
   },
   "outputs": [],
   "source": [
    "cv.register()\n",
    "h5tbx.use('my_convention')\n",
    "h5tbx.get_current_convention()"
   ]
  },
  {
   "cell_type": "markdown",
   "id": "ea53bac0-5b03-4fb8-9986-3aadf200729e",
   "metadata": {},
   "source": [
    "## Example:\n",
    "Let's create a dataset and get the source. As we do not pass the argument `source` (we set it to optional) and we do not set it via the attribute manager, we expect a warning:"
   ]
  },
  {
   "cell_type": "code",
   "execution_count": null,
   "id": "299b1a22-009a-404b-8ba8-f705a1864e29",
   "metadata": {
    "tags": []
   },
   "outputs": [],
   "source": [
    "with h5tbx.File() as h5:\n",
    "    ds = h5.create_dataset('data', (4, 5))\n",
    "    print(ds.source)"
   ]
  },
  {
   "cell_type": "markdown",
   "id": "3eaeb426-4113-4e50-95bf-92d1704507ee",
   "metadata": {},
   "source": [
    "We may pass \"source\" directly as an argument or via \"attrs\". Both of which will check if the source is \"numerical\" or \"experimental\", thus the `set()` method is called in both cases:"
   ]
  },
  {
   "cell_type": "code",
   "execution_count": null,
   "id": "2ef94ffa-9ed0-44f8-9f79-ee7012cc3bec",
   "metadata": {
    "tags": []
   },
   "outputs": [],
   "source": [
    "with h5tbx.File() as h5:\n",
    "    ds1 = h5.create_dataset('data1', (4, 5), attrs={'source': 'numerical'})\n",
    "    ds2 = h5.create_dataset('data2', (4, 5), source='experimental')\n",
    "    # two example that fail:\n",
    "    try:\n",
    "        h5.create_dataset('data3', (4, 5), attrs={'source': 'model-based'})\n",
    "    except ValueError as e:\n",
    "        print(e)\n",
    "    try:\n",
    "        h5.create_dataset('data4', (4, 5), source='model-based')\n",
    "    except ValueError as e:\n",
    "        print(e)"
   ]
  },
  {
   "cell_type": "markdown",
   "id": "910337a6-766d-47f8-8c20-6f3f39ca58fe",
   "metadata": {},
   "source": [
    "Until now, the source attribute was **optional**. We want to enforce the use, so let's change this property of the standard attribute:"
   ]
  },
  {
   "cell_type": "code",
   "execution_count": null,
   "id": "4cb1bafe-795d-4824-aa91-0fda3c1c0f17",
   "metadata": {
    "tags": []
   },
   "outputs": [],
   "source": [
    "cv.make_required('create_dataset', 'source')"
   ]
  },
  {
   "cell_type": "code",
   "execution_count": null,
   "id": "71233e6a-5a54-46eb-a854-9bc90c0d687a",
   "metadata": {
    "tags": []
   },
   "outputs": [],
   "source": [
    "cv"
   ]
  },
  {
   "cell_type": "code",
   "execution_count": null,
   "id": "e691035f-f4e6-4e42-8707-c1ddf53a04f4",
   "metadata": {
    "tags": []
   },
   "outputs": [],
   "source": [
    "with h5tbx.File() as h5:\n",
    "    try:\n",
    "        ds = h5.create_dataset('data', (4, 5))\n",
    "    except h5tbx.conventions.StandardAttributeError as e:\n",
    "        print(e)"
   ]
  },
  {
   "cell_type": "code",
   "execution_count": null,
   "id": "d518cfdd-b28c-4917-af5e-ac9d239de346",
   "metadata": {
    "tags": []
   },
   "outputs": [],
   "source": [
    "with h5tbx.File() as h5:\n",
    "    ds = h5.create_dataset('data', (4, 5), source='Experimental')\n",
    "    ds.dump()"
   ]
  }
 ],
 "metadata": {
  "kernelspec": {
   "display_name": "Python 3 (ipykernel)",
   "language": "python",
   "name": "python3"
  },
  "language_info": {
   "codemirror_mode": {
    "name": "ipython",
    "version": 3
   },
   "file_extension": ".py",
   "mimetype": "text/x-python",
   "name": "python",
   "nbconvert_exporter": "python",
   "pygments_lexer": "ipython3",
   "version": "3.8.17"
  }
 },
 "nbformat": 4,
 "nbformat_minor": 5
}
