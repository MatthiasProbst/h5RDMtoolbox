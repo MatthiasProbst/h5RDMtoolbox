{
 "cells": [
  {
   "cell_type": "markdown",
   "id": "300ab6f1-dc08-41eb-9e77-5f6a8e02ac9a",
   "metadata": {},
   "source": [
    "# Introduction to Conventions\n",
    "\n",
    "Adhering to **metadata standards** is essential to achieve **findability** and efficient **re-usability** of data. Typos and attribute naming based on personal preferences must be avoided. Even if humans may still be able to understand such data, especially automatic exploration and processing of such data will be impossible.\n",
    "\n",
    "The `h5RDMtoolbox` solves this by introducing the **conventions**. A convention is a selection of **standard_attributes** which clearly define how metadata need to be provided and for which HDF5 objects. It is written in a YAML file and is defined by the stakeholders (See left side in Figure below). Please note, that it is up to the user, who is defining the standard attributes, whether the standard is good scientific practice and fulfills the requirements of FAIR metadata."
   ]
  },
  {
   "cell_type": "markdown",
   "id": "ad428f24-39c0-4f1e-af01-59dc0c1dcbb8",
   "metadata": {},
   "source": [
    "## Learning from a simple practical example\n",
    "To understand the concept of a convention easier, let's start by examining a simple example:\n",
    "\n",
    "The work with scientific data should include its physical unit. So, as a data manager, we can define our requirement like so:\n",
    "\n",
    "    Each dataset in an HDF5 file must have the attribute \"units\"\n",
    "\n",
    "<!-- The heart of standard attributes is the **validator**. They become effective when metadata is written. The Flow chart illustrates the writing and reading procedure. The example is made for writing and reading the attribute ('units').\n",
    "\n",
    "1. Writing (`ds.units = 'm/s'`): If \"units\" is defined in the convention, the validator checks the value. \"m/s\" is a correct unit, so it will be written. Otherwise, invalid values raise an error.\n",
    "3. Reading (`print(ds.units)`): The validator becomes effective upon reading attributes, that are standardized. However, then invalid value only raise warnings, in order to allow the user to still work with the file and fix the issue.\n",
    "\n",
    "<img src=\"../_static/h5RDMtoolbox_standard_attribute_concept.png\" alt=\"h5RDMtoolbox_standard_attribute_concept.png\" width=\"800\"/> -->"
   ]
  },
  {
   "cell_type": "markdown",
   "id": "c80aeb13-312b-4c4c-8a41-e0f9507e5b3e",
   "metadata": {},
   "source": [
    "Consider the following code. It shows the creation of an HDF5 dataset:"
   ]
  },
  {
   "cell_type": "code",
   "execution_count": 1,
   "id": "f0f92a55-9a6b-4c3e-a2d6-577bec8f631d",
   "metadata": {},
   "outputs": [],
   "source": [
    "import h5rdmtoolbox as h5tbx\n",
    "\n",
    "# h5tbx.conventions.logger.setLevel('DEBUG')\n",
    "\n",
    "with h5tbx.File() as h5:\n",
    "    ds = h5.create_dataset('velocity', data=[1, -4, 3])\n",
    "    ds.attrs['unit'] = 'meter_per_second'\n",
    "\n",
    "non_compliant_filename = h5.hdf_filename"
   ]
  },
  {
   "cell_type": "markdown",
   "id": "f3ca7c83-e689-488c-9340-68aff9825050",
   "metadata": {
    "tags": []
   },
   "source": [
    "The creator of the dataset tried to comply with the above requirement by adding a unit attribute to the dataset. However, a spelling error occurred. Also, with a bit of experience, we can already guess that the value for unit is not easily processed by further (Python) processing. Using \"m/s\" probably would be easier (because we could consider using the package `pint`. Also, printing the unit-attribute in a plot looks not so nice, if it is \"meter_per_second\")."
   ]
  },
  {
   "cell_type": "markdown",
   "id": "c8807d3b-adaa-469d-aeb5-a2113d8b390c",
   "metadata": {},
   "source": [
    "Now, without knowing how conventions are designed and work yet, let's load a convention definition file (a [YAML](https://pyyaml.org/wiki/PyYAMLDocumentation) file). We activate it by calling `use()`"
   ]
  },
  {
   "cell_type": "code",
   "execution_count": 2,
   "id": "1861fd37-35bc-4833-b484-337b600dd8f8",
   "metadata": {},
   "outputs": [
    {
     "data": {
      "text/plain": [
       "using(\"tutorial-units-convention\")"
      ]
     },
     "execution_count": 2,
     "metadata": {},
     "output_type": "execute_result"
    }
   ],
   "source": [
    "cv = h5tbx.conventions.from_yaml('units-convention.yaml', overwrite=True)\n",
    "h5tbx.use(cv)  # or if we know the name: h5tbx.use(\"tutorial-units-convention\")"
   ]
  },
  {
   "cell_type": "markdown",
   "id": "d347d5c8-9bd3-4121-aa09-ecf44220aa36",
   "metadata": {},
   "source": [
    "It turns out, that the `create_dataset` now requires an additional parameter, namely \"units\". This was defined in the YAML file (we take a look into the file later):"
   ]
  },
  {
   "cell_type": "code",
   "execution_count": 3,
   "id": "db748ea2-03b1-4163-8e49-9e1c0178f6c2",
   "metadata": {},
   "outputs": [
    {
     "name": "stderr",
     "output_type": "stream",
     "text": [
      "2023-12-10_19:02:03,377 ERROR    [core.py:855] Could not set attribute \"units\" with value \"_SpecialDefaults.EMPTY\" to dataset \"velocity\"\n"
     ]
    },
    {
     "name": "stdout",
     "output_type": "stream",
     "text": [
      "Parameter (standard attribute) \"units\" must be provided and cannot be None!\n"
     ]
    }
   ],
   "source": [
    "with h5tbx.File() as h5:\n",
    "    try:\n",
    "        ds = h5.create_dataset('velocity', data=[1, -4, 3])\n",
    "    except h5tbx.errors.StandardAttributeError as e:\n",
    "        print(e)"
   ]
  },
  {
   "cell_type": "markdown",
   "id": "dc357df1-8db3-451f-8a6f-1421f8d0f81e",
   "metadata": {},
   "source": [
    "As a result, the code needs to be fixed.\n",
    "\n",
    "The above is direct feedback when creating HDF5 files and using the `h5RDMtoolbox` and therefore helpful for developers or data creators.\n",
    "\n",
    "But what if we have a file from another source that is in compliance with our convention? Then we can call `.validate()` from our convention and pass the filename of the file that we want to validate. We will get a list of dictionary entries, which tell us which attributes are invalid and why:"
   ]
  },
  {
   "cell_type": "code",
   "execution_count": 4,
   "id": "050030d9-6821-4104-b2c6-c8919c7ea53d",
   "metadata": {},
   "outputs": [
    {
     "data": {
      "text/plain": [
       "[{'name': '/velocity', 'attr_name': 'units', 'reason': 'missing_attribute'}]"
      ]
     },
     "execution_count": 4,
     "metadata": {},
     "output_type": "execute_result"
    }
   ],
   "source": [
    "cv.validate(non_compliant_filename)"
   ]
  },
  {
   "cell_type": "markdown",
   "id": "13410f52-f2f2-4e6d-933b-9b1aa8361771",
   "metadata": {},
   "source": [
    "## The convention file\n",
    "\n",
    "A convention is defined in a YAML (or JSON) file and consists of three parts:"
   ]
  },
  {
   "cell_type": "raw",
   "id": "e73423a8-2257-4b61-847e-95f5a83aeb91",
   "metadata": {},
   "source": [
    "# 1. General information at the header\n",
    "#-------------------------------------\n",
    "__name__: h5rdmtoolbox-tuturial-convention\n",
    "__institution__: https://orcid.org/members/001G000001e5aUTIAY\n",
    "__contact__: https://orcid.org/0000-0001-8729-0482\n",
    "\n",
    "\n",
    "# 2. Definition of standard attributes\n",
    "#-------------------------------------\n",
    "contact_id:\n",
    "  description: ID of a person to contact for questions.\n",
    "  target_method: __init__\n",
    "  validator: $str\n",
    "  default_value: $EMPTY\n",
    "\n",
    "comment:\n",
    "  description: Comment to a dataset\n",
    "  target_method: create_dataset\n",
    "  validator: $regex(^[A-Z].*)\n",
    "  default_value: $NONE\n",
    "  \n",
    "data_type:\n",
    "  description: 'Type of data in file. Can be numerical or experimental'\n",
    "  target_method: __init__\n",
    "  validator: $dataSourceTypes\n",
    "\n",
    "# 3. Special type definitions\n",
    "#----------------------------\n",
    "$dataSourceTypes:\n",
    "  - numerical\n",
    "  - experimental"
   ]
  },
  {
   "cell_type": "markdown",
   "id": "6b161741-59ad-4ef1-816b-7afdd494a01c",
   "metadata": {},
   "source": [
    "1. General information at the header indicated by double underscores:"
   ]
  },
  {
   "cell_type": "raw",
   "id": "e5270f0a-292c-42de-b644-d1bf406798d9",
   "metadata": {},
   "source": [
    "__name__: h5rdmtoolbox-tuturial-convention\n",
    "__institution__: https://orcid.org/members/001G000001e5aUTIAY\n",
    "__contact__: https://orcid.org/0000-0001-8729-0482"
   ]
  },
  {
   "cell_type": "markdown",
   "id": "14ed525f-e6b9-480b-83a6-315e8f8b27a5",
   "metadata": {},
   "source": [
    "2. Definition of standard attributes\n",
    "\n",
    "A `standard_attribute` has various properties like the `description`, `target_method` (during which the standard attribute can be passed), the `validator`, which validates the input and the `default_value`. The latter can be \"\\\\$EMPTY\" indicating that no default value is set, and thus this attribute is obligatory. \"\\\\$NONE\" indicates, that the attribute is optional. And finally, a valid value can be given to be written even if no input is provided for this standard attribute."
   ]
  },
  {
   "cell_type": "raw",
   "id": "4a8b3bfc-4b4c-410f-be03-50f04444c7b9",
   "metadata": {},
   "source": [
    "contact_id:\n",
    "  description: ID of a person to contact for questions.\n",
    "  target_method: __init__\n",
    "  validator: $str\n",
    "  default_value: $EMPTY\n",
    "\n",
    "comment:\n",
    "  description: Comment to a dataset\n",
    "  target_method: create_dataset\n",
    "  validator: $regex(^[A-Z].*)\n",
    "  default_value: $NONE\n",
    "  \n",
    "data_type:\n",
    "  description: 'Type of data in file. Can be numerical or experimental'\n",
    "  target_method: __init__\n",
    "  validator: $dataSourceTypes"
   ]
  },
  {
   "cell_type": "markdown",
   "id": "eca86b74-6d02-4085-acf8-88dfad601db4",
   "metadata": {},
   "source": [
    "3. Special type definitions\n",
    "\n",
    "Here the allowed values for the standard attribute `data_type` is listed:"
   ]
  },
  {
   "cell_type": "raw",
   "id": "6ac8a14f-82cc-4838-b9a7-e0070f9c370a",
   "metadata": {},
   "source": [
    "$dataSourceTypes:\n",
    "  - numerical\n",
    "  - experimental"
   ]
  },
  {
   "cell_type": "markdown",
   "id": "e2b37652-d174-4cd8-8104-3f89f498a52a",
   "metadata": {},
   "source": [
    "## Reading a Convention"
   ]
  },
  {
   "cell_type": "markdown",
   "id": "5aac95f3-c228-4ac3-877b-69dc28d84e9f",
   "metadata": {},
   "source": [
    "Let's read the above example file into the class `Convention`:"
   ]
  },
  {
   "cell_type": "code",
   "execution_count": 5,
   "id": "2e3d59ca-8de0-4821-bdb7-27a99b259b8d",
   "metadata": {},
   "outputs": [
    {
     "data": {
      "text/plain": [
       "\u001b[1mConvention(\"h5rdmtoolbox-tuturial-convention\")\u001b[0m\n",
       "contact: https://orcid.org/0000-0001-8729-0482\n",
       "  File.__init__():\n",
       "    * \u001b[1mcontact_id\u001b[0m:\n",
       "\t\tID of a person to contact for questions.\n",
       "    * \u001b[3mdata_type\u001b[0m (default=None):\n",
       "\t\tType of data in file. Can be numerical or experimental.\n",
       "  Group.create_dataset():\n",
       "    * \u001b[3mcomment\u001b[0m (default=None):\n",
       "\t\tComment to a dataset."
      ]
     },
     "execution_count": 5,
     "metadata": {},
     "output_type": "execute_result"
    }
   ],
   "source": [
    "cv = h5tbx.conventions.from_yaml('example_convention.yaml')\n",
    "cv"
   ]
  },
  {
   "cell_type": "markdown",
   "id": "14dc5c24-9645-43aa-b76b-349d8a7e8e02",
   "metadata": {},
   "source": [
    "In order to make the convention affective in this session, it must be enabled. We do this by calling `use()`:"
   ]
  },
  {
   "cell_type": "code",
   "execution_count": 6,
   "id": "8dfd1a89-ba4d-4333-bed4-dbd9dae8fadd",
   "metadata": {},
   "outputs": [
    {
     "data": {
      "text/plain": [
       "using(\"h5rdmtoolbox-tuturial-convention\")"
      ]
     },
     "execution_count": 6,
     "metadata": {},
     "output_type": "execute_result"
    }
   ],
   "source": [
    "h5tbx.use(cv)"
   ]
  },
  {
   "cell_type": "markdown",
   "id": "cd93051d-6537-4ec2-a07a-9f9ecf1b88be",
   "metadata": {},
   "source": [
    "Now, we will get an error if we create a HDF5 file without providing the attribute `contact_id`. As we made it a required attribute, it must be provided during file initialization:"
   ]
  },
  {
   "cell_type": "code",
   "execution_count": 7,
   "id": "bc760582-760d-45dc-ae88-8346d3cfb387",
   "metadata": {},
   "outputs": [
    {
     "name": "stdout",
     "output_type": "stream",
     "text": [
      "Parameter (standard attribute) \"contact_id\" must be provided and cannot be None!\n"
     ]
    }
   ],
   "source": [
    "try:\n",
    "    with h5tbx.File() as h5:\n",
    "        pass\n",
    "except h5tbx.errors.StandardAttributeError as e:\n",
    "    print(e)"
   ]
  },
  {
   "cell_type": "markdown",
   "id": "fc5d0e45-6aaf-473b-b5ca-84cd1ee83443",
   "metadata": {},
   "source": [
    "Providing a wrong value raises an error, too:"
   ]
  },
  {
   "cell_type": "code",
   "execution_count": 8,
   "id": "105511eb-f632-471a-b53c-7945440da8f4",
   "metadata": {},
   "outputs": [
    {
     "name": "stderr",
     "output_type": "stream",
     "text": [
      "2023-12-10_19:02:03,506 ERROR    [core.py:855] Could not set attribute \"comment\" with value \"velocity field\" to dataset \"velocity\"\n"
     ]
    },
    {
     "name": "stdout",
     "output_type": "stream",
     "text": [
      "Setting \"velocity field\" for standard attribute \"comment\" failed. Original error: 1 validation error for comment\n",
      "value\n",
      "  Value error, Invalid format for pattern [type=value_error, input_value='velocity field', input_type=str]\n",
      "    For further information visit https://errors.pydantic.dev/2.5/v/value_error\n"
     ]
    }
   ],
   "source": [
    "try:\n",
    "    with h5tbx.File(contact_id='id1722') as h5:\n",
    "        h5.create_dataset(name='velocity', shape=(3, 4), comment='velocity field')\n",
    "except h5tbx.errors.StandardAttributeError as e:\n",
    "    print(e)"
   ]
  },
  {
   "cell_type": "markdown",
   "id": "bf48ff4a-f561-474f-833a-d4b8e4516f3c",
   "metadata": {},
   "source": [
    "Now, we got it:"
   ]
  },
  {
   "cell_type": "code",
   "execution_count": 9,
   "id": "0669ccff-9563-4a0c-ab66-e07224f8d42b",
   "metadata": {},
   "outputs": [
    {
     "data": {
      "text/html": [
       "<head><style>/*\r\n",
       "CSS inspired by xarray: https://github.com/pydata/xarray\r\n",
       "*/\r\n",
       ".h5tb-header > div,\r\n",
       ".h5tb-header > ul {\r\n",
       "    display: inline;\r\n",
       "    margin-top: 0;\r\n",
       "    margin-bottom: 0;\r\n",
       "}\r\n",
       "\r\n",
       ".h5tb-dataarray-cls,\r\n",
       ".h5tb-dataarray-name {\r\n",
       "    margin-left: 2px;\r\n",
       "    margin-right: 10px;\r\n",
       "}\r\n",
       "\r\n",
       ".h5tb-dataarray-name {\r\n",
       "    color: #000;\r\n",
       "}\r\n",
       "\r\n",
       ".h5grp-sections {\r\n",
       "    list-style: none;\r\n",
       "    padding: 3px;\r\n",
       "    margin: 0;\r\n",
       "}\r\n",
       "\r\n",
       ".h5grp-sections input {\r\n",
       "    display: none;\r\n",
       "}\r\n",
       "\r\n",
       ".h5grp-sections label {\r\n",
       "    display: inline;\r\n",
       "}\r\n",
       "\r\n",
       ".h5grp-sections > li > input + label > span {\r\n",
       "    display: inline;\r\n",
       "    margin-left: 4px;\r\n",
       "}\r\n",
       "\r\n",
       ".h5grp-sections > li > input:checked + label > span {\r\n",
       "    display: none;\r\n",
       "}\r\n",
       "\r\n",
       ".h5grp-sections input:enabled + label {\r\n",
       "    cursor: pointer;\r\n",
       "}\r\n",
       "\r\n",
       ".h5grp-sections input:not(.h5tb-values-in) ~ ul {\r\n",
       "    display: none;\r\n",
       "}\r\n",
       "\r\n",
       ".h5grp-sections input:not(.h5tb-values-in):checked ~ ul {\r\n",
       "    display: block;\r\n",
       "}\r\n",
       "\r\n",
       ".h5grp-sections > li > input + label {\r\n",
       "    width: 140px;\r\n",
       "    color: #555;\r\n",
       "    font-weight: 500;\r\n",
       "    padding: 4px 0 2px 0;\r\n",
       "}\r\n",
       "\r\n",
       "\r\n",
       ".h5grp-sections > li > input + label:before {\r\n",
       "    display: inline-block;\r\n",
       "    content: '+';\r\n",
       "    font-size: 11px;\r\n",
       "    width: 15px;\r\n",
       "    text-align: center;\r\n",
       "}\r\n",
       "\r\n",
       ".h5grp-sections > li > input:disabled + label:before {\r\n",
       "    color: #777;\r\n",
       "}\r\n",
       "\r\n",
       ".h5grp-sections > li > input:checked + label:before {\r\n",
       "    content: '-';\r\n",
       "}\r\n",
       "\r\n",
       ".h5tb-dim-list {\r\n",
       "    display: inline-block !important;\r\n",
       "    list-style: none;\r\n",
       "    padding: 0;\r\n",
       "}\r\n",
       "\r\n",
       ".h5tb-dim-list li {\r\n",
       "    display: inline-block;\r\n",
       "    padding: 0;\r\n",
       "    margin: 0;\r\n",
       "}\r\n",
       "\r\n",
       ".h5tb-dim-list:before {\r\n",
       "    content: '(';\r\n",
       "}\r\n",
       "\r\n",
       ".h5tb-dim-list:after {\r\n",
       "    content: ')';\r\n",
       "}\r\n",
       "\r\n",
       ".h5tb-dim-list li:not(:last-child):after {\r\n",
       "    content: ',';\r\n",
       "}\r\n",
       "\r\n",
       ".h5tb-has-index {\r\n",
       "    text-decoration: underline;\r\n",
       "}\r\n",
       "\r\n",
       ".h5tb-var-list {\r\n",
       "    list-style: none;\r\n",
       "    padding: 0;\r\n",
       "    margin: 0;\r\n",
       "}\r\n",
       "\r\n",
       ".h5tb-var-list > li {\r\n",
       "    background-color: #fcfcfc;\r\n",
       "    overflow: hidden;\r\n",
       "}\r\n",
       "\r\n",
       ".h5tb-var-list > li:nth-child(odd) {\r\n",
       "    background-color: #efefef;\r\n",
       "}\r\n",
       "\r\n",
       ".h5tb-var-list li:hover {\r\n",
       "    background-color: rgba(3, 169, 244, .2);\r\n",
       "}\r\n",
       "\r\n",
       ".h5tb-var-list li > span {\r\n",
       "    display: inline-block;\r\n",
       "}\r\n",
       "\r\n",
       "input.h5tb-varname-in + label {\r\n",
       "    width: 140px;\r\n",
       "    padding-left: 0;\r\n",
       "    font-weight: bold;\r\n",
       "}\r\n",
       "\r\n",
       ".h5tb-dataset {\r\n",
       "    width: 100px;\r\n",
       "}\r\n",
       "\r\n",
       ".h5tb-attributevalue {\r\n",
       "    width: 100px;\r\n",
       "    text-align: left;\r\n",
       "    color: #888;\r\n",
       "    white-space: nowrap;\r\n",
       "    font-size: 12px;\r\n",
       "}\r\n",
       "\r\n",
       "input.h5tb-varname-in + label:before {\r\n",
       "    content: ' ';\r\n",
       "    display: inline-block;\r\n",
       "    font-size: 11px;\r\n",
       "    width: 15px;\r\n",
       "    padding-left: 2px;\r\n",
       "    padding-right: 2px;\r\n",
       "    text-align: center;\r\n",
       "    color: #aaa;\r\n",
       "    text-decoration: none !important;\r\n",
       "}\r\n",
       "\r\n",
       "input.h5tb-varname-in:enabled + label:hover:before {\r\n",
       "    color: #000;\r\n",
       "}\r\n",
       "\r\n",
       "input.h5tb-varname-in:checked + label:before {\r\n",
       "    color: #ccc;\r\n",
       "}\r\n",
       "\r\n",
       ".h5tb-dims {\r\n",
       "    width: 280px;\r\n",
       "    white-space: nowrap;\r\n",
       "}\r\n",
       "\r\n",
       ".h5tb-attr-list {\r\n",
       "    list-style: none;\r\n",
       "    background-color: rgba(0,0,0,.0);\r\n",
       "    padding-bottom: 6px;\r\n",
       "    color: #6a6c73;\r\n",
       "}\r\n",
       "\r\n",
       ".h5tb-attr-list li,\r\n",
       ".h5tb-attr-list li:hover {\r\n",
       "    background-color: rgba(0,0,0,.0);\r\n",
       "}</style></head>\n",
       "<div class='h5tb-warp'>\n",
       "\n",
       "              <ul style=\"list-style-type: none;\" class=\"h5grp-sections\">\n",
       "                    <li>\n",
       "                        <input id=\"group-ds--5331446200\" type=\"checkbox\" checked>\n",
       "                        <label style=\"font-weight: bold\" for=\"group-ds--5331446200\">\n",
       "                        /<span>(0)</span></label>\n",
       "                  \n",
       "\n",
       "                    <ul class=\"h5tb-attr-list\"><li style=\"list-style-type: none; font-style: italic\">__h5rdmtoolbox_version__ : 0.13.0</li><li style=\"list-style-type: none; font-style: italic\">contact_id : id1722</li>\n",
       "                    </ul>\n",
       "</li>\n",
       "</ul>\n",
       "</div>"
      ],
      "text/plain": [
       "<IPython.core.display.HTML object>"
      ]
     },
     "metadata": {},
     "output_type": "display_data"
    }
   ],
   "source": [
    "with h5tbx.File(contact_id='id1722') as h5:\n",
    "    h5.dump()"
   ]
  },
  {
   "cell_type": "markdown",
   "id": "461cd227-2da8-4190-80b7-ce8b540b9a69",
   "metadata": {},
   "source": [
    "Note, that if we were to reopen the file not in read-only (r) but in read-write mode, then the standard attributes which already exist are not checked again. So if the HDF5 was written with another package, e.g. h5py, then the value might be wrong:"
   ]
  },
  {
   "cell_type": "code",
   "execution_count": 10,
   "id": "9c650b79-48e6-4b30-8423-ef16bf47d829",
   "metadata": {},
   "outputs": [],
   "source": [
    "with h5tbx.File(name=h5.hdf_filename, mode='r+') as h5:\n",
    "    pass # note, that we were not required to pass \"data_type\" as it was present already!"
   ]
  },
  {
   "cell_type": "markdown",
   "id": "d84944e6-3b34-487d-93a0-be05d8978345",
   "metadata": {},
   "source": [
    "Note, that a convention can also be enabled only **temporarily** using the context manager syntax:"
   ]
  },
  {
   "cell_type": "code",
   "execution_count": 11,
   "id": "599c91e0-fded-4cf7-9706-d5dbf1eddb65",
   "metadata": {},
   "outputs": [],
   "source": [
    "with h5tbx.use(cv):\n",
    "    with h5tbx.File(contact_id='id1722') as h5:\n",
    "        pass"
   ]
  },
  {
   "cell_type": "markdown",
   "id": "14aed23f-cca2-47c5-a02d-a9afd8fe63be",
   "metadata": {},
   "source": [
    "## Importing/Loading an online convention\n",
    "\n",
    "The intended distribution of convention is via online repositories. The YAML file hence should be uploaded such it is accessible to all users. The `h5RDMtoolbox` currently favors the usage of [Zenodo](https://zenodo.org) repositories. The advantages are long-term storage and assignment of a DOI. However, files accessible via an URL can also be downloaded.\n",
    "\n",
    "A tutorial convention is published [here](https://zenodo.org/record/8276817). By calling `from_zenodo()` the convention object is created:"
   ]
  },
  {
   "cell_type": "code",
   "execution_count": 12,
   "id": "0641aa3c-152f-4f78-81b3-c6ddf4e9e531",
   "metadata": {
    "scrolled": true
   },
   "outputs": [
    {
     "data": {
      "text/plain": [
       "\u001b[1mConvention(\"h5rdmtoolbox-tutorial-convention\")\u001b[0m\n",
       "contact: https://orcid.org/0000-0001-8729-0482\n",
       "  File.__init__():\n",
       "    * \u001b[1mdata_type\u001b[0m:\n",
       "\t\tType of data in file. Can be numerical, analytical or experimental.\n",
       "    * \u001b[1mcontact\u001b[0m:\n",
       "\t\tContact or responsible person for the full file. Contact is represented by an ORCID.\n",
       "    * \u001b[3mstandard_name_table\u001b[0m (default=<h5rdmtoolbox.conventions.consts.DefaultValue object at 0x0000021B79E33820>):\n",
       "\t\tThe standard name table of the convention.\n",
       "    * \u001b[3mcomment\u001b[0m (default=None):\n",
       "\t\tComment describes the file content in more detail.\n",
       "    * \u001b[3mreferences\u001b[0m (default=None):\n",
       "\t\tWeb resources serving as references for the full file.\n",
       "  Group.create_dataset():\n",
       "    * \u001b[3munits\u001b[0m (default=None):\n",
       "\t\tThe physical unit of the dataset. If dimensionless, the unit is ''.\n",
       "    * \u001b[3mstandard_name\u001b[0m (default=None):\n",
       "\t\tStandard name of the dataset. If not set, the long_name attribute must be given.\n",
       "    * \u001b[3mlong_name\u001b[0m (default=None):\n",
       "\t\tAn comprehensive description of the dataset. If not set, the standard_name attribute must be given.\n",
       "    * \u001b[3mcomment\u001b[0m (default=None):\n",
       "\t\tComment describes the dataset in more detail.\n",
       "    * \u001b[3mreferences\u001b[0m (default=None):\n",
       "\t\tWeb resources serving as references for the dataset.\n",
       "  Group.create_group():\n",
       "    * \u001b[3mcomment\u001b[0m (default=None):\n",
       "\t\tComment describes the group content in more detail.\n",
       "    * \u001b[3mreferences\u001b[0m (default=None):\n",
       "\t\tWeb resources serving as references for the group."
      ]
     },
     "execution_count": 12,
     "metadata": {},
     "output_type": "execute_result"
    }
   ],
   "source": [
    "cv = h5tbx.conventions.from_zenodo(doi='https://zenodo.org/records/10156750')\n",
    "cv"
   ]
  },
  {
   "cell_type": "markdown",
   "id": "8bf03407-8b48-4bc2-b948-02322f6e48d2",
   "metadata": {},
   "source": [
    "## Effect of enabling a convention\n",
    "\n",
    "The convention above defined the usage of certain attributes with certain methods. E.g. \"data_type\" is to be used when a HDF5 file is created. When the convention is enabled, the **signature of the respective methods is changed**. To proof this, let's implement a small function, which prints all parameters of a given function and inspect the effect of the convention in the `__init__` method:"
   ]
  },
  {
   "cell_type": "code",
   "execution_count": 13,
   "id": "bff929ab-d133-48bd-8c16-b7bd3080a426",
   "metadata": {},
   "outputs": [
    {
     "data": {
      "text/plain": [
       "<StandardAttribute [keyword](\"standard_name\"): default_value=\"None\" | \"Standard name of the dataset. If not set, the long_name attribute must be given.\">"
      ]
     },
     "execution_count": 13,
     "metadata": {},
     "output_type": "execute_result"
    }
   ],
   "source": [
    "cv.properties[h5tbx.Dataset]['standard_name']"
   ]
  },
  {
   "cell_type": "code",
   "execution_count": 14,
   "id": "7f2295ae-7b1f-431f-8168-cf340b80adc2",
   "metadata": {},
   "outputs": [
    {
     "name": "stdout",
     "output_type": "stream",
     "text": [
      "no convention: \n",
      "\n",
      "Parameters for \"__init__\":\n",
      "  - name\n",
      "  - mode\n",
      "  - layout\n",
      "  - attrs\n",
      "  - kwargs\n",
      "\n",
      "------------\n",
      "with convention h5rdmtoolbox-tutorial-convention: (standard attributes are made bold)\n",
      "\n",
      "Parameters for \"__init__\":\n",
      "  - name\n",
      "  - mode\n",
      "  - layout\n",
      "  - attrs\n",
      "  - \u001b[1mdata_type\u001b[0m\n",
      "  - \u001b[1mstandard_name_table\u001b[0m\n",
      "  - \u001b[1mcomment\u001b[0m\n",
      "  - \u001b[1mcontact\u001b[0m\n",
      "  - \u001b[1mreferences\u001b[0m\n",
      "  - kwargs\n"
     ]
    }
   ],
   "source": [
    "import inspect\n",
    "\n",
    "def print_method_parameters(method):\n",
    "    print(f'\\nParameters for \"{method.__name__}\":')\n",
    "    for param in inspect.signature(method).parameters.values():\n",
    "        if not param.name == 'self':\n",
    "            if param.name in h5tbx.conventions.get_current_convention().methods[h5tbx.File].get('__init__', {}).keys():\n",
    "                print(f'  - {h5tbx._repr.make_bold(param.name)}')\n",
    "            else:\n",
    "                print(f'  - {param.name}')\n",
    "\n",
    "methods = (h5tbx.File.__init__, h5tbx.Group.create_group, h5tbx.Group.create_dataset)\n",
    "\n",
    "print('no convention: ')\n",
    "h5tbx.use(None)\n",
    "print_method_parameters(h5tbx.File.__init__)\n",
    "\n",
    "print(f'\\n------------\\nwith convention {cv.name}: (standard attributes are made bold)')\n",
    "h5tbx.use(cv)\n",
    "print_method_parameters(h5tbx.File.__init__)"
   ]
  },
  {
   "cell_type": "code",
   "execution_count": 15,
   "id": "a0b03b0c-8d48-46d3-8c0e-98d5dc758650",
   "metadata": {},
   "outputs": [
    {
     "data": {
      "text/plain": [
       "using(\"h5py\")"
      ]
     },
     "execution_count": 15,
     "metadata": {},
     "output_type": "execute_result"
    }
   ],
   "source": [
    "h5tbx.use(None)  # fall back to the default convention"
   ]
  }
 ],
 "metadata": {
  "kernelspec": {
   "display_name": "Python 3 (ipykernel)",
   "language": "python",
   "name": "python3"
  },
  "language_info": {
   "codemirror_mode": {
    "name": "ipython",
    "version": 3
   },
   "file_extension": ".py",
   "mimetype": "text/x-python",
   "name": "python",
   "nbconvert_exporter": "python",
   "pygments_lexer": "ipython3",
   "version": "3.8.18"
  }
 },
 "nbformat": 4,
 "nbformat_minor": 5
}
