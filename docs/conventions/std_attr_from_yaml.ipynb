{
 "cells": [
  {
   "cell_type": "code",
   "execution_count": 233,
   "id": "23b7d9e0-28d1-4fce-a651-0a97ff5cd80a",
   "metadata": {},
   "outputs": [],
   "source": [
    "import yaml\n",
    "import pathlib"
   ]
  },
  {
   "cell_type": "code",
   "execution_count": 234,
   "id": "b009b029-1462-42ec-94b4-34628b16f86a",
   "metadata": {},
   "outputs": [
    {
     "data": {
      "text/plain": [
       "WindowsPath('C:/Users/da4323/Documents/programming/GitHub/h5RDMtoolbox/docs/conventions/std_attr.yaml')"
      ]
     },
     "execution_count": 234,
     "metadata": {},
     "output_type": "execute_result"
    }
   ],
   "source": [
    "pathlib.Path('std_attr.yaml').absolute()"
   ]
  },
  {
   "cell_type": "code",
   "execution_count": 119,
   "id": "2f348e4f-9b00-49b8-b2e6-ae8e90d0419a",
   "metadata": {},
   "outputs": [
    {
     "data": {
      "text/plain": [
       "{'institution': 'Karlsruhe Institute of Technology',\n",
       " 'contact': {'type': 'str',\n",
       "  'validator': '$orcid',\n",
       "  'description': 'contact or responsible person described by an ORCID-ID'},\n",
       " 'title': {'type': 'str',\n",
       "  'validator': {'$regex': '^[A-Z].*(?<!\\\\s)$'},\n",
       "  'cls': 'dataset',\n",
       "  'method': '__init__',\n",
       "  'description': \"The attribute 'title' describes the content of the file. It must start with a capital letter and must not end with a space.\"},\n",
       " 'units': {'type': 'str',\n",
       "  'validator': '$standard_name_unit',\n",
       "  'method': 'create_dataset'},\n",
       " 'piv_method': {'type': 'str',\n",
       "  'validator': {'$in': [{'single_pass': None},\n",
       "    {'multi_pass': None},\n",
       "    {'multi_grid': None}],\n",
       "   'description': 'PIV algorithms'}},\n",
       " 'standard_name': {'type': 'str', 'validator': '$standard_name'}}"
      ]
     },
     "execution_count": 119,
     "metadata": {},
     "output_type": "execute_result"
    }
   ],
   "source": [
    "with open('std_attr.yaml') as f:\n",
    "    d = yaml.safe_load(f)\n",
    "d"
   ]
  },
  {
   "cell_type": "code",
   "execution_count": 36,
   "id": "de7e35a8-feea-4533-89e0-57f78e59c8e0",
   "metadata": {},
   "outputs": [
    {
     "data": {
      "text/plain": [
       "{'type': 'str',\n",
       " 'validator': {'$regex': '^[A-Z].*(?<!\\\\s)$'},\n",
       " 'h5obj': {'dataset': False, 'group': False, 'root': True},\n",
       " 'description': \"The attribute 'title' describes the content of the file. It must start with a capital letter and must not end with a space.\"}"
      ]
     },
     "execution_count": 36,
     "metadata": {},
     "output_type": "execute_result"
    }
   ],
   "source": [
    "d['title']"
   ]
  },
  {
   "cell_type": "code",
   "execution_count": 37,
   "id": "62edddf1-ee23-4a1b-adce-f7cda0a3d13a",
   "metadata": {},
   "outputs": [
    {
     "data": {
      "text/plain": [
       "'^[A-Z].*(?<!\\\\s)$'"
      ]
     },
     "execution_count": 37,
     "metadata": {},
     "output_type": "execute_result"
    }
   ],
   "source": [
    "d['title']['validator']['$regex']"
   ]
  },
  {
   "cell_type": "code",
   "execution_count": 38,
   "id": "fe70971a-2600-4e78-8051-62a86e38cffe",
   "metadata": {},
   "outputs": [],
   "source": [
    "import re"
   ]
  },
  {
   "cell_type": "code",
   "execution_count": 44,
   "id": "ab12fb42-bc56-4719-be0f-22dd4ec550f7",
   "metadata": {},
   "outputs": [
    {
     "data": {
      "text/plain": [
       "<re.Match object; span=(0, 5), match='Hallo'>"
      ]
     },
     "execution_count": 44,
     "metadata": {},
     "output_type": "execute_result"
    }
   ],
   "source": [
    "re.match(d['title']['validator']['$regex'], 'Hallo')"
   ]
  },
  {
   "cell_type": "code",
   "execution_count": 42,
   "id": "5ece0a2a-9fa8-4dd3-bf00-aad3382ca8d9",
   "metadata": {},
   "outputs": [
    {
     "data": {
      "text/plain": [
       "<re.Match object; span=(0, 5), match='Hallo'>"
      ]
     },
     "execution_count": 42,
     "metadata": {},
     "output_type": "execute_result"
    }
   ],
   "source": [
    "re.match('^[A-Z].*(?<!\\\\s)$', 'Hallo')"
   ]
  },
  {
   "cell_type": "code",
   "execution_count": 232,
   "id": "bce04e3f-8fa3-4374-82b6-cba41770bc96",
   "metadata": {},
   "outputs": [
    {
     "data": {
      "text/plain": [
       "('$regex', '^[A-Z].*(?<!\\\\s)$')"
      ]
     },
     "execution_count": 232,
     "metadata": {},
     "output_type": "execute_result"
    }
   ],
   "source": [
    "name, value = tuple(d['title']['validator'].items())[0]\n",
    "name, value"
   ]
  },
  {
   "cell_type": "code",
   "execution_count": 213,
   "id": "bde611e8-bd55-42c1-8cb9-7aca4e06f1c0",
   "metadata": {},
   "outputs": [],
   "source": [
    "standard_title = RegexStandardAttribute.from_dict(name='title', **d['title'])"
   ]
  },
  {
   "cell_type": "code",
   "execution_count": 214,
   "id": "76d9528a-2de4-4159-8fe1-4a837274f5e2",
   "metadata": {},
   "outputs": [
    {
     "data": {
      "text/plain": [
       "<StdAttr(\"title\"): \"The attribute 'title' describes the content of the file. It must start with a capital letter and must not end with a space.\">"
      ]
     },
     "execution_count": 214,
     "metadata": {},
     "output_type": "execute_result"
    }
   ],
   "source": [
    "standard_title"
   ]
  },
  {
   "cell_type": "code",
   "execution_count": 215,
   "id": "4ce4d83e-4ccf-4382-b14a-2f7dd353d60e",
   "metadata": {},
   "outputs": [
    {
     "data": {
      "text/plain": [
       "True"
      ]
     },
     "execution_count": 215,
     "metadata": {},
     "output_type": "execute_result"
    }
   ],
   "source": [
    "standard_title.validator('Hallo')"
   ]
  },
  {
   "cell_type": "code",
   "execution_count": 218,
   "id": "918b2c83-cb9a-4dbd-abe0-e18c53bd32ae",
   "metadata": {},
   "outputs": [
    {
     "ename": "StandardAttributeError",
     "evalue": "The attribute \"title\" is standardized. It seems, that the input \"hallo\" is not valid. Here is the description of the standard attribute, which may help to find the issue: \"The attribute 'title' describes the content of the file. It must start with a capital letter and must not end with a space.\"",
     "output_type": "error",
     "traceback": [
      "\u001b[1;31m---------------------------------------------------------------------------\u001b[0m",
      "\u001b[1;31mStandardAttributeError\u001b[0m                    Traceback (most recent call last)",
      "Cell \u001b[1;32mIn[218], line 4\u001b[0m\n\u001b[0;32m      1\u001b[0m \u001b[38;5;28;01mimport\u001b[39;00m \u001b[38;5;21;01mh5rdmtoolbox\u001b[39;00m \u001b[38;5;28;01mas\u001b[39;00m \u001b[38;5;21;01mh5tbx\u001b[39;00m\n\u001b[0;32m      3\u001b[0m \u001b[38;5;28;01mwith\u001b[39;00m h5tbx\u001b[38;5;241m.\u001b[39mFile() \u001b[38;5;28;01mas\u001b[39;00m h5:\n\u001b[1;32m----> 4\u001b[0m     \u001b[43mstandard_title\u001b[49m\u001b[38;5;241;43m.\u001b[39;49m\u001b[43mset\u001b[49m\u001b[43m(\u001b[49m\u001b[43mh5\u001b[49m\u001b[43m,\u001b[49m\u001b[43m \u001b[49m\u001b[38;5;124;43m'\u001b[39;49m\u001b[38;5;124;43mhallo\u001b[39;49m\u001b[38;5;124;43m'\u001b[39;49m\u001b[43m)\u001b[49m\n",
      "Cell \u001b[1;32mIn[211], line 52\u001b[0m, in \u001b[0;36mRegexStandardAttribute.set\u001b[1;34m(self, parent, value)\u001b[0m\n\u001b[0;32m     49\u001b[0m \u001b[38;5;28;01mdef\u001b[39;00m \u001b[38;5;21mset\u001b[39m(\u001b[38;5;28mself\u001b[39m, parent, value):\n\u001b[0;32m     50\u001b[0m     \u001b[38;5;66;03m# first call the validator on the value:\u001b[39;00m\n\u001b[0;32m     51\u001b[0m     \u001b[38;5;28;01mif\u001b[39;00m \u001b[38;5;129;01mnot\u001b[39;00m \u001b[38;5;28mself\u001b[39m\u001b[38;5;241m.\u001b[39mvalidator(value, parent):\n\u001b[1;32m---> 52\u001b[0m         \u001b[38;5;28;01mraise\u001b[39;00m StandardAttributeError(\u001b[38;5;124mf\u001b[39m\u001b[38;5;124m'\u001b[39m\u001b[38;5;124mThe attribute \u001b[39m\u001b[38;5;124m\"\u001b[39m\u001b[38;5;132;01m{\u001b[39;00m\u001b[38;5;28mself\u001b[39m\u001b[38;5;241m.\u001b[39mname\u001b[38;5;132;01m}\u001b[39;00m\u001b[38;5;124m\"\u001b[39m\u001b[38;5;124m is standardized. \u001b[39m\u001b[38;5;124m'\u001b[39m\\\n\u001b[0;32m     53\u001b[0m                                      \u001b[38;5;124mf\u001b[39m\u001b[38;5;124m'\u001b[39m\u001b[38;5;124mIt seems, that the input \u001b[39m\u001b[38;5;124m\"\u001b[39m\u001b[38;5;132;01m{\u001b[39;00mvalue\u001b[38;5;132;01m}\u001b[39;00m\u001b[38;5;124m\"\u001b[39m\u001b[38;5;124m is not valid.\u001b[39m\u001b[38;5;124m'\u001b[39m\\\n\u001b[0;32m     54\u001b[0m                                      \u001b[38;5;124mf\u001b[39m\u001b[38;5;124m'\u001b[39m\u001b[38;5;124m Here is the description of the standard attribute, \u001b[39m\u001b[38;5;124m'\u001b[39m\\\n\u001b[0;32m     55\u001b[0m                                      \u001b[38;5;124mf\u001b[39m\u001b[38;5;124m'\u001b[39m\u001b[38;5;124mwhich may help to find the issue: \u001b[39m\u001b[38;5;124m\"\u001b[39m\u001b[38;5;132;01m{\u001b[39;00m\u001b[38;5;28mself\u001b[39m\u001b[38;5;241m.\u001b[39mdescription\u001b[38;5;132;01m}\u001b[39;00m\u001b[38;5;124m\"\u001b[39m\u001b[38;5;124m'\u001b[39m)\n\u001b[0;32m     56\u001b[0m     \u001b[38;5;28msuper\u001b[39m(\u001b[38;5;28mtype\u001b[39m(parent\u001b[38;5;241m.\u001b[39mattrs), parent\u001b[38;5;241m.\u001b[39mattrs)\u001b[38;5;241m.\u001b[39m\u001b[38;5;21m__setitem__\u001b[39m(\u001b[38;5;28mself\u001b[39m\u001b[38;5;241m.\u001b[39mname, value)\n",
      "\u001b[1;31mStandardAttributeError\u001b[0m: The attribute \"title\" is standardized. It seems, that the input \"hallo\" is not valid. Here is the description of the standard attribute, which may help to find the issue: \"The attribute 'title' describes the content of the file. It must start with a capital letter and must not end with a space.\""
     ]
    }
   ],
   "source": [
    "import h5rdmtoolbox as h5tbx\n",
    "\n",
    "with h5tbx.File() as h5:\n",
    "    standard_title.set(h5, 'hallo')"
   ]
  },
  {
   "cell_type": "code",
   "execution_count": null,
   "id": "8f5c539e-6660-4f02-b60a-d7f03599b0bd",
   "metadata": {},
   "outputs": [],
   "source": []
  },
  {
   "cell_type": "code",
   "execution_count": null,
   "id": "58069df8-70e4-491e-977a-bc463d18b0c4",
   "metadata": {},
   "outputs": [],
   "source": []
  }
 ],
 "metadata": {
  "kernelspec": {
   "display_name": "Python 3 (ipykernel)",
   "language": "python",
   "name": "python3"
  },
  "language_info": {
   "codemirror_mode": {
    "name": "ipython",
    "version": 3
   },
   "file_extension": ".py",
   "mimetype": "text/x-python",
   "name": "python",
   "nbconvert_exporter": "python",
   "pygments_lexer": "ipython3",
   "version": "3.8.16"
  }
 },
 "nbformat": 4,
 "nbformat_minor": 5
}
