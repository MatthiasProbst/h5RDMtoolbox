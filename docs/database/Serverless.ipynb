{
 "cells": [
  {
   "cell_type": "markdown",
   "id": "8c851066-f76d-4ef4-bf91-29cff0334ad0",
   "metadata": {},
   "source": [
    "# Serverless HDF Database\n",
    "\n",
    "No classic server client-client concept is used. Instead a HDF file is created with external links to root groups of HDF files that included to the database."
   ]
  },
  {
   "cell_type": "code",
   "execution_count": null,
   "id": "ff22a40d-e700-4a1a-9402-f48f509dcf1d",
   "metadata": {
    "tags": []
   },
   "outputs": [],
   "source": [
    "from h5rdmtoolbox import database as h5db\n",
    "from h5rdmtoolbox import tutorial\n",
    "import h5rdmtoolbox as h5tbx\n",
    "from h5rdmtoolbox.config import set_config_parameter\n",
    "\n",
    "h5tbx.use('cflike')"
   ]
  },
  {
   "cell_type": "markdown",
   "id": "d004887e-18c6-4cac-aeb0-43248d12a3f8",
   "metadata": {},
   "source": [
    "# Filtering a single file with pymongo-syntax"
   ]
  },
  {
   "cell_type": "code",
   "execution_count": null,
   "id": "b221f7e9-e805-402c-8196-4ee099406c9a",
   "metadata": {},
   "outputs": [],
   "source": [
    "list_of_hdf_filenames = tutorial.Database.generate_test_files()"
   ]
  },
  {
   "cell_type": "markdown",
   "id": "722784a5-d90c-4785-9f57-b424ce3f9b0f",
   "metadata": {},
   "source": [
    "### Find based on name/basename\n",
    "A `name` is the path within the file, the basename is the raw dataset or group name itself:"
   ]
  },
  {
   "cell_type": "code",
   "execution_count": null,
   "id": "410d8841-76f7-4db2-8c54-e7c67c46c79e",
   "metadata": {},
   "outputs": [],
   "source": [
    "with h5tbx.H5File(list_of_hdf_filenames[0]) as h5:\n",
    "    print(h5.find({'$basename': 'ptot'}, '$dataset'))\n",
    "    print(h5.find({'$name': '/operation_point/ptot'}, '$dataset'))\n",
    "    print(h5.find({'$basename': 'operation_point'}, '$group'))"
   ]
  },
  {
   "cell_type": "markdown",
   "id": "5155c9bb-106a-4a3b-80f4-50e148ded6d5",
   "metadata": {},
   "source": [
    "`find_one` returns the object, not a list of objects:"
   ]
  },
  {
   "cell_type": "code",
   "execution_count": null,
   "id": "b1f58db2-0660-40a5-8563-2370c31ecb92",
   "metadata": {},
   "outputs": [],
   "source": [
    "with h5tbx.H5File(list_of_hdf_filenames[0]) as h5:\n",
    "    print(h5.find_one({'$basename': 'ptot'}, '$dataset'))"
   ]
  },
  {
   "cell_type": "markdown",
   "id": "b9fd4b9d-3479-4f15-80a1-228df20712c8",
   "metadata": {},
   "source": [
    "### Find a dataset based on shape or dimension:"
   ]
  },
  {
   "cell_type": "code",
   "execution_count": null,
   "id": "214dce12-b722-469b-b6d8-5412830c0ccb",
   "metadata": {},
   "outputs": [],
   "source": [
    "with h5tbx.H5File(list_of_hdf_filenames[0]) as h5:\n",
    "    print(h5.find({'$shape': (100,)}, '$dataset'))\n",
    "    print(h5.find({'$ndim': 1}, '$dataset'))"
   ]
  },
  {
   "cell_type": "code",
   "execution_count": null,
   "id": "03d4ce23-61d0-4550-af60-e4230d54614d",
   "metadata": {},
   "outputs": [],
   "source": [
    "with h5tbx.H5File(list_of_hdf_filenames[0]) as h5:\n",
    "    print(h5.find_one({'$basename': 'ptot'}, '$dataset'))"
   ]
  },
  {
   "cell_type": "markdown",
   "id": "1215d0ee-b757-4762-bcab-20111db7ed8f",
   "metadata": {},
   "source": [
    "## H5Files - Accessing multiple HDF files\n",
    "\n",
    "This concepts assumes that we already know the HDF files. This might be a result from above"
   ]
  },
  {
   "cell_type": "code",
   "execution_count": null,
   "id": "090acaf7-f3f6-408e-9f94-e595f07ea4c7",
   "metadata": {
    "tags": []
   },
   "outputs": [],
   "source": [
    "with h5tbx.H5Files(*list_of_hdf_filenames[0:2]) as h5files:\n",
    "    print(h5files.keys())\n",
    "    h5files[0].dump()\n",
    "    h5files[1].dump()"
   ]
  },
  {
   "cell_type": "code",
   "execution_count": null,
   "id": "22cbd357-af76-459a-a265-5d232b1c8f61",
   "metadata": {},
   "outputs": [],
   "source": []
  }
 ],
 "metadata": {
  "kernelspec": {
   "display_name": "Python 3 (ipykernel)",
   "language": "python",
   "name": "python3"
  },
  "language_info": {
   "codemirror_mode": {
    "name": "ipython",
    "version": 3
   },
   "file_extension": ".py",
   "mimetype": "text/x-python",
   "name": "python",
   "nbconvert_exporter": "python",
   "pygments_lexer": "ipython3",
   "version": "3.8.13"
  }
 },
 "nbformat": 4,
 "nbformat_minor": 5
}
