{
 "cells": [
  {
   "cell_type": "markdown",
   "id": "8c851066-f76d-4ef4-bf91-29cff0334ad0",
   "metadata": {},
   "source": [
    "# Serverless HDF Database\n",
    "\n",
    "This section explains how specific **datasets or groups can be found** using the `h5rdmtoolbox`\n",
    "\n",
    "Think of the following two scenarios:\n",
    "\n",
    " - (a) We have **one HDF5 file** with many groups and attributes. We are looking for a specific dataset based on a specific attribute\n",
    " - (b) We generated **multiple HDF5 files**. Now, we need to select files which contain a certain meta information.\n",
    "\n",
    "In both cases, we don't need to fill a database first, we can just **use the files as a database**.\n",
    "\n",
    "In case (a) all attributes are matched for the request, i.e. an attribute matches a certain value. The same is done in case (b) with the difference, that this is applied on multiple files. The approach is a very brute-force one, however in most cases, this might be still fast enough. Note, that writing a database at the beginning would also have been taking some time. Also note, that HDF attributes are quickly read because the raw data is untouched even if the files are opened.\n",
    "\n",
    "If you are already familiar to the syntax of `mongodb`, you will recognize the similarities, otherwise you will learn it now."
   ]
  },
  {
   "cell_type": "code",
   "execution_count": 1,
   "id": "ff22a40d-e700-4a1a-9402-f48f509dcf1d",
   "metadata": {
    "tags": []
   },
   "outputs": [
    {
     "data": {
      "text/plain": [
       "using(\"h5py\")"
      ]
     },
     "execution_count": 1,
     "metadata": {},
     "output_type": "execute_result"
    }
   ],
   "source": [
    "import h5rdmtoolbox as h5tbx\n",
    "\n",
    "h5tbx.use(None)"
   ]
  },
  {
   "cell_type": "markdown",
   "id": "61e57a1f-1856-4cec-85b0-f677fa4fc741",
   "metadata": {},
   "source": [
    "Let's build a file first:"
   ]
  },
  {
   "cell_type": "code",
   "execution_count": 2,
   "id": "176b63b5-1cdc-4d46-af9d-34f68cae83ca",
   "metadata": {
    "tags": []
   },
   "outputs": [
    {
     "data": {
      "text/html": [
       "<head><style>/*\r\n",
       "CSS inspired by xarray: https://github.com/pydata/xarray\r\n",
       "*/\r\n",
       ".h5tb-header > div,\r\n",
       ".h5tb-header > ul {\r\n",
       "    display: inline;\r\n",
       "    margin-top: 0;\r\n",
       "    margin-bottom: 0;\r\n",
       "}\r\n",
       "\r\n",
       ".h5tb-dataarray-cls,\r\n",
       ".h5tb-dataarray-name {\r\n",
       "    margin-left: 2px;\r\n",
       "    margin-right: 10px;\r\n",
       "}\r\n",
       "\r\n",
       ".h5tb-dataarray-name {\r\n",
       "    color: #000;\r\n",
       "}\r\n",
       "\r\n",
       ".h5grp-sections {\r\n",
       "    list-style: none;\r\n",
       "    padding: 3px;\r\n",
       "    margin: 0;\r\n",
       "}\r\n",
       "\r\n",
       ".h5grp-sections input {\r\n",
       "    display: none;\r\n",
       "}\r\n",
       "\r\n",
       ".h5grp-sections label {\r\n",
       "    display: inline;\r\n",
       "}\r\n",
       "\r\n",
       ".h5grp-sections > li > input + label > span {\r\n",
       "    display: inline;\r\n",
       "    margin-left: 4px;\r\n",
       "}\r\n",
       "\r\n",
       ".h5grp-sections > li > input:checked + label > span {\r\n",
       "    display: none;\r\n",
       "}\r\n",
       "\r\n",
       ".h5grp-sections input:enabled + label {\r\n",
       "    cursor: pointer;\r\n",
       "}\r\n",
       "\r\n",
       ".h5grp-sections input:not(.h5tb-values-in) ~ ul {\r\n",
       "    display: none;\r\n",
       "}\r\n",
       "\r\n",
       ".h5grp-sections input:not(.h5tb-values-in):checked ~ ul {\r\n",
       "    display: block;\r\n",
       "}\r\n",
       "\r\n",
       ".h5grp-sections > li > input + label {\r\n",
       "    width: 140px;\r\n",
       "    color: #555;\r\n",
       "    font-weight: 500;\r\n",
       "    padding: 4px 0 2px 0;\r\n",
       "}\r\n",
       "\r\n",
       "\r\n",
       ".h5grp-sections > li > input + label:before {\r\n",
       "    display: inline-block;\r\n",
       "    content: '+';\r\n",
       "    font-size: 11px;\r\n",
       "    width: 15px;\r\n",
       "    text-align: center;\r\n",
       "}\r\n",
       "\r\n",
       ".h5grp-sections > li > input:disabled + label:before {\r\n",
       "    color: #777;\r\n",
       "}\r\n",
       "\r\n",
       ".h5grp-sections > li > input:checked + label:before {\r\n",
       "    content: '-';\r\n",
       "}\r\n",
       "\r\n",
       ".h5tb-dim-list {\r\n",
       "    display: inline-block !important;\r\n",
       "    list-style: none;\r\n",
       "    padding: 0;\r\n",
       "}\r\n",
       "\r\n",
       ".h5tb-dim-list li {\r\n",
       "    display: inline-block;\r\n",
       "    padding: 0;\r\n",
       "    margin: 0;\r\n",
       "}\r\n",
       "\r\n",
       ".h5tb-dim-list:before {\r\n",
       "    content: '(';\r\n",
       "}\r\n",
       "\r\n",
       ".h5tb-dim-list:after {\r\n",
       "    content: ')';\r\n",
       "}\r\n",
       "\r\n",
       ".h5tb-dim-list li:not(:last-child):after {\r\n",
       "    content: ',';\r\n",
       "}\r\n",
       "\r\n",
       ".h5tb-has-index {\r\n",
       "    text-decoration: underline;\r\n",
       "}\r\n",
       "\r\n",
       ".h5tb-var-list {\r\n",
       "    list-style: none;\r\n",
       "    padding: 0;\r\n",
       "    margin: 0;\r\n",
       "}\r\n",
       "\r\n",
       ".h5tb-var-list > li {\r\n",
       "    background-color: #fcfcfc;\r\n",
       "    overflow: hidden;\r\n",
       "}\r\n",
       "\r\n",
       ".h5tb-var-list > li:nth-child(odd) {\r\n",
       "    background-color: #efefef;\r\n",
       "}\r\n",
       "\r\n",
       ".h5tb-var-list li:hover {\r\n",
       "    background-color: rgba(3, 169, 244, .2);\r\n",
       "}\r\n",
       "\r\n",
       ".h5tb-var-list li > span {\r\n",
       "    display: inline-block;\r\n",
       "}\r\n",
       "\r\n",
       "input.h5tb-varname-in + label {\r\n",
       "    width: 140px;\r\n",
       "    padding-left: 0;\r\n",
       "    font-weight: bold;\r\n",
       "}\r\n",
       "\r\n",
       ".h5tb-dataset {\r\n",
       "    width: 100px;\r\n",
       "}\r\n",
       "\r\n",
       ".h5tb-attributevalue {\r\n",
       "    width: 100px;\r\n",
       "    text-align: left;\r\n",
       "    color: #888;\r\n",
       "    white-space: nowrap;\r\n",
       "    font-size: 12px;\r\n",
       "}\r\n",
       "\r\n",
       "input.h5tb-varname-in + label:before {\r\n",
       "    content: ' ';\r\n",
       "    display: inline-block;\r\n",
       "    font-size: 11px;\r\n",
       "    width: 15px;\r\n",
       "    padding-left: 2px;\r\n",
       "    padding-right: 2px;\r\n",
       "    text-align: center;\r\n",
       "    color: #aaa;\r\n",
       "    text-decoration: none !important;\r\n",
       "}\r\n",
       "\r\n",
       "input.h5tb-varname-in:enabled + label:hover:before {\r\n",
       "    color: #000;\r\n",
       "}\r\n",
       "\r\n",
       "input.h5tb-varname-in:checked + label:before {\r\n",
       "    color: #ccc;\r\n",
       "}\r\n",
       "\r\n",
       ".h5tb-dims {\r\n",
       "    width: 280px;\r\n",
       "    white-space: nowrap;\r\n",
       "}\r\n",
       "\r\n",
       "\r\n",
       ".h5tb-unit {\r\n",
       "    width: 96px;\r\n",
       "    white-space: nowrap;\r\n",
       "    padding-right: 2px;\r\n",
       "    text-align: right;\r\n",
       "    color: #555;\r\n",
       "    font-style: italic;\r\n",
       "}\r\n",
       "\r\n",
       ".h5tb-attr-list {\r\n",
       "    list-style: none;\r\n",
       "    background-color: #fff;\r\n",
       "    padding-bottom: 6px;\r\n",
       "    color: #555;\r\n",
       "}\r\n",
       "\r\n",
       ".h5tb-attr-list li,\r\n",
       ".h5tb-attr-list li:hover {\r\n",
       "    background-color: #fff;\r\n",
       "}\r\n",
       "\r\n",
       ".h5tb-dim-highlight {\r\n",
       "    background-color: rgba(3, 169, 244, .2);\r\n",
       "    cursor: pointer;\r\n",
       "}</style></head>\n",
       "<div class='h5tb-warp'>\n",
       "\n",
       "              <ul style=\"list-style-type: none;\" class=\"h5grp-sections\">\n",
       "                    <li>\n",
       "                        <input id=\"group-ds--5083844700\" type=\"checkbox\" checked>\n",
       "                        <label style=\"font-weight: bold\" for=\"group-ds--5083844700\">\n",
       "                        /<span>(3)</span></label>\n",
       "                  \n",
       "\n",
       "                    <ul class=\"h5tb-attr-list\"><li style=\"list-style-type: none; font-style: italic\">__h5rdmtoolbox_version__ : 0.8rc2</li><li style=\"list-style-type: none; font-style: italic\">project : tutorial</li><li style=\"list-style-type: none; font-style: italic\">timestamp : 2023-08-31T12:07:09.528075</li>\n",
       "                    </ul>\n",
       "\n",
       "                <ul id=\"ds-1-/velocity-5085915500\" class=\"h5tb-var-list\">\n",
       "                    <input id=\"ds-2-/velocity-5085917900\" class=\"h5tb-varname-in\" type=\"checkbox\">\n",
       "                    <label class='h5tb-varname' for=\"ds-2-/velocity-5085917900\">velocity</label>\n",
       "                    <span class=\"h5tb-dims\">(3) [int32]</span>\n",
       "                <ul class=\"h5tb-attr-list\"><li style=\"list-style-type: none; font-style: italic\">standard_name : x_velocity</li><li style=\"list-style-type: none; font-style: italic\">units : m/s</li>\n",
       "                </ul>\n",
       "                </ul>\n",
       "\n",
       "              <ul style=\"list-style-type: none;\" class=\"h5grp-sections\">\n",
       "                    <li>\n",
       "                        <input id=\"group-ds-group1-5086087600\" type=\"checkbox\" >\n",
       "                        <label style=\"font-weight: bold\" for=\"group-ds-group1-5086087600\">\n",
       "                        group1<span>(1)</span></label>\n",
       "                  \n",
       "\n",
       "                    <ul class=\"h5tb-attr-list\">\n",
       "                    </ul>\n",
       "\n",
       "                <ul id=\"ds-1-/group1/velocity-5086453800\" class=\"h5tb-var-list\">\n",
       "                    <input id=\"ds-2-/group1/velocity-5086455900\" class=\"h5tb-varname-in\" type=\"checkbox\">\n",
       "                    <label class='h5tb-varname' for=\"ds-2-/group1/velocity-5086455900\">velocity</label>\n",
       "                    <span class=\"h5tb-dims\">(5) [int32]</span>\n",
       "                <ul class=\"h5tb-attr-list\"><li style=\"list-style-type: none; font-style: italic\">standard_name : x_velocity</li><li style=\"list-style-type: none; font-style: italic\">units : m/s</li>\n",
       "                </ul>\n",
       "                </ul>\n",
       "</li>\n",
       "</ul>\n",
       "\n",
       "              <ul style=\"list-style-type: none;\" class=\"h5grp-sections\">\n",
       "                    <li>\n",
       "                        <input id=\"group-ds-group2-5086644400\" type=\"checkbox\" >\n",
       "                        <label style=\"font-weight: bold\" for=\"group-ds-group2-5086644400\">\n",
       "                        group2<span>(1)</span></label>\n",
       "                  \n",
       "\n",
       "                    <ul class=\"h5tb-attr-list\">\n",
       "                    </ul>\n",
       "\n",
       "                <ul id=\"ds-1-/group2/velocity-5087009800\" class=\"h5tb-var-list\">\n",
       "                    <input id=\"ds-2-/group2/velocity-5087011900\" class=\"h5tb-varname-in\" type=\"checkbox\">\n",
       "                    <label class='h5tb-varname' for=\"ds-2-/group2/velocity-5087011900\">velocity</label>\n",
       "                    <span class=\"h5tb-dims\">(5) [float64]</span>\n",
       "                <ul class=\"h5tb-attr-list\"><li style=\"list-style-type: none; font-style: italic\">standard_name : x_velocity</li><li style=\"list-style-type: none; font-style: italic\">units : m/s</li>\n",
       "                </ul>\n",
       "                </ul>\n",
       "</li>\n",
       "</ul>\n",
       "</li>\n",
       "</ul>\n",
       "</div>"
      ],
      "text/plain": [
       "<IPython.core.display.HTML object>"
      ]
     },
     "metadata": {},
     "output_type": "display_data"
    }
   ],
   "source": [
    "with h5tbx.File() as h5:\n",
    "    h5.write_iso_timestamp(name='timestamp', dt=None) # writes the current date time in iso format to the attribute\n",
    "    h5.attrs['project'] = 'tutorial'\n",
    "    h5.create_dataset('velocity', data=[1,2,-1], attrs=dict(units='m/s', standard_name='x_velocity'))\n",
    "    g = h5.create_group('group1')\n",
    "    g.create_dataset('velocity', data=[4,0,-3,12,3], attrs=dict(units='m/s', standard_name='x_velocity'))\n",
    "    g = h5.create_group('group2')\n",
    "    g.create_dataset('velocity', data=[12,11.3,4.6,7.3,8.1], attrs=dict(units='m/s', standard_name='x_velocity'))\n",
    "    h5.dump()\n",
    "    filename = h5.hdf_filename"
   ]
  },
  {
   "cell_type": "markdown",
   "id": "d004887e-18c6-4cac-aeb0-43248d12a3f8",
   "metadata": {
    "tags": []
   },
   "source": [
    "## Search/Find within a file\n",
    "\n",
    "The method `.find()` can be called from any group. It expects a dictionary. As said the syntax is very similar to the one of `pymongo`. In any case here is how the filter request is built up:\n",
    "\n",
    "  `find({<keyword>: <value>}, <object_filter>)`\n",
    "  \n",
    "- keyword is either\n",
    "    - an attribute name or\n",
    "    - a property of a dataset or group object, like \"name\", \"shape\", \"dtype\", ...\n",
    "- To indicate, that you are searching for a porperty, use a \"$\" in front\n",
    "\n",
    "- The object filter can be either \"$dataset\" or \"group\". If not provided results from either of the objects are returned"
   ]
  },
  {
   "cell_type": "code",
   "execution_count": 3,
   "id": "80226122-29ce-4c24-aff8-f496c804d362",
   "metadata": {},
   "outputs": [
    {
     "name": "stdout",
     "output_type": "stream",
     "text": [
      "[<HDF5 dataset \"velocity\": shape (5,), type \"<f8\", convention \"h5py\">, <HDF5 dataset \"velocity\": shape (3,), type \"<i4\", convention \"h5py\">, <HDF5 dataset \"velocity\": shape (5,), type \"<i4\", convention \"h5py\">]\n"
     ]
    }
   ],
   "source": [
    "with h5tbx.File(filename) as h5:\n",
    "    results = h5.find({'$basename': 'velocity'}, '$dataset')\n",
    "    print(results)"
   ]
  },
  {
   "cell_type": "markdown",
   "id": "b989f32c-21f1-4a23-aee9-0f8d1f888e48",
   "metadata": {},
   "source": [
    "The above code has one **restriction**: We cannot use `results` anymore after the file has been closed:"
   ]
  },
  {
   "cell_type": "code",
   "execution_count": 4,
   "id": "56b5a6b8-75b1-49b4-85e3-db702e98372b",
   "metadata": {},
   "outputs": [
    {
     "data": {
      "text/plain": [
       "[<Closed HDF5 dataset (convention \"h5py\")>,\n",
       " <Closed HDF5 dataset (convention \"h5py\")>,\n",
       " <Closed HDF5 dataset (convention \"h5py\")>]"
      ]
     },
     "execution_count": 4,
     "metadata": {},
     "output_type": "execute_result"
    }
   ],
   "source": [
    "results"
   ]
  },
  {
   "cell_type": "markdown",
   "id": "b628df0f-f8f5-43fd-8c5a-d0ffc084e140",
   "metadata": {},
   "source": [
    "To overcome this issue, we can use the file objet from the subpackage `database`. The returned objects are called \"lazy\" datasets and groups respectively. They are wrapper around the closed objects. Properties and attributes are stored in them and if data is requested, the file is opnend and closed in the background:"
   ]
  },
  {
   "cell_type": "code",
   "execution_count": 5,
   "id": "4520ff45-9934-4ca3-9f8d-8ffdcc86350e",
   "metadata": {},
   "outputs": [
    {
     "data": {
      "text/plain": [
       "[<LDataset \"/group1/velocity\" in \"C:\\Users\\da4323\\AppData\\Local\\h5rdmtoolbox\\h5rdmtoolbox\\tmp\\tmp_0\\tmp0.hdf\" attrs=standard_name=x_velocity, units=m/s>,\n",
       " <LDataset \"/velocity\" in \"C:\\Users\\da4323\\AppData\\Local\\h5rdmtoolbox\\h5rdmtoolbox\\tmp\\tmp_0\\tmp0.hdf\" attrs=standard_name=x_velocity, units=m/s>,\n",
       " <LDataset \"/group2/velocity\" in \"C:\\Users\\da4323\\AppData\\Local\\h5rdmtoolbox\\h5rdmtoolbox\\tmp\\tmp_0\\tmp0.hdf\" attrs=standard_name=x_velocity, units=m/s>]"
      ]
     },
     "execution_count": 5,
     "metadata": {},
     "output_type": "execute_result"
    }
   ],
   "source": [
    "results = h5tbx.database.File(filename).find({'$basename': 'velocity'}, '$dataset')\n",
    "results"
   ]
  },
  {
   "cell_type": "markdown",
   "id": "ba9b3794-86eb-4a1d-bf59-1dfe63a100d7",
   "metadata": {},
   "source": [
    "Lazy datasets for example can be sliced even if the file is closed already (the file gets opened upon request):"
   ]
  },
  {
   "cell_type": "markdown",
   "id": "1d5d56d9-e00d-4131-8731-f662fd4202c3",
   "metadata": {},
   "source": [
    "The result objects are \"lazy objects\". We can access all attributes and poperties. Only when slicing, the file is actually opened:"
   ]
  },
  {
   "cell_type": "code",
   "execution_count": 6,
   "id": "bc3c8f06-daf0-4936-8599-da93bdc49498",
   "metadata": {
    "tags": []
   },
   "outputs": [
    {
     "data": {
      "text/plain": [
       "<LDataset \"/group1/velocity\" in \"C:\\Users\\da4323\\AppData\\Local\\h5rdmtoolbox\\h5rdmtoolbox\\tmp\\tmp_0\\tmp0.hdf\" attrs=standard_name=x_velocity, units=m/s>"
      ]
     },
     "execution_count": 6,
     "metadata": {},
     "output_type": "execute_result"
    }
   ],
   "source": [
    "results[0]"
   ]
  },
  {
   "cell_type": "code",
   "execution_count": 7,
   "id": "b1b75ac8-9d77-46ce-8452-f194a4a359a1",
   "metadata": {},
   "outputs": [
    {
     "data": {
      "text/html": [
       "<div><svg style=\"position: absolute; width: 0; height: 0; overflow: hidden\">\n",
       "<defs>\n",
       "<symbol id=\"icon-database\" viewBox=\"0 0 32 32\">\n",
       "<path d=\"M16 0c-8.837 0-16 2.239-16 5v4c0 2.761 7.163 5 16 5s16-2.239 16-5v-4c0-2.761-7.163-5-16-5z\"></path>\n",
       "<path d=\"M16 17c-8.837 0-16-2.239-16-5v6c0 2.761 7.163 5 16 5s16-2.239 16-5v-6c0 2.761-7.163 5-16 5z\"></path>\n",
       "<path d=\"M16 26c-8.837 0-16-2.239-16-5v6c0 2.761 7.163 5 16 5s16-2.239 16-5v-6c0 2.761-7.163 5-16 5z\"></path>\n",
       "</symbol>\n",
       "<symbol id=\"icon-file-text2\" viewBox=\"0 0 32 32\">\n",
       "<path d=\"M28.681 7.159c-0.694-0.947-1.662-2.053-2.724-3.116s-2.169-2.030-3.116-2.724c-1.612-1.182-2.393-1.319-2.841-1.319h-15.5c-1.378 0-2.5 1.121-2.5 2.5v27c0 1.378 1.122 2.5 2.5 2.5h23c1.378 0 2.5-1.122 2.5-2.5v-19.5c0-0.448-0.137-1.23-1.319-2.841zM24.543 5.457c0.959 0.959 1.712 1.825 2.268 2.543h-4.811v-4.811c0.718 0.556 1.584 1.309 2.543 2.268zM28 29.5c0 0.271-0.229 0.5-0.5 0.5h-23c-0.271 0-0.5-0.229-0.5-0.5v-27c0-0.271 0.229-0.5 0.5-0.5 0 0 15.499-0 15.5 0v7c0 0.552 0.448 1 1 1h7v19.5z\"></path>\n",
       "<path d=\"M23 26h-14c-0.552 0-1-0.448-1-1s0.448-1 1-1h14c0.552 0 1 0.448 1 1s-0.448 1-1 1z\"></path>\n",
       "<path d=\"M23 22h-14c-0.552 0-1-0.448-1-1s0.448-1 1-1h14c0.552 0 1 0.448 1 1s-0.448 1-1 1z\"></path>\n",
       "<path d=\"M23 18h-14c-0.552 0-1-0.448-1-1s0.448-1 1-1h14c0.552 0 1 0.448 1 1s-0.448 1-1 1z\"></path>\n",
       "</symbol>\n",
       "</defs>\n",
       "</svg>\n",
       "<style>/* CSS stylesheet for displaying xarray objects in jupyterlab.\n",
       " *\n",
       " */\n",
       "\n",
       ":root {\n",
       "  --xr-font-color0: var(--jp-content-font-color0, rgba(0, 0, 0, 1));\n",
       "  --xr-font-color2: var(--jp-content-font-color2, rgba(0, 0, 0, 0.54));\n",
       "  --xr-font-color3: var(--jp-content-font-color3, rgba(0, 0, 0, 0.38));\n",
       "  --xr-border-color: var(--jp-border-color2, #e0e0e0);\n",
       "  --xr-disabled-color: var(--jp-layout-color3, #bdbdbd);\n",
       "  --xr-background-color: var(--jp-layout-color0, white);\n",
       "  --xr-background-color-row-even: var(--jp-layout-color1, white);\n",
       "  --xr-background-color-row-odd: var(--jp-layout-color2, #eeeeee);\n",
       "}\n",
       "\n",
       "html[theme=dark],\n",
       "body[data-theme=dark],\n",
       "body.vscode-dark {\n",
       "  --xr-font-color0: rgba(255, 255, 255, 1);\n",
       "  --xr-font-color2: rgba(255, 255, 255, 0.54);\n",
       "  --xr-font-color3: rgba(255, 255, 255, 0.38);\n",
       "  --xr-border-color: #1F1F1F;\n",
       "  --xr-disabled-color: #515151;\n",
       "  --xr-background-color: #111111;\n",
       "  --xr-background-color-row-even: #111111;\n",
       "  --xr-background-color-row-odd: #313131;\n",
       "}\n",
       "\n",
       ".xr-wrap {\n",
       "  display: block !important;\n",
       "  min-width: 300px;\n",
       "  max-width: 700px;\n",
       "}\n",
       "\n",
       ".xr-text-repr-fallback {\n",
       "  /* fallback to plain text repr when CSS is not injected (untrusted notebook) */\n",
       "  display: none;\n",
       "}\n",
       "\n",
       ".xr-header {\n",
       "  padding-top: 6px;\n",
       "  padding-bottom: 6px;\n",
       "  margin-bottom: 4px;\n",
       "  border-bottom: solid 1px var(--xr-border-color);\n",
       "}\n",
       "\n",
       ".xr-header > div,\n",
       ".xr-header > ul {\n",
       "  display: inline;\n",
       "  margin-top: 0;\n",
       "  margin-bottom: 0;\n",
       "}\n",
       "\n",
       ".xr-obj-type,\n",
       ".xr-array-name {\n",
       "  margin-left: 2px;\n",
       "  margin-right: 10px;\n",
       "}\n",
       "\n",
       ".xr-obj-type {\n",
       "  color: var(--xr-font-color2);\n",
       "}\n",
       "\n",
       ".xr-sections {\n",
       "  padding-left: 0 !important;\n",
       "  display: grid;\n",
       "  grid-template-columns: 150px auto auto 1fr 20px 20px;\n",
       "}\n",
       "\n",
       ".xr-section-item {\n",
       "  display: contents;\n",
       "}\n",
       "\n",
       ".xr-section-item input {\n",
       "  display: none;\n",
       "}\n",
       "\n",
       ".xr-section-item input + label {\n",
       "  color: var(--xr-disabled-color);\n",
       "}\n",
       "\n",
       ".xr-section-item input:enabled + label {\n",
       "  cursor: pointer;\n",
       "  color: var(--xr-font-color2);\n",
       "}\n",
       "\n",
       ".xr-section-item input:enabled + label:hover {\n",
       "  color: var(--xr-font-color0);\n",
       "}\n",
       "\n",
       ".xr-section-summary {\n",
       "  grid-column: 1;\n",
       "  color: var(--xr-font-color2);\n",
       "  font-weight: 500;\n",
       "}\n",
       "\n",
       ".xr-section-summary > span {\n",
       "  display: inline-block;\n",
       "  padding-left: 0.5em;\n",
       "}\n",
       "\n",
       ".xr-section-summary-in:disabled + label {\n",
       "  color: var(--xr-font-color2);\n",
       "}\n",
       "\n",
       ".xr-section-summary-in + label:before {\n",
       "  display: inline-block;\n",
       "  content: '►';\n",
       "  font-size: 11px;\n",
       "  width: 15px;\n",
       "  text-align: center;\n",
       "}\n",
       "\n",
       ".xr-section-summary-in:disabled + label:before {\n",
       "  color: var(--xr-disabled-color);\n",
       "}\n",
       "\n",
       ".xr-section-summary-in:checked + label:before {\n",
       "  content: '▼';\n",
       "}\n",
       "\n",
       ".xr-section-summary-in:checked + label > span {\n",
       "  display: none;\n",
       "}\n",
       "\n",
       ".xr-section-summary,\n",
       ".xr-section-inline-details {\n",
       "  padding-top: 4px;\n",
       "  padding-bottom: 4px;\n",
       "}\n",
       "\n",
       ".xr-section-inline-details {\n",
       "  grid-column: 2 / -1;\n",
       "}\n",
       "\n",
       ".xr-section-details {\n",
       "  display: none;\n",
       "  grid-column: 1 / -1;\n",
       "  margin-bottom: 5px;\n",
       "}\n",
       "\n",
       ".xr-section-summary-in:checked ~ .xr-section-details {\n",
       "  display: contents;\n",
       "}\n",
       "\n",
       ".xr-array-wrap {\n",
       "  grid-column: 1 / -1;\n",
       "  display: grid;\n",
       "  grid-template-columns: 20px auto;\n",
       "}\n",
       "\n",
       ".xr-array-wrap > label {\n",
       "  grid-column: 1;\n",
       "  vertical-align: top;\n",
       "}\n",
       "\n",
       ".xr-preview {\n",
       "  color: var(--xr-font-color3);\n",
       "}\n",
       "\n",
       ".xr-array-preview,\n",
       ".xr-array-data {\n",
       "  padding: 0 5px !important;\n",
       "  grid-column: 2;\n",
       "}\n",
       "\n",
       ".xr-array-data,\n",
       ".xr-array-in:checked ~ .xr-array-preview {\n",
       "  display: none;\n",
       "}\n",
       "\n",
       ".xr-array-in:checked ~ .xr-array-data,\n",
       ".xr-array-preview {\n",
       "  display: inline-block;\n",
       "}\n",
       "\n",
       ".xr-dim-list {\n",
       "  display: inline-block !important;\n",
       "  list-style: none;\n",
       "  padding: 0 !important;\n",
       "  margin: 0;\n",
       "}\n",
       "\n",
       ".xr-dim-list li {\n",
       "  display: inline-block;\n",
       "  padding: 0;\n",
       "  margin: 0;\n",
       "}\n",
       "\n",
       ".xr-dim-list:before {\n",
       "  content: '(';\n",
       "}\n",
       "\n",
       ".xr-dim-list:after {\n",
       "  content: ')';\n",
       "}\n",
       "\n",
       ".xr-dim-list li:not(:last-child):after {\n",
       "  content: ',';\n",
       "  padding-right: 5px;\n",
       "}\n",
       "\n",
       ".xr-has-index {\n",
       "  font-weight: bold;\n",
       "}\n",
       "\n",
       ".xr-var-list,\n",
       ".xr-var-item {\n",
       "  display: contents;\n",
       "}\n",
       "\n",
       ".xr-var-item > div,\n",
       ".xr-var-item label,\n",
       ".xr-var-item > .xr-var-name span {\n",
       "  background-color: var(--xr-background-color-row-even);\n",
       "  margin-bottom: 0;\n",
       "}\n",
       "\n",
       ".xr-var-item > .xr-var-name:hover span {\n",
       "  padding-right: 5px;\n",
       "}\n",
       "\n",
       ".xr-var-list > li:nth-child(odd) > div,\n",
       ".xr-var-list > li:nth-child(odd) > label,\n",
       ".xr-var-list > li:nth-child(odd) > .xr-var-name span {\n",
       "  background-color: var(--xr-background-color-row-odd);\n",
       "}\n",
       "\n",
       ".xr-var-name {\n",
       "  grid-column: 1;\n",
       "}\n",
       "\n",
       ".xr-var-dims {\n",
       "  grid-column: 2;\n",
       "}\n",
       "\n",
       ".xr-var-dtype {\n",
       "  grid-column: 3;\n",
       "  text-align: right;\n",
       "  color: var(--xr-font-color2);\n",
       "}\n",
       "\n",
       ".xr-var-preview {\n",
       "  grid-column: 4;\n",
       "}\n",
       "\n",
       ".xr-index-preview {\n",
       "  grid-column: 2 / 5;\n",
       "  color: var(--xr-font-color2);\n",
       "}\n",
       "\n",
       ".xr-var-name,\n",
       ".xr-var-dims,\n",
       ".xr-var-dtype,\n",
       ".xr-preview,\n",
       ".xr-attrs dt {\n",
       "  white-space: nowrap;\n",
       "  overflow: hidden;\n",
       "  text-overflow: ellipsis;\n",
       "  padding-right: 10px;\n",
       "}\n",
       "\n",
       ".xr-var-name:hover,\n",
       ".xr-var-dims:hover,\n",
       ".xr-var-dtype:hover,\n",
       ".xr-attrs dt:hover {\n",
       "  overflow: visible;\n",
       "  width: auto;\n",
       "  z-index: 1;\n",
       "}\n",
       "\n",
       ".xr-var-attrs,\n",
       ".xr-var-data,\n",
       ".xr-index-data {\n",
       "  display: none;\n",
       "  background-color: var(--xr-background-color) !important;\n",
       "  padding-bottom: 5px !important;\n",
       "}\n",
       "\n",
       ".xr-var-attrs-in:checked ~ .xr-var-attrs,\n",
       ".xr-var-data-in:checked ~ .xr-var-data,\n",
       ".xr-index-data-in:checked ~ .xr-index-data {\n",
       "  display: block;\n",
       "}\n",
       "\n",
       ".xr-var-data > table {\n",
       "  float: right;\n",
       "}\n",
       "\n",
       ".xr-var-name span,\n",
       ".xr-var-data,\n",
       ".xr-index-name div,\n",
       ".xr-index-data,\n",
       ".xr-attrs {\n",
       "  padding-left: 25px !important;\n",
       "}\n",
       "\n",
       ".xr-attrs,\n",
       ".xr-var-attrs,\n",
       ".xr-var-data,\n",
       ".xr-index-data {\n",
       "  grid-column: 1 / -1;\n",
       "}\n",
       "\n",
       "dl.xr-attrs {\n",
       "  padding: 0;\n",
       "  margin: 0;\n",
       "  display: grid;\n",
       "  grid-template-columns: 125px auto;\n",
       "}\n",
       "\n",
       ".xr-attrs dt,\n",
       ".xr-attrs dd {\n",
       "  padding: 0;\n",
       "  margin: 0;\n",
       "  float: left;\n",
       "  padding-right: 10px;\n",
       "  width: auto;\n",
       "}\n",
       "\n",
       ".xr-attrs dt {\n",
       "  font-weight: normal;\n",
       "  grid-column: 1;\n",
       "}\n",
       "\n",
       ".xr-attrs dt:hover span {\n",
       "  display: inline-block;\n",
       "  background: var(--xr-background-color);\n",
       "  padding-right: 10px;\n",
       "}\n",
       "\n",
       ".xr-attrs dd {\n",
       "  grid-column: 2;\n",
       "  white-space: pre-wrap;\n",
       "  word-break: break-all;\n",
       "}\n",
       "\n",
       ".xr-icon-database,\n",
       ".xr-icon-file-text2,\n",
       ".xr-no-icon {\n",
       "  display: inline-block;\n",
       "  vertical-align: middle;\n",
       "  width: 1em;\n",
       "  height: 1.5em !important;\n",
       "  stroke-width: 0;\n",
       "  stroke: currentColor;\n",
       "  fill: currentColor;\n",
       "}\n",
       "</style><pre class='xr-text-repr-fallback'>&lt;xarray.DataArray &#x27;velocity&#x27; (dim_0: 5)&gt;\n",
       "4 0 -3 12 3\n",
       "Dimensions without coordinates: dim_0\n",
       "Attributes:\n",
       "    standard_name:     x_velocity\n",
       "    units:             m/s\n",
       "    HDF_SRC_FILENAME:  {&#x27;filename&#x27;: &#x27;C:\\\\Users\\\\da4323\\\\AppData\\\\Local\\\\h5rdm...</pre><div class='xr-wrap' style='display:none'><div class='xr-header'><div class='xr-obj-type'>xarray.DataArray</div><div class='xr-array-name'>'velocity'</div><ul class='xr-dim-list'><li><span>dim_0</span>: 5</li></ul></div><ul class='xr-sections'><li class='xr-section-item'><div class='xr-array-wrap'><input id='section-384a68d0-036d-43c5-bdf4-56293828aa25' class='xr-array-in' type='checkbox' ><label for='section-384a68d0-036d-43c5-bdf4-56293828aa25' title='Show/hide data repr'><svg class='icon xr-icon-database'><use xlink:href='#icon-database'></use></svg></label><div class='xr-array-preview xr-preview'><span>4 0 -3 12 3</span></div><div class='xr-array-data'><pre>array([ 4,  0, -3, 12,  3])</pre></div></div></li><li class='xr-section-item'><input id='section-5412ee39-8ec5-4403-b4fd-adbaab427975' class='xr-section-summary-in' type='checkbox' disabled ><label for='section-5412ee39-8ec5-4403-b4fd-adbaab427975' class='xr-section-summary'  title='Expand/collapse section'>Coordinates: <span>(0)</span></label><div class='xr-section-inline-details'></div><div class='xr-section-details'><ul class='xr-var-list'></ul></div></li><li class='xr-section-item'><input id='section-157e40f1-0794-4521-871d-678dd67cb161' class='xr-section-summary-in' type='checkbox' disabled ><label for='section-157e40f1-0794-4521-871d-678dd67cb161' class='xr-section-summary'  title='Expand/collapse section'>Indexes: <span>(0)</span></label><div class='xr-section-inline-details'></div><div class='xr-section-details'><ul class='xr-var-list'></ul></div></li><li class='xr-section-item'><input id='section-de852dc6-521c-42c4-816e-5fb198aaee11' class='xr-section-summary-in' type='checkbox'  checked><label for='section-de852dc6-521c-42c4-816e-5fb198aaee11' class='xr-section-summary' >Attributes: <span>(3)</span></label><div class='xr-section-inline-details'></div><div class='xr-section-details'><dl class='xr-attrs'><dt><span>standard_name :</span></dt><dd>x_velocity</dd><dt><span>units :</span></dt><dd>m/s</dd><dt><span>HDF_SRC_FILENAME :</span></dt><dd>{&#x27;filename&#x27;: &#x27;C:\\\\Users\\\\da4323\\\\AppData\\\\Local\\\\h5rdmtoolbox\\\\h5rdmtoolbox\\\\tmp\\\\tmp_0\\\\tmp0.hdf&#x27;, &#x27;name&#x27;: &#x27;/group1/velocity&#x27;}</dd></dl></div></li></ul></div></div>"
      ],
      "text/plain": [
       "<xarray.DataArray 'velocity' (dim_0: 5)>\n",
       "4 0 -3 12 3\n",
       "Dimensions without coordinates: dim_0\n",
       "Attributes:\n",
       "    standard_name:     x_velocity\n",
       "    units:             m/s\n",
       "    HDF_SRC_FILENAME:  {'filename': 'C:\\\\Users\\\\da4323\\\\AppData\\\\Local\\\\h5rdm..."
      ]
     },
     "execution_count": 7,
     "metadata": {},
     "output_type": "execute_result"
    }
   ],
   "source": [
    "results[0][()]"
   ]
  },
  {
   "cell_type": "markdown",
   "id": "65b3b9dc-4d73-423b-a81b-4649027fea98",
   "metadata": {},
   "source": [
    "## Shortcuts\n",
    "\n",
    "Sometimes the above query dictionary might be a bit unhandy. For example, finding any dataset with a certain attribute no matter the value is like querying \"Give me every dataset that has this attribute\".\n",
    "\n",
    "For this to put into a query, we need a regex formulation like so: `{'standard_name': {'$regex': '.*'}}`. The shortcut here is to just pass the attribute we are looking:"
   ]
  },
  {
   "cell_type": "code",
   "execution_count": 8,
   "id": "92b1a2ca-7b53-4db6-990b-fcffc988a4b7",
   "metadata": {},
   "outputs": [
    {
     "data": {
      "text/plain": [
       "<LDataset \"/velocity\" in \"C:\\Users\\da4323\\AppData\\Local\\h5rdmtoolbox\\h5rdmtoolbox\\tmp\\tmp_0\\tmp0.hdf\" attrs=standard_name=x_velocity, units=m/s>"
      ]
     },
     "execution_count": 8,
     "metadata": {},
     "output_type": "execute_result"
    }
   ],
   "source": [
    "h5tbx.database.File(filename).find_one('standard_name', '$dataset')"
   ]
  },
  {
   "cell_type": "code",
   "execution_count": 9,
   "id": "815b92a0-e499-425b-99c3-c57196297d31",
   "metadata": {},
   "outputs": [
    {
     "data": {
      "text/plain": [
       "<LDataset \"/velocity\" in \"C:\\Users\\da4323\\AppData\\Local\\h5rdmtoolbox\\h5rdmtoolbox\\tmp\\tmp_0\\tmp0.hdf\" attrs=standard_name=x_velocity, units=m/s>"
      ]
     },
     "execution_count": 9,
     "metadata": {},
     "output_type": "execute_result"
    }
   ],
   "source": [
    "h5tbx.database.File(filename).find_one(['standard_name', 'units'], '$dataset')"
   ]
  },
  {
   "cell_type": "markdown",
   "id": "c2fa0fa4-349c-4058-aab3-961b66e53496",
   "metadata": {},
   "source": [
    "## Advanced search\n",
    "\n",
    "Until here we searched for **exact** matches of attribut or property values. Sometimes it is required to apply different operators. Examples:\n",
    "\n",
    " - \\$regex: Match the attribute string with a pattern\n",
    " - \\$gt: Find only objects where the attribute/property is greater than a given value\n",
    " - \\$lt: ...\n",
    " - ..."
   ]
  },
  {
   "cell_type": "code",
   "execution_count": 10,
   "id": "ef4e1aa8-f42d-4f26-a1d4-96a1df8daa9f",
   "metadata": {
    "tags": []
   },
   "outputs": [
    {
     "data": {
      "text/plain": [
       "'2023-08-31T12:07:09.528075'"
      ]
     },
     "execution_count": 10,
     "metadata": {},
     "output_type": "execute_result"
    }
   ],
   "source": [
    "results = h5tbx.database.File(filename).find({'timestamp': {'$regex': '.*'}}, '$group')\n",
    "results[0].attrs['timestamp']"
   ]
  },
  {
   "cell_type": "markdown",
   "id": "083a5cee-a996-4223-a5e8-e60a6ec75ca2",
   "metadata": {},
   "source": [
    "### User-defined operator\n",
    "For the given example, we cannot perform the comparison, if the timestamp is greater (or smaller) than a given timestamp, hence, if the data is from a given point in time. For this, we need to write our own operator:"
   ]
  },
  {
   "cell_type": "code",
   "execution_count": 11,
   "id": "b528267e-8977-4862-9a19-469cef459a9a",
   "metadata": {},
   "outputs": [],
   "source": [
    "import re\n",
    "from typing import Dict, Union\n",
    "from datetime import datetime\n",
    "from h5rdmtoolbox.database import file\n",
    "\n",
    "def isodatetime_operator(value, flt: Union[datetime, Dict]) -> bool:\n",
    "    if value is None:\n",
    "        return False\n",
    "        \n",
    "    if isinstance(flt, dict):\n",
    "        av_flt = ('$gt', '$gte', '$lt', '$lte', '$eq')\n",
    "        for k in flt:\n",
    "            if k not in av_flt:\n",
    "                raise KeyError(f'Invalid filter operator: {k}, expected one of these: {av_flt}')\n",
    "    elif isinstance(flt, str):\n",
    "        raise TypeError(f'You must pass a datetime object, not {type(value)}')\n",
    "    else:\n",
    "        flt= {'$eq': value}\n",
    "\n",
    "    # only check attributes that are string or datetime\n",
    "    if isinstance(value, str):\n",
    "        pattern = '\\d{4}-\\d{2}-\\d{2}T\\d{2}:\\d{2}:\\d{2}.\\d+'\n",
    "        match = re.search(pattern, value)\n",
    "        if match is None:\n",
    "            return False\n",
    "        if match.group() == '':\n",
    "            return False\n",
    "        value = datetime.fromisoformat(value)\n",
    "    elif isinstance(vaue, datetime):\n",
    "        pass\n",
    "    else:\n",
    "        return False\n",
    "\n",
    "    # No perform the actual datetime comparison:\n",
    "    for k, v in flt.items():\n",
    "        if not h5tbx.database.file.operator[k](value, v):\n",
    "            return False\n",
    "    return True"
   ]
  },
  {
   "cell_type": "code",
   "execution_count": 12,
   "id": "d8eb2640-fd19-4fd8-b4cc-eea5aa6b9995",
   "metadata": {},
   "outputs": [],
   "source": [
    "file.operator['$isodatetime'] = isodatetime_operator"
   ]
  },
  {
   "cell_type": "code",
   "execution_count": 13,
   "id": "1416e987-dfd0-4550-8d4c-0bafb265b893",
   "metadata": {},
   "outputs": [
    {
     "data": {
      "text/plain": [
       "[<LGroup \"/\" in \"C:\\Users\\da4323\\AppData\\Local\\h5rdmtoolbox\\h5rdmtoolbox\\tmp\\tmp_0\\tmp0.hdf\">]"
      ]
     },
     "execution_count": 13,
     "metadata": {},
     "output_type": "execute_result"
    }
   ],
   "source": [
    "from datetime import datetime\n",
    "\n",
    "# ToDo Files(filename.parent).find(---) does not work!\n",
    "results = h5tbx.database.File(filename).find({'$name': '/',\n",
    "                                              'timestamp': {'$isodatetime': {'$lt': datetime.now(),\n",
    "                                                                             '$gt': datetime(2020, 6, 4)}}},\n",
    "                                             '$group')\n",
    "results"
   ]
  },
  {
   "cell_type": "markdown",
   "id": "722784a5-d90c-4785-9f57-b424ce3f9b0f",
   "metadata": {
    "tags": []
   },
   "source": [
    "## Find in within one or multiple Folders\n",
    "To find within a folder, call `h5tbx.FolderDB`. Pass `rec=False` if recursive search for files is not wanted:"
   ]
  },
  {
   "cell_type": "code",
   "execution_count": 14,
   "id": "3c666858-595c-4d98-a0bf-0133eb3a294f",
   "metadata": {
    "tags": []
   },
   "outputs": [
    {
     "data": {
      "text/plain": [
       "'/group2/velocity'"
      ]
     },
     "execution_count": 14,
     "metadata": {},
     "output_type": "execute_result"
    }
   ],
   "source": [
    "h5tbx.database.Folder(filename.parent, rec=True).find_one({'$basename': 'velocity'}, '$dataset').name"
   ]
  },
  {
   "cell_type": "markdown",
   "id": "b41b4a23-3a08-4d8f-bcca-d5c5c3d4b87c",
   "metadata": {},
   "source": [
    "## Examples of queries:"
   ]
  },
  {
   "cell_type": "code",
   "execution_count": 15,
   "id": "afc4fedc-7f7d-44b4-bf9a-f7e6879e9c5f",
   "metadata": {
    "tags": []
   },
   "outputs": [
    {
     "data": {
      "text/plain": [
       "[<LDataset \"/velocity\" in \"C:\\Users\\da4323\\AppData\\Local\\h5rdmtoolbox\\h5rdmtoolbox\\tmp\\tmp_0\\tmp0.hdf\" attrs=standard_name=x_velocity, units=m/s>]"
      ]
     },
     "execution_count": 15,
     "metadata": {},
     "output_type": "execute_result"
    }
   ],
   "source": [
    "h5tbx.database.File(filename).find({'$name': '/velocity'}, '$dataset')"
   ]
  },
  {
   "cell_type": "code",
   "execution_count": 16,
   "id": "e9f3b532-b4ba-411b-a4dc-f2b25135c7f4",
   "metadata": {
    "tags": []
   },
   "outputs": [
    {
     "data": {
      "text/plain": [
       "[<LGroup \"/group2\" in \"C:\\Users\\da4323\\AppData\\Local\\h5rdmtoolbox\\h5rdmtoolbox\\tmp\\tmp_0\\tmp0.hdf\">,\n",
       " <LGroup \"/group1\" in \"C:\\Users\\da4323\\AppData\\Local\\h5rdmtoolbox\\h5rdmtoolbox\\tmp\\tmp_0\\tmp0.hdf\">]"
      ]
     },
     "execution_count": 16,
     "metadata": {},
     "output_type": "execute_result"
    }
   ],
   "source": [
    "h5tbx.database.File(filename).find({'$basename': {'$regex': 'group'}}, '$group', rec=False)"
   ]
  },
  {
   "cell_type": "code",
   "execution_count": 17,
   "id": "b61e90f2-9eb0-4f2e-bb92-ae10afd2ade9",
   "metadata": {
    "tags": []
   },
   "outputs": [
    {
     "data": {
      "text/plain": [
       "[<LDataset \"/group2/velocity\" in \"C:\\Users\\da4323\\AppData\\Local\\h5rdmtoolbox\\h5rdmtoolbox\\tmp\\tmp_0\\tmp0.hdf\" attrs=standard_name=x_velocity, units=m/s>,\n",
       " <LDataset \"/group1/velocity\" in \"C:\\Users\\da4323\\AppData\\Local\\h5rdmtoolbox\\h5rdmtoolbox\\tmp\\tmp_0\\tmp0.hdf\" attrs=standard_name=x_velocity, units=m/s>]"
      ]
     },
     "execution_count": 17,
     "metadata": {},
     "output_type": "execute_result"
    }
   ],
   "source": [
    "h5tbx.database.File(filename).find({'$shape': (5,)}, '$dataset')"
   ]
  },
  {
   "cell_type": "code",
   "execution_count": 18,
   "id": "bc740c80-355e-4622-8c2c-3135fa3e906c",
   "metadata": {
    "tags": []
   },
   "outputs": [],
   "source": [
    "datasets = h5tbx.database.File(filename).find({'$ndim': 1}, '$dataset')"
   ]
  },
  {
   "cell_type": "code",
   "execution_count": 19,
   "id": "275bd60b-0a1b-4898-8106-5a610275b87f",
   "metadata": {},
   "outputs": [],
   "source": [
    "from h5rdmtoolbox.database import file"
   ]
  },
  {
   "cell_type": "code",
   "execution_count": 20,
   "id": "68bdbd80-3064-4199-827a-6cd1045cda88",
   "metadata": {},
   "outputs": [
    {
     "data": {
      "text/plain": [
       "[<LDataset \"/group1/velocity\" in \"C:\\Users\\da4323\\AppData\\Local\\h5rdmtoolbox\\h5rdmtoolbox\\tmp\\tmp_0\\tmp0.hdf\" attrs=standard_name=x_velocity, units=m/s>,\n",
       " <LDataset \"/group2/velocity\" in \"C:\\Users\\da4323\\AppData\\Local\\h5rdmtoolbox\\h5rdmtoolbox\\tmp\\tmp_0\\tmp0.hdf\" attrs=standard_name=x_velocity, units=m/s>,\n",
       " <LDataset \"/velocity\" in \"C:\\Users\\da4323\\AppData\\Local\\h5rdmtoolbox\\h5rdmtoolbox\\tmp\\tmp_0\\tmp0.hdf\" attrs=standard_name=x_velocity, units=m/s>]"
      ]
     },
     "execution_count": 20,
     "metadata": {},
     "output_type": "execute_result"
    }
   ],
   "source": [
    "sorted(datasets)"
   ]
  },
  {
   "cell_type": "code",
   "execution_count": 21,
   "id": "bc36a13d-52ee-4ae5-b43c-a093dd0c6dd9",
   "metadata": {},
   "outputs": [
    {
     "data": {
      "text/plain": [
       "<bound method LGroup.find of <LDataset \"/group1/velocity\" in \"C:\\Users\\da4323\\AppData\\Local\\h5rdmtoolbox\\h5rdmtoolbox\\tmp\\tmp_0\\tmp0.hdf\" attrs=standard_name=x_velocity, units=m/s>>"
      ]
     },
     "execution_count": 21,
     "metadata": {},
     "output_type": "execute_result"
    }
   ],
   "source": [
    "sorted(datasets)[0].find"
   ]
  },
  {
   "cell_type": "code",
   "execution_count": 22,
   "id": "22809d95-a9ed-420c-b862-a2879b06dae5",
   "metadata": {},
   "outputs": [
    {
     "name": "stdout",
     "output_type": "stream",
     "text": [
      "<HDF5 dataset \"velocity\": shape (5,), type \"<i4\", convention \"h5py\">\n"
     ]
    }
   ],
   "source": [
    "with sorted(datasets)[0] as ds:\n",
    "    r = file.find(ds, {'$name': {'$regex': 'group[0-9]'}}, '$dataset', False, True, False)\n",
    "    print(r)"
   ]
  },
  {
   "cell_type": "markdown",
   "id": "e3185ee7-3364-4b64-8a09-63a1e79faea4",
   "metadata": {},
   "source": [
    "### Query from an opened file:"
   ]
  },
  {
   "cell_type": "code",
   "execution_count": 23,
   "id": "407d0d4a-e9a7-4e8c-8161-f3e72d4de82f",
   "metadata": {
    "tags": []
   },
   "outputs": [
    {
     "name": "stdout",
     "output_type": "stream",
     "text": [
      "find basename=velocity in root:\n",
      "[<HDF5 dataset \"velocity\": shape (5,), type \"<i4\", convention \"h5py\">,\n",
      " <HDF5 dataset \"velocity\": shape (3,), type \"<i4\", convention \"h5py\">,\n",
      " <HDF5 dataset \"velocity\": shape (5,), type \"<f8\", convention \"h5py\">]\n",
      "\n",
      "find name=/velocity in root:\n",
      "[<HDF5 dataset \"velocity\": shape (3,), type \"<i4\", convention \"h5py\">]\n",
      "\n",
      "find name=/sub/velocity in root:\n",
      "[]\n",
      "\n",
      "find basename=velocity in group1/:\n",
      "[<HDF5 dataset \"velocity\": shape (5,), type \"<i4\", convention \"h5py\">]\n",
      "\n",
      "find basename=velocity in root:\n",
      "[<HDF5 dataset \"velocity\": shape (3,), type \"<i4\", convention \"h5py\">]\n",
      "\n",
      "find basename=velocity in root:\n",
      "[<HDF5 dataset \"velocity\": shape (5,), type \"<i4\", convention \"h5py\">,\n",
      " <HDF5 dataset \"velocity\": shape (3,), type \"<i4\", convention \"h5py\">,\n",
      " <HDF5 dataset \"velocity\": shape (5,), type \"<f8\", convention \"h5py\">]\n"
     ]
    }
   ],
   "source": [
    "from pprint import pprint\n",
    "\n",
    "with h5tbx.File(filename) as h5:\n",
    "    print('find basename=velocity in root:')\n",
    "    pprint(h5.find({'$basename': 'velocity'}, '$dataset'))\n",
    "    \n",
    "    print('\\nfind name=/velocity in root:')\n",
    "    pprint(h5.find({'$name': '/velocity'}, '$dataset'))\n",
    "    \n",
    "    print('\\nfind name=/sub/velocity in root:')\n",
    "    pprint(h5.find({'$name': '/sub/velocity'}, '$dataset'))\n",
    "    \n",
    "    print('\\nfind basename=velocity in group1/:')\n",
    "    pprint(h5['group1'].find({'$basename': 'velocity'}, '$dataset', rec=False))\n",
    "    \n",
    "    print('\\nfind basename=velocity in root:')\n",
    "    pprint(h5.find({'$basename': 'velocity'}, '$dataset', rec=False))\n",
    "    \n",
    "    print('\\nfind basename=velocity in root:')\n",
    "    pprint(h5.find({'$basename': 'velocity'}, '$dataset', rec=True))"
   ]
  },
  {
   "cell_type": "code",
   "execution_count": 24,
   "id": "9b03aa9e-e1c2-42a2-bbcb-d17590624317",
   "metadata": {},
   "outputs": [],
   "source": [
    "import pathlib\n",
    "\n",
    "class FileDB:\n",
    "    \"\"\"User-friendly interface to database.Folder, database.File or database.Files\"\"\"\n",
    "\n",
    "    def __new__(cls, path, rec=False):\n",
    "        if isinstance(path, (list, tuple)):\n",
    "            filenames = []\n",
    "            for p in [pathlib.Path(_p) for _p in path]:\n",
    "                if p.is_file():\n",
    "                    filenames.append(p)\n",
    "                elif p.is_dir():\n",
    "                    if rec:\n",
    "                        for f in p.rglob('*.hdf'):\n",
    "                            filenames.append(f)\n",
    "                    else:\n",
    "                        for f in p.glob('*.hdf'):\n",
    "                            filenames.append(f)\n",
    "            return h5tbx.database.Files(filenames)\n",
    "            \n",
    "        path = pathlib.Path(path)\n",
    "        if path.is_dir():\n",
    "            return h5tbx.database.Folder(path)\n",
    "        return h5tbx.database.File(path)"
   ]
  },
  {
   "cell_type": "code",
   "execution_count": 25,
   "id": "c829117b-cb5e-4acf-8606-52928098f8c3",
   "metadata": {},
   "outputs": [
    {
     "data": {
      "text/plain": [
       "[<LGroup \"/group1\" in \"C:\\Users\\da4323\\AppData\\Local\\h5rdmtoolbox\\h5rdmtoolbox\\tmp\\tmp_0\\tmp0.hdf\">,\n",
       " <LDataset \"/group2/velocity\" in \"C:\\Users\\da4323\\AppData\\Local\\h5rdmtoolbox\\h5rdmtoolbox\\tmp\\tmp_0\\tmp0.hdf\" attrs=standard_name=x_velocity, units=m/s>,\n",
       " <LDataset \"/velocity\" in \"C:\\Users\\da4323\\AppData\\Local\\h5rdmtoolbox\\h5rdmtoolbox\\tmp\\tmp_0\\tmp0.hdf\" attrs=standard_name=x_velocity, units=m/s>,\n",
       " <LGroup \"/\" in \"C:\\Users\\da4323\\AppData\\Local\\h5rdmtoolbox\\h5rdmtoolbox\\tmp\\tmp_0\\tmp0.hdf\">,\n",
       " <LDataset \"/group1/velocity\" in \"C:\\Users\\da4323\\AppData\\Local\\h5rdmtoolbox\\h5rdmtoolbox\\tmp\\tmp_0\\tmp0.hdf\" attrs=standard_name=x_velocity, units=m/s>,\n",
       " <LGroup \"/group2\" in \"C:\\Users\\da4323\\AppData\\Local\\h5rdmtoolbox\\h5rdmtoolbox\\tmp\\tmp_0\\tmp0.hdf\">]"
      ]
     },
     "execution_count": 25,
     "metadata": {},
     "output_type": "execute_result"
    }
   ],
   "source": [
    "FileDB([filename, ]).find({})"
   ]
  },
  {
   "cell_type": "code",
   "execution_count": 26,
   "id": "49519e11-b5bb-4106-a99e-2475f6e96beb",
   "metadata": {},
   "outputs": [],
   "source": [
    "for f in FileDB([filename, ]).values():\n",
    "    print(f)"
   ]
  },
  {
   "cell_type": "code",
   "execution_count": 27,
   "id": "51f20e87-428a-4638-8126-ee8dad07d81b",
   "metadata": {},
   "outputs": [
    {
     "data": {
      "text/plain": [
       "[<LGroup \"/\" in \"C:\\Users\\da4323\\AppData\\Local\\h5rdmtoolbox\\h5rdmtoolbox\\tmp\\tmp_0\\tmp0.hdf\">,\n",
       " <LDataset \"/group2/velocity\" in \"C:\\Users\\da4323\\AppData\\Local\\h5rdmtoolbox\\h5rdmtoolbox\\tmp\\tmp_0\\tmp0.hdf\" attrs=standard_name=x_velocity, units=m/s>,\n",
       " <LDataset \"/group1/velocity\" in \"C:\\Users\\da4323\\AppData\\Local\\h5rdmtoolbox\\h5rdmtoolbox\\tmp\\tmp_0\\tmp0.hdf\" attrs=standard_name=x_velocity, units=m/s>,\n",
       " <LGroup \"/group2\" in \"C:\\Users\\da4323\\AppData\\Local\\h5rdmtoolbox\\h5rdmtoolbox\\tmp\\tmp_0\\tmp0.hdf\">,\n",
       " <LGroup \"/group1\" in \"C:\\Users\\da4323\\AppData\\Local\\h5rdmtoolbox\\h5rdmtoolbox\\tmp\\tmp_0\\tmp0.hdf\">,\n",
       " <LDataset \"/velocity\" in \"C:\\Users\\da4323\\AppData\\Local\\h5rdmtoolbox\\h5rdmtoolbox\\tmp\\tmp_0\\tmp0.hdf\" attrs=standard_name=x_velocity, units=m/s>]"
      ]
     },
     "execution_count": 27,
     "metadata": {},
     "output_type": "execute_result"
    }
   ],
   "source": [
    "FileDB(filename).find({})"
   ]
  },
  {
   "cell_type": "code",
   "execution_count": 28,
   "id": "17ed2b40-6d19-4b4c-a253-84a001a230a4",
   "metadata": {},
   "outputs": [
    {
     "data": {
      "text/plain": [
       "[<LGroup \"/\" in \"C:\\Users\\da4323\\AppData\\Local\\h5rdmtoolbox\\h5rdmtoolbox\\tmp\\tmp_0\\tmp0.hdf\">,\n",
       " <LGroup \"/group2\" in \"C:\\Users\\da4323\\AppData\\Local\\h5rdmtoolbox\\h5rdmtoolbox\\tmp\\tmp_0\\tmp0.hdf\">,\n",
       " <LDataset \"/group1/velocity\" in \"C:\\Users\\da4323\\AppData\\Local\\h5rdmtoolbox\\h5rdmtoolbox\\tmp\\tmp_0\\tmp0.hdf\" attrs=standard_name=x_velocity, units=m/s>,\n",
       " <LDataset \"/group2/velocity\" in \"C:\\Users\\da4323\\AppData\\Local\\h5rdmtoolbox\\h5rdmtoolbox\\tmp\\tmp_0\\tmp0.hdf\" attrs=standard_name=x_velocity, units=m/s>,\n",
       " <LGroup \"/group1\" in \"C:\\Users\\da4323\\AppData\\Local\\h5rdmtoolbox\\h5rdmtoolbox\\tmp\\tmp_0\\tmp0.hdf\">,\n",
       " <LDataset \"/velocity\" in \"C:\\Users\\da4323\\AppData\\Local\\h5rdmtoolbox\\h5rdmtoolbox\\tmp\\tmp_0\\tmp0.hdf\" attrs=standard_name=x_velocity, units=m/s>]"
      ]
     },
     "execution_count": 28,
     "metadata": {},
     "output_type": "execute_result"
    }
   ],
   "source": [
    "FileDB(filename.parent).find({})"
   ]
  },
  {
   "cell_type": "code",
   "execution_count": null,
   "id": "3750828f-140c-45a2-b2bf-f0c2ce36fb7a",
   "metadata": {},
   "outputs": [],
   "source": []
  }
 ],
 "metadata": {
  "kernelspec": {
   "display_name": "Python 3 (ipykernel)",
   "language": "python",
   "name": "python3"
  },
  "language_info": {
   "codemirror_mode": {
    "name": "ipython",
    "version": 3
   },
   "file_extension": ".py",
   "mimetype": "text/x-python",
   "name": "python",
   "nbconvert_exporter": "python",
   "pygments_lexer": "ipython3",
   "version": "3.8.17"
  }
 },
 "nbformat": 4,
 "nbformat_minor": 5
}
