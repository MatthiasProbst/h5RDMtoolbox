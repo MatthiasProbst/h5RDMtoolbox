{
 "cells": [
  {
   "cell_type": "markdown",
   "id": "8c851066-f76d-4ef4-bf91-29cff0334ad0",
   "metadata": {},
   "source": [
    "# Serverless HDF Database\n",
    "\n",
    "No classic server client-client concept is used. Instead a HDF file is created with external links to root groups of HDF files that included to the database."
   ]
  },
  {
   "cell_type": "code",
   "execution_count": 3,
   "id": "ff22a40d-e700-4a1a-9402-f48f509dcf1d",
   "metadata": {
    "tags": []
   },
   "outputs": [],
   "source": [
    "from h5rdmtoolbox import database as h5db\n",
    "from h5rdmtoolbox import tutorial\n",
    "import h5rdmtoolbox as h5tbx\n",
    "from h5rdmtoolbox import config\n",
    "\n",
    "h5tbx.use(None)\n",
    "\n",
    "from pprint import pprint"
   ]
  },
  {
   "cell_type": "markdown",
   "id": "d004887e-18c6-4cac-aeb0-43248d12a3f8",
   "metadata": {},
   "source": [
    "# Filtering a single file with pymongo-syntax"
   ]
  },
  {
   "cell_type": "code",
   "execution_count": 5,
   "id": "b221f7e9-e805-402c-8196-4ee099406c9a",
   "metadata": {},
   "outputs": [
    {
     "data": {
      "text/html": [
       "<head><style>/*\r\n",
       "CSS inspired by xarray: https://github.com/pydata/xarray\r\n",
       "*/\r\n",
       ".h5tb-header > div,\r\n",
       ".h5tb-header > ul {\r\n",
       "    display: inline;\r\n",
       "    margin-top: 0;\r\n",
       "    margin-bottom: 0;\r\n",
       "}\r\n",
       "\r\n",
       ".h5tb-dataarray-cls,\r\n",
       ".h5tb-dataarray-name {\r\n",
       "    margin-left: 2px;\r\n",
       "    margin-right: 10px;\r\n",
       "}\r\n",
       "\r\n",
       ".h5tb-dataarray-name {\r\n",
       "    color: #000;\r\n",
       "}\r\n",
       "\r\n",
       ".h5grp-sections {\r\n",
       "    list-style: none;\r\n",
       "    padding: 3px;\r\n",
       "    margin: 0;\r\n",
       "}\r\n",
       "\r\n",
       ".h5grp-sections input {\r\n",
       "    display: none;\r\n",
       "}\r\n",
       "\r\n",
       ".h5grp-sections label {\r\n",
       "    display: inline;\r\n",
       "}\r\n",
       "\r\n",
       ".h5grp-sections > li > input + label > span {\r\n",
       "    display: inline;\r\n",
       "    margin-left: 4px;\r\n",
       "}\r\n",
       "\r\n",
       ".h5grp-sections > li > input:checked + label > span {\r\n",
       "    display: none;\r\n",
       "}\r\n",
       "\r\n",
       ".h5grp-sections input:enabled + label {\r\n",
       "    cursor: pointer;\r\n",
       "}\r\n",
       "\r\n",
       ".h5grp-sections input:not(.h5tb-values-in) ~ ul {\r\n",
       "    display: none;\r\n",
       "}\r\n",
       "\r\n",
       ".h5grp-sections input:not(.h5tb-values-in):checked ~ ul {\r\n",
       "    display: block;\r\n",
       "}\r\n",
       "\r\n",
       ".h5grp-sections > li > input + label {\r\n",
       "    width: 140px;\r\n",
       "    color: #555;\r\n",
       "    font-weight: 500;\r\n",
       "    padding: 4px 0 2px 0;\r\n",
       "}\r\n",
       "\r\n",
       "\r\n",
       ".h5grp-sections > li > input + label:before {\r\n",
       "    display: inline-block;\r\n",
       "    content: '+';\r\n",
       "    font-size: 11px;\r\n",
       "    width: 15px;\r\n",
       "    text-align: center;\r\n",
       "}\r\n",
       "\r\n",
       ".h5grp-sections > li > input:disabled + label:before {\r\n",
       "    color: #777;\r\n",
       "}\r\n",
       "\r\n",
       ".h5grp-sections > li > input:checked + label:before {\r\n",
       "    content: '-';\r\n",
       "}\r\n",
       "\r\n",
       ".h5tb-dim-list {\r\n",
       "    display: inline-block !important;\r\n",
       "    list-style: none;\r\n",
       "    padding: 0;\r\n",
       "}\r\n",
       "\r\n",
       ".h5tb-dim-list li {\r\n",
       "    display: inline-block;\r\n",
       "    padding: 0;\r\n",
       "    margin: 0;\r\n",
       "}\r\n",
       "\r\n",
       ".h5tb-dim-list:before {\r\n",
       "    content: '(';\r\n",
       "}\r\n",
       "\r\n",
       ".h5tb-dim-list:after {\r\n",
       "    content: ')';\r\n",
       "}\r\n",
       "\r\n",
       ".h5tb-dim-list li:not(:last-child):after {\r\n",
       "    content: ',';\r\n",
       "}\r\n",
       "\r\n",
       ".h5tb-has-index {\r\n",
       "    text-decoration: underline;\r\n",
       "}\r\n",
       "\r\n",
       ".h5tb-var-list {\r\n",
       "    list-style: none;\r\n",
       "    padding: 0;\r\n",
       "    margin: 0;\r\n",
       "}\r\n",
       "\r\n",
       ".h5tb-var-list > li {\r\n",
       "    background-color: #fcfcfc;\r\n",
       "    overflow: hidden;\r\n",
       "}\r\n",
       "\r\n",
       ".h5tb-var-list > li:nth-child(odd) {\r\n",
       "    background-color: #efefef;\r\n",
       "}\r\n",
       "\r\n",
       ".h5tb-var-list li:hover {\r\n",
       "    background-color: rgba(3, 169, 244, .2);\r\n",
       "}\r\n",
       "\r\n",
       ".h5tb-var-list li > span {\r\n",
       "    display: inline-block;\r\n",
       "}\r\n",
       "\r\n",
       "input.h5tb-varname-in + label {\r\n",
       "    width: 140px;\r\n",
       "    padding-left: 0;\r\n",
       "    font-weight: bold;\r\n",
       "}\r\n",
       "\r\n",
       ".h5tb-dataset {\r\n",
       "    width: 100px;\r\n",
       "}\r\n",
       "\r\n",
       ".h5tb-attributevalue {\r\n",
       "    width: 100px;\r\n",
       "    text-align: left;\r\n",
       "    color: #888;\r\n",
       "    white-space: nowrap;\r\n",
       "    font-size: 12px;\r\n",
       "}\r\n",
       "\r\n",
       "input.h5tb-varname-in + label:before {\r\n",
       "    content: ' ';\r\n",
       "    display: inline-block;\r\n",
       "    font-size: 11px;\r\n",
       "    width: 15px;\r\n",
       "    padding-left: 2px;\r\n",
       "    padding-right: 2px;\r\n",
       "    text-align: center;\r\n",
       "    color: #aaa;\r\n",
       "    text-decoration: none !important;\r\n",
       "}\r\n",
       "\r\n",
       "input.h5tb-varname-in:enabled + label:hover:before {\r\n",
       "    color: #000;\r\n",
       "}\r\n",
       "\r\n",
       "input.h5tb-varname-in:checked + label:before {\r\n",
       "    color: #ccc;\r\n",
       "}\r\n",
       "\r\n",
       ".h5tb-dims {\r\n",
       "    width: 280px;\r\n",
       "    white-space: nowrap;\r\n",
       "}\r\n",
       "\r\n",
       "\r\n",
       ".h5tb-unit {\r\n",
       "    width: 96px;\r\n",
       "    white-space: nowrap;\r\n",
       "    padding-right: 2px;\r\n",
       "    text-align: right;\r\n",
       "    color: #555;\r\n",
       "    font-style: italic;\r\n",
       "}\r\n",
       "\r\n",
       ".h5tb-attr-list {\r\n",
       "    list-style: none;\r\n",
       "    background-color: #fff;\r\n",
       "    padding-bottom: 6px;\r\n",
       "    color: #555;\r\n",
       "}\r\n",
       "\r\n",
       ".h5tb-attr-list li,\r\n",
       ".h5tb-attr-list li:hover {\r\n",
       "    background-color: #fff;\r\n",
       "}\r\n",
       "\r\n",
       ".h5tb-dim-highlight {\r\n",
       "    background-color: rgba(3, 169, 244, .2);\r\n",
       "    cursor: pointer;\r\n",
       "}</style></head>\n",
       "<div class='h5tb-warp'>\n",
       "\n",
       "              <ul style=\"list-style-type: none;\" class=\"h5grp-sections\">\n",
       "                    <li>\n",
       "                        <input id=\"group-ds--42483293400\" type=\"checkbox\" checked>\n",
       "                        <label style=\"font-weight: bold\" for=\"group-ds--42483293400\">\n",
       "                        /<span>(2)</span></label>\n",
       "                  \n",
       "\n",
       "                    <ul class=\"h5tb-attr-list\"><li style=\"list-style-type: none; font-style: italic\">__h5rdmtoolbox_version__ : 0.4.0a1</li><li style=\"list-style-type: none; font-style: italic\">project : tutorial</li>\n",
       "                    </ul>\n",
       "\n",
       "                <ul id=\"ds-1-/velocity-42484875300\" class=\"h5tb-var-list\">\n",
       "                    <input id=\"ds-2-/velocity-42484877800\" class=\"h5tb-varname-in\" type=\"checkbox\">\n",
       "                    <label class='h5tb-varname' for=\"ds-2-/velocity-42484877800\">velocity</label>\n",
       "                    <span class=\"h5tb-dims\">(3) [int32]</span>\n",
       "                <ul class=\"h5tb-attr-list\"><li style=\"list-style-type: none; font-style:\n",
       "             italic\">standard_name : x_velocity</li><li style=\"list-style-type: none; font-style: italic\">units : m/s</li>\n",
       "                </ul>\n",
       "                </ul>\n",
       "\n",
       "              <ul style=\"list-style-type: none;\" class=\"h5grp-sections\">\n",
       "                    <li>\n",
       "                        <input id=\"group-ds-sub-42485089300\" type=\"checkbox\" >\n",
       "                        <label style=\"font-weight: bold\" for=\"group-ds-sub-42485089300\">\n",
       "                        sub<span>(1)</span></label>\n",
       "                  \n",
       "\n",
       "                    <ul class=\"h5tb-attr-list\">\n",
       "                    </ul>\n",
       "\n",
       "                <ul id=\"ds-1-/sub/velocity-42485439500\" class=\"h5tb-var-list\">\n",
       "                    <input id=\"ds-2-/sub/velocity-42485441700\" class=\"h5tb-varname-in\" type=\"checkbox\">\n",
       "                    <label class='h5tb-varname' for=\"ds-2-/sub/velocity-42485441700\">velocity</label>\n",
       "                    <span class=\"h5tb-dims\">(5) [int32]</span>\n",
       "                <ul class=\"h5tb-attr-list\"><li style=\"list-style-type: none; font-style:\n",
       "             italic\">standard_name : x_velocity</li><li style=\"list-style-type: none; font-style: italic\">units : m/s</li>\n",
       "                </ul>\n",
       "                </ul>\n",
       "</li>\n",
       "</ul>\n",
       "</li>\n",
       "</ul>\n",
       "</div>"
      ],
      "text/plain": [
       "<IPython.core.display.HTML object>"
      ]
     },
     "metadata": {},
     "output_type": "display_data"
    }
   ],
   "source": [
    "with h5tbx.File() as h5:\n",
    "    h5.attrs['project'] = 'tutorial'\n",
    "    h5.create_dataset('velocity', data=[1,2,-1], attrs=dict(units='m/s', standard_name='x_velocity'))\n",
    "    g = h5.create_group('sub')\n",
    "    g.create_dataset('velocity', data=[4,0,-3,12,3], attrs=dict(units='m/s', standard_name='x_velocity'))\n",
    "    h5.dump()\n",
    "    filename = h5.hdf_filename"
   ]
  },
  {
   "cell_type": "markdown",
   "id": "722784a5-d90c-4785-9f57-b424ce3f9b0f",
   "metadata": {},
   "source": [
    "## Find based on name/basename\n",
    "A `name` is the path within the file, the basename is the raw dataset or group name itself:"
   ]
  },
  {
   "cell_type": "code",
   "execution_count": 6,
   "id": "410d8841-76f7-4db2-8c54-e7c67c46c79e",
   "metadata": {},
   "outputs": [
    {
     "name": "stdout",
     "output_type": "stream",
     "text": [
      "find basename=velocity in root:\n",
      "[<HDF5 dataset \"velocity\": shape (3,), type \"<i4\", convention \"h5py\">,\n",
      " <HDF5 dataset \"velocity\": shape (5,), type \"<i4\", convention \"h5py\">]\n",
      "\n",
      "find name=/velocity in root:\n",
      "[<HDF5 dataset \"velocity\": shape (3,), type \"<i4\", convention \"h5py\">]\n",
      "\n",
      "find name=/sub/velocity in root:\n",
      "[<HDF5 dataset \"velocity\": shape (5,), type \"<i4\", convention \"h5py\">]\n",
      "\n",
      "find basename=velocity in sub/:\n",
      "[<HDF5 dataset \"velocity\": shape (5,), type \"<i4\", convention \"h5py\">]\n",
      "\n",
      "find basename=velocity in root:\n",
      "[<HDF5 dataset \"velocity\": shape (3,), type \"<i4\", convention \"h5py\">]\n",
      "\n",
      "find basename=velocity in root:\n",
      "[<HDF5 dataset \"velocity\": shape (3,), type \"<i4\", convention \"h5py\">,\n",
      " <HDF5 dataset \"velocity\": shape (5,), type \"<i4\", convention \"h5py\">]\n"
     ]
    }
   ],
   "source": [
    "with h5tbx.File(filename) as h5:\n",
    "    print('find basename=velocity in root:')\n",
    "    pprint(h5.find({'$basename': 'velocity'}, '$dataset'))\n",
    "    \n",
    "    print('\\nfind name=/velocity in root:')\n",
    "    pprint(h5.find({'$name': '/velocity'}, '$dataset'))\n",
    "    \n",
    "    print('\\nfind name=/sub/velocity in root:')\n",
    "    pprint(h5.find({'$name': '/sub/velocity'}, '$dataset'))\n",
    "    \n",
    "    print('\\nfind basename=velocity in sub/:')\n",
    "    pprint(h5['sub'].find({'$basename': 'velocity'}, '$dataset', rec=False))\n",
    "    \n",
    "    print('\\nfind basename=velocity in root:')\n",
    "    pprint(h5.find({'$basename': 'velocity'}, '$dataset', rec=False))\n",
    "    \n",
    "    print('\\nfind basename=velocity in root:')\n",
    "    pprint(h5.find({'$basename': 'velocity'}, '$dataset', rec=True))"
   ]
  },
  {
   "cell_type": "code",
   "execution_count": 7,
   "id": "4c8a143b-6424-408b-8ad1-8569e0620f4b",
   "metadata": {},
   "outputs": [
    {
     "name": "stdout",
     "output_type": "stream",
     "text": [
      "[<HDF5 wrapper group \"/sub\" (members: 1, convention: \"h5py\")>]\n"
     ]
    }
   ],
   "source": [
    "with h5tbx.File(filename) as h5:\n",
    "    pprint(h5.find({'$basename': {'$regex': 'sub'}}, '$group', rec=False))"
   ]
  },
  {
   "cell_type": "markdown",
   "id": "5155c9bb-106a-4a3b-80f4-50e148ded6d5",
   "metadata": {},
   "source": [
    "`find_one` returns the object, not a list of objects:"
   ]
  },
  {
   "cell_type": "code",
   "execution_count": 8,
   "id": "b1f58db2-0660-40a5-8563-2370c31ecb92",
   "metadata": {},
   "outputs": [
    {
     "name": "stdout",
     "output_type": "stream",
     "text": [
      "<HDF5 dataset \"velocity\": shape (5,), type \"<i4\", convention \"h5py\">\n"
     ]
    }
   ],
   "source": [
    "with h5tbx.File(filename) as h5:\n",
    "    pprint(h5.find_one({'$basename': 'velocity'}, '$dataset'))"
   ]
  },
  {
   "cell_type": "markdown",
   "id": "b9fd4b9d-3479-4f15-80a1-228df20712c8",
   "metadata": {},
   "source": [
    "## Find a dataset based on shape or dimension:"
   ]
  },
  {
   "cell_type": "code",
   "execution_count": 9,
   "id": "214dce12-b722-469b-b6d8-5412830c0ccb",
   "metadata": {},
   "outputs": [
    {
     "name": "stdout",
     "output_type": "stream",
     "text": [
      "[<HDF5 dataset \"velocity\": shape (5,), type \"<i4\", convention \"h5py\">]\n",
      "[<HDF5 dataset \"velocity\": shape (5,), type \"<i4\", convention \"h5py\">,\n",
      " <HDF5 dataset \"velocity\": shape (3,), type \"<i4\", convention \"h5py\">]\n"
     ]
    }
   ],
   "source": [
    "with h5tbx.File(filename) as h5:\n",
    "    pprint(h5.find({'$shape': (5,)}, '$dataset'))\n",
    "    pprint(h5.find({'$ndim': 1}, '$dataset'))"
   ]
  },
  {
   "cell_type": "code",
   "execution_count": null,
   "id": "22cbd357-af76-459a-a265-5d232b1c8f61",
   "metadata": {},
   "outputs": [],
   "source": []
  }
 ],
 "metadata": {
  "kernelspec": {
   "display_name": "Python 3 (ipykernel)",
   "language": "python",
   "name": "python3"
  },
  "language_info": {
   "codemirror_mode": {
    "name": "ipython",
    "version": 3
   },
   "file_extension": ".py",
   "mimetype": "text/x-python",
   "name": "python",
   "nbconvert_exporter": "python",
   "pygments_lexer": "ipython3",
   "version": "3.8.16"
  }
 },
 "nbformat": 4,
 "nbformat_minor": 5
}
