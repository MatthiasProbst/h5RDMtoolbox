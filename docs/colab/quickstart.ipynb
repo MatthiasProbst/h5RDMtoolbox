{
 "cells": [
  {
   "cell_type": "code",
   "execution_count": 1,
   "metadata": {
    "scrolled": true
   },
   "outputs": [],
   "source": [
    "# !pip install h5rdmtoolbox"
   ]
  },
  {
   "cell_type": "markdown",
   "metadata": {},
   "source": [
    "# 1. Planning\n",
    "\n",
    "- Decide to use HDF5 as your core file format\n",
    "- Define important attributes and their usage in a metadata convention (e.g. a YAML file)\n",
    "- Publish your convention on a repository like [Zenodo](https://zenodo.org/)\n",
    "\n",
    "At this time we assume, that we have done this already, thus we'll be using a convention published on [Zenodo (doi/rec-id: 10156750)](https://zenodo.org/records/10156750), that already exists:"
   ]
  },
  {
   "cell_type": "code",
   "execution_count": 2,
   "metadata": {},
   "outputs": [
    {
     "name": "stdout",
     "output_type": "stream",
     "text": [
      "1.2.2\n"
     ]
    }
   ],
   "source": [
    "import h5rdmtoolbox as h5tbx\n",
    "from h5rdmtoolbox.repository import zenodo\n",
    "\n",
    "print(h5tbx.__version__)\n",
    "\n",
    "zenodo_repo = zenodo.ZenodoRecord(10428822)\n",
    "cv = h5tbx.convention.from_repo(zenodo_repo, 'tutorial_convention.yaml')"
   ]
  },
  {
   "cell_type": "markdown",
   "metadata": {},
   "source": [
    "Another important step is defining the expected layout of a file. For this simple example, we \"only\" want to require users to provide the attribute \"units\" with every dataset:"
   ]
  },
  {
   "cell_type": "code",
   "execution_count": 3,
   "metadata": {},
   "outputs": [],
   "source": [
    "from h5rdmtoolbox import layout\n",
    "from h5rdmtoolbox import database\n",
    "\n",
    "lay = layout.Layout()\n",
    "spec_has_units = lay.add(\n",
    "    database.FileDB.find,\n",
    "    flt={'units': {'$exists': True}},\n",
    "    objfilter='dataset'\n",
    ")"
   ]
  },
  {
   "cell_type": "markdown",
   "metadata": {},
   "source": [
    "# 2. Collecting\n",
    "\n",
    "We start with writing data to an HDF5 file. This is syntactically almost like using `h5py`, just with a few features wrapped around it.\n",
    "\n",
    "- Fill an HDF5 file with the required data and mandatory metadata\n",
    "- Data may come in various sources, e.g. from a measurement, a simulation or a database\n",
    "- HDF5 is best for multidimensional data, but can also be used for 1D data\n",
    "- When writing the HDF5 files, the convention is automatically validating the metadata input, which are the attributes\n",
    "  or the datasets and groups\n"
   ]
  },
  {
   "cell_type": "markdown",
   "metadata": {},
   "source": [
    "Before we can start writing data to the file, we must enable the convention. This results in changing the behaviour of methods like `create_datasets` as they now require parameters like `units` for example:"
   ]
  },
  {
   "cell_type": "code",
   "execution_count": 4,
   "metadata": {},
   "outputs": [
    {
     "data": {
      "text/plain": [
       "using(\"h5rdmtoolbox-tutorial-convention\")"
      ]
     },
     "execution_count": 4,
     "metadata": {},
     "output_type": "execute_result"
    }
   ],
   "source": [
    "# enable the convention:\n",
    "h5tbx.use(cv)"
   ]
  },
  {
   "cell_type": "code",
   "execution_count": 5,
   "metadata": {},
   "outputs": [],
   "source": [
    "filename = 'my_file.hdf'\n",
    "\n",
    "import numpy as np\n",
    "\n",
    "with h5tbx.File(filename,\n",
    "                mode='w',\n",
    "                data_type='experimental',\n",
    "                contact='https://orcid.org/0000-0001-8729-0482') as h5:\n",
    "    # create a dataset\n",
    "    h5.create_dataset(name='time', data=np.linspace(0, 1, 1000),\n",
    "                      standard_name='time', units='ms', make_scale=True)\n",
    "    h5.create_dataset(name='u',\n",
    "                      data=np.random.normal(10, 2, 1000),\n",
    "                      standard_name='x_velocity',\n",
    "                      units='m/s',\n",
    "                      attach_scale='time')\n",
    "    h5['u'].dims[0].attach_scale(h5['time'])"
   ]
  },
  {
   "cell_type": "markdown",
   "metadata": {},
   "source": [
    "## Refining the metadata\n",
    "\n",
    "We already provided quite some metadata with the file. Although, attributes like \"units\" is quite self-explaining, let's associate it with a persistent identifier. In this way, the metadata becomes *FAIR*. More on this can be found [here](https://h5rdmtoolbox.readthedocs.io/en/latest/userguide/wrapper/FAIRAttributes.html)."
   ]
  },
  {
   "cell_type": "code",
   "execution_count": 6,
   "metadata": {},
   "outputs": [],
   "source": [
    "from h5rdmtoolbox.namespace import M4I, QUDT_UNIT\n",
    "\n",
    "with h5tbx.File(filename, 'r+') as h5:\n",
    "    h5.u.iri['units'].predicate = 'http://qudt.org/schema/qudt/Unit'\n",
    "    h5.u.iri['units'].object = QUDT_UNIT.M_PER_SEC\n",
    "    h5.iri['contact'].predicate = M4I.orcidId"
   ]
  },
  {
   "cell_type": "markdown",
   "metadata": {},
   "source": [
    "In the next step, we will see one practical effect of assigning IRIs to the metadata."
   ]
  },
  {
   "cell_type": "markdown",
   "metadata": {},
   "source": [
    "# 3. Analyzing\n",
    "\n",
    "Let's open the file, inspect its content and plot a dataset.\n",
    "\n",
    "## 3.1 HDF content dump\n",
    "Use the *dump()* method:"
   ]
  },
  {
   "cell_type": "code",
   "execution_count": 7,
   "metadata": {},
   "outputs": [
    {
     "data": {
      "text/html": [
       "<head><style>/*\r\n",
       "CSS inspired by xarray: https://github.com/pydata/xarray\r\n",
       "*/\r\n",
       ".h5tb-header > div,\r\n",
       ".h5tb-header > ul {\r\n",
       "    display: inline;\r\n",
       "    margin-top: 0;\r\n",
       "    margin-bottom: 0;\r\n",
       "}\r\n",
       "\r\n",
       ".h5tb-dataarray-cls,\r\n",
       ".h5tb-dataarray-name {\r\n",
       "    margin-left: 2px;\r\n",
       "    margin-right: 10px;\r\n",
       "}\r\n",
       "\r\n",
       ".h5tb-dataarray-name {\r\n",
       "    color: #000;\r\n",
       "}\r\n",
       "\r\n",
       ".h5grp-sections {\r\n",
       "    list-style: none;\r\n",
       "    padding: 3px;\r\n",
       "    margin: 0;\r\n",
       "}\r\n",
       "\r\n",
       ".h5grp-sections input {\r\n",
       "    display: none;\r\n",
       "}\r\n",
       "\r\n",
       ".h5grp-sections label {\r\n",
       "    display: inline;\r\n",
       "}\r\n",
       "\r\n",
       ".h5grp-sections > li > input + label > span {\r\n",
       "    display: inline;\r\n",
       "    margin-left: 4px;\r\n",
       "}\r\n",
       "\r\n",
       ".h5grp-sections > li > input:checked + label > span {\r\n",
       "    display: none;\r\n",
       "}\r\n",
       "\r\n",
       ".h5grp-sections input:enabled + label {\r\n",
       "    cursor: pointer;\r\n",
       "}\r\n",
       "\r\n",
       ".h5grp-sections input:not(.h5tb-values-in) ~ ul {\r\n",
       "    display: none;\r\n",
       "}\r\n",
       "\r\n",
       ".h5grp-sections input:not(.h5tb-values-in):checked ~ ul {\r\n",
       "    display: block;\r\n",
       "}\r\n",
       "\r\n",
       ".h5grp-sections > li > input + label {\r\n",
       "    width: 140px;\r\n",
       "    color: #555;\r\n",
       "    font-weight: 500;\r\n",
       "    padding: 4px 0 2px 0;\r\n",
       "}\r\n",
       "\r\n",
       "\r\n",
       ".h5grp-sections > li > input + label:before {\r\n",
       "    display: inline-block;\r\n",
       "    content: '+';\r\n",
       "    font-size: 11px;\r\n",
       "    width: 15px;\r\n",
       "    text-align: center;\r\n",
       "}\r\n",
       "\r\n",
       ".h5grp-sections > li > input:disabled + label:before {\r\n",
       "    color: #777;\r\n",
       "}\r\n",
       "\r\n",
       ".h5grp-sections > li > input:checked + label:before {\r\n",
       "    content: '-';\r\n",
       "}\r\n",
       "\r\n",
       ".h5tb-dim-list {\r\n",
       "    display: inline-block !important;\r\n",
       "    list-style: none;\r\n",
       "    padding: 0;\r\n",
       "}\r\n",
       "\r\n",
       ".h5tb-dim-list li {\r\n",
       "    display: inline-block;\r\n",
       "    padding: 0;\r\n",
       "    margin: 0;\r\n",
       "}\r\n",
       "\r\n",
       ".h5tb-dim-list:before {\r\n",
       "    content: '(';\r\n",
       "}\r\n",
       "\r\n",
       ".h5tb-dim-list:after {\r\n",
       "    content: ')';\r\n",
       "}\r\n",
       "\r\n",
       ".h5tb-dim-list li:not(:last-child):after {\r\n",
       "    content: ',';\r\n",
       "}\r\n",
       "\r\n",
       ".h5tb-has-index {\r\n",
       "    text-decoration: underline;\r\n",
       "}\r\n",
       "\r\n",
       ".h5tb-var-list {\r\n",
       "    list-style: none;\r\n",
       "    padding: 0;\r\n",
       "    margin: 0;\r\n",
       "}\r\n",
       "\r\n",
       ".h5tb-var-list > li {\r\n",
       "    background-color: #fcfcfc;\r\n",
       "    overflow: hidden;\r\n",
       "}\r\n",
       "\r\n",
       ".h5tb-var-list > li:nth-child(odd) {\r\n",
       "    background-color: #efefef;\r\n",
       "}\r\n",
       "\r\n",
       ".h5tb-var-list li:hover {\r\n",
       "    background-color: rgba(3, 169, 244, .2);\r\n",
       "}\r\n",
       "\r\n",
       ".h5tb-var-list li > span {\r\n",
       "    display: inline-block;\r\n",
       "}\r\n",
       "\r\n",
       "input.h5tb-varname-in + label {\r\n",
       "    width: 140px;\r\n",
       "    padding-left: 0;\r\n",
       "    font-weight: bold;\r\n",
       "}\r\n",
       "\r\n",
       ".h5tb-dataset {\r\n",
       "    width: 100px;\r\n",
       "}\r\n",
       "\r\n",
       ".h5tb-attributevalue {\r\n",
       "    width: 100px;\r\n",
       "    text-align: left;\r\n",
       "    color: #888;\r\n",
       "    white-space: nowrap;\r\n",
       "    font-size: 12px;\r\n",
       "}\r\n",
       "\r\n",
       "input.h5tb-varname-in + label:before {\r\n",
       "    content: ' ';\r\n",
       "    display: inline-block;\r\n",
       "    font-size: 11px;\r\n",
       "    width: 15px;\r\n",
       "    padding-left: 2px;\r\n",
       "    padding-right: 2px;\r\n",
       "    text-align: center;\r\n",
       "    color: #aaa;\r\n",
       "    text-decoration: none !important;\r\n",
       "}\r\n",
       "\r\n",
       "input.h5tb-varname-in:enabled + label:hover:before {\r\n",
       "    color: #000;\r\n",
       "}\r\n",
       "\r\n",
       "input.h5tb-varname-in:checked + label:before {\r\n",
       "    color: #ccc;\r\n",
       "}\r\n",
       "\r\n",
       ".h5tb-dims {\r\n",
       "    width: 280px;\r\n",
       "    white-space: nowrap;\r\n",
       "}\r\n",
       "\r\n",
       ".h5tb-attr-list {\r\n",
       "    list-style: none;\r\n",
       "    background-color: rgba(0,0,0,.0);\r\n",
       "    padding-bottom: 6px;\r\n",
       "    color: #6a6c73;\r\n",
       "}\r\n",
       "\r\n",
       ".h5tb-attr-list li,\r\n",
       ".h5tb-attr-list li:hover {\r\n",
       "    background-color: rgba(0,0,0,.0);\r\n",
       "}</style></head>\n",
       "<div class='h5tb-warp'>\n",
       "\n",
       "              <ul style=\"list-style-type: none;\" class=\"h5grp-sections\">\n",
       "                    <li>\n",
       "                        <input id=\"group-ds--755246887932700\" type=\"checkbox\" checked>\n",
       "                        <label style=\"font-weight: bold\" for=\"group-ds--755246887932700\">\n",
       "                        /<span>(2)</span></label>\n",
       "                  \n",
       "\n",
       "                    <ul class=\"h5tb-attr-list\"><li style=\"list-style-type: none; font-style: italic\">__h5rdmtoolbox_version__<a href=\"https://w3id.org/okn/o/sd#SoftwareVersion\"><img src=\"https://github.com/matthiasprobst/h5RDMtoolbox/blob/dev/h5rdmtoolbox/data/iri_icon.png?raw=true\" alt=\" [IRI]\" width=\"16\" height=\"16\" /></a> : 1.2.2</li><li style=\"list-style-type: none; font-style: italic\">contact<a href=\"http://w3id.org/nfdi4ing/metadata4ing#orcidId\"><img src=\"https://github.com/matthiasprobst/h5RDMtoolbox/blob/dev/h5rdmtoolbox/data/iri_icon.png?raw=true\" alt=\" [IRI]\" width=\"16\" height=\"16\" /></a> : <a href=\"https://orcid.org/0000-0001-8729-0482\"><img alt=\"ORCID logo\" src=\"https://info.orcid.org/wp-content/uploads/2019/11/orcid_16x16.png\" width=\"16\" height=\"16\" />https://orcid.org/0000-0001-8729-0482</a></li><li style=\"list-style-type: none; font-style: italic\">data_type : experimental</li><li style=\"list-style-type: none; font-style: italic\">standard_name_table : <a href=\"https://zenodo.org/record/10428795\"><img src=\"https://zenodo.org/badge/DOI/10.5281/zenodo.10428795.svg\" alt=\"DOI\"></a></li>\n",
       "                    </ul>\n",
       "\n",
       "                <ul id=\"ds-1-/time-755246890561100\" class=\"h5tb-var-list\">\n",
       "                    <input id=\"ds-2-/time-755246890565700\" class=\"h5tb-varname-in\" type=\"checkbox\" checked>\n",
       "                    <label class='h5tb-varname' for=\"ds-2-/time-755246890565700\">time</label>\n",
       "                    <span class=\"h5tb-dims\">(1000) [float64]</span>\n",
       "                <ul class=\"h5tb-attr-list\"><li style=\"list-style-type: none; font-style: italic\">standard_name : time</li><li style=\"list-style-type: none; font-style: italic\">units : ms</li>\n",
       "                </ul>\n",
       "                </ul>\n",
       "\n",
       "                <ul id=\"ds-1-/u-755246891087900\" class=\"h5tb-var-list\">\n",
       "                    <input id=\"ds-2-/u-755246891090300\" class=\"h5tb-varname-in\" type=\"checkbox\" checked>\n",
       "                    <label class='h5tb-varname' for=\"ds-2-/u-755246891090300\">u</label>\n",
       "                    <span class=\"h5tb-dims\">(time: 1000) [float64]</span>\n",
       "                <ul class=\"h5tb-attr-list\"><li style=\"list-style-type: none; font-style: italic\">standard_name : x_velocity</li><li style=\"list-style-type: none; font-style: italic\">units<a href=\"http://qudt.org/schema/qudt/Unit\"><img src=\"https://github.com/matthiasprobst/h5RDMtoolbox/blob/dev/h5rdmtoolbox/data/iri_icon.png?raw=true\" alt=\" [IRI]\" width=\"16\" height=\"16\" /></a> : m/s<a href=\"http://qudt.org/vocab/unit/M-PER-SEC\"><img src=\"https://github.com/matthiasprobst/h5RDMtoolbox/blob/dev/h5rdmtoolbox/data/iri_icon.png?raw=true\" alt=\" [IRI]\" width=\"16\" height=\"16\" /></a></li>\n",
       "                </ul>\n",
       "                </ul>\n",
       "</li>\n",
       "</ul>\n",
       "</div>"
      ],
      "text/plain": [
       "<IPython.core.display.HTML object>"
      ]
     },
     "metadata": {},
     "output_type": "display_data"
    }
   ],
   "source": [
    "with h5tbx.File(filename, mode='r') as h5:\n",
    "    # inspect the file layout and content:\n",
    "    h5.dump(collapsed=False)"
   ]
  },
  {
   "cell_type": "markdown",
   "metadata": {},
   "source": [
    "... or extract metadata as a JSON-LD file:"
   ]
  },
  {
   "cell_type": "code",
   "execution_count": 8,
   "metadata": {},
   "outputs": [
    {
     "name": "stdout",
     "output_type": "stream",
     "text": [
      "{\n",
      "  \"@graph\": [\n",
      "    {\n",
      "      \"@id\": \"grp:/\",\n",
      "      \"https://w3id.org/okn/o/sd#SoftwareVersion\": \"1.2.2\",\n",
      "      \"http://w3id.org/nfdi4ing/metadata4ing#orcidId\": \"https://orcid.org/0000-0001-8729-0482\",\n",
      "      \"data_type\": \"experimental\",\n",
      "      \"standard_name_table\": \"https://zenodo.org/record/10428795\"\n",
      "    },\n",
      "    {\n",
      "      \"@id\": \"grp:/time\",\n",
      "      \"standard_name\": \"time\",\n",
      "      \"units\": \"ms\"\n",
      "    },\n",
      "    {\n",
      "      \"@id\": \"grp:/u\",\n",
      "      \"standard_name\": \"x_velocity\",\n",
      "      \"http://qudt.org/schema/qudt/Unit\": \"http://qudt.org/vocab/unit/M-PER-SEC\"\n",
      "    }\n",
      "  ]\n",
      "}\n"
     ]
    }
   ],
   "source": [
    "from h5rdmtoolbox import jsonld as h5tbxjld\n",
    "print(h5tbxjld.dumps(filename, indent=2))"
   ]
  },
  {
   "cell_type": "markdown",
   "metadata": {},
   "source": [
    "## 3.2 Plotting\n",
    "\n",
    "First slice the dataset. We will receive a `xr.DataArray`:"
   ]
  },
  {
   "cell_type": "code",
   "execution_count": 9,
   "metadata": {},
   "outputs": [
    {
     "data": {
      "text/html": [
       "<div><svg style=\"position: absolute; width: 0; height: 0; overflow: hidden\">\n",
       "<defs>\n",
       "<symbol id=\"icon-database\" viewBox=\"0 0 32 32\">\n",
       "<path d=\"M16 0c-8.837 0-16 2.239-16 5v4c0 2.761 7.163 5 16 5s16-2.239 16-5v-4c0-2.761-7.163-5-16-5z\"></path>\n",
       "<path d=\"M16 17c-8.837 0-16-2.239-16-5v6c0 2.761 7.163 5 16 5s16-2.239 16-5v-6c0 2.761-7.163 5-16 5z\"></path>\n",
       "<path d=\"M16 26c-8.837 0-16-2.239-16-5v6c0 2.761 7.163 5 16 5s16-2.239 16-5v-6c0 2.761-7.163 5-16 5z\"></path>\n",
       "</symbol>\n",
       "<symbol id=\"icon-file-text2\" viewBox=\"0 0 32 32\">\n",
       "<path d=\"M28.681 7.159c-0.694-0.947-1.662-2.053-2.724-3.116s-2.169-2.030-3.116-2.724c-1.612-1.182-2.393-1.319-2.841-1.319h-15.5c-1.378 0-2.5 1.121-2.5 2.5v27c0 1.378 1.122 2.5 2.5 2.5h23c1.378 0 2.5-1.122 2.5-2.5v-19.5c0-0.448-0.137-1.23-1.319-2.841zM24.543 5.457c0.959 0.959 1.712 1.825 2.268 2.543h-4.811v-4.811c0.718 0.556 1.584 1.309 2.543 2.268zM28 29.5c0 0.271-0.229 0.5-0.5 0.5h-23c-0.271 0-0.5-0.229-0.5-0.5v-27c0-0.271 0.229-0.5 0.5-0.5 0 0 15.499-0 15.5 0v7c0 0.552 0.448 1 1 1h7v19.5z\"></path>\n",
       "<path d=\"M23 26h-14c-0.552 0-1-0.448-1-1s0.448-1 1-1h14c0.552 0 1 0.448 1 1s-0.448 1-1 1z\"></path>\n",
       "<path d=\"M23 22h-14c-0.552 0-1-0.448-1-1s0.448-1 1-1h14c0.552 0 1 0.448 1 1s-0.448 1-1 1z\"></path>\n",
       "<path d=\"M23 18h-14c-0.552 0-1-0.448-1-1s0.448-1 1-1h14c0.552 0 1 0.448 1 1s-0.448 1-1 1z\"></path>\n",
       "</symbol>\n",
       "</defs>\n",
       "</svg>\n",
       "<style>/* CSS stylesheet for displaying xarray objects in jupyterlab.\n",
       " *\n",
       " */\n",
       "\n",
       ":root {\n",
       "  --xr-font-color0: var(--jp-content-font-color0, rgba(0, 0, 0, 1));\n",
       "  --xr-font-color2: var(--jp-content-font-color2, rgba(0, 0, 0, 0.54));\n",
       "  --xr-font-color3: var(--jp-content-font-color3, rgba(0, 0, 0, 0.38));\n",
       "  --xr-border-color: var(--jp-border-color2, #e0e0e0);\n",
       "  --xr-disabled-color: var(--jp-layout-color3, #bdbdbd);\n",
       "  --xr-background-color: var(--jp-layout-color0, white);\n",
       "  --xr-background-color-row-even: var(--jp-layout-color1, white);\n",
       "  --xr-background-color-row-odd: var(--jp-layout-color2, #eeeeee);\n",
       "}\n",
       "\n",
       "html[theme=dark],\n",
       "body[data-theme=dark],\n",
       "body.vscode-dark {\n",
       "  --xr-font-color0: rgba(255, 255, 255, 1);\n",
       "  --xr-font-color2: rgba(255, 255, 255, 0.54);\n",
       "  --xr-font-color3: rgba(255, 255, 255, 0.38);\n",
       "  --xr-border-color: #1F1F1F;\n",
       "  --xr-disabled-color: #515151;\n",
       "  --xr-background-color: #111111;\n",
       "  --xr-background-color-row-even: #111111;\n",
       "  --xr-background-color-row-odd: #313131;\n",
       "}\n",
       "\n",
       ".xr-wrap {\n",
       "  display: block !important;\n",
       "  min-width: 300px;\n",
       "  max-width: 700px;\n",
       "}\n",
       "\n",
       ".xr-text-repr-fallback {\n",
       "  /* fallback to plain text repr when CSS is not injected (untrusted notebook) */\n",
       "  display: none;\n",
       "}\n",
       "\n",
       ".xr-header {\n",
       "  padding-top: 6px;\n",
       "  padding-bottom: 6px;\n",
       "  margin-bottom: 4px;\n",
       "  border-bottom: solid 1px var(--xr-border-color);\n",
       "}\n",
       "\n",
       ".xr-header > div,\n",
       ".xr-header > ul {\n",
       "  display: inline;\n",
       "  margin-top: 0;\n",
       "  margin-bottom: 0;\n",
       "}\n",
       "\n",
       ".xr-obj-type,\n",
       ".xr-array-name {\n",
       "  margin-left: 2px;\n",
       "  margin-right: 10px;\n",
       "}\n",
       "\n",
       ".xr-obj-type {\n",
       "  color: var(--xr-font-color2);\n",
       "}\n",
       "\n",
       ".xr-sections {\n",
       "  padding-left: 0 !important;\n",
       "  display: grid;\n",
       "  grid-template-columns: 150px auto auto 1fr 20px 20px;\n",
       "}\n",
       "\n",
       ".xr-section-item {\n",
       "  display: contents;\n",
       "}\n",
       "\n",
       ".xr-section-item input {\n",
       "  display: none;\n",
       "}\n",
       "\n",
       ".xr-section-item input + label {\n",
       "  color: var(--xr-disabled-color);\n",
       "}\n",
       "\n",
       ".xr-section-item input:enabled + label {\n",
       "  cursor: pointer;\n",
       "  color: var(--xr-font-color2);\n",
       "}\n",
       "\n",
       ".xr-section-item input:enabled + label:hover {\n",
       "  color: var(--xr-font-color0);\n",
       "}\n",
       "\n",
       ".xr-section-summary {\n",
       "  grid-column: 1;\n",
       "  color: var(--xr-font-color2);\n",
       "  font-weight: 500;\n",
       "}\n",
       "\n",
       ".xr-section-summary > span {\n",
       "  display: inline-block;\n",
       "  padding-left: 0.5em;\n",
       "}\n",
       "\n",
       ".xr-section-summary-in:disabled + label {\n",
       "  color: var(--xr-font-color2);\n",
       "}\n",
       "\n",
       ".xr-section-summary-in + label:before {\n",
       "  display: inline-block;\n",
       "  content: '►';\n",
       "  font-size: 11px;\n",
       "  width: 15px;\n",
       "  text-align: center;\n",
       "}\n",
       "\n",
       ".xr-section-summary-in:disabled + label:before {\n",
       "  color: var(--xr-disabled-color);\n",
       "}\n",
       "\n",
       ".xr-section-summary-in:checked + label:before {\n",
       "  content: '▼';\n",
       "}\n",
       "\n",
       ".xr-section-summary-in:checked + label > span {\n",
       "  display: none;\n",
       "}\n",
       "\n",
       ".xr-section-summary,\n",
       ".xr-section-inline-details {\n",
       "  padding-top: 4px;\n",
       "  padding-bottom: 4px;\n",
       "}\n",
       "\n",
       ".xr-section-inline-details {\n",
       "  grid-column: 2 / -1;\n",
       "}\n",
       "\n",
       ".xr-section-details {\n",
       "  display: none;\n",
       "  grid-column: 1 / -1;\n",
       "  margin-bottom: 5px;\n",
       "}\n",
       "\n",
       ".xr-section-summary-in:checked ~ .xr-section-details {\n",
       "  display: contents;\n",
       "}\n",
       "\n",
       ".xr-array-wrap {\n",
       "  grid-column: 1 / -1;\n",
       "  display: grid;\n",
       "  grid-template-columns: 20px auto;\n",
       "}\n",
       "\n",
       ".xr-array-wrap > label {\n",
       "  grid-column: 1;\n",
       "  vertical-align: top;\n",
       "}\n",
       "\n",
       ".xr-preview {\n",
       "  color: var(--xr-font-color3);\n",
       "}\n",
       "\n",
       ".xr-array-preview,\n",
       ".xr-array-data {\n",
       "  padding: 0 5px !important;\n",
       "  grid-column: 2;\n",
       "}\n",
       "\n",
       ".xr-array-data,\n",
       ".xr-array-in:checked ~ .xr-array-preview {\n",
       "  display: none;\n",
       "}\n",
       "\n",
       ".xr-array-in:checked ~ .xr-array-data,\n",
       ".xr-array-preview {\n",
       "  display: inline-block;\n",
       "}\n",
       "\n",
       ".xr-dim-list {\n",
       "  display: inline-block !important;\n",
       "  list-style: none;\n",
       "  padding: 0 !important;\n",
       "  margin: 0;\n",
       "}\n",
       "\n",
       ".xr-dim-list li {\n",
       "  display: inline-block;\n",
       "  padding: 0;\n",
       "  margin: 0;\n",
       "}\n",
       "\n",
       ".xr-dim-list:before {\n",
       "  content: '(';\n",
       "}\n",
       "\n",
       ".xr-dim-list:after {\n",
       "  content: ')';\n",
       "}\n",
       "\n",
       ".xr-dim-list li:not(:last-child):after {\n",
       "  content: ',';\n",
       "  padding-right: 5px;\n",
       "}\n",
       "\n",
       ".xr-has-index {\n",
       "  font-weight: bold;\n",
       "}\n",
       "\n",
       ".xr-var-list,\n",
       ".xr-var-item {\n",
       "  display: contents;\n",
       "}\n",
       "\n",
       ".xr-var-item > div,\n",
       ".xr-var-item label,\n",
       ".xr-var-item > .xr-var-name span {\n",
       "  background-color: var(--xr-background-color-row-even);\n",
       "  margin-bottom: 0;\n",
       "}\n",
       "\n",
       ".xr-var-item > .xr-var-name:hover span {\n",
       "  padding-right: 5px;\n",
       "}\n",
       "\n",
       ".xr-var-list > li:nth-child(odd) > div,\n",
       ".xr-var-list > li:nth-child(odd) > label,\n",
       ".xr-var-list > li:nth-child(odd) > .xr-var-name span {\n",
       "  background-color: var(--xr-background-color-row-odd);\n",
       "}\n",
       "\n",
       ".xr-var-name {\n",
       "  grid-column: 1;\n",
       "}\n",
       "\n",
       ".xr-var-dims {\n",
       "  grid-column: 2;\n",
       "}\n",
       "\n",
       ".xr-var-dtype {\n",
       "  grid-column: 3;\n",
       "  text-align: right;\n",
       "  color: var(--xr-font-color2);\n",
       "}\n",
       "\n",
       ".xr-var-preview {\n",
       "  grid-column: 4;\n",
       "}\n",
       "\n",
       ".xr-index-preview {\n",
       "  grid-column: 2 / 5;\n",
       "  color: var(--xr-font-color2);\n",
       "}\n",
       "\n",
       ".xr-var-name,\n",
       ".xr-var-dims,\n",
       ".xr-var-dtype,\n",
       ".xr-preview,\n",
       ".xr-attrs dt {\n",
       "  white-space: nowrap;\n",
       "  overflow: hidden;\n",
       "  text-overflow: ellipsis;\n",
       "  padding-right: 10px;\n",
       "}\n",
       "\n",
       ".xr-var-name:hover,\n",
       ".xr-var-dims:hover,\n",
       ".xr-var-dtype:hover,\n",
       ".xr-attrs dt:hover {\n",
       "  overflow: visible;\n",
       "  width: auto;\n",
       "  z-index: 1;\n",
       "}\n",
       "\n",
       ".xr-var-attrs,\n",
       ".xr-var-data,\n",
       ".xr-index-data {\n",
       "  display: none;\n",
       "  background-color: var(--xr-background-color) !important;\n",
       "  padding-bottom: 5px !important;\n",
       "}\n",
       "\n",
       ".xr-var-attrs-in:checked ~ .xr-var-attrs,\n",
       ".xr-var-data-in:checked ~ .xr-var-data,\n",
       ".xr-index-data-in:checked ~ .xr-index-data {\n",
       "  display: block;\n",
       "}\n",
       "\n",
       ".xr-var-data > table {\n",
       "  float: right;\n",
       "}\n",
       "\n",
       ".xr-var-name span,\n",
       ".xr-var-data,\n",
       ".xr-index-name div,\n",
       ".xr-index-data,\n",
       ".xr-attrs {\n",
       "  padding-left: 25px !important;\n",
       "}\n",
       "\n",
       ".xr-attrs,\n",
       ".xr-var-attrs,\n",
       ".xr-var-data,\n",
       ".xr-index-data {\n",
       "  grid-column: 1 / -1;\n",
       "}\n",
       "\n",
       "dl.xr-attrs {\n",
       "  padding: 0;\n",
       "  margin: 0;\n",
       "  display: grid;\n",
       "  grid-template-columns: 125px auto;\n",
       "}\n",
       "\n",
       ".xr-attrs dt,\n",
       ".xr-attrs dd {\n",
       "  padding: 0;\n",
       "  margin: 0;\n",
       "  float: left;\n",
       "  padding-right: 10px;\n",
       "  width: auto;\n",
       "}\n",
       "\n",
       ".xr-attrs dt {\n",
       "  font-weight: normal;\n",
       "  grid-column: 1;\n",
       "}\n",
       "\n",
       ".xr-attrs dt:hover span {\n",
       "  display: inline-block;\n",
       "  background: var(--xr-background-color);\n",
       "  padding-right: 10px;\n",
       "}\n",
       "\n",
       ".xr-attrs dd {\n",
       "  grid-column: 2;\n",
       "  white-space: pre-wrap;\n",
       "  word-break: break-all;\n",
       "}\n",
       "\n",
       ".xr-icon-database,\n",
       ".xr-icon-file-text2,\n",
       ".xr-no-icon {\n",
       "  display: inline-block;\n",
       "  vertical-align: middle;\n",
       "  width: 1em;\n",
       "  height: 1.5em !important;\n",
       "  stroke-width: 0;\n",
       "  stroke: currentColor;\n",
       "  fill: currentColor;\n",
       "}\n",
       "</style><pre class='xr-text-repr-fallback'>&lt;xarray.DataArray &#x27;u&#x27; (time: 1000)&gt;\n",
       "12.18 12.66 10.04 13.51 11.0 8.555 9.23 ... 11.17 7.603 8.22 12.07 7.842 9.279\n",
       "Coordinates:\n",
       "  * time     (time) float64 0.0 0.001001 0.002002 0.003003 ... 0.998 0.999 1.0\n",
       "Attributes:\n",
       "    IRI_OBJECT:     {&#x27;units&#x27;: &#x27;http://qudt.org/vocab/unit/M-PER-SEC&#x27;}\n",
       "    IRI_PREDICATE:  {&#x27;units&#x27;: &#x27;http://qudt.org/schema/qudt/Unit&#x27;}\n",
       "    standard_name:  x_velocity\n",
       "    units:          m/s</pre><div class='xr-wrap' style='display:none'><div class='xr-header'><div class='xr-obj-type'>xarray.DataArray</div><div class='xr-array-name'>'u'</div><ul class='xr-dim-list'><li><span class='xr-has-index'>time</span>: 1000</li></ul></div><ul class='xr-sections'><li class='xr-section-item'><div class='xr-array-wrap'><input id='section-68c0f020-edcc-4128-a900-0e37bfeee6e7' class='xr-array-in' type='checkbox' ><label for='section-68c0f020-edcc-4128-a900-0e37bfeee6e7' title='Show/hide data repr'><svg class='icon xr-icon-database'><use xlink:href='#icon-database'></use></svg></label><div class='xr-array-preview xr-preview'><span>12.18 12.66 10.04 13.51 11.0 8.555 ... 7.603 8.22 12.07 7.842 9.279</span></div><div class='xr-array-data'><pre>array([12.18022406, 12.65741814, 10.0363351 , 13.50650111, 10.99981442,\n",
       "        8.55467829,  9.23036241, 10.90190015, 13.20165518, 12.201323  ,\n",
       "        6.6392468 ,  8.37649163,  8.79135641, 10.78190861,  8.39292818,\n",
       "       13.70512481, 11.65048935,  4.67923891, 10.51876421, 12.300575  ,\n",
       "        9.34058706, 11.61148003,  7.88909606,  6.94852365,  9.14710389,\n",
       "        7.70186478, 11.1483162 , 10.19515469,  8.43168321,  9.68384369,\n",
       "        8.33565127, 12.30556726,  9.48548872,  9.41065977, 10.4790147 ,\n",
       "       13.30934832, 11.60956612,  7.69568719, 12.49740349, 10.12212929,\n",
       "       12.02509568,  9.68747659, 13.0990316 ,  6.95442292,  9.98444549,\n",
       "       10.84569947, 10.57773986, 11.60902458, 11.43690336, 10.80673014,\n",
       "       11.06798724,  8.09354397, 10.32372422, 11.12923827, 12.44199337,\n",
       "       12.01948393,  7.76075271,  7.98324584,  5.8262442 ,  7.80768863,\n",
       "        9.63586621, 10.59491   , 10.53505367, 10.84571994,  8.40950922,\n",
       "        9.05871135,  6.12013309, 11.94015541,  7.3363143 , 12.07742569,\n",
       "        9.26381851,  9.16690876, 11.87349296, 14.13995894,  8.80575792,\n",
       "       10.02496574, 10.05978793,  8.80778979,  9.89207151,  5.88302891,\n",
       "        8.33710371, 11.90519861, 10.19345316,  9.61090309,  5.16874525,\n",
       "       10.97228365,  7.57491771, 10.6108542 ,  7.50702537,  8.55300454,\n",
       "        9.73918884, 11.2434302 , 13.2893635 , 10.55423044,  8.57096795,\n",
       "       10.26345531, 10.23761353, 10.43159172,  9.20477545,  9.28649284,\n",
       "...\n",
       "        7.76538907, 11.11141515, 12.4833409 ,  6.46082172,  7.94739421,\n",
       "       11.01737214,  9.71056546, 10.34705241, 13.66138294,  8.61447918,\n",
       "        7.83102949, 10.20560424, 10.39956932, 10.14759835, 13.42323449,\n",
       "       10.20932421, 10.79098737, 10.01509122,  9.18085463, 10.53062074,\n",
       "       11.58800722,  9.55322711,  9.50792984,  8.7402801 , 13.04423862,\n",
       "       13.08018276,  9.39222069,  8.86441001,  7.03803298,  7.76506485,\n",
       "       10.21056209, 12.24108836, 10.41397528,  8.93872104, 10.77792676,\n",
       "        9.05940494,  8.24415109,  5.96130217,  9.9871087 , 12.02729123,\n",
       "        7.02251954, 10.69684312, 11.64307604,  9.5685061 , 13.72614957,\n",
       "        8.08949506,  9.08300864,  9.97285327, 12.98704855,  6.21949755,\n",
       "       10.68318254, 11.44426408, 10.1780349 ,  7.90635539,  8.52782967,\n",
       "        9.38045227, 11.43097775,  5.53275108, 11.90852392,  9.94830008,\n",
       "       12.71455485, 11.11275162,  9.9936966 ,  7.98331846, 14.00647547,\n",
       "        9.87239318,  9.72848629,  7.79180842, 10.51284176,  6.95850193,\n",
       "        8.0721322 ,  8.7423909 ,  8.75154164,  9.42471752, 10.79690246,\n",
       "        7.33016384, 12.73774746,  9.10624503,  7.75134106,  8.90998163,\n",
       "       12.50913054,  8.38561426, 11.16816159,  8.71289388,  6.22859747,\n",
       "        9.25717734,  7.64926699,  8.65127801,  9.50924154,  8.2931528 ,\n",
       "        8.04102334,  8.17801015, 11.16787688,  9.63290275, 11.17165904,\n",
       "        7.6031806 ,  8.21993651, 12.07119804,  7.84240496,  9.27858444])</pre></div></div></li><li class='xr-section-item'><input id='section-6e6ad6c0-b1c0-4dc3-aec0-09a296f0bac4' class='xr-section-summary-in' type='checkbox'  checked><label for='section-6e6ad6c0-b1c0-4dc3-aec0-09a296f0bac4' class='xr-section-summary' >Coordinates: <span>(1)</span></label><div class='xr-section-inline-details'></div><div class='xr-section-details'><ul class='xr-var-list'><li class='xr-var-item'><div class='xr-var-name'><span class='xr-has-index'>time</span></div><div class='xr-var-dims'>(time)</div><div class='xr-var-dtype'>float64</div><div class='xr-var-preview xr-preview'>0.0 0.001001 0.002002 ... 0.999 1.0</div><input id='attrs-cdd79446-57fe-4323-bf92-fc3e820bf1d0' class='xr-var-attrs-in' type='checkbox' ><label for='attrs-cdd79446-57fe-4323-bf92-fc3e820bf1d0' title='Show/Hide attributes'><svg class='icon xr-icon-file-text2'><use xlink:href='#icon-file-text2'></use></svg></label><input id='data-33691142-6b2c-49f3-b7d0-c92c23d1ac97' class='xr-var-data-in' type='checkbox'><label for='data-33691142-6b2c-49f3-b7d0-c92c23d1ac97' title='Show/Hide data repr'><svg class='icon xr-icon-database'><use xlink:href='#icon-database'></use></svg></label><div class='xr-var-attrs'><dl class='xr-attrs'><dt><span>standard_name :</span></dt><dd>time</dd><dt><span>units :</span></dt><dd>ms</dd></dl></div><div class='xr-var-data'><pre>array([0.      , 0.001001, 0.002002, ..., 0.997998, 0.998999, 1.      ])</pre></div></li></ul></div></li><li class='xr-section-item'><input id='section-1e653d03-1e91-4867-a30a-7656124b2f69' class='xr-section-summary-in' type='checkbox'  ><label for='section-1e653d03-1e91-4867-a30a-7656124b2f69' class='xr-section-summary' >Indexes: <span>(1)</span></label><div class='xr-section-inline-details'></div><div class='xr-section-details'><ul class='xr-var-list'><li class='xr-var-item'><div class='xr-index-name'><div>time</div></div><div class='xr-index-preview'>PandasIndex</div><div></div><input id='index-dd37b953-46e1-43ba-86db-cc6a7fc56845' class='xr-index-data-in' type='checkbox'/><label for='index-dd37b953-46e1-43ba-86db-cc6a7fc56845' title='Show/Hide index repr'><svg class='icon xr-icon-database'><use xlink:href='#icon-database'></use></svg></label><div class='xr-index-data'><pre>PandasIndex(Index([                 0.0, 0.001001001001001001, 0.002002002002002002,\n",
       "       0.003003003003003003, 0.004004004004004004, 0.005005005005005005,\n",
       "       0.006006006006006006, 0.007007007007007007, 0.008008008008008008,\n",
       "       0.009009009009009009,\n",
       "       ...\n",
       "          0.990990990990991,    0.991991991991992,    0.992992992992993,\n",
       "          0.993993993993994,    0.994994994994995,    0.995995995995996,\n",
       "          0.996996996996997,    0.997997997997998,    0.998998998998999,\n",
       "                        1.0],\n",
       "      dtype=&#x27;float64&#x27;, name=&#x27;time&#x27;, length=1000))</pre></div></li></ul></div></li><li class='xr-section-item'><input id='section-bddd015a-9210-4154-8870-1557489f447e' class='xr-section-summary-in' type='checkbox'  checked><label for='section-bddd015a-9210-4154-8870-1557489f447e' class='xr-section-summary' >Attributes: <span>(4)</span></label><div class='xr-section-inline-details'></div><div class='xr-section-details'><dl class='xr-attrs'><dt><span>IRI_OBJECT :</span></dt><dd>{&#x27;units&#x27;: &#x27;http://qudt.org/vocab/unit/M-PER-SEC&#x27;}</dd><dt><span>IRI_PREDICATE :</span></dt><dd>{&#x27;units&#x27;: &#x27;http://qudt.org/schema/qudt/Unit&#x27;}</dd><dt><span>standard_name :</span></dt><dd>x_velocity</dd><dt><span>units :</span></dt><dd>m/s</dd></dl></div></li></ul></div></div>"
      ],
      "text/plain": [
       "<xarray.DataArray 'u' (time: 1000)>\n",
       "12.18 12.66 10.04 13.51 11.0 8.555 9.23 ... 11.17 7.603 8.22 12.07 7.842 9.279\n",
       "Coordinates:\n",
       "  * time     (time) float64 0.0 0.001001 0.002002 0.003003 ... 0.998 0.999 1.0\n",
       "Attributes:\n",
       "    IRI_OBJECT:     {'units': 'http://qudt.org/vocab/unit/M-PER-SEC'}\n",
       "    IRI_PREDICATE:  {'units': 'http://qudt.org/schema/qudt/Unit'}\n",
       "    standard_name:  x_velocity\n",
       "    units:          m/s"
      ]
     },
     "execution_count": 9,
     "metadata": {},
     "output_type": "execute_result"
    }
   ],
   "source": [
    "with h5tbx.File(filename, mode='r') as h5:\n",
    "    u = h5.u[:]\n",
    "u"
   ]
  },
  {
   "cell_type": "markdown",
   "metadata": {},
   "source": [
    "Plot it using the conventional way by using `matplotlib`:"
   ]
  },
  {
   "cell_type": "code",
   "execution_count": 10,
   "metadata": {},
   "outputs": [
    {
     "data": {
      "image/png": "[encoded data removed]",
      "text/plain": [
       "<Figure size 640x480 with 1 Axes>"
      ]
     },
     "metadata": {},
     "output_type": "display_data"
    }
   ],
   "source": [
    "import matplotlib.pyplot as plt\n",
    "\n",
    "plt.figure()\n",
    "u.plot(marker='.', label='raw')\n",
    "u.rolling(time=10).mean().plot(label='rolling mean (win=10)')\n",
    "plt.legend()\n",
    "plt.show()"
   ]
  },
  {
   "cell_type": "markdown",
   "metadata": {},
   "source": [
    "... or do everything in just a few lines (now with a histogram) thanks to the `xrarray` library:"
   ]
  },
  {
   "cell_type": "code",
   "execution_count": 11,
   "metadata": {},
   "outputs": [
    {
     "data": {
      "image/png": "[encoded data removed]",
      "text/plain": [
       "<Figure size 400x300 with 1 Axes>"
      ]
     },
     "metadata": {},
     "output_type": "display_data"
    }
   ],
   "source": [
    "with h5tbx.File(filename, mode='r') as h5:\n",
    "    plt.figure(figsize=(4, 3))\n",
    "    h5.u[:].plot.hist(bins=20)\n",
    "    plt.show()"
   ]
  },
  {
   "cell_type": "markdown",
   "metadata": {},
   "source": [
    "# 4. Sharing your data on a repository\n",
    "\n",
    "Sharing data is important. We want to upload our HDF5 file to Zenodo for long-time storage.\n",
    "\n",
    "## 4.1 Validation\n",
    "Before doing so, let's first check if the file fulfills the requirements, which we defined in the layout:"
   ]
  },
  {
   "cell_type": "code",
   "execution_count": 12,
   "metadata": {},
   "outputs": [
    {
     "data": {
      "text/plain": [
       "True"
      ]
     },
     "execution_count": 12,
     "metadata": {},
     "output_type": "execute_result"
    }
   ],
   "source": [
    "res = lay.validate(filename)\n",
    "res.is_valid()"
   ]
  },
  {
   "cell_type": "markdown",
   "metadata": {},
   "source": [
    "Yes it does. We can upload it."
   ]
  },
  {
   "cell_type": "markdown",
   "metadata": {},
   "source": [
    "## 4.2 Upload\n",
    "Currently, only the interface class to [Zenodo](https://zenodo.org/) is implemented. It is a popular choice to publish open access data. To create and upload data, you must generate an API token. If you don't have it, skip the next step."
   ]
  },
  {
   "cell_type": "code",
   "execution_count": 13,
   "metadata": {},
   "outputs": [],
   "source": [
    "from h5rdmtoolbox.repository import zenodo\n",
    "from h5rdmtoolbox.repository.h5metamapper import hdf2json\n",
    "\n",
    "TOKEN = None  # replace with your token\n",
    "\n",
    "if TOKEN:\n",
    "    zenodo.set_api_token(TOKEN)\n",
    "    repo = zenodo.ZenodoSandboxDeposit(None)  # create a new one are provide the record ID.\n",
    "    # The method \"upload_hdf_file\" requires a mapper function which creates an additional file which only contains metadata of the file.\n",
    "    # If the HDF5 file is verly large, the user can first download the metadata file (in our case a json file) and inspect the metadata before\n",
    "    # downloading the full file\n",
    "    repo.upload_hdf_file(filename, metamapper=hdf2json)"
   ]
  },
  {
   "cell_type": "markdown",
   "metadata": {},
   "source": [
    "# 5. Reusing\n",
    "\n",
    " - Find the data by searching through a file director\n",
    " - The root folder is the parent of the created file"
   ]
  },
  {
   "cell_type": "code",
   "execution_count": 14,
   "metadata": {},
   "outputs": [
    {
     "data": {
      "text/plain": [
       "<h5rdmtoolbox.database.hdfdb.filedb.FileDB at 0x2284a5b3700>"
      ]
     },
     "execution_count": 14,
     "metadata": {},
     "output_type": "execute_result"
    }
   ],
   "source": [
    "fdb = h5tbx.database.FileDB(filename)\n",
    "fdb"
   ]
  },
  {
   "cell_type": "markdown",
   "metadata": {},
   "source": [
    "Find exactly one file with \"standard_name=x_velocity\":"
   ]
  },
  {
   "cell_type": "code",
   "execution_count": 15,
   "metadata": {},
   "outputs": [
    {
     "data": {
      "text/plain": [
       "<LDataset \"/u\" in \"my_file.hdf\" attrs=(standard_name=x_velocity, units=m/s)>"
      ]
     },
     "execution_count": 15,
     "metadata": {},
     "output_type": "execute_result"
    }
   ],
   "source": [
    "result = fdb.find_one({'standard_name': {'$eq': 'x_velocity'}})\n",
    "result"
   ]
  },
  {
   "cell_type": "markdown",
   "metadata": {},
   "source": [
    "The variable \"result\" is the found dataset (class is `LDataset`, a wrapper around a closed HDF dataset)"
   ]
  },
  {
   "cell_type": "code",
   "execution_count": 16,
   "metadata": {},
   "outputs": [
    {
     "data": {
      "text/plain": [
       "[<matplotlib.lines.Line2D at 0x2284b540f10>]"
      ]
     },
     "execution_count": 16,
     "metadata": {},
     "output_type": "execute_result"
    },
    {
     "data": {
      "image/png": "[encoded data removed]",
      "text/plain": [
       "<Figure size 640x480 with 1 Axes>"
      ]
     },
     "metadata": {},
     "output_type": "display_data"
    }
   ],
   "source": [
    "result[:].plot()"
   ]
  },
  {
   "cell_type": "code",
   "execution_count": null,
   "metadata": {},
   "outputs": [],
   "source": []
  },
  {
   "cell_type": "code",
   "execution_count": null,
   "metadata": {},
   "outputs": [],
   "source": []
  }
 ],
 "metadata": {
  "kernelspec": {
   "display_name": "Python 3 (ipykernel)",
   "language": "python",
   "name": "python3"
  },
  "language_info": {
   "codemirror_mode": {
    "name": "ipython",
    "version": 3
   },
   "file_extension": ".py",
   "mimetype": "text/x-python",
   "name": "python",
   "nbconvert_exporter": "python",
   "pygments_lexer": "ipython3",
   "version": "3.10.13"
  }
 },
 "nbformat": 4,
 "nbformat_minor": 4
}
