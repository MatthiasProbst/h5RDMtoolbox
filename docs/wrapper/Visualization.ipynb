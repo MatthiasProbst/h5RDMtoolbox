{
 "cells": [
  {
   "cell_type": "markdown",
   "id": "80d23a97-927f-4486-98f0-ae77d64b2a88",
   "metadata": {
    "tags": []
   },
   "source": [
    "# Visualization\n",
    "\n",
    "As the return value of a sliced dataset is a `xarray.DataArray` instead of a `numpy.ndarray` plotting features of `xarray` is used. For more information about `xarray` see https://docs.xarray.dev/en/stable/\n",
    "\n",
    "A a more experimental level, some HDF5 datasets or multiple HDF5 datasets as a tuple can be nicely 3D-rendered by the `ipyvolume` package, see last section"
   ]
  },
  {
   "cell_type": "code",
   "execution_count": null,
   "id": "6e13b686-800f-46ac-83ef-6af310d4d509",
   "metadata": {},
   "outputs": [],
   "source": [
    "import h5rdmtoolbox as h5tbx\n",
    "\n",
    "import matplotlib.pyplot as plt\n",
    "import numpy as np"
   ]
  },
  {
   "cell_type": "code",
   "execution_count": null,
   "id": "e18f32d4-4d04-4ac9-9c18-e73f1025acd6",
   "metadata": {},
   "outputs": [],
   "source": [
    "with h5tbx.File() as h5:\n",
    "    dsx = h5.create_dataset('x', data=np.linspace(0, 10, 20), attrs=dict(units='mm', long_name='x'), make_scale=True)\n",
    "    dsy = h5.create_dataset('y', data=np.linspace(0, 5, 10), attrs=dict(units='mm', long_name='y'), make_scale=True)\n",
    "    dsz = h5.create_dataset('z', data=np.linspace(0, 3, 4), attrs=dict(units='mm', long_name='z'), make_scale=True)\n",
    "    h5.create_dataset('data', data=np.random.random((10, 20)), attrs=dict(units='m/s', long_name='velocity'), attach_scales=(dsy, dsx))\n",
    "    \n",
    "    xx, yy, zz = np.meshgrid(dsy.values[:], dsz.values[:], dsx.values[:])\n",
    "    \n",
    "    h5.create_dataset('u', data=np.sin(xx), attrs=dict(units='m/s', long_name='x_velocity'), attach_scales=(dsz, dsy, dsx))\n",
    "    h5.create_dataset('v', data=yy, attrs=dict(units='m/s', long_name='y_velocity'), attach_scales=(dsz, dsy, dsx))\n",
    "    h5.create_dataset('w', data=np.ones((4, 10, 20)), attrs=dict(units='m/s', long_name='z_velocity'), attach_scales=(dsz, dsy, dsx))\n",
    "    h5.dump()    "
   ]
  },
  {
   "cell_type": "code",
   "execution_count": null,
   "id": "4da05add-0b68-4e79-9f7f-777308d6625c",
   "metadata": {},
   "outputs": [],
   "source": [
    "with h5tbx.File(h5.hdf_filename) as h5:\n",
    "    # some plotting\n",
    "    plt.figure()\n",
    "    h5['data'][:].plot()\n",
    "    plt.show()\n",
    "    \n",
    "    plt.figure()\n",
    "    h5['data'][:].plot.contourf()\n",
    "    plt.figure()\n",
    "    plt.show()"
   ]
  },
  {
   "cell_type": "code",
   "execution_count": null,
   "id": "0530d2f3-4555-4d78-8dd1-f6da40e0de5b",
   "metadata": {},
   "outputs": [],
   "source": [
    "with h5tbx.File(h5.hdf_filename) as h5:\n",
    "    h5['data'][:].plot.hist()\n",
    "    plt.show()"
   ]
  },
  {
   "cell_type": "code",
   "execution_count": null,
   "id": "6c27a494-8fbb-46bf-bd0e-6a3a8d2c999b",
   "metadata": {},
   "outputs": [],
   "source": [
    "with h5tbx.File(h5.hdf_filename) as h5:\n",
    "    h5.dump()\n",
    "    d = h5['data'][:, 0]\n",
    "    # d.plot.line(marker='o')"
   ]
  },
  {
   "cell_type": "code",
   "execution_count": null,
   "id": "f5c7d189-9093-49d6-aa6c-d5a02262e4b1",
   "metadata": {},
   "outputs": [],
   "source": [
    "from h5rdmtoolbox.extensions import vector\n",
    "with h5tbx.File(h5.hdf_filename) as h5:\n",
    "    ds = h5.Vector(u=h5.u, v=h5.v)\n",
    "    ds[2, :, :].plot.quiver(x='x', y='y', u='u', v='v')"
   ]
  },
  {
   "cell_type": "markdown",
   "id": "9d09e4ab-0614-4822-8af1-068583c5200b",
   "metadata": {},
   "source": [
    "## Using ipyvolume"
   ]
  },
  {
   "cell_type": "code",
   "execution_count": null,
   "id": "86ca3472-e4a0-4461-984c-06ce2c285bf4",
   "metadata": {},
   "outputs": [],
   "source": [
    "from h5rdmtoolbox.extensions import ipyvolume"
   ]
  },
  {
   "cell_type": "code",
   "execution_count": null,
   "id": "eed4fb9c-6a18-4db9-befd-a304e046ab58",
   "metadata": {},
   "outputs": [],
   "source": [
    "with h5tbx.File(h5.hdf_filename) as h5:\n",
    "    vec =  h5.Vector(u=h5.u, v=h5.v, w=h5.w)\n",
    "    ipv_quiver = vec[:, :, :].ipyvolume.quiver(x='x',y='y',z='z',\n",
    "                                              u='u',v='u',w='u')\n",
    "    ipv_quiver.view(-10, -40, 2.5)\n",
    "    ipv_quiver.show()"
   ]
  },
  {
   "cell_type": "code",
   "execution_count": null,
   "id": "79d3650a-ddcd-4338-9693-e40587594b40",
   "metadata": {},
   "outputs": [],
   "source": [
    "with h5tbx.File(h5.hdf_filename) as h5:\n",
    "    ipv_surf = h5.data[:].ipyvolume.plot()\n",
    "    ipv_surf.view(-10, -40, 2.5)\n",
    "    ipv_surf.show()"
   ]
  },
  {
   "cell_type": "code",
   "execution_count": null,
   "id": "300dd80f-171f-4e1a-9385-f66434e2a381",
   "metadata": {},
   "outputs": [],
   "source": []
  }
 ],
 "metadata": {
  "kernelspec": {
   "display_name": "Python 3 (ipykernel)",
   "language": "python",
   "name": "python3"
  },
  "language_info": {
   "codemirror_mode": {
    "name": "ipython",
    "version": 3
   },
   "file_extension": ".py",
   "mimetype": "text/x-python",
   "name": "python",
   "nbconvert_exporter": "python",
   "pygments_lexer": "ipython3",
   "version": "3.8.16"
  }
 },
 "nbformat": 4,
 "nbformat_minor": 5
}
