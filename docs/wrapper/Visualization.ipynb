{
 "cells": [
  {
   "cell_type": "markdown",
   "id": "80d23a97-927f-4486-98f0-ae77d64b2a88",
   "metadata": {
    "tags": []
   },
   "source": [
    "# Visualization\n",
    "\n",
    "As the return value of a sliced dataset is a `xarray.DataArray` instead of a `numpy.ndarray` plotting features of `xarray` is used. For more information about `xarray` see https://docs.xarray.dev/en/stable/"
   ]
  },
  {
   "cell_type": "code",
   "execution_count": null,
   "id": "6e13b686-800f-46ac-83ef-6af310d4d509",
   "metadata": {},
   "outputs": [],
   "source": [
    "import h5rdmtoolbox as h5tbx\n",
    "import matplotlib.pyplot as plt\n",
    "import numpy as np"
   ]
  },
  {
   "cell_type": "code",
   "execution_count": null,
   "id": "e18f32d4-4d04-4ac9-9c18-e73f1025acd6",
   "metadata": {},
   "outputs": [],
   "source": [
    "with h5tbx.H5File() as h5:\n",
    "    dsx = h5.create_dataset('x', data=np.linspace(0, 10, 20), units='mm', long_name='x', make_scale=True)\n",
    "    dsy = h5.create_dataset('y', data=np.linspace(0, 5, 10), units='mm', long_name='y', make_scale=True)\n",
    "    h5.create_dataset('data', data=np.random.random((10, 20)), units='m/s', long_name='velocity', attach_scales=(dsy, dsx))\n",
    "    \n",
    "    # some plotting\n",
    "    plt.figure()\n",
    "    h5['data'][:].plot()\n",
    "    plt.figure()\n",
    "    h5['data'][:].plot.contourf()\n",
    "    plt.figure()\n",
    "    h5['data'][:,0].plot.line(marker='o')\n",
    "    plt.figure()\n",
    "    h5['data'][:].plot.hist()"
   ]
  },
  {
   "cell_type": "code",
   "execution_count": null,
   "id": "79d3650a-ddcd-4338-9693-e40587594b40",
   "metadata": {},
   "outputs": [],
   "source": []
  }
 ],
 "metadata": {
  "kernelspec": {
   "display_name": "Python 3 (ipykernel)",
   "language": "python",
   "name": "python3"
  },
  "language_info": {
   "codemirror_mode": {
    "name": "ipython",
    "version": 3
   },
   "file_extension": ".py",
   "mimetype": "text/x-python",
   "name": "python",
   "nbconvert_exporter": "python",
   "pygments_lexer": "ipython3",
   "version": "3.8.13"
  }
 },
 "nbformat": 4,
 "nbformat_minor": 5
}
