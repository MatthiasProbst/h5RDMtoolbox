{
 "cells": [
  {
   "cell_type": "markdown",
   "id": "c2e79c7c-cc3e-47ff-a85c-78f500ff63f7",
   "metadata": {},
   "source": [
    "# Create a HDF file\n",
    "\n",
    "To work with HDF5 files, the \"wrapper\"-class `H5File` is used (equiilant to `h5py.File`).\n",
    "\n",
    "There are several ways to open a file with this package.<br>\n",
    "First thing to note, is that we don't need to specify a filename when calling the the class. Instead a temporary file will be generated. Like this, the default mode is `r+`:"
   ]
  },
  {
   "cell_type": "code",
   "execution_count": null,
   "id": "f0ec5083-bfc0-46b9-9627-299cbd842838",
   "metadata": {},
   "outputs": [],
   "source": [
    "import h5rdmtoolbox as h5tbx"
   ]
  },
  {
   "cell_type": "code",
   "execution_count": null,
   "id": "3b363c60-21f7-408f-89b6-7fc9a77a6d3b",
   "metadata": {},
   "outputs": [],
   "source": [
    "h5 = h5tbx.H5File()  # note, not passing `mode` while the filename does not exist: 'r+' is used, otherwise defaultis 'r'\n",
    "h5.close()\n",
    "print(h5.hdf_filename.name)  # equal to h5.filename but a pathlib.Path and exists also after file is closed"
   ]
  },
  {
   "cell_type": "code",
   "execution_count": null,
   "id": "91fbac7b-de16-451b-a498-ef5af6f88529",
   "metadata": {},
   "outputs": [],
   "source": [
    "h5 = h5tbx.H5File()  # note, not passing `mode` while the filename does not exist: 'r+' is used, otherwise defaultis 'r'\n",
    "h5.close()\n",
    "print(h5.hdf_filename.name)  # equal to h5.filename but a pathlib.Path and exists also after file is closedNote, that we have an additional property `hdf_filename`, which in contrast to `filename` works also even if the clss is closed.\n"
   ]
  },
  {
   "cell_type": "markdown",
   "id": "2e4edf0d-afac-4c22-af5c-8c83852d3a13",
   "metadata": {},
   "source": [
    "**A safer way to work with files** is to use python's context manager. This is highly recommended and used throughout the hole documentation and package.\n",
    "\n",
    "Thus, the above cell changes to:"
   ]
  },
  {
   "cell_type": "code",
   "execution_count": null,
   "id": "34b7e026-3f38-494c-bd86-17c786c3ecbb",
   "metadata": {
    "tags": []
   },
   "outputs": [],
   "source": [
    "with h5tbx.H5File('test.hdf', 'w') as h5:\n",
    "    print(h5.hdf_filename.name)\n",
    "h5.hdf_filename.unlink()  # it's a pathlib.Path object, thus easy to delete"
   ]
  },
  {
   "cell_type": "markdown",
   "id": "f791ac1e-7710-4b7f-91ec-77f1975ec29f",
   "metadata": {},
   "source": [
    "## Default content and content exploration\n",
    "\n",
    "Whenever a file is created, some default attributes are written to it. When can check the content by \"dumping\" the content to the screen by callind `dump()`. An interactive html representation of the file content is displayed. At the moment only attributes at the root level exist. They were created when the file was opened in write mode. While `creation_time` is considered as regular \"attribute\" `__h5rdmtoolbox_version__` and `__wrcls__` - attributes starting and ending with `__` - are special attributes reserved/used by the package."
   ]
  },
  {
   "cell_type": "code",
   "execution_count": null,
   "id": "3df83e0e-be6d-4884-8714-99d710eb5302",
   "metadata": {},
   "outputs": [],
   "source": [
    "with h5tbx.H5File() as h5file:  # default mode is 'r+'\n",
    "    h5file.dump()   # call .sdump() outside of notebooks to get a similar but non-interactive representation"
   ]
  },
  {
   "cell_type": "code",
   "execution_count": null,
   "id": "5a77baa7-bb58-4382-9212-8f1f9c89b10c",
   "metadata": {},
   "outputs": [],
   "source": []
  }
 ],
 "metadata": {
  "kernelspec": {
   "display_name": "Python 3 (ipykernel)",
   "language": "python",
   "name": "python3"
  },
  "language_info": {
   "codemirror_mode": {
    "name": "ipython",
    "version": 3
   },
   "file_extension": ".py",
   "mimetype": "text/x-python",
   "name": "python",
   "nbconvert_exporter": "python",
   "pygments_lexer": "ipython3",
   "version": "3.8.13"
  }
 },
 "nbformat": 4,
 "nbformat_minor": 5
}
