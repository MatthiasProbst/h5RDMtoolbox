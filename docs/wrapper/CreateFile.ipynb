{
 "cells": [
  {
   "cell_type": "markdown",
   "id": "c2e79c7c-cc3e-47ff-a85c-78f500ff63f7",
   "metadata": {},
   "source": [
    "# Create an HDF file\n",
    "\n",
    "To work with HDF5 files, the \"wrapper\"-class `H5File` is used (quivilant to `h5py.File`)."
   ]
  },
  {
   "cell_type": "code",
   "execution_count": 1,
   "id": "f0ec5083-bfc0-46b9-9627-299cbd842838",
   "metadata": {},
   "outputs": [
    {
     "name": "stderr",
     "output_type": "stream",
     "text": [
      "2023-02-13_22:12:49,907 DEBUG    [__init__.py:33] changed logger level for h5rdmtoolbox from 20 to DEBUG\n",
      "2023-02-13_22:12:49,910 INFO     [__init__.py:57] Switched to \"default\"\n"
     ]
    }
   ],
   "source": [
    "import h5rdmtoolbox as h5tbx\n",
    "h5tbx.use('default')"
   ]
  },
  {
   "cell_type": "markdown",
   "id": "0e73ec28-d197-4086-ba25-766c188befbf",
   "metadata": {},
   "source": [
    "Creating a file does not require filename. If not specified, a temporary file is created. In this case the file-`mode` is `r+`, otherwise and if not specified, the defualt opening mode is `r` (read-only):"
   ]
  },
  {
   "cell_type": "code",
   "execution_count": 2,
   "id": "3b363c60-21f7-408f-89b6-7fc9a77a6d3b",
   "metadata": {},
   "outputs": [
    {
     "name": "stdout",
     "output_type": "stream",
     "text": [
      "r+\n",
      "tmp0.hdf\n"
     ]
    }
   ],
   "source": [
    "h5 = h5tbx.H5File()\n",
    "print(h5.mode)\n",
    "h5.close()\n",
    "print(h5.hdf_filename.name)"
   ]
  },
  {
   "cell_type": "markdown",
   "id": "36e23915-bc58-406f-85aa-7c77cae44937",
   "metadata": {},
   "source": [
    "Note, that instead of using `filename`, `hdf_filename` is used. It is provided as an additional property. By using the `pathlib.Path` object some useful operations are possible. Also this property is available even if the file is closed."
   ]
  },
  {
   "cell_type": "code",
   "execution_count": 3,
   "id": "91fbac7b-de16-451b-a498-ef5af6f88529",
   "metadata": {},
   "outputs": [
    {
     "name": "stdout",
     "output_type": "stream",
     "text": [
      "r\n"
     ]
    }
   ],
   "source": [
    "h5 = h5tbx.H5File(h5.hdf_filename)\n",
    "print(h5.mode)\n",
    "h5.close()"
   ]
  },
  {
   "cell_type": "markdown",
   "id": "2e4edf0d-afac-4c22-af5c-8c83852d3a13",
   "metadata": {},
   "source": [
    "**A safer way to work with files** is to use python's context manager. This is highly recommended and used throughout the hole documentation and package.\n",
    "\n",
    "Thus, the above cell changes to:"
   ]
  },
  {
   "cell_type": "code",
   "execution_count": 4,
   "id": "34b7e026-3f38-494c-bd86-17c786c3ecbb",
   "metadata": {
    "tags": []
   },
   "outputs": [
    {
     "name": "stdout",
     "output_type": "stream",
     "text": [
      "test.hdf\n"
     ]
    }
   ],
   "source": [
    "with h5tbx.H5File('test.hdf', 'w') as h5:\n",
    "    print(h5.hdf_filename.name)"
   ]
  },
  {
   "cell_type": "markdown",
   "id": "48435b36-4615-4418-83fd-da302b937f80",
   "metadata": {},
   "source": [
    "Note: To inspect the file content, please visit the [file content visualization notebook](DumpFile.ipynb)"
   ]
  },
  {
   "cell_type": "markdown",
   "id": "d0d7a409-9a18-4ec6-8406-8a63f68b0cac",
   "metadata": {},
   "source": [
    "As stated above, the `hdf_filename` is a `pathlib.Path` object. Deleting the file is hence very simple:"
   ]
  },
  {
   "cell_type": "code",
   "execution_count": 5,
   "id": "58c032e2-f964-4d2b-bdfd-6666a66948a8",
   "metadata": {},
   "outputs": [],
   "source": [
    "h5.hdf_filename.unlink()"
   ]
  },
  {
   "cell_type": "code",
   "execution_count": null,
   "id": "2f13c36b-1d6d-4ee5-a2c1-3fa19c242626",
   "metadata": {},
   "outputs": [],
   "source": []
  }
 ],
 "metadata": {
  "kernelspec": {
   "display_name": "Python 3 (ipykernel)",
   "language": "python",
   "name": "python3"
  },
  "language_info": {
   "codemirror_mode": {
    "name": "ipython",
    "version": 3
   },
   "file_extension": ".py",
   "mimetype": "text/x-python",
   "name": "python",
   "nbconvert_exporter": "python",
   "pygments_lexer": "ipython3",
   "version": "3.8.16"
  }
 },
 "nbformat": 4,
 "nbformat_minor": 5
}
