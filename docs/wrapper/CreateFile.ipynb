{
 "cells": [
  {
   "cell_type": "markdown",
   "id": "c2e79c7c-cc3e-47ff-a85c-78f500ff63f7",
   "metadata": {},
   "source": [
    "# Create a HDF file\n",
    "\n",
    "To work with HDF5 files, the \"wrapper\"-class `H5File` is used (equiilant to `h5py.File`).\n",
    "\n",
    "There are several ways to open a file with this package.<br>\n",
    "First thing to note, is that we don't need to specify a filename when calling the the class. Instead a temporary file will be generated. Like this, the default mode is `r+`:"
   ]
  },
  {
   "cell_type": "code",
   "execution_count": 1,
   "id": "f0ec5083-bfc0-46b9-9627-299cbd842838",
   "metadata": {},
   "outputs": [],
   "source": [
    "import h5rdmtoolbox as h5tbx"
   ]
  },
  {
   "cell_type": "code",
   "execution_count": 2,
   "id": "3b363c60-21f7-408f-89b6-7fc9a77a6d3b",
   "metadata": {},
   "outputs": [
    {
     "name": "stdout",
     "output_type": "stream",
     "text": [
      "tmp0.hdf\n"
     ]
    }
   ],
   "source": [
    "h5 = h5tbx.H5File()  # note, not passing `mode` while the filename does not exist: 'r+' is used, otherwise defaultis 'r'\n",
    "h5.close()\n",
    "print(h5.hdf_filename.name)  # equal to h5.filename but a pathlib.Path and exists also after file is closed"
   ]
  },
  {
   "cell_type": "code",
   "execution_count": 3,
   "id": "91fbac7b-de16-451b-a498-ef5af6f88529",
   "metadata": {},
   "outputs": [
    {
     "name": "stdout",
     "output_type": "stream",
     "text": [
      "tmp2.hdf\n"
     ]
    }
   ],
   "source": [
    "h5 = h5tbx.H5File()  # note, not passing `mode` while the filename does not exist: 'r+' is used, otherwise defaultis 'r'\n",
    "h5.close()\n",
    "print(h5.hdf_filename.name)  # equal to h5.filename but a pathlib.Path and exists also after file is closedNote, that we have an additional property `hdf_filename`, which in contrast to `filename` works also even if the clss is closed.\n"
   ]
  },
  {
   "cell_type": "markdown",
   "id": "2e4edf0d-afac-4c22-af5c-8c83852d3a13",
   "metadata": {},
   "source": [
    "**A safer way to work with files** is to use python's context manager. This is highly recommended and used throughout the hole documentation and package.\n",
    "\n",
    "Thus, the above cell changes to:"
   ]
  },
  {
   "cell_type": "code",
   "execution_count": 4,
   "id": "34b7e026-3f38-494c-bd86-17c786c3ecbb",
   "metadata": {
    "tags": []
   },
   "outputs": [
    {
     "name": "stdout",
     "output_type": "stream",
     "text": [
      "test.hdf\n"
     ]
    }
   ],
   "source": [
    "with h5tbx.H5File('test.hdf', 'w') as h5:\n",
    "    print(h5.hdf_filename.name)\n",
    "h5.hdf_filename.unlink()  # it's a pathlib.Path object, thus easy to delete"
   ]
  },
  {
   "cell_type": "markdown",
   "id": "48435b36-4615-4418-83fd-da302b937f80",
   "metadata": {},
   "source": [
    "To inspect the file content, please visit the [file content visualization notebook](DumpFile.ipynb)"
   ]
  },
  {
   "cell_type": "code",
   "execution_count": null,
   "id": "f4d8a079-04aa-4b88-b77b-70ca09f0861c",
   "metadata": {},
   "outputs": [],
   "source": []
  }
 ],
 "metadata": {
  "kernelspec": {
   "display_name": "Python 3 (ipykernel)",
   "language": "python",
   "name": "python3"
  },
  "language_info": {
   "codemirror_mode": {
    "name": "ipython",
    "version": 3
   },
   "file_extension": ".py",
   "mimetype": "text/x-python",
   "name": "python",
   "nbconvert_exporter": "python",
   "pygments_lexer": "ipython3",
   "version": "3.8.13"
  }
 },
 "nbformat": 4,
 "nbformat_minor": 5
}
