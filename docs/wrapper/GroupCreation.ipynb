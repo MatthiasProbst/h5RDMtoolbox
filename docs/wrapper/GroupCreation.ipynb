{
 "cells": [
  {
   "cell_type": "markdown",
   "id": "db1f241d-601e-4422-883a-7905830a1a9c",
   "metadata": {},
   "source": [
    "# Group creation\n",
    "The default group creation is not much different except that you can optionally pass attributes as a dictionary during goup initialization.\n",
    "\n",
    "Furthermore, it is also possible to overwrite an existing group by passing `overwrite=True`.\n",
    "\n",
    "If the group should not be overwritten but the only the attributes, pass `update_attrs=True`. Note, that this will update the existing matching attributes."
   ]
  },
  {
   "cell_type": "code",
   "execution_count": 1,
   "id": "859f96b2-c712-418a-9104-b94bc3a7799d",
   "metadata": {
    "tags": []
   },
   "outputs": [
    {
     "data": {
      "text/plain": [
       "using(\"h5py\")"
      ]
     },
     "execution_count": 1,
     "metadata": {},
     "output_type": "execute_result"
    }
   ],
   "source": [
    "import h5rdmtoolbox as h5tbx\n",
    "\n",
    "h5tbx.use(None)"
   ]
  },
  {
   "cell_type": "code",
   "execution_count": 2,
   "id": "e05731c2-b266-4139-9bf7-4fe5d3354035",
   "metadata": {
    "tags": []
   },
   "outputs": [],
   "source": [
    "with h5tbx.File() as h5:\n",
    "    h5.create_group('mygrp')\n",
    "    h5.create_group('mygrp', overwrite=True)"
   ]
  },
  {
   "cell_type": "code",
   "execution_count": 3,
   "id": "f13b927e-361f-46e8-aeea-e9a0c1505371",
   "metadata": {},
   "outputs": [],
   "source": [
    "with h5tbx.File() as h5:\n",
    "    h5.create_group('mygrp', attrs=dict(one=2, two='a second attr'))\n",
    "    \n",
    "    # create the same group again but indicate that only the attributes should be overwritten:\n",
    "    h5.create_group('mygrp', attrs=dict(one=2, two='a second attr which is overwritten'), update_attrs=True)"
   ]
  },
  {
   "cell_type": "markdown",
   "id": "656b228d-aacc-4e4c-b78a-a793e37d0fae",
   "metadata": {},
   "source": [
    "# Group exploration\n",
    "\n",
    "Sometimes it is helpful to get all all groups of a current group:"
   ]
  },
  {
   "cell_type": "code",
   "execution_count": 4,
   "id": "ac44590c-f3e8-4913-bcf3-73f9cee6ba5e",
   "metadata": {},
   "outputs": [
    {
     "name": "stdout",
     "output_type": "stream",
     "text": [
      "[<HDF5 wrapper group \"/mygrp\" (members: 0, convention: \"h5py\")>]\n"
     ]
    }
   ],
   "source": [
    "with h5tbx.File(h5.hdf_filename) as h5:\n",
    "    print(h5.get_groups())"
   ]
  },
  {
   "cell_type": "markdown",
   "id": "70a68b4a-6715-46ff-889d-fcc1a7f7ec3a",
   "metadata": {},
   "source": [
    "An alternative of exploring HDF5 files in general is the usage of databases. The HDF5 file can serve as a database itself. For this and more on database interfaces, see [here](../database/firstSteps.ipynb))"
   ]
  },
  {
   "cell_type": "code",
   "execution_count": 5,
   "id": "50de3a0b-2aa6-4832-8d1b-2081dad74a42",
   "metadata": {},
   "outputs": [],
   "source": [
    "from h5rdmtoolbox.database import hdfdb"
   ]
  },
  {
   "cell_type": "code",
   "execution_count": 6,
   "id": "c90e3188-bb22-48f3-b7dc-88bc02daa5e4",
   "metadata": {},
   "outputs": [],
   "source": [
    "db = hdfdb.FileDB(h5.hdf_filename)"
   ]
  },
  {
   "cell_type": "code",
   "execution_count": 7,
   "id": "22c37bdb-b7cd-4d58-a59a-2e478e704778",
   "metadata": {},
   "outputs": [
    {
     "name": "stdout",
     "output_type": "stream",
     "text": [
      "<LGroup \"/mygrp\" in \"C:\\Users\\da4323\\AppData\\Local\\h5rdmtoolbox\\h5rdmtoolbox\\tmp\\tmp_3\\tmp1.hdf\">\n"
     ]
    }
   ],
   "source": [
    "for r in db.find({'$name': {'$regex': '.*'}}, recursive=False):\n",
    "    print(r)"
   ]
  }
 ],
 "metadata": {
  "kernelspec": {
   "display_name": "Python 3 (ipykernel)",
   "language": "python",
   "name": "python3"
  },
  "language_info": {
   "codemirror_mode": {
    "name": "ipython",
    "version": 3
   },
   "file_extension": ".py",
   "mimetype": "text/x-python",
   "name": "python",
   "nbconvert_exporter": "python",
   "pygments_lexer": "ipython3",
   "version": "3.8.18"
  }
 },
 "nbformat": 4,
 "nbformat_minor": 5
}
