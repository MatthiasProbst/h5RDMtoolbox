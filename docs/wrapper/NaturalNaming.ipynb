{
 "cells": [
  {
   "cell_type": "markdown",
   "id": "bc8aa0cd-d64b-4ec2-bc5e-d723c20a156e",
   "metadata": {
    "tags": []
   },
   "source": [
    "# Natural Naming\n",
    "\n",
    "`h5RDMtoolbox` supports attribute style access (natural naming) on datasets, groups and attributes instead of the known dictionary style. This means that HDF objects must not be named as existing attributes of used instances, e.g. `H5File`."
   ]
  },
  {
   "cell_type": "code",
   "execution_count": 6,
   "id": "97f1f3a5-5f93-4e1b-b7a4-e3d9b296dd00",
   "metadata": {
    "tags": []
   },
   "outputs": [],
   "source": [
    "import h5rdmtoolbox as h5tbx"
   ]
  },
  {
   "cell_type": "markdown",
   "id": "c18d75cd-6d5b-4a32-add1-a068a03f563b",
   "metadata": {},
   "source": [
    "You can enable natural naming by the following line. However, `True` is the default."
   ]
  },
  {
   "cell_type": "code",
   "execution_count": 7,
   "id": "44fc86eb-608d-4254-873d-6d4dabd74997",
   "metadata": {},
   "outputs": [],
   "source": [
    "h5tbx.config.natural_naming = True"
   ]
  },
  {
   "cell_type": "code",
   "execution_count": 8,
   "id": "c5b94c36-c5c2-4c09-b5a8-a4a45ccd401e",
   "metadata": {
    "tags": []
   },
   "outputs": [
    {
     "name": "stdout",
     "output_type": "stream",
     "text": [
      "H5Dataset \"/test\"\n",
      "-----------------\n",
      "shape:         (3,)\n",
      "long_name:     pressure\n",
      "standard_name: None\n",
      "units:         Pa\n",
      "me\n"
     ]
    }
   ],
   "source": [
    "with h5tbx.H5File() as h5:\n",
    "    ds = h5.create_dataset('test', shape=(3,), units='Pa', long_name='pressure', attrs={'user': 'me'})\n",
    "    print(h5.test)\n",
    "    print(ds.attrs.user)"
   ]
  },
  {
   "cell_type": "code",
   "execution_count": 9,
   "id": "b2d56e3a-78d8-4149-94dc-1377a0bd0cd6",
   "metadata": {},
   "outputs": [],
   "source": [
    "h5tbx.config.natural_naming = False"
   ]
  },
  {
   "cell_type": "code",
   "execution_count": 10,
   "id": "8e030d3d-b0f7-4cb6-b473-d337724953ef",
   "metadata": {},
   "outputs": [
    {
     "name": "stdout",
     "output_type": "stream",
     "text": [
      "'H5File' object has no attribute 'test'\n"
     ]
    }
   ],
   "source": [
    "with h5tbx.H5File() as h5:\n",
    "    ds = h5.create_dataset('test', shape=(3,), units='Pa', long_name='pressure', attrs={'user': 'me'})\n",
    "    try:\n",
    "        print(h5.test)\n",
    "    except AttributeError as e:\n",
    "        print(e)"
   ]
  },
  {
   "cell_type": "code",
   "execution_count": null,
   "id": "0c6a1de9-e694-4a43-a05f-3d8a8fdbad5b",
   "metadata": {},
   "outputs": [],
   "source": []
  }
 ],
 "metadata": {
  "kernelspec": {
   "display_name": "Python 3 (ipykernel)",
   "language": "python",
   "name": "python3"
  },
  "language_info": {
   "codemirror_mode": {
    "name": "ipython",
    "version": 3
   },
   "file_extension": ".py",
   "mimetype": "text/x-python",
   "name": "python",
   "nbconvert_exporter": "python",
   "pygments_lexer": "ipython3",
   "version": "3.8.13"
  }
 },
 "nbformat": 4,
 "nbformat_minor": 5
}
