{
 "cells": [
  {
   "cell_type": "markdown",
   "id": "9a1217bc-48a1-4a5d-9996-8f762565383f",
   "metadata": {},
   "source": [
    "# Special I/O\n",
    "\n",
    "\n",
    "# Creating datasets and groups from a yaml file\n",
    "\n",
    "Sometimes it may be useful to write standard datastes and groups to your file (e.g. always the same attributes for repetative tasks). This can be defined in a yaml file:"
   ]
  },
  {
   "cell_type": "code",
   "execution_count": null,
   "id": "77fa362b-5622-4b69-b37a-04ed4f59ec48",
   "metadata": {},
   "outputs": [],
   "source": [
    "import h5rdmtoolbox as h5tbx\n",
    "import yaml"
   ]
  },
  {
   "cell_type": "code",
   "execution_count": null,
   "id": "f4a4d3ce-4997-431d-8c7f-5e7e041b151b",
   "metadata": {},
   "outputs": [],
   "source": [
    "dictionary = {'datasets': {'boundary/outlet/y': {'data': 2, 'units': 'm', 'standard_name': 'y_coordinate',\n",
    "                                                         'attrs': {'comment': 'test', 'another_attr': 100.2,\n",
    "                                                                   'array': [1, 2, 3]}}},\n",
    "                      'groups': {'test/grp': {'long_name': 'a test group'}}\n",
    "                      }\n",
    "\n",
    "yaml_filename = h5tbx.generate_temporary_filename(suffix='.yml')\n",
    "with open(yaml_filename, 'w') as f:\n",
    "    yaml.safe_dump(dictionary, f)\n",
    "\n",
    "with h5tbx.H5File() as h5:\n",
    "    h5.from_yaml(yaml_filename)\n",
    "    h5.dump()"
   ]
  },
  {
   "cell_type": "code",
   "execution_count": null,
   "id": "c59d15ba-742e-412b-a6b4-cc3935f61b5c",
   "metadata": {},
   "outputs": [],
   "source": []
  }
 ],
 "metadata": {
  "kernelspec": {
   "display_name": "Python 3 (ipykernel)",
   "language": "python",
   "name": "python3"
  },
  "language_info": {
   "codemirror_mode": {
    "name": "ipython",
    "version": 3
   },
   "file_extension": ".py",
   "mimetype": "text/x-python",
   "name": "python",
   "nbconvert_exporter": "python",
   "pygments_lexer": "ipython3",
   "version": "3.8.13"
  }
 },
 "nbformat": 4,
 "nbformat_minor": 5
}
