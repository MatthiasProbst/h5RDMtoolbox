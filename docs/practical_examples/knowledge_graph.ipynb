{
 "cells": [
  {
   "cell_type": "markdown",
   "id": "c74a70b1-7972-4cbe-9685-126ddb8e8cda",
   "metadata": {},
   "source": [
    "# Visualize HDF5 in a knowledge graph\n",
    "\n",
    "Using `kglab` (https://derwen.ai/docs/kgl/)"
   ]
  },
  {
   "cell_type": "code",
   "execution_count": 1,
   "id": "a9b58411-88af-4972-b5c8-b01391df58fc",
   "metadata": {
    "scrolled": true
   },
   "outputs": [],
   "source": [
    "#!pip install kglab"
   ]
  },
  {
   "cell_type": "code",
   "execution_count": 2,
   "id": "feb70a18-b9e7-40db-b369-4e6c927301e5",
   "metadata": {},
   "outputs": [],
   "source": [
    "import kglab\n",
    "import rdflib"
   ]
  },
  {
   "cell_type": "code",
   "execution_count": 3,
   "id": "690c0219-d7f5-4b0d-a897-59cf8f354149",
   "metadata": {},
   "outputs": [],
   "source": [
    "import h5rdmtoolbox as h5tbx"
   ]
  },
  {
   "cell_type": "code",
   "execution_count": 4,
   "id": "d4d871e0-5bff-42f7-a27d-f1f0337dd964",
   "metadata": {},
   "outputs": [
    {
     "name": "stdout",
     "output_type": "stream",
     "text": [
      "{\n",
      "  \"@context\": {\n",
      "    \"foaf\": \"http://xmlns.com/foaf/0.1/\",\n",
      "    \"hdf5\": \"http://purl.allotrope.org/ontologies/hdf5/1.8#\",\n",
      "    \"prov\": \"http://www.w3.org/ns/prov#\",\n",
      "    \"skos\": \"http://www.w3.org/2004/02/skos/core#\"\n",
      "  },\n",
      "  \"@graph\": [\n",
      "    {\n",
      "      \"@id\": \"_:N1\",\n",
      "      \"@type\": \"hdf5:File\",\n",
      "      \"hdf5:rootGroup\": {\n",
      "        \"@id\": \"_:N0\",\n",
      "        \"@type\": \"hdf5:Group\",\n",
      "        \"hdf5:member\": [\n",
      "          {\n",
      "            \"@id\": \"https://orcid.org/0000-0001-8729-0482\",\n",
      "            \"@type\": [\n",
      "              \"hdf5:Group\",\n",
      "              \"prov:Person\"\n",
      "            ],\n",
      "            \"foaf:firstName\": \"Matthias\",\n",
      "            \"foaf:lastName\": \"Probst\",\n",
      "            \"hdf5:attribute\": [\n",
      "              {\n",
      "                \"@id\": \"_:N2\",\n",
      "                \"@type\": \"hdf5:Attribute\",\n",
      "                \"hdf5:name\": \"fname\",\n",
      "                \"hdf5:value\": \"Matthias\"\n",
      "              },\n",
      "              {\n",
      "                \"@id\": \"_:N3\",\n",
      "                \"@type\": \"hdf5:Attribute\",\n",
      "                \"hdf5:name\": \"hint\",\n",
      "                \"hdf5:value\": \"bah blah\",\n",
      "                \"skos:definition\": \"A hint\"\n",
      "              },\n",
      "              {\n",
      "                \"@id\": \"_:N4\",\n",
      "                \"@type\": \"hdf5:Attribute\",\n",
      "                \"hdf5:name\": \"lname\",\n",
      "                \"hdf5:value\": \"Probst\"\n",
      "              }\n",
      "            ],\n",
      "            \"hdf5:name\": \"/contact\"\n",
      "          },\n",
      "          {\n",
      "            \"@id\": \"_:N5\",\n",
      "            \"@type\": \"hdf5:Dataset\",\n",
      "            \"hdf5:datatype\": \"H5T_FLOAT\",\n",
      "            \"hdf5:dimension\": 0,\n",
      "            \"hdf5:name\": \"/test\",\n",
      "            \"hdf5:size\": 1\n",
      "          }\n",
      "        ],\n",
      "        \"hdf5:name\": \"/\"\n",
      "      }\n",
      "    }\n",
      "  ]\n",
      "}\n"
     ]
    }
   ],
   "source": [
    "with h5tbx.File() as h5:\n",
    "    h5.create_dataset(name='test', data=4.3)\n",
    "    grp = h5.create_group(name='contact')\n",
    "    grp.attrs['fname', rdflib.FOAF.firstName] = 'Matthias'\n",
    "    grp.attrs['lname', rdflib.FOAF.lastName] = 'Probst'\n",
    "    grp.attrs['hint'] = 'bah blah'\n",
    "    grp.rdf['hint'].definition = 'A hint'\n",
    "    grp.rdf.type = rdflib.PROV.Person  # --> rdf.type = Person\n",
    "    grp.rdf.subject = 'https://orcid.org/0000-0001-8729-0482'  # -> @id='https://orcid.org/0000-0001-8729-0482'\n",
    "\n",
    "    print(h5.dump_jsonld(indent=2, structural=True, resolve_keys=True))\n",
    "    \n",
    "g, ctx = h5tbx.jsonld.get_rdflib_graph(h5.hdf_filename)"
   ]
  },
  {
   "cell_type": "code",
   "execution_count": 5,
   "id": "18754370-f273-4ce0-bedb-13cfab2fd962",
   "metadata": {},
   "outputs": [
    {
     "data": {
      "text/plain": [
       "{'hdf5': 'http://purl.allotrope.org/ontologies/hdf5/1.8#',\n",
       " 'prov': 'http://www.w3.org/ns/prov#',\n",
       " 'foaf': 'http://xmlns.com/foaf/0.1/',\n",
       " 'skos': 'http://www.w3.org/2004/02/skos/core#'}"
      ]
     },
     "execution_count": 5,
     "metadata": {},
     "output_type": "execute_result"
    }
   ],
   "source": [
    "ctx"
   ]
  },
  {
   "cell_type": "code",
   "execution_count": 6,
   "id": "b0e139d7-94b8-48fe-b065-3efb03de9489",
   "metadata": {},
   "outputs": [],
   "source": [
    "# g = rdflib.Graph()\n",
    "# bn = rdflib.BNode()\n",
    "# g.add((bn, rdflib.URIRef('https://schema.org/name'), rdflib.Literal('Matthias')))"
   ]
  },
  {
   "cell_type": "code",
   "execution_count": 7,
   "id": "064a9e31-1fd0-429e-9189-663e950bc52f",
   "metadata": {},
   "outputs": [],
   "source": [
    "kg = kglab.KnowledgeGraph(\n",
    "    import_graph=g,\n",
    "    namespaces=ctx)"
   ]
  },
  {
   "cell_type": "code",
   "execution_count": 8,
   "id": "ce1a26f6-ad59-4014-b5b2-dcee38f11a26",
   "metadata": {},
   "outputs": [],
   "source": [
    "subgraph = kglab.SubgraphTensor(kg)"
   ]
  },
  {
   "cell_type": "code",
   "execution_count": 9,
   "id": "78c9adf7-43f0-4aa1-8740-149bf3a5f74f",
   "metadata": {},
   "outputs": [],
   "source": [
    "VIS_STYLE= {\"hdf5\": {\"color\": \"red\", \"size\": 30},\n",
    "            \"_\": {\"color\": \"black\", \"size\": 20}}"
   ]
  },
  {
   "cell_type": "code",
   "execution_count": 10,
   "id": "e8d13d2e-d66e-4028-8909-7192cfef1bf6",
   "metadata": {},
   "outputs": [
    {
     "name": "stdout",
     "output_type": "stream",
     "text": [
      "Warning: When  cdn_resources is 'local' jupyter notebook has issues displaying graphics on chrome/safari. Use cdn_resources='in_line' or cdn_resources='remote' if you have issues viewing graphics in a notebook.\n",
      "graph.html\n"
     ]
    },
    {
     "ename": "UnicodeEncodeError",
     "evalue": "'charmap' codec can't encode characters in position 263607-263621: character maps to <undefined>",
     "output_type": "error",
     "traceback": [
      "\u001b[1;31m---------------------------------------------------------------------------\u001b[0m",
      "\u001b[1;31mUnicodeEncodeError\u001b[0m                        Traceback (most recent call last)",
      "Cell \u001b[1;32mIn[10], line 3\u001b[0m\n\u001b[0;32m      1\u001b[0m pyvis_graph\u001b[38;5;241m=\u001b[39m subgraph\u001b[38;5;241m.\u001b[39mbuild_pyvis_graph(notebook\u001b[38;5;241m=\u001b[39m\u001b[38;5;28;01mTrue\u001b[39;00m, style\u001b[38;5;241m=\u001b[39mVIS_STYLE)\n\u001b[0;32m      2\u001b[0m pyvis_graph\u001b[38;5;241m.\u001b[39mcdn_resources \u001b[38;5;241m=\u001b[39m \u001b[38;5;124m'\u001b[39m\u001b[38;5;124min_line\u001b[39m\u001b[38;5;124m'\u001b[39m\n\u001b[1;32m----> 3\u001b[0m \u001b[43mpyvis_graph\u001b[49m\u001b[38;5;241;43m.\u001b[39;49m\u001b[43mshow\u001b[49m\u001b[43m(\u001b[49m\u001b[38;5;124;43m'\u001b[39;49m\u001b[38;5;124;43mgraph.html\u001b[39;49m\u001b[38;5;124;43m'\u001b[39;49m\u001b[43m,\u001b[49m\u001b[43m \u001b[49m\u001b[43mnotebook\u001b[49m\u001b[38;5;241;43m=\u001b[39;49m\u001b[38;5;28;43;01mTrue\u001b[39;49;00m\u001b[43m)\u001b[49m\n",
      "File \u001b[1;32m~\\anaconda3\\envs\\h5tbx\\lib\\site-packages\\pyvis\\network.py:546\u001b[0m, in \u001b[0;36mNetwork.show\u001b[1;34m(self, name, local, notebook)\u001b[0m\n\u001b[0;32m    544\u001b[0m \u001b[38;5;28mprint\u001b[39m(name)\n\u001b[0;32m    545\u001b[0m \u001b[38;5;28;01mif\u001b[39;00m notebook:\n\u001b[1;32m--> 546\u001b[0m     \u001b[38;5;28;43mself\u001b[39;49m\u001b[38;5;241;43m.\u001b[39;49m\u001b[43mwrite_html\u001b[49m\u001b[43m(\u001b[49m\u001b[43mname\u001b[49m\u001b[43m,\u001b[49m\u001b[43m \u001b[49m\u001b[43mopen_browser\u001b[49m\u001b[38;5;241;43m=\u001b[39;49m\u001b[38;5;28;43;01mFalse\u001b[39;49;00m\u001b[43m,\u001b[49m\u001b[43mnotebook\u001b[49m\u001b[38;5;241;43m=\u001b[39;49m\u001b[38;5;28;43;01mTrue\u001b[39;49;00m\u001b[43m)\u001b[49m\n\u001b[0;32m    547\u001b[0m \u001b[38;5;28;01melse\u001b[39;00m:\n\u001b[0;32m    548\u001b[0m     \u001b[38;5;28mself\u001b[39m\u001b[38;5;241m.\u001b[39mwrite_html(name, open_browser\u001b[38;5;241m=\u001b[39m\u001b[38;5;28;01mTrue\u001b[39;00m)\n",
      "File \u001b[1;32m~\\anaconda3\\envs\\h5tbx\\lib\\site-packages\\pyvis\\network.py:530\u001b[0m, in \u001b[0;36mNetwork.write_html\u001b[1;34m(self, name, local, notebook, open_browser)\u001b[0m\n\u001b[0;32m    528\u001b[0m \u001b[38;5;28;01melif\u001b[39;00m \u001b[38;5;28mself\u001b[39m\u001b[38;5;241m.\u001b[39mcdn_resources \u001b[38;5;241m==\u001b[39m \u001b[38;5;124m\"\u001b[39m\u001b[38;5;124min_line\u001b[39m\u001b[38;5;124m\"\u001b[39m \u001b[38;5;129;01mor\u001b[39;00m \u001b[38;5;28mself\u001b[39m\u001b[38;5;241m.\u001b[39mcdn_resources \u001b[38;5;241m==\u001b[39m \u001b[38;5;124m\"\u001b[39m\u001b[38;5;124mremote\u001b[39m\u001b[38;5;124m\"\u001b[39m:\n\u001b[0;32m    529\u001b[0m     \u001b[38;5;28;01mwith\u001b[39;00m \u001b[38;5;28mopen\u001b[39m(getcwd_name, \u001b[38;5;124m\"\u001b[39m\u001b[38;5;124mw+\u001b[39m\u001b[38;5;124m\"\u001b[39m) \u001b[38;5;28;01mas\u001b[39;00m out:\n\u001b[1;32m--> 530\u001b[0m         \u001b[43mout\u001b[49m\u001b[38;5;241;43m.\u001b[39;49m\u001b[43mwrite\u001b[49m\u001b[43m(\u001b[49m\u001b[38;5;28;43mself\u001b[39;49m\u001b[38;5;241;43m.\u001b[39;49m\u001b[43mhtml\u001b[49m\u001b[43m)\u001b[49m\n\u001b[0;32m    531\u001b[0m \u001b[38;5;28;01melse\u001b[39;00m:\n\u001b[0;32m    532\u001b[0m     \u001b[38;5;28;01massert\u001b[39;00m \u001b[38;5;124m\"\u001b[39m\u001b[38;5;124mcdn_resources is not in [\u001b[39m\u001b[38;5;124m'\u001b[39m\u001b[38;5;124min_line\u001b[39m\u001b[38;5;124m'\u001b[39m\u001b[38;5;124m,\u001b[39m\u001b[38;5;124m'\u001b[39m\u001b[38;5;124mremote\u001b[39m\u001b[38;5;124m'\u001b[39m\u001b[38;5;124m,\u001b[39m\u001b[38;5;124m'\u001b[39m\u001b[38;5;124mlocal\u001b[39m\u001b[38;5;124m'\u001b[39m\u001b[38;5;124m].\u001b[39m\u001b[38;5;124m\"\u001b[39m\n",
      "File \u001b[1;32m~\\anaconda3\\envs\\h5tbx\\lib\\encodings\\cp1252.py:19\u001b[0m, in \u001b[0;36mIncrementalEncoder.encode\u001b[1;34m(self, input, final)\u001b[0m\n\u001b[0;32m     18\u001b[0m \u001b[38;5;28;01mdef\u001b[39;00m \u001b[38;5;21mencode\u001b[39m(\u001b[38;5;28mself\u001b[39m, \u001b[38;5;28minput\u001b[39m, final\u001b[38;5;241m=\u001b[39m\u001b[38;5;28;01mFalse\u001b[39;00m):\n\u001b[1;32m---> 19\u001b[0m     \u001b[38;5;28;01mreturn\u001b[39;00m \u001b[43mcodecs\u001b[49m\u001b[38;5;241;43m.\u001b[39;49m\u001b[43mcharmap_encode\u001b[49m\u001b[43m(\u001b[49m\u001b[38;5;28;43minput\u001b[39;49m\u001b[43m,\u001b[49m\u001b[38;5;28;43mself\u001b[39;49m\u001b[38;5;241;43m.\u001b[39;49m\u001b[43merrors\u001b[49m\u001b[43m,\u001b[49m\u001b[43mencoding_table\u001b[49m\u001b[43m)\u001b[49m[\u001b[38;5;241m0\u001b[39m]\n",
      "\u001b[1;31mUnicodeEncodeError\u001b[0m: 'charmap' codec can't encode characters in position 263607-263621: character maps to <undefined>"
     ]
    }
   ],
   "source": [
    "pyvis_graph= subgraph.build_pyvis_graph(notebook=True, style=VIS_STYLE)\n",
    "pyvis_graph.cdn_resources = 'in_line'\n",
    "pyvis_graph.show('graph.html', notebook=True)"
   ]
  },
  {
   "cell_type": "code",
   "execution_count": null,
   "id": "a44f0039-00b8-44c5-b237-ccba12993bdd",
   "metadata": {},
   "outputs": [],
   "source": [
    "with h5tbx.File() as h5:\n",
    "    h5.create_dataset(name='test', data=4.3)\n",
    "    grp = h5.create_group(name='contact')\n",
    "    grp.attrs['fname', rdflib.FOAF.firstName] = 'Matthias'\n",
    "    grp.attrs['lname', rdflib.FOAF.lastName] = 'Probst'\n",
    "    grp.attrs['hint'] = 'bah blah'\n",
    "    grp.rdf['hint'].definition = 'A hint'\n",
    "    grp.rdf.subject = rdflib.PROV.Person\n",
    "    grp.attrs['@id'] = 'https://orcid.org/0000-0001-8729-0482'\n",
    "    print(h5.dump_jsonld(indent=2, structural=False))\n",
    "\n",
    "g, ctx = h5tbx.jsonld.get_rdflib_graph(h5.hdf_filename)"
   ]
  },
  {
   "cell_type": "code",
   "execution_count": null,
   "id": "3e8834fc-6217-42c3-b442-2565b012f828",
   "metadata": {},
   "outputs": [],
   "source": [
    "jsonld = h5tbx.dump_jsonld(h5.hdf_filename, indent=2, semantic=True, structural=False)\n",
    "with open('test.jsonld', 'w') as f:\n",
    "    f.write(jsonld)"
   ]
  },
  {
   "cell_type": "code",
   "execution_count": null,
   "id": "077911e8-8bc3-4b58-a480-df605bdceae4",
   "metadata": {},
   "outputs": [],
   "source": [
    "VIS_STYLE= {\"hdf5\": {\"color\": \"red\", \"size\": 30},\n",
    "            \"_\": {\"color\": \"black\", \"size\": 20},\n",
    "            \"prof\": {\"color\": \"green\", \"size\": 10},\n",
    "            \"foaf\": {\"color\": \"green\", \"size\": 10},\n",
    "            \n",
    "           }"
   ]
  },
  {
   "cell_type": "code",
   "execution_count": null,
   "id": "67f99459-8351-4819-8a67-2b58d4b1e398",
   "metadata": {},
   "outputs": [],
   "source": [
    "kg_from_jsonld = kglab.KnowledgeGraph().load_jsonld('test.jsonld')\n",
    "\n",
    "subgraph = kglab.SubgraphTensor(kg_from_jsonld)\n",
    "pyvis_graph = subgraph.build_pyvis_graph(notebook=True, style=VIS_STYLE)\n",
    "\n",
    "pyvis_graph.force_atlas_2based(overlap=0)\n",
    "pyvis_graph.show(\"tmp.grpah.html\", local=True, notebook=True)\n",
    "\n",
    "# subgraph = kglab.SubgraphTensor(kg)\n",
    "# pyvis_graph= subgraph.build_pyvis_graph(notebook=True, style=VIS_STYLE)\n",
    "# pyvis_graph.show('graph.html')"
   ]
  },
  {
   "cell_type": "code",
   "execution_count": null,
   "id": "9c3e4344-6d33-4577-bd48-888217af6139",
   "metadata": {},
   "outputs": [],
   "source": []
  },
  {
   "cell_type": "code",
   "execution_count": null,
   "id": "d4b4a3df-6e4e-42de-ae39-7e51e5e6d465",
   "metadata": {},
   "outputs": [],
   "source": []
  }
 ],
 "metadata": {
  "kernelspec": {
   "display_name": "Python 3 (ipykernel)",
   "language": "python",
   "name": "python3"
  },
  "language_info": {
   "codemirror_mode": {
    "name": "ipython",
    "version": 3
   },
   "file_extension": ".py",
   "mimetype": "text/x-python",
   "name": "python",
   "nbconvert_exporter": "python",
   "pygments_lexer": "ipython3",
   "version": "3.8.19"
  }
 },
 "nbformat": 4,
 "nbformat_minor": 5
}
