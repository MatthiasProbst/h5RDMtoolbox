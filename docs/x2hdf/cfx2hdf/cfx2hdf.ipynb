{
 "cells": [
  {
   "cell_type": "markdown",
   "id": "96b66aa8-e2cd-4696-a17b-6c18fab59910",
   "metadata": {},
   "source": [
    "# Ansys CFX to HDF\n",
    "\n",
    "The goal here is to convert everything except the solution fields into an HDF5 file, thus meta information about the setup and the user and monitor points"
   ]
  },
  {
   "cell_type": "code",
   "execution_count": null,
   "id": "32df320a-42a2-4fb4-bdd9-ffeff100e790",
   "metadata": {},
   "outputs": [],
   "source": [
    "from h5rdmtoolbox.x2hdf.cfd.ansys import AnsysInstallation"
   ]
  },
  {
   "cell_type": "markdown",
   "id": "4b11b6df-c7e8-4e00-a0d7-5a812769c5eb",
   "metadata": {},
   "source": [
    "## Managing the installation\n",
    "\n",
    "The class `AnsysInstallation` helps to managethe installation directory:"
   ]
  },
  {
   "cell_type": "code",
   "execution_count": null,
   "id": "334acfcd-fabc-4dea-80b3-f1d1beb9a635",
   "metadata": {},
   "outputs": [],
   "source": [
    "ansysinst = AnsysInstallation()\n",
    "ansysinst"
   ]
  },
  {
   "cell_type": "code",
   "execution_count": null,
   "id": "e7432fd4-0828-40e2-abbf-c6f79f2fd86e",
   "metadata": {},
   "outputs": [],
   "source": [
    "try:\n",
    "    ansysinst.installation_directory = '/opt/dist/ansys_inc/v202/CFX/bin/'\n",
    "except NotADirectoryError:\n",
    "    ansysinst.installation_directory = r'C:\\Program Files\\ANSYS Inc\\v212\\CFX\\bin'\n",
    "ansysinst"
   ]
  },
  {
   "cell_type": "markdown",
   "id": "b525f497-0ca3-4667-8f8e-76d23659d5c5",
   "metadata": {},
   "source": [
    "## Converting a case (partly) to HDF\n",
    "\n",
    "Get the test cfx file:"
   ]
  },
  {
   "cell_type": "code",
   "execution_count": null,
   "id": "4131d1d7-1f8a-4f44-a828-48023d6be566",
   "metadata": {},
   "outputs": [],
   "source": [
    "from h5rdmtoolbox import tutorial"
   ]
  },
  {
   "cell_type": "code",
   "execution_count": null,
   "id": "ba8cf83c-da0b-4161-b765-6c24364c6693",
   "metadata": {},
   "outputs": [],
   "source": [
    "test_cfx_filename = tutorial.CFX.get_cfx_filename()"
   ]
  },
  {
   "cell_type": "markdown",
   "id": "5a36439b-5809-40e6-b8dc-0b9e4ce3b64a",
   "metadata": {},
   "source": [
    "To convert the data, simply call cfx2hdf:"
   ]
  },
  {
   "cell_type": "code",
   "execution_count": null,
   "id": "5c971ec6-8a75-4f59-b434-211b05d67924",
   "metadata": {},
   "outputs": [],
   "source": [
    "from h5rdmtoolbox.x2hdf.cfd import cfx2hdf"
   ]
  },
  {
   "cell_type": "code",
   "execution_count": null,
   "id": "08d2cbc8-fd7e-40d7-a84c-626c5efc60fa",
   "metadata": {},
   "outputs": [],
   "source": [
    "import os\n",
    "import subprocess"
   ]
  },
  {
   "cell_type": "code",
   "execution_count": null,
   "id": "a60bf593-2a3e-4804-9e93-697c5f145cd0",
   "metadata": {},
   "outputs": [],
   "source": [
    "exe = r\"C:\\Program Files\\ANSYS Inc\\v212\\CFX\\bin\\cfx5cmds.exe\"\n",
    "def_filename = r\"C:\\Users\\da4323\\Documents\\programming\\GitHub\\h5RDMtoolbox\\h5rdmtoolbox\\tests\\data\\CFD\\AnsysCFX\\channel_plus_cyl.def\"\n",
    "ccl_filename = r\"C:\\Users\\da4323\\Documents\\programming\\GitHub\\h5RDMtoolbox\\h5rdmtoolbox\\tests\\data\\CFD\\AnsysCFX\\channel_plus_cyl.ccl\"\n",
    "cmd = f'\"{AnsysInstallation().cfx5cmds}\" -read -def \"{def_filename}\" -text \"{ccl_filename}\"'\n",
    "subprocess.call(cmd)"
   ]
  },
  {
   "cell_type": "code",
   "execution_count": null,
   "id": "464a8beb-ff0f-4ad5-b0b2-0120b248036d",
   "metadata": {},
   "outputs": [],
   "source": [
    "hdf_filename = cfx2hdf(test_cfx_filename)"
   ]
  },
  {
   "cell_type": "code",
   "execution_count": null,
   "id": "27739475-96bc-44b4-b08b-9b7f4557a9e5",
   "metadata": {},
   "outputs": [],
   "source": [
    "from h5rdmtoolbox.h5wrapper import H5File"
   ]
  },
  {
   "cell_type": "code",
   "execution_count": null,
   "id": "5529b9b1-9107-4bc7-935f-02b93ff2e93b",
   "metadata": {},
   "outputs": [],
   "source": [
    "with H5File(hdf_filename) as h5:\n",
    "    h5.dump()\n",
    "    p = h5.monitor.USER_POINT.coefficient_drag[:]"
   ]
  },
  {
   "cell_type": "code",
   "execution_count": null,
   "id": "cc23b561-2a38-4a70-824b-ae91bc3f0b77",
   "metadata": {},
   "outputs": [],
   "source": [
    "p[:].plot()"
   ]
  }
 ],
 "metadata": {
  "kernelspec": {
   "display_name": "Python 3 (ipykernel)",
   "language": "python",
   "name": "python3"
  },
  "language_info": {
   "codemirror_mode": {
    "name": "ipython",
    "version": 3
   },
   "file_extension": ".py",
   "mimetype": "text/x-python",
   "name": "python",
   "nbconvert_exporter": "python",
   "pygments_lexer": "ipython3",
   "version": "3.8.13"
  }
 },
 "nbformat": 4,
 "nbformat_minor": 5
}
