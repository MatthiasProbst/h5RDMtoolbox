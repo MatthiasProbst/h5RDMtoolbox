{
 "cells": [
  {
   "cell_type": "markdown",
   "id": "897c6a94-d44e-4b89-bcb2-56a913faaafb",
   "metadata": {},
   "source": [
    "# Quick Overview"
   ]
  },
  {
   "cell_type": "markdown",
   "id": "fe30cac8-1a28-46e1-b886-8b10979c4098",
   "metadata": {},
   "source": [
    "This chapter gives a quick overview into how to use the package. Detailed explanations can be found in the subchapters of the respective sub-classes."
   ]
  },
  {
   "cell_type": "markdown",
   "id": "e3d38b11-9866-4d04-ae68-2354cf992ac1",
   "metadata": {},
   "source": [
    "Import the package (and others) and use the recommended abbreviation ``h5tbx``."
   ]
  },
  {
   "cell_type": "code",
   "execution_count": 1,
   "id": "5d92afd9-200c-4d25-b30d-25360c9d615f",
   "metadata": {
    "tags": []
   },
   "outputs": [],
   "source": [
    "import h5rdmtoolbox as h5tbx\n",
    "import numpy as np"
   ]
  },
  {
   "cell_type": "markdown",
   "id": "a80c93e7-6d5f-4187-896e-f8223d0449c3",
   "metadata": {},
   "source": [
    "## Create an HDF file\n",
    "\n",
    "We recommend using python's context manager. If no filename is passed to the wrapper file, then a temporary file is created. This file is deleted when you python program finishes/the kernel is stopped. Per default, the mode is `r+`"
   ]
  },
  {
   "cell_type": "code",
   "execution_count": 4,
   "id": "641d270b-6c02-4296-8ec7-34dc05af90df",
   "metadata": {
    "tags": []
   },
   "outputs": [
    {
     "name": "stdout",
     "output_type": "stream",
     "text": [
      "tmp4.hdf\n"
     ]
    }
   ],
   "source": [
    "with h5tbx.H5File() as h5:\n",
    "    print(h5.hdf_filename.name)  # equal to h5.filename but a pathlib.Path and exists also after file is closed"
   ]
  },
  {
   "cell_type": "markdown",
   "id": "43ec3475-ae2f-47b6-a515-da57c9af52b1",
   "metadata": {},
   "source": [
    "## Create a dataset\n",
    "\n",
    "Assume we have a signal over time as numpy-arrays. We create two datasets for them. As signal is a function of time, we use HDF dimension scales (https://docs.h5py.org/en/stable/high/dims.html) to make the relationship, thus \"time\" is the scale (`make_scale=True`) to which \"signal\" is attached to (`attach_scale`)."
   ]
  },
  {
   "cell_type": "code",
   "execution_count": 9,
   "id": "72fc4043-cecc-4cc1-9297-484fa458973b",
   "metadata": {
    "tags": []
   },
   "outputs": [],
   "source": [
    "time = np.linspace(0, 1, 101)\n",
    "signal = np.sin(2*np.pi*3*time)\n",
    "\n",
    "signal_filename = h5tbx.generate_temporary_filename(suffix='h.hdf')\n",
    "\n",
    "with h5tbx.H5File(signal_filename, mode='w') as h5:\n",
    "    \n",
    "    ds_time = h5.create_dataset(name='time', data=time, \n",
    "                                attrs={'units': 's'},\n",
    "                                make_scale=True)\n",
    "    \n",
    "    ds_signal = h5.create_dataset(name='signal', data=signal,\n",
    "                                  attrs={'units': 'V'},\n",
    "                                  attach_scale=ds_time)"
   ]
  },
  {
   "cell_type": "markdown",
   "id": "6369b961-15b0-4b0c-a483-3bffca2b7c20",
   "metadata": {},
   "source": [
    "## Create a group\n",
    "Groups don't really differ from the implementation in `h5py` except they allow to pass the attibute `long_name` as an optional parameter:"
   ]
  },
  {
   "cell_type": "code",
   "execution_count": 10,
   "id": "0675041d-970f-4d86-bb01-477513a290f4",
   "metadata": {
    "tags": []
   },
   "outputs": [],
   "source": [
    "with h5tbx.H5File(signal_filename, mode='r+') as h5:\n",
    "    h5.create_group('mygroup', overwrite=True, )"
   ]
  },
  {
   "cell_type": "markdown",
   "id": "e111e9e6-5f1b-4e7d-b9a6-17c20406adb7",
   "metadata": {},
   "source": [
    "## Plot a data\n",
    "Plotting data is simple: The return value of a sliced HDF dataset is a `xr.DataArray`. Thanks to the package `xarray`, provides a plotting function:"
   ]
  },
  {
   "cell_type": "code",
   "execution_count": 11,
   "id": "2a9f3edb-a5fa-48be-9fb8-13bc9878e92b",
   "metadata": {
    "tags": []
   },
   "outputs": [
    {
     "data": {
      "image/png": "[encoded data removed]",
      "text/plain": [
       "<Figure size 400x200 with 1 Axes>"
      ]
     },
     "metadata": {},
     "output_type": "display_data"
    }
   ],
   "source": [
    "import matplotlib.pyplot as plt\n",
    "\n",
    "with h5tbx.H5File(signal_filename, 'r') as h5:\n",
    "    plt.figure(figsize=(4,2))\n",
    "    h5['signal'][:].plot()"
   ]
  },
  {
   "cell_type": "markdown",
   "id": "1627e47a-37d1-45b2-8adc-d04d038b1574",
   "metadata": {},
   "source": [
    "## Natural Naming\n",
    "Until here we used the conventional way of addressing variables and groups in a dictionary-like style. `h5RDMtoolbox` allows to use \"natural naming\" which means that we can address those objects as if they were attributes. Make sure `h5tbx.config.natural_naming` is set to `True` (the default):"
   ]
  },
  {
   "cell_type": "code",
   "execution_count": 12,
   "id": "0a088543-0338-4022-a691-4108a95b1951",
   "metadata": {
    "tags": []
   },
   "outputs": [],
   "source": [
    "h5tbx.config.natural_naming = True\n",
    "with h5tbx.H5File(signal_filename, 'r') as h5:\n",
    "    ds = h5.signal[:]\n",
    "    grp = h5.mygroup"
   ]
  },
  {
   "cell_type": "markdown",
   "id": "fdcc735d-8422-4710-a794-984a59580ad6",
   "metadata": {},
   "source": [
    "## Inspect file content\n",
    "Often it is necessary to recall the content of a file. Calling `dump()` on a group represents the content (dataset, groups and attributes) as a pretty nd interactive (!) html representation. This is adopted from the `xarray` package. All credits for this idea go there. The representation here avoids showing data, though. Outside an IPython environment call `sdump()` to get a string representation of the file."
   ]
  },
  {
   "cell_type": "code",
   "execution_count": 13,
   "id": "db6775f0-f3f0-40ac-887d-d00068188138",
   "metadata": {
    "tags": []
   },
   "outputs": [
    {
     "data": {
      "text/html": [
       "<head><style>/*\r\n",
       "CSS inspired by xarray: https://github.com/pydata/xarray\r\n",
       "*/\r\n",
       ".h5tb-header > div,\r\n",
       ".h5tb-header > ul {\r\n",
       "    display: inline;\r\n",
       "    margin-top: 0;\r\n",
       "    margin-bottom: 0;\r\n",
       "}\r\n",
       "\r\n",
       ".h5tb-dataarray-cls,\r\n",
       ".h5tb-dataarray-name {\r\n",
       "    margin-left: 2px;\r\n",
       "    margin-right: 10px;\r\n",
       "}\r\n",
       "\r\n",
       ".h5tb-dataarray-name {\r\n",
       "    color: #000;\r\n",
       "}\r\n",
       "\r\n",
       ".h5grp-sections {\r\n",
       "    list-style: none;\r\n",
       "    padding: 3px;\r\n",
       "    margin: 0;\r\n",
       "}\r\n",
       "\r\n",
       ".h5grp-sections input {\r\n",
       "    display: none;\r\n",
       "}\r\n",
       "\r\n",
       ".h5grp-sections label {\r\n",
       "    display: inline;\r\n",
       "}\r\n",
       "\r\n",
       ".h5grp-sections > li > input + label > span {\r\n",
       "    display: inline;\r\n",
       "    margin-left: 4px;\r\n",
       "}\r\n",
       "\r\n",
       ".h5grp-sections > li > input:checked + label > span {\r\n",
       "    display: none;\r\n",
       "}\r\n",
       "\r\n",
       ".h5grp-sections input:enabled + label {\r\n",
       "    cursor: pointer;\r\n",
       "}\r\n",
       "\r\n",
       ".h5grp-sections input:not(.h5tb-values-in) ~ ul {\r\n",
       "    display: none;\r\n",
       "}\r\n",
       "\r\n",
       ".h5grp-sections input:not(.h5tb-values-in):checked ~ ul {\r\n",
       "    display: block;\r\n",
       "}\r\n",
       "\r\n",
       ".h5grp-sections > li > input + label {\r\n",
       "    width: 140px;\r\n",
       "    color: #555;\r\n",
       "    font-weight: 500;\r\n",
       "    padding: 4px 0 2px 0;\r\n",
       "}\r\n",
       "\r\n",
       "\r\n",
       ".h5grp-sections > li > input + label:before {\r\n",
       "    display: inline-block;\r\n",
       "    content: '+';\r\n",
       "    font-size: 11px;\r\n",
       "    width: 15px;\r\n",
       "    text-align: center;\r\n",
       "}\r\n",
       "\r\n",
       ".h5grp-sections > li > input:disabled + label:before {\r\n",
       "    color: #777;\r\n",
       "}\r\n",
       "\r\n",
       ".h5grp-sections > li > input:checked + label:before {\r\n",
       "    content: '-';\r\n",
       "}\r\n",
       "\r\n",
       ".h5tb-dim-list {\r\n",
       "    display: inline-block !important;\r\n",
       "    list-style: none;\r\n",
       "    padding: 0;\r\n",
       "}\r\n",
       "\r\n",
       ".h5tb-dim-list li {\r\n",
       "    display: inline-block;\r\n",
       "    padding: 0;\r\n",
       "    margin: 0;\r\n",
       "}\r\n",
       "\r\n",
       ".h5tb-dim-list:before {\r\n",
       "    content: '(';\r\n",
       "}\r\n",
       "\r\n",
       ".h5tb-dim-list:after {\r\n",
       "    content: ')';\r\n",
       "}\r\n",
       "\r\n",
       ".h5tb-dim-list li:not(:last-child):after {\r\n",
       "    content: ',';\r\n",
       "}\r\n",
       "\r\n",
       ".h5tb-has-index {\r\n",
       "    text-decoration: underline;\r\n",
       "}\r\n",
       "\r\n",
       ".h5tb-var-list {\r\n",
       "    list-style: none;\r\n",
       "    padding: 0;\r\n",
       "    margin: 0;\r\n",
       "}\r\n",
       "\r\n",
       ".h5tb-var-list > li {\r\n",
       "    background-color: #fcfcfc;\r\n",
       "    overflow: hidden;\r\n",
       "}\r\n",
       "\r\n",
       ".h5tb-var-list > li:nth-child(odd) {\r\n",
       "    background-color: #efefef;\r\n",
       "}\r\n",
       "\r\n",
       ".h5tb-var-list li:hover {\r\n",
       "    background-color: rgba(3, 169, 244, .2);\r\n",
       "}\r\n",
       "\r\n",
       ".h5tb-var-list li > span {\r\n",
       "    display: inline-block;\r\n",
       "}\r\n",
       "\r\n",
       "input.h5tb-varname-in + label {\r\n",
       "    width: 140px;\r\n",
       "    padding-left: 0;\r\n",
       "    font-weight: bold;\r\n",
       "}\r\n",
       "\r\n",
       ".h5tb-dataset {\r\n",
       "    width: 100px;\r\n",
       "}\r\n",
       "\r\n",
       ".h5tb-attributevalue {\r\n",
       "    width: 100px;\r\n",
       "    text-align: left;\r\n",
       "    color: #888;\r\n",
       "    white-space: nowrap;\r\n",
       "    font-size: 12px;\r\n",
       "}\r\n",
       "\r\n",
       "input.h5tb-varname-in + label:before {\r\n",
       "    content: ' ';\r\n",
       "    display: inline-block;\r\n",
       "    font-size: 11px;\r\n",
       "    width: 15px;\r\n",
       "    padding-left: 2px;\r\n",
       "    padding-right: 2px;\r\n",
       "    text-align: center;\r\n",
       "    color: #aaa;\r\n",
       "    text-decoration: none !important;\r\n",
       "}\r\n",
       "\r\n",
       "input.h5tb-varname-in:enabled + label:hover:before {\r\n",
       "    color: #000;\r\n",
       "}\r\n",
       "\r\n",
       "input.h5tb-varname-in:checked + label:before {\r\n",
       "    color: #ccc;\r\n",
       "}\r\n",
       "\r\n",
       ".h5tb-dims {\r\n",
       "    width: 280px;\r\n",
       "    white-space: nowrap;\r\n",
       "}\r\n",
       "\r\n",
       "\r\n",
       ".h5tb-unit {\r\n",
       "    width: 96px;\r\n",
       "    white-space: nowrap;\r\n",
       "    padding-right: 2px;\r\n",
       "    text-align: right;\r\n",
       "    color: #555;\r\n",
       "    font-style: italic;\r\n",
       "}\r\n",
       "\r\n",
       ".h5tb-attr-list {\r\n",
       "    list-style: none;\r\n",
       "    background-color: #fff;\r\n",
       "    padding-bottom: 6px;\r\n",
       "    color: #555;\r\n",
       "}\r\n",
       "\r\n",
       ".h5tb-attr-list li,\r\n",
       ".h5tb-attr-list li:hover {\r\n",
       "    background-color: #fff;\r\n",
       "}\r\n",
       "\r\n",
       ".h5tb-dim-highlight {\r\n",
       "    background-color: rgba(3, 169, 244, .2);\r\n",
       "    cursor: pointer;\r\n",
       "}</style></head>\n",
       "<p>tmp13h.hdf</p>\n",
       "\n",
       "<div class='h5tb-warp'>\n",
       "\n",
       "          <ul style=\"list-style-type: none;\" class=\"h5grp-sections\">\n",
       "                <li>\n",
       "                    <input id=\"group-ds-/-116145213600\" type=\"checkbox\" checked>\n",
       "                    <label style=\"font-weight: bold\" for=\"group-ds-/-116145213600\">\n",
       "                    /<span>(3)</span></label>\n",
       "              \n",
       "\n",
       "                <ul class=\"h5tb-attr-list\"><li style=\"list-style-type: none; font-style: italic\">__h5rdmtoolbox_version__ : 0.2.0</li><li style=\"list-style-type: none; font-style: italic\">__wrcls__ : H5File</li>\n",
       "                </ul>\n",
       "\n",
       "                    <ul id=\"ds-1-/signal-116147693400\" class=\"h5tb-var-list\">\n",
       "                    <input id=\"ds-2-/signal-116147696600\" class=\"h5tb-varname-in\" type=\"checkbox\">\n",
       "                    <label class='h5tb-varname' \n",
       "                        for=\"ds-2-/signal-116147696600\">signal</label>\n",
       "                    <span class=\"h5tb-dims\">(time: 101)</span>  [\n",
       "                    <span class=\"h5tb-unit\">V</span>]\n",
       "<ul class=\"h5tb-attr-list\">\n",
       "\n",
       "                </ul>\n",
       "\n",
       "             </ul>\n",
       "             \n",
       "\n",
       "                    <ul id=\"ds-1-/time-116148082500\" class=\"h5tb-var-list\">\n",
       "                    <input id=\"ds-2-/time-116148085400\" class=\"h5tb-varname-in\" type=\"checkbox\">\n",
       "                    <label class='h5tb-varname' \n",
       "                        for=\"ds-2-/time-116148085400\">time</label>\n",
       "                    <span class=\"h5tb-dims\">(101,)</span>  [\n",
       "                    <span class=\"h5tb-unit\">s</span>]\n",
       "<ul class=\"h5tb-attr-list\">\n",
       "\n",
       "                </ul>\n",
       "\n",
       "             </ul>\n",
       "             \n",
       "\n",
       "          <ul style=\"list-style-type: none;\" class=\"h5grp-sections\">\n",
       "                <li>\n",
       "                    <input id=\"group-ds-/mygroup-116148343400\" type=\"checkbox\" >\n",
       "                    <label style=\"font-weight: bold\" for=\"group-ds-/mygroup-116148343400\">\n",
       "                    mygroup<span>(0)</span></label>\n",
       "              \n",
       "\n",
       "                <ul class=\"h5tb-attr-list\">\n",
       "                </ul>\n",
       "</li>\n",
       "</ul>\n",
       "</li>\n",
       "</ul>\n",
       "</div>"
      ],
      "text/plain": [
       "<IPython.core.display.HTML object>"
      ]
     },
     "metadata": {},
     "output_type": "display_data"
    }
   ],
   "source": [
    "with h5tbx.H5File(signal_filename) as h5:\n",
    "    h5.dump()"
   ]
  }
 ],
 "metadata": {
  "kernelspec": {
   "display_name": "Python 3 (ipykernel)",
   "language": "python",
   "name": "python3"
  },
  "language_info": {
   "codemirror_mode": {
    "name": "ipython",
    "version": 3
   },
   "file_extension": ".py",
   "mimetype": "text/x-python",
   "name": "python",
   "nbconvert_exporter": "python",
   "pygments_lexer": "ipython3",
   "version": "3.8.13"
  }
 },
 "nbformat": 4,
 "nbformat_minor": 5
}
