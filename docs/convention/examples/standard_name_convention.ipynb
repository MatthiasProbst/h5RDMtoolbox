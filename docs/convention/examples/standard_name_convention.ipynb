{
 "cells": [
  {
   "cell_type": "markdown",
   "id": "e10d29eb-bc3e-4373-8f56-e47efbb05781",
   "metadata": {},
   "source": [
    "# Standard Name Convention\n",
    "\n",
    "The \"Standard Name Convention\" is one realization of a convention promoted by the toolbox. It is based on the idea, that every dataset must have a physical unit (or none if it is dimensionless) and that datasets must be identifiable via an identifier attribute rather than the dataset name itself.\n",
    "\n",
    "The key standard attributes are \n",
    "\n",
    " - `standard_name`: A human- and machine-readable dataset identifier based on construction rules and listed in a \"Standard Name Table\",\n",
    " - `standard_name_table`: List of `standard_name` together with the base unit (SI) and a comprehensive description. It also includes additional information about how a `standard_name` can be transformed into a new `standard_name`\n",
    " - `units`: The unit attribute of a dataset. Must not be SI-unit, but must be convertible to it and then match the registered SI-unit in the Standard name table,\n",
    " - `long_name`: An alternative name if no `standard_name` is applicable."
   ]
  },
  {
   "cell_type": "markdown",
   "id": "3c8617b6-48de-4065-84b9-022a3b0dff7b",
   "metadata": {},
   "source": [
    "This concept is first introduced by the Climate and Forecast community and is called [CF-convention](http://cfconventions.org/). The `h5RDMtoolbox` adopts the concept and implements a general version of it, so that users can define their own discipline- or problem-specific standard name convention.\n",
    "\n",
    "Main benefits of the convention are:\n",
    "- achieving self-describing files, which are human and machine interpretation interpretable,\n",
    "- validating correctness of dataset identifiers (standard_name) and their units\n",
    "- allowing unit-aware processing of data.\n",
    "\n",
    "This chapter walks you through the concept and shows how to apply it"
   ]
  },
  {
   "cell_type": "code",
   "execution_count": 1,
   "id": "2ae9884b-2609-471a-ab4c-97e300ca804d",
   "metadata": {},
   "outputs": [],
   "source": [
    "import h5rdmtoolbox as h5tbx\n",
    "import warnings\n",
    "warnings.filterwarnings('ignore')\n",
    "\n",
    "from h5rdmtoolbox.convention.standard_names.table import StandardNameTable"
   ]
  },
  {
   "cell_type": "markdown",
   "id": "8fe8adf7-f44c-4f1a-8fe2-3c1272cfa0ac",
   "metadata": {},
   "source": [
    "## Standard Name Tables"
   ]
  },
  {
   "cell_type": "markdown",
   "id": "c82acdaa-9075-4c3d-a511-d8c7fc6f36e5",
   "metadata": {},
   "source": [
    "### Example 1: cf-convention"
   ]
  },
  {
   "cell_type": "markdown",
   "id": "e9e3b996-8114-43e0-935b-b1fc8b2385f2",
   "metadata": {},
   "source": [
    "The Standard name table should be defined in documents (typically XML or YAML). The corresponding object then can be initialized by the respective constructor methods (`from_yaml`, `from_web`, ...).\n",
    "\n",
    "For reading the original CF-convention table, do the following:"
   ]
  },
  {
   "cell_type": "code",
   "execution_count": 2,
   "id": "66808089-b59f-4dd2-86ab-a1c1904ebf44",
   "metadata": {},
   "outputs": [
    {
     "data": {
      "text/html": [
       "<li style=\"list-style-type: none; font-style: italic\">StandardNameTable: (name: cf-standard-name-table.xml, version_number: 79, last_modified: 2022-03-19T15:25:54Z, institution: Centre for Environmental Data Analysis, contact: support@ceda.ac.uk, version: v79, url: https://cfconventions.org/Data/cf-standard-names/79/src/cf-standard-name-table.xml)</li>"
      ],
      "text/plain": [
       "<StandardNameTable: (name: cf-standard-name-table.xml, version_number: 79, last_modified: 2022-03-19T15:25:54Z, institution: Centre for Environmental Data Analysis, contact: support@ceda.ac.uk, version: v79, url: https://cfconventions.org/Data/cf-standard-names/79/src/cf-standard-name-table.xml)>"
      ]
     },
     "execution_count": 2,
     "metadata": {},
     "output_type": "execute_result"
    }
   ],
   "source": [
    "cf = StandardNameTable.from_web(\"https://cfconventions.org/Data/cf-standard-names/79/src/cf-standard-name-table.xml\",\n",
    "                               known_hash='4c29b5ad70f6416ad2c35981ca0f9cdebf8aab901de5b7e826a940cf06f9bae4')\n",
    "cf"
   ]
  },
  {
   "cell_type": "markdown",
   "id": "863d53e1-843b-4476-b9e2-ea959c4442d8",
   "metadata": {},
   "source": [
    "The standard names are items of the table object:"
   ]
  },
  {
   "cell_type": "code",
   "execution_count": 3,
   "id": "e5854f39-80ee-4992-9bd8-9c0324cec174",
   "metadata": {},
   "outputs": [
    {
     "data": {
      "text/html": [
       "<ul style=\"list-style-type: none;\" class=\"h5grp-sections\">\n",
       "    <li>\n",
       "        <input id=\"group-x_wind5762191700\" type=\"checkbox\" checked>\n",
       "        <label style=\"font-weight: bold\" for=\"group-x_wind5762191700\">\n",
       "        x_wind</label>\n",
       "        <ul class=\"h5tb-attr-list\">\n",
       "           <li style=\"list-style-type: none; font-style: italic\">units : m/s</li>           <li style=\"list-style-type: none; font-style: italic\">description : \"x\" indicates a vector component along the grid x-axis, positive with increasing x. Wind is defined as a two-dimensional (horizontal) air velocity vector, with no vertical component. (Vertical motion in the atmosphere has the standard name upward_air_velocity.).</li>      </il>\n",
       "    </ul>\n",
       "</ul>"
      ],
      "text/plain": [
       "<StandardName: \"x_wind\" [m/s] \"x\" indicates a vector component along the grid x-axis, positive with increasing x. Wind is defined as a two-dimensional (horizontal) air velocity vector, with no vertical component. (Vertical motion in the atmosphere has the standard name upward_air_velocity.).>"
      ]
     },
     "execution_count": 3,
     "metadata": {},
     "output_type": "execute_result"
    }
   ],
   "source": [
    "cf['x_wind']"
   ]
  },
  {
   "cell_type": "code",
   "execution_count": 4,
   "id": "ba9d882a-c00d-4ba4-a142-6542a57fdeff",
   "metadata": {},
   "outputs": [
    {
     "data": {
      "text/html": [
       "m/s"
      ],
      "text/latex": [
       "$\\frac{\\mathrm{m}}{\\mathrm{s}}$"
      ],
      "text/plain": [
       "<Unit('meter / second')>"
      ]
     },
     "execution_count": 4,
     "metadata": {},
     "output_type": "execute_result"
    }
   ],
   "source": [
    "cf['x_wind'].units"
   ]
  },
  {
   "cell_type": "code",
   "execution_count": 5,
   "id": "ddea8a72-2b32-430e-99e0-4afceaca8167",
   "metadata": {},
   "outputs": [
    {
     "data": {
      "text/plain": [
       "'\"x\" indicates a vector component along the grid x-axis, positive with increasing x. Wind is defined as a two-dimensional (horizontal) air velocity vector, with no vertical component. (Vertical motion in the atmosphere has the standard name upward_air_velocity.).'"
      ]
     },
     "execution_count": 5,
     "metadata": {},
     "output_type": "execute_result"
    }
   ],
   "source": [
    "cf['x_wind'].description"
   ]
  },
  {
   "cell_type": "markdown",
   "id": "bf7d5b2e-4173-4ccc-956e-539ec28ff058",
   "metadata": {},
   "source": [
    "## Example 2: User defined table"
   ]
  },
  {
   "cell_type": "markdown",
   "id": "56f1cdac-4f0f-41e3-8664-0f8ebacb973f",
   "metadata": {},
   "source": [
    "Initializing standard name tables from a web-resource should be the standard process, because a project or community might defined it and published it under a DOI.\n",
    "\n",
    "The `h5rdmtoolbox` especially supports tables that are published on [Zenodo](https://zenodo.org/):"
   ]
  },
  {
   "cell_type": "code",
   "execution_count": 6,
   "id": "920d862d-78c1-4399-b204-1f711a1e60da",
   "metadata": {},
   "outputs": [
    {
     "data": {
      "text/html": [
       "<li style=\"list-style-type: none; font-style: italic\">StandardNameTable: (institution: my_institution, contact: https://orcid.org/0000-0001-8729-0482, valid_characters: [^a-zA-Z0-9_], pattern: ^[0-9 ].*, last_modified: 2023-08-16_11:05:00, version: v1.1, zenodo_doi: 10.5281/zenodo.8276716)</li>"
      ],
      "text/plain": [
       "<StandardNameTable: (institution: my_institution, contact: https://orcid.org/0000-0001-8729-0482, valid_characters: [^a-zA-Z0-9_], pattern: ^[0-9 ].*, last_modified: 2023-08-16_11:05:00, version: v1.1, zenodo_doi: 10.5281/zenodo.8276716)>"
      ]
     },
     "execution_count": 6,
     "metadata": {},
     "output_type": "execute_result"
    }
   ],
   "source": [
    "snt = StandardNameTable.from_zenodo(8276716)\n",
    "snt"
   ]
  },
  {
   "cell_type": "markdown",
   "id": "dd72c3e2-506e-4db9-b5a5-67dee5439e84",
   "metadata": {},
   "source": [
    "Here are the standard names of the table:"
   ]
  },
  {
   "cell_type": "code",
   "execution_count": 7,
   "id": "42ed6878-d4a1-450f-8ea5-e81311bd40c2",
   "metadata": {},
   "outputs": [
    {
     "data": {
      "text/plain": [
       "['coordinate', 'static_pressure', 'time', 'velocity']"
      ]
     },
     "execution_count": 7,
     "metadata": {},
     "output_type": "execute_result"
    }
   ],
   "source": [
    "snt.names"
   ]
  },
  {
   "cell_type": "markdown",
   "id": "3550c51e-d670-4344-a0d4-25bed5a80530",
   "metadata": {},
   "source": [
    "In a notebook, we can also get a nice overview of the table by calling `dump()`:"
   ]
  },
  {
   "cell_type": "code",
   "execution_count": 8,
   "id": "659bcfdd-7333-4f78-9ccc-c9d44b28d8b3",
   "metadata": {},
   "outputs": [
    {
     "data": {
      "text/html": [
       "<table border=\"1\" class=\"dataframe\">\n",
       "  <thead>\n",
       "    <tr style=\"text-align: right;\">\n",
       "      <th></th>\n",
       "      <th>units</th>\n",
       "      <th>description</th>\n",
       "      <th>vector</th>\n",
       "    </tr>\n",
       "  </thead>\n",
       "  <tbody>\n",
       "    <tr>\n",
       "      <th>coordinate</th>\n",
       "      <td>m</td>\n",
       "      <td>Coordinate refers to the spatial coordinate. Coordinate is a vector quantity.</td>\n",
       "      <td>True</td>\n",
       "    </tr>\n",
       "    <tr>\n",
       "      <th>static_pressure</th>\n",
       "      <td>Pa</td>\n",
       "      <td>Static pressure refers to the force per unit area exerted by a fluid. Pressure is a scalar quantity.</td>\n",
       "      <td>NaN</td>\n",
       "    </tr>\n",
       "    <tr>\n",
       "      <th>time</th>\n",
       "      <td>s</td>\n",
       "      <td>Time refers to the relative time since start of data acquisition.</td>\n",
       "      <td>NaN</td>\n",
       "    </tr>\n",
       "    <tr>\n",
       "      <th>velocity</th>\n",
       "      <td>m/s</td>\n",
       "      <td>Velocity refers to the change of position over time. Velocity is a vector quantity.</td>\n",
       "      <td>True</td>\n",
       "    </tr>\n",
       "  </tbody>\n",
       "</table>"
      ],
      "text/plain": [
       "<IPython.core.display.HTML object>"
      ]
     },
     "metadata": {},
     "output_type": "display_data"
    }
   ],
   "source": [
    "snt.dump()"
   ]
  },
  {
   "cell_type": "markdown",
   "id": "00ee187b-daa9-4d76-a9b1-0a5eaa164ae5",
   "metadata": {},
   "source": [
    "### Transformation of base standard names\n",
    "Not all allowed standard names must be included in the table. There are some so-called transformations of the listed ones. \n",
    "There are two ways to transform a standard name.\n",
    "\n",
    " 1. Using affixes: Adding a prefix or a suffix\n",
    " 2. Apply a mathematical operation to the name"
   ]
  },
  {
   "cell_type": "markdown",
   "id": "2bae1cdb-e1f0-44fc-bc8e-8252299f759f",
   "metadata": {},
   "source": [
    "#### 1. Adding affixes\n",
    "\n",
    "Note, that 'x_velocity' is not part of the table:"
   ]
  },
  {
   "cell_type": "code",
   "execution_count": 9,
   "id": "05b349d9-a4ae-4ea0-bab6-84790489c0be",
   "metadata": {},
   "outputs": [
    {
     "data": {
      "text/plain": [
       "False"
      ]
     },
     "execution_count": 9,
     "metadata": {},
     "output_type": "execute_result"
    }
   ],
   "source": [
    "'x_velocity' in snt"
   ]
  },
  {
   "cell_type": "markdown",
   "id": "96ecfa73-c223-4c5f-aaec-2314ad158fbc",
   "metadata": {},
   "source": [
    "... but 'velocity' is. And it is a vector. The vector property tells us, if we can add a \"vector component name\" as a prefix, e.g. a \"x\" or \"y\":"
   ]
  },
  {
   "cell_type": "code",
   "execution_count": 10,
   "id": "176f7fa3-342b-46eb-b1b1-495bcc862345",
   "metadata": {},
   "outputs": [
    {
     "data": {
      "text/plain": [
       "True"
      ]
     },
     "execution_count": 10,
     "metadata": {},
     "output_type": "execute_result"
    }
   ],
   "source": [
    "snt['velocity'].is_vector()"
   ]
  },
  {
   "cell_type": "markdown",
   "id": "b7cede44-5eb5-409e-ba04-23c9972eaea1",
   "metadata": {},
   "source": [
    "Which vector component exist, are defined in the table:"
   ]
  },
  {
   "cell_type": "code",
   "execution_count": 11,
   "id": "aa4d2628-8004-4c4c-a995-4057108e0aa9",
   "metadata": {},
   "outputs": [
    {
     "data": {
      "text/plain": [
       "{'x': 'X indicates the x-axis component of the vector.',\n",
       " 'y': 'Y indicates the y-axis component of the vector.',\n",
       " 'z': 'Z indicates the z-axis component of the vector.'}"
      ]
     },
     "execution_count": 11,
     "metadata": {},
     "output_type": "execute_result"
    }
   ],
   "source": [
    "snt.affixes['component'].values"
   ]
  },
  {
   "cell_type": "markdown",
   "id": "d3247f88-8b4e-4a73-9894-b475f3985b2d",
   "metadata": {},
   "source": [
    "Thus, by indexing \"x_velocity\" the table checks whether the prefix is valid and if yes returns the new (transformed) standard name:"
   ]
  },
  {
   "cell_type": "code",
   "execution_count": 12,
   "id": "824bb0b3-bcb3-4261-904b-ca43ff12a097",
   "metadata": {},
   "outputs": [
    {
     "data": {
      "text/html": [
       "<ul style=\"list-style-type: none;\" class=\"h5grp-sections\">\n",
       "    <li>\n",
       "        <input id=\"group-x_velocity5924035700\" type=\"checkbox\" checked>\n",
       "        <label style=\"font-weight: bold\" for=\"group-x_velocity5924035700\">\n",
       "        x_velocity</label>\n",
       "        <ul class=\"h5tb-attr-list\">\n",
       "           <li style=\"list-style-type: none; font-style: italic\">units : m/s</li>           <li style=\"list-style-type: none; font-style: italic\">description : Velocity refers to the change of position over time. Velocity is a vector quantity. X indicates the x-axis component of the vector.</li>      </il>\n",
       "    </ul>\n",
       "</ul>"
      ],
      "text/plain": [
       "<StandardName: \"x_velocity\" [m/s] Velocity refers to the change of position over time. Velocity is a vector quantity. X indicates the x-axis component of the vector.>"
      ]
     },
     "execution_count": 12,
     "metadata": {},
     "output_type": "execute_result"
    }
   ],
   "source": [
    "snt['x_velocity']"
   ]
  },
  {
   "cell_type": "markdown",
   "id": "0652b4e4-850b-4d23-abbd-6a04726f9597",
   "metadata": {},
   "source": [
    "#### Apply a mathematical operation\n",
    "\n",
    "During processing of data, often times datasets are transformed in with mathematical function like taking the square or applying a derivative of one quantity with respect to (wrt) another one. Some mathemtaical operations like these are supported in the version, e.g.:"
   ]
  },
  {
   "cell_type": "code",
   "execution_count": 13,
   "id": "8c04d645-d666-4c55-9247-bb2bdc80734a",
   "metadata": {},
   "outputs": [
    {
     "data": {
      "text/html": [
       "<ul style=\"list-style-type: none;\" class=\"h5grp-sections\">\n",
       "    <li>\n",
       "        <input id=\"group-derivative_of_x_velocity_wrt_x_coordinate5938716400\" type=\"checkbox\" checked>\n",
       "        <label style=\"font-weight: bold\" for=\"group-derivative_of_x_velocity_wrt_x_coordinate5938716400\">\n",
       "        derivative_of_x_velocity_wrt_x_coordinate</label>\n",
       "        <ul class=\"h5tb-attr-list\">\n",
       "           <li style=\"list-style-type: none; font-style: italic\">units : 1/s</li>           <li style=\"list-style-type: none; font-style: italic\">description : Derivative of x_velocity with respect to x_coordinate. Velocity refers to the change of position over time. Velocity is a vector quantity. X indicates the x-axis component of the vector. Coordinate refers to the spatial coordinate. Coordinate is a vector quantity. X indicates the x-axis component of the vector.</li>      </il>\n",
       "    </ul>\n",
       "</ul>"
      ],
      "text/plain": [
       "<StandardName: \"derivative_of_x_velocity_wrt_x_coordinate\" [1/s] Derivative of x_velocity with respect to x_coordinate. Velocity refers to the change of position over time. Velocity is a vector quantity. X indicates the x-axis component of the vector. Coordinate refers to the spatial coordinate. Coordinate is a vector quantity. X indicates the x-axis component of the vector.>"
      ]
     },
     "execution_count": 13,
     "metadata": {},
     "output_type": "execute_result"
    }
   ],
   "source": [
    "snt['derivative_of_x_velocity_wrt_x_coordinate']"
   ]
  },
  {
   "cell_type": "code",
   "execution_count": 14,
   "id": "1214cbb8-0ce9-4a06-bef3-c760f565fbba",
   "metadata": {},
   "outputs": [
    {
     "data": {
      "text/html": [
       "<ul style=\"list-style-type: none;\" class=\"h5grp-sections\">\n",
       "    <li>\n",
       "        <input id=\"group-square_of_static_pressure5953409400\" type=\"checkbox\" checked>\n",
       "        <label style=\"font-weight: bold\" for=\"group-square_of_static_pressure5953409400\">\n",
       "        square_of_static_pressure</label>\n",
       "        <ul class=\"h5tb-attr-list\">\n",
       "           <li style=\"list-style-type: none; font-style: italic\">units : Pa**2</li>           <li style=\"list-style-type: none; font-style: italic\">description : Square of static_pressure. Static pressure refers to the force per unit area exerted by a fluid. Pressure is a scalar quantity.</li>      </il>\n",
       "    </ul>\n",
       "</ul>"
      ],
      "text/plain": [
       "<StandardName: \"square_of_static_pressure\" [Pa**2] Square of static_pressure. Static pressure refers to the force per unit area exerted by a fluid. Pressure is a scalar quantity.>"
      ]
     },
     "execution_count": 14,
     "metadata": {},
     "output_type": "execute_result"
    }
   ],
   "source": [
    "snt['square_of_static_pressure']"
   ]
  },
  {
   "cell_type": "code",
   "execution_count": 15,
   "id": "9e52b5c0-ef1b-45b0-a407-f21cf57725f7",
   "metadata": {},
   "outputs": [
    {
     "data": {
      "text/html": [
       "<ul style=\"list-style-type: none;\" class=\"h5grp-sections\">\n",
       "    <li>\n",
       "        <input id=\"group-arithmetic_mean_of_static_pressure5967643500\" type=\"checkbox\" checked>\n",
       "        <label style=\"font-weight: bold\" for=\"group-arithmetic_mean_of_static_pressure5967643500\">\n",
       "        arithmetic_mean_of_static_pressure</label>\n",
       "        <ul class=\"h5tb-attr-list\">\n",
       "           <li style=\"list-style-type: none; font-style: italic\">units : Pa</li>           <li style=\"list-style-type: none; font-style: italic\">description : Arithmetic mean of static_pressure. Static pressure refers to the force per unit area exerted by a fluid. Pressure is a scalar quantity.</li>      </il>\n",
       "    </ul>\n",
       "</ul>"
      ],
      "text/plain": [
       "<StandardName: \"arithmetic_mean_of_static_pressure\" [Pa] Arithmetic mean of static_pressure. Static pressure refers to the force per unit area exerted by a fluid. Pressure is a scalar quantity.>"
      ]
     },
     "execution_count": 15,
     "metadata": {},
     "output_type": "execute_result"
    }
   ],
   "source": [
    "snt['arithmetic_mean_of_static_pressure']"
   ]
  },
  {
   "cell_type": "markdown",
   "id": "75829775-75a0-4a71-95fd-22904df4ed37",
   "metadata": {},
   "source": [
    "## Usage with HDF5 files\n",
    "\n",
    "Let's apply the convention to HDF5 files. We lazyly take the existing tutorial convention and remove some standard attributes in order to limit the example to the relevant attributes of the standard name convention:"
   ]
  },
  {
   "cell_type": "code",
   "execution_count": 16,
   "id": "380c7cf8-5285-417f-9f98-5e3f13884e73",
   "metadata": {},
   "outputs": [
    {
     "name": "stdout",
     "output_type": "stream",
     "text": [
      "Convention \"h5rdmtoolbox-tutorial-convention\" filename: C:\\Users\\da4323\\AppData\\Local\\h5rdmtoolbox\\h5rdmtoolbox\\cache\\10.5281_zenodo.8357399\n",
      "creating directory for the convention\n",
      "No special functions defined\n",
      "Found 0 function(s) in C:\\Users\\da4323\\AppData\\Local\\h5rdmtoolbox\\h5rdmtoolbox\\conventions\\h5rdmtoolbox_tutorial_convention\\h5rdmtoolbox_tutorial_convention.py\n"
     ]
    },
    {
     "data": {
      "text/plain": [
       "\u001b[1mConvention(\"standard name convention\")\u001b[0m\n",
       "contact: https://orcid.org/0000-0001-8729-0482\n",
       "  File.__init__():\n",
       "    * \u001b[3mstandard_name_table\u001b[0m (default=<h5rdmtoolbox.convention.consts.DefaultValue object at 0x000001CBD2CD2100>):\n",
       "\t\tThe standard name table of the convention.\n",
       "  Group.create_dataset():\n",
       "    * \u001b[3mscale\u001b[0m (default=None):\n",
       "\t\tScale factor for the dataset values.\n",
       "    * \u001b[3moffset\u001b[0m (default=None):\n",
       "\t\tThe offset of the dataset.\n",
       "    * \u001b[3munits\u001b[0m (default=None):\n",
       "\t\tThe physical unit of the dataset. If dimensionless, the unit is ''.\n",
       "    * \u001b[3mstandard_name\u001b[0m (default=None):\n",
       "\t\tStandard name of the dataset. If not set, the long_name attribute must be given.\n",
       "    * \u001b[3mlong_name\u001b[0m (default=None):\n",
       "\t\tAn comprehensive description of the dataset. If not set, the standard_name attribute must be given.\n",
       "  Group.create_group(): (\u001b[3mNothing registered\u001b[0m)"
      ]
     },
     "execution_count": 16,
     "metadata": {},
     "output_type": "execute_result"
    }
   ],
   "source": [
    "zenodo_cv = h5tbx.convention.from_zenodo('https://zenodo.org/record/8357399')\n",
    "sn_cv = zenodo_cv.pop('contact', 'comment', 'references', 'data_type')\n",
    "sn_cv.name = 'standard name convention'\n",
    "sn_cv.register()\n",
    "\n",
    "h5tbx.use(sn_cv)\n",
    "sn_cv"
   ]
  },
  {
   "cell_type": "markdown",
   "id": "79d6d6a4-fa74-475d-985a-aa9fb80f481d",
   "metadata": {},
   "source": [
    "Find out about the available standard names: We do this by creating a file and retrieving the attribute`standard_name_table`. Based on the convention, it is set by default, so it is available without explicitly setting it:"
   ]
  },
  {
   "cell_type": "code",
   "execution_count": 17,
   "id": "710cbde5-3c3f-4c68-8a7e-5492f2ee3e87",
   "metadata": {},
   "outputs": [
    {
     "name": "stdout",
     "output_type": "stream",
     "text": [
      "The available (base) standard names are:  ['coordinate', 'static_pressure', 'time', 'velocity']\n"
     ]
    }
   ],
   "source": [
    "with h5tbx.File() as h5:\n",
    "    snt = (h5.standard_name_table)\n",
    "\n",
    "print('The available (base) standard names are: ', snt.names)"
   ]
  },
  {
   "cell_type": "markdown",
   "id": "96aaf313-11d0-45c1-a5bb-543a6da46945",
   "metadata": {},
   "source": [
    "One possible dataset based on the standard name table could be \"x_velocity\". This is possible, because *component* is available in the list of **affixes**. Based on the transformation pattern, it is clear the \"component\" is a **prefix**. \"x\" is within the available components, so \"x_velocity\" is a valid transformed standard name from the given table:"
   ]
  },
  {
   "cell_type": "code",
   "execution_count": 18,
   "id": "9dc045e8-3c61-4cd8-ba4a-3e2d50df4558",
   "metadata": {},
   "outputs": [
    {
     "name": "stdout",
     "output_type": "stream",
     "text": [
      "Available affixes:  dict_keys(['device', 'location', 'reference_frame', 'component'])\n",
      "\n",
      "Values for the component prefix:\n"
     ]
    },
    {
     "data": {
      "text/plain": [
       "<Affix: name=\"component\", description=\"Components are prefixes to the standard_name, e.g. x_velocity.\" transformation_pattern=^(.*)_(.*)$, values=['x', 'y', 'z']>"
      ]
     },
     "execution_count": 18,
     "metadata": {},
     "output_type": "execute_result"
    }
   ],
   "source": [
    "print('Available affixes: ', snt.affixes.keys())\n",
    "\n",
    "print('\\nValues for the component prefix:')\n",
    "snt.affixes['component']"
   ]
  },
  {
   "cell_type": "markdown",
   "id": "45ff1a5d-f98c-4f29-b39c-ba94fd94eba5",
   "metadata": {},
   "source": [
    "Let's access the name from the table. It exists and the description is adjusted, too:"
   ]
  },
  {
   "cell_type": "code",
   "execution_count": 19,
   "id": "f27c8aa3-c074-4b69-ae35-f29b43bde04b",
   "metadata": {},
   "outputs": [
    {
     "data": {
      "text/html": [
       "<ul style=\"list-style-type: none;\" class=\"h5grp-sections\">\n",
       "    <li>\n",
       "        <input id=\"group-x_velocity6109104700\" type=\"checkbox\" checked>\n",
       "        <label style=\"font-weight: bold\" for=\"group-x_velocity6109104700\">\n",
       "        x_velocity</label>\n",
       "        <ul class=\"h5tb-attr-list\">\n",
       "           <li style=\"list-style-type: none; font-style: italic\">units : m/s</li>           <li style=\"list-style-type: none; font-style: italic\">description : Velocity refers to the change of position over time. Velocity is a vector quantity. X indicates the x-axis component of the vector.</li>      </il>\n",
       "    </ul>\n",
       "</ul>"
      ],
      "text/plain": [
       "<StandardName: \"x_velocity\" [m/s] Velocity refers to the change of position over time. Velocity is a vector quantity. X indicates the x-axis component of the vector.>"
      ]
     },
     "execution_count": 19,
     "metadata": {},
     "output_type": "execute_result"
    }
   ],
   "source": [
    "snt['x_velocity']"
   ]
  },
  {
   "cell_type": "markdown",
   "id": "57146951-aae0-4293-898d-325af8d60799",
   "metadata": {},
   "source": [
    "Creating a x-velocity dataset:"
   ]
  },
  {
   "cell_type": "code",
   "execution_count": 20,
   "id": "9de466f1-a31c-4067-91a4-6562d1389ceb",
   "metadata": {},
   "outputs": [
    {
     "data": {
      "text/html": [
       "<head><style>/*\r\n",
       "CSS inspired by xarray: https://github.com/pydata/xarray\r\n",
       "*/\r\n",
       ".h5tb-header > div,\r\n",
       ".h5tb-header > ul {\r\n",
       "    display: inline;\r\n",
       "    margin-top: 0;\r\n",
       "    margin-bottom: 0;\r\n",
       "}\r\n",
       "\r\n",
       ".h5tb-dataarray-cls,\r\n",
       ".h5tb-dataarray-name {\r\n",
       "    margin-left: 2px;\r\n",
       "    margin-right: 10px;\r\n",
       "}\r\n",
       "\r\n",
       ".h5tb-dataarray-name {\r\n",
       "    color: #000;\r\n",
       "}\r\n",
       "\r\n",
       ".h5grp-sections {\r\n",
       "    list-style: none;\r\n",
       "    padding: 3px;\r\n",
       "    margin: 0;\r\n",
       "}\r\n",
       "\r\n",
       ".h5grp-sections input {\r\n",
       "    display: none;\r\n",
       "}\r\n",
       "\r\n",
       ".h5grp-sections label {\r\n",
       "    display: inline;\r\n",
       "}\r\n",
       "\r\n",
       ".h5grp-sections > li > input + label > span {\r\n",
       "    display: inline;\r\n",
       "    margin-left: 4px;\r\n",
       "}\r\n",
       "\r\n",
       ".h5grp-sections > li > input:checked + label > span {\r\n",
       "    display: none;\r\n",
       "}\r\n",
       "\r\n",
       ".h5grp-sections input:enabled + label {\r\n",
       "    cursor: pointer;\r\n",
       "}\r\n",
       "\r\n",
       ".h5grp-sections input:not(.h5tb-values-in) ~ ul {\r\n",
       "    display: none;\r\n",
       "}\r\n",
       "\r\n",
       ".h5grp-sections input:not(.h5tb-values-in):checked ~ ul {\r\n",
       "    display: block;\r\n",
       "}\r\n",
       "\r\n",
       ".h5grp-sections > li > input + label {\r\n",
       "    width: 140px;\r\n",
       "    color: #555;\r\n",
       "    font-weight: 500;\r\n",
       "    padding: 4px 0 2px 0;\r\n",
       "}\r\n",
       "\r\n",
       "\r\n",
       ".h5grp-sections > li > input + label:before {\r\n",
       "    display: inline-block;\r\n",
       "    content: '+';\r\n",
       "    font-size: 11px;\r\n",
       "    width: 15px;\r\n",
       "    text-align: center;\r\n",
       "}\r\n",
       "\r\n",
       ".h5grp-sections > li > input:disabled + label:before {\r\n",
       "    color: #777;\r\n",
       "}\r\n",
       "\r\n",
       ".h5grp-sections > li > input:checked + label:before {\r\n",
       "    content: '-';\r\n",
       "}\r\n",
       "\r\n",
       ".h5tb-dim-list {\r\n",
       "    display: inline-block !important;\r\n",
       "    list-style: none;\r\n",
       "    padding: 0;\r\n",
       "}\r\n",
       "\r\n",
       ".h5tb-dim-list li {\r\n",
       "    display: inline-block;\r\n",
       "    padding: 0;\r\n",
       "    margin: 0;\r\n",
       "}\r\n",
       "\r\n",
       ".h5tb-dim-list:before {\r\n",
       "    content: '(';\r\n",
       "}\r\n",
       "\r\n",
       ".h5tb-dim-list:after {\r\n",
       "    content: ')';\r\n",
       "}\r\n",
       "\r\n",
       ".h5tb-dim-list li:not(:last-child):after {\r\n",
       "    content: ',';\r\n",
       "}\r\n",
       "\r\n",
       ".h5tb-has-index {\r\n",
       "    text-decoration: underline;\r\n",
       "}\r\n",
       "\r\n",
       ".h5tb-var-list {\r\n",
       "    list-style: none;\r\n",
       "    padding: 0;\r\n",
       "    margin: 0;\r\n",
       "}\r\n",
       "\r\n",
       ".h5tb-var-list > li {\r\n",
       "    background-color: #fcfcfc;\r\n",
       "    overflow: hidden;\r\n",
       "}\r\n",
       "\r\n",
       ".h5tb-var-list > li:nth-child(odd) {\r\n",
       "    background-color: #efefef;\r\n",
       "}\r\n",
       "\r\n",
       ".h5tb-var-list li:hover {\r\n",
       "    background-color: rgba(3, 169, 244, .2);\r\n",
       "}\r\n",
       "\r\n",
       ".h5tb-var-list li > span {\r\n",
       "    display: inline-block;\r\n",
       "}\r\n",
       "\r\n",
       "input.h5tb-varname-in + label {\r\n",
       "    width: 140px;\r\n",
       "    padding-left: 0;\r\n",
       "    font-weight: bold;\r\n",
       "}\r\n",
       "\r\n",
       ".h5tb-dataset {\r\n",
       "    width: 100px;\r\n",
       "}\r\n",
       "\r\n",
       ".h5tb-attributevalue {\r\n",
       "    width: 100px;\r\n",
       "    text-align: left;\r\n",
       "    color: #888;\r\n",
       "    white-space: nowrap;\r\n",
       "    font-size: 12px;\r\n",
       "}\r\n",
       "\r\n",
       "input.h5tb-varname-in + label:before {\r\n",
       "    content: ' ';\r\n",
       "    display: inline-block;\r\n",
       "    font-size: 11px;\r\n",
       "    width: 15px;\r\n",
       "    padding-left: 2px;\r\n",
       "    padding-right: 2px;\r\n",
       "    text-align: center;\r\n",
       "    color: #aaa;\r\n",
       "    text-decoration: none !important;\r\n",
       "}\r\n",
       "\r\n",
       "input.h5tb-varname-in:enabled + label:hover:before {\r\n",
       "    color: #000;\r\n",
       "}\r\n",
       "\r\n",
       "input.h5tb-varname-in:checked + label:before {\r\n",
       "    color: #ccc;\r\n",
       "}\r\n",
       "\r\n",
       ".h5tb-dims {\r\n",
       "    width: 280px;\r\n",
       "    white-space: nowrap;\r\n",
       "}\r\n",
       "\r\n",
       ".h5tb-attr-list {\r\n",
       "    list-style: none;\r\n",
       "    background-color: rgba(0,0,0,.0);\r\n",
       "    padding-bottom: 6px;\r\n",
       "    color: #6a6c73;\r\n",
       "}\r\n",
       "\r\n",
       ".h5tb-attr-list li,\r\n",
       ".h5tb-attr-list li:hover {\r\n",
       "    background-color: rgba(0,0,0,.0);\r\n",
       "}</style></head>\n",
       "<div class='h5tb-warp'>\n",
       "\n",
       "              <ul style=\"list-style-type: none;\" class=\"h5grp-sections\">\n",
       "                    <li>\n",
       "                        <input id=\"group-ds--6144667600\" type=\"checkbox\" checked>\n",
       "                        <label style=\"font-weight: bold\" for=\"group-ds--6144667600\">\n",
       "                        /<span>(1)</span></label>\n",
       "                  \n",
       "\n",
       "                    <ul class=\"h5tb-attr-list\"><li style=\"list-style-type: none; font-style: italic\">__h5rdmtoolbox_version__ : 0.9.0a0</li><li style=\"list-style-type: none; font-style: italic\">standard_name_table : <li style=\"list-style-type: none; font-style: italic\">StandardNameTable: (institution: my_institution, contact: https://orcid.org/0000-0001-8729-0482, valid_characters: [^a-zA-Z0-9_], pattern: ^[0-9 ].*, last_modified: 2023-08-16_11:05:00, version: v1.1, zenodo_doi: 10.5281/zenodo.8276716)</li></li>\n",
       "                    </ul>\n",
       "\n",
       "                <ul id=\"ds-1-/u-6146480400\" class=\"h5tb-var-list\">\n",
       "                    <input id=\"ds-2-/u-6146483000\" class=\"h5tb-varname-in\" type=\"checkbox\">\n",
       "                    <label class='h5tb-varname' for=\"ds-2-/u-6146483000\">u</label>\n",
       "                    <span class=\"h5tb-dims\">(3) [int32]</span>\n",
       "                <ul class=\"h5tb-attr-list\"><li style=\"list-style-type: none; font-style: italic\">standard_name : <ul style=\"list-style-type: none;\" class=\"h5grp-sections\">\n",
       "    <li>\n",
       "        <input id=\"group-x_velocity6147826900\" type=\"checkbox\" checked>\n",
       "        <label style=\"font-weight: bold\" for=\"group-x_velocity6147826900\">\n",
       "        x_velocity</label>\n",
       "        <ul class=\"h5tb-attr-list\">\n",
       "           <li style=\"list-style-type: none; font-style: italic\">units : m/s</li>           <li style=\"list-style-type: none; font-style: italic\">description : Velocity refers to the change of position over time. Velocity is a vector quantity. X indicates the x-axis component of the vector.</li>      </il>\n",
       "    </ul>\n",
       "</ul></li><li style=\"list-style-type: none; font-style: italic\">units : km/s</li>\n",
       "                </ul>\n",
       "                </ul>\n",
       "</li>\n",
       "</ul>\n",
       "</div>"
      ],
      "text/plain": [
       "<IPython.core.display.HTML object>"
      ]
     },
     "metadata": {},
     "output_type": "display_data"
    }
   ],
   "source": [
    "with h5tbx.File() as h5:\n",
    "    h5.create_dataset('u', data=[1,2,3], standard_name='x_velocity', units='km/s')\n",
    "    h5.dump()"
   ]
  }
 ],
 "metadata": {
  "kernelspec": {
   "display_name": "Python 3 (ipykernel)",
   "language": "python",
   "name": "python3"
  },
  "language_info": {
   "codemirror_mode": {
    "name": "ipython",
    "version": 3
   },
   "file_extension": ".py",
   "mimetype": "text/x-python",
   "name": "python",
   "nbconvert_exporter": "python",
   "pygments_lexer": "ipython3",
   "version": "3.8.18"
  }
 },
 "nbformat": 4,
 "nbformat_minor": 5
}
