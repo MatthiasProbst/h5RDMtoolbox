{
 "cells": [
  {
   "cell_type": "markdown",
   "id": "07b57795-4dd2-40b0-86ee-0a4281b7ff4f",
   "metadata": {},
   "source": [
    "# 04 Layouts\n",
    "\n",
    "Layouts are defined by a list of query statements. The query functions are build with the toolbox's HDF5 query feature:"
   ]
  },
  {
   "cell_type": "code",
   "execution_count": 14,
   "id": "a28d47fe-725d-4649-9136-bad1b1ea3d74",
   "metadata": {},
   "outputs": [],
   "source": [
    "import h5rdmtoolbox as h5tbx\n",
    "from h5rdmtoolbox import layout\n",
    "from h5rdmtoolbox.database import FileDB"
   ]
  },
  {
   "cell_type": "code",
   "execution_count": 17,
   "id": "3087e8c4-23e3-450d-be1a-3d1d5701fb58",
   "metadata": {},
   "outputs": [],
   "source": [
    "# with h5tbx.File('vortex_pair.hdf') as h5:\n",
    "#     h5.dump()"
   ]
  },
  {
   "cell_type": "code",
   "execution_count": 18,
   "id": "30dcd859-2448-43ab-b4fc-9af16507fcb7",
   "metadata": {},
   "outputs": [],
   "source": [
    "lay = layout.Layout()"
   ]
  },
  {
   "cell_type": "code",
   "execution_count": 19,
   "id": "82296ddd-dc57-4bf1-a5c8-e7808ccc06ee",
   "metadata": {},
   "outputs": [],
   "source": [
    "spec_all_dataset = lay.add(\n",
    "    FileDB.find,\n",
    "    flt={},\n",
    "    objfilter='dataset',\n",
    "    n={'$gte': 1},\n",
    "    description='At least one dataset exists'\n",
    ")"
   ]
  },
  {
   "cell_type": "code",
   "execution_count": 20,
   "id": "232a6ba9-2a0b-49d4-a21c-97ec56600299",
   "metadata": {},
   "outputs": [
    {
     "data": {
      "text/plain": [
       "[LayoutSpecification(description=\"At least one dataset exists\", kwargs={'flt': {}, 'objfilter': 'dataset'})]"
      ]
     },
     "execution_count": 20,
     "metadata": {},
     "output_type": "execute_result"
    }
   ],
   "source": [
    "lay.specifications"
   ]
  },
  {
   "cell_type": "code",
   "execution_count": 21,
   "id": "7d948852-caf2-4302-a74f-498da0ba7ce4",
   "metadata": {},
   "outputs": [],
   "source": [
    "res = lay.validate(h5.hdf_filename)"
   ]
  },
  {
   "cell_type": "code",
   "execution_count": 22,
   "id": "64544724-86b7-40ae-9215-c84084aabcf3",
   "metadata": {},
   "outputs": [
    {
     "data": {
      "text/plain": [
       "True"
      ]
     },
     "execution_count": 22,
     "metadata": {},
     "output_type": "execute_result"
    }
   ],
   "source": [
    "res.is_valid()"
   ]
  },
  {
   "cell_type": "code",
   "execution_count": 23,
   "id": "ea80bd83-078e-48b7-a671-fbd1aae1f6b4",
   "metadata": {},
   "outputs": [],
   "source": [
    "spec_compression = spec_all_dataset.add(\n",
    "    FileDB.find,  # query function\n",
    "    flt={'$compression': 'gzip'},  # query parameter\n",
    "    n=1,\n",
    "    description='Compression of any dataset is \"gzip\"'\n",
    ")"
   ]
  },
  {
   "cell_type": "code",
   "execution_count": 24,
   "id": "0e200c55-b30c-4f70-b996-a6614d1917f5",
   "metadata": {},
   "outputs": [],
   "source": [
    "spec_compression = spec_all_dataset.add(\n",
    "    FileDB.find,  # query function\n",
    "    flt={'units': {'$exists': True}},  # query parameter\n",
    "    n=1,\n",
    "    description='Dataset has unit attribute'\n",
    ")"
   ]
  },
  {
   "cell_type": "code",
   "execution_count": 25,
   "id": "0e9ad379-bed8-4536-b3bd-4fb3e6de2c1e",
   "metadata": {},
   "outputs": [
    {
     "data": {
      "text/plain": [
       "[LayoutSpecification(description=\"At least one dataset exists\", kwargs={'flt': {}, 'objfilter': 'dataset'})]"
      ]
     },
     "execution_count": 25,
     "metadata": {},
     "output_type": "execute_result"
    }
   ],
   "source": [
    "lay.specifications"
   ]
  },
  {
   "cell_type": "code",
   "execution_count": 26,
   "id": "f8e0eb40-9369-486f-bd82-2804bcca6870",
   "metadata": {},
   "outputs": [
    {
     "name": "stderr",
     "output_type": "stream",
     "text": [
      "2024-05-03_21:40:10,726 ERROR    [core.py:325] Applying spec. \"LayoutSpecification(description=\"Compression of any dataset is \"gzip\"\", kwargs={'flt': {'$compression': 'gzip'}})\" failed due to not matching the number of results: 1 != 0\n",
      "2024-05-03_21:40:10,738 ERROR    [core.py:325] Applying spec. \"LayoutSpecification(description=\"Dataset has unit attribute\", kwargs={'flt': {'units': {'$exists': True}}})\" failed due to not matching the number of results: 1 != 0\n",
      "2024-05-03_21:40:10,756 ERROR    [core.py:325] Applying spec. \"LayoutSpecification(description=\"Compression of any dataset is \"gzip\"\", kwargs={'flt': {'$compression': 'gzip'}})\" failed due to not matching the number of results: 1 != 0\n",
      "2024-05-03_21:40:10,854 ERROR    [core.py:325] Applying spec. \"LayoutSpecification(description=\"Compression of any dataset is \"gzip\"\", kwargs={'flt': {'$compression': 'gzip'}})\" failed due to not matching the number of results: 1 != 0\n",
      "2024-05-03_21:40:10,859 ERROR    [core.py:325] Applying spec. \"LayoutSpecification(description=\"Compression of any dataset is \"gzip\"\", kwargs={'flt': {'$compression': 'gzip'}})\" failed due to not matching the number of results: 1 != 0\n",
      "2024-05-03_21:40:10,866 ERROR    [core.py:325] Applying spec. \"LayoutSpecification(description=\"Compression of any dataset is \"gzip\"\", kwargs={'flt': {'$compression': 'gzip'}})\" failed due to not matching the number of results: 1 != 0\n"
     ]
    }
   ],
   "source": [
    "res = lay.validate(h5.hdf_filename)"
   ]
  },
  {
   "cell_type": "code",
   "execution_count": 27,
   "id": "defc5551-afe6-4f4b-a80d-404284bf9c05",
   "metadata": {},
   "outputs": [
    {
     "name": "stdout",
     "output_type": "stream",
     "text": [
      "\n",
      "Summary of layout validation\n",
      "+--------+------------------------+--------------------------------------+---------------+-------------------------------------+\n",
      "|   flag | flag description       | description                          | target_type   | target_name                         |\n",
      "|--------+------------------------+--------------------------------------+---------------+-------------------------------------|\n",
      "|     10 | FAILED, INVALID_NUMBER | Compression of any dataset is \"gzip\" | Dataset       | /parameters/x_final_iw_size         |\n",
      "|     10 | FAILED, INVALID_NUMBER | Compression of any dataset is \"gzip\" | Dataset       | /parameters/y_final_iw_overlap_size |\n",
      "|     10 | FAILED, INVALID_NUMBER | Compression of any dataset is \"gzip\" | Dataset       | /parameters/x_final_iw_overlap_size |\n",
      "|     10 | FAILED, INVALID_NUMBER | Compression of any dataset is \"gzip\" | Dataset       | /z                                  |\n",
      "|     10 | FAILED, INVALID_NUMBER | Compression of any dataset is \"gzip\" | Dataset       | /parameters/y_final_iw_size         |\n",
      "|     10 | FAILED, INVALID_NUMBER | Dataset has unit attribute           | Dataset       | /piv_flags                          |\n",
      "+--------+------------------------+--------------------------------------+---------------+-------------------------------------+\n",
      "--> Layout validation found issues!\n"
     ]
    }
   ],
   "source": [
    "res.print_summary(exclude_keys=['called', 'kwargs', 'func', 'id'], failed_only=True)"
   ]
  },
  {
   "cell_type": "code",
   "execution_count": null,
   "id": "e43abf61-c9cf-4990-8e5e-15142e380e6c",
   "metadata": {},
   "outputs": [],
   "source": []
  }
 ],
 "metadata": {
  "kernelspec": {
   "display_name": "Python 3 (ipykernel)",
   "language": "python",
   "name": "python3"
  },
  "language_info": {
   "codemirror_mode": {
    "name": "ipython",
    "version": 3
   },
   "file_extension": ".py",
   "mimetype": "text/x-python",
   "name": "python",
   "nbconvert_exporter": "python",
   "pygments_lexer": "ipython3",
   "version": "3.8.19"
  }
 },
 "nbformat": 4,
 "nbformat_minor": 5
}
