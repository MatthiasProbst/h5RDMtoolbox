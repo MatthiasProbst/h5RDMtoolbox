{
 "cells": [
  {
   "cell_type": "markdown",
   "id": "a7e60170-28a1-49ff-a53f-89a9f4a5d764",
   "metadata": {},
   "source": [
    "# 02 Conventions\n",
    "\n",
    "Conventions as part of the `h5rdmtoolbox` are expected attributes"
   ]
  },
  {
   "cell_type": "code",
   "execution_count": 1,
   "id": "3801c6c3-c31c-484c-825e-c11c530de418",
   "metadata": {},
   "outputs": [
    {
     "name": "stdout",
     "output_type": "stream",
     "text": [
      "Failed to import module h5tbx\n"
     ]
    }
   ],
   "source": [
    "import h5rdmtoolbox as h5tbx"
   ]
  },
  {
   "cell_type": "code",
   "execution_count": null,
   "id": "3a5e7892-2c74-4a59-822a-a81ed40c0105",
   "metadata": {},
   "outputs": [],
   "source": []
  }
 ],
 "metadata": {
  "kernelspec": {
   "display_name": "Python 3 (ipykernel)",
   "language": "python",
   "name": "python3"
  },
  "language_info": {
   "codemirror_mode": {
    "name": "ipython",
    "version": 3
   },
   "file_extension": ".py",
   "mimetype": "text/x-python",
   "name": "python",
   "nbconvert_exporter": "python",
   "pygments_lexer": "ipython3",
   "version": "3.8.19"
  }
 },
 "nbformat": 4,
 "nbformat_minor": 5
}
